{
 "cells": [
  {
   "cell_type": "markdown",
   "metadata": {},
   "source": [
    "This tutorial walks you through using the GizmoAnalysis package to read Gizmo simulation snapshots and analyzing them.\n",
    "\n",
    "@author:\n",
    "    Andrew Wetzel <arwetzel@gmail.com>\n",
    "    Andrew Emerick <aemerick11@gmail.com>\n",
    "\n",
    "First, move within a simulation directory, or set simulation_directory below to point to one. This directory should contain:\n",
    "(1) a sub-directory 'output/' that contains Gizmo snapshot files: snapshot_*.hdf5 or snapdir_*/snapshot_*.*.hdf5\n",
    "(2) a text file 'snapshot_times.txt' that lists the scale-factors, redshifts, times, and indices of all snapshots stored from the simulation\n",
    "(3) optionally (but ideally) an 'initial_condition/' directory that contains a MUSIC configuration file named '*.conf' that stores all 6 cosmological parameters. if the simulation directory does not contain, this, GizmoAnalysis will assume the same cosmological parameters as in the AGORA simulation.\n",
    "\n",
    "Ensure that the gizmo_analysis and utilities package directories are in your python path, then..."
   ]
  },
  {
   "cell_type": "code",
   "execution_count": 5,
   "metadata": {},
   "outputs": [],
   "source": [
    "import gizmo_analysis as gizmo\n",
    "import utilities as ut\n",
    "\n",
    "import numpy as np\n",
    "\n",
    "%matplotlib inline\n",
    "import matplotlib.pyplot as plt"
   ]
  },
  {
   "cell_type": "code",
   "execution_count": null,
   "metadata": {},
   "outputs": [],
   "source": [
    "# you can access the files as named or use the aliases in __init__.py to keep it shorter \n",
    "# for example, these are the same:\n",
    "\n",
    "gizmo.gizmo_io\n",
    "gizmo.io"
   ]
  },
  {
   "cell_type": "markdown",
   "metadata": {},
   "source": [
    "# read particle data"
   ]
  },
  {
   "cell_type": "code",
   "execution_count": 1,
   "metadata": {},
   "outputs": [],
   "source": [
    "# we recommend that you copy this jupyter notebook tutorial into a simulation directory \n",
    "# (for example, m12i_res7100/) and run from there.\n",
    "# however, you can set simulation_directory below to point to any simulation directory and then run this notebook from anywhere\n",
    "\n",
    "# use this is you are running from within a simulation directory\n",
    "#simulation_directory = '.'\n",
    "\n",
    "# use this to point to a specific simulation directory, if you run this notebook from somwhere else\n",
    "simulation_directory = '/Users/awetzel/work/research/simulation/gizmo/simulations/m12/m12i/m12i_res57000'"
   ]
  },
  {
   "cell_type": "code",
   "execution_count": null,
   "metadata": {},
   "outputs": [],
   "source": [
    "# read star and dark-matter particles at z = 0\n",
    "\n",
    "part = gizmo.io.Read.read_snapshots(['star', 'dark'], 'redshift', 0, simulation_directory)"
   ]
  },
  {
   "cell_type": "code",
   "execution_count": null,
   "metadata": {},
   "outputs": [],
   "source": [
    "# alternately, read all particle species at z = 0\n",
    "\n",
    "part = gizmo.io.Read.read_snapshots('all', 'redshift', 0, simulation_directory)"
   ]
  },
  {
   "cell_type": "code",
   "execution_count": null,
   "metadata": {},
   "outputs": [],
   "source": [
    "# part is a dictionary with each particle species name as key\n",
    "# 'star' = stars, 'gas' = gas, 'dark' = dark matter,\n",
    "# 'dark2', 'dark3', 'dark4', etc = low-resolution dark matter (you rarely will be interested in it)\n",
    "\n",
    "part.keys()"
   ]
  },
  {
   "cell_type": "code",
   "execution_count": null,
   "metadata": {},
   "outputs": [],
   "source": [
    "# each species is its own dictionary that contains arrays of properties\n",
    "\n",
    "part['star'].keys()"
   ]
  },
  {
   "cell_type": "code",
   "execution_count": null,
   "metadata": {},
   "outputs": [],
   "source": [
    "# list the properties of dark-matter particles\n",
    "\n",
    "part['dark'].keys()"
   ]
  },
  {
   "cell_type": "code",
   "execution_count": null,
   "metadata": {},
   "outputs": [],
   "source": [
    "# list the properties of gas particles\n",
    "\n",
    "part['gas'].keys()"
   ]
  },
  {
   "cell_type": "markdown",
   "metadata": {},
   "source": [
    "# particle properties"
   ]
  },
  {
   "cell_type": "code",
   "execution_count": null,
   "metadata": {},
   "outputs": [],
   "source": [
    "# 3-D position of each star particle, stored in a particle_number x dimension_number array [kpc comoving]\n",
    "\n",
    "part['star']['position']"
   ]
  },
  {
   "cell_type": "code",
   "execution_count": null,
   "metadata": {},
   "outputs": [],
   "source": [
    "# 3-D velocity of each star particle (particle_number x dimension_number array) [km / s]\n",
    "\n",
    "part['star']['velocity']"
   ]
  },
  {
   "cell_type": "code",
   "execution_count": null,
   "metadata": {},
   "outputs": [],
   "source": [
    "# mass of each star particle [M_sun]\n",
    "\n",
    "part['star']['mass']"
   ]
  },
  {
   "cell_type": "code",
   "execution_count": null,
   "metadata": {},
   "outputs": [],
   "source": [
    "# formation scale-factor of each star particle\n",
    "\n",
    "part['star']['form.scalefactor']"
   ]
  },
  {
   "cell_type": "code",
   "execution_count": null,
   "metadata": {},
   "outputs": [],
   "source": [
    "# IMPORTANT FEATURE\n",
    "# use .prop() to compute derived quantities, such as the time [in Gyr] when each star particle formed\n",
    "# see gizmo.io.ParticleDictionaryClass for all options for derived quantities\n",
    "\n",
    "part['star'].prop('form.time')"
   ]
  },
  {
   "cell_type": "code",
   "execution_count": null,
   "metadata": {},
   "outputs": [],
   "source": [
    "# similarly, get the age of each star particle (the lookback time to when it formed) [Gyr]\n",
    "\n",
    "part['star'].prop('age')"
   ]
  },
  {
   "cell_type": "code",
   "execution_count": null,
   "metadata": {},
   "outputs": [],
   "source": [
    "# get the mass of each star particle when it formed [Msun], using the stellar evolution tracks in Gizmo\n",
    "# this initially sets up an internally stored spline to compute this\n",
    "\n",
    "part['star'].prop('form.mass')"
   ]
  },
  {
   "cell_type": "markdown",
   "metadata": {},
   "source": [
    "# elemental abundances (metallicities)"
   ]
  },
  {
   "cell_type": "code",
   "execution_count": null,
   "metadata": {},
   "outputs": [],
   "source": [
    "# elemental abundances are stored in the particle catalog as linear mass fractions\n",
    "# one value for each element, in a particle_number x element_number array\n",
    "# the first value is the mass fraction of all metals (everything not H, He)\n",
    "# then He, C, N, O, etc\n",
    "\n",
    "part['star']['massfraction']"
   ]
  },
  {
   "cell_type": "code",
   "execution_count": null,
   "metadata": {},
   "outputs": [],
   "source": [
    "# get individual elements by their array index\n",
    "\n",
    "# total metal mass fraction (everything not H, He) is index 0\n",
    "print(part['star']['massfraction'][:, 0])\n",
    "\n",
    "# iron is index 10\n",
    "print(part['star']['massfraction'][:, 10])"
   ]
  },
  {
   "cell_type": "code",
   "execution_count": null,
   "metadata": {},
   "outputs": [],
   "source": [
    "# more conveniently, use .prop() to compute derived quantities, including calling element by its name or symbol\n",
    "# see gizmo.io.ParticleDictionaryClass for all options for derived quantities\n",
    "\n",
    "print(part['star'].prop('massfraction.metals'))\n",
    "print(part['star'].prop('massfraction.carbon'))\n",
    "print(part['star'].prop('massfraction.iron'))\n",
    "print(part['star'].prop('massfraction.fe'))  # you can use name or symbol"
   ]
  },
  {
   "cell_type": "code",
   "execution_count": null,
   "metadata": {},
   "outputs": [],
   "source": [
    "# also use .prop() to compute 'metallicity' [Z / H]\n",
    "# for example, iron abundance [Fe / H] :=\n",
    "#   log10((mass_iron / mass_hydrogen)_particle / (mass_iron / mass_hydrogen)_sun)\n",
    "# GizmoAnalysis assumes solar abundances from Asplund et al 2009\n",
    "\n",
    "print(part['star'].prop('metallicity.total'))\n",
    "print(part['star'].prop('metallicity.fe'))"
   ]
  },
  {
   "cell_type": "code",
   "execution_count": null,
   "metadata": {},
   "outputs": [],
   "source": [
    "# you also can use .prop() to compute simple arithmetic combinations, such as [Mg / Fe]\n",
    "\n",
    "part['star'].prop('metallicity.mg - metallicity.fe')"
   ]
  },
  {
   "cell_type": "code",
   "execution_count": null,
   "metadata": {},
   "outputs": [],
   "source": [
    "# refer to utilities.basic.constant for assumed solar values (Asplund et al 2009) and other constants\n",
    "\n",
    "ut.constant.sun_composition"
   ]
  },
  {
   "cell_type": "markdown",
   "metadata": {},
   "source": [
    "# meta-data about simulation"
   ]
  },
  {
   "cell_type": "markdown",
   "metadata": {},
   "source": [
    "The dictionary that stores the particle catalog is actually a dictionary class. It also stores meta-data about the simulation and ancillary data/functions via appended dictionaries, classes, and arrays."
   ]
  },
  {
   "cell_type": "code",
   "execution_count": null,
   "metadata": {},
   "outputs": [],
   "source": [
    "# dictionary of useful information about the simulation\n",
    "\n",
    "part.info"
   ]
  },
  {
   "cell_type": "code",
   "execution_count": null,
   "metadata": {},
   "outputs": [],
   "source": [
    "# dictionary of information about the snapshot that you read\n",
    "# its index (number), scale-factor, redshift, time, lookback-time\n",
    "\n",
    "part.snapshot"
   ]
  },
  {
   "cell_type": "code",
   "execution_count": null,
   "metadata": {},
   "outputs": [],
   "source": [
    "# dictionary class with information about *all* snapshots (typically ~600) saved for this simulation\n",
    "\n",
    "print(part.Snapshot.keys())\n",
    "print(part.Snapshot['redshift'][:10])"
   ]
  },
  {
   "cell_type": "code",
   "execution_count": null,
   "metadata": {},
   "outputs": [],
   "source": [
    "# dictionary class of cosmological parameters, with internal functions for cosmological conversions\n",
    "# see utilities.cosmology for more\n",
    "\n",
    "part.Cosmology"
   ]
  },
  {
   "cell_type": "markdown",
   "metadata": {},
   "source": [
    "See gizmo_plot.py (which you can access here via gizmo.plot) for examples of analyzing and plotting particle data.\n",
    "\n",
    "See utilities/particle.py (which you can acces here via ut.particle) for mid-level analysis functions that may be useful.\n",
    "\n",
    "See other modules within utilities for low-level functions that may be useful."
   ]
  },
  {
   "cell_type": "markdown",
   "metadata": {},
   "source": [
    "# coordinates of host galaxy/halo and principal axes of stellar disk"
   ]
  },
  {
   "cell_type": "markdown",
   "metadata": {},
   "source": [
    "If you enable gizmo.io.Read.read_snapshots(assign_hosts=True) (which is True by default), then during read-in, GizmoAnalysis assigns the position and velocity of the host galaxy/halo (using stars for a baryonic simulations and dark matter for a dark-matter-only simulation). GizmoAnalysis stores these coordinates in arrays appended to the particle dictionary.\n",
    "\n",
    "Most simulations have a single host galaxy/halo, but some (like ELVIS) contain 2 (or more). You can control the number of hosts via: read_snapshots(host_number=2) (by deafult, host_number=1).\n",
    "\n",
    "Once the code assigns the coordinates of each host, it also can compute the 'orientation' of the disk, by computing the rotation tensor and axis ratios of the principal axes of each host's stellar disk, defined via the moment of inertia tensor of young star particles. Enable this via: read_snapshots(assign_hosts_rotation=True) (by default, assign_hosts_rotation=False).\n",
    "\n",
    "If someone has run particle tracking on the simulation, including generating a file track/host_coordinates.hdf5, this stores the posiion, velocity, rotation tensor, and axis ratio of each host galaxy at each snapshot, so you do not have to re-compute during every read. If you set assign_hosts=True or assign_hosts_rotation=True in read_snapshots(), then GizmoAnalysis first will look for this file, and assign the host information stored in it, but if it does not find the file, GizmoAnalysis will assign these host properties on the fly during read."
   ]
  },
  {
   "cell_type": "code",
   "execution_count": null,
   "metadata": {},
   "outputs": [],
   "source": [
    "# position [kpc comoving] and velocity [km / s] of the center of each host galaxy\n",
    "# can store multiple hosts, though usually just one\n",
    "\n",
    "print(part.host['position'])\n",
    "print(part.host['velocity'])"
   ]
  },
  {
   "cell_type": "code",
   "execution_count": null,
   "metadata": {},
   "outputs": [],
   "source": [
    "# compute and assign the rotation tensor and axis ratios of the principal axes (defined via moment of inertia tensor) of stars in each host,  during read in as below\n",
    "\n",
    "part = gizmo.io.Read.read_snapshots(['star', 'dark'], 'redshift', 0, simulation_directory, assign_hosts_rotation=True)"
   ]
  },
  {
   "cell_type": "code",
   "execution_count": null,
   "metadata": {},
   "outputs": [],
   "source": [
    "# stores the rotation tensor, to rotate into the principal axes for each host\n",
    "\n",
    "print(part.host['rotation'])"
   ]
  },
  {
   "cell_type": "code",
   "execution_count": null,
   "metadata": {},
   "outputs": [],
   "source": [
    "# and stores the axis ratios (min/maj, min/med, med/maj) for each host\n",
    "\n",
    "print(part.host['axis.ratios'])"
   ]
  },
  {
   "cell_type": "code",
   "execution_count": null,
   "metadata": {},
   "outputs": [],
   "source": [
    "# now you can compute different types of distances of star particles from the center of each host galaxy\n",
    "# using .prop() to call derived quantities\n",
    "# compute 3-D distance from the host center along simulation's default x,y,z cartesian axes [kpc physical]\n",
    "\n",
    "part['star'].prop('host.distance')"
   ]
  },
  {
   "cell_type": "code",
   "execution_count": null,
   "metadata": {},
   "outputs": [],
   "source": [
    "# add '.total' to compute total (scalar) distance [kpc physical]\n",
    "\n",
    "part['star'].prop('host.distance.total')"
   ]
  },
  {
   "cell_type": "code",
   "execution_count": null,
   "metadata": {},
   "outputs": [],
   "source": [
    "# add '.principal' to compute 3-D distance aligned with the principal (major, intermediate, minor) axes of each host's stellar disk [kpc physical]\n",
    "\n",
    "part['star'].prop('host.distance.principal')"
   ]
  },
  {
   "cell_type": "code",
   "execution_count": null,
   "metadata": {},
   "outputs": [],
   "source": [
    "# add '.cylindrical' or '.cyl' to compute 3-D distance aligned with the principal axes in cylindrical coordinates\n",
    "# first value is along the major axes (R, positive definite) [kpc physical]\n",
    "# second value is angle (phi, 0 to 2 * pi) [radian]\n",
    "# third value is vertical height wrt the disk (Z, signed) [kpc physical]\n",
    "\n",
    "part['star'].prop('host.distance.principal.cylindrical')"
   ]
  },
  {
   "cell_type": "code",
   "execution_count": null,
   "metadata": {},
   "outputs": [],
   "source": [
    "# same for velocity\n",
    "# compute 3-D velocity from each host galaxy center along simulation's default x,y,z cartesian axes [km / s]\n",
    "\n",
    "part['star'].prop('host.velocity')"
   ]
  },
  {
   "cell_type": "code",
   "execution_count": null,
   "metadata": {},
   "outputs": [],
   "source": [
    "# compute total (scalar) velocity [km / s]\n",
    "\n",
    "part['star'].prop('host.velocity.total')"
   ]
  },
  {
   "cell_type": "code",
   "execution_count": null,
   "metadata": {},
   "outputs": [],
   "source": [
    "# compute 3-D velocity along the principal (major, intermediate, minor) axes [km / s]\n",
    "\n",
    "part['star'].prop('host.velocity.principal')"
   ]
  },
  {
   "cell_type": "code",
   "execution_count": null,
   "metadata": {},
   "outputs": [],
   "source": [
    "# compute 3-D velocity in cylindrical coordinates\n",
    "# first value is along the major axes (positive definite)\n",
    "# secod value is azimuthal velocity in the plane of the disk (positive definite)\n",
    "# third value is vertical velocity wrt the disk (signed)\n",
    "\n",
    "part['star'].prop('host.velocity.principal.cylindrical')"
   ]
  },
  {
   "cell_type": "code",
   "execution_count": null,
   "metadata": {},
   "outputs": [],
   "source": [
    "# if you want to store multiple hosts (such as for the ELVIS Local Group-like paired host simulations), \n",
    "# set host_number=2 during read-in\n",
    "# (in fact, you can do this for any simulation, it simply finds the second most massive host galaxy in the zoom-in region)\n",
    "\n",
    "part = gizmo.io.Read.read_snapshots(['star', 'dark'], 'redshift', 0, simulation_directory, host_number=2, assign_hosts='mass', assign_hosts_rotation=True)"
   ]
  },
  {
   "cell_type": "code",
   "execution_count": null,
   "metadata": {},
   "outputs": [],
   "source": [
    "# everything above still works, just use 'host', 'host2', 'host3', etc to identify which host you want coordinates relative to\n",
    "\n",
    "print(part['star'].prop('host.distance'))\n",
    "print(part['star'].prop('host2.distance'))"
   ]
  },
  {
   "cell_type": "code",
   "execution_count": null,
   "metadata": {},
   "outputs": [],
   "source": [
    "# the particle dictionary stores coordinates and rotation tensors for each host\n",
    "\n",
    "print(part.host['position'])\n",
    "print(part.host['velocity'])\n",
    "print(part.host['rotation'])\n",
    "print(part.host['axis.ratios'])"
   ]
  },
  {
   "cell_type": "markdown",
   "metadata": {},
   "source": [
    "# star + gas particle tracking"
   ]
  },
  {
   "cell_type": "markdown",
   "metadata": {},
   "source": [
    "Some simulations have pre-compiled HDF5 files for tracking star + gas particles over time. By default, we store these files in the directory 'track/' (if present). gizmo_track.py contains the code that generates and reads these files."
   ]
  },
  {
   "cell_type": "markdown",
   "metadata": {},
   "source": [
    "star\\_gas\\_pointers\\_\\*.hdf5 files store, for each star and gas particles at z = 0, a pointer to its array index in the catalog at each previous snapshot (replace * with snapshot index). This makes it easy to get the properties of a given star particle at any previous snapshot. We store these pointers in an HDF5 file, one for each previous snapshot."
   ]
  },
  {
   "cell_type": "markdown",
   "metadata": {},
   "source": [
    "### tracking between z = 0 and a previous snapshot"
   ]
  },
  {
   "cell_type": "code",
   "execution_count": 2,
   "metadata": {},
   "outputs": [
    {
     "output_type": "stream",
     "name": "stdout",
     "text": [
      "\n",
      "# in utilities.simulation.Snapshot():\n",
      "* reading:  Users/awetzel/work/research/simulation/gizmo/simulations/m12/m12i/m12i_res57000/snapshot_times.txt\n",
      "\n",
      "* input redshift = 0:  using snapshot index = 600, redshift = 0.000\n",
      "\n",
      "\n",
      "# in gizmo_analysis.gizmo_io.Read():\n",
      "* reading header from:  Users/awetzel/work/research/simulation/gizmo/simulations/m12/m12i/m12i_res57000/output/snapshot_600.hdf5\n",
      "  snapshot contains the following number of particles:\n",
      "    dark      (id = 1): 8820344 particles\n",
      "    dark2     (id = 2): 3081337 particles\n",
      "    gas       (id = 0): 5969934 particles\n",
      "    star      (id = 4): 3059250 particles\n",
      "    blackhole (id = 5): 0 particles\n",
      "\n",
      "* reading species: ['star', 'gas']\n",
      "* reading particles from:\n",
      "    Users/awetzel/work/research/simulation/gizmo/simulations/m12/m12i/m12i_res57000/output/snapshot_600.hdf5\n",
      "\n",
      "* reading cosmological parameters from:  Users/awetzel/work/research/simulation/gizmo/simulations/m12/m12i/m12i_res57000/initial_condition/ic_agora_m12i.conf\n",
      "\n",
      "* checking sanity of particle properties\n",
      "\n",
      "\n",
      "# in gizmo_analysis.gizmo_track.ParticleCoordinate():\n",
      "  read 1 host (position, velocity, rotation, axis ratios) from:  Users/awetzel/work/research/simulation/gizmo/simulations/m12/m12i/m12i_res57000/track/host_coordinates.hdf5\n",
      "  host1 position = (41821.973, 44122.004, 46288.449) [kpc comoving]\n",
      "  host1 velocity = (-48.7, 73.1, 96.7) [km / s]\n",
      "  host1 axis ratios = (0.15, 0.15, 0.97)\n",
      "\n"
     ]
    }
   ],
   "source": [
    "# read catalog of star and gas particles at z = 0\n",
    "\n",
    "part_at_z0 = gizmo.io.Read.read_snapshots(['star', 'gas'], 'redshift', 0, simulation_directory)"
   ]
  },
  {
   "cell_type": "code",
   "execution_count": 3,
   "metadata": {},
   "outputs": [
    {
     "output_type": "stream",
     "name": "stdout",
     "text": [
      "\n",
      "# in utilities.simulation.Snapshot():\n",
      "* reading:  Users/awetzel/work/research/simulation/gizmo/simulations/m12/m12i/m12i_res57000/snapshot_times.txt\n",
      "\n",
      "* input redshift = 2:  using snapshot index = 172, redshift = 2.000\n",
      "\n",
      "\n",
      "# in gizmo_analysis.gizmo_io.Read():\n",
      "* reading header from:  Users/awetzel/work/research/simulation/gizmo/simulations/m12/m12i/m12i_res57000/output/snapshot_172.hdf5\n",
      "  snapshot contains the following number of particles:\n",
      "    dark      (id = 1): 8820344 particles\n",
      "    dark2     (id = 2): 3081337 particles\n",
      "    gas       (id = 0): 8575137 particles\n",
      "    star      (id = 4): 245223 particles\n",
      "    blackhole (id = 5): 0 particles\n",
      "\n",
      "* reading species: ['star', 'gas']\n",
      "* reading particles from:\n",
      "    Users/awetzel/work/research/simulation/gizmo/simulations/m12/m12i/m12i_res57000/output/snapshot_172.hdf5\n",
      "\n",
      "* reading cosmological parameters from:  Users/awetzel/work/research/simulation/gizmo/simulations/m12/m12i/m12i_res57000/initial_condition/ic_agora_m12i.conf\n",
      "\n",
      "* checking sanity of particle properties\n",
      "\n",
      "  read 1 host (position, velocity, rotation, axis ratios) from:  Users/awetzel/work/research/simulation/gizmo/simulations/m12/m12i/m12i_res57000/track/host_coordinates.hdf5\n",
      "  host1 position = (42860.578, 42499.359, 44850.602) [kpc comoving]\n",
      "  host1 velocity = (-60.9, 119.8, 31.4) [km / s]\n",
      "  host1 axis ratios = (0.47, 0.77, 0.61)\n",
      "\n",
      "\n",
      "# in gizmo_analysis.gizmo_track.ParticlePointer():\n",
      "* read particle pointers from:  Users/awetzel/work/research/simulation/gizmo/simulations/m12/m12i/m12i_res57000/track/star_gas_pointers_172.hdf5\n"
     ]
    }
   ],
   "source": [
    "# for example, you want to find out what they were doing at z = 2\n",
    "# read in catalog of star particles at z = 2 (probably snapshot 172)\n",
    "# set assign_pointers=True to assign such pointers to the particle catalog at z = 2\n",
    "\n",
    "part_at_z2 = gizmo.io.Read.read_snapshots(\n",
    "    ['star', 'gas'], 'redshift', 2, simulation_directory, assign_pointers=True)"
   ]
  },
  {
   "cell_type": "code",
   "execution_count": 4,
   "metadata": {},
   "outputs": [
    {
     "output_type": "execute_result",
     "data": {
      "text/plain": [
       "{'species': array(['star', 'gas'], dtype='<U4'),\n",
       " 'z.gas.index.limits': array([ 245223, 8820360]),\n",
       " 'z.gas.number': 8575137,\n",
       " 'z.particle.number': 8820360,\n",
       " 'z.snapshot.index': 172,\n",
       " 'z.star.index.limits': array([     0, 245223]),\n",
       " 'z.star.number': 245223,\n",
       " 'z0.gas.index.limits': array([3059250, 9029184]),\n",
       " 'z0.gas.number': 5969934,\n",
       " 'z0.particle.number': 9029184,\n",
       " 'z0.snapshot.index': 600,\n",
       " 'z0.star.index.limits': array([      0, 3059250]),\n",
       " 'z0.star.number': 3059250,\n",
       " 'z0.to.z.index': array([8762407, 6627790, 2897974, ...,  428042, 1883434, 1569509],\n",
       "       dtype=int32)}"
      ]
     },
     "metadata": {},
     "execution_count": 4
    }
   ],
   "source": [
    "# we store particle pointers via a dictionary class appended to particle catalog dictionary at the relevant snapshot\n",
    "# a negative value means that the star formed after this snapshot (so it does not exist at this snapshot)\n",
    "\n",
    "part_at_z2.Pointer"
   ]
  },
  {
   "cell_type": "code",
   "execution_count": 5,
   "metadata": {},
   "outputs": [
    {
     "output_type": "execute_result",
     "data": {
      "text/plain": [
       "array(['star', 'gas'], dtype='<U4')"
      ]
     },
     "metadata": {},
     "execution_count": 5
    }
   ],
   "source": [
    "# the particle species that we have compiled tracking pointers for\n",
    "\n",
    "part_at_z2.Pointer['species']"
   ]
  },
  {
   "cell_type": "code",
   "execution_count": 6,
   "metadata": {},
   "outputs": [
    {
     "output_type": "stream",
     "name": "stdout",
     "text": [
      "172\n600\n"
     ]
    }
   ],
   "source": [
    "# the snapshot indices at this redshift (z = 2) and at the reference redshift (z = 0)\n",
    "\n",
    "print(part_at_z2.Pointer['z.snapshot.index'])\n",
    "print(part_at_z2.Pointer['z0.snapshot.index'])"
   ]
  },
  {
   "cell_type": "code",
   "execution_count": 7,
   "metadata": {},
   "outputs": [
    {
     "output_type": "stream",
     "name": "stdout",
     "text": [
      "245223\n8575137\n3059250\n5969934\n"
     ]
    }
   ],
   "source": [
    "# the number of particles at this redshift (z = 2) and at the reference redshift (z = 0)\n",
    "\n",
    "print(part_at_z2.Pointer['z.star.number'])\n",
    "print(part_at_z2.Pointer['z.gas.number'])\n",
    "\n",
    "print(part_at_z2.Pointer['z0.star.number'])\n",
    "print(part_at_z2.Pointer['z0.gas.number'])"
   ]
  },
  {
   "cell_type": "code",
   "execution_count": 8,
   "metadata": {},
   "outputs": [
    {
     "output_type": "stream",
     "name": "stdout",
     "text": [
      "[8762407 6627790 2897974 ...  428042 1883434 1569509]\n[     0 245223]\n[ 245223 8820360]\n[      0 3059250]\n[3059250 9029184]\n"
     ]
    }
   ],
   "source": [
    "# the dictionaries below store the actual pointer indices\n",
    "# becase gas particles can become star particles, this pipeline concatenates the particle list and \n",
    "# stores pointers from this combined star + gas list at z = 0 to z\n",
    "\n",
    "print(part_at_z2.Pointer['z0.to.z.index'])\n",
    "\n",
    "# this also stores the limits of the indices of each species at each snapshot, \n",
    "# so you can convert back to the index within the individual star list or the individual gas list \n",
    "# (as stored in the particle catalog)\n",
    "print(part_at_z2.Pointer['z.star.index.limits'])\n",
    "print(part_at_z2.Pointer['z.gas.index.limits'])\n",
    "\n",
    "print(part_at_z2.Pointer['z0.star.index.limits'])\n",
    "print(part_at_z2.Pointer['z0.gas.index.limits'])"
   ]
  },
  {
   "cell_type": "code",
   "execution_count": 9,
   "metadata": {},
   "outputs": [],
   "source": [
    "# more simply, you can use this function to get pointers for a given species from z = 0 to any z\n",
    "# the default mode of tracking is going backward in time (from z = 0 to z)\n",
    "\n",
    "pointers = part_at_z2.Pointer.get_pointers(species_name_from='star', species_names_to='star')"
   ]
  },
  {
   "cell_type": "code",
   "execution_count": 10,
   "metadata": {},
   "outputs": [
    {
     "output_type": "execute_result",
     "data": {
      "text/plain": [
       "array([[43395.66430266, 44225.91487342, 46848.42028784],\n",
       "       [43391.32501013, 44235.3333939 , 46851.26898524],\n",
       "       [43392.7246372 , 44234.88455716, 46860.08437896]])"
      ]
     },
     "metadata": {},
     "execution_count": 10
    }
   ],
   "source": [
    "# say that you have a list of star particle indices of interest at z = 0\n",
    "\n",
    "indices_at_z0 = np.array([5, 8, 13])\n",
    "\n",
    "# list their positions at z = 0\n",
    "part_at_z0['star']['position'][indices_at_z0]"
   ]
  },
  {
   "cell_type": "code",
   "execution_count": 11,
   "metadata": {},
   "outputs": [
    {
     "output_type": "stream",
     "name": "stdout",
     "text": [
      "[93570 93569 93574]\n"
     ]
    },
    {
     "output_type": "execute_result",
     "data": {
      "text/plain": [
       "array([[44594.70662236, 42857.76681624, 45680.41942321],\n",
       "       [44597.17009857, 42856.9103464 , 45683.54318435],\n",
       "       [44586.14301487, 42869.01990286, 45673.47361522]])"
      ]
     },
     "metadata": {},
     "execution_count": 11
    }
   ],
   "source": [
    "# now you can get their indices in the particle catalog at z = 2\n",
    "# negative indices means that the star particle did not exist at z = 2\n",
    "\n",
    "indices_at_z2 = pointers[indices_at_z0]\n",
    "print(indices_at_z2)\n",
    "\n",
    "# now you easily can get any property of interest at z = 2, for example, positions\n",
    "part_at_z2['star']['position'][indices_at_z2]"
   ]
  },
  {
   "cell_type": "code",
   "execution_count": 12,
   "metadata": {},
   "outputs": [
    {
     "output_type": "stream",
     "name": "stdout",
     "text": [
      "[1081507 2621944 1378523]\n[[41827.95243832 44124.6273934  46289.64224645]\n [41810.05286106 44110.48518841 46285.84784929]\n [41827.05895642 44116.02070015 46284.00376819]]\n"
     ]
    }
   ],
   "source": [
    "# alternatively, you can track particles going forward in time by setting forward=True\n",
    "\n",
    "pointers = part_at_z2.Pointer.get_pointers(species_name_from='star', species_names_to='star', forward=True)\n",
    "\n",
    "indices_at_z2 = np.array([5, 8, 13])\n",
    "indices_at_z0 = pointers[indices_at_z2]\n",
    "print(indices_at_z0)\n",
    "print(part_at_z0['star']['position'][indices_at_z0])"
   ]
  },
  {
   "cell_type": "code",
   "execution_count": 13,
   "metadata": {},
   "outputs": [
    {
     "output_type": "stream",
     "name": "stdout",
     "text": [
      "{'index': array([8517184, 6382567, 2652751, ..., 5870729,  297634,  179265],\n      dtype=int32), 'species': array(['gas', 'gas', 'gas', ..., 'gas', 'gas', 'star'], dtype='<U4')}\n['gas' 'star' 'star' 'star'] [8517184   93570   93569   93574]\n[8517184]\n[[42845.52824108 42506.12287672 44870.50121988]]\n"
     ]
    }
   ],
   "source": [
    "# also, you can track star particles back to both progenitor star and progenitor gas particles\n",
    "\n",
    "pointers = part_at_z2.Pointer.get_pointers(species_name_from='star', species_names_to=['star', 'gas'])\n",
    "\n",
    "# but now, pointers is a *dictionary* that stores both the index and species of each progenitor particle\n",
    "print(pointers)\n",
    "\n",
    "# get star particle indices at z = 0 and see what they were at z = 2\n",
    "star_indices_at_z0 = np.array([0, 5, 8, 13])\n",
    "print(pointers['species'][star_indices_at_z0], pointers['index'][star_indices_at_z0])\n",
    "\n",
    "# get those that were gas particles\n",
    "masks = np.where(pointers['species'][star_indices_at_z0] == 'gas')[0]\n",
    "\n",
    "gas_indices_at_z2 = pointers['index'][star_indices_at_z0[masks]]\n",
    "\n",
    "print(gas_indices_at_z2)\n",
    "print(part_at_z2['gas']['position'][gas_indices_at_z2])"
   ]
  },
  {
   "cell_type": "code",
   "execution_count": 14,
   "metadata": {},
   "outputs": [
    {
     "output_type": "stream",
     "name": "stdout",
     "text": [
      "['star' 'star' 'gas' 'gas']\n[ 215205 1917430 1826927 4148144]\n[ 215205 1917430]\n[[41823.76116895 44122.68646199 46287.49155757]\n [41813.98704585 44118.76742237 46303.17274406]]\n"
     ]
    }
   ],
   "source": [
    "# similar for working forward in time, track gas particles at z that can be star or gas particles at z = 0\n",
    "\n",
    "pointers = part_at_z2.Pointer.get_pointers(\n",
    "    species_name_from='gas', species_names_to=['star', 'gas'], forward=True)\n",
    "\n",
    "# get gas indices at z = 2 and see what they end up as at z = 0\n",
    "gas_indices_at_z2 = np.array([0, 5, 8, 13])\n",
    "print(pointers['species'][gas_indices_at_z2])\n",
    "print(pointers['index'][gas_indices_at_z2])\n",
    "\n",
    "# get those that are star particles at z = 0\n",
    "masks = np.where(pointers['species'][gas_indices_at_z2] == 'star')[0]\n",
    "\n",
    "star_indices_at_z0 = pointers['index'][gas_indices_at_z2[masks]]\n",
    "\n",
    "print(star_indices_at_z0)\n",
    "print(part_at_z0['star']['position'][star_indices_at_z0])"
   ]
  },
  {
   "cell_type": "markdown",
   "metadata": {},
   "source": [
    "### tracking between 2 snapshots in which both are at z > 0"
   ]
  },
  {
   "cell_type": "code",
   "execution_count": 15,
   "metadata": {},
   "outputs": [
    {
     "output_type": "stream",
     "name": "stdout",
     "text": [
      "\n",
      "# in utilities.simulation.Snapshot():\n",
      "* reading:  Users/awetzel/work/research/simulation/gizmo/simulations/m12/m12i/m12i_res57000/snapshot_times.txt\n",
      "\n",
      "* input redshift = 1:  using snapshot index = 277, redshift = 1.000\n",
      "\n",
      "\n",
      "# in gizmo_analysis.gizmo_io.Read():\n",
      "* reading header from:  Users/awetzel/work/research/simulation/gizmo/simulations/m12/m12i/m12i_res57000/output/snapshot_277.hdf5\n",
      "  snapshot contains the following number of particles:\n",
      "    dark      (id = 1): 8820344 particles\n",
      "    dark2     (id = 2): 3081337 particles\n",
      "    gas       (id = 0): 7498674 particles\n",
      "    star      (id = 4): 1333580 particles\n",
      "    blackhole (id = 5): 0 particles\n",
      "\n",
      "* reading species: ['star', 'gas']\n",
      "* reading particles from:\n",
      "    Users/awetzel/work/research/simulation/gizmo/simulations/m12/m12i/m12i_res57000/output/snapshot_277.hdf5\n",
      "\n",
      "* reading cosmological parameters from:  Users/awetzel/work/research/simulation/gizmo/simulations/m12/m12i/m12i_res57000/initial_condition/ic_agora_m12i.conf\n",
      "\n",
      "* checking sanity of particle properties\n",
      "\n",
      "  read 1 host (position, velocity, rotation, axis ratios) from:  Users/awetzel/work/research/simulation/gizmo/simulations/m12/m12i/m12i_res57000/track/host_coordinates.hdf5\n",
      "  host1 position = (42434.348, 43258.426, 45265.680) [kpc comoving]\n",
      "  host1 velocity = (-63.0, 89.7, 88.0) [km / s]\n",
      "  host1 axis ratios = (0.29, 0.31, 0.94)\n",
      "\n",
      "\n",
      "# in gizmo_analysis.gizmo_track.ParticlePointer():\n",
      "* read particle pointers from:  Users/awetzel/work/research/simulation/gizmo/simulations/m12/m12i/m12i_res57000/track/star_gas_pointers_277.hdf5\n",
      "\n",
      "# in utilities.simulation.Snapshot():\n",
      "* reading:  Users/awetzel/work/research/simulation/gizmo/simulations/m12/m12i/m12i_res57000/snapshot_times.txt\n",
      "\n",
      "* input redshift = 2:  using snapshot index = 172, redshift = 2.000\n",
      "\n",
      "\n",
      "# in gizmo_analysis.gizmo_io.Read():\n",
      "* reading header from:  Users/awetzel/work/research/simulation/gizmo/simulations/m12/m12i/m12i_res57000/output/snapshot_172.hdf5\n",
      "  snapshot contains the following number of particles:\n",
      "    dark      (id = 1): 8820344 particles\n",
      "    dark2     (id = 2): 3081337 particles\n",
      "    gas       (id = 0): 8575137 particles\n",
      "    star      (id = 4): 245223 particles\n",
      "    blackhole (id = 5): 0 particles\n",
      "\n",
      "* reading species: ['star', 'gas']\n",
      "* reading particles from:\n",
      "    Users/awetzel/work/research/simulation/gizmo/simulations/m12/m12i/m12i_res57000/output/snapshot_172.hdf5\n",
      "\n",
      "* reading cosmological parameters from:  Users/awetzel/work/research/simulation/gizmo/simulations/m12/m12i/m12i_res57000/initial_condition/ic_agora_m12i.conf\n",
      "\n",
      "* checking sanity of particle properties\n",
      "\n",
      "  read 1 host (position, velocity, rotation, axis ratios) from:  Users/awetzel/work/research/simulation/gizmo/simulations/m12/m12i/m12i_res57000/track/host_coordinates.hdf5\n",
      "  host1 position = (42860.578, 42499.359, 44850.602) [kpc comoving]\n",
      "  host1 velocity = (-60.9, 119.8, 31.4) [km / s]\n",
      "  host1 axis ratios = (0.47, 0.77, 0.61)\n",
      "\n",
      "\n",
      "# in gizmo_analysis.gizmo_track.ParticlePointer():\n",
      "* read particle pointers from:  Users/awetzel/work/research/simulation/gizmo/simulations/m12/m12i/m12i_res57000/track/star_gas_pointers_172.hdf5\n"
     ]
    }
   ],
   "source": [
    "# particle tracking also can handle tracking particles between any 2 snapshots\n",
    "\n",
    "# read catalogs of star and gas particles at z = 1 and 2, including their pointers relative to z = 0\n",
    "# set asign_pointers=True automatically to append pointer class to each particle catalog\n",
    "part_at_z1 = gizmo.io.Read.read_snapshots(\n",
    "    ['star', 'gas'], 'redshift', 1, simulation_directory, assign_pointers=True)\n",
    "part_at_z2 = gizmo.io.Read.read_snapshots(\n",
    "    ['star', 'gas'], 'redshift', 2, simulation_directory, assign_pointers=True)"
   ]
  },
  {
   "cell_type": "code",
   "execution_count": 16,
   "metadata": {},
   "outputs": [],
   "source": [
    "# now just append intermediate-redshift pointers (to z = 1) to pointers at z = 2\n",
    "\n",
    "part_at_z2.Pointer.add_intermediate_pointers(part_at_z1.Pointer)"
   ]
  },
  {
   "cell_type": "code",
   "execution_count": 17,
   "metadata": {},
   "outputs": [
    {
     "output_type": "stream",
     "name": "stdout",
     "text": [
      "['star' 'gas' 'gas' 'gas']\n[ 107166 1169600 6377478  239484]\n[107166]\n[[43535.53900573 42053.83122207 46265.70989359]]\n"
     ]
    }
   ],
   "source": [
    "# now you can access pointers from z = 1 to z = 2, by setting intermediate_snapshot=True\n",
    "\n",
    "pointers = part_at_z2.Pointer.get_pointers(\n",
    "    species_name_from='star', species_names_to=['star', 'gas'], intermediate_snapshot=True)\n",
    "\n",
    "# get star indices at z = 0 and see what they were at z = 2\n",
    "star_indices_at_z1 = np.array([0, 5, 8, 13])\n",
    "print(pointers['species'][star_indices_at_z1])\n",
    "print(pointers['index'][star_indices_at_z1])\n",
    "\n",
    "# get those that are star particles at z = 2\n",
    "masks = np.where(pointers['species'][star_indices_at_z1] == 'star')[0]\n",
    "\n",
    "star_indices_at_z2 = pointers['index'][star_indices_at_z1[masks]]\n",
    "\n",
    "print(star_indices_at_z2)\n",
    "print(part_at_z2['star']['position'][star_indices_at_z2])"
   ]
  },
  {
   "cell_type": "code",
   "execution_count": 18,
   "metadata": {},
   "outputs": [
    {
     "output_type": "stream",
     "name": "stdout",
     "text": [
      "\n",
      "# in gizmo_analysis.gizmo_track.ParticlePointer():\n",
      "* read particle pointers from:  Users/awetzel/work/research/simulation/gizmo/simulations/m12/m12i/m12i_res57000/track/star_gas_pointers_277.hdf5\n",
      "* read particle pointers from:  Users/awetzel/work/research/simulation/gizmo/simulations/m12/m12i/m12i_res57000/track/star_gas_pointers_172.hdf5\n",
      "[[ 292.68991569 -383.58753865 -537.01238787]\n",
      " [ 340.40628092 -396.67310129 -443.35512543]\n",
      " [ 325.33277499 -341.7086024  -510.64487315]\n",
      " ...\n",
      " [ -99.12561147   30.8602316  -350.24431613]\n",
      " [ -99.82395539   11.77529703 -343.91413721]\n",
      " [ -94.33690426   50.91985599 -359.29941783]]\n",
      "* read particle pointers from:  Users/awetzel/work/research/simulation/gizmo/simulations/m12/m12i/m12i_res57000/track/star_gas_pointers_172.hdf5\n",
      "* read particle pointers from:  Users/awetzel/work/research/simulation/gizmo/simulations/m12/m12i/m12i_res57000/track/star_gas_pointers_277.hdf5\n",
      "[[ 1.76618861e+03 -1.34864646e+03  3.38039285e+03]\n",
      " [-3.19344155e-01  1.92092919e+01 -1.40406222e+01]\n",
      " [ 5.49481984e-01 -9.67723621e-01 -1.44379399e+00]\n",
      " ...\n",
      " [-1.47852245e+03  1.73040220e+03  3.40694911e+02]\n",
      " [-1.47797816e+03  1.72987523e+03  3.40425767e+02]\n",
      " [-1.47634593e+03  1.73094540e+03  3.39585600e+02]]\n"
     ]
    }
   ],
   "source": [
    "# if you just want to track a single species (star -> star or gas -> gas) between 2 snapshots,\n",
    "# read_pointers_between_snapshots() makes it easy to get the pointer indices between any 2 snapshots\n",
    "\n",
    "ParticlePointer = gizmo.track.ParticlePointerClass(simulation_directory=simulation_directory)\n",
    "\n",
    "# tracking forward in time\n",
    "pointers_z2_to_z1 = ParticlePointer.read_pointers_between_snapshots(\n",
    "    snapshot_index_from=172, snapshot_index_to=277, species_name='star')\n",
    "\n",
    "# for example, see how far star particles have moved\n",
    "print(part_at_z2['star']['position'] - part_at_z1['star']['position'][pointers_z2_to_z1])\n",
    "\n",
    "\n",
    "# similar for tracking going backward in time\n",
    "pointers_z1_to_z2 = ParticlePointer.read_pointers_between_snapshots(\n",
    "    snapshot_index_from=277, snapshot_index_to=172, species_name='star')\n",
    "\n",
    "# in this case, need to select stars that existed as stars at z = 2\n",
    "masks = (pointers_z1_to_z2 >= 0)\n",
    "\n",
    "# see how far star particles have moved\n",
    "print(part_at_z1['star']['position'][masks] - part_at_z1['star']['position'][pointers_z1_to_z2[masks]])"
   ]
  },
  {
   "cell_type": "code",
   "execution_count": 19,
   "metadata": {},
   "outputs": [
    {
     "output_type": "stream",
     "name": "stdout",
     "text": [
      "\n",
      "# in gizmo_analysis.gizmo_track.ParticlePointer():\n",
      "* read particle pointers from:  Users/awetzel/work/research/simulation/gizmo/simulations/m12/m12i/m12i_res57000/track/star_gas_pointers_277.hdf5\n",
      "* read particle pointers from:  Users/awetzel/work/research/simulation/gizmo/simulations/m12/m12i/m12i_res57000/track/star_gas_pointers_172.hdf5\n",
      "[[ 224.35345256 -102.50255757 -208.25313603]\n",
      " [ 313.50763315 -345.17309798 -495.19974925]\n",
      " [ 114.49285425  233.74061457 -177.28187293]\n",
      " ...\n",
      " [  53.25622074 -595.53442327  -88.54922416]\n",
      " [  57.46695114 -592.76897158  -83.2795691 ]\n",
      " [  58.68275013 -596.29758723  -82.94903887]]\n",
      "* read particle pointers from:  Users/awetzel/work/research/simulation/gizmo/simulations/m12/m12i/m12i_res57000/track/star_gas_pointers_172.hdf5\n",
      "* read particle pointers from:  Users/awetzel/work/research/simulation/gizmo/simulations/m12/m12i/m12i_res57000/track/star_gas_pointers_277.hdf5\n",
      "[[-560.31238357 -135.1138063   780.92769312]\n",
      " [-683.88542357 -173.21415443  796.86951148]\n",
      " [-705.87410058 -145.10567908  770.32026879]\n",
      " ...\n",
      " [-258.38776428  710.77164984  377.14910812]\n",
      " [ -94.5892211   497.91426255  289.2440255 ]\n",
      " [-150.44327719  618.12171284  316.23342548]]\n"
     ]
    }
   ],
   "source": [
    "# do the same, but for gas\n",
    "\n",
    "ParticlePointer = gizmo.track.ParticlePointerClass(simulation_directory=simulation_directory)\n",
    "\n",
    "# tracking going forward in time\n",
    "pointers_z2_to_z1 = ParticlePointer.read_pointers_between_snapshots(\n",
    "    snapshot_index_from=172, snapshot_index_to=277, species_name='gas')\n",
    "\n",
    "# ensure that gas particle still is a gas particle at z = 1\n",
    "masks = (pointers_z2_to_z1 >= 0)\n",
    "\n",
    "print(part_at_z2['gas']['position'][masks] - part_at_z1['gas']['position'][pointers_z2_to_z1[masks]])\n",
    "\n",
    "# tracking going backward in time\n",
    "pointers_z1_to_z2 = ParticlePointer.read_pointers_between_snapshots(\n",
    "    snapshot_index_from=277, snapshot_index_to=172, species_name='gas')\n",
    "\n",
    "# for gas, still have to ensure positive pointers, even if tracking going backward in time,\n",
    "# because a few gas particles that leave the zoom-in region get culled (for numerical stability) by z = 0\n",
    "# (remember that the pointers always route through z = 0)\n",
    "masks = (pointers_z1_to_z2 >= 0)\n",
    "\n",
    "print(part_at_z1['gas']['position'][masks] - part_at_z2['gas']['position'][pointers_z1_to_z2[masks]])"
   ]
  },
  {
   "cell_type": "markdown",
   "metadata": {},
   "source": [
    "# star particle formation coordinates"
   ]
  },
  {
   "cell_type": "markdown",
   "metadata": {},
   "source": [
    "As part of star particle tracking, we store the position and velocity of each star particle immediately after it formed. Because we typically store snapshots every 20 - 25 Myr, this means that these 'formation' coordiantes are the coordinates of a star particle0 - ~25 Myr after it formed.\n",
    "\n",
    "Within track/, host_coordinates.hdf5 stores, for each star particle at z = 0, its 3-D distance and 3-D velocity wrt to the main host galaxy at the first snapshot after it formed. These coordinates are aligned with the principal (major, intermediate, minor) axes of the stellar disk (as defined via its moment of inertia tensor) at that snapshot."
   ]
  },
  {
   "cell_type": "code",
   "execution_count": 20,
   "metadata": {},
   "outputs": [
    {
     "output_type": "stream",
     "name": "stdout",
     "text": [
      "\n",
      "# in utilities.basic.io.file_hdf5():\n",
      "  reading file:  Users/awetzel/work/research/simulation/gizmo/simulations/m12/m12i/m12i_res57000/track/host_coordinates.hdf5\n",
      "    host.axis.ratios | float32, shape = (601, 1, 3)\n",
      "    host.position | float32, shape = (601, 1, 3)\n",
      "    host.rotation | float32, shape = (601, 1, 3, 3)\n",
      "    host.velocity | float32, shape = (601, 1, 3)\n",
      "    snapshot.index | int64, shape = ()\n",
      "    star.form.host.distance | float32, shape = (3059250, 3)\n",
      "    star.form.host.velocity | float32, shape = (3059250, 3)\n",
      "    star.id | uint32, shape = (3059250,)\n",
      "  reading formation coordinates for star particles at snapshot 600\n"
     ]
    }
   ],
   "source": [
    "# use the function within gizmo_track.py to read this file and assign values directly to the catalog at z = 0\n",
    "\n",
    "gizmo.track.ParticleCoordinate.io_hosts_and_formation_coordinates(part_at_z0, simulation_directory)"
   ]
  },
  {
   "cell_type": "code",
   "execution_count": 21,
   "metadata": {},
   "outputs": [
    {
     "output_type": "stream",
     "name": "stdout",
     "text": [
      "\n",
      "# in utilities.simulation.Snapshot():\n",
      "* reading:  Users/awetzel/work/research/simulation/gizmo/simulations/m12/m12i/m12i_res57000/snapshot_times.txt\n",
      "\n",
      "* input redshift = 0:  using snapshot index = 600, redshift = 0.000\n",
      "\n",
      "\n",
      "# in gizmo_analysis.gizmo_io.Read():\n",
      "* reading header from:  Users/awetzel/work/research/simulation/gizmo/simulations/m12/m12i/m12i_res57000/output/snapshot_600.hdf5\n",
      "  snapshot contains the following number of particles:\n",
      "    dark      (id = 1): 8820344 particles\n",
      "    dark2     (id = 2): 3081337 particles\n",
      "    gas       (id = 0): 5969934 particles\n",
      "    star      (id = 4): 3059250 particles\n",
      "    blackhole (id = 5): 0 particles\n",
      "\n",
      "* reading species: ['star']\n",
      "* reading particles from:\n",
      "    Users/awetzel/work/research/simulation/gizmo/simulations/m12/m12i/m12i_res57000/output/snapshot_600.hdf5\n",
      "\n",
      "* reading cosmological parameters from:  Users/awetzel/work/research/simulation/gizmo/simulations/m12/m12i/m12i_res57000/initial_condition/ic_agora_m12i.conf\n",
      "\n",
      "* checking sanity of particle properties\n",
      "\n",
      "  read 1 host (position, velocity, rotation, axis ratios) from:  Users/awetzel/work/research/simulation/gizmo/simulations/m12/m12i/m12i_res57000/track/host_coordinates.hdf5\n",
      "  host1 position = (41821.973, 44122.004, 46288.449) [kpc comoving]\n",
      "  host1 velocity = (-48.7, 73.1, 96.7) [km / s]\n",
      "  host1 axis ratios = (0.15, 0.15, 0.97)\n",
      "\n",
      "\n",
      "# in utilities.basic.io.file_hdf5():\n",
      "  reading file:  Users/awetzel/work/research/simulation/gizmo/simulations/m12/m12i/m12i_res57000/track/host_coordinates.hdf5\n",
      "    host.axis.ratios | float32, shape = (601, 1, 3)\n",
      "    host.position | float32, shape = (601, 1, 3)\n",
      "    host.rotation | float32, shape = (601, 1, 3, 3)\n",
      "    host.velocity | float32, shape = (601, 1, 3)\n",
      "    snapshot.index | int64, shape = ()\n",
      "    star.form.host.distance | float32, shape = (3059250, 3)\n",
      "    star.form.host.velocity | float32, shape = (3059250, 3)\n",
      "    star.id | uint32, shape = (3059250,)\n",
      "\n",
      "# in gizmo_analysis.gizmo_track.ParticleCoordinate():\n",
      "  reading formation coordinates for star particles at snapshot 600\n"
     ]
    }
   ],
   "source": [
    "# more conveniently, you can read the formation coordinates of star particles during snapshot read-in\n",
    "# by setting assign_formation_coordinates=True\n",
    "\n",
    "part_at_z0 = gizmo.io.Read.read_snapshots(\n",
    "    ['star'], 'redshift', 0, simulation_directory, assign_hosts_rotation=True, \n",
    "    assign_formation_coordinates=True)"
   ]
  },
  {
   "cell_type": "code",
   "execution_count": 22,
   "metadata": {},
   "outputs": [
    {
     "output_type": "execute_result",
     "data": {
      "text/plain": [
       "array([[ 4.5457406e+00,  5.7589731e+00, -1.0328604e+00],\n",
       "       [ 8.9594122e+02, -1.1873512e+03,  5.4280817e+02],\n",
       "       [ 1.2730801e+03,  4.3863670e+01, -5.9997925e+01],\n",
       "       ...,\n",
       "       [-3.6862216e+02,  7.0379065e+02, -9.2772058e+02],\n",
       "       [-3.4720767e+02,  3.9183545e+02, -2.2527449e+02],\n",
       "       [-2.9483548e+02,  4.7350249e+00, -2.5433069e+02]], dtype=float32)"
      ]
     },
     "metadata": {},
     "execution_count": 22
    }
   ],
   "source": [
    "# 3-D distance at formation\n",
    "# this is aligned with the principal axes of each host galaxy at that time [kpc physical]\n",
    "# we compute the principal axes *independently* at each snapshot\n",
    "# distance along dimension 0 is aligned with the major axiss\n",
    "# distance along dimension 1 is algined with the intermediate axis\n",
    "# distance along dimension 2 is aligned with the minor (Z) axis\n",
    "\n",
    "part_at_z0['star']['form.host.distance']\n",
    "\n",
    "# part_at_z0['star']['form.host2.distance']  # if the simulation has a second host galaxy (for example, ELVIS)"
   ]
  },
  {
   "cell_type": "code",
   "execution_count": 23,
   "metadata": {},
   "outputs": [
    {
     "output_type": "execute_result",
     "data": {
      "text/plain": [
       "array([   7.4092054, 1583.3995   , 1275.2477   , ..., 1221.4209   ,\n",
       "        569.9445   ,  389.40274  ], dtype=float32)"
      ]
     },
     "metadata": {},
     "execution_count": 23
    }
   ],
   "source": [
    "# as before, add 'total' to get the total scalar (absolute) distance wrt each host galaxy at formation [kpc physical]\n",
    "# this is a derived quantity, so need to call via .prop()\n",
    "\n",
    "part_at_z0['star'].prop('form.host.distance.total')"
   ]
  },
  {
   "cell_type": "code",
   "execution_count": 24,
   "metadata": {},
   "outputs": [
    {
     "output_type": "execute_result",
     "data": {
      "text/plain": [
       "array([[ 7.3368611e+00,  9.0259433e-01, -1.0328604e+00],\n",
       "       [ 1.4874520e+03,  5.3588095e+00,  5.4280817e+02],\n",
       "       [ 1.2738354e+03,  3.4441136e-02, -5.9997925e+01],\n",
       "       ...,\n",
       "       [ 7.9448322e+02,  2.0532761e+00, -9.2772058e+02],\n",
       "       [ 5.2353430e+02,  2.2958817e+00, -2.2527449e+02],\n",
       "       [ 2.9487350e+02,  3.1255341e+00, -2.5433069e+02]], dtype=float32)"
      ]
     },
     "metadata": {},
     "execution_count": 24
    }
   ],
   "source": [
    "# add 'cylindrical' to get 3-D distance at formation wrt each host galaxy in cylindrical coordinates [kpc physical]\n",
    "\n",
    "part_at_z0['star'].prop('form.host.distance.cylindrical')"
   ]
  },
  {
   "cell_type": "code",
   "execution_count": 25,
   "metadata": {},
   "outputs": [
    {
     "output_type": "execute_result",
     "data": {
      "text/plain": [
       "array([[ 7.336861  ,  0.9025943 , -1.0328604 ],\n",
       "       [ 2.8240697 ,  4.5712667 , -0.01329234],\n",
       "       [ 2.4336934 ,  3.578632  ,  0.01743255],\n",
       "       ...,\n",
       "       [ 2.752147  ,  5.991608  , -1.4814194 ],\n",
       "       [ 3.6225774 ,  3.389197  , -0.01087113],\n",
       "       [ 1.5268447 ,  1.9155377 , -0.12839043]], dtype=float32)"
      ]
     },
     "metadata": {},
     "execution_count": 25
    }
   ],
   "source": [
    "# these values look more reasonable if you restrict to star particles that formed within a host galaxy\n",
    "\n",
    "# select particles formed at d = 0 - 8 kpc physical\n",
    "part_indices = ut.array.get_indices(part_at_z0['star'].prop('form.host.distance.total'), [0, 8])\n",
    "\n",
    "part_at_z0['star'].prop('form.host.distance.cylindrical', part_indices)"
   ]
  },
  {
   "cell_type": "code",
   "execution_count": 27,
   "metadata": {},
   "outputs": [
    {
     "output_type": "stream",
     "name": "stdout",
     "text": [
      "[[ 597.68427    778.17926    291.25388  ]\n",
      " [  21.861961  -166.42316     20.273352 ]\n",
      " [ 244.85405   -126.531166    24.533964 ]\n",
      " ...\n",
      " [  -5.7452097  118.19287     -7.804297 ]\n",
      " [-128.7966      32.298725     8.159344 ]\n",
      " [-153.91582     44.954567   -40.771374 ]]\n",
      "[1023.5322   169.07283  276.7048  ...  118.5895   133.03513  165.44878]\n",
      "[[ 981.1322      12.9964905  291.25388  ]\n",
      " [ 146.01463    -82.79093     20.273352 ]\n",
      " [ 240.35184   -134.88751     24.533964 ]\n",
      " ...\n",
      " [ 107.36646    -49.749428    -7.804297 ]\n",
      " [ 109.59158     74.97638      8.159344 ]\n",
      " [ 154.61786    -42.47722    -40.771374 ]]\n"
     ]
    }
   ],
   "source": [
    "# same for velocity at formation\n",
    "\n",
    "print(part_at_z0['star']['form.host.velocity'])\n",
    "print(part_at_z0['star'].prop('form.host.velocity.total'))\n",
    "print(part_at_z0['star'].prop('form.host.velocity.cylindrical'))"
   ]
  },
  {
   "cell_type": "code",
   "execution_count": 32,
   "metadata": {},
   "outputs": [
    {
     "output_type": "stream",
     "name": "stdout",
     "text": [
      "[[[      nan       nan       nan]]\n\n [[      nan       nan       nan]]\n\n [[43738.48  42438.81  44075.555]]\n\n ...\n\n [[41822.176 44121.656 46288.01 ]]\n\n [[41822.07  44121.832 46288.22 ]]\n\n [[41821.973 44122.004 46288.45 ]]]\n[[[       nan        nan        nan]]\n\n [[       nan        nan        nan]]\n\n [[-36.463985  22.784967  40.35905 ]]\n\n ...\n\n [[-48.60423   73.22472   96.21793 ]]\n\n [[-48.6544    73.18901   96.45606 ]]\n\n [[-48.735596  73.141556  96.68621 ]]]\n"
     ]
    }
   ],
   "source": [
    "# recall that we store formation postions + velocities relative to each host's principal axes\n",
    "# and that we compute the principal axes separately at each snapshot\n",
    "# thus, we also store each host's coordinates and rotation tensor (for its principal axes) at each snapshot\n",
    "# so you can use this to compute formation coordinates in the box's x,y,z coordinates if you want\n",
    "\n",
    "print(part_at_z0.hostz['position'])\n",
    "\n",
    "print(part_at_z0.hostz['velocity'])"
   ]
  },
  {
   "cell_type": "code",
   "execution_count": 33,
   "metadata": {},
   "outputs": [
    {
     "output_type": "stream",
     "name": "stdout",
     "text": [
      "[[[[        nan         nan         nan]\n   [        nan         nan         nan]\n   [        nan         nan         nan]]]\n\n\n [[[        nan         nan         nan]\n   [        nan         nan         nan]\n   [        nan         nan         nan]]]\n\n\n [[[-0.6748151   0.40482095  0.617045  ]\n   [-0.536163   -0.84346956 -0.03299071]\n   [ 0.5071033  -0.35309932  0.786236  ]]]\n\n\n ...\n\n\n [[[-0.30780238  0.20832402  0.9283635 ]\n   [ 0.84225535  0.51352084  0.16401924]\n   [-0.44256487  0.8324046  -0.33352497]]]\n\n\n [[[-0.07945018  0.3342501   0.93912965]\n   [ 0.8932489   0.4420637  -0.0817683 ]\n   [-0.4424862   0.83238006 -0.33369058]]]\n\n\n [[[ 0.16259898  0.44078463  0.88276297]\n   [ 0.8818997   0.3363157  -0.33037043]\n   [-0.44250926  0.83222634 -0.33404326]]]]\n[[[       nan        nan        nan]]\n\n [[       nan        nan        nan]]\n\n [[       nan        nan 0.6049246 ]]\n\n ...\n\n [[0.14877434 0.15252914 0.9753831 ]]\n\n [[0.14853545 0.1528604  0.97170645]]\n\n [[0.14807291 0.15283084 0.968868  ]]]\n"
     ]
    }
   ],
   "source": [
    "print(part_at_z0.hostz['rotation'])\n",
    "\n",
    "print(part_at_z0.hostz['axis.ratios'])"
   ]
  },
  {
   "cell_type": "markdown",
   "metadata": {
    "collapsed": true
   },
   "source": [
    "# profile of properties"
   ]
  },
  {
   "cell_type": "markdown",
   "metadata": {},
   "source": [
    "A common task is to compute a radial profile of a given quantity, such as mass density, average age, median metallicity, etc.\n",
    "\n",
    "The following functions in utilities.particle make this easier to do."
   ]
  },
  {
   "cell_type": "code",
   "execution_count": 34,
   "metadata": {},
   "outputs": [
    {
     "output_type": "stream",
     "name": "stdout",
     "text": [
      "\n",
      "# in utilities.simulation.Snapshot():\n",
      "* reading:  Users/awetzel/work/research/simulation/gizmo/simulations/m12/m12i/m12i_res57000/snapshot_times.txt\n",
      "\n",
      "* input redshift = 0:  using snapshot index = 600, redshift = 0.000\n",
      "\n",
      "\n",
      "# in gizmo_analysis.gizmo_io.Read():\n",
      "* reading header from:  Users/awetzel/work/research/simulation/gizmo/simulations/m12/m12i/m12i_res57000/output/snapshot_600.hdf5\n",
      "  snapshot contains the following number of particles:\n",
      "    dark      (id = 1): 8820344 particles\n",
      "    dark2     (id = 2): 3081337 particles\n",
      "    gas       (id = 0): 5969934 particles\n",
      "    star      (id = 4): 3059250 particles\n",
      "    blackhole (id = 5): 0 particles\n",
      "\n",
      "* reading species: ['star']\n",
      "* reading particles from:\n",
      "    Users/awetzel/work/research/simulation/gizmo/simulations/m12/m12i/m12i_res57000/output/snapshot_600.hdf5\n",
      "\n",
      "* reading cosmological parameters from:  Users/awetzel/work/research/simulation/gizmo/simulations/m12/m12i/m12i_res57000/initial_condition/ic_agora_m12i.conf\n",
      "\n",
      "* checking sanity of particle properties\n",
      "\n",
      "  read 1 host (position, velocity, rotation, axis ratios) from:  Users/awetzel/work/research/simulation/gizmo/simulations/m12/m12i/m12i_res57000/track/host_coordinates.hdf5\n",
      "  host1 position = (41821.973, 44122.004, 46288.449) [kpc comoving]\n",
      "  host1 velocity = (-48.7, 73.1, 96.7) [km / s]\n",
      "  host1 axis ratios = (0.15, 0.15, 0.97)\n",
      "\n"
     ]
    }
   ],
   "source": [
    "# read star particles at z = 0\n",
    "\n",
    "part = gizmo.io.Read.read_snapshots(\n",
    "    ['star'], 'redshift', 0, simulation_directory, assign_hosts_rotation=True)"
   ]
  },
  {
   "cell_type": "code",
   "execution_count": 37,
   "metadata": {},
   "outputs": [],
   "source": [
    "# first, initiate an instance of SpeciesProfileClass\n",
    "# as you initialize, choose your distance/radius binning scheme:\n",
    "#   distance limits, bin width, whether to use log scaling, number of spatial dimensions of profile\n",
    "# refer to ut.binning.DistanceBinClass() for more\n",
    "\n",
    "# linear binning from 0 to 20 kpc with 1 kpc bin width, assuming a 3-D profile\n",
    "SpeciesProfile = ut.particle.SpeciesProfileClass(\n",
    "    limits=[0, 20], width=1, log_scale=False, dimension_number=3)"
   ]
  },
  {
   "cell_type": "code",
   "execution_count": 38,
   "metadata": {},
   "outputs": [
    {
     "output_type": "stream",
     "name": "stdout",
     "text": [
      "\n# in utilities.particle.SpeciesProfile():\n  input  3059250 distances -  2706223 (88.5%) are within limits = [0.000, 20.000]\n"
     ]
    }
   ],
   "source": [
    "# using this binning scheme, compute sum/histogram/density of mass of star particles in each bin\n",
    "# this returns a bunch of summed properties via a dictionary\n",
    "\n",
    "pro = SpeciesProfile.get_sum_profiles(part, 'star', 'mass')"
   ]
  },
  {
   "cell_type": "code",
   "execution_count": 40,
   "metadata": {},
   "outputs": [
    {
     "output_type": "execute_result",
     "data": {
      "text/plain": [
       "dict_keys(['star', 'baryon', 'total'])"
      ]
     },
     "metadata": {},
     "execution_count": 40
    }
   ],
   "source": [
    "# you can supply a list of multiple species, and it will compute profiles for each\n",
    "# thus, get_sum_profiles() returns a dictionary for each species\n",
    "# 'baryon' is the sum total of stars + gas, 'total' is the sum total of all particle species\n",
    "\n",
    "pro.keys()"
   ]
  },
  {
   "cell_type": "code",
   "execution_count": 41,
   "metadata": {},
   "outputs": [
    {
     "output_type": "execute_result",
     "data": {
      "text/plain": [
       "dict_keys(['sum', 'sum.cum', 'log sum', 'log sum.cum', 'density', 'log density', 'density.cum', 'log density.cum', 'density*r', 'log density*r', 'density*r^2', 'log density*r^2', 'distance.mid', 'distance.cum', 'log distance.mid', 'log distance.cum', 'sum.fraction', 'sum.cum.fraction', 'vel.circ'])"
      ]
     },
     "metadata": {},
     "execution_count": 41
    }
   ],
   "source": [
    "# the quantities that it stores in each bin\n",
    "\n",
    "pro['star'].keys()"
   ]
  },
  {
   "cell_type": "code",
   "execution_count": 42,
   "metadata": {},
   "outputs": [],
   "source": [
    "# alternately, you may want to compute profiles along a disk's cylindrical R or Z axes\n",
    "# if so, first define the dimensionality of the profile when you initiate the class\n",
    "\n",
    "# log binning from 0.1 to 10 kpc with 0.1 dex bin width, assuming a 2-D profile (along R)\n",
    "SpeciesProfile = ut.particle.SpeciesProfileClass(\n",
    "    limits=[0.1, 10], width=0.1, log_scale=True, dimension_number=2)"
   ]
  },
  {
   "cell_type": "code",
   "execution_count": 43,
   "metadata": {},
   "outputs": [
    {
     "output_type": "stream",
     "name": "stdout",
     "text": [
      "\n# in utilities.particle.SpeciesProfile():\n  input  2097059 distances -  2064104 (98.4%) are within limits = [0.100, 10.000]\n"
     ]
    }
   ],
   "source": [
    "# set rotation=True to force the code to compute profiles along the principal axes (assuming that you assign them during read in)\n",
    "# use other_axis_distance_limits to limit the extent along the other axis, \n",
    "#   in this case, limit the Z axis to within +/- 1 kpc (in the profile, all distances are absolute)\n",
    "\n",
    "pro = SpeciesProfile.get_sum_profiles(\n",
    "    part, 'star', 'mass', rotation=True, other_axis_distance_limits=[0, 1])"
   ]
  },
  {
   "cell_type": "code",
   "execution_count": 44,
   "metadata": {},
   "outputs": [
    {
     "output_type": "stream",
     "name": "stdout",
     "text": [
      "\n# in utilities.particle.SpeciesProfile():\n  input   293261 distances -   259655 (88.5%) are within limits = [0.100, 10.000]\n"
     ]
    }
   ],
   "source": [
    "# similarly, do this to compute profiles along disk's Z axis\n",
    "\n",
    "# log binning from 0.1 to 10 kpc with 0.1 dex bin width, assuming a 1-D profile (along Z)\n",
    "SpeciesProfile = ut.particle.SpeciesProfileClass(\n",
    "    limits=[0.1, 10], width=0.1, log_scale=True, dimension_number=1)\n",
    "\n",
    "# limit the R axex to [5, 8] kpc \n",
    "pro = SpeciesProfile.get_sum_profiles(\n",
    "    part, 'star', 'mass', rotation=True, other_axis_distance_limits=[5, 8])"
   ]
  },
  {
   "cell_type": "code",
   "execution_count": 45,
   "metadata": {},
   "outputs": [
    {
     "output_type": "stream",
     "name": "stdout",
     "text": [
      "  input   293261 distances -   259655 (88.5%) are within limits = [0.100, 10.000]\n"
     ]
    }
   ],
   "source": [
    "# get_statistics_profiles() computes various statistics of a property of star particles in each bin below, it weights the property by the mass of each star particle (generally what you should do)\n",
    "# this returns a bunch of useful statistics via a dictionary\n",
    "\n",
    "pro = SpeciesProfile.get_statistics_profiles(\n",
    "    part, 'star', 'age', weight_by_mass=True, rotation=True, other_axis_distance_limits=[5, 8])"
   ]
  },
  {
   "cell_type": "code",
   "execution_count": 46,
   "metadata": {},
   "outputs": [
    {
     "output_type": "execute_result",
     "data": {
      "text/plain": [
       "dict_keys(['limits', 'number', 'median', 'percent.16', 'percent.84', 'percent.2', 'percent.98', 'percent.0.1', 'percent.99.9', 'percent.25', 'percent.75', 'percents.68', 'percents.95', 'median.dif.2', 'median.dif.16', 'median.dif.84', 'median.dif.98', 'median.difs.68', 'median.difs.95', 'average', 'std', 'sem', 'std.lo', 'std.hi', 'min', 'max', 'percent.50', 'average.50', 'sem.lo', 'sem.hi', 'distance.mid', 'distance.cum', 'log distance.mid', 'log distance.cum'])"
      ]
     },
     "metadata": {},
     "execution_count": 46
    }
   ],
   "source": [
    "# the quantities that it stores in each bin\n",
    "\n",
    "pro['star'].keys()"
   ]
  },
  {
   "source": [
    "# age-tracer model for assigning elemental abundances to particles in post-processing"
   ],
   "cell_type": "markdown",
   "metadata": {}
  },
  {
   "source": [
    "This is a tutorial on using the age-tracer model to assign elemental abundaces to star and gas particles in FIRE-2 and FIRE-3 simulations. This requires that you are analyzing a simulation has has the age-tracer model enabled, via enabling GALSF_FB_FIRE_AGE_TRACERS in Gizmo's Config.sh."
   ],
   "cell_type": "markdown",
   "metadata": {}
  },
  {
   "cell_type": "code",
   "execution_count": 12,
   "metadata": {},
   "outputs": [],
   "source": [
    "# use this is you are running from within a simulation directory\n",
    "#simulation_directory = '.'\n",
    "\n",
    "# use this to point to a specific simulation directory, if you run this notebook from somwhere else\n",
    "#simulation_directory = '/Users/awetzel/work/research/simulation/gizmo/simulations/m12/m12i/m12i_res57000_uvb-late_age-tracer'\n",
    "simulation_directory = '/Users/awetzel/work/research/simulation/gizmo/simulations/m12/m12i/m12i_res7100_uvb-late_age-tracer'"
   ]
  },
  {
   "cell_type": "code",
   "execution_count": 7,
   "metadata": {},
   "outputs": [
    {
     "output_type": "stream",
     "name": "stdout",
     "text": [
      "\n",
      "# in utilities.simulation.Snapshot():\n",
      "* reading:  Users/awetzel/work/research/simulation/gizmo/simulations/m12/m12i/m12i_res57000_fire3/snapshot_times.txt\n",
      "\n",
      "* input redshift = 2:  using snapshot index = 172, redshift = 2.000\n",
      "\n",
      "\n",
      "# in gizmo_analysis.gizmo_io.Read():\n",
      "* reading header from:  Users/awetzel/work/research/simulation/gizmo/simulations/m12/m12i/m12i_res57000_fire3/output/snapshot_172.hdf5\n",
      "  snapshot contains the following number of particles:\n",
      "    dark      (id = 1): 8820344 particles\n",
      "    dark2     (id = 2): 3081337 particles\n",
      "    gas       (id = 0): 8221160 particles\n",
      "    star      (id = 4): 599194 particles\n",
      "    blackhole (id = 5): 0 particles\n",
      "\n",
      "* reading species: ['star']\n",
      "* reading particles from:\n",
      "    Users/awetzel/work/research/simulation/gizmo/simulations/m12/m12i/m12i_res57000_fire3/output/snapshot_172.hdf5\n",
      "\n",
      "* reading cosmological parameters from:  Users/awetzel/work/research/simulation/gizmo/simulations/m12/m12i/m12i_res57000_fire3/initial_condition/ic_agora_m12i.conf\n",
      "\n",
      "* checking sanity of particle properties\n",
      "\n",
      "  cannot read file containing hosts coordinates\n",
      "  instead will assign hosts via iterative zoom on particle mass\n",
      "\n",
      "# in utilities.particle.get_center_positions():\n",
      "* assigning position for 1 center/host, via iterative zoom-in on star particle mass\n",
      "  host1 position = (42858.679, 42506.877, 44849.608) [kpc comoving]\n",
      "\n",
      "# in utilities.particle.get_center_velocities():\n",
      "* assigning velocity for 1 center/host, weighting star particles by mass\n",
      "  host1 velocity = (-63.2, 102.9, 54.4) [km / s]\n",
      "\n"
     ]
    }
   ],
   "source": [
    "# read star particles at z = 0 from a simulation with age tracers enabled\n",
    "\n",
    "#part = gizmo.io.Read.read_snapshots(['star'], 'index', 172, simulation_directory=simulation_directory)\n",
    "part = gizmo.io.Read.read_snapshots(['star'], 'index', 267, simulation_directory=simulation_directory)"
   ]
  },
  {
   "cell_type": "code",
   "execution_count": 4,
   "metadata": {},
   "outputs": [
    {
     "output_type": "execute_result",
     "data": {
      "text/plain": [
       "True"
      ]
     },
     "metadata": {},
     "execution_count": 4
    }
   ],
   "source": [
    "# the simulation has age tracers if the following flag is True\n",
    "\n",
    "part.info['has.agetracer']"
   ]
  },
  {
   "cell_type": "code",
   "execution_count": 5,
   "metadata": {},
   "outputs": [
    {
     "output_type": "stream",
     "name": "stdout",
     "text": [
      "number of age bins = 16\nage min,max = 1.0, 14000.0 Myr\ntargeted number of events per age bins = 10.0\n"
     ]
    }
   ],
   "source": [
    "# additional information about the age-tracer model used in the simulation\n",
    "\n",
    "# number of age bins in the age-tracer model\n",
    "print('number of age bins = {}'.format(part.info['agetracer.number']))\n",
    "\n",
    "# if age-tracer model used bins equally spaced in log age (which is the default), the min and max age of these bins [Myr] (though GizmoAnalysis will over-ride the age min to be 0)\n",
    "if 'agetracer.min' in part.info:\n",
    "    print('age min,max = {}, {} Myr'.format(part.info['agetracer.min'], part.info['agetracer.max']))\n",
    "\n",
    "# alternately, if the simulation used custom age bins, this lists them\n",
    "if 'agetracer.bins' in part.info:\n",
    "    print('age bins = {}'.format(part.info['agetracer.bins']))\n",
    "\n",
    "# targeted number of age-tracer injection events per age bin\n",
    "print('targeted number of events per age bins = {}'.format(part.info['agetracer.events.per.bin']))"
   ]
  },
  {
   "cell_type": "code",
   "execution_count": 9,
   "metadata": {},
   "outputs": [],
   "source": [
    "# if a simulation has age tracers enabled, read_snapshots() automatically sets up the nucleosynthetic yields for computing elementa abundances in the FIRE-2 model and assigns the class to the each species' particle dictionary\n",
    "\n",
    "# here we work though the steps for star particles, though this works identically for gas particles\n",
    "\n",
    "species_name = 'star'\n",
    "#species_name = 'gas'"
   ]
  },
  {
   "cell_type": "code",
   "execution_count": 11,
   "metadata": {},
   "outputs": [],
   "source": [
    "# create and append an age-tracer dictionary class to particle species catalog\n",
    "# this stores all age-tracer information and provides the methods to compute elemental abundances (mass fractions) for each particle from the age-tracer weights\n",
    "\n",
    "# pass in the snapshot header information, stored via part.info, which contains the age-tracer bin information, to set up the age bins\n",
    "#part[species_name].ElementAgeTracer = gizmo.agetracer.ElementAgeTracerClass(part.info)\n",
    "\n",
    "# test\n",
    "part[species_name].ElementAgeTracer = gizmo.agetracer.ElementAgeTracerClass()\n",
    "part[species_name].ElementAgeTracer.assign_age_bins(age_bin_number=16, age_min=1, age_max=14000)"
   ]
  },
  {
   "cell_type": "code",
   "execution_count": 8,
   "metadata": {},
   "outputs": [],
   "source": [
    "# set the initial conditions for elemental abundances, that is, the initial mass fraction of each element\n",
    "# this is not strictly necessary, the initial massfractions will default to 0 if you do not do this\n",
    "# but this step can be useful if you want to be consistent with the metallicity floor (mass fraction = 1e-4 or 1e-5) used in many FIRE-2 simulations\n",
    "\n",
    "# you can supply a single float to apply to all abundances (this is the default),\n",
    "# or you can supply a dictionary with element names as keys and values as initial mass fractions, if you want to use a different initial abundance for each element\n",
    "\n",
    "part[species_name].ElementAgeTracer.assign_element_massfraction_initial(1e-5)"
   ]
  },
  {
   "cell_type": "code",
   "execution_count": 9,
   "metadata": {},
   "outputs": [],
   "source": [
    "# up to now we have not set or assumed any stellar nucleosynthetic rate or yield model, so the information in ElementAgeTracer is completely general to any such model\n",
    "\n",
    "# so next we need to assum actual nucleosynthetic rates + yields for a given stellar evolution model, to supply to ElementAgeTracer, to generate actual nucleosynthetic yields from the age-tracer weights\n",
    "# see gizmo_agetracer.py for examples in setting up the required yield class, which should contain a rate + yield model for each element\n",
    "\n",
    "# here we use the default stellar evolution model in FIRE-2, assuming a default progenitor metallicity of 1.0 x Solar\n",
    "FIREYield = gizmo.agetracer.FIREYieldClass('fire2', progenitor_metallicity=1)"
   ]
  },
  {
   "cell_type": "code",
   "execution_count": 10,
   "metadata": {},
   "outputs": [],
   "source": [
    "# next we generate a nucleosynthetic yield table, by integrating this nucleosynthetic yield model within each age-tracer age bin, to discretize/average thesenucleosynthetic yield within these age bins\n",
    "# so, we neet to supply the age bins used in the age-tracer model\n",
    "# these yields should be in a dictionary, with element names as keys, and an array of yields within each age bin as values\n",
    "\n",
    "yield_dict = FIREYield.get_element_yields(part[species_name].ElementAgeTracer['age.bins'])"
   ]
  },
  {
   "cell_type": "code",
   "execution_count": 11,
   "metadata": {},
   "outputs": [],
   "source": [
    "# finally, transfer this yield dictionary to store in ElementAgeTracer\n",
    "# this stores the dictionary keys as both the element name and the element symbol, for convenience in calling later\n",
    "\n",
    "part[species_name].ElementAgeTracer.assign_element_yields(yield_dict)"
   ]
  },
  {
   "cell_type": "code",
   "execution_count": 12,
   "metadata": {},
   "outputs": [
    {
     "output_type": "stream",
     "name": "stdout",
     "text": [
      "[1.4268090e-04 1.9041629e-04 1.6661340e-04 ... 3.8017595e-05 8.8265733e-05\n 7.3375501e-05]\n[2.51438075e-04 2.09050784e-04 1.90862661e-04 ... 3.97525803e-05\n 7.25392734e-05 7.47738888e-05]\n[-0.9572731  -0.83193487 -0.88992906 ... -1.5316544  -1.1658468\n -1.2460879 ]\n[-0.71120792 -0.79138717 -0.83091799 ... -1.51227365 -1.25106577\n -1.237889  ]\n"
     ]
    }
   ],
   "source": [
    "# finally, use .prop() to call the age-tracer elemental mass fractions as derived quantities\n",
    "# you just need to append '.agetracer' to the property name\n",
    "# under the hood, this uses ElementAgeTracer.get_element_massfractions() to compute the element mass fractions from the age-tracer weights convolved with the nucleosynthetic yield model, adding in the initial abundances (if you set them)\n",
    "\n",
    "# mass fraction of iron for each particle, as tracked natively in the simulation\n",
    "print(part[species_name].prop('massfraction.fe'))\n",
    "\n",
    "# mass fraction of iron for each particle, as computed via post-processing the age-tracer weights\n",
    "print(part[species_name].prop('massfraction.agetracer.fe'))\n",
    "\n",
    "# 'metallicity' (wrt Solar, as in Asplund et al 2009) of iron for each particle, as tracked natively in the simulation\n",
    "print(part[species_name].prop('metallicity.fe'))\n",
    "\n",
    "# 'metallicity' of iron for each particle, as computed via post-processing the age-tracer weights\n",
    "print(part[species_name].prop('metallicity.agetracer.fe'))"
   ]
  },
  {
   "cell_type": "code",
   "execution_count": 13,
   "metadata": {},
   "outputs": [
    {
     "output_type": "stream",
     "name": "stdout",
     "text": [
      "\n# in utilities.basic.binning.get_bin_indices():\n! input value limits = [-4.97, 0.45] exceed bin limits = [-4.0, 2.0]\n"
     ]
    },
    {
     "output_type": "execute_result",
     "data": {
      "text/plain": [
       "Text(0.5, 0, '[Fe/H]')"
      ]
     },
     "metadata": {},
     "execution_count": 13
    },
    {
     "output_type": "display_data",
     "data": {
      "text/plain": "<Figure size 432x288 with 1 Axes>",
      "image/svg+xml": "<?xml version=\"1.0\" encoding=\"utf-8\" standalone=\"no\"?>\n<!DOCTYPE svg PUBLIC \"-//W3C//DTD SVG 1.1//EN\"\n  \"http://www.w3.org/Graphics/SVG/1.1/DTD/svg11.dtd\">\n<!-- Created with matplotlib (https://matplotlib.org/) -->\n<svg height=\"296.611875pt\" version=\"1.1\" viewBox=\"0 0 407.139062 296.611875\" width=\"407.139062pt\" xmlns=\"http://www.w3.org/2000/svg\" xmlns:xlink=\"http://www.w3.org/1999/xlink\">\n <metadata>\n  <rdf:RDF xmlns:cc=\"http://creativecommons.org/ns#\" xmlns:dc=\"http://purl.org/dc/elements/1.1/\" xmlns:rdf=\"http://www.w3.org/1999/02/22-rdf-syntax-ns#\">\n   <cc:Work>\n    <dc:type rdf:resource=\"http://purl.org/dc/dcmitype/StillImage\"/>\n    <dc:date>2021-01-08T16:22:18.630048</dc:date>\n    <dc:format>image/svg+xml</dc:format>\n    <dc:creator>\n     <cc:Agent>\n      <dc:title>Matplotlib v3.3.2, https://matplotlib.org/</dc:title>\n     </cc:Agent>\n    </dc:creator>\n   </cc:Work>\n  </rdf:RDF>\n </metadata>\n <defs>\n  <style type=\"text/css\">*{stroke-linecap:butt;stroke-linejoin:round;}</style>\n </defs>\n <g id=\"figure_1\">\n  <g id=\"patch_1\">\n   <path d=\"M 0 296.611875 \nL 407.139062 296.611875 \nL 407.139062 0 \nL 0 0 \nz\n\" style=\"fill:none;\"/>\n  </g>\n  <g id=\"axes_1\">\n   <g id=\"patch_2\">\n    <path d=\"M 62.459063 256.12 \nL 392.939062 256.12 \nL 392.939062 14.2 \nL 62.459063 14.2 \nz\n\" style=\"fill:#ffffff;\"/>\n   </g>\n   <g id=\"PolyCollection_1\">\n    <defs>\n     <path d=\"M 65.213062 -348.070866 \nL 65.213062 -317.511466 \nL 70.721062 -326.62679 \nL 76.229062 -323.935405 \nL 81.737062 -327.342939 \nL 87.245062 -330.362936 \nL 92.753062 -325.063742 \nL 98.261063 -320.517645 \nL 103.769063 -319.686533 \nL 109.277062 -310.955831 \nL 114.785063 -297.55661 \nL 120.293063 -287.007878 \nL 125.801063 -272.100433 \nL 131.309063 -271.08112 \nL 136.817063 -246.256037 \nL 142.325063 -236.666867 \nL 147.833063 -222.783485 \nL 153.341063 -211.228682 \nL 158.849063 -201.178782 \nL 164.357063 -194.441807 \nL 169.865063 -196.293889 \nL 175.373063 -194.664653 \nL 180.881063 -191.006863 \nL 186.389063 -191.390062 \nL 191.897063 -190.404623 \nL 197.405063 -190.235067 \nL 202.913063 -189.602003 \nL 208.421063 -189.559788 \nL 213.929063 -188.305871 \nL 219.437063 -187.203917 \nL 224.945063 -186.307573 \nL 230.453063 -184.877535 \nL 235.961063 -183.356523 \nL 241.469063 -183.639761 \nL 246.977063 -184.257562 \nL 252.485063 -186.682985 \nL 257.993063 -184.454081 \nL 263.501063 -175.889414 \nL 269.009063 -163.757417 \nL 274.517063 -149.001466 \nL 280.025063 -133.521327 \nL 285.533063 -120.683158 \nL 291.041063 -119.939243 \nL 296.549063 -87.889646 \nL 302.057063 -68.817572 \nL 307.565063 -90.710181 \nL 313.073063 -161.451875 \nL 318.581063 -161.451875 \nL 324.089063 -161.451875 \nL 329.597063 -161.451875 \nL 335.105063 -161.451875 \nL 340.613063 -161.451875 \nL 346.121063 -161.451875 \nL 351.629063 -161.451875 \nL 357.137063 -161.451875 \nL 362.645063 -161.451875 \nL 368.153063 -161.451875 \nL 373.661063 -161.451875 \nL 379.169063 -161.451875 \nL 384.677063 -161.451875 \nL 390.185063 -161.451875 \nL 390.185063 -161.451875 \nL 390.185063 -161.451875 \nL 384.677063 -161.451875 \nL 379.169063 -161.451875 \nL 373.661063 -161.451875 \nL 368.153063 -161.451875 \nL 362.645063 -161.451875 \nL 357.137063 -161.451875 \nL 351.629063 -161.451875 \nL 346.121063 -161.451875 \nL 340.613063 -161.451875 \nL 335.105063 -161.451875 \nL 329.597063 -161.451875 \nL 324.089063 -161.451875 \nL 318.581063 -161.451875 \nL 313.073063 -161.451875 \nL 307.565063 -98.673034 \nL 302.057063 -87.805507 \nL 296.549063 -140.420818 \nL 291.041063 -131.710238 \nL 285.533063 -143.798887 \nL 280.025063 -172.97734 \nL 274.517063 -184.856918 \nL 269.009063 -189.696809 \nL 263.501063 -202.167552 \nL 257.993063 -207.655142 \nL 252.485063 -206.441529 \nL 246.977063 -209.584221 \nL 241.469063 -211.542121 \nL 235.961063 -213.157302 \nL 230.453063 -216.329777 \nL 224.945063 -223.066801 \nL 219.437063 -229.064498 \nL 213.929063 -234.686181 \nL 208.421063 -239.26739 \nL 202.913063 -243.84169 \nL 197.405063 -248.231335 \nL 191.897063 -248.749426 \nL 186.389063 -252.547189 \nL 180.881063 -255.481523 \nL 175.373063 -262.4373 \nL 169.865063 -266.599795 \nL 164.357063 -274.779919 \nL 158.849063 -297.456817 \nL 153.341063 -328.039903 \nL 147.833063 -344.136609 \nL 142.325063 -346.997683 \nL 136.817063 -347.920145 \nL 131.309063 -349.169948 \nL 125.801063 -349.778646 \nL 120.293063 -350.02471 \nL 114.785063 -350.758037 \nL 109.277062 -350.673701 \nL 103.769063 -350.957207 \nL 98.261063 -351.171567 \nL 92.753062 -351.107182 \nL 87.245062 -350.725823 \nL 81.737062 -350.385054 \nL 76.229062 -349.670687 \nL 70.721062 -349.092007 \nL 65.213062 -348.070866 \nz\n\" id=\"mc195fe608b\" style=\"stroke:#000000;stroke-opacity:0.2;stroke-width:3;\"/>\n    </defs>\n    <g clip-path=\"url(#p73eac903b5)\">\n     <use style=\"fill-opacity:0.2;stroke:#000000;stroke-opacity:0.2;stroke-width:3;\" x=\"0\" xlink:href=\"#mc195fe608b\" y=\"296.611875\"/>\n    </g>\n   </g>\n   <g id=\"PolyCollection_2\">\n    <defs>\n     <path d=\"M 65.213062 -161.451875 \nL 65.213062 -161.451875 \nL 70.721062 -161.451875 \nL 76.229062 -161.451875 \nL 81.737062 -161.451875 \nL 87.245062 -161.451875 \nL 92.753062 -161.451875 \nL 98.261063 -161.451875 \nL 103.769063 -161.451875 \nL 109.277062 -161.451875 \nL 114.785063 -161.451875 \nL 120.293063 -161.451875 \nL 125.801063 -161.451875 \nL 131.309063 -161.451875 \nL 136.817063 -161.451875 \nL 142.325063 -161.451875 \nL 147.833063 -161.451875 \nL 153.341063 -161.451875 \nL 158.849063 -161.451875 \nL 164.357063 -106.616277 \nL 169.865063 -190.747529 \nL 175.373063 -188.67277 \nL 180.881063 -196.802656 \nL 186.389063 -203.680938 \nL 191.897063 -208.370713 \nL 197.405063 -211.977798 \nL 202.913063 -214.751795 \nL 208.421063 -216.981403 \nL 213.929063 -218.473911 \nL 219.437063 -219.408882 \nL 224.945063 -219.872526 \nL 230.453063 -220.283437 \nL 235.961063 -220.457404 \nL 241.469063 -220.755271 \nL 246.977063 -221.209528 \nL 252.485063 -221.524778 \nL 257.993063 -221.620585 \nL 263.501063 -221.55657 \nL 269.009063 -220.971106 \nL 274.517063 -210.815682 \nL 280.025063 -206.70168 \nL 285.533063 -196.961407 \nL 291.041063 -177.765172 \nL 296.549063 -208.32814 \nL 302.057063 -161.451875 \nL 307.565063 -145.341939 \nL 313.073063 -161.451875 \nL 318.581063 -161.451875 \nL 324.089063 -161.451875 \nL 329.597063 -161.451875 \nL 335.105063 -161.451875 \nL 340.613063 -161.451875 \nL 346.121063 -161.451875 \nL 351.629063 -161.451875 \nL 357.137063 -161.451875 \nL 362.645063 -161.451875 \nL 368.153063 -161.451875 \nL 373.661063 -161.451875 \nL 379.169063 -161.451875 \nL 384.677063 -161.451875 \nL 390.185063 -161.451875 \nL 390.185063 -161.451875 \nL 390.185063 -161.451875 \nL 384.677063 -161.451875 \nL 379.169063 -161.451875 \nL 373.661063 -161.451875 \nL 368.153063 -161.451875 \nL 362.645063 -161.451875 \nL 357.137063 -161.451875 \nL 351.629063 -161.451875 \nL 346.121063 -161.451875 \nL 340.613063 -161.451875 \nL 335.105063 -161.451875 \nL 329.597063 -161.451875 \nL 324.089063 -161.451875 \nL 318.581063 -161.451875 \nL 313.073063 -161.451875 \nL 307.565063 -163.646984 \nL 302.057063 -161.451875 \nL 296.549063 -208.32814 \nL 291.041063 -233.152893 \nL 285.533063 -234.560536 \nL 280.025063 -234.082055 \nL 274.517063 -236.275474 \nL 269.009063 -234.72561 \nL 263.501063 -231.626598 \nL 257.993063 -228.799613 \nL 252.485063 -228.798451 \nL 246.977063 -230.641182 \nL 241.469063 -231.542065 \nL 235.961063 -232.318797 \nL 230.453063 -233.467539 \nL 224.945063 -235.072358 \nL 219.437063 -236.433728 \nL 213.929063 -237.87975 \nL 208.421063 -239.34774 \nL 202.913063 -240.68423 \nL 197.405063 -243.475847 \nL 191.897063 -247.30943 \nL 186.389063 -253.005936 \nL 180.881063 -263.28826 \nL 175.373063 -275.494996 \nL 169.865063 -278.835587 \nL 164.357063 -262.999772 \nL 158.849063 -161.451875 \nL 153.341063 -161.451875 \nL 147.833063 -161.451875 \nL 142.325063 -161.451875 \nL 136.817063 -161.451875 \nL 131.309063 -161.451875 \nL 125.801063 -161.451875 \nL 120.293063 -161.451875 \nL 114.785063 -161.451875 \nL 109.277062 -161.451875 \nL 103.769063 -161.451875 \nL 98.261063 -161.451875 \nL 92.753062 -161.451875 \nL 87.245062 -161.451875 \nL 81.737062 -161.451875 \nL 76.229062 -161.451875 \nL 70.721062 -161.451875 \nL 65.213062 -161.451875 \nz\n\" id=\"m473ad86e95\" style=\"stroke:#1f77b4;stroke-opacity:0.2;stroke-width:3;\"/>\n    </defs>\n    <g clip-path=\"url(#p73eac903b5)\">\n     <use style=\"fill:#1f77b4;fill-opacity:0.2;stroke:#1f77b4;stroke-opacity:0.2;stroke-width:3;\" x=\"0\" xlink:href=\"#m473ad86e95\" y=\"296.611875\"/>\n    </g>\n   </g>\n   <g id=\"matplotlib.axis_1\">\n    <g id=\"xtick_1\">\n     <g id=\"line2d_1\">\n      <defs>\n       <path d=\"M 0 0 \nL 0 7 \n\" id=\"m8c7bd4dbd6\" style=\"stroke:#000000;stroke-width:1.2;\"/>\n      </defs>\n      <g>\n       <use style=\"stroke:#000000;stroke-width:1.2;\" x=\"62.459062\" xlink:href=\"#m8c7bd4dbd6\" y=\"256.12\"/>\n      </g>\n     </g>\n     <g id=\"line2d_2\">\n      <defs>\n       <path d=\"M 0 0 \nL 0 -7 \n\" id=\"mde27060113\" style=\"stroke:#000000;stroke-width:1.2;\"/>\n      </defs>\n      <g>\n       <use style=\"stroke:#000000;stroke-width:1.2;\" x=\"62.459062\" xlink:href=\"#mde27060113\" y=\"14.2\"/>\n      </g>\n     </g>\n     <g id=\"text_1\">\n      <!-- −4 -->\n      <g transform=\"translate(55.087969 273.718438)scale(0.1 -0.1)\">\n       <defs>\n        <path d=\"M 10.59375 35.5 \nL 73.1875 35.5 \nL 73.1875 27.203125 \nL 10.59375 27.203125 \nz\n\" id=\"DejaVuSans-8722\"/>\n        <path d=\"M 37.796875 64.3125 \nL 12.890625 25.390625 \nL 37.796875 25.390625 \nz\nM 35.203125 72.90625 \nL 47.609375 72.90625 \nL 47.609375 25.390625 \nL 58.015625 25.390625 \nL 58.015625 17.1875 \nL 47.609375 17.1875 \nL 47.609375 0 \nL 37.796875 0 \nL 37.796875 17.1875 \nL 4.890625 17.1875 \nL 4.890625 26.703125 \nz\n\" id=\"DejaVuSans-52\"/>\n       </defs>\n       <use xlink:href=\"#DejaVuSans-8722\"/>\n       <use x=\"83.789062\" xlink:href=\"#DejaVuSans-52\"/>\n      </g>\n     </g>\n    </g>\n    <g id=\"xtick_2\">\n     <g id=\"line2d_3\">\n      <g>\n       <use style=\"stroke:#000000;stroke-width:1.2;\" x=\"117.539062\" xlink:href=\"#m8c7bd4dbd6\" y=\"256.12\"/>\n      </g>\n     </g>\n     <g id=\"line2d_4\">\n      <g>\n       <use style=\"stroke:#000000;stroke-width:1.2;\" x=\"117.539062\" xlink:href=\"#mde27060113\" y=\"14.2\"/>\n      </g>\n     </g>\n     <g id=\"text_2\">\n      <!-- −3 -->\n      <g transform=\"translate(110.167969 273.718438)scale(0.1 -0.1)\">\n       <defs>\n        <path d=\"M 40.578125 39.3125 \nQ 47.65625 37.796875 51.625 33 \nQ 55.609375 28.21875 55.609375 21.1875 \nQ 55.609375 10.40625 48.1875 4.484375 \nQ 40.765625 -1.421875 27.09375 -1.421875 \nQ 22.515625 -1.421875 17.65625 -0.515625 \nQ 12.796875 0.390625 7.625 2.203125 \nL 7.625 11.71875 \nQ 11.71875 9.328125 16.59375 8.109375 \nQ 21.484375 6.890625 26.8125 6.890625 \nQ 36.078125 6.890625 40.9375 10.546875 \nQ 45.796875 14.203125 45.796875 21.1875 \nQ 45.796875 27.640625 41.28125 31.265625 \nQ 36.765625 34.90625 28.71875 34.90625 \nL 20.21875 34.90625 \nL 20.21875 43.015625 \nL 29.109375 43.015625 \nQ 36.375 43.015625 40.234375 45.921875 \nQ 44.09375 48.828125 44.09375 54.296875 \nQ 44.09375 59.90625 40.109375 62.90625 \nQ 36.140625 65.921875 28.71875 65.921875 \nQ 24.65625 65.921875 20.015625 65.03125 \nQ 15.375 64.15625 9.8125 62.3125 \nL 9.8125 71.09375 \nQ 15.4375 72.65625 20.34375 73.4375 \nQ 25.25 74.21875 29.59375 74.21875 \nQ 40.828125 74.21875 47.359375 69.109375 \nQ 53.90625 64.015625 53.90625 55.328125 \nQ 53.90625 49.265625 50.4375 45.09375 \nQ 46.96875 40.921875 40.578125 39.3125 \nz\n\" id=\"DejaVuSans-51\"/>\n       </defs>\n       <use xlink:href=\"#DejaVuSans-8722\"/>\n       <use x=\"83.789062\" xlink:href=\"#DejaVuSans-51\"/>\n      </g>\n     </g>\n    </g>\n    <g id=\"xtick_3\">\n     <g id=\"line2d_5\">\n      <g>\n       <use style=\"stroke:#000000;stroke-width:1.2;\" x=\"172.619062\" xlink:href=\"#m8c7bd4dbd6\" y=\"256.12\"/>\n      </g>\n     </g>\n     <g id=\"line2d_6\">\n      <g>\n       <use style=\"stroke:#000000;stroke-width:1.2;\" x=\"172.619062\" xlink:href=\"#mde27060113\" y=\"14.2\"/>\n      </g>\n     </g>\n     <g id=\"text_3\">\n      <!-- −2 -->\n      <g transform=\"translate(165.247969 273.718438)scale(0.1 -0.1)\">\n       <defs>\n        <path d=\"M 19.1875 8.296875 \nL 53.609375 8.296875 \nL 53.609375 0 \nL 7.328125 0 \nL 7.328125 8.296875 \nQ 12.9375 14.109375 22.625 23.890625 \nQ 32.328125 33.6875 34.8125 36.53125 \nQ 39.546875 41.84375 41.421875 45.53125 \nQ 43.3125 49.21875 43.3125 52.78125 \nQ 43.3125 58.59375 39.234375 62.25 \nQ 35.15625 65.921875 28.609375 65.921875 \nQ 23.96875 65.921875 18.8125 64.3125 \nQ 13.671875 62.703125 7.8125 59.421875 \nL 7.8125 69.390625 \nQ 13.765625 71.78125 18.9375 73 \nQ 24.125 74.21875 28.421875 74.21875 \nQ 39.75 74.21875 46.484375 68.546875 \nQ 53.21875 62.890625 53.21875 53.421875 \nQ 53.21875 48.921875 51.53125 44.890625 \nQ 49.859375 40.875 45.40625 35.40625 \nQ 44.1875 33.984375 37.640625 27.21875 \nQ 31.109375 20.453125 19.1875 8.296875 \nz\n\" id=\"DejaVuSans-50\"/>\n       </defs>\n       <use xlink:href=\"#DejaVuSans-8722\"/>\n       <use x=\"83.789062\" xlink:href=\"#DejaVuSans-50\"/>\n      </g>\n     </g>\n    </g>\n    <g id=\"xtick_4\">\n     <g id=\"line2d_7\">\n      <g>\n       <use style=\"stroke:#000000;stroke-width:1.2;\" x=\"227.699062\" xlink:href=\"#m8c7bd4dbd6\" y=\"256.12\"/>\n      </g>\n     </g>\n     <g id=\"line2d_8\">\n      <g>\n       <use style=\"stroke:#000000;stroke-width:1.2;\" x=\"227.699062\" xlink:href=\"#mde27060113\" y=\"14.2\"/>\n      </g>\n     </g>\n     <g id=\"text_4\">\n      <!-- −1 -->\n      <g transform=\"translate(220.327969 273.718438)scale(0.1 -0.1)\">\n       <defs>\n        <path d=\"M 12.40625 8.296875 \nL 28.515625 8.296875 \nL 28.515625 63.921875 \nL 10.984375 60.40625 \nL 10.984375 69.390625 \nL 28.421875 72.90625 \nL 38.28125 72.90625 \nL 38.28125 8.296875 \nL 54.390625 8.296875 \nL 54.390625 0 \nL 12.40625 0 \nz\n\" id=\"DejaVuSans-49\"/>\n       </defs>\n       <use xlink:href=\"#DejaVuSans-8722\"/>\n       <use x=\"83.789062\" xlink:href=\"#DejaVuSans-49\"/>\n      </g>\n     </g>\n    </g>\n    <g id=\"xtick_5\">\n     <g id=\"line2d_9\">\n      <g>\n       <use style=\"stroke:#000000;stroke-width:1.2;\" x=\"282.779062\" xlink:href=\"#m8c7bd4dbd6\" y=\"256.12\"/>\n      </g>\n     </g>\n     <g id=\"line2d_10\">\n      <g>\n       <use style=\"stroke:#000000;stroke-width:1.2;\" x=\"282.779062\" xlink:href=\"#mde27060113\" y=\"14.2\"/>\n      </g>\n     </g>\n     <g id=\"text_5\">\n      <!-- 0 -->\n      <g transform=\"translate(279.597812 273.718438)scale(0.1 -0.1)\">\n       <defs>\n        <path d=\"M 31.78125 66.40625 \nQ 24.171875 66.40625 20.328125 58.90625 \nQ 16.5 51.421875 16.5 36.375 \nQ 16.5 21.390625 20.328125 13.890625 \nQ 24.171875 6.390625 31.78125 6.390625 \nQ 39.453125 6.390625 43.28125 13.890625 \nQ 47.125 21.390625 47.125 36.375 \nQ 47.125 51.421875 43.28125 58.90625 \nQ 39.453125 66.40625 31.78125 66.40625 \nz\nM 31.78125 74.21875 \nQ 44.046875 74.21875 50.515625 64.515625 \nQ 56.984375 54.828125 56.984375 36.375 \nQ 56.984375 17.96875 50.515625 8.265625 \nQ 44.046875 -1.421875 31.78125 -1.421875 \nQ 19.53125 -1.421875 13.0625 8.265625 \nQ 6.59375 17.96875 6.59375 36.375 \nQ 6.59375 54.828125 13.0625 64.515625 \nQ 19.53125 74.21875 31.78125 74.21875 \nz\n\" id=\"DejaVuSans-48\"/>\n       </defs>\n       <use xlink:href=\"#DejaVuSans-48\"/>\n      </g>\n     </g>\n    </g>\n    <g id=\"xtick_6\">\n     <g id=\"line2d_11\">\n      <g>\n       <use style=\"stroke:#000000;stroke-width:1.2;\" x=\"337.859062\" xlink:href=\"#m8c7bd4dbd6\" y=\"256.12\"/>\n      </g>\n     </g>\n     <g id=\"line2d_12\">\n      <g>\n       <use style=\"stroke:#000000;stroke-width:1.2;\" x=\"337.859062\" xlink:href=\"#mde27060113\" y=\"14.2\"/>\n      </g>\n     </g>\n     <g id=\"text_6\">\n      <!-- 1 -->\n      <g transform=\"translate(334.677812 273.718438)scale(0.1 -0.1)\">\n       <use xlink:href=\"#DejaVuSans-49\"/>\n      </g>\n     </g>\n    </g>\n    <g id=\"xtick_7\">\n     <g id=\"line2d_13\">\n      <g>\n       <use style=\"stroke:#000000;stroke-width:1.2;\" x=\"392.939062\" xlink:href=\"#m8c7bd4dbd6\" y=\"256.12\"/>\n      </g>\n     </g>\n     <g id=\"line2d_14\">\n      <g>\n       <use style=\"stroke:#000000;stroke-width:1.2;\" x=\"392.939062\" xlink:href=\"#mde27060113\" y=\"14.2\"/>\n      </g>\n     </g>\n     <g id=\"text_7\">\n      <!-- 2 -->\n      <g transform=\"translate(389.757812 273.718438)scale(0.1 -0.1)\">\n       <use xlink:href=\"#DejaVuSans-50\"/>\n      </g>\n     </g>\n    </g>\n    <g id=\"text_8\">\n     <!-- [Fe/H] -->\n     <g transform=\"translate(209.670938 286.91625)scale(0.12 -0.12)\">\n      <defs>\n       <path d=\"M 8.59375 75.984375 \nL 29.296875 75.984375 \nL 29.296875 69 \nL 17.578125 69 \nL 17.578125 -6.203125 \nL 29.296875 -6.203125 \nL 29.296875 -13.1875 \nL 8.59375 -13.1875 \nz\n\" id=\"DejaVuSans-91\"/>\n       <path d=\"M 9.8125 72.90625 \nL 51.703125 72.90625 \nL 51.703125 64.59375 \nL 19.671875 64.59375 \nL 19.671875 43.109375 \nL 48.578125 43.109375 \nL 48.578125 34.8125 \nL 19.671875 34.8125 \nL 19.671875 0 \nL 9.8125 0 \nz\n\" id=\"DejaVuSans-70\"/>\n       <path d=\"M 56.203125 29.59375 \nL 56.203125 25.203125 \nL 14.890625 25.203125 \nQ 15.484375 15.921875 20.484375 11.0625 \nQ 25.484375 6.203125 34.421875 6.203125 \nQ 39.59375 6.203125 44.453125 7.46875 \nQ 49.3125 8.734375 54.109375 11.28125 \nL 54.109375 2.78125 \nQ 49.265625 0.734375 44.1875 -0.34375 \nQ 39.109375 -1.421875 33.890625 -1.421875 \nQ 20.796875 -1.421875 13.15625 6.1875 \nQ 5.515625 13.8125 5.515625 26.8125 \nQ 5.515625 40.234375 12.765625 48.109375 \nQ 20.015625 56 32.328125 56 \nQ 43.359375 56 49.78125 48.890625 \nQ 56.203125 41.796875 56.203125 29.59375 \nz\nM 47.21875 32.234375 \nQ 47.125 39.59375 43.09375 43.984375 \nQ 39.0625 48.390625 32.421875 48.390625 \nQ 24.90625 48.390625 20.390625 44.140625 \nQ 15.875 39.890625 15.1875 32.171875 \nz\n\" id=\"DejaVuSans-101\"/>\n       <path d=\"M 25.390625 72.90625 \nL 33.6875 72.90625 \nL 8.296875 -9.28125 \nL 0 -9.28125 \nz\n\" id=\"DejaVuSans-47\"/>\n       <path d=\"M 9.8125 72.90625 \nL 19.671875 72.90625 \nL 19.671875 43.015625 \nL 55.515625 43.015625 \nL 55.515625 72.90625 \nL 65.375 72.90625 \nL 65.375 0 \nL 55.515625 0 \nL 55.515625 34.71875 \nL 19.671875 34.71875 \nL 19.671875 0 \nL 9.8125 0 \nz\n\" id=\"DejaVuSans-72\"/>\n       <path d=\"M 30.421875 75.984375 \nL 30.421875 -13.1875 \nL 9.71875 -13.1875 \nL 9.71875 -6.203125 \nL 21.390625 -6.203125 \nL 21.390625 69 \nL 9.71875 69 \nL 9.71875 75.984375 \nz\n\" id=\"DejaVuSans-93\"/>\n      </defs>\n      <use xlink:href=\"#DejaVuSans-91\"/>\n      <use x=\"39.013672\" xlink:href=\"#DejaVuSans-70\"/>\n      <use x=\"91.033203\" xlink:href=\"#DejaVuSans-101\"/>\n      <use x=\"152.556641\" xlink:href=\"#DejaVuSans-47\"/>\n      <use x=\"186.248047\" xlink:href=\"#DejaVuSans-72\"/>\n      <use x=\"261.443359\" xlink:href=\"#DejaVuSans-93\"/>\n     </g>\n    </g>\n   </g>\n   <g id=\"matplotlib.axis_2\">\n    <g id=\"ytick_1\">\n     <g id=\"line2d_15\">\n      <defs>\n       <path d=\"M 0 0 \nL -7 0 \n\" id=\"m44438ffcda\" style=\"stroke:#000000;stroke-width:1.2;\"/>\n      </defs>\n      <g>\n       <use style=\"stroke:#000000;stroke-width:1.2;\" x=\"62.459063\" xlink:href=\"#m44438ffcda\" y=\"256.12\"/>\n      </g>\n     </g>\n     <g id=\"line2d_16\">\n      <defs>\n       <path d=\"M 0 0 \nL 7 0 \n\" id=\"m2c70a74ca1\" style=\"stroke:#000000;stroke-width:1.2;\"/>\n      </defs>\n      <g>\n       <use style=\"stroke:#000000;stroke-width:1.2;\" x=\"392.939062\" xlink:href=\"#m2c70a74ca1\" y=\"256.12\"/>\n      </g>\n     </g>\n     <g id=\"text_9\">\n      <!-- −1.00 -->\n      <g transform=\"translate(20.81375 259.919219)scale(0.1 -0.1)\">\n       <defs>\n        <path d=\"M 10.6875 12.40625 \nL 21 12.40625 \nL 21 0 \nL 10.6875 0 \nz\n\" id=\"DejaVuSans-46\"/>\n       </defs>\n       <use xlink:href=\"#DejaVuSans-8722\"/>\n       <use x=\"83.789062\" xlink:href=\"#DejaVuSans-49\"/>\n       <use x=\"147.412109\" xlink:href=\"#DejaVuSans-46\"/>\n       <use x=\"179.199219\" xlink:href=\"#DejaVuSans-48\"/>\n       <use x=\"242.822266\" xlink:href=\"#DejaVuSans-48\"/>\n      </g>\n     </g>\n    </g>\n    <g id=\"ytick_2\">\n     <g id=\"line2d_17\">\n      <g>\n       <use style=\"stroke:#000000;stroke-width:1.2;\" x=\"62.459063\" xlink:href=\"#m44438ffcda\" y=\"225.88\"/>\n      </g>\n     </g>\n     <g id=\"line2d_18\">\n      <g>\n       <use style=\"stroke:#000000;stroke-width:1.2;\" x=\"392.939062\" xlink:href=\"#m2c70a74ca1\" y=\"225.88\"/>\n      </g>\n     </g>\n     <g id=\"text_10\">\n      <!-- −0.75 -->\n      <g transform=\"translate(20.81375 229.679219)scale(0.1 -0.1)\">\n       <defs>\n        <path d=\"M 8.203125 72.90625 \nL 55.078125 72.90625 \nL 55.078125 68.703125 \nL 28.609375 0 \nL 18.3125 0 \nL 43.21875 64.59375 \nL 8.203125 64.59375 \nz\n\" id=\"DejaVuSans-55\"/>\n        <path d=\"M 10.796875 72.90625 \nL 49.515625 72.90625 \nL 49.515625 64.59375 \nL 19.828125 64.59375 \nL 19.828125 46.734375 \nQ 21.96875 47.46875 24.109375 47.828125 \nQ 26.265625 48.1875 28.421875 48.1875 \nQ 40.625 48.1875 47.75 41.5 \nQ 54.890625 34.8125 54.890625 23.390625 \nQ 54.890625 11.625 47.5625 5.09375 \nQ 40.234375 -1.421875 26.90625 -1.421875 \nQ 22.3125 -1.421875 17.546875 -0.640625 \nQ 12.796875 0.140625 7.71875 1.703125 \nL 7.71875 11.625 \nQ 12.109375 9.234375 16.796875 8.0625 \nQ 21.484375 6.890625 26.703125 6.890625 \nQ 35.15625 6.890625 40.078125 11.328125 \nQ 45.015625 15.765625 45.015625 23.390625 \nQ 45.015625 31 40.078125 35.4375 \nQ 35.15625 39.890625 26.703125 39.890625 \nQ 22.75 39.890625 18.8125 39.015625 \nQ 14.890625 38.140625 10.796875 36.28125 \nz\n\" id=\"DejaVuSans-53\"/>\n       </defs>\n       <use xlink:href=\"#DejaVuSans-8722\"/>\n       <use x=\"83.789062\" xlink:href=\"#DejaVuSans-48\"/>\n       <use x=\"147.412109\" xlink:href=\"#DejaVuSans-46\"/>\n       <use x=\"179.199219\" xlink:href=\"#DejaVuSans-55\"/>\n       <use x=\"242.822266\" xlink:href=\"#DejaVuSans-53\"/>\n      </g>\n     </g>\n    </g>\n    <g id=\"ytick_3\">\n     <g id=\"line2d_19\">\n      <g>\n       <use style=\"stroke:#000000;stroke-width:1.2;\" x=\"62.459063\" xlink:href=\"#m44438ffcda\" y=\"195.64\"/>\n      </g>\n     </g>\n     <g id=\"line2d_20\">\n      <g>\n       <use style=\"stroke:#000000;stroke-width:1.2;\" x=\"392.939062\" xlink:href=\"#m2c70a74ca1\" y=\"195.64\"/>\n      </g>\n     </g>\n     <g id=\"text_11\">\n      <!-- −0.50 -->\n      <g transform=\"translate(20.81375 199.439219)scale(0.1 -0.1)\">\n       <use xlink:href=\"#DejaVuSans-8722\"/>\n       <use x=\"83.789062\" xlink:href=\"#DejaVuSans-48\"/>\n       <use x=\"147.412109\" xlink:href=\"#DejaVuSans-46\"/>\n       <use x=\"179.199219\" xlink:href=\"#DejaVuSans-53\"/>\n       <use x=\"242.822266\" xlink:href=\"#DejaVuSans-48\"/>\n      </g>\n     </g>\n    </g>\n    <g id=\"ytick_4\">\n     <g id=\"line2d_21\">\n      <g>\n       <use style=\"stroke:#000000;stroke-width:1.2;\" x=\"62.459063\" xlink:href=\"#m44438ffcda\" y=\"165.4\"/>\n      </g>\n     </g>\n     <g id=\"line2d_22\">\n      <g>\n       <use style=\"stroke:#000000;stroke-width:1.2;\" x=\"392.939062\" xlink:href=\"#m2c70a74ca1\" y=\"165.4\"/>\n      </g>\n     </g>\n     <g id=\"text_12\">\n      <!-- −0.25 -->\n      <g transform=\"translate(20.81375 169.199219)scale(0.1 -0.1)\">\n       <use xlink:href=\"#DejaVuSans-8722\"/>\n       <use x=\"83.789062\" xlink:href=\"#DejaVuSans-48\"/>\n       <use x=\"147.412109\" xlink:href=\"#DejaVuSans-46\"/>\n       <use x=\"179.199219\" xlink:href=\"#DejaVuSans-50\"/>\n       <use x=\"242.822266\" xlink:href=\"#DejaVuSans-53\"/>\n      </g>\n     </g>\n    </g>\n    <g id=\"ytick_5\">\n     <g id=\"line2d_23\">\n      <g>\n       <use style=\"stroke:#000000;stroke-width:1.2;\" x=\"62.459063\" xlink:href=\"#m44438ffcda\" y=\"135.16\"/>\n      </g>\n     </g>\n     <g id=\"line2d_24\">\n      <g>\n       <use style=\"stroke:#000000;stroke-width:1.2;\" x=\"392.939062\" xlink:href=\"#m2c70a74ca1\" y=\"135.16\"/>\n      </g>\n     </g>\n     <g id=\"text_13\">\n      <!-- 0.00 -->\n      <g transform=\"translate(29.193438 138.959219)scale(0.1 -0.1)\">\n       <use xlink:href=\"#DejaVuSans-48\"/>\n       <use x=\"63.623047\" xlink:href=\"#DejaVuSans-46\"/>\n       <use x=\"95.410156\" xlink:href=\"#DejaVuSans-48\"/>\n       <use x=\"159.033203\" xlink:href=\"#DejaVuSans-48\"/>\n      </g>\n     </g>\n    </g>\n    <g id=\"ytick_6\">\n     <g id=\"line2d_25\">\n      <g>\n       <use style=\"stroke:#000000;stroke-width:1.2;\" x=\"62.459063\" xlink:href=\"#m44438ffcda\" y=\"104.92\"/>\n      </g>\n     </g>\n     <g id=\"line2d_26\">\n      <g>\n       <use style=\"stroke:#000000;stroke-width:1.2;\" x=\"392.939062\" xlink:href=\"#m2c70a74ca1\" y=\"104.92\"/>\n      </g>\n     </g>\n     <g id=\"text_14\">\n      <!-- 0.25 -->\n      <g transform=\"translate(29.193438 108.719219)scale(0.1 -0.1)\">\n       <use xlink:href=\"#DejaVuSans-48\"/>\n       <use x=\"63.623047\" xlink:href=\"#DejaVuSans-46\"/>\n       <use x=\"95.410156\" xlink:href=\"#DejaVuSans-50\"/>\n       <use x=\"159.033203\" xlink:href=\"#DejaVuSans-53\"/>\n      </g>\n     </g>\n    </g>\n    <g id=\"ytick_7\">\n     <g id=\"line2d_27\">\n      <g>\n       <use style=\"stroke:#000000;stroke-width:1.2;\" x=\"62.459063\" xlink:href=\"#m44438ffcda\" y=\"74.68\"/>\n      </g>\n     </g>\n     <g id=\"line2d_28\">\n      <g>\n       <use style=\"stroke:#000000;stroke-width:1.2;\" x=\"392.939062\" xlink:href=\"#m2c70a74ca1\" y=\"74.68\"/>\n      </g>\n     </g>\n     <g id=\"text_15\">\n      <!-- 0.50 -->\n      <g transform=\"translate(29.193438 78.479219)scale(0.1 -0.1)\">\n       <use xlink:href=\"#DejaVuSans-48\"/>\n       <use x=\"63.623047\" xlink:href=\"#DejaVuSans-46\"/>\n       <use x=\"95.410156\" xlink:href=\"#DejaVuSans-53\"/>\n       <use x=\"159.033203\" xlink:href=\"#DejaVuSans-48\"/>\n      </g>\n     </g>\n    </g>\n    <g id=\"ytick_8\">\n     <g id=\"line2d_29\">\n      <g>\n       <use style=\"stroke:#000000;stroke-width:1.2;\" x=\"62.459063\" xlink:href=\"#m44438ffcda\" y=\"44.44\"/>\n      </g>\n     </g>\n     <g id=\"line2d_30\">\n      <g>\n       <use style=\"stroke:#000000;stroke-width:1.2;\" x=\"392.939062\" xlink:href=\"#m2c70a74ca1\" y=\"44.44\"/>\n      </g>\n     </g>\n     <g id=\"text_16\">\n      <!-- 0.75 -->\n      <g transform=\"translate(29.193438 48.239219)scale(0.1 -0.1)\">\n       <use xlink:href=\"#DejaVuSans-48\"/>\n       <use x=\"63.623047\" xlink:href=\"#DejaVuSans-46\"/>\n       <use x=\"95.410156\" xlink:href=\"#DejaVuSans-55\"/>\n       <use x=\"159.033203\" xlink:href=\"#DejaVuSans-53\"/>\n      </g>\n     </g>\n    </g>\n    <g id=\"ytick_9\">\n     <g id=\"line2d_31\">\n      <g>\n       <use style=\"stroke:#000000;stroke-width:1.2;\" x=\"62.459063\" xlink:href=\"#m44438ffcda\" y=\"14.2\"/>\n      </g>\n     </g>\n     <g id=\"line2d_32\">\n      <g>\n       <use style=\"stroke:#000000;stroke-width:1.2;\" x=\"392.939062\" xlink:href=\"#m2c70a74ca1\" y=\"14.2\"/>\n      </g>\n     </g>\n     <g id=\"text_17\">\n      <!-- 1.00 -->\n      <g transform=\"translate(29.193438 17.999219)scale(0.1 -0.1)\">\n       <use xlink:href=\"#DejaVuSans-49\"/>\n       <use x=\"63.623047\" xlink:href=\"#DejaVuSans-46\"/>\n       <use x=\"95.410156\" xlink:href=\"#DejaVuSans-48\"/>\n       <use x=\"159.033203\" xlink:href=\"#DejaVuSans-48\"/>\n      </g>\n     </g>\n    </g>\n    <g id=\"text_18\">\n     <!-- [O/Fe] -->\n     <g transform=\"translate(16.318125 153.399063)rotate(-90)scale(0.12 -0.12)\">\n      <defs>\n       <path d=\"M 39.40625 66.21875 \nQ 28.65625 66.21875 22.328125 58.203125 \nQ 16.015625 50.203125 16.015625 36.375 \nQ 16.015625 22.609375 22.328125 14.59375 \nQ 28.65625 6.59375 39.40625 6.59375 \nQ 50.140625 6.59375 56.421875 14.59375 \nQ 62.703125 22.609375 62.703125 36.375 \nQ 62.703125 50.203125 56.421875 58.203125 \nQ 50.140625 66.21875 39.40625 66.21875 \nz\nM 39.40625 74.21875 \nQ 54.734375 74.21875 63.90625 63.9375 \nQ 73.09375 53.65625 73.09375 36.375 \nQ 73.09375 19.140625 63.90625 8.859375 \nQ 54.734375 -1.421875 39.40625 -1.421875 \nQ 24.03125 -1.421875 14.8125 8.828125 \nQ 5.609375 19.09375 5.609375 36.375 \nQ 5.609375 53.65625 14.8125 63.9375 \nQ 24.03125 74.21875 39.40625 74.21875 \nz\n\" id=\"DejaVuSans-79\"/>\n      </defs>\n      <use xlink:href=\"#DejaVuSans-91\"/>\n      <use x=\"39.013672\" xlink:href=\"#DejaVuSans-79\"/>\n      <use x=\"117.724609\" xlink:href=\"#DejaVuSans-47\"/>\n      <use x=\"151.416016\" xlink:href=\"#DejaVuSans-70\"/>\n      <use x=\"203.435547\" xlink:href=\"#DejaVuSans-101\"/>\n      <use x=\"264.958984\" xlink:href=\"#DejaVuSans-93\"/>\n     </g>\n    </g>\n   </g>\n   <g id=\"line2d_33\">\n    <path clip-path=\"url(#p73eac903b5)\" d=\"M 143.273082 -1 \nL 147.833063 21.13024 \nL 153.341063 46.641909 \nL 158.849063 57.44517 \nL 164.357063 65.761548 \nL 169.865063 69.460207 \nL 175.373063 72.005136 \nL 180.881063 74.734419 \nL 186.389063 76.749949 \nL 191.897063 79.275397 \nL 197.405063 79.687234 \nL 202.913063 82.975138 \nL 208.421063 85.595488 \nL 213.929063 88.899045 \nL 219.437063 91.782465 \nL 224.945063 95.081833 \nL 230.453063 98.046861 \nL 235.961063 99.722262 \nL 241.469063 99.393716 \nL 246.977063 100.216172 \nL 252.485063 100.881684 \nL 257.993063 102.381762 \nL 263.501063 109.830684 \nL 269.009063 120.217519 \nL 274.517063 133.462615 \nL 280.025063 150.61495 \nL 285.533063 162.386097 \nL 291.041063 173.256913 \nL 296.549063 189.45816 \nL 302.057063 218.300332 \nL 307.565063 202.583218 \nL 313.073063 135.16 \nL 318.581063 135.16 \nL 324.089063 135.16 \nL 329.597063 135.16 \nL 335.105063 135.16 \nL 340.613063 135.16 \nL 346.121063 135.16 \nL 351.629063 135.16 \nL 357.137063 135.16 \nL 362.645063 135.16 \nL 368.153063 135.16 \nL 373.661063 135.16 \nL 379.169063 135.16 \nL 384.677063 135.16 \n\" style=\"fill:none;stroke:#000000;stroke-linecap:square;stroke-width:3;\"/>\n   </g>\n   <g id=\"line2d_34\">\n    <path clip-path=\"url(#p73eac903b5)\" d=\"M 65.213062 135.16 \nL 70.721062 135.16 \nL 76.229062 135.16 \nL 81.737062 135.16 \nL 87.245062 135.16 \nL 92.753062 135.16 \nL 98.261063 135.16 \nL 103.769063 135.16 \nL 109.277062 135.16 \nL 114.785063 135.16 \nL 120.293063 135.16 \nL 125.801063 135.16 \nL 131.309063 135.16 \nL 136.817063 135.16 \nL 142.325063 135.16 \nL 147.833063 135.16 \nL 153.341063 135.16 \nL 158.849063 135.16 \nL 164.357063 99.305176 \nL 169.865063 60.284469 \nL 175.373063 65.768118 \nL 180.881063 76.410927 \nL 186.389063 76.430659 \nL 191.897063 75.831541 \nL 197.405063 74.549966 \nL 202.913063 73.577168 \nL 208.421063 72.474923 \nL 213.929063 71.740634 \nL 219.437063 71.582075 \nL 224.945063 71.779515 \nL 230.453063 71.982231 \nL 235.961063 72.167069 \nL 241.469063 72.253853 \nL 246.977063 72.291138 \nL 252.485063 72.673254 \nL 257.993063 72.150875 \nL 263.501063 70.374673 \nL 269.009063 67.156887 \nL 274.517063 64.870854 \nL 280.025063 65.918692 \nL 285.533063 69.818907 \nL 291.041063 108.483878 \nL 296.549063 88.283735 \nL 302.057063 135.16 \nL 307.565063 142.117414 \nL 313.073063 135.16 \nL 318.581063 135.16 \nL 324.089063 135.16 \nL 329.597063 135.16 \nL 335.105063 135.16 \nL 340.613063 135.16 \nL 346.121063 135.16 \nL 351.629063 135.16 \nL 357.137063 135.16 \nL 362.645063 135.16 \nL 368.153063 135.16 \nL 373.661063 135.16 \nL 379.169063 135.16 \nL 384.677063 135.16 \n\" style=\"fill:none;stroke:#1f77b4;stroke-linecap:square;stroke-width:3;\"/>\n   </g>\n   <g id=\"patch_3\">\n    <path d=\"M 62.459063 256.12 \nL 62.459063 14.2 \n\" style=\"fill:none;stroke:#000000;stroke-linecap:square;stroke-linejoin:miter;stroke-width:2;\"/>\n   </g>\n   <g id=\"patch_4\">\n    <path d=\"M 392.939062 256.12 \nL 392.939062 14.2 \n\" style=\"fill:none;stroke:#000000;stroke-linecap:square;stroke-linejoin:miter;stroke-width:2;\"/>\n   </g>\n   <g id=\"patch_5\">\n    <path d=\"M 62.459062 256.12 \nL 392.939062 256.12 \n\" style=\"fill:none;stroke:#000000;stroke-linecap:square;stroke-linejoin:miter;stroke-width:2;\"/>\n   </g>\n   <g id=\"patch_6\">\n    <path d=\"M 62.459062 14.2 \nL 392.939062 14.2 \n\" style=\"fill:none;stroke:#000000;stroke-linecap:square;stroke-linejoin:miter;stroke-width:2;\"/>\n   </g>\n   <g id=\"legend_1\">\n    <g id=\"patch_7\">\n     <path d=\"M 313.779687 52.05625 \nL 379.939062 52.05625 \nQ 381.939062 52.05625 381.939062 50.05625 \nL 381.939062 27.2 \nQ 381.939062 25.2 379.939062 25.2 \nL 313.779687 25.2 \nQ 311.779687 25.2 311.779687 27.2 \nL 311.779687 50.05625 \nQ 311.779687 52.05625 313.779687 52.05625 \nz\n\" style=\"fill:#ffffff;opacity:0.8;stroke:#999999;stroke-linejoin:miter;stroke-width:1.5;\"/>\n    </g>\n    <g id=\"line2d_35\">\n     <path d=\"M 314.279687 31.798438 \nL 324.279687 31.798438 \n\" style=\"fill:none;stroke:#000000;stroke-linecap:square;stroke-width:3;\"/>\n    </g>\n    <g id=\"line2d_36\"/>\n    <g id=\"text_19\">\n     <!-- simulation -->\n     <g transform=\"translate(327.279687 35.298438)scale(0.1 -0.1)\">\n      <defs>\n       <path d=\"M 44.28125 53.078125 \nL 44.28125 44.578125 \nQ 40.484375 46.53125 36.375 47.5 \nQ 32.28125 48.484375 27.875 48.484375 \nQ 21.1875 48.484375 17.84375 46.4375 \nQ 14.5 44.390625 14.5 40.28125 \nQ 14.5 37.15625 16.890625 35.375 \nQ 19.28125 33.59375 26.515625 31.984375 \nL 29.59375 31.296875 \nQ 39.15625 29.25 43.1875 25.515625 \nQ 47.21875 21.78125 47.21875 15.09375 \nQ 47.21875 7.46875 41.1875 3.015625 \nQ 35.15625 -1.421875 24.609375 -1.421875 \nQ 20.21875 -1.421875 15.453125 -0.5625 \nQ 10.6875 0.296875 5.421875 2 \nL 5.421875 11.28125 \nQ 10.40625 8.6875 15.234375 7.390625 \nQ 20.0625 6.109375 24.8125 6.109375 \nQ 31.15625 6.109375 34.5625 8.28125 \nQ 37.984375 10.453125 37.984375 14.40625 \nQ 37.984375 18.0625 35.515625 20.015625 \nQ 33.0625 21.96875 24.703125 23.78125 \nL 21.578125 24.515625 \nQ 13.234375 26.265625 9.515625 29.90625 \nQ 5.8125 33.546875 5.8125 39.890625 \nQ 5.8125 47.609375 11.28125 51.796875 \nQ 16.75 56 26.8125 56 \nQ 31.78125 56 36.171875 55.265625 \nQ 40.578125 54.546875 44.28125 53.078125 \nz\n\" id=\"DejaVuSans-115\"/>\n       <path d=\"M 9.421875 54.6875 \nL 18.40625 54.6875 \nL 18.40625 0 \nL 9.421875 0 \nz\nM 9.421875 75.984375 \nL 18.40625 75.984375 \nL 18.40625 64.59375 \nL 9.421875 64.59375 \nz\n\" id=\"DejaVuSans-105\"/>\n       <path d=\"M 52 44.1875 \nQ 55.375 50.25 60.0625 53.125 \nQ 64.75 56 71.09375 56 \nQ 79.640625 56 84.28125 50.015625 \nQ 88.921875 44.046875 88.921875 33.015625 \nL 88.921875 0 \nL 79.890625 0 \nL 79.890625 32.71875 \nQ 79.890625 40.578125 77.09375 44.375 \nQ 74.3125 48.1875 68.609375 48.1875 \nQ 61.625 48.1875 57.5625 43.546875 \nQ 53.515625 38.921875 53.515625 30.90625 \nL 53.515625 0 \nL 44.484375 0 \nL 44.484375 32.71875 \nQ 44.484375 40.625 41.703125 44.40625 \nQ 38.921875 48.1875 33.109375 48.1875 \nQ 26.21875 48.1875 22.15625 43.53125 \nQ 18.109375 38.875 18.109375 30.90625 \nL 18.109375 0 \nL 9.078125 0 \nL 9.078125 54.6875 \nL 18.109375 54.6875 \nL 18.109375 46.1875 \nQ 21.1875 51.21875 25.484375 53.609375 \nQ 29.78125 56 35.6875 56 \nQ 41.65625 56 45.828125 52.96875 \nQ 50 49.953125 52 44.1875 \nz\n\" id=\"DejaVuSans-109\"/>\n       <path d=\"M 8.5 21.578125 \nL 8.5 54.6875 \nL 17.484375 54.6875 \nL 17.484375 21.921875 \nQ 17.484375 14.15625 20.5 10.265625 \nQ 23.53125 6.390625 29.59375 6.390625 \nQ 36.859375 6.390625 41.078125 11.03125 \nQ 45.3125 15.671875 45.3125 23.6875 \nL 45.3125 54.6875 \nL 54.296875 54.6875 \nL 54.296875 0 \nL 45.3125 0 \nL 45.3125 8.40625 \nQ 42.046875 3.421875 37.71875 1 \nQ 33.40625 -1.421875 27.6875 -1.421875 \nQ 18.265625 -1.421875 13.375 4.4375 \nQ 8.5 10.296875 8.5 21.578125 \nz\nM 31.109375 56 \nz\n\" id=\"DejaVuSans-117\"/>\n       <path d=\"M 9.421875 75.984375 \nL 18.40625 75.984375 \nL 18.40625 0 \nL 9.421875 0 \nz\n\" id=\"DejaVuSans-108\"/>\n       <path d=\"M 34.28125 27.484375 \nQ 23.390625 27.484375 19.1875 25 \nQ 14.984375 22.515625 14.984375 16.5 \nQ 14.984375 11.71875 18.140625 8.90625 \nQ 21.296875 6.109375 26.703125 6.109375 \nQ 34.1875 6.109375 38.703125 11.40625 \nQ 43.21875 16.703125 43.21875 25.484375 \nL 43.21875 27.484375 \nz\nM 52.203125 31.203125 \nL 52.203125 0 \nL 43.21875 0 \nL 43.21875 8.296875 \nQ 40.140625 3.328125 35.546875 0.953125 \nQ 30.953125 -1.421875 24.3125 -1.421875 \nQ 15.921875 -1.421875 10.953125 3.296875 \nQ 6 8.015625 6 15.921875 \nQ 6 25.140625 12.171875 29.828125 \nQ 18.359375 34.515625 30.609375 34.515625 \nL 43.21875 34.515625 \nL 43.21875 35.40625 \nQ 43.21875 41.609375 39.140625 45 \nQ 35.0625 48.390625 27.6875 48.390625 \nQ 23 48.390625 18.546875 47.265625 \nQ 14.109375 46.140625 10.015625 43.890625 \nL 10.015625 52.203125 \nQ 14.9375 54.109375 19.578125 55.046875 \nQ 24.21875 56 28.609375 56 \nQ 40.484375 56 46.34375 49.84375 \nQ 52.203125 43.703125 52.203125 31.203125 \nz\n\" id=\"DejaVuSans-97\"/>\n       <path d=\"M 18.3125 70.21875 \nL 18.3125 54.6875 \nL 36.8125 54.6875 \nL 36.8125 47.703125 \nL 18.3125 47.703125 \nL 18.3125 18.015625 \nQ 18.3125 11.328125 20.140625 9.421875 \nQ 21.96875 7.515625 27.59375 7.515625 \nL 36.8125 7.515625 \nL 36.8125 0 \nL 27.59375 0 \nQ 17.1875 0 13.234375 3.875 \nQ 9.28125 7.765625 9.28125 18.015625 \nL 9.28125 47.703125 \nL 2.6875 47.703125 \nL 2.6875 54.6875 \nL 9.28125 54.6875 \nL 9.28125 70.21875 \nz\n\" id=\"DejaVuSans-116\"/>\n       <path d=\"M 30.609375 48.390625 \nQ 23.390625 48.390625 19.1875 42.75 \nQ 14.984375 37.109375 14.984375 27.296875 \nQ 14.984375 17.484375 19.15625 11.84375 \nQ 23.34375 6.203125 30.609375 6.203125 \nQ 37.796875 6.203125 41.984375 11.859375 \nQ 46.1875 17.53125 46.1875 27.296875 \nQ 46.1875 37.015625 41.984375 42.703125 \nQ 37.796875 48.390625 30.609375 48.390625 \nz\nM 30.609375 56 \nQ 42.328125 56 49.015625 48.375 \nQ 55.71875 40.765625 55.71875 27.296875 \nQ 55.71875 13.875 49.015625 6.21875 \nQ 42.328125 -1.421875 30.609375 -1.421875 \nQ 18.84375 -1.421875 12.171875 6.21875 \nQ 5.515625 13.875 5.515625 27.296875 \nQ 5.515625 40.765625 12.171875 48.375 \nQ 18.84375 56 30.609375 56 \nz\n\" id=\"DejaVuSans-111\"/>\n       <path d=\"M 54.890625 33.015625 \nL 54.890625 0 \nL 45.90625 0 \nL 45.90625 32.71875 \nQ 45.90625 40.484375 42.875 44.328125 \nQ 39.84375 48.1875 33.796875 48.1875 \nQ 26.515625 48.1875 22.3125 43.546875 \nQ 18.109375 38.921875 18.109375 30.90625 \nL 18.109375 0 \nL 9.078125 0 \nL 9.078125 54.6875 \nL 18.109375 54.6875 \nL 18.109375 46.1875 \nQ 21.34375 51.125 25.703125 53.5625 \nQ 30.078125 56 35.796875 56 \nQ 45.21875 56 50.046875 50.171875 \nQ 54.890625 44.34375 54.890625 33.015625 \nz\n\" id=\"DejaVuSans-110\"/>\n      </defs>\n      <use xlink:href=\"#DejaVuSans-115\"/>\n      <use x=\"52.099609\" xlink:href=\"#DejaVuSans-105\"/>\n      <use x=\"79.882812\" xlink:href=\"#DejaVuSans-109\"/>\n      <use x=\"177.294922\" xlink:href=\"#DejaVuSans-117\"/>\n      <use x=\"240.673828\" xlink:href=\"#DejaVuSans-108\"/>\n      <use x=\"268.457031\" xlink:href=\"#DejaVuSans-97\"/>\n      <use x=\"329.736328\" xlink:href=\"#DejaVuSans-116\"/>\n      <use x=\"368.945312\" xlink:href=\"#DejaVuSans-105\"/>\n      <use x=\"396.728516\" xlink:href=\"#DejaVuSans-111\"/>\n      <use x=\"457.910156\" xlink:href=\"#DejaVuSans-110\"/>\n     </g>\n    </g>\n    <g id=\"line2d_37\">\n     <path d=\"M 314.279687 43.976563 \nL 324.279687 43.976563 \n\" style=\"fill:none;stroke:#1f77b4;stroke-linecap:square;stroke-width:3;\"/>\n    </g>\n    <g id=\"line2d_38\"/>\n    <g id=\"text_20\">\n     <!-- age-tracer -->\n     <g transform=\"translate(327.279687 47.476563)scale(0.1 -0.1)\">\n      <defs>\n       <path d=\"M 45.40625 27.984375 \nQ 45.40625 37.75 41.375 43.109375 \nQ 37.359375 48.484375 30.078125 48.484375 \nQ 22.859375 48.484375 18.828125 43.109375 \nQ 14.796875 37.75 14.796875 27.984375 \nQ 14.796875 18.265625 18.828125 12.890625 \nQ 22.859375 7.515625 30.078125 7.515625 \nQ 37.359375 7.515625 41.375 12.890625 \nQ 45.40625 18.265625 45.40625 27.984375 \nz\nM 54.390625 6.78125 \nQ 54.390625 -7.171875 48.1875 -13.984375 \nQ 42 -20.796875 29.203125 -20.796875 \nQ 24.46875 -20.796875 20.265625 -20.09375 \nQ 16.0625 -19.390625 12.109375 -17.921875 \nL 12.109375 -9.1875 \nQ 16.0625 -11.328125 19.921875 -12.34375 \nQ 23.78125 -13.375 27.78125 -13.375 \nQ 36.625 -13.375 41.015625 -8.765625 \nQ 45.40625 -4.15625 45.40625 5.171875 \nL 45.40625 9.625 \nQ 42.625 4.78125 38.28125 2.390625 \nQ 33.9375 0 27.875 0 \nQ 17.828125 0 11.671875 7.65625 \nQ 5.515625 15.328125 5.515625 27.984375 \nQ 5.515625 40.671875 11.671875 48.328125 \nQ 17.828125 56 27.875 56 \nQ 33.9375 56 38.28125 53.609375 \nQ 42.625 51.21875 45.40625 46.390625 \nL 45.40625 54.6875 \nL 54.390625 54.6875 \nz\n\" id=\"DejaVuSans-103\"/>\n       <path d=\"M 4.890625 31.390625 \nL 31.203125 31.390625 \nL 31.203125 23.390625 \nL 4.890625 23.390625 \nz\n\" id=\"DejaVuSans-45\"/>\n       <path d=\"M 41.109375 46.296875 \nQ 39.59375 47.171875 37.8125 47.578125 \nQ 36.03125 48 33.890625 48 \nQ 26.265625 48 22.1875 43.046875 \nQ 18.109375 38.09375 18.109375 28.8125 \nL 18.109375 0 \nL 9.078125 0 \nL 9.078125 54.6875 \nL 18.109375 54.6875 \nL 18.109375 46.1875 \nQ 20.953125 51.171875 25.484375 53.578125 \nQ 30.03125 56 36.53125 56 \nQ 37.453125 56 38.578125 55.875 \nQ 39.703125 55.765625 41.0625 55.515625 \nz\n\" id=\"DejaVuSans-114\"/>\n       <path d=\"M 48.78125 52.59375 \nL 48.78125 44.1875 \nQ 44.96875 46.296875 41.140625 47.34375 \nQ 37.3125 48.390625 33.40625 48.390625 \nQ 24.65625 48.390625 19.8125 42.84375 \nQ 14.984375 37.3125 14.984375 27.296875 \nQ 14.984375 17.28125 19.8125 11.734375 \nQ 24.65625 6.203125 33.40625 6.203125 \nQ 37.3125 6.203125 41.140625 7.25 \nQ 44.96875 8.296875 48.78125 10.40625 \nL 48.78125 2.09375 \nQ 45.015625 0.34375 40.984375 -0.53125 \nQ 36.96875 -1.421875 32.421875 -1.421875 \nQ 20.0625 -1.421875 12.78125 6.34375 \nQ 5.515625 14.109375 5.515625 27.296875 \nQ 5.515625 40.671875 12.859375 48.328125 \nQ 20.21875 56 33.015625 56 \nQ 37.15625 56 41.109375 55.140625 \nQ 45.0625 54.296875 48.78125 52.59375 \nz\n\" id=\"DejaVuSans-99\"/>\n      </defs>\n      <use xlink:href=\"#DejaVuSans-97\"/>\n      <use x=\"61.279297\" xlink:href=\"#DejaVuSans-103\"/>\n      <use x=\"124.755859\" xlink:href=\"#DejaVuSans-101\"/>\n      <use x=\"186.279297\" xlink:href=\"#DejaVuSans-45\"/>\n      <use x=\"222.363281\" xlink:href=\"#DejaVuSans-116\"/>\n      <use x=\"261.572266\" xlink:href=\"#DejaVuSans-114\"/>\n      <use x=\"302.685547\" xlink:href=\"#DejaVuSans-97\"/>\n      <use x=\"363.964844\" xlink:href=\"#DejaVuSans-99\"/>\n      <use x=\"418.945312\" xlink:href=\"#DejaVuSans-101\"/>\n      <use x=\"480.46875\" xlink:href=\"#DejaVuSans-114\"/>\n     </g>\n    </g>\n   </g>\n  </g>\n </g>\n <defs>\n  <clipPath id=\"p73eac903b5\">\n   <rect height=\"241.92\" width=\"330.48\" x=\"62.459063\" y=\"14.2\"/>\n  </clipPath>\n </defs>\n</svg>\n",
      "image/png": "[encoded data removed]"
     },
     "metadata": {
      "needs_background": "light"
     }
    }
   ],
   "source": [
    "# now plot the results\n",
    "\n",
    "from utilities.basic.binning import BinClass\n",
    "\n",
    "Bin = BinClass([-4, 2], number=int((2-(-4))/0.1))\n",
    "\n",
    "# plot the native abundances directly from the simulation\n",
    "stats = Bin.get_statistics_of_array(\n",
    "    part['star'].prop('metallicity.fe'),\n",
    "    part['star'].prop('metallicity.o - metallicity.fe')\n",
    ")\n",
    "\n",
    "fig, ax = plt.subplots()\n",
    "fig.set_size_inches(6, 4)\n",
    "\n",
    "ax.plot(stats['bin.mid'][:-1], stats['median'][:-1], lw=3, color='black', label='simulation')\n",
    "ax.fill_between(\n",
    "    stats['bin.mid'], stats['percent.16'], stats['percent.84'], alpha=0.2, lw=3, color='black')\n",
    "\n",
    "# plot the post-processed abundances from age-tracer weights\n",
    "stats = Bin.get_statistics_of_array(\n",
    "    part['star'].prop('metallicity.agetracer.fe'),\n",
    "    part['star'].prop('metallicity.agetracer.o - metallicity.agetracer.fe')\n",
    ")\n",
    "\n",
    "ax.plot(stats['bin.mid'][:-1], stats['median'][:-1], lw=3, color='C0', label='age-tracer')\n",
    "ax.fill_between(\n",
    "    stats['bin.mid'], stats['percent.16'], stats['percent.84'], alpha=0.2, lw=3, color='C0')\n",
    "\n",
    "ax.legend(loc='best')\n",
    "ax.set_ylim(-1, 1)\n",
    "ax.set_xlim(-4, 2)\n",
    "ax.set_ylabel('[O/Fe]')\n",
    "ax.set_xlabel('[Fe/H]')"
   ]
  },
  {
   "source": [
    "## NuGrid"
   ],
   "cell_type": "markdown",
   "metadata": {}
  },
  {
   "source": [
    "As another example, lets generate the NuGrid tables and re-do the above with those. This\n",
    "requires having NuPYCee and Sygma installed (https://nugrid.github.io/NuPyCEE/index.html)"
   ],
   "cell_type": "markdown",
   "metadata": {}
  },
  {
   "cell_type": "code",
   "execution_count": null,
   "metadata": {},
   "outputs": [],
   "source": [
    "# the NuGrid_yields class accepts kwargs to pass to the underlying\n",
    "# sygma model, so this allows for the use of the full Symga / NuGrid framework.\n",
    "#    this simple example just passes metallicity\n",
    "NuGrid_yield_model = gizmo.agetracers.NuGrid_yields(iniZ = 0.01 # metal mass fraction (must equal a NuGrid table value)\n",
    "                                                    )\n",
    "\n",
    "\n",
    "NuGrid_yield_table = gizmo.agetracers.construct_yield_table(NuGrid_yield_model,\n",
    "                                                            part.ageprop.age_bins/1000.0)\n",
    "\n",
    "# again, elements to generate for yield table are arbitary as long as \n",
    "# they are included in the yield model. Below uses all available elements:\n",
    "part.set_yield_table(NuGrid_yield_table, [str.lower(x) for x in NuGrid_yield_model.elements])"
   ]
  },
  {
   "cell_type": "code",
   "execution_count": null,
   "metadata": {},
   "outputs": [],
   "source": [
    "# Lets try this out with the NuGrid data now!\n",
    "\n",
    "from utilities.basic.binning import BinClass\n",
    "\n",
    "fig,ax=plt.subplots()\n",
    "fig.set_size_inches(6,4)\n",
    "\n",
    "bc    = BinClass([-4,2],number= int((2-(-4))/0.1))\n",
    "\n",
    "# plot the native simulation data:\n",
    "stats = bc.get_statistics_of_array(  part['star'].prop('metallicity.fe'),\n",
    "                                     part['star'].prop('metallicity.alpha - metallicity.fe'))\n",
    "    \n",
    "    \n",
    "ax.plot(stats['bin.mid'][:-1], stats['median'][:-1], lw=3, color = 'black', label = 'Simulation')\n",
    "ax.fill_between(stats['bin.mid'], stats['percent.16'], stats['percent.84'], alpha=0.2,\n",
    "                lw = 3, color='black')\n",
    "\n",
    "\n",
    "# plot the post-processed data.\n",
    "# this can be done with just the \".agetracer\" string, which works\n",
    "# for all things that the elements work on already (metallicity, mass, massfraction, etc.)\n",
    "bc    = BinClass([-4,2],number= int((2-(-4))/0.1))\n",
    "stats = bc.get_statistics_of_array(part['star'].prop('metallicity.agetracer.fe'),\n",
    "                                   part['star'].prop('metallicity.agetracer.alpha - metallicity.agetracer.fe'))\n",
    "    \n",
    "    \n",
    "ax.plot(stats['bin.mid'][:-1], stats['median'][:-1], lw=3, color = 'C0', label = 'NuGrid - solar')\n",
    "ax.fill_between(stats['bin.mid'], stats['percent.16'], stats['percent.84'], alpha=0.2,\n",
    "                lw = 3, color='C0')\n",
    "\n",
    "\n",
    "ax.legend(loc='best')\n",
    "ax.set_ylim(-1,1)\n",
    "ax.set_xlim(-4,2)\n",
    "ax.set_ylabel(r'[$\\alpha$/Fe]')\n",
    "ax.set_xlabel('[Fe/H]')"
   ]
  }
 ],
 "metadata": {
  "anaconda-cloud": {},
  "kernelspec": {
   "display_name": "Python 3",
   "language": "python",
   "name": "python3"
  },
  "language_info": {
   "codemirror_mode": {
    "name": "ipython",
    "version": 3
   },
   "file_extension": ".py",
   "mimetype": "text/x-python",
   "name": "python",
   "nbconvert_exporter": "python",
   "pygments_lexer": "ipython3",
   "version": "3.8.5-final"
  }
 },
 "nbformat": 4,
 "nbformat_minor": 1
}