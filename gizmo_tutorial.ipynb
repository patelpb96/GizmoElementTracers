{
 "cells": [
  {
   "cell_type": "markdown",
   "metadata": {},
   "source": [
    "First, move within a simulation directory. This directory should contains the sub-directory 'output/' that contains snapshot files, and a file 'snapshot_times.txt' that lists the scale-factors, redshifts, times, and indices of all snapshots stored from the simulation."
   ]
  },
  {
   "cell_type": "markdown",
   "metadata": {},
   "source": [
    "Ensure that gizmo_analysis and utilities directories are in your python path, then..."
   ]
  },
  {
   "cell_type": "code",
   "execution_count": 1,
   "metadata": {},
   "outputs": [],
   "source": [
    "import gizmo_analysis as gizmo\n",
    "import utilities as ut\n",
    "\n",
    "import numpy as np"
   ]
  },
  {
   "cell_type": "code",
   "execution_count": 2,
   "metadata": {},
   "outputs": [
    {
     "data": {
      "text/plain": [
       "<module 'gizmo_analysis.gizmo_io' from '/Users/awetzel/work/research/analysis/gizmo_analysis/gizmo_io.py'>"
      ]
     },
     "execution_count": 2,
     "metadata": {},
     "output_type": "execute_result"
    }
   ],
   "source": [
    "# you can access the files as named or use the aliases in __init__.py to keep it shorter \n",
    "# for example, these are the same:\n",
    "\n",
    "gizmo.gizmo_io\n",
    "gizmo.io"
   ]
  },
  {
   "cell_type": "markdown",
   "metadata": {},
   "source": [
    "# read particle data"
   ]
  },
  {
   "cell_type": "code",
   "execution_count": 3,
   "metadata": {},
   "outputs": [
    {
     "name": "stdout",
     "output_type": "stream",
     "text": [
      "\n",
      "# in utilities.simulation.Snapshot():\n",
      "* reading:  snapshot_times.txt\n",
      "\n",
      "* input redshift = 0:  using snapshot index = 600, redshift = 0.000\n",
      "\n",
      "\n",
      "# in gizmo_analysis.gizmo_io.Read():\n",
      "* reading header from:  output/snapshot_600.hdf5\n",
      "  snapshot contains the following number of particles:\n",
      "    dark      (id = 1): 8820344 particles\n",
      "    dark2     (id = 2): 3081337 particles\n",
      "    gas       (id = 0): 5969934 particles\n",
      "    star      (id = 4): 3059250 particles\n",
      "    blackhole (id = 5): 0 particles\n",
      "\n",
      "* reading species: ['star', 'dark']\n",
      "* reading particles from:\n",
      "    output/snapshot_600.hdf5\n",
      "\n",
      "* reading cosmological parameters from:  initial_condition/ic_agora_m12i.conf\n",
      "\n",
      "* checking sanity of particle properties\n",
      "\n",
      "* assigning coordinates for 1 host galaxy/halo[s]:\n",
      "  position = (41821.974, 44122.005, 46288.448) [kpc comoving]\n",
      "  velocity = (-48.7, 73.2, 96.7) [km / s]\n",
      "\n"
     ]
    }
   ],
   "source": [
    "# read star and dark-matter particles at z = 0\n",
    "\n",
    "part = gizmo.io.Read.read_snapshots(['star', 'dark'], 'redshift', 0)"
   ]
  },
  {
   "cell_type": "code",
   "execution_count": 4,
   "metadata": {},
   "outputs": [
    {
     "name": "stdout",
     "output_type": "stream",
     "text": [
      "\n",
      "# in utilities.simulation.Snapshot():\n",
      "* reading:  snapshot_times.txt\n",
      "\n",
      "* input redshift = 0:  using snapshot index = 600, redshift = 0.000\n",
      "\n",
      "\n",
      "# in gizmo_analysis.gizmo_io.Read():\n",
      "* reading header from:  output/snapshot_600.hdf5\n",
      "  snapshot contains the following number of particles:\n",
      "    dark      (id = 1): 8820344 particles\n",
      "    dark2     (id = 2): 3081337 particles\n",
      "    gas       (id = 0): 5969934 particles\n",
      "    star      (id = 4): 3059250 particles\n",
      "    blackhole (id = 5): 0 particles\n",
      "\n",
      "* reading species: ['dark', 'dark2', 'gas', 'star']\n",
      "* reading particles from:\n",
      "    output/snapshot_600.hdf5\n",
      "\n",
      "* reading cosmological parameters from:  initial_condition/ic_agora_m12i.conf\n",
      "\n",
      "* checking sanity of particle properties\n",
      "\n",
      "* assigning coordinates for 1 host galaxy/halo[s]:\n",
      "  position = (41821.974, 44122.005, 46288.448) [kpc comoving]\n",
      "  velocity = (-48.7, 73.2, 96.7) [km / s]\n",
      "\n"
     ]
    }
   ],
   "source": [
    "# alternately, read all particle species at z = 0\n",
    "\n",
    "part = gizmo.io.Read.read_snapshots('all', 'redshift', 0)"
   ]
  },
  {
   "cell_type": "code",
   "execution_count": null,
   "metadata": {},
   "outputs": [],
   "source": [
    "# this tutorial assumes that you are in the root directory of a simulation, \n",
    "# but you can read a simulation at any location using input argument 'simulation_directory'\n",
    "\n",
    "part = gizmo.io.Read.read_snapshots('all', 'redshift', 0, simulation_directory='/arb/it/rary/loc/a/tion')"
   ]
  },
  {
   "cell_type": "code",
   "execution_count": null,
   "metadata": {},
   "outputs": [],
   "source": [
    "# each particle species is stored as its own dictionary\n",
    "# 'star' = stars, 'gas' = gas, 'dark' = dark matter,\n",
    "# 'dark2', 'dark3', 'dark4', etc = low-resolution dark matter (but you rarely will be interested in this)\n",
    "\n",
    "part.keys()"
   ]
  },
  {
   "cell_type": "code",
   "execution_count": null,
   "metadata": {},
   "outputs": [],
   "source": [
    "# properties of star particles are stored via dictionary\n",
    "\n",
    "part['star'].keys()"
   ]
  },
  {
   "cell_type": "code",
   "execution_count": null,
   "metadata": {},
   "outputs": [],
   "source": [
    "# properties of dark-matter particles\n",
    "\n",
    "part['dark'].keys()"
   ]
  },
  {
   "cell_type": "code",
   "execution_count": null,
   "metadata": {},
   "outputs": [],
   "source": [
    "# properties of gas particles\n",
    "\n",
    "part['gas'].keys()"
   ]
  },
  {
   "cell_type": "markdown",
   "metadata": {},
   "source": [
    "# particle properties"
   ]
  },
  {
   "cell_type": "code",
   "execution_count": null,
   "metadata": {},
   "outputs": [],
   "source": [
    "# 3-D position of star particle (particle number x dimension number) [kpc comoving]\n",
    "\n",
    "part['star']['position']"
   ]
  },
  {
   "cell_type": "code",
   "execution_count": null,
   "metadata": {},
   "outputs": [],
   "source": [
    "# 3-D velocity of star particle (particle number x dimension number) [km / s]\n",
    "\n",
    "part['star']['velocity']"
   ]
  },
  {
   "cell_type": "code",
   "execution_count": null,
   "metadata": {},
   "outputs": [],
   "source": [
    "# mass of star particle [Msun]\n",
    "\n",
    "part['star']['mass']"
   ]
  },
  {
   "cell_type": "code",
   "execution_count": null,
   "metadata": {},
   "outputs": [],
   "source": [
    "# formation scale-factor of star particle\n",
    "\n",
    "part['star']['form.scalefactor']"
   ]
  },
  {
   "cell_type": "code",
   "execution_count": 5,
   "metadata": {},
   "outputs": [
    {
     "data": {
      "text/plain": [
       "array([ 5.38456731,  7.35609019,  5.37457175, ..., 10.46071958,\n",
       "        4.55585177,  3.20527164])"
      ]
     },
     "execution_count": 5,
     "metadata": {},
     "output_type": "execute_result"
    }
   ],
   "source": [
    "# use .prop() to compute derived quantities,\n",
    "# such as the time [Gyr] when a star particle formed\n",
    "# see gizmo.io.ParticleDictionaryClass for all options for derived quantities\n",
    "\n",
    "part['star'].prop('form.time')"
   ]
  },
  {
   "cell_type": "code",
   "execution_count": 6,
   "metadata": {},
   "outputs": [
    {
     "data": {
      "text/plain": [
       "array([ 8.41417957,  6.44265669,  8.42417513, ...,  3.3380273 ,\n",
       "        9.24289511, 10.59347525])"
      ]
     },
     "execution_count": 6,
     "metadata": {},
     "output_type": "execute_result"
    }
   ],
   "source": [
    "# similarly, get the age of a star particle (the lookback time to when it formed) [Gyr]\n",
    "\n",
    "part['star'].prop('age')"
   ]
  },
  {
   "cell_type": "code",
   "execution_count": 8,
   "metadata": {},
   "outputs": [
    {
     "data": {
      "text/plain": [
       "array([98218.07407055, 70719.46698618, 57860.98445673, ...,\n",
       "       57814.24812811, 55872.96596205, 54849.83031645])"
      ]
     },
     "execution_count": 8,
     "metadata": {},
     "output_type": "execute_result"
    }
   ],
   "source": [
    "# get the mass of a star particle when it formed [Msun], using the stellar evolution tracks in Gizmo\n",
    "\n",
    "part['star'].prop('form.mass')"
   ]
  },
  {
   "cell_type": "markdown",
   "metadata": {},
   "source": [
    "# elemental abundances / metallicities"
   ]
  },
  {
   "cell_type": "code",
   "execution_count": null,
   "metadata": {},
   "outputs": [],
   "source": [
    "# elemental abundance is stored in the catalog as linear *mass fraction*\n",
    "# one value for each element, in a array (particle_number x element number)\n",
    "# the first value is the mass fraction of all metals (everything not H, He)\n",
    "# then He, C, N, O, etc\n",
    "\n",
    "part['star']['massfraction']"
   ]
  },
  {
   "cell_type": "code",
   "execution_count": null,
   "metadata": {},
   "outputs": [],
   "source": [
    "# get individual elements by their index\n",
    "\n",
    "# total metal mass fraction (everything not H, He) is index 0\n",
    "print(part['star']['massfraction'][:, 0])\n",
    "\n",
    "# iron is index 10\n",
    "print(part['star']['massfraction'][:, 10])"
   ]
  },
  {
   "cell_type": "code",
   "execution_count": null,
   "metadata": {},
   "outputs": [],
   "source": [
    "# alternately use .prop() to compute derived quantities,\n",
    "# including calling element by its name or symbol\n",
    "# see gizmo.io.ParticleDictionaryClass for all options for derived quantities\n",
    "\n",
    "print(part['star'].prop('massfraction.metals'))\n",
    "print(part['star'].prop('massfraction.carbon'))\n",
    "print(part['star'].prop('massfraction.iron'))\n",
    "print(part['star'].prop('massfraction.fe'))  # can use name or symbol"
   ]
  },
  {
   "cell_type": "code",
   "execution_count": null,
   "metadata": {},
   "outputs": [],
   "source": [
    "# also use .prop() to compute metallicity [Z / H]\n",
    "# for example, iron abundance [Fe / H] :=\n",
    "#   log10((mass_iron / mass_hydrogen)_particle / (mass_iron / mass_hydrogen)_sun)\n",
    "# my pipeline assumes solar abundances from Asplund et al 2009\n",
    "\n",
    "print(part['star'].prop('metallicity.total'))\n",
    "print(part['star'].prop('metallicity.fe'))"
   ]
  },
  {
   "cell_type": "code",
   "execution_count": null,
   "metadata": {},
   "outputs": [],
   "source": [
    "# also use .prop() to compute simple arithmetic combinations, such as [Mg / Fe]\n",
    "\n",
    "part['star'].prop('metallicity.mg - metallicity.fe')"
   ]
  },
  {
   "cell_type": "code",
   "execution_count": null,
   "metadata": {},
   "outputs": [],
   "source": [
    "# refer to utilities.basic.constant for assumed solar values (Asplund et al 2009) and other constants\n",
    "\n",
    "ut.constant.sun_composition"
   ]
  },
  {
   "cell_type": "markdown",
   "metadata": {},
   "source": [
    "# meta-data about simulation"
   ]
  },
  {
   "cell_type": "code",
   "execution_count": null,
   "metadata": {},
   "outputs": [],
   "source": [
    "# dictionary of useful information about the simulation\n",
    "\n",
    "part.info"
   ]
  },
  {
   "cell_type": "code",
   "execution_count": null,
   "metadata": {},
   "outputs": [],
   "source": [
    "# dictionary of information about this snapshot's index, scale-factor, redshift, time, lookback-time\n",
    "\n",
    "part.snapshot"
   ]
  },
  {
   "cell_type": "code",
   "execution_count": null,
   "metadata": {},
   "outputs": [],
   "source": [
    "# dictionary class with information about *all* snapshots that were saved for the simulation\n",
    "\n",
    "print(part.Snapshot.keys())\n",
    "print(part.Snapshot['redshift'][:10])"
   ]
  },
  {
   "cell_type": "code",
   "execution_count": null,
   "metadata": {
    "scrolled": true
   },
   "outputs": [],
   "source": [
    "# dictionary class of cosmological parameters, with internal functions for cosmological conversions\n",
    "# see utilities.cosmology for more on this\n",
    "\n",
    "part.Cosmology"
   ]
  },
  {
   "cell_type": "markdown",
   "metadata": {},
   "source": [
    "See gizmo.analysis for examples of high-level analysis, including plotting these data.\n",
    "\n",
    "See ut.particle for mid-level analysis functions that may be useful.\n",
    "\n",
    "See other modules within utilities for low-level functions that may be useful."
   ]
  },
  {
   "cell_type": "markdown",
   "metadata": {},
   "source": [
    "# coordinates of host galaxy/halo and principal axes of stellar disk"
   ]
  },
  {
   "cell_type": "markdown",
   "metadata": {},
   "source": [
    "If you enable read_snapshots(assign_host_coordinates=True) (which is True by default), then during read-in the code assigns the position and velocity of the host galaxy/halo (using stars for a baryonic simulations and dark matter for a DM-only simulation). The code stores these coordinates in arrays appended to the particle catalog.\n",
    "\n",
    "Most simulations have a single host galaxy/halo, but some (like ELVIS) contain two (or more). You can control the number of hosts via: read_snapshots(host_number=2) (by deafult, host_number=1).\n",
    "\n",
    "Once the code assigns the coordinates of each host, it also can compute the principal axes (rotation tensor) of each host's stellar disk. Enable this via: read_snapshots(assign_host_principal_axes=True) (by default, assign_host_principal_axes=False)."
   ]
  },
  {
   "cell_type": "code",
   "execution_count": 9,
   "metadata": {},
   "outputs": [
    {
     "name": "stdout",
     "output_type": "stream",
     "text": [
      "[[41821.97367711 44122.00484177 46288.4484585 ]]\n",
      "[[-48.737286  73.20827   96.66946 ]]\n"
     ]
    }
   ],
   "source": [
    "# position [kpc comoving] and velocity [km / s] of the center of each host galaxy\n",
    "# can store multiple hosts, though usually just one\n",
    "\n",
    "print(part.host_positions)\n",
    "print(part.host_velocities)"
   ]
  },
  {
   "cell_type": "code",
   "execution_count": 10,
   "metadata": {},
   "outputs": [
    {
     "name": "stdout",
     "output_type": "stream",
     "text": [
      "\n",
      "# in utilities.simulation.Snapshot():\n",
      "* reading:  snapshot_times.txt\n",
      "\n",
      "* input redshift = 0:  using snapshot index = 600, redshift = 0.000\n",
      "\n",
      "\n",
      "# in gizmo_analysis.gizmo_io.Read():\n",
      "* reading header from:  output/snapshot_600.hdf5\n",
      "  snapshot contains the following number of particles:\n",
      "    dark      (id = 1): 8820344 particles\n",
      "    dark2     (id = 2): 3081337 particles\n",
      "    gas       (id = 0): 5969934 particles\n",
      "    star      (id = 4): 3059250 particles\n",
      "    blackhole (id = 5): 0 particles\n",
      "\n",
      "* reading species: ['star', 'dark']\n",
      "* reading particles from:\n",
      "    output/snapshot_600.hdf5\n",
      "\n",
      "* reading cosmological parameters from:  initial_condition/ic_agora_m12i.conf\n",
      "\n",
      "* checking sanity of particle properties\n",
      "\n",
      "* assigning coordinates for 1 host galaxy/halo[s]:\n",
      "  position = (41821.974, 44122.005, 46288.448) [kpc comoving]\n",
      "  velocity = (-48.7, 73.2, 96.7) [km / s]\n",
      "\n",
      "* assigning principal axes of host galaxy[s]/halo[s]:\n",
      "  using star particles at distance < 15 kpc\n",
      "  using distance that encloses 90% of mass\n",
      "  using youngest 30% of star particles\n",
      "\n",
      "# in utilities.particle.get_principal_axes():\n",
      "  using star particles with age = [0.000, 5.505] Gyr\n",
      "  axis ratios: min/maj = 0.162, min/med = 0.166, med/maj = 0.974\n",
      "\n"
     ]
    }
   ],
   "source": [
    "# compute and assign principal axes (defined via moment of inertia tensor) of stars during read in as below\n",
    "\n",
    "part = gizmo.io.Read.read_snapshots(['star', 'dark'], 'redshift', 0, assign_host_principal_axes=True)"
   ]
  },
  {
   "cell_type": "code",
   "execution_count": 11,
   "metadata": {},
   "outputs": [
    {
     "name": "stdout",
     "output_type": "stream",
     "text": [
      "[[ 0.20397335  0.45612521  0.86622437]\n",
      " [ 0.8729429   0.31577278 -0.37183093]\n",
      " [-0.44313154  0.83200802 -0.33376204]]\n"
     ]
    }
   ],
   "source": [
    "# rotation tensor[s] of the principal axes for each host are stored via\n",
    "\n",
    "print(part.host_rotation_tensors[0])"
   ]
  },
  {
   "cell_type": "code",
   "execution_count": 12,
   "metadata": {},
   "outputs": [
    {
     "data": {
      "text/plain": [
       "array([[ 1268.83208172,  5564.34890325, -4928.10562341],\n",
       "       [ 3106.31973213,  2376.85209351, -4314.64238128],\n",
       "       [ 2343.09614995,  1783.56843904,   860.76900457],\n",
       "       ...,\n",
       "       [  137.22019795, -1574.3404895 ,  -179.61490314],\n",
       "       [  137.33256157, -1574.5766965 ,  -179.46876353],\n",
       "       [  137.33369847, -1574.91948576,  -179.89308991]])"
      ]
     },
     "execution_count": 12,
     "metadata": {},
     "output_type": "execute_result"
    }
   ],
   "source": [
    "# now you can compute different types of distance of star particles from the center of each host galaxy\n",
    "# compute 3-D distance from the host center along simulation's default x,y,z cartesian axes [kpc physical]\n",
    "\n",
    "part['star'].prop('host.distance')"
   ]
  },
  {
   "cell_type": "code",
   "execution_count": 13,
   "metadata": {},
   "outputs": [
    {
     "data": {
      "text/plain": [
       "array([7540.43358198, 5823.640359  , 3067.92099375, ..., 1590.48384872,\n",
       "       1590.71086081, 1591.09819155])"
      ]
     },
     "execution_count": 13,
     "metadata": {},
     "output_type": "execute_result"
    }
   ],
   "source": [
    "# add 'total' to compute total (scalar) distance [kpc physical]\n",
    "\n",
    "part['star'].prop('host.distance.total')"
   ]
  },
  {
   "cell_type": "code",
   "execution_count": 14,
   "metadata": {},
   "outputs": [
    {
     "data": {
      "text/plain": [
       "array([[-1471.99745052,  4697.1099597 ,  5712.13796546],\n",
       "       [-2019.69978771,  5066.5024369 ,  2041.11559089],\n",
       "       [ 2037.07879133,  2288.53098007,   158.35142894],\n",
       "       ...,\n",
       "       [ -845.6939332 ,  -310.56209532, -1310.72187337],\n",
       "       [ -845.65216429,  -310.59293526, -1311.01696721],\n",
       "       [ -846.17584907,  -310.54240865, -1311.16105038]])"
      ]
     },
     "execution_count": 14,
     "metadata": {},
     "output_type": "execute_result"
    }
   ],
   "source": [
    "# add 'principal' to compute 3-D distance aligned with the principal (major, intermediate, minor) axes of the host [kpc physical]\n",
    "\n",
    "part['star'].prop('host.distance.principal')"
   ]
  },
  {
   "cell_type": "code",
   "execution_count": 15,
   "metadata": {},
   "outputs": [
    {
     "data": {
      "text/plain": [
       "array([[ 4.92235903e+03,  5.71213797e+03,  1.87448602e+00],\n",
       "       [ 5.45423085e+03,  2.04111559e+03,  1.95012791e+00],\n",
       "       [ 3.06383160e+03,  1.58351429e+02,  8.43463855e-01],\n",
       "       ...,\n",
       "       [ 9.00914560e+02, -1.31072187e+03,  3.49353175e+00],\n",
       "       [ 9.00885983e+02, -1.31101697e+03,  3.49357987e+00],\n",
       "       [ 9.01360169e+02, -1.31116105e+03,  3.49332695e+00]])"
      ]
     },
     "execution_count": 15,
     "metadata": {},
     "output_type": "execute_result"
    }
   ],
   "source": [
    "# add 'cylindrical' to compute 3-D distance aligned with the principal axes in cylindrical coordinates\n",
    "# first value is along the major axes (R, positive definite)\n",
    "# second value is vertical height wrt the disk (Z, signed)\n",
    "# third value is angle (phi, 0 to 2 * pi)\n",
    "\n",
    "part['star'].prop('host.distance.principal.cylindrical')"
   ]
  },
  {
   "cell_type": "code",
   "execution_count": 16,
   "metadata": {},
   "outputs": [
    {
     "data": {
      "text/plain": [
       "array([[ 153.69781  ,  682.3818   , -596.6675   ],\n",
       "       [ 439.40842  ,  148.70575  , -766.1859   ],\n",
       "       [ 339.27658  ,   43.9933   ,   84.86846  ],\n",
       "       ...,\n",
       "       [   3.8416476,  -90.69804  , -134.58772  ],\n",
       "       [   6.3950295, -152.07191  , -133.20901  ],\n",
       "       [ -22.332697 ,  -87.4856   , -117.72802  ]], dtype=float32)"
      ]
     },
     "execution_count": 16,
     "metadata": {},
     "output_type": "execute_result"
    }
   ],
   "source": [
    "# same for velocity\n",
    "# compute 3-D velocity from host galaxy center along simulation's default x,y,z cartesian axes [km / s]\n",
    "\n",
    "part['star'].prop('host.velocity')"
   ]
  },
  {
   "cell_type": "code",
   "execution_count": 17,
   "metadata": {},
   "outputs": [
    {
     "data": {
      "text/plain": [
       "array([919.3911 , 895.6752 , 352.48642, ..., 162.34145, 202.26569,\n",
       "       148.36565], dtype=float32)"
      ]
     },
     "execution_count": 17,
     "metadata": {},
     "output_type": "execute_result"
    }
   ],
   "source": [
    "# compute total (scalar) velocity [km / s]\n",
    "\n",
    "part['star'].prop('host.velocity.total')"
   ]
  },
  {
   "cell_type": "code",
   "execution_count": 18,
   "metadata": {},
   "outputs": [
    {
     "data": {
      "text/plain": [
       "array([[-174.24612  ,  571.5064   ,  698.7837   ],\n",
       "       [-506.23285  ,  715.4273   ,  184.73242  ],\n",
       "       [ 162.78496  ,  278.50424  , -142.06725  ],\n",
       "       ...,\n",
       "       [-157.16924  ,   24.757446 ,  -32.243576 ],\n",
       "       [-183.44832  ,    7.0935564,  -84.89878  ],\n",
       "       [-146.43854  ,   -3.3458223,  -23.599258 ]], dtype=float32)"
      ]
     },
     "execution_count": 18,
     "metadata": {},
     "output_type": "execute_result"
    }
   ],
   "source": [
    "# compute 3-D velocity along the principal (major, intermediate, minor) axes [km / s]\n",
    "\n",
    "part['star'].prop('host.velocity.principal')"
   ]
  },
  {
   "cell_type": "code",
   "execution_count": 19,
   "metadata": {},
   "outputs": [
    {
     "data": {
      "text/plain": [
       "array([[ 597.4611   ,  698.7837   ,   -4.6324883],\n",
       "       [ 852.0271   ,  184.73242  ,  205.32347  ],\n",
       "       [ 316.2613   , -142.06725  ,   63.57943  ],\n",
       "       ...,\n",
       "       [ 139.00136  ,  -32.243576 ,  -77.419136 ],\n",
       "       [ 169.7554   ,  -84.89878  ,  -69.905    ],\n",
       "       [ 138.6258   ,  -23.599258 ,  -47.310966 ]], dtype=float32)"
      ]
     },
     "execution_count": 19,
     "metadata": {},
     "output_type": "execute_result"
    }
   ],
   "source": [
    "# compute 3-D velocity in cylindrical coordinates\n",
    "# first value is along the major axes (positive definite)\n",
    "# second value is vertical velocity wrt the disk (signed)\n",
    "# third value is azimuthal velocity in the plane of the disk (positive definite)\n",
    "\n",
    "part['star'].prop('host.velocity.principal.cylindrical')"
   ]
  },
  {
   "cell_type": "code",
   "execution_count": 20,
   "metadata": {},
   "outputs": [
    {
     "name": "stdout",
     "output_type": "stream",
     "text": [
      "\n",
      "# in utilities.simulation.Snapshot():\n",
      "* reading:  snapshot_times.txt\n",
      "\n",
      "* input redshift = 0:  using snapshot index = 600, redshift = 0.000\n",
      "\n",
      "\n",
      "# in gizmo_analysis.gizmo_io.Read():\n",
      "* reading header from:  output/snapshot_600.hdf5\n",
      "  snapshot contains the following number of particles:\n",
      "    dark      (id = 1): 8820344 particles\n",
      "    dark2     (id = 2): 3081337 particles\n",
      "    gas       (id = 0): 5969934 particles\n",
      "    star      (id = 4): 3059250 particles\n",
      "    blackhole (id = 5): 0 particles\n",
      "\n",
      "* reading species: ['star', 'dark']\n",
      "* reading particles from:\n",
      "    output/snapshot_600.hdf5\n",
      "\n",
      "* reading cosmological parameters from:  initial_condition/ic_agora_m12i.conf\n",
      "\n",
      "* checking sanity of particle properties\n",
      "\n",
      "* assigning coordinates for 2 host galaxy/halo[s]:\n",
      "  position = (41821.974, 44122.005, 46288.448) [kpc comoving]\n",
      "  position = (42326.565, 46242.710, 46897.891) [kpc comoving]\n",
      "  velocity = (-48.7, 73.2, 96.7) [km / s]\n",
      "  velocity = (-38.3, 129.5, 143.7) [km / s]\n",
      "\n",
      "* assigning principal axes of host galaxy[s]/halo[s]:\n",
      "  using star particles at distance < 15 kpc\n",
      "  using distance that encloses 90% of mass\n",
      "  using youngest 30% of star particles\n",
      "\n",
      "# in utilities.particle.get_principal_axes():\n",
      "  using star particles with age = [0.000, 5.505] Gyr\n",
      "  using star particles with age = [0.000, 3.566] Gyr\n",
      "  axis ratios: min/maj = 0.162, min/med = 0.166, med/maj = 0.974\n",
      "  axis ratios: min/maj = 0.373, min/med = 0.424, med/maj = 0.879\n",
      "\n"
     ]
    }
   ],
   "source": [
    "# if you want to store multiple hosts (such as for the ELVIS LG-like paired simulations), \n",
    "# set host_number=2 during read-in\n",
    "# (you can do this for any simulation, it simply finds the second most massive host halo in the zoom-in region)\n",
    "\n",
    "part = gizmo.io.Read.read_snapshots(['star', 'dark'], 'redshift', 0, host_number=2, assign_host_principal_axes=True)"
   ]
  },
  {
   "cell_type": "code",
   "execution_count": 21,
   "metadata": {},
   "outputs": [
    {
     "name": "stdout",
     "output_type": "stream",
     "text": [
      "[[ 1268.83208172  5564.34890325 -4928.10562341]\n",
      " [ 3106.31973213  2376.85209351 -4314.64238128]\n",
      " [ 2343.09614995  1783.56843904   860.76900457]\n",
      " ...\n",
      " [  137.22019795 -1574.3404895   -179.61490314]\n",
      " [  137.33256157 -1574.5766965   -179.46876353]\n",
      " [  137.33369847 -1574.91948576  -179.89308991]]\n",
      "[[  764.24101808  3443.64339733 -5537.5485934 ]\n",
      " [ 2601.72866849   256.14658759 -4924.08535126]\n",
      " [ 1838.5050863   -337.13706688   251.32603459]\n",
      " ...\n",
      " [ -367.37086569 -3695.04599542  -789.05787312]\n",
      " [ -367.25850207 -3695.28220242  -788.91173351]\n",
      " [ -367.25736517 -3695.62499168  -789.3360599 ]]\n"
     ]
    }
   ],
   "source": [
    "# everything above carries over, just use 'host', 'host2', 'host3', etc \n",
    "# to identify which host you want coordinates relative to\n",
    "\n",
    "print(part['star'].prop('host.distance'))\n",
    "print(part['star'].prop('host2.distance'))"
   ]
  },
  {
   "cell_type": "code",
   "execution_count": 22,
   "metadata": {},
   "outputs": [
    {
     "name": "stdout",
     "output_type": "stream",
     "text": [
      "[[41821.97367711 44122.00484177 46288.4484585 ]\n",
      " [42326.56474076 46242.7103477  46897.89142848]]\n",
      "[[-48.737286  73.20827   96.66946 ]\n",
      " [-38.321564 129.5273   143.74284 ]]\n",
      "[[[ 0.20397335  0.45612521  0.86622437]\n",
      "  [ 0.8729429   0.31577278 -0.37183093]\n",
      "  [-0.44313154  0.83200802 -0.33376204]]\n",
      "\n",
      " [[ 0.12491512  0.53307014  0.83679893]\n",
      "  [ 0.11038452  0.83070206 -0.54566413]\n",
      "  [-0.98600785  0.16053135  0.04492455]]]\n"
     ]
    }
   ],
   "source": [
    "# the code stores coordinates and rotation tensors for each host\n",
    "\n",
    "print(part.host_positions)\n",
    "print(part.host_velocities)\n",
    "print(part.host_rotation_tensors)"
   ]
  },
  {
   "cell_type": "markdown",
   "metadata": {},
   "source": [
    "# star + gas particle tracking"
   ]
  },
  {
   "cell_type": "markdown",
   "metadata": {},
   "source": [
    "Some simulations have pre-compiled HDF5 files for tracking star + gas particles over time. These files are stored in the directory 'track/' (if present). gizmo_track.py contains the code that generates and reads these files."
   ]
  },
  {
   "cell_type": "markdown",
   "metadata": {},
   "source": [
    "star\\_gas\\_pointers\\_*.hdf5 files store, for each star and gas particles at z = 0, a pointer to where it was in the catalog at each previous snapshot (replace * with snapshot index). This makes it easy to quickly get the properties of a given star particle at any previous snapshot. These pointers are stored in an HDF5 file, one for each previous snapshot."
   ]
  },
  {
   "cell_type": "markdown",
   "metadata": {},
   "source": [
    "### tracking between z = 0 and a previous snapshot"
   ]
  },
  {
   "cell_type": "code",
   "execution_count": 100,
   "metadata": {},
   "outputs": [
    {
     "name": "stdout",
     "output_type": "stream",
     "text": [
      "\n",
      "# in utilities.simulation.Snapshot():\n",
      "* reading:  snapshot_times.txt\n",
      "\n",
      "* input redshift = 0:  using snapshot index = 600, redshift = 0.000\n",
      "\n",
      "\n",
      "# in gizmo_analysis.gizmo_io.Read():\n",
      "* reading header from:  output/snapshot_600.hdf5\n",
      "  snapshot contains the following number of particles:\n",
      "    dark      (id = 1): 8820344 particles\n",
      "    dark2     (id = 2): 3081337 particles\n",
      "    gas       (id = 0): 5969934 particles\n",
      "    star      (id = 4): 3059250 particles\n",
      "    blackhole (id = 5): 0 particles\n",
      "\n",
      "* reading species: ['star', 'gas']\n",
      "* reading particles from:\n",
      "    output/snapshot_600.hdf5\n",
      "\n",
      "* reading cosmological parameters from:  initial_condition/ic_agora_m12i.conf\n",
      "\n",
      "* checking sanity of particle properties\n",
      "\n",
      "* assigning coordinates for 1 host galaxy/halo[s]:\n",
      "  position = (41821.974, 44122.005, 46288.448) [kpc comoving]\n",
      "  velocity = (-48.7, 73.2, 96.7) [km / s]\n",
      "\n"
     ]
    }
   ],
   "source": [
    "# read catalog of star and gas particles at z = 0\n",
    "\n",
    "part_at_z0 = gizmo.io.Read.read_snapshots(['star', 'gas'], 'redshift', 0)"
   ]
  },
  {
   "cell_type": "code",
   "execution_count": 31,
   "metadata": {},
   "outputs": [
    {
     "name": "stdout",
     "output_type": "stream",
     "text": [
      "\n",
      "# in utilities.simulation.Snapshot():\n",
      "* reading:  snapshot_times.txt\n",
      "\n",
      "* input redshift = 2:  using snapshot index = 172, redshift = 2.000\n",
      "\n",
      "\n",
      "# in gizmo_analysis.gizmo_io.Read():\n",
      "* reading header from:  output/snapshot_172.hdf5\n",
      "  snapshot contains the following number of particles:\n",
      "    dark      (id = 1): 8820344 particles\n",
      "    dark2     (id = 2): 3081337 particles\n",
      "    gas       (id = 0): 8575137 particles\n",
      "    star      (id = 4): 245223 particles\n",
      "    blackhole (id = 5): 0 particles\n",
      "\n",
      "* reading species: ['star', 'gas']\n",
      "* reading particles from:\n",
      "    output/snapshot_172.hdf5\n",
      "\n",
      "* reading cosmological parameters from:  initial_condition/ic_agora_m12i.conf\n",
      "\n",
      "* checking sanity of particle properties\n",
      "\n",
      "* assigning coordinates for 1 host galaxy/halo[s]:\n",
      "  position = (42860.578, 42499.360, 44850.603) [kpc comoving]\n",
      "  velocity = (-62.4, 121.0, 36.3) [km / s]\n",
      "\n"
     ]
    }
   ],
   "source": [
    "# say that you want to find out what they were doing at z = 2\n",
    "# read in catalog of star particles at z = 2 (snapshot 172)\n",
    "\n",
    "part_at_z2 = gizmo.io.Read.read_snapshots(['star', 'gas'], 'redshift', 2)"
   ]
  },
  {
   "cell_type": "code",
   "execution_count": 32,
   "metadata": {},
   "outputs": [
    {
     "name": "stdout",
     "output_type": "stream",
     "text": [
      "\n",
      "# in utilities.basic.io.file_hdf5():\n",
      "  read file: star_gas_pointers_172.hdf5\n",
      "    species | |S4, shape = (2,)\n",
      "    z.gas.index.limits | int64, shape = (2,)\n",
      "    z.gas.number | int64, shape = ()\n",
      "    z.particle.number | int64, shape = ()\n",
      "    z.snapshot.index | int64, shape = ()\n",
      "    z.star.index.limits | int64, shape = (2,)\n",
      "    z.star.number | int64, shape = ()\n",
      "    z0.gas.index.limits | int64, shape = (2,)\n",
      "    z0.gas.number | int64, shape = ()\n",
      "    z0.particle.number | int64, shape = ()\n",
      "    z0.snapshot.index | int32, shape = ()\n",
      "    z0.star.index.limits | int64, shape = (2,)\n",
      "    z0.star.number | int64, shape = ()\n",
      "    z0.to.z.index | int32, shape = (9029184,)\n"
     ]
    }
   ],
   "source": [
    "# use this read class + function within gizmo_track.py to read star + gas index pointers associated with the catalog z = 1\n",
    "\n",
    "gizmo.track.ParticlePointerIO.io_pointers(part_at_z2)"
   ]
  },
  {
   "cell_type": "code",
   "execution_count": 140,
   "metadata": {},
   "outputs": [
    {
     "name": "stdout",
     "output_type": "stream",
     "text": [
      "\n",
      "# in utilities.simulation.Snapshot():\n",
      "* reading:  snapshot_times.txt\n",
      "\n",
      "* input redshift = 2:  using snapshot index = 172, redshift = 2.000\n",
      "\n",
      "\n",
      "# in gizmo_analysis.gizmo_io.Read():\n",
      "* reading header from:  output/snapshot_172.hdf5\n",
      "  snapshot contains the following number of particles:\n",
      "    dark      (id = 1): 8820344 particles\n",
      "    dark2     (id = 2): 3081337 particles\n",
      "    gas       (id = 0): 8575137 particles\n",
      "    star      (id = 4): 245223 particles\n",
      "    blackhole (id = 5): 0 particles\n",
      "\n",
      "* reading species: ['star', 'gas']\n",
      "* reading particles from:\n",
      "    output/snapshot_172.hdf5\n",
      "\n",
      "* reading cosmological parameters from:  initial_condition/ic_agora_m12i.conf\n",
      "\n",
      "* checking sanity of particle properties\n",
      "\n",
      "* assigning coordinates for 1 host galaxy/halo[s]:\n",
      "  position = (42860.578, 42499.360, 44850.603) [kpc comoving]\n",
      "  velocity = (-62.4, 121.0, 36.3) [km / s]\n",
      "\n",
      "\n",
      "# in utilities.basic.io.file_hdf5():\n",
      "  read file: star_gas_pointers_172.hdf5\n",
      "    species | |S4, shape = (2,)\n",
      "    z.gas.index.limits | int64, shape = (2,)\n",
      "    z.gas.number | int64, shape = ()\n",
      "    z.particle.number | int64, shape = ()\n",
      "    z.snapshot.index | int64, shape = ()\n",
      "    z.star.index.limits | int64, shape = (2,)\n",
      "    z.star.number | int64, shape = ()\n",
      "    z0.gas.index.limits | int64, shape = (2,)\n",
      "    z0.gas.number | int64, shape = ()\n",
      "    z0.particle.number | int64, shape = ()\n",
      "    z0.snapshot.index | int32, shape = ()\n",
      "    z0.star.index.limits | int64, shape = (2,)\n",
      "    z0.star.number | int64, shape = ()\n",
      "    z0.to.z.index | int32, shape = (9029184,)\n"
     ]
    }
   ],
   "source": [
    "# alternately, can do the same during particle read-in by setting assign_pointers=True\n",
    "\n",
    "part_at_z2 = gizmo.io.Read.read_snapshots(['star', 'gas'], 'redshift', 2, assign_pointers=True)"
   ]
  },
  {
   "cell_type": "code",
   "execution_count": 141,
   "metadata": {},
   "outputs": [
    {
     "data": {
      "text/plain": [
       "{'species': array(['star', 'gas'], dtype='<U4'),\n",
       " 'z.gas.index.limits': array([ 245223, 8820360]),\n",
       " 'z.gas.number': 8575137,\n",
       " 'z.particle.number': 8820360,\n",
       " 'z.snapshot.index': 172,\n",
       " 'z.star.index.limits': array([     0, 245223]),\n",
       " 'z.star.number': 245223,\n",
       " 'z0.gas.index.limits': array([3059250, 9029184]),\n",
       " 'z0.gas.number': 5969934,\n",
       " 'z0.particle.number': 9029184,\n",
       " 'z0.snapshot.index': 600,\n",
       " 'z0.star.index.limits': array([      0, 3059250]),\n",
       " 'z0.star.number': 3059250,\n",
       " 'z0.to.z.index': array([8762407, 6627790, 2897974, ...,  428042, 1883434, 1569509],\n",
       "       dtype=int32)}"
      ]
     },
     "execution_count": 141,
     "metadata": {},
     "output_type": "execute_result"
    }
   ],
   "source": [
    "# pointers are stored via dictionary class appended to particle catalog dictionary at the relevant snapshot\n",
    "# a negative value means that the star formed after this snapshot (so it does not exist at this snapshot)\n",
    "\n",
    "part_at_z2.Pointer"
   ]
  },
  {
   "cell_type": "code",
   "execution_count": 142,
   "metadata": {},
   "outputs": [
    {
     "data": {
      "text/plain": [
       "array(['star', 'gas'], dtype='<U4')"
      ]
     },
     "execution_count": 142,
     "metadata": {},
     "output_type": "execute_result"
    }
   ],
   "source": [
    "# the particle species that we have compiled tracking pointers for\n",
    "\n",
    "part_at_z2.Pointer['species']"
   ]
  },
  {
   "cell_type": "code",
   "execution_count": 143,
   "metadata": {},
   "outputs": [
    {
     "name": "stdout",
     "output_type": "stream",
     "text": [
      "172\n",
      "600\n"
     ]
    }
   ],
   "source": [
    "# the snapshot indices at this redshift (z) and at the reference redshift (z = 0)\n",
    "\n",
    "print(part_at_z2.Pointer['z.snapshot.index'])\n",
    "print(part_at_z2.Pointer['z0.snapshot.index'])"
   ]
  },
  {
   "cell_type": "code",
   "execution_count": 144,
   "metadata": {},
   "outputs": [
    {
     "name": "stdout",
     "output_type": "stream",
     "text": [
      "245223\n",
      "8575137\n",
      "3059250\n",
      "5969934\n"
     ]
    }
   ],
   "source": [
    "# the number of particles at this redshift (z) and at the reference redshift (z = 0)\n",
    "\n",
    "print(part_at_z2.Pointer['z.star.number'])\n",
    "print(part_at_z2.Pointer['z.gas.number'])\n",
    "\n",
    "print(part_at_z2.Pointer['z0.star.number'])\n",
    "print(part_at_z2.Pointer['z0.gas.number'])"
   ]
  },
  {
   "cell_type": "code",
   "execution_count": 146,
   "metadata": {},
   "outputs": [
    {
     "name": "stdout",
     "output_type": "stream",
     "text": [
      "[8762407 6627790 2897974 ...  428042 1883434 1569509]\n",
      "[     0 245223]\n",
      "[ 245223 8820360]\n",
      "[      0 3059250]\n",
      "[3059250 9029184]\n"
     ]
    }
   ],
   "source": [
    "# this stores the actual pointers\n",
    "# becase gas particles can become star particles, this pipeline concatenates the particle list and \n",
    "# stores pointers from this combined star + gas list at z = 0 to z\n",
    "\n",
    "print(part_at_z2.Pointer['z0.to.z.index'])\n",
    "\n",
    "# thus, also store the limits of the indices of each species at each snapshot, so can convert back to the index\n",
    "# within the individual star list or the individual gas list (as stored in the particle catalog)\n",
    "print(part_at_z2.Pointer['z.star.index.limits'])\n",
    "print(part_at_z2.Pointer['z.gas.index.limits'])\n",
    "\n",
    "print(part_at_z2.Pointer['z0.star.index.limits'])\n",
    "print(part_at_z2.Pointer['z0.gas.index.limits'])"
   ]
  },
  {
   "cell_type": "code",
   "execution_count": 147,
   "metadata": {},
   "outputs": [],
   "source": [
    "# more simply, use this function to get pointers for a given species from z = 0 to z\n",
    "# default mode of tracking is going backwards in time (from z = 0 to z)\n",
    "\n",
    "pointers = part_at_z2.Pointer.get_pointers(species_name_from='star', species_names_to='star')"
   ]
  },
  {
   "cell_type": "code",
   "execution_count": 150,
   "metadata": {},
   "outputs": [
    {
     "data": {
      "text/plain": [
       "array([[43395.66430266, 44225.91487342, 46848.42028784],\n",
       "       [43391.32501013, 44235.3333939 , 46851.26898524],\n",
       "       [43392.7246372 , 44234.88455716, 46860.08437896]])"
      ]
     },
     "execution_count": 150,
     "metadata": {},
     "output_type": "execute_result"
    }
   ],
   "source": [
    "# say that you have a list of the indices of star particles of interest at z = 0\n",
    "\n",
    "indices_at_z0 = np.array([5, 8, 13])\n",
    "\n",
    "# their positions at z = 0\n",
    "\n",
    "part_at_z0['star']['position'][indices_at_z0]"
   ]
  },
  {
   "cell_type": "code",
   "execution_count": 153,
   "metadata": {},
   "outputs": [
    {
     "name": "stdout",
     "output_type": "stream",
     "text": [
      "[93570 93569 93574]\n"
     ]
    },
    {
     "data": {
      "text/plain": [
       "array([[44594.70662236, 42857.76681624, 45680.41942321],\n",
       "       [44597.17009857, 42856.9103464 , 45683.54318435],\n",
       "       [44586.14301487, 42869.01990286, 45673.47361522]])"
      ]
     },
     "execution_count": 153,
     "metadata": {},
     "output_type": "execute_result"
    }
   ],
   "source": [
    "# get their indices in the catalog at z = 2\n",
    "# negative indices means that the star particle did not exist at z = 2\n",
    "\n",
    "indices_at_z2 = pointers[indices_at_z0]\n",
    "print(indices_at_z2)\n",
    "\n",
    "# now you easily can get any property of interest at z = 2, for example, positions\n",
    "part_at_z2['star']['position'][indices_at_z2]"
   ]
  },
  {
   "cell_type": "code",
   "execution_count": 154,
   "metadata": {},
   "outputs": [
    {
     "name": "stdout",
     "output_type": "stream",
     "text": [
      "[1081507 2621944 1378523]\n",
      "[[41827.95243832 44124.6273934  46289.64224645]\n",
      " [41810.05286106 44110.48518841 46285.84784929]\n",
      " [41827.05895642 44116.02070015 46284.00376819]]\n"
     ]
    }
   ],
   "source": [
    "# alternatively, can track particles forward in time by setting forward=True\n",
    "\n",
    "pointers = part_at_z2.Pointer.get_pointers(species_name_from='star', species_names_to='star', forward=True)\n",
    "\n",
    "indices_at_z2 = np.array([5, 8, 13])\n",
    "indices_at_z0 = pointers[indices_at_z2]\n",
    "print(indices_at_z0)\n",
    "print(part_at_z0['star']['position'][indices_at_z0])"
   ]
  },
  {
   "cell_type": "code",
   "execution_count": 155,
   "metadata": {},
   "outputs": [
    {
     "name": "stdout",
     "output_type": "stream",
     "text": [
      "{'index': array([8517184, 6382567, 2652751, ..., 5870729,  297634,  179265],\n",
      "      dtype=int32), 'species': array(['gas', 'gas', 'gas', ..., 'gas', 'gas', 'star'], dtype='<U4')}\n",
      "['gas' 'star' 'star' 'star'] [8517184   93570   93569   93574]\n",
      "[8517184]\n",
      "[[42845.52824108 42506.12287672 44870.50121988]]\n"
     ]
    }
   ],
   "source": [
    "# also, can track star particles back to progenitor star and gas particles\n",
    "\n",
    "pointers = part_at_z2.Pointer.get_pointers(species_name_from='star', species_names_to=['star', 'gas'])\n",
    "\n",
    "# but now, pointers is a *dictionary* that stores both the index and species of each progenitor particle\n",
    "print(pointers)\n",
    "\n",
    "# get star indices at z = 0 and see what they were at z = 2\n",
    "star_indices_at_z0 = np.array([0, 5, 8, 13])\n",
    "print(pointers['species'][star_indices_at_z0], pointers['index'][star_indices_at_z0])\n",
    "\n",
    "# get those that were gas particles\n",
    "masks = np.where(pointers['species'][star_indices_at_z0] == 'gas')[0]\n",
    "\n",
    "gas_indices_at_z2 = pointers['index'][star_indices_at_z0[masks]]\n",
    "\n",
    "print(gas_indices_at_z2)\n",
    "print(part_at_z2['gas']['position'][gas_indices_at_z2])"
   ]
  },
  {
   "cell_type": "code",
   "execution_count": 156,
   "metadata": {},
   "outputs": [
    {
     "name": "stdout",
     "output_type": "stream",
     "text": [
      "['star' 'star' 'gas' 'gas']\n",
      "[ 215205 1917430 1826927 4148144]\n",
      "[ 215205 1917430]\n",
      "[[41823.76116895 44122.68646199 46287.49155757]\n",
      " [41813.98704585 44118.76742237 46303.17274406]]\n"
     ]
    }
   ],
   "source": [
    "# similar for working forward in time, to track gas particles at z that can be star or gas particles at z = 0\n",
    "\n",
    "pointers = part_at_z2.Pointer.get_pointers(species_name_from='gas', species_names_to=['star', 'gas'], forward=True)\n",
    "\n",
    "# get star indices at z = 0 and see what they were at z = 2\n",
    "gas_indices_at_z2 = np.array([0, 5, 8, 13])\n",
    "print(pointers['species'][gas_indices_at_z2])\n",
    "print(pointers['index'][gas_indices_at_z2])\n",
    "\n",
    "# get those that are star particles at z = 0\n",
    "masks = np.where(pointers['species'][gas_indices_at_z2] == 'star')[0]\n",
    "\n",
    "star_indices_at_z0 = pointers['index'][gas_indices_at_z2[masks]]\n",
    "\n",
    "print(star_indices_at_z0)\n",
    "print(part_at_z0['star']['position'][star_indices_at_z0])"
   ]
  },
  {
   "cell_type": "markdown",
   "metadata": {},
   "source": [
    "### tracking between two snapshots both at z > 0"
   ]
  },
  {
   "cell_type": "code",
   "execution_count": 157,
   "metadata": {},
   "outputs": [
    {
     "name": "stdout",
     "output_type": "stream",
     "text": [
      "\n",
      "# in utilities.simulation.Snapshot():\n",
      "* reading:  snapshot_times.txt\n",
      "\n",
      "* input redshift = 1:  using snapshot index = 277, redshift = 1.000\n",
      "\n",
      "\n",
      "# in gizmo_analysis.gizmo_io.Read():\n",
      "* reading header from:  output/snapshot_277.hdf5\n",
      "  snapshot contains the following number of particles:\n",
      "    dark      (id = 1): 8820344 particles\n",
      "    dark2     (id = 2): 3081337 particles\n",
      "    gas       (id = 0): 7498674 particles\n",
      "    star      (id = 4): 1333580 particles\n",
      "    blackhole (id = 5): 0 particles\n",
      "\n",
      "* reading species: ['star', 'gas']\n",
      "* reading particles from:\n",
      "    output/snapshot_277.hdf5\n",
      "\n",
      "* reading cosmological parameters from:  initial_condition/ic_agora_m12i.conf\n",
      "\n",
      "* checking sanity of particle properties\n",
      "\n",
      "* assigning coordinates for 1 host galaxy/halo[s]:\n",
      "  position = (42434.347, 43258.424, 45265.678) [kpc comoving]\n",
      "  velocity = (-62.5, 90.3, 88.6) [km / s]\n",
      "\n",
      "\n",
      "# in utilities.basic.io.file_hdf5():\n",
      "  read file: star_gas_pointers_277.hdf5\n",
      "    species | |S4, shape = (2,)\n",
      "    z.gas.index.limits | int64, shape = (2,)\n",
      "    z.gas.number | int64, shape = ()\n",
      "    z.particle.number | int64, shape = ()\n",
      "    z.snapshot.index | int64, shape = ()\n",
      "    z.star.index.limits | int64, shape = (2,)\n",
      "    z.star.number | int64, shape = ()\n",
      "    z0.gas.index.limits | int64, shape = (2,)\n",
      "    z0.gas.number | int64, shape = ()\n",
      "    z0.particle.number | int64, shape = ()\n",
      "    z0.snapshot.index | int64, shape = ()\n",
      "    z0.star.index.limits | int64, shape = (2,)\n",
      "    z0.star.number | int64, shape = ()\n",
      "    z0.to.z.index | int32, shape = (9029184,)\n",
      "\n",
      "# in utilities.simulation.Snapshot():\n",
      "* reading:  snapshot_times.txt\n",
      "\n",
      "* input redshift = 2:  using snapshot index = 172, redshift = 2.000\n",
      "\n",
      "\n",
      "# in gizmo_analysis.gizmo_io.Read():\n",
      "* reading header from:  output/snapshot_172.hdf5\n",
      "  snapshot contains the following number of particles:\n",
      "    dark      (id = 1): 8820344 particles\n",
      "    dark2     (id = 2): 3081337 particles\n",
      "    gas       (id = 0): 8575137 particles\n",
      "    star      (id = 4): 245223 particles\n",
      "    blackhole (id = 5): 0 particles\n",
      "\n",
      "* reading species: ['star', 'gas']\n",
      "* reading particles from:\n",
      "    output/snapshot_172.hdf5\n",
      "\n",
      "* reading cosmological parameters from:  initial_condition/ic_agora_m12i.conf\n",
      "\n",
      "* checking sanity of particle properties\n",
      "\n",
      "* assigning coordinates for 1 host galaxy/halo[s]:\n",
      "  position = (42860.578, 42499.360, 44850.603) [kpc comoving]\n",
      "  velocity = (-62.4, 121.0, 36.3) [km / s]\n",
      "\n",
      "\n",
      "# in utilities.basic.io.file_hdf5():\n",
      "  read file: star_gas_pointers_172.hdf5\n",
      "    species | |S4, shape = (2,)\n",
      "    z.gas.index.limits | int64, shape = (2,)\n",
      "    z.gas.number | int64, shape = ()\n",
      "    z.particle.number | int64, shape = ()\n",
      "    z.snapshot.index | int64, shape = ()\n",
      "    z.star.index.limits | int64, shape = (2,)\n",
      "    z.star.number | int64, shape = ()\n",
      "    z0.gas.index.limits | int64, shape = (2,)\n",
      "    z0.gas.number | int64, shape = ()\n",
      "    z0.particle.number | int64, shape = ()\n",
      "    z0.snapshot.index | int32, shape = ()\n",
      "    z0.star.index.limits | int64, shape = (2,)\n",
      "    z0.star.number | int64, shape = ()\n",
      "    z0.to.z.index | int32, shape = (9029184,)\n"
     ]
    }
   ],
   "source": [
    "# particle tracking also can handle tracking particles between any two snapshots\n",
    "\n",
    "# read catalogs of star and gas particles at z = 1 and 2, including their pointers relative to z = 0\n",
    "# can set ssign_pointers=True, automatically appends pointer class to particle catalog\n",
    "part_at_z1 = gizmo.io.Read.read_snapshots(['star', 'gas'], 'redshift', 1, assign_pointers=True)\n",
    "part_at_z2 = gizmo.io.Read.read_snapshots(['star', 'gas'], 'redshift', 2, assign_pointers=True)"
   ]
  },
  {
   "cell_type": "code",
   "execution_count": 158,
   "metadata": {},
   "outputs": [],
   "source": [
    "# now just need to append intermediate redshift pointers (to z = 1) to pointers at z = 2\n",
    "\n",
    "part_at_z2.Pointer.add_intermediate_pointers(part_at_z1.Pointer)"
   ]
  },
  {
   "cell_type": "code",
   "execution_count": 159,
   "metadata": {},
   "outputs": [
    {
     "name": "stdout",
     "output_type": "stream",
     "text": [
      "['star' 'gas' 'gas' 'gas']\n",
      "[ 107166 1169600 6377478  239484]\n",
      "[107166]\n",
      "[[43535.53900573 42053.83122207 46265.70989359]]\n"
     ]
    }
   ],
   "source": [
    "# now access pointers from z = 1 to z = 2, by setting intermediate_z=True\n",
    "\n",
    "pointers = part_at_z2.Pointer.get_pointers(\n",
    "    species_name_from='star', species_names_to=['star', 'gas'], intermediate_z=True)\n",
    "\n",
    "# get star indices at z = 0 and see what they were at z = 2\n",
    "star_indices_at_z1 = np.array([0, 5, 8, 13])\n",
    "print(pointers['species'][star_indices_at_z1])\n",
    "print(pointers['index'][star_indices_at_z1])\n",
    "\n",
    "# get those that are star particles at z = 2\n",
    "masks = np.where(pointers['species'][star_indices_at_z1] == 'star')[0]\n",
    "\n",
    "star_indices_at_z2 = pointers['index'][star_indices_at_z1[masks]]\n",
    "\n",
    "print(star_indices_at_z2)\n",
    "print(part_at_z2['star']['position'][star_indices_at_z2])"
   ]
  },
  {
   "cell_type": "code",
   "execution_count": 160,
   "metadata": {},
   "outputs": [
    {
     "name": "stdout",
     "output_type": "stream",
     "text": [
      "\n",
      "# in utilities.basic.io.file_hdf5():\n",
      "  read file: star_gas_pointers_277.hdf5\n",
      "    species | |S4, shape = (2,)\n",
      "    z.gas.index.limits | int64, shape = (2,)\n",
      "    z.gas.number | int64, shape = ()\n",
      "    z.particle.number | int64, shape = ()\n",
      "    z.snapshot.index | int64, shape = ()\n",
      "    z.star.index.limits | int64, shape = (2,)\n",
      "    z.star.number | int64, shape = ()\n",
      "    z0.gas.index.limits | int64, shape = (2,)\n",
      "    z0.gas.number | int64, shape = ()\n",
      "    z0.particle.number | int64, shape = ()\n",
      "    z0.snapshot.index | int64, shape = ()\n",
      "    z0.star.index.limits | int64, shape = (2,)\n",
      "    z0.star.number | int64, shape = ()\n",
      "    z0.to.z.index | int32, shape = (9029184,)\n",
      "\n",
      "# in utilities.basic.io.file_hdf5():\n",
      "  read file: star_gas_pointers_172.hdf5\n",
      "    species | |S4, shape = (2,)\n",
      "    z.gas.index.limits | int64, shape = (2,)\n",
      "    z.gas.number | int64, shape = ()\n",
      "    z.particle.number | int64, shape = ()\n",
      "    z.snapshot.index | int64, shape = ()\n",
      "    z.star.index.limits | int64, shape = (2,)\n",
      "    z.star.number | int64, shape = ()\n",
      "    z0.gas.index.limits | int64, shape = (2,)\n",
      "    z0.gas.number | int64, shape = ()\n",
      "    z0.particle.number | int64, shape = ()\n",
      "    z0.snapshot.index | int32, shape = ()\n",
      "    z0.star.index.limits | int64, shape = (2,)\n",
      "    z0.star.number | int64, shape = ()\n",
      "    z0.to.z.index | int32, shape = (9029184,)\n",
      "[[ 292.68991569 -383.58753865 -537.01238787]\n",
      " [ 340.40628092 -396.67310129 -443.35512543]\n",
      " [ 325.33277499 -341.7086024  -510.64487315]\n",
      " ...\n",
      " [ -99.12561147   30.8602316  -350.24431613]\n",
      " [ -99.82395539   11.77529703 -343.91413721]\n",
      " [ -94.33690426   50.91985599 -359.29941783]]\n",
      "\n",
      "# in utilities.basic.io.file_hdf5():\n",
      "  read file: star_gas_pointers_172.hdf5\n",
      "    species | |S4, shape = (2,)\n",
      "    z.gas.index.limits | int64, shape = (2,)\n",
      "    z.gas.number | int64, shape = ()\n",
      "    z.particle.number | int64, shape = ()\n",
      "    z.snapshot.index | int64, shape = ()\n",
      "    z.star.index.limits | int64, shape = (2,)\n",
      "    z.star.number | int64, shape = ()\n",
      "    z0.gas.index.limits | int64, shape = (2,)\n",
      "    z0.gas.number | int64, shape = ()\n",
      "    z0.particle.number | int64, shape = ()\n",
      "    z0.snapshot.index | int32, shape = ()\n",
      "    z0.star.index.limits | int64, shape = (2,)\n",
      "    z0.star.number | int64, shape = ()\n",
      "    z0.to.z.index | int32, shape = (9029184,)\n",
      "\n",
      "# in utilities.basic.io.file_hdf5():\n",
      "  read file: star_gas_pointers_277.hdf5\n",
      "    species | |S4, shape = (2,)\n",
      "    z.gas.index.limits | int64, shape = (2,)\n",
      "    z.gas.number | int64, shape = ()\n",
      "    z.particle.number | int64, shape = ()\n",
      "    z.snapshot.index | int64, shape = ()\n",
      "    z.star.index.limits | int64, shape = (2,)\n",
      "    z.star.number | int64, shape = ()\n",
      "    z0.gas.index.limits | int64, shape = (2,)\n",
      "    z0.gas.number | int64, shape = ()\n",
      "    z0.particle.number | int64, shape = ()\n",
      "    z0.snapshot.index | int64, shape = ()\n",
      "    z0.star.index.limits | int64, shape = (2,)\n",
      "    z0.star.number | int64, shape = ()\n",
      "    z0.to.z.index | int32, shape = (9029184,)\n",
      "[[ 1.76618861e+03 -1.34864646e+03  3.38039285e+03]\n",
      " [-3.19344155e-01  1.92092919e+01 -1.40406222e+01]\n",
      " [ 5.49481984e-01 -9.67723621e-01 -1.44379399e+00]\n",
      " ...\n",
      " [-1.47852245e+03  1.73040220e+03  3.40694911e+02]\n",
      " [-1.47797816e+03  1.72987523e+03  3.40425767e+02]\n",
      " [-1.47634593e+03  1.73094540e+03  3.39585600e+02]]\n"
     ]
    }
   ],
   "source": [
    "# if you just want to track single species of particles (star -> star or gas -> gas) between two snapshots,\n",
    "# read_pointers_between_snapshots() makes it easy to get the pointer indices between any two snapshots\n",
    "\n",
    "# tracking forwards in time\n",
    "pointers_z2_to_z1 = gizmo.track.ParticlePointerIO.read_pointers_between_snapshots(\n",
    "    snapshot_index_from=172, snapshot_index_to=277, species_name='star')\n",
    "\n",
    "# for example, see how far star particles have moved\n",
    "print(part_at_z2['star']['position'] - part_at_z1['star']['position'][pointers_z2_to_z1])\n",
    "\n",
    "\n",
    "# tracking backwards in time\n",
    "pointers_z1_to_z2 = gizmo.track.ParticlePointerIO.read_pointers_between_snapshots(\n",
    "    snapshot_index_from=277, snapshot_index_to=172, species_name='star')\n",
    "\n",
    "# in this case, need to select stars that existed as stars at z = 2\n",
    "masks = (pointers_z1_to_z2 >= 0)\n",
    "\n",
    "# see how far star particles have moved\n",
    "print(part_at_z1['star']['position'][masks] - part_at_z1['star']['position'][pointers_z1_to_z2[masks]])"
   ]
  },
  {
   "cell_type": "code",
   "execution_count": 161,
   "metadata": {},
   "outputs": [
    {
     "name": "stdout",
     "output_type": "stream",
     "text": [
      "\n",
      "# in utilities.basic.io.file_hdf5():\n",
      "  read file: star_gas_pointers_277.hdf5\n",
      "    species | |S4, shape = (2,)\n",
      "    z.gas.index.limits | int64, shape = (2,)\n",
      "    z.gas.number | int64, shape = ()\n",
      "    z.particle.number | int64, shape = ()\n",
      "    z.snapshot.index | int64, shape = ()\n",
      "    z.star.index.limits | int64, shape = (2,)\n",
      "    z.star.number | int64, shape = ()\n",
      "    z0.gas.index.limits | int64, shape = (2,)\n",
      "    z0.gas.number | int64, shape = ()\n",
      "    z0.particle.number | int64, shape = ()\n",
      "    z0.snapshot.index | int64, shape = ()\n",
      "    z0.star.index.limits | int64, shape = (2,)\n",
      "    z0.star.number | int64, shape = ()\n",
      "    z0.to.z.index | int32, shape = (9029184,)\n",
      "\n",
      "# in utilities.basic.io.file_hdf5():\n",
      "  read file: star_gas_pointers_172.hdf5\n",
      "    species | |S4, shape = (2,)\n",
      "    z.gas.index.limits | int64, shape = (2,)\n",
      "    z.gas.number | int64, shape = ()\n",
      "    z.particle.number | int64, shape = ()\n",
      "    z.snapshot.index | int64, shape = ()\n",
      "    z.star.index.limits | int64, shape = (2,)\n",
      "    z.star.number | int64, shape = ()\n",
      "    z0.gas.index.limits | int64, shape = (2,)\n",
      "    z0.gas.number | int64, shape = ()\n",
      "    z0.particle.number | int64, shape = ()\n",
      "    z0.snapshot.index | int32, shape = ()\n",
      "    z0.star.index.limits | int64, shape = (2,)\n",
      "    z0.star.number | int64, shape = ()\n",
      "    z0.to.z.index | int32, shape = (9029184,)\n",
      "[[ 224.35345256 -102.50255757 -208.25313603]\n",
      " [ 313.50763315 -345.17309798 -495.19974925]\n",
      " [ 114.49285425  233.74061457 -177.28187293]\n",
      " ...\n",
      " [  53.25622074 -595.53442327  -88.54922416]\n",
      " [  57.46695114 -592.76897158  -83.2795691 ]\n",
      " [  58.68275013 -596.29758723  -82.94903887]]\n",
      "\n",
      "# in utilities.basic.io.file_hdf5():\n",
      "  read file: star_gas_pointers_172.hdf5\n",
      "    species | |S4, shape = (2,)\n",
      "    z.gas.index.limits | int64, shape = (2,)\n",
      "    z.gas.number | int64, shape = ()\n",
      "    z.particle.number | int64, shape = ()\n",
      "    z.snapshot.index | int64, shape = ()\n",
      "    z.star.index.limits | int64, shape = (2,)\n",
      "    z.star.number | int64, shape = ()\n",
      "    z0.gas.index.limits | int64, shape = (2,)\n",
      "    z0.gas.number | int64, shape = ()\n",
      "    z0.particle.number | int64, shape = ()\n",
      "    z0.snapshot.index | int32, shape = ()\n",
      "    z0.star.index.limits | int64, shape = (2,)\n",
      "    z0.star.number | int64, shape = ()\n",
      "    z0.to.z.index | int32, shape = (9029184,)\n",
      "\n",
      "# in utilities.basic.io.file_hdf5():\n",
      "  read file: star_gas_pointers_277.hdf5\n",
      "    species | |S4, shape = (2,)\n",
      "    z.gas.index.limits | int64, shape = (2,)\n",
      "    z.gas.number | int64, shape = ()\n",
      "    z.particle.number | int64, shape = ()\n",
      "    z.snapshot.index | int64, shape = ()\n",
      "    z.star.index.limits | int64, shape = (2,)\n",
      "    z.star.number | int64, shape = ()\n",
      "    z0.gas.index.limits | int64, shape = (2,)\n",
      "    z0.gas.number | int64, shape = ()\n",
      "    z0.particle.number | int64, shape = ()\n",
      "    z0.snapshot.index | int64, shape = ()\n",
      "    z0.star.index.limits | int64, shape = (2,)\n",
      "    z0.star.number | int64, shape = ()\n",
      "    z0.to.z.index | int32, shape = (9029184,)\n",
      "[[-560.31238357 -135.1138063   780.92769312]\n",
      " [-683.88542357 -173.21415443  796.86951148]\n",
      " [-705.87410058 -145.10567908  770.32026879]\n",
      " ...\n",
      " [-258.38776428  710.77164984  377.14910812]\n",
      " [ -94.5892211   497.91426255  289.2440255 ]\n",
      " [-150.44327719  618.12171284  316.23342548]]\n"
     ]
    }
   ],
   "source": [
    "# do the same, but for gas\n",
    "\n",
    "# tracking forwards in time\n",
    "pointers_z2_to_z1 = gizmo.track.ParticlePointerIO.read_pointers_between_snapshots(\n",
    "    snapshot_index_from=172, snapshot_index_to=277, species_name='gas')\n",
    "\n",
    "# ensure still gas particle at z = 1\n",
    "masks = (pointers_z2_to_z1 >= 0)\n",
    "\n",
    "print(part_at_z2['gas']['position'][masks] - part_at_z1['gas']['position'][pointers_z2_to_z1[masks]])\n",
    "\n",
    "# tracking backwards in time\n",
    "pointers_z1_to_z2 = gizmo.track.ParticlePointerIO.read_pointers_between_snapshots(\n",
    "    snapshot_index_from=277, snapshot_index_to=172, species_name='gas')\n",
    "\n",
    "# for gas, still have to ensure positive pointers, even if tracking backwards in time,\n",
    "# because a few gas particles that leave the zoom-in region get culled (for numerical stability) by z = 0\n",
    "# (remember that the pointers always route through z = 0)\n",
    "masks = (pointers_z1_to_z2 >= 0)\n",
    "\n",
    "print(part_at_z1['gas']['position'][masks] - part_at_z2['gas']['position'][pointers_z1_to_z2[masks]])"
   ]
  },
  {
   "cell_type": "markdown",
   "metadata": {},
   "source": [
    "# star particle formation coordinates"
   ]
  },
  {
   "cell_type": "markdown",
   "metadata": {},
   "source": [
    "As part of star particle tracking, we store the position and velocity of each star particle immediately after it formed.\n",
    "\n",
    "Within track/, star\\_form\\_coordinates\\_600.hdf5 stores, for each star particle at z = 0, its 3-D distance and 3-D velocity wrt to the main host galaxy at the first snapshot after it formed. These coordinates are aligned with the principal (major, intermediate, minor) axes of the stellar disk (as defined via its moment of inertia tensor) at that snapshot."
   ]
  },
  {
   "cell_type": "code",
   "execution_count": 133,
   "metadata": {},
   "outputs": [
    {
     "name": "stdout",
     "output_type": "stream",
     "text": [
      "\n",
      "# in utilities.basic.io.file_hdf5():\n",
      "  read file: star_form_coordinates_600.hdf5\n",
      "    center.position | float32, shape = (601, 3)\n",
      "    center.velocity | float32, shape = (601, 3)\n",
      "    form.host.distance | float32, shape = (3059250, 3)\n",
      "    form.host.velocity | float32, shape = (3059250, 3)\n",
      "    id | uint32, shape = (3059250,)\n",
      "    principal.axes.vectors | float32, shape = (601, 3, 3)\n"
     ]
    }
   ],
   "source": [
    "# use the function within gizmo_track.py to read this file and assign values directly to the catalog at z = 0\n",
    "\n",
    "gizmo.track.ParticleCoordinate.io_formation_coordinates(part_at_z0)"
   ]
  },
  {
   "cell_type": "code",
   "execution_count": null,
   "metadata": {},
   "outputs": [],
   "source": [
    "# more conveniently, you can read the formation coordinates of star particles during snapshot read-in\n",
    "\n",
    "part_at_z0 = gizmo.io.Read.read_snapshots(\n",
    "    ['star'], 'redshift', 0, assign_host_principal_axes=True, assign_formation_coordinates=True)"
   ]
  },
  {
   "cell_type": "code",
   "execution_count": 134,
   "metadata": {},
   "outputs": [
    {
     "data": {
      "text/plain": [
       "array([[    3.8351834,     6.170289 ,    -1.4488623],\n",
       "       [  951.6061   , -1143.819    ,   541.5925   ],\n",
       "       [ 1258.5391   ,   183.60645  ,   -92.80096  ],\n",
       "       ...,\n",
       "       [  542.5843   ,  -580.9797   ,   927.32684  ],\n",
       "       [ -376.8372   ,   349.8039   ,  -245.89764  ],\n",
       "       [ -275.3792   ,   -35.97139  ,  -272.96063  ]], dtype=float32)"
      ]
     },
     "execution_count": 134,
     "metadata": {},
     "output_type": "execute_result"
    }
   ],
   "source": [
    "# 3-D distance at formation\n",
    "# this is aligned with the principal axes of the host galaxy at that time [kpc physical]\n",
    "# the principal axes are defined *independently* at each snapshot\n",
    "# distance along dimension 0 is aligned with the major axis\n",
    "# distance along dimension 1 is algined with the intermediate axis\n",
    "# distance along dimension 2 is aligned with the minor (Z) axis\n",
    "\n",
    "part_at_z0['star']['form.host.distance']"
   ]
  },
  {
   "cell_type": "code",
   "execution_count": 135,
   "metadata": {},
   "outputs": [
    {
     "data": {
      "text/plain": [
       "array([   7.408124, 1583.4136  , 1275.2427  , ..., 1221.4214  ,\n",
       "        569.9427  ,  389.4036  ], dtype=float32)"
      ]
     },
     "execution_count": 135,
     "metadata": {},
     "output_type": "execute_result"
    }
   ],
   "source": [
    "# as before, add 'total' to get the total scalar (absolute) distance wrt the host galaxy at formation [kpc physical]\n",
    "# this is a derived quantity, so need to call via .prop()\n",
    "\n",
    "part_at_z0['star'].prop('form.host.distance.total')"
   ]
  },
  {
   "cell_type": "code",
   "execution_count": 136,
   "metadata": {},
   "outputs": [
    {
     "data": {
      "text/plain": [
       "array([[ 7.2650599e+00, -1.4488623e+00,  1.0146770e+00],\n",
       "       [ 1.4879099e+03,  5.4159253e+02,  5.4063134e+00],\n",
       "       [ 1.2718616e+03, -9.2800957e+01,  1.4486657e-01],\n",
       "       ...,\n",
       "       [ 7.9494348e+02,  9.2732684e+02,  5.4636278e+00],\n",
       "       [ 5.1416827e+02, -2.4589764e+02,  2.3933804e+00],\n",
       "       [ 2.7771866e+02, -2.7296063e+02,  3.2714822e+00]], dtype=float32)"
      ]
     },
     "execution_count": 136,
     "metadata": {},
     "output_type": "execute_result"
    }
   ],
   "source": [
    "# add 'cylindrical' to get 3-D distance at formation wrt the host galaxy in cylindrical coordinates [kpc physical]\n",
    "\n",
    "part_at_z0['star'].prop('form.host.distance.cylindrical')"
   ]
  },
  {
   "cell_type": "code",
   "execution_count": 137,
   "metadata": {},
   "outputs": [
    {
     "data": {
      "text/plain": [
       "array([[ 7.26506   , -1.4488623 ,  1.014677  ],\n",
       "       [ 2.819624  , -0.01174179,  4.65897   ],\n",
       "       [ 2.4207215 , -0.02199288,  3.6387615 ],\n",
       "       ...,\n",
       "       [ 2.7438505 , -1.4894025 ,  5.987568  ],\n",
       "       [ 3.6302092 , -0.01234316,  3.3655412 ],\n",
       "       [ 1.5276729 , -0.12618025,  1.8085258 ]], dtype=float32)"
      ]
     },
     "execution_count": 137,
     "metadata": {},
     "output_type": "execute_result"
    }
   ],
   "source": [
    "# these values look more reasonable if you restrict to star particles that formed within the host galaxy\n",
    "\n",
    "# select particles formed at d = 0 - 8 kpc physical\n",
    "part_indices = ut.array.get_indices(part_at_z0['star'].prop('form.host.distance.total'), [0, 8])\n",
    "\n",
    "part_at_z0['star'].prop('form.host.distance.cylindrical', part_indices)"
   ]
  },
  {
   "cell_type": "code",
   "execution_count": 138,
   "metadata": {},
   "outputs": [
    {
     "name": "stdout",
     "output_type": "stream",
     "text": [
      "[[ 5.10321930e+02  8.53348755e+02  2.34322433e+02]\n",
      " [ 4.29511480e-02 -1.29415512e+02  3.22944736e+00]\n",
      " [ 1.82360718e+02 -1.09645996e+02  3.08418255e+01]\n",
      " ...\n",
      " [ 3.11529217e+01 -1.06510910e+02 -1.64038372e+00]\n",
      " [-9.91549301e+01 -8.34163761e+00  2.34269543e+01]\n",
      " [-1.11417809e+02  4.18189201e+01 -2.22872696e+01]]\n",
      "[1021.5379   129.45581  215.00905 ...  110.98545  102.22575  121.07631]\n",
      "[[ 994.1538     234.32243     17.056305 ]\n",
      " [  99.514626     3.2294474  -82.735825 ]\n",
      " [ 164.622       30.841825  -134.82314  ]\n",
      " ...\n",
      " [  99.10612     -1.6403837  -49.930504 ]\n",
      " [  66.996216    23.426954    73.57168  ]\n",
      " [ 105.06267    -22.28727    -55.897987 ]]\n"
     ]
    }
   ],
   "source": [
    "# same thing for velocity at formation\n",
    "\n",
    "print(part_at_z0['star']['form.host.velocity'])\n",
    "print(part_at_z0['star'].prop('form.host.velocity.total'))\n",
    "print(part_at_z0['star'].prop('form.host.velocity.cylindrical'))"
   ]
  },
  {
   "cell_type": "code",
   "execution_count": 139,
   "metadata": {},
   "outputs": [
    {
     "data": {
      "text/plain": [
       "array([[[[        nan,         nan,         nan],\n",
       "         [        nan,         nan,         nan],\n",
       "         [        nan,         nan,         nan]],\n",
       "\n",
       "        [[        nan,         nan,         nan],\n",
       "         [        nan,         nan,         nan],\n",
       "         [        nan,         nan,         nan]],\n",
       "\n",
       "        [[        nan,         nan,         nan],\n",
       "         [        nan,         nan,         nan],\n",
       "         [        nan,         nan,         nan]],\n",
       "\n",
       "        ...,\n",
       "\n",
       "        [[-0.23860915,  0.24924965,  0.9385842 ],\n",
       "         [ 0.8640545 ,  0.49563974,  0.08804033],\n",
       "         [-0.4432556 ,  0.83199507, -0.33362946]],\n",
       "\n",
       "        [[-0.01853178,  0.36362258,  0.93136203],\n",
       "         [ 0.8962332 ,  0.418959  , -0.14573726],\n",
       "         [-0.44319585,  0.8320168 , -0.3336547 ]],\n",
       "\n",
       "        [[ 0.20290324,  0.4557217 ,  0.86668795],\n",
       "         [ 0.8732139 ,  0.31629786, -0.37074673],\n",
       "         [-0.4430889 ,  0.8320297 , -0.33376467]]]], dtype=float32)"
      ]
     },
     "execution_count": 139,
     "metadata": {},
     "output_type": "execute_result"
    }
   ],
   "source": [
    "# recall that formation postion + velocity as stored relative to each host's principal axes\n",
    "# and that principal axes are computed independently at each snapshot\n",
    "# the tracking code also stores each host's rotation tensor (for its principal axes) at each snapshot\n",
    "# so you can use this to compute formation coordinates in the box's x,y,z coordinates if you want\n",
    "\n",
    "part_at_z0['star'].host_rotation_tensors_at_snapshots"
   ]
  },
  {
   "cell_type": "markdown",
   "metadata": {
    "collapsed": true
   },
   "source": [
    "# profile of properties"
   ]
  },
  {
   "cell_type": "markdown",
   "metadata": {},
   "source": [
    "A common task that you might have is to compute a radial profile of a given quantity, such as mass density, average age, median metallicity, etc.\n",
    "\n",
    "The high-level functions below make this easier to do."
   ]
  },
  {
   "cell_type": "code",
   "execution_count": null,
   "metadata": {},
   "outputs": [],
   "source": [
    "# first, initiate an instance of SpeciesProfileClass\n",
    "# as you initialize,choose your distance/radius binning scheme: \n",
    "#   'log' v 'linear', distance limits, bin width, number of spatial dimensions of profile\n",
    "# refer to ut.binning.DistanceBinClass() for more\n",
    "\n",
    "# linear binning from 0 to 20 kpc with 1 kpc bin width, assuming a 3-D profile\n",
    "SpeciesProfile = ut.particle.SpeciesProfileClass(scaling='linear', limits=[0, 20], width=1, dimension_number=3)"
   ]
  },
  {
   "cell_type": "code",
   "execution_count": null,
   "metadata": {},
   "outputs": [],
   "source": [
    "# using this binning scheme,\n",
    "# compute sum/histogram/density of mass of star particles in each bin\n",
    "# this returns a bunch of summed properties via a dictionary\n",
    "\n",
    "pro = SpeciesProfile.get_sum_profiles(part, 'star', 'mass')"
   ]
  },
  {
   "cell_type": "code",
   "execution_count": null,
   "metadata": {},
   "outputs": [],
   "source": [
    "# in principle, you can supply a list of multiple species, and it will compute profiles for each\n",
    "# thus, it returns a dictionary for each species\n",
    "\n",
    "pro.keys()"
   ]
  },
  {
   "cell_type": "code",
   "execution_count": null,
   "metadata": {},
   "outputs": [],
   "source": [
    "# the quantities that it stores in each bin\n",
    "\n",
    "pro['star'].keys()"
   ]
  },
  {
   "cell_type": "code",
   "execution_count": null,
   "metadata": {},
   "outputs": [],
   "source": [
    "# alternately, you may want to compute profiles along a disks R or Z axes\n",
    "# if so, first define the dimensionality of the profile when you initiate the class\n",
    "\n",
    "# log binning from 0.1 to 10 kpc with 0.1 dex bin width, assuming a 2-D profile (along R)\n",
    "SpeciesProfile = ut.particle.SpeciesProfileClass(scaling='log', limits=[0.1, 10], width=0.1, dimension_number=2)"
   ]
  },
  {
   "cell_type": "code",
   "execution_count": null,
   "metadata": {},
   "outputs": [],
   "source": [
    "# set rotation = True to force it to compute profiles along the principal axes (assuming that you read them in)\n",
    "# use other_axis_distance_limits to limit the extent along the other axis, \n",
    "#   in this case, limit the Z axis to within +/- 1 kpc (in the profile, all distances are absolute)\n",
    "\n",
    "pro = SpeciesProfile.get_sum_profiles(part, 'star', 'mass', rotation=True, other_axis_distance_limits=[0, 1])"
   ]
  },
  {
   "cell_type": "code",
   "execution_count": null,
   "metadata": {},
   "outputs": [],
   "source": [
    "# similarly, do this to compute profiles along Z\n",
    "\n",
    "# log binning from 0.1 to 10 kpc with 0.1 dex bin width, assuming a 1-D profile (along Z)\n",
    "SpeciesProfile = ut.particle.SpeciesProfileClass(scaling='log', limits=[0.1, 10], width=0.1, dimension_number=1)\n",
    "\n",
    "# limit the R axex to [5, 8] kpc \n",
    "pro = SpeciesProfile.get_sum_profiles(part, 'star', 'mass', rotation=True, other_axis_distance_limits=[5, 8])"
   ]
  },
  {
   "cell_type": "code",
   "execution_count": null,
   "metadata": {},
   "outputs": [],
   "source": [
    "# using the same binning scheme\n",
    "# this function computes various statistics of a property of star particles in each bin\n",
    "# by default, it weights the property by the mass of each particle\n",
    "# this returns a bunch of statistics via a dictionary\n",
    "\n",
    "pro = SpeciesProfile.get_statistics_profiles(\n",
    "    part, 'star', 'age', weight_by_mass=True, rotation=True, other_axis_distance_limits=[5, 8])"
   ]
  },
  {
   "cell_type": "code",
   "execution_count": null,
   "metadata": {},
   "outputs": [],
   "source": [
    "# the quantities that it stores in each bin\n",
    "\n",
    "pro['star'].keys()"
   ]
  },
  {
   "cell_type": "code",
   "execution_count": null,
   "metadata": {},
   "outputs": [],
   "source": []
  }
 ],
 "metadata": {
  "anaconda-cloud": {},
  "kernelspec": {
   "display_name": "Python 3",
   "language": "python",
   "name": "python3"
  },
  "language_info": {
   "codemirror_mode": {
    "name": "ipython",
    "version": 3
   },
   "file_extension": ".py",
   "mimetype": "text/x-python",
   "name": "python",
   "nbconvert_exporter": "python",
   "pygments_lexer": "ipython3",
   "version": "3.7.3"
  }
 },
 "nbformat": 4,
 "nbformat_minor": 1
}
