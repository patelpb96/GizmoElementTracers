{
 "cells": [
  {
   "cell_type": "markdown",
   "source": [
    "This tutorial walks you through using the GizmoAnalysis package to read Gizmo simulation snapshots and analyzing them.\n",
    "\n",
    "@author:\n",
    "    Andrew Wetzel <arwetzel@gmail.com>\n",
    "    Andrew Emerick <aemerick11@gmail.com>\n",
    "\n",
    "First, move within a simulation directory, or set simulation_directory below to point to one. This directory should contain:\n",
    "(1) a sub-directory 'output/' that contains Gizmo snapshot files: snapshot_*.hdf5 or snapdir_*/snapshot_*.*.hdf5\n",
    "(2) a text file 'snapshot_times.txt' that lists the scale-factors, redshifts, times, and indices of all snapshots stored from the simulation\n",
    "(3) optionally (but ideally) an 'initial_condition/' directory that contains a MUSIC configuration file named '*.conf' that stores all 6 cosmological parameters. if the simulation directory does not contain, this, GizmoAnalysis will assume the same cosmological parameters as in the AGORA simulation.\n",
    "\n",
    "First, set up an empty directory to hold all of the simulation files. This directory should contain:\n",
    "-  A sub-directory named \"__output/__\" that contains the simulation snapshot files. These files are named \"__snapshot_X.hdf5__\", where X will be a number.\n",
    "-  A text file named \"__snapshot_times.txt__\" which lists the scale-factors, redshifts, times, and indices (snapshot numbers) of all snapshots stored from the simulation.\n",
    "-  A sub-directory named \"__initial_condition/__\" that contains a \"__.conf__\" configuration file which stores all 6 cosmological parameters. This file is not entirely necessary, but if you do not have it, _GizmoAnalysis_ will assume different cosmological parameters.\n",
    "\n",
    "### Downloading the _GizmoAnalysis_ and _Utilities_ python packages\n",
    "You need to download the _GizmoAnalysis_ and _Utilities_ python packages to be able to do your own analysis on the simulations. Here are the links to the repositories:\n",
    "-  _GizmoAnalysis_ : https://bitbucket.org/awetzel/gizmo_analysis\n",
    "-  _Utilities_ : https://bitbucket.org/awetzel/utilities\n",
    "\n",
    "You can either clone them via Git typing the command \"git clone __[repository link above]__\" in your command terminal, or, you can download the repository by clicking on the ellipsis (the \"...\" button) and clicking \"Download repository\".\n",
    "\n",
    "### Paths\n",
    "\n",
    "Make sure that the \"*gizmo_analysis*\" and \"*utilities*\" package directories are in your Python path. This will make sure that python knows where these packages are to be able to use them. You may need to look up which file you need to define the paths in. One common place is in a file called the \"**.bashrc**\" file, which is typically stored in your home directory, but may not be visible with a simple \"ls\" command; try using \"ls -a\" instead.\n",
    "\n",
    "An example of what is in my \"**.bashrc**\" file is:\n",
    "\n",
    "export HOME=\"/Users/isaiahsantistevan\"\n",
    "\n",
    "export PYTHONPATH=\\\\$HOME/anaconda3/bin:\\$HOME/simulation\n",
    "\n",
    "The first line points my home directory, and the second line points to the directory where I have python installed, as well as the directory where I have the simulation data, \"*gizmo_analysis*\", and \"*utilities*\" package directories saved. *__You will need to make sure that your paths point to your own home directory and the directory where you save the data and analysis packages.__*"
   ],
   "metadata": {}
  },
  {
   "cell_type": "code",
   "execution_count": 2,
   "source": [
    "import gizmo_analysis as gizmo\n",
    "import utilities as ut\n",
    "\n",
    "import numpy as np\n",
    "\n",
    "%matplotlib inline\n",
    "import matplotlib.pyplot as plt"
   ],
   "outputs": [],
   "metadata": {}
  },
  {
   "cell_type": "code",
   "execution_count": 3,
   "source": [
    "# you can access the files as named or use the aliases in __init__.py to keep it shorter \n",
    "# for example, these are the same:\n",
    "\n",
    "gizmo.gizmo_io\n",
    "gizmo.io"
   ],
   "outputs": [
    {
     "output_type": "execute_result",
     "data": {
      "text/plain": [
       "<module 'gizmo_analysis.gizmo_io' from '/Users/awetzel/work/research/analysis/gizmo_analysis/gizmo_io.py'>"
      ]
     },
     "metadata": {},
     "execution_count": 3
    }
   ],
   "metadata": {}
  },
  {
   "cell_type": "markdown",
   "source": [
    "# read particle data"
   ],
   "metadata": {}
  },
  {
   "cell_type": "code",
   "execution_count": 4,
   "source": [
    "# we recommend that you copy this jupyter notebook tutorial into a simulation directory \n",
    "# (for example, m12i_res7100/) and run from there.\n",
    "# however, you can set simulation_directory below to point to any simulation directory and then run this notebook from anywhere\n",
    "\n",
    "# use this is you are running from within a simulation directory\n",
    "#simulation_directory = '.'\n",
    "\n",
    "# use this to point to a specific simulation directory, if you run this notebook from somwhere else\n",
    "simulation_directory = '/Users/awetzel/work/research/simulation/gizmo/simulations/m12/m12i/m12i_res7100'"
   ],
   "outputs": [],
   "metadata": {}
  },
  {
   "cell_type": "code",
   "execution_count": 5,
   "source": [
    "# read star and dark-matter particles at z = 0\n",
    "\n",
    "part = gizmo.io.Read.read_snapshots(['star', 'dark'], 'redshift', 0, simulation_directory)"
   ],
   "outputs": [
    {
     "output_type": "stream",
     "name": "stdout",
     "text": [
      "\n",
      "# in utilities.simulation.Snapshot():\n",
      "* reading:  Users/awetzel/work/research/simulation/gizmo/simulations/m12/m12i/m12i_res7100/snapshot_times.txt\n",
      "\n",
      "* input redshift = 0:  using snapshot index = 600, redshift = 0.000\n",
      "\n",
      "\n",
      "# in gizmo_analysis.gizmo_io.Read():\n",
      "* reading header from:  Users/awetzel/work/research/simulation/gizmo/simulations/m12/m12i/m12i_res7100/output/snapdir_600/snapshot_600.0.hdf5\n",
      "  snapshot contains the following number of particles:\n",
      "    dark      (id = 1): 70514272 particles\n",
      "    dark2     (id = 2): 5513331 particles\n",
      "    gas       (id = 0): 57060074 particles\n",
      "    star      (id = 4): 13976485 particles\n",
      "    blackhole (id = 5): 0 particles\n",
      "\n",
      "* reading species: ['star', 'dark']\n",
      "* reading particles from:\n",
      "    snapshot_600.0.hdf5\n",
      "    snapshot_600.1.hdf5\n",
      "    snapshot_600.2.hdf5\n",
      "    snapshot_600.3.hdf5\n",
      "\n",
      "* reading cosmological parameters from:  Users/awetzel/work/research/simulation/gizmo/simulations/m12/m12i/m12i_res7100/initial_condition/ic_agora_m12i.conf\n",
      "\n",
      "* checking sanity of particle properties\n",
      "\n",
      "\n",
      "# in gizmo_analysis.gizmo_track.ParticleCoordinate():\n",
      "  read 1 host (position, velocity, principal axes) from:  Users/awetzel/work/research/simulation/gizmo/simulations/m12/m12i/m12i_res7100/track/host_coordinates.hdf5\n",
      "  host1 position = (41792.15, 44131.23, 46267.68) [kpc comoving]\n",
      "  host1 velocity = (-52.2, 73.6, 94.7) [km / s]\n",
      "  host1 axis ratios = (0.16, 0.16, 0.99)\n",
      "\n"
     ]
    }
   ],
   "metadata": {}
  },
  {
   "cell_type": "code",
   "execution_count": 5,
   "source": [
    "# alternately, read all particle species at z = 0\n",
    "\n",
    "part = gizmo.io.Read.read_snapshots('all', 'redshift', 0, simulation_directory)"
   ],
   "outputs": [
    {
     "output_type": "stream",
     "name": "stdout",
     "text": [
      "\n",
      "# in utilities.simulation.Snapshot():\n",
      "* reading:  Users/awetzel/work/research/simulation/gizmo/simulations/m12/m12i/m12i_res57000/snapshot_times.txt\n",
      "\n",
      "* input redshift = 0:  using snapshot index = 600, redshift = 0.000\n",
      "\n",
      "\n",
      "# in gizmo_analysis.gizmo_io.Read():\n",
      "* reading header from:  Users/awetzel/work/research/simulation/gizmo/simulations/m12/m12i/m12i_res57000/output/snapshot_600.hdf5\n",
      "  snapshot contains the following number of particles:\n",
      "    dark      (id = 1): 8820344 particles\n",
      "    dark2     (id = 2): 3081337 particles\n",
      "    gas       (id = 0): 5969934 particles\n",
      "    star      (id = 4): 3059250 particles\n",
      "    blackhole (id = 5): 0 particles\n",
      "\n",
      "* reading species: ['dark', 'dark2', 'gas', 'star']\n",
      "* reading particles from:\n",
      "    Users/awetzel/work/research/simulation/gizmo/simulations/m12/m12i/m12i_res57000/output/snapshot_600.hdf5\n",
      "\n",
      "* reading cosmological parameters from:  Users/awetzel/work/research/simulation/gizmo/simulations/m12/m12i/m12i_res57000/initial_condition/ic_agora_m12i.conf\n",
      "\n",
      "* checking sanity of particle properties\n",
      "\n",
      "  read 1 host (position, velocity, principal axes) from:  Users/awetzel/work/research/simulation/gizmo/simulations/m12/m12i/m12i_res57000/track/host_coordinates.hdf5\n",
      "  host1 position = (41821.97, 44122.00, 46288.45) [kpc comoving]\n",
      "  host1 velocity = (-48.7, 73.1, 96.7) [km / s]\n",
      "  host1 axis ratios = (0.15, 0.15, 0.97)\n",
      "\n"
     ]
    }
   ],
   "metadata": {}
  },
  {
   "cell_type": "code",
   "execution_count": 6,
   "source": [
    "# part is a dictionary with each particle species name as key\n",
    "# 'star' = stars, 'gas' = gas, 'dark' = dark matter,\n",
    "# 'dark2', 'dark3', 'dark4', etc = low-resolution dark matter (you rarely will be interested in it)\n",
    "\n",
    "part.keys()"
   ],
   "outputs": [
    {
     "output_type": "execute_result",
     "data": {
      "text/plain": [
       "dict_keys(['dark', 'dark2', 'gas', 'star'])"
      ]
     },
     "metadata": {},
     "execution_count": 6
    }
   ],
   "metadata": {}
  },
  {
   "cell_type": "code",
   "execution_count": 7,
   "source": [
    "# each species is its own dictionary that contains arrays of properties\n",
    "\n",
    "part['star'].keys()"
   ],
   "outputs": [
    {
     "output_type": "execute_result",
     "data": {
      "text/plain": [
       "dict_keys(['position', 'mass', 'massfraction', 'id.child', 'id.generation', 'id', 'potential', 'form.scalefactor', 'velocity'])"
      ]
     },
     "metadata": {},
     "execution_count": 7
    }
   ],
   "metadata": {}
  },
  {
   "cell_type": "code",
   "execution_count": 8,
   "source": [
    "# list the properties of dark-matter particles\n",
    "\n",
    "part['dark'].keys()"
   ],
   "outputs": [
    {
     "output_type": "execute_result",
     "data": {
      "text/plain": [
       "dict_keys(['position', 'mass', 'id.child', 'id.generation', 'id', 'potential', 'velocity'])"
      ]
     },
     "metadata": {},
     "execution_count": 8
    }
   ],
   "metadata": {}
  },
  {
   "cell_type": "code",
   "execution_count": 9,
   "source": [
    "# list the properties of gas particles\n",
    "\n",
    "part['gas'].keys()"
   ],
   "outputs": [
    {
     "output_type": "execute_result",
     "data": {
      "text/plain": [
       "dict_keys(['position', 'density', 'electron.fraction', 'temperature', 'mass', 'massfraction', 'hydrogen.neutral.fraction', 'id.child', 'id.generation', 'id', 'potential', 'size', 'sfr', 'velocity'])"
      ]
     },
     "metadata": {},
     "execution_count": 9
    }
   ],
   "metadata": {}
  },
  {
   "cell_type": "markdown",
   "source": [
    "# particle properties"
   ],
   "metadata": {}
  },
  {
   "cell_type": "code",
   "execution_count": 10,
   "source": [
    "# 3-D position of each star particle, stored in a particle_number x dimension_number array [kpc comoving]\n",
    "\n",
    "part['star']['position']"
   ],
   "outputs": [
    {
     "output_type": "execute_result",
     "data": {
      "text/plain": [
       "array([[43090.80575884, 49686.35374503, 41360.34283508],\n",
       "       [44928.29340924, 46498.85693528, 41973.80607722],\n",
       "       [44165.06982706, 45905.57328081, 47149.21746307],\n",
       "       ...,\n",
       "       [41959.19387506, 42547.66435227, 46108.83355536],\n",
       "       [41959.30623868, 42547.42814527, 46108.97969497],\n",
       "       [41959.30737559, 42547.08535602, 46108.55536859]])"
      ]
     },
     "metadata": {},
     "execution_count": 10
    }
   ],
   "metadata": {}
  },
  {
   "cell_type": "code",
   "execution_count": 11,
   "source": [
    "# 3-D velocity of each star particle (particle_number x dimension_number array) [km / s]\n",
    "\n",
    "part['star']['velocity']"
   ],
   "outputs": [
    {
     "output_type": "execute_result",
     "data": {
      "text/plain": [
       "array([[  15.888516,  364.97275 , -154.04498 ],\n",
       "       [ 172.60747 ,   55.058994, -366.62854 ],\n",
       "       [ 126.053955,   -8.004937,  121.11193 ],\n",
       "       ...,\n",
       "       [ -54.528496,   93.02893 ,  -25.309298],\n",
       "       [ -51.983   ,   31.671635,  -23.940857],\n",
       "       [ -80.71081 ,   96.28201 ,   -8.430067]], dtype=float32)"
      ]
     },
     "metadata": {},
     "execution_count": 11
    }
   ],
   "metadata": {}
  },
  {
   "cell_type": "code",
   "execution_count": 12,
   "source": [
    "# mass of each star particle [M_sun]\n",
    "\n",
    "part['star']['mass']"
   ],
   "outputs": [
    {
     "output_type": "execute_result",
     "data": {
      "text/plain": [
       "array([62936.75 , 48761.668, 39828.047, ..., 41346.055, 38390.59 ,\n",
       "       37466.387], dtype=float32)"
      ]
     },
     "metadata": {},
     "execution_count": 12
    }
   ],
   "metadata": {}
  },
  {
   "cell_type": "code",
   "execution_count": 10,
   "source": [
    "# formation scale-factor of each star particle\n",
    "\n",
    "part['star']['form.scalefactor']"
   ],
   "outputs": [
    {
     "output_type": "execute_result",
     "data": {
      "text/plain": [
       "array([0.46287337, 0.5831701 , 0.46225446, ..., 0.77500224, 0.4109269 ,\n",
       "       0.321905  ], dtype=float32)"
      ]
     },
     "metadata": {},
     "execution_count": 10
    }
   ],
   "metadata": {}
  },
  {
   "cell_type": "code",
   "execution_count": 13,
   "source": [
    "# IMPORTANT FEATURE\n",
    "# use .prop() to compute derived quantities, such as the time [in Gyr] when each star particle formed\n",
    "# see gizmo.io.ParticleDictionaryClass for all options for derived quantities\n",
    "\n",
    "part['star'].prop('form.time')"
   ],
   "outputs": [
    {
     "output_type": "execute_result",
     "data": {
      "text/plain": [
       "array([ 5.38456731,  7.35609019,  5.37457175, ..., 10.46071958,\n",
       "        4.55585177,  3.20527164])"
      ]
     },
     "metadata": {},
     "execution_count": 13
    }
   ],
   "metadata": {}
  },
  {
   "cell_type": "code",
   "execution_count": 14,
   "source": [
    "# similarly, get the age of each star particle (the lookback time to when it formed) [Gyr]\n",
    "\n",
    "part['star'].prop('age')"
   ],
   "outputs": [
    {
     "output_type": "execute_result",
     "data": {
      "text/plain": [
       "array([ 8.41417958,  6.44265669,  8.42417513, ...,  3.3380273 ,\n",
       "        9.24289511, 10.59347525])"
      ]
     },
     "metadata": {},
     "execution_count": 14
    }
   ],
   "metadata": {}
  },
  {
   "cell_type": "code",
   "execution_count": 13,
   "source": [
    "# get the mass of each star particle when it formed [Msun], using the stellar evolution tracks in Gizmo\n",
    "# this initially sets up an internally stored spline to compute this\n",
    "\n",
    "part['star'].prop('form.mass')"
   ],
   "outputs": [
    {
     "output_type": "stream",
     "name": "stdout",
     "text": [
      "\n",
      "# in gizmo_analysis.gizmo_star.MassLoss():\n",
      "* generating 2-D spline to compute stellar mass loss from age + metallicity\n",
      "  number of age bins = 20\n",
      "  number of metallicity bins = 25\n"
     ]
    },
    {
     "output_type": "execute_result",
     "data": {
      "text/plain": [
       "array([98288.21671263, 70417.84946605, 57525.85726151, ...,\n",
       "       57547.26601299, 55330.16138548, 53974.03586553])"
      ]
     },
     "metadata": {},
     "execution_count": 13
    }
   ],
   "metadata": {}
  },
  {
   "cell_type": "markdown",
   "source": [
    "# elemental abundances (metallicities)"
   ],
   "metadata": {}
  },
  {
   "cell_type": "code",
   "execution_count": null,
   "source": [
    "# elemental abundances are stored in the particle catalog as linear mass fractions\n",
    "# one value for each element, in a particle_number x element_number array\n",
    "# the first value is the mass fraction of all metals (everything not H, He)\n",
    "# then He, C, N, O, etc\n",
    "\n",
    "part['star']['massfraction']"
   ],
   "outputs": [],
   "metadata": {}
  },
  {
   "cell_type": "code",
   "execution_count": null,
   "source": [
    "# get individual elements by their array index\n",
    "\n",
    "# total metal mass fraction (everything not H, He) is index 0\n",
    "print(part['star']['massfraction'][:, 0])\n",
    "\n",
    "# iron is index 10\n",
    "print(part['star']['massfraction'][:, 10])"
   ],
   "outputs": [],
   "metadata": {}
  },
  {
   "cell_type": "code",
   "execution_count": null,
   "source": [
    "# more conveniently, use .prop() to compute derived quantities, including calling element by its name or symbol\n",
    "# see gizmo.io.ParticleDictionaryClass for all options for derived quantities\n",
    "\n",
    "print(part['star'].prop('massfraction.metals'))\n",
    "print(part['star'].prop('massfraction.carbon'))\n",
    "print(part['star'].prop('massfraction.iron'))\n",
    "print(part['star'].prop('massfraction.fe'))  # you can use name or symbol"
   ],
   "outputs": [],
   "metadata": {}
  },
  {
   "cell_type": "code",
   "execution_count": null,
   "source": [
    "# also use .prop() to compute 'metallicity' [Z / H]\n",
    "# for example, iron abundance [Fe / H] :=\n",
    "#   log10((mass_iron / mass_hydrogen)_particle / (mass_iron / mass_hydrogen)_sun)\n",
    "# GizmoAnalysis assumes solar abundances from Asplund et al 2009\n",
    "\n",
    "print(part['star'].prop('metallicity.metals'))\n",
    "print(part['star'].prop('metallicity.fe'))"
   ],
   "outputs": [],
   "metadata": {}
  },
  {
   "cell_type": "code",
   "execution_count": null,
   "source": [
    "# you also can use .prop() to compute simple arithmetic combinations, such as [Mg / Fe]\n",
    "\n",
    "part['star'].prop('metallicity.mg - metallicity.fe')"
   ],
   "outputs": [],
   "metadata": {}
  },
  {
   "cell_type": "code",
   "execution_count": null,
   "source": [
    "# refer to utilities.basic.constant for assumed solar values (Asplund et al 2009) and other constants\n",
    "\n",
    "ut.constant.sun_abundance\n",
    "ut.constant.sun_massfraction"
   ],
   "outputs": [],
   "metadata": {}
  },
  {
   "cell_type": "markdown",
   "source": [
    "# meta-data about simulation"
   ],
   "metadata": {}
  },
  {
   "cell_type": "markdown",
   "source": [
    "The dictionary that stores the particle catalog is actually a dictionary class. It also stores meta-data about the simulation and ancillary data/functions via appended dictionaries, classes, and arrays."
   ],
   "metadata": {}
  },
  {
   "cell_type": "code",
   "execution_count": null,
   "source": [
    "# dictionary of useful information about the simulation\n",
    "\n",
    "part.info"
   ],
   "outputs": [],
   "metadata": {}
  },
  {
   "cell_type": "code",
   "execution_count": 14,
   "source": [
    "# dictionary of information about the snapshot that you read\n",
    "# its index (number), scale-factor, redshift, time, lookback-time\n",
    "\n",
    "part.snapshot"
   ],
   "outputs": [
    {
     "output_type": "execute_result",
     "data": {
      "text/plain": [
       "{'index': 600,\n",
       " 'redshift': 0.0,\n",
       " 'scalefactor': 1.0,\n",
       " 'time': 13.798746883488086,\n",
       " 'time.lookback': 0.0,\n",
       " 'time.hubble': 13.92866412650697}"
      ]
     },
     "metadata": {},
     "execution_count": 14
    }
   ],
   "metadata": {}
  },
  {
   "cell_type": "code",
   "execution_count": 15,
   "source": [
    "# dictionary class with information about *all* snapshots (typically ~600) saved for this simulation\n",
    "\n",
    "print(part.Snapshot.keys())\n",
    "print(part.Snapshot['redshift'][:10])"
   ],
   "outputs": [
    {
     "output_type": "stream",
     "name": "stdout",
     "text": [
      "dict_keys(['spacing', 'cosmology', 'verbose', 'index', 'scalefactor', 'redshift', 'time', 'time.width'])\n",
      "[99.         19.         15.         14.60591125 14.23076916 13.87323952\n",
      " 13.53211021 13.20627785 12.89473724 12.5965662 ]\n"
     ]
    }
   ],
   "metadata": {}
  },
  {
   "cell_type": "code",
   "execution_count": null,
   "source": [
    "# dictionary class of cosmological parameters, with internal functions for cosmological conversions\n",
    "# see utilities.cosmology for more\n",
    "\n",
    "part.Cosmology"
   ],
   "outputs": [],
   "metadata": {}
  },
  {
   "cell_type": "markdown",
   "source": [
    "See gizmo_plot.py (which you can access here via gizmo.plot) for examples of analyzing and plotting particle data.\n",
    "\n",
    "See utilities/particle.py (which you can acces here via ut.particle) for mid-level analysis functions that may be useful.\n",
    "\n",
    "See other modules within utilities for low-level functions that may be useful."
   ],
   "metadata": {}
  },
  {
   "cell_type": "markdown",
   "source": [
    "# coordinates of host galaxy/halo and principal axes of stellar disk"
   ],
   "metadata": {}
  },
  {
   "cell_type": "markdown",
   "source": [
    "If you enable gizmo.io.Read.read_snapshots(assign_hosts=True) (which is True by default), then during read-in, GizmoAnalysis assigns the position and velocity of the host galaxy/halo (using stars for a baryonic simulations and dark matter for a dark-matter-only simulation). GizmoAnalysis stores these coordinates in arrays appended to the particle dictionary.\n",
    "\n",
    "Most simulations have a single host galaxy/halo, but some (like ELVIS) contain 2 (or more). You can control the number of hosts via: read_snapshots(host_number=2) (by deafult, host_number=1).\n",
    "\n",
    "Once the code assigns the coordinates of each host, it also can compute the 'orientation' of the disk, by computing the rotation tensor and axis ratios of the principal axes of each host's stellar disk, defined via the moment of inertia tensor of young star particles. Enable this via: read_snapshots(assign_hosts_rotation=True) (by default, assign_hosts_rotation=False).\n",
    "\n",
    "If someone has run particle tracking on the simulation, including generating a file track/host_coordinates.hdf5, this stores the posiion, velocity, rotation tensor, and axis ratio of each host galaxy at each snapshot, so you do not have to re-compute during every read. If you set assign_hosts=True or assign_hosts_rotation=True in read_snapshots(), then GizmoAnalysis first will look for this file, and assign the host information stored in it, but if it does not find the file, GizmoAnalysis will assign these host properties on the fly during read."
   ],
   "metadata": {}
  },
  {
   "cell_type": "code",
   "execution_count": null,
   "source": [
    "# position [kpc comoving] and velocity [km / s] of the center of each host galaxy\n",
    "# can store multiple hosts, though usually just one\n",
    "\n",
    "print(part.host['position'])\n",
    "print(part.host['velocity'])"
   ],
   "outputs": [],
   "metadata": {}
  },
  {
   "cell_type": "code",
   "execution_count": null,
   "source": [
    "# compute and assign the rotation tensor and axis ratios of the principal axes (defined via moment of inertia tensor) of stars in each host,  during read in as below\n",
    "\n",
    "part = gizmo.io.Read.read_snapshots(['star', 'dark'], 'redshift', 0, simulation_directory, assign_hosts_rotation=True)"
   ],
   "outputs": [],
   "metadata": {}
  },
  {
   "cell_type": "code",
   "execution_count": null,
   "source": [
    "# stores the rotation tensor, to rotate into the principal axes for each host\n",
    "\n",
    "print(part.host['rotation'])"
   ],
   "outputs": [],
   "metadata": {}
  },
  {
   "cell_type": "code",
   "execution_count": null,
   "source": [
    "# and stores the axis ratios (min/maj, min/med, med/maj) for each host\n",
    "\n",
    "print(part.host['axis.ratios'])"
   ],
   "outputs": [],
   "metadata": {}
  },
  {
   "cell_type": "code",
   "execution_count": null,
   "source": [
    "# now you can compute different types of distances of star particles from the center of each host galaxy\n",
    "# using .prop() to call derived quantities\n",
    "# compute 3-D distance from the host center along simulation's default x,y,z cartesian axes [kpc physical]\n",
    "\n",
    "part['star'].prop('host.distance')"
   ],
   "outputs": [],
   "metadata": {}
  },
  {
   "cell_type": "code",
   "execution_count": null,
   "source": [
    "# add '.total' to compute total (scalar) distance [kpc physical]\n",
    "\n",
    "part['star'].prop('host.distance.total')"
   ],
   "outputs": [],
   "metadata": {}
  },
  {
   "cell_type": "code",
   "execution_count": null,
   "source": [
    "# add '.principal' to compute 3-D distance aligned with the principal (major, intermediate, minor) axes of each host's stellar disk [kpc physical]\n",
    "\n",
    "part['star'].prop('host.distance.principal')"
   ],
   "outputs": [],
   "metadata": {}
  },
  {
   "cell_type": "code",
   "execution_count": null,
   "source": [
    "# add '.cylindrical' or '.cyl' to compute 3-D distance aligned with the principal axes in cylindrical coordinates\n",
    "# first value is along the major axes (R, positive definite) [kpc physical]\n",
    "# second value is angle (phi, 0 to 2 * pi) [radian]\n",
    "# third value is vertical height wrt the disk (Z, signed) [kpc physical]\n",
    "\n",
    "part['star'].prop('host.distance.principal.cylindrical')"
   ],
   "outputs": [],
   "metadata": {}
  },
  {
   "cell_type": "code",
   "execution_count": null,
   "source": [
    "# same for velocity\n",
    "# compute 3-D velocity from each host galaxy center along simulation's default x,y,z cartesian axes [km / s]\n",
    "\n",
    "part['star'].prop('host.velocity')"
   ],
   "outputs": [],
   "metadata": {}
  },
  {
   "cell_type": "code",
   "execution_count": null,
   "source": [
    "# compute total (scalar) velocity [km / s]\n",
    "\n",
    "part['star'].prop('host.velocity.total')"
   ],
   "outputs": [],
   "metadata": {}
  },
  {
   "cell_type": "code",
   "execution_count": null,
   "source": [
    "# compute 3-D velocity along the principal (major, intermediate, minor) axes [km / s]\n",
    "\n",
    "part['star'].prop('host.velocity.principal')"
   ],
   "outputs": [],
   "metadata": {}
  },
  {
   "cell_type": "code",
   "execution_count": null,
   "source": [
    "# compute 3-D velocity in cylindrical coordinates\n",
    "# first value is along the major axes (positive definite)\n",
    "# secod value is azimuthal velocity in the plane of the disk (positive definite)\n",
    "# third value is vertical velocity wrt the disk (signed)\n",
    "\n",
    "part['star'].prop('host.velocity.principal.cylindrical')"
   ],
   "outputs": [],
   "metadata": {}
  },
  {
   "cell_type": "code",
   "execution_count": null,
   "source": [
    "# if you want to store multiple hosts (such as for the ELVIS Local Group-like paired host simulations), \n",
    "# set host_number=2 during read-in\n",
    "# (in fact, you can do this for any simulation, it simply finds the second most massive host galaxy in the zoom-in region)\n",
    "\n",
    "part = gizmo.io.Read.read_snapshots(['star', 'dark'], 'redshift', 0, simulation_directory, host_number=2, assign_hosts='mass', assign_hosts_rotation=True)"
   ],
   "outputs": [],
   "metadata": {}
  },
  {
   "cell_type": "code",
   "execution_count": null,
   "source": [
    "# everything above still works, just use 'host', 'host2', 'host3', etc to identify which host you want coordinates relative to\n",
    "\n",
    "print(part['star'].prop('host.distance'))\n",
    "print(part['star'].prop('host2.distance'))"
   ],
   "outputs": [],
   "metadata": {}
  },
  {
   "cell_type": "code",
   "execution_count": null,
   "source": [
    "# the particle dictionary stores coordinates and rotation tensors for each host\n",
    "\n",
    "print(part.host['position'])\n",
    "print(part.host['velocity'])\n",
    "print(part.host['rotation'])\n",
    "print(part.host['axis.ratios'])"
   ],
   "outputs": [],
   "metadata": {}
  },
  {
   "cell_type": "markdown",
   "source": [
    "# Tracking star + gas particles across snapshots"
   ],
   "metadata": {}
  },
  {
   "cell_type": "markdown",
   "source": [
    "Some simulations have .hdf5 files for tracking star + gas particles over time. By default, we store these files in the directory 'track/' (if present). gizmo_track.py contains the code that generates and reads these files."
   ],
   "metadata": {}
  },
  {
   "cell_type": "markdown",
   "source": [
    "Files named __star\\_gas\\_pointers\\_\\*.hdf5__ store, for each star and gas particles at z = 0, a pointer to its array index in the catalog at each previous snapshot (replace * with snapshot index). This makes it easy to get the properties of a given star particle at any previous snapshot. We store these pointers in a .hdf5 file, one for each previous snapshot."
   ],
   "metadata": {}
  },
  {
   "cell_type": "markdown",
   "source": [
    "### Tracking between z = 0 and a previous snapshot\n",
    "\n",
    "__EXAMPLE:__\n",
    "\n",
    "Say you want to find out what star and gas particles were doing at $z = 2$.\n",
    "\n",
    "First, read in the particle catalog at $z = 0$"
   ],
   "metadata": {}
  },
  {
   "cell_type": "code",
   "execution_count": 1,
   "source": [
    "# Read catalog of star and gas particles at z = 0\n",
    "\n",
    "part_at_z0 = gizmo.io.Read.read_snapshots(['star', 'gas'], 'redshift', 0, simulation_directory)"
   ],
   "outputs": [
    {
     "output_type": "error",
     "ename": "NameError",
     "evalue": "name 'simulation_directory' is not defined",
     "traceback": [
      "\u001b[0;31m---------------------------------------------------------------------------\u001b[0m",
      "\u001b[0;31mNameError\u001b[0m                                 Traceback (most recent call last)",
      "\u001b[0;32m<ipython-input-1-38e1cb7014e8>\u001b[0m in \u001b[0;36m<module>\u001b[0;34m\u001b[0m\n\u001b[1;32m      1\u001b[0m \u001b[0;31m# Read catalog of star and gas particles at z = 0\u001b[0m\u001b[0;34m\u001b[0m\u001b[0;34m\u001b[0m\u001b[0;34m\u001b[0m\u001b[0m\n\u001b[1;32m      2\u001b[0m \u001b[0;34m\u001b[0m\u001b[0m\n\u001b[0;32m----> 3\u001b[0;31m \u001b[0mpart_at_z0\u001b[0m \u001b[0;34m=\u001b[0m \u001b[0mgizmo\u001b[0m\u001b[0;34m.\u001b[0m\u001b[0mio\u001b[0m\u001b[0;34m.\u001b[0m\u001b[0mRead\u001b[0m\u001b[0;34m.\u001b[0m\u001b[0mread_snapshots\u001b[0m\u001b[0;34m(\u001b[0m\u001b[0;34m[\u001b[0m\u001b[0;34m'star'\u001b[0m\u001b[0;34m,\u001b[0m \u001b[0;34m'gas'\u001b[0m\u001b[0;34m]\u001b[0m\u001b[0;34m,\u001b[0m \u001b[0;34m'redshift'\u001b[0m\u001b[0;34m,\u001b[0m \u001b[0;36m0\u001b[0m\u001b[0;34m,\u001b[0m \u001b[0msimulation_directory\u001b[0m\u001b[0;34m)\u001b[0m\u001b[0;34m\u001b[0m\u001b[0;34m\u001b[0m\u001b[0m\n\u001b[0m",
      "\u001b[0;31mNameError\u001b[0m: name 'simulation_directory' is not defined"
     ]
    }
   ],
   "metadata": {}
  },
  {
   "cell_type": "markdown",
   "source": [
    "Now, read in the particles at $z = 2$. Set __assign_pointers=True__ to assign pointers to the particle catalog at $z = 2$"
   ],
   "metadata": {}
  },
  {
   "cell_type": "code",
   "execution_count": 2,
   "source": [
    "# Read in catalog of star and gas particles at z = 2 (corresponding to snapshot 172)\n",
    "\n",
    "part_at_z2 = gizmo.io.Read.read_snapshots(\n",
    "    ['star', 'gas'], 'redshift', 2, simulation_directory, assign_pointers=True)"
   ],
   "outputs": [
    {
     "output_type": "error",
     "ename": "NameError",
     "evalue": "name 'simulation_directory' is not defined",
     "traceback": [
      "\u001b[0;31m---------------------------------------------------------------------------\u001b[0m",
      "\u001b[0;31mNameError\u001b[0m                                 Traceback (most recent call last)",
      "\u001b[0;32m<ipython-input-2-973f3beab06e>\u001b[0m in \u001b[0;36m<module>\u001b[0;34m\u001b[0m\n\u001b[1;32m      2\u001b[0m \u001b[0;34m\u001b[0m\u001b[0m\n\u001b[1;32m      3\u001b[0m part_at_z2 = gizmo.io.Read.read_snapshots(\n\u001b[0;32m----> 4\u001b[0;31m     ['star', 'gas'], 'redshift', 2, simulation_directory, assign_pointers=True)\n\u001b[0m",
      "\u001b[0;31mNameError\u001b[0m: name 'simulation_directory' is not defined"
     ]
    }
   ],
   "metadata": {}
  },
  {
   "cell_type": "markdown",
   "source": [
    "We store particle pointers via a dictionary class that is appended to the particle catalog dictionary. A negative value for a pointer means that the star formed after this snapshot, so it does not exist at this snapshot."
   ],
   "metadata": {}
  },
  {
   "cell_type": "code",
   "execution_count": 4,
   "source": [
    "part_at_z2.Pointer"
   ],
   "outputs": [
    {
     "output_type": "error",
     "ename": "NameError",
     "evalue": "name 'part_at_z2' is not defined",
     "traceback": [
      "\u001b[0;31m---------------------------------------------------------------------------\u001b[0m",
      "\u001b[0;31mNameError\u001b[0m                                 Traceback (most recent call last)",
      "\u001b[0;32m<ipython-input-4-5f80b706cd1f>\u001b[0m in \u001b[0;36m<module>\u001b[0;34m\u001b[0m\n\u001b[0;32m----> 1\u001b[0;31m \u001b[0mpart_at_z2\u001b[0m\u001b[0;34m.\u001b[0m\u001b[0mPointer\u001b[0m\u001b[0;34m\u001b[0m\u001b[0;34m\u001b[0m\u001b[0m\n\u001b[0m",
      "\u001b[0;31mNameError\u001b[0m: name 'part_at_z2' is not defined"
     ]
    }
   ],
   "metadata": {}
  },
  {
   "cell_type": "code",
   "execution_count": 5,
   "source": [
    "# the particle species that we have compiled tracking pointers for\n",
    "\n",
    "part_at_z2.Pointer['species']"
   ],
   "outputs": [
    {
     "output_type": "execute_result",
     "data": {
      "text/plain": [
       "array(['star', 'gas'], dtype='<U4')"
      ]
     },
     "metadata": {},
     "execution_count": 5
    }
   ],
   "metadata": {}
  },
  {
   "cell_type": "markdown",
   "source": [
    "Try printing out the snapshot indices at $z = 2$ and at the reference redshift, which is $z = 0$."
   ],
   "metadata": {}
  },
  {
   "cell_type": "code",
   "execution_count": 6,
   "source": [
    "# the snapshot indices at this redshift (z = 2) and at the reference redshift (z = 0)\n",
    "\n",
    "print(part_at_z2.Pointer['z.snapshot.index'])\n",
    "print(part_at_z2.Pointer['z0.snapshot.index'])"
   ],
   "outputs": [
    {
     "output_type": "stream",
     "name": "stdout",
     "text": [
      "172\n",
      "600\n"
     ]
    }
   ],
   "metadata": {}
  },
  {
   "cell_type": "markdown",
   "source": [
    "You can see the number of particles at $z = 2$ and at $z = 0$"
   ],
   "metadata": {}
  },
  {
   "cell_type": "code",
   "execution_count": 6,
   "source": [
    "# The number of particles at this redshift (z = 2) and at the reference redshift (z = 0)\n",
    "\n",
    "print(part_at_z2.Pointer['z.star.number'])\n",
    "print(part_at_z2.Pointer['z.gas.number'])\n",
    "\n",
    "print(part_at_z2.Pointer['z0.star.number'])\n",
    "print(part_at_z2.Pointer['z0.gas.number'])"
   ],
   "outputs": [
    {
     "output_type": "error",
     "ename": "NameError",
     "evalue": "name 'part_at_z2' is not defined",
     "traceback": [
      "\u001b[0;31m---------------------------------------------------------------------------\u001b[0m",
      "\u001b[0;31mNameError\u001b[0m                                 Traceback (most recent call last)",
      "\u001b[0;32m<ipython-input-6-43134568d5ec>\u001b[0m in \u001b[0;36m<module>\u001b[0;34m\u001b[0m\n\u001b[1;32m      1\u001b[0m \u001b[0;31m# The number of particles at this redshift (z = 2) and at the reference redshift (z = 0)\u001b[0m\u001b[0;34m\u001b[0m\u001b[0;34m\u001b[0m\u001b[0;34m\u001b[0m\u001b[0m\n\u001b[1;32m      2\u001b[0m \u001b[0;34m\u001b[0m\u001b[0m\n\u001b[0;32m----> 3\u001b[0;31m \u001b[0mprint\u001b[0m\u001b[0;34m(\u001b[0m\u001b[0mpart_at_z2\u001b[0m\u001b[0;34m.\u001b[0m\u001b[0mPointer\u001b[0m\u001b[0;34m[\u001b[0m\u001b[0;34m'z.star.number'\u001b[0m\u001b[0;34m]\u001b[0m\u001b[0;34m)\u001b[0m\u001b[0;34m\u001b[0m\u001b[0;34m\u001b[0m\u001b[0m\n\u001b[0m\u001b[1;32m      4\u001b[0m \u001b[0mprint\u001b[0m\u001b[0;34m(\u001b[0m\u001b[0mpart_at_z2\u001b[0m\u001b[0;34m.\u001b[0m\u001b[0mPointer\u001b[0m\u001b[0;34m[\u001b[0m\u001b[0;34m'z.gas.number'\u001b[0m\u001b[0;34m]\u001b[0m\u001b[0;34m)\u001b[0m\u001b[0;34m\u001b[0m\u001b[0;34m\u001b[0m\u001b[0m\n\u001b[1;32m      5\u001b[0m \u001b[0;34m\u001b[0m\u001b[0m\n",
      "\u001b[0;31mNameError\u001b[0m: name 'part_at_z2' is not defined"
     ]
    }
   ],
   "metadata": {}
  },
  {
   "cell_type": "markdown",
   "source": [
    "The dictionaries below store the actual pointer indices. Because gas particles can become star particles, the code stores the pointers from this combined gas + star list at $z = 0$ to $z$."
   ],
   "metadata": {}
  },
  {
   "cell_type": "code",
   "execution_count": 8,
   "source": [
    "print(part_at_z2.Pointer['z0.to.z.index'])\n",
    "\n",
    "# this also stores the limits of the indices of each species at each snapshot, \n",
    "# so you can convert back to the index within the individual star list or the individual gas list \n",
    "# (as stored in the particle catalog)\n",
    "print(part_at_z2.Pointer['z.star.index.limits'])\n",
    "print(part_at_z2.Pointer['z.gas.index.limits'])\n",
    "\n",
    "print(part_at_z2.Pointer['z0.star.index.limits'])\n",
    "print(part_at_z2.Pointer['z0.gas.index.limits'])"
   ],
   "outputs": [
    {
     "output_type": "error",
     "ename": "NameError",
     "evalue": "name 'part_at_z2' is not defined",
     "traceback": [
      "\u001b[0;31m---------------------------------------------------------------------------\u001b[0m",
      "\u001b[0;31mNameError\u001b[0m                                 Traceback (most recent call last)",
      "\u001b[0;32m<ipython-input-8-c20cb6751697>\u001b[0m in \u001b[0;36m<module>\u001b[0;34m\u001b[0m\n\u001b[0;32m----> 1\u001b[0;31m \u001b[0mprint\u001b[0m\u001b[0;34m(\u001b[0m\u001b[0mpart_at_z2\u001b[0m\u001b[0;34m.\u001b[0m\u001b[0mPointer\u001b[0m\u001b[0;34m[\u001b[0m\u001b[0;34m'z0.to.z.index'\u001b[0m\u001b[0;34m]\u001b[0m\u001b[0;34m)\u001b[0m\u001b[0;34m\u001b[0m\u001b[0;34m\u001b[0m\u001b[0m\n\u001b[0m\u001b[1;32m      2\u001b[0m \u001b[0;34m\u001b[0m\u001b[0m\n\u001b[1;32m      3\u001b[0m \u001b[0;31m# this also stores the limits of the indices of each species at each snapshot,\u001b[0m\u001b[0;34m\u001b[0m\u001b[0;34m\u001b[0m\u001b[0;34m\u001b[0m\u001b[0m\n\u001b[1;32m      4\u001b[0m \u001b[0;31m# so you can convert back to the index within the individual star list or the individual gas list\u001b[0m\u001b[0;34m\u001b[0m\u001b[0;34m\u001b[0m\u001b[0;34m\u001b[0m\u001b[0m\n\u001b[1;32m      5\u001b[0m \u001b[0;31m# (as stored in the particle catalog)\u001b[0m\u001b[0;34m\u001b[0m\u001b[0;34m\u001b[0m\u001b[0;34m\u001b[0m\u001b[0m\n",
      "\u001b[0;31mNameError\u001b[0m: name 'part_at_z2' is not defined"
     ]
    }
   ],
   "metadata": {}
  },
  {
   "cell_type": "markdown",
   "source": [
    "___Even easier___, you can use this function to get pointers for a given species from $z = 0$ to $z = 2$."
   ],
   "metadata": {}
  },
  {
   "cell_type": "code",
   "execution_count": 9,
   "source": [
    "pointers = part_at_z2.Pointer.get_pointers(species_name_from='star', species_names_to='star')"
   ],
   "outputs": [
    {
     "output_type": "error",
     "ename": "NameError",
     "evalue": "name 'part_at_z2' is not defined",
     "traceback": [
      "\u001b[0;31m---------------------------------------------------------------------------\u001b[0m",
      "\u001b[0;31mNameError\u001b[0m                                 Traceback (most recent call last)",
      "\u001b[0;32m<ipython-input-9-abe3fc5ed83d>\u001b[0m in \u001b[0;36m<module>\u001b[0;34m\u001b[0m\n\u001b[0;32m----> 1\u001b[0;31m \u001b[0mpointers\u001b[0m \u001b[0;34m=\u001b[0m \u001b[0mpart_at_z2\u001b[0m\u001b[0;34m.\u001b[0m\u001b[0mPointer\u001b[0m\u001b[0;34m.\u001b[0m\u001b[0mget_pointers\u001b[0m\u001b[0;34m(\u001b[0m\u001b[0mspecies_name_from\u001b[0m\u001b[0;34m=\u001b[0m\u001b[0;34m'star'\u001b[0m\u001b[0;34m,\u001b[0m \u001b[0mspecies_names_to\u001b[0m\u001b[0;34m=\u001b[0m\u001b[0;34m'star'\u001b[0m\u001b[0;34m)\u001b[0m\u001b[0;34m\u001b[0m\u001b[0;34m\u001b[0m\u001b[0m\n\u001b[0m",
      "\u001b[0;31mNameError\u001b[0m: name 'part_at_z2' is not defined"
     ]
    }
   ],
   "metadata": {}
  },
  {
   "cell_type": "markdown",
   "source": [
    "__Now let's try a more specific example:__\n",
    "\n",
    "Say you have a list of star particle indices of interest at $z = 0$. Put more simply, in the star particle dictionary, there are specific stars at specific locations in the arrays that you want at $z = 0$. In the example below, you want star 5, star 8, and star 13.\n",
    "\n",
    "Save those indices to an array and print out their positions at $z = 0$."
   ],
   "metadata": {}
  },
  {
   "cell_type": "code",
   "execution_count": 10,
   "source": [
    "indices_at_z0 = np.array([5, 8, 13])\n",
    "\n",
    "# list their positions at z = 0\n",
    "part_at_z0['star']['position'][indices_at_z0]"
   ],
   "outputs": [
    {
     "output_type": "execute_result",
     "data": {
      "text/plain": [
       "array([[43395.66430266, 44225.91487342, 46848.42028784],\n",
       "       [43391.32501013, 44235.3333939 , 46851.26898524],\n",
       "       [43392.7246372 , 44234.88455716, 46860.08437896]])"
      ]
     },
     "metadata": {},
     "execution_count": 10
    }
   ],
   "metadata": {}
  },
  {
   "cell_type": "markdown",
   "source": [
    "Now, you can get their indices in the particle catalog at $z = 2$ using the following command. Remember that negative indices means that the star particle did not exist at $z = 2$!"
   ],
   "metadata": {}
  },
  {
   "cell_type": "code",
   "execution_count": 11,
   "source": [
    "indices_at_z2 = pointers[indices_at_z0]\n",
    "print(indices_at_z2)"
   ],
   "outputs": [
    {
     "output_type": "stream",
     "name": "stdout",
     "text": [
      "[93570 93569 93574]\n"
     ]
    },
    {
     "output_type": "execute_result",
     "data": {
      "text/plain": [
       "array([[44594.70662236, 42857.76681624, 45680.41942321],\n",
       "       [44597.17009857, 42856.9103464 , 45683.54318435],\n",
       "       [44586.14301487, 42869.01990286, 45673.47361522]])"
      ]
     },
     "metadata": {},
     "execution_count": 11
    }
   ],
   "metadata": {}
  },
  {
   "cell_type": "markdown",
   "source": [
    "Now you can easily get any property of interest at $z = 2$. Print out their positions with:"
   ],
   "metadata": {}
  },
  {
   "cell_type": "code",
   "execution_count": 11,
   "source": [
    "part_at_z2['star']['position'][indices_at_z2]"
   ],
   "outputs": [
    {
     "output_type": "error",
     "ename": "NameError",
     "evalue": "name 'part_at_z2' is not defined",
     "traceback": [
      "\u001b[0;31m---------------------------------------------------------------------------\u001b[0m",
      "\u001b[0;31mNameError\u001b[0m                                 Traceback (most recent call last)",
      "\u001b[0;32m<ipython-input-11-aeb01f270b93>\u001b[0m in \u001b[0;36m<module>\u001b[0;34m\u001b[0m\n\u001b[0;32m----> 1\u001b[0;31m \u001b[0mpart_at_z2\u001b[0m\u001b[0;34m[\u001b[0m\u001b[0;34m'star'\u001b[0m\u001b[0;34m]\u001b[0m\u001b[0;34m[\u001b[0m\u001b[0;34m'position'\u001b[0m\u001b[0;34m]\u001b[0m\u001b[0;34m[\u001b[0m\u001b[0mindices_at_z2\u001b[0m\u001b[0;34m]\u001b[0m\u001b[0;34m\u001b[0m\u001b[0;34m\u001b[0m\u001b[0m\n\u001b[0m",
      "\u001b[0;31mNameError\u001b[0m: name 'part_at_z2' is not defined"
     ]
    }
   ],
   "metadata": {}
  },
  {
   "cell_type": "code",
   "execution_count": 12,
   "source": [
    "# alternatively, you can track particles going forward in time by setting forward=True\n",
    "\n",
    "pointers = part_at_z2.Pointer.get_pointers(species_name_from='star', species_names_to='star', forward=True)\n",
    "\n",
    "indices_at_z2 = np.array([5, 8, 13])\n",
    "indices_at_z0 = pointers[indices_at_z2]\n",
    "print(indices_at_z0)\n",
    "print(part_at_z0['star']['position'][indices_at_z0])"
   ],
   "outputs": [
    {
     "output_type": "stream",
     "name": "stdout",
     "text": [
      "[1081507 2621944 1378523]\n",
      "[[41827.95243832 44124.6273934  46289.64224645]\n",
      " [41810.05286106 44110.48518841 46285.84784929]\n",
      " [41827.05895642 44116.02070015 46284.00376819]]\n"
     ]
    }
   ],
   "metadata": {}
  },
  {
   "cell_type": "code",
   "execution_count": 13,
   "source": [
    "# also, you can track star particles back to both progenitor star and progenitor gas particles\n",
    "\n",
    "pointers = part_at_z2.Pointer.get_pointers(species_name_from='star', species_names_to=['star', 'gas'])\n",
    "\n",
    "# but now, pointers is a *dictionary* that stores both the index and species of each progenitor particle\n",
    "print(pointers)\n",
    "\n",
    "# get star particle indices at z = 0 and see what they were at z = 2\n",
    "star_indices_at_z0 = np.array([0, 5, 8, 13])\n",
    "print(pointers['species'][star_indices_at_z0], pointers['index'][star_indices_at_z0])\n",
    "\n",
    "# get those that were gas particles\n",
    "masks = np.where(pointers['species'][star_indices_at_z0] == 'gas')[0]\n",
    "\n",
    "gas_indices_at_z2 = pointers['index'][star_indices_at_z0[masks]]\n",
    "\n",
    "print(gas_indices_at_z2)\n",
    "print(part_at_z2['gas']['position'][gas_indices_at_z2])"
   ],
   "outputs": [
    {
     "output_type": "stream",
     "name": "stdout",
     "text": [
      "{'index': array([8517184, 6382567, 2652751, ..., 5870729,  297634,  179265],\n",
      "      dtype=int32), 'species': array(['gas', 'gas', 'gas', ..., 'gas', 'gas', 'star'], dtype='<U4')}\n",
      "['gas' 'star' 'star' 'star'] [8517184   93570   93569   93574]\n",
      "[8517184]\n",
      "[[42845.52824108 42506.12287672 44870.50121988]]\n"
     ]
    }
   ],
   "metadata": {}
  },
  {
   "cell_type": "code",
   "execution_count": 14,
   "source": [
    "# similar for working forward in time, track gas particles at z that can be star or gas particles at z = 0\n",
    "\n",
    "pointers = part_at_z2.Pointer.get_pointers(\n",
    "    species_name_from='gas', species_names_to=['star', 'gas'], forward=True)\n",
    "\n",
    "# get gas indices at z = 2 and see what they end up as at z = 0\n",
    "gas_indices_at_z2 = np.array([0, 5, 8, 13])\n",
    "print(pointers['species'][gas_indices_at_z2])\n",
    "print(pointers['index'][gas_indices_at_z2])\n",
    "\n",
    "# get those that are star particles at z = 0\n",
    "masks = np.where(pointers['species'][gas_indices_at_z2] == 'star')[0]\n",
    "\n",
    "star_indices_at_z0 = pointers['index'][gas_indices_at_z2[masks]]\n",
    "\n",
    "print(star_indices_at_z0)\n",
    "print(part_at_z0['star']['position'][star_indices_at_z0])"
   ],
   "outputs": [
    {
     "output_type": "stream",
     "name": "stdout",
     "text": [
      "['star' 'star' 'gas' 'gas']\n",
      "[ 215205 1917430 1826927 4148144]\n",
      "[ 215205 1917430]\n",
      "[[41823.76116895 44122.68646199 46287.49155757]\n",
      " [41813.98704585 44118.76742237 46303.17274406]]\n"
     ]
    }
   ],
   "metadata": {}
  },
  {
   "cell_type": "markdown",
   "source": [
    "### tracking between 2 snapshots in which both are at z > 0"
   ],
   "metadata": {}
  },
  {
   "cell_type": "code",
   "execution_count": 15,
   "source": [
    "# particle tracking also can handle tracking particles between any 2 snapshots\n",
    "\n",
    "# read catalogs of star and gas particles at z = 1 and 2, including their pointers relative to z = 0\n",
    "# set asign_pointers=True automatically to append pointer class to each particle catalog\n",
    "part_at_z1 = gizmo.io.Read.read_snapshots(\n",
    "    ['star', 'gas'], 'redshift', 1, simulation_directory, assign_pointers=True)\n",
    "part_at_z2 = gizmo.io.Read.read_snapshots(\n",
    "    ['star', 'gas'], 'redshift', 2, simulation_directory, assign_pointers=True)"
   ],
   "outputs": [
    {
     "output_type": "stream",
     "name": "stdout",
     "text": [
      "\n",
      "# in utilities.simulation.Snapshot():\n",
      "* reading:  Users/awetzel/work/research/simulation/gizmo/simulations/m12/m12i/m12i_res57000/snapshot_times.txt\n",
      "\n",
      "* input redshift = 1:  using snapshot index = 277, redshift = 1.000\n",
      "\n",
      "\n",
      "# in gizmo_analysis.gizmo_io.Read():\n",
      "* reading header from:  Users/awetzel/work/research/simulation/gizmo/simulations/m12/m12i/m12i_res57000/output/snapshot_277.hdf5\n",
      "  snapshot contains the following number of particles:\n",
      "    dark      (id = 1): 8820344 particles\n",
      "    dark2     (id = 2): 3081337 particles\n",
      "    gas       (id = 0): 7498674 particles\n",
      "    star      (id = 4): 1333580 particles\n",
      "    blackhole (id = 5): 0 particles\n",
      "\n",
      "* reading species: ['star', 'gas']\n",
      "* reading particles from:\n",
      "    Users/awetzel/work/research/simulation/gizmo/simulations/m12/m12i/m12i_res57000/output/snapshot_277.hdf5\n",
      "\n",
      "* reading cosmological parameters from:  Users/awetzel/work/research/simulation/gizmo/simulations/m12/m12i/m12i_res57000/initial_condition/ic_agora_m12i.conf\n",
      "\n",
      "* checking sanity of particle properties\n",
      "\n",
      "  read 1 host (position, velocity, rotation, axis ratios) from:  Users/awetzel/work/research/simulation/gizmo/simulations/m12/m12i/m12i_res57000/track/host_coordinates.hdf5\n",
      "  host1 position = (42434.348, 43258.426, 45265.680) [kpc comoving]\n",
      "  host1 velocity = (-63.0, 89.7, 88.0) [km / s]\n",
      "  host1 axis ratios = (0.29, 0.31, 0.94)\n",
      "\n",
      "\n",
      "# in gizmo_analysis.gizmo_track.ParticlePointer():\n",
      "* read particle pointers from:  Users/awetzel/work/research/simulation/gizmo/simulations/m12/m12i/m12i_res57000/track/star_gas_pointers_277.hdf5\n",
      "\n",
      "# in utilities.simulation.Snapshot():\n",
      "* reading:  Users/awetzel/work/research/simulation/gizmo/simulations/m12/m12i/m12i_res57000/snapshot_times.txt\n",
      "\n",
      "* input redshift = 2:  using snapshot index = 172, redshift = 2.000\n",
      "\n",
      "\n",
      "# in gizmo_analysis.gizmo_io.Read():\n",
      "* reading header from:  Users/awetzel/work/research/simulation/gizmo/simulations/m12/m12i/m12i_res57000/output/snapshot_172.hdf5\n",
      "  snapshot contains the following number of particles:\n",
      "    dark      (id = 1): 8820344 particles\n",
      "    dark2     (id = 2): 3081337 particles\n",
      "    gas       (id = 0): 8575137 particles\n",
      "    star      (id = 4): 245223 particles\n",
      "    blackhole (id = 5): 0 particles\n",
      "\n",
      "* reading species: ['star', 'gas']\n",
      "* reading particles from:\n",
      "    Users/awetzel/work/research/simulation/gizmo/simulations/m12/m12i/m12i_res57000/output/snapshot_172.hdf5\n",
      "\n",
      "* reading cosmological parameters from:  Users/awetzel/work/research/simulation/gizmo/simulations/m12/m12i/m12i_res57000/initial_condition/ic_agora_m12i.conf\n",
      "\n",
      "* checking sanity of particle properties\n",
      "\n",
      "  read 1 host (position, velocity, rotation, axis ratios) from:  Users/awetzel/work/research/simulation/gizmo/simulations/m12/m12i/m12i_res57000/track/host_coordinates.hdf5\n",
      "  host1 position = (42860.578, 42499.359, 44850.602) [kpc comoving]\n",
      "  host1 velocity = (-60.9, 119.8, 31.4) [km / s]\n",
      "  host1 axis ratios = (0.47, 0.77, 0.61)\n",
      "\n",
      "\n",
      "# in gizmo_analysis.gizmo_track.ParticlePointer():\n",
      "* read particle pointers from:  Users/awetzel/work/research/simulation/gizmo/simulations/m12/m12i/m12i_res57000/track/star_gas_pointers_172.hdf5\n"
     ]
    }
   ],
   "metadata": {}
  },
  {
   "cell_type": "code",
   "execution_count": 16,
   "source": [
    "# now just append intermediate-redshift pointers (to z = 1) to pointers at z = 2\n",
    "\n",
    "part_at_z2.Pointer.add_intermediate_pointers(part_at_z1.Pointer)"
   ],
   "outputs": [],
   "metadata": {}
  },
  {
   "cell_type": "code",
   "execution_count": 17,
   "source": [
    "# now you can access pointers from z = 1 to z = 2, by setting intermediate_snapshot=True\n",
    "\n",
    "pointers = part_at_z2.Pointer.get_pointers(\n",
    "    species_name_from='star', species_names_to=['star', 'gas'], intermediate_snapshot=True)\n",
    "\n",
    "# get star indices at z = 0 and see what they were at z = 2\n",
    "star_indices_at_z1 = np.array([0, 5, 8, 13])\n",
    "print(pointers['species'][star_indices_at_z1])\n",
    "print(pointers['index'][star_indices_at_z1])\n",
    "\n",
    "# get those that are star particles at z = 2\n",
    "masks = np.where(pointers['species'][star_indices_at_z1] == 'star')[0]\n",
    "\n",
    "star_indices_at_z2 = pointers['index'][star_indices_at_z1[masks]]\n",
    "\n",
    "print(star_indices_at_z2)\n",
    "print(part_at_z2['star']['position'][star_indices_at_z2])"
   ],
   "outputs": [
    {
     "output_type": "stream",
     "name": "stdout",
     "text": [
      "['star' 'gas' 'gas' 'gas']\n",
      "[ 107166 1169600 6377478  239484]\n",
      "[107166]\n",
      "[[43535.53900573 42053.83122207 46265.70989359]]\n"
     ]
    }
   ],
   "metadata": {}
  },
  {
   "cell_type": "code",
   "execution_count": 18,
   "source": [
    "# if you just want to track a single species (star -> star or gas -> gas) between 2 snapshots,\n",
    "# read_pointers_between_snapshots() makes it easy to get the pointer indices between any 2 snapshots\n",
    "\n",
    "ParticlePointer = gizmo.track.ParticlePointerClass(simulation_directory=simulation_directory)\n",
    "\n",
    "# tracking forward in time\n",
    "pointers_z2_to_z1 = ParticlePointer.read_pointers_between_snapshots(\n",
    "    snapshot_index_from=172, snapshot_index_to=277, species_name='star')\n",
    "\n",
    "# for example, see how far star particles have moved\n",
    "print(part_at_z2['star']['position'] - part_at_z1['star']['position'][pointers_z2_to_z1])\n",
    "\n",
    "\n",
    "# similar for tracking going backward in time\n",
    "pointers_z1_to_z2 = ParticlePointer.read_pointers_between_snapshots(\n",
    "    snapshot_index_from=277, snapshot_index_to=172, species_name='star')\n",
    "\n",
    "# in this case, need to select stars that existed as stars at z = 2\n",
    "masks = (pointers_z1_to_z2 >= 0)\n",
    "\n",
    "# see how far star particles have moved\n",
    "print(part_at_z1['star']['position'][masks] - part_at_z1['star']['position'][pointers_z1_to_z2[masks]])"
   ],
   "outputs": [
    {
     "output_type": "stream",
     "name": "stdout",
     "text": [
      "\n",
      "# in gizmo_analysis.gizmo_track.ParticlePointer():\n",
      "* read particle pointers from:  Users/awetzel/work/research/simulation/gizmo/simulations/m12/m12i/m12i_res57000/track/star_gas_pointers_277.hdf5\n",
      "* read particle pointers from:  Users/awetzel/work/research/simulation/gizmo/simulations/m12/m12i/m12i_res57000/track/star_gas_pointers_172.hdf5\n",
      "[[ 292.68991569 -383.58753865 -537.01238787]\n",
      " [ 340.40628092 -396.67310129 -443.35512543]\n",
      " [ 325.33277499 -341.7086024  -510.64487315]\n",
      " ...\n",
      " [ -99.12561147   30.8602316  -350.24431613]\n",
      " [ -99.82395539   11.77529703 -343.91413721]\n",
      " [ -94.33690426   50.91985599 -359.29941783]]\n",
      "* read particle pointers from:  Users/awetzel/work/research/simulation/gizmo/simulations/m12/m12i/m12i_res57000/track/star_gas_pointers_172.hdf5\n",
      "* read particle pointers from:  Users/awetzel/work/research/simulation/gizmo/simulations/m12/m12i/m12i_res57000/track/star_gas_pointers_277.hdf5\n",
      "[[ 1.76618861e+03 -1.34864646e+03  3.38039285e+03]\n",
      " [-3.19344155e-01  1.92092919e+01 -1.40406222e+01]\n",
      " [ 5.49481984e-01 -9.67723621e-01 -1.44379399e+00]\n",
      " ...\n",
      " [-1.47852245e+03  1.73040220e+03  3.40694911e+02]\n",
      " [-1.47797816e+03  1.72987523e+03  3.40425767e+02]\n",
      " [-1.47634593e+03  1.73094540e+03  3.39585600e+02]]\n"
     ]
    }
   ],
   "metadata": {}
  },
  {
   "cell_type": "code",
   "execution_count": 19,
   "source": [
    "# do the same, but for gas\n",
    "\n",
    "ParticlePointer = gizmo.track.ParticlePointerClass(simulation_directory=simulation_directory)\n",
    "\n",
    "# tracking going forward in time\n",
    "pointers_z2_to_z1 = ParticlePointer.read_pointers_between_snapshots(\n",
    "    snapshot_index_from=172, snapshot_index_to=277, species_name='gas')\n",
    "\n",
    "# ensure that gas particle still is a gas particle at z = 1\n",
    "masks = (pointers_z2_to_z1 >= 0)\n",
    "\n",
    "print(part_at_z2['gas']['position'][masks] - part_at_z1['gas']['position'][pointers_z2_to_z1[masks]])\n",
    "\n",
    "# tracking going backward in time\n",
    "pointers_z1_to_z2 = ParticlePointer.read_pointers_between_snapshots(\n",
    "    snapshot_index_from=277, snapshot_index_to=172, species_name='gas')\n",
    "\n",
    "# for gas, still have to ensure positive pointers, even if tracking going backward in time,\n",
    "# because a few gas particles that leave the zoom-in region get culled (for numerical stability) by z = 0\n",
    "# (remember that the pointers always route through z = 0)\n",
    "masks = (pointers_z1_to_z2 >= 0)\n",
    "\n",
    "print(part_at_z1['gas']['position'][masks] - part_at_z2['gas']['position'][pointers_z1_to_z2[masks]])"
   ],
   "outputs": [
    {
     "output_type": "stream",
     "name": "stdout",
     "text": [
      "\n",
      "# in gizmo_analysis.gizmo_track.ParticlePointer():\n",
      "* read particle pointers from:  Users/awetzel/work/research/simulation/gizmo/simulations/m12/m12i/m12i_res57000/track/star_gas_pointers_277.hdf5\n",
      "* read particle pointers from:  Users/awetzel/work/research/simulation/gizmo/simulations/m12/m12i/m12i_res57000/track/star_gas_pointers_172.hdf5\n",
      "[[ 224.35345256 -102.50255757 -208.25313603]\n",
      " [ 313.50763315 -345.17309798 -495.19974925]\n",
      " [ 114.49285425  233.74061457 -177.28187293]\n",
      " ...\n",
      " [  53.25622074 -595.53442327  -88.54922416]\n",
      " [  57.46695114 -592.76897158  -83.2795691 ]\n",
      " [  58.68275013 -596.29758723  -82.94903887]]\n",
      "* read particle pointers from:  Users/awetzel/work/research/simulation/gizmo/simulations/m12/m12i/m12i_res57000/track/star_gas_pointers_172.hdf5\n",
      "* read particle pointers from:  Users/awetzel/work/research/simulation/gizmo/simulations/m12/m12i/m12i_res57000/track/star_gas_pointers_277.hdf5\n",
      "[[-560.31238357 -135.1138063   780.92769312]\n",
      " [-683.88542357 -173.21415443  796.86951148]\n",
      " [-705.87410058 -145.10567908  770.32026879]\n",
      " ...\n",
      " [-258.38776428  710.77164984  377.14910812]\n",
      " [ -94.5892211   497.91426255  289.2440255 ]\n",
      " [-150.44327719  618.12171284  316.23342548]]\n"
     ]
    }
   ],
   "metadata": {}
  },
  {
   "cell_type": "markdown",
   "source": [
    "# star particle formation coordinates"
   ],
   "metadata": {}
  },
  {
   "cell_type": "markdown",
   "source": [
    "As part of star particle tracking, we store the position and velocity of each star particle immediately after it formed. Because we typically store snapshots every 20 - 25 Myr, this means that these 'formation' coordiantes are the coordinates of a star particle0 - ~25 Myr after it formed.\n",
    "\n",
    "Within track/, host_coordinates.hdf5 stores, for each star particle at z = 0, its 3-D distance and 3-D velocity wrt to the main host galaxy at the first snapshot after it formed. These coordinates are aligned with the principal (major, intermediate, minor) axes of the stellar disk (as defined via its moment of inertia tensor) at that snapshot."
   ],
   "metadata": {}
  },
  {
   "cell_type": "code",
   "execution_count": 20,
   "source": [
    "# use the function within gizmo_track.py to read this file and assign values directly to the catalog at z = 0\n",
    "\n",
    "gizmo.track.ParticleCoordinate.io_hosts_coordinates(part_at_z0, simulation_directory, assign_formation_coordinates=True)"
   ],
   "outputs": [
    {
     "output_type": "stream",
     "name": "stdout",
     "text": [
      "\n",
      "# in utilities.basic.io.file_hdf5():\n",
      "  reading file:  Users/awetzel/work/research/simulation/gizmo/simulations/m12/m12i/m12i_res57000/track/host_coordinates.hdf5\n",
      "    host.axis.ratios | float32, shape = (601, 1, 3)\n",
      "    host.position | float32, shape = (601, 1, 3)\n",
      "    host.rotation | float32, shape = (601, 1, 3, 3)\n",
      "    host.velocity | float32, shape = (601, 1, 3)\n",
      "    snapshot.index | int64, shape = ()\n",
      "    star.form.host.distance | float32, shape = (3059250, 3)\n",
      "    star.form.host.velocity | float32, shape = (3059250, 3)\n",
      "    star.id | uint32, shape = (3059250,)\n",
      "  reading formation coordinates for star particles at snapshot 600\n"
     ]
    }
   ],
   "metadata": {}
  },
  {
   "cell_type": "code",
   "execution_count": 21,
   "source": [
    "# more conveniently, you can read the formation coordinates of star particles during snapshot read-in\n",
    "# by setting assign_formation_coordinates=True\n",
    "\n",
    "part_at_z0 = gizmo.io.Read.read_snapshots(\n",
    "    ['star'], 'redshift', 0, simulation_directory, assign_hosts_rotation=True, \n",
    "    assign_formation_coordinates=True)"
   ],
   "outputs": [
    {
     "output_type": "stream",
     "name": "stdout",
     "text": [
      "\n",
      "# in utilities.simulation.Snapshot():\n",
      "* reading:  Users/awetzel/work/research/simulation/gizmo/simulations/m12/m12i/m12i_res57000/snapshot_times.txt\n",
      "\n",
      "* input redshift = 0:  using snapshot index = 600, redshift = 0.000\n",
      "\n",
      "\n",
      "# in gizmo_analysis.gizmo_io.Read():\n",
      "* reading header from:  Users/awetzel/work/research/simulation/gizmo/simulations/m12/m12i/m12i_res57000/output/snapshot_600.hdf5\n",
      "  snapshot contains the following number of particles:\n",
      "    dark      (id = 1): 8820344 particles\n",
      "    dark2     (id = 2): 3081337 particles\n",
      "    gas       (id = 0): 5969934 particles\n",
      "    star      (id = 4): 3059250 particles\n",
      "    blackhole (id = 5): 0 particles\n",
      "\n",
      "* reading species: ['star']\n",
      "* reading particles from:\n",
      "    Users/awetzel/work/research/simulation/gizmo/simulations/m12/m12i/m12i_res57000/output/snapshot_600.hdf5\n",
      "\n",
      "* reading cosmological parameters from:  Users/awetzel/work/research/simulation/gizmo/simulations/m12/m12i/m12i_res57000/initial_condition/ic_agora_m12i.conf\n",
      "\n",
      "* checking sanity of particle properties\n",
      "\n",
      "  read 1 host (position, velocity, rotation, axis ratios) from:  Users/awetzel/work/research/simulation/gizmo/simulations/m12/m12i/m12i_res57000/track/host_coordinates.hdf5\n",
      "  host1 position = (41821.973, 44122.004, 46288.449) [kpc comoving]\n",
      "  host1 velocity = (-48.7, 73.1, 96.7) [km / s]\n",
      "  host1 axis ratios = (0.15, 0.15, 0.97)\n",
      "\n",
      "\n",
      "# in utilities.basic.io.file_hdf5():\n",
      "  reading file:  Users/awetzel/work/research/simulation/gizmo/simulations/m12/m12i/m12i_res57000/track/host_coordinates.hdf5\n",
      "    host.axis.ratios | float32, shape = (601, 1, 3)\n",
      "    host.position | float32, shape = (601, 1, 3)\n",
      "    host.rotation | float32, shape = (601, 1, 3, 3)\n",
      "    host.velocity | float32, shape = (601, 1, 3)\n",
      "    snapshot.index | int64, shape = ()\n",
      "    star.form.host.distance | float32, shape = (3059250, 3)\n",
      "    star.form.host.velocity | float32, shape = (3059250, 3)\n",
      "    star.id | uint32, shape = (3059250,)\n",
      "\n",
      "# in gizmo_analysis.gizmo_track.ParticleCoordinate():\n",
      "  reading formation coordinates for star particles at snapshot 600\n"
     ]
    }
   ],
   "metadata": {}
  },
  {
   "cell_type": "code",
   "execution_count": 22,
   "source": [
    "# 3-D distance at formation\n",
    "# this is aligned with the principal axes of each host galaxy at that time [kpc physical]\n",
    "# we compute the principal axes *independently* at each snapshot\n",
    "# distance along dimension 0 is aligned with the major axiss\n",
    "# distance along dimension 1 is algined with the intermediate axis\n",
    "# distance along dimension 2 is aligned with the minor (Z) axis\n",
    "\n",
    "part_at_z0['star']['form.host.distance']\n",
    "\n",
    "# part_at_z0['star']['form.host2.distance']  # if the simulation has a second host galaxy (for example, ELVIS)"
   ],
   "outputs": [
    {
     "output_type": "execute_result",
     "data": {
      "text/plain": [
       "array([[ 4.5457406e+00,  5.7589731e+00, -1.0328604e+00],\n",
       "       [ 8.9594122e+02, -1.1873512e+03,  5.4280817e+02],\n",
       "       [ 1.2730801e+03,  4.3863670e+01, -5.9997925e+01],\n",
       "       ...,\n",
       "       [-3.6862216e+02,  7.0379065e+02, -9.2772058e+02],\n",
       "       [-3.4720767e+02,  3.9183545e+02, -2.2527449e+02],\n",
       "       [-2.9483548e+02,  4.7350249e+00, -2.5433069e+02]], dtype=float32)"
      ]
     },
     "metadata": {},
     "execution_count": 22
    }
   ],
   "metadata": {}
  },
  {
   "cell_type": "code",
   "execution_count": 23,
   "source": [
    "# as before, add 'total' to get the total scalar (absolute) distance wrt each host galaxy at formation [kpc physical]\n",
    "# this is a derived quantity, so need to call via .prop()\n",
    "\n",
    "part_at_z0['star'].prop('form.host.distance.total')"
   ],
   "outputs": [
    {
     "output_type": "execute_result",
     "data": {
      "text/plain": [
       "array([   7.4092054, 1583.3995   , 1275.2477   , ..., 1221.4209   ,\n",
       "        569.9445   ,  389.40274  ], dtype=float32)"
      ]
     },
     "metadata": {},
     "execution_count": 23
    }
   ],
   "metadata": {}
  },
  {
   "cell_type": "code",
   "execution_count": 24,
   "source": [
    "# add 'cylindrical' to get 3-D distance at formation wrt each host galaxy in cylindrical coordinates [kpc physical]\n",
    "\n",
    "part_at_z0['star'].prop('form.host.distance.cylindrical')"
   ],
   "outputs": [
    {
     "output_type": "execute_result",
     "data": {
      "text/plain": [
       "array([[ 7.3368611e+00,  9.0259433e-01, -1.0328604e+00],\n",
       "       [ 1.4874520e+03,  5.3588095e+00,  5.4280817e+02],\n",
       "       [ 1.2738354e+03,  3.4441136e-02, -5.9997925e+01],\n",
       "       ...,\n",
       "       [ 7.9448322e+02,  2.0532761e+00, -9.2772058e+02],\n",
       "       [ 5.2353430e+02,  2.2958817e+00, -2.2527449e+02],\n",
       "       [ 2.9487350e+02,  3.1255341e+00, -2.5433069e+02]], dtype=float32)"
      ]
     },
     "metadata": {},
     "execution_count": 24
    }
   ],
   "metadata": {}
  },
  {
   "cell_type": "code",
   "execution_count": 25,
   "source": [
    "# these values look more reasonable if you restrict to star particles that formed within a host galaxy\n",
    "\n",
    "# select particles formed at d = 0 - 8 kpc physical\n",
    "part_indices = ut.array.get_indices(part_at_z0['star'].prop('form.host.distance.total'), [0, 8])\n",
    "\n",
    "part_at_z0['star'].prop('form.host.distance.cylindrical', part_indices)"
   ],
   "outputs": [
    {
     "output_type": "execute_result",
     "data": {
      "text/plain": [
       "array([[ 7.336861  ,  0.9025943 , -1.0328604 ],\n",
       "       [ 2.8240697 ,  4.5712667 , -0.01329234],\n",
       "       [ 2.4336934 ,  3.578632  ,  0.01743255],\n",
       "       ...,\n",
       "       [ 2.752147  ,  5.991608  , -1.4814194 ],\n",
       "       [ 3.6225774 ,  3.389197  , -0.01087113],\n",
       "       [ 1.5268447 ,  1.9155377 , -0.12839043]], dtype=float32)"
      ]
     },
     "metadata": {},
     "execution_count": 25
    }
   ],
   "metadata": {}
  },
  {
   "cell_type": "code",
   "execution_count": 27,
   "source": [
    "# same for velocity at formation\n",
    "\n",
    "print(part_at_z0['star']['form.host.velocity'])\n",
    "print(part_at_z0['star'].prop('form.host.velocity.total'))\n",
    "print(part_at_z0['star'].prop('form.host.velocity.cylindrical'))"
   ],
   "outputs": [
    {
     "output_type": "stream",
     "name": "stdout",
     "text": [
      "[[ 597.68427    778.17926    291.25388  ]\n",
      " [  21.861961  -166.42316     20.273352 ]\n",
      " [ 244.85405   -126.531166    24.533964 ]\n",
      " ...\n",
      " [  -5.7452097  118.19287     -7.804297 ]\n",
      " [-128.7966      32.298725     8.159344 ]\n",
      " [-153.91582     44.954567   -40.771374 ]]\n",
      "[1023.5322   169.07283  276.7048  ...  118.5895   133.03513  165.44878]\n",
      "[[ 981.1322      12.9964905  291.25388  ]\n",
      " [ 146.01463    -82.79093     20.273352 ]\n",
      " [ 240.35184   -134.88751     24.533964 ]\n",
      " ...\n",
      " [ 107.36646    -49.749428    -7.804297 ]\n",
      " [ 109.59158     74.97638      8.159344 ]\n",
      " [ 154.61786    -42.47722    -40.771374 ]]\n"
     ]
    }
   ],
   "metadata": {}
  },
  {
   "cell_type": "code",
   "execution_count": 32,
   "source": [
    "# recall that we store formation postions + velocities relative to each host's principal axes\n",
    "# and that we compute the principal axes separately at each snapshot\n",
    "# thus, we also store each host's coordinates and rotation tensor (for its principal axes) at each snapshot\n",
    "# so you can use this to compute formation coordinates in the box's x,y,z coordinates if you want\n",
    "\n",
    "print(part_at_z0.hostz['position'])\n",
    "\n",
    "print(part_at_z0.hostz['velocity'])"
   ],
   "outputs": [
    {
     "output_type": "stream",
     "name": "stdout",
     "text": [
      "[[[      nan       nan       nan]]\n",
      "\n",
      " [[      nan       nan       nan]]\n",
      "\n",
      " [[43738.48  42438.81  44075.555]]\n",
      "\n",
      " ...\n",
      "\n",
      " [[41822.176 44121.656 46288.01 ]]\n",
      "\n",
      " [[41822.07  44121.832 46288.22 ]]\n",
      "\n",
      " [[41821.973 44122.004 46288.45 ]]]\n",
      "[[[       nan        nan        nan]]\n",
      "\n",
      " [[       nan        nan        nan]]\n",
      "\n",
      " [[-36.463985  22.784967  40.35905 ]]\n",
      "\n",
      " ...\n",
      "\n",
      " [[-48.60423   73.22472   96.21793 ]]\n",
      "\n",
      " [[-48.6544    73.18901   96.45606 ]]\n",
      "\n",
      " [[-48.735596  73.141556  96.68621 ]]]\n"
     ]
    }
   ],
   "metadata": {}
  },
  {
   "cell_type": "code",
   "execution_count": 33,
   "source": [
    "print(part_at_z0.hostz['rotation'])\n",
    "\n",
    "print(part_at_z0.hostz['axis.ratios'])"
   ],
   "outputs": [
    {
     "output_type": "stream",
     "name": "stdout",
     "text": [
      "[[[[        nan         nan         nan]\n",
      "   [        nan         nan         nan]\n",
      "   [        nan         nan         nan]]]\n",
      "\n",
      "\n",
      " [[[        nan         nan         nan]\n",
      "   [        nan         nan         nan]\n",
      "   [        nan         nan         nan]]]\n",
      "\n",
      "\n",
      " [[[-0.6748151   0.40482095  0.617045  ]\n",
      "   [-0.536163   -0.84346956 -0.03299071]\n",
      "   [ 0.5071033  -0.35309932  0.786236  ]]]\n",
      "\n",
      "\n",
      " ...\n",
      "\n",
      "\n",
      " [[[-0.30780238  0.20832402  0.9283635 ]\n",
      "   [ 0.84225535  0.51352084  0.16401924]\n",
      "   [-0.44256487  0.8324046  -0.33352497]]]\n",
      "\n",
      "\n",
      " [[[-0.07945018  0.3342501   0.93912965]\n",
      "   [ 0.8932489   0.4420637  -0.0817683 ]\n",
      "   [-0.4424862   0.83238006 -0.33369058]]]\n",
      "\n",
      "\n",
      " [[[ 0.16259898  0.44078463  0.88276297]\n",
      "   [ 0.8818997   0.3363157  -0.33037043]\n",
      "   [-0.44250926  0.83222634 -0.33404326]]]]\n",
      "[[[       nan        nan        nan]]\n",
      "\n",
      " [[       nan        nan        nan]]\n",
      "\n",
      " [[       nan        nan 0.6049246 ]]\n",
      "\n",
      " ...\n",
      "\n",
      " [[0.14877434 0.15252914 0.9753831 ]]\n",
      "\n",
      " [[0.14853545 0.1528604  0.97170645]]\n",
      "\n",
      " [[0.14807291 0.15283084 0.968868  ]]]\n"
     ]
    }
   ],
   "metadata": {}
  },
  {
   "cell_type": "markdown",
   "source": [
    "# profile of properties"
   ],
   "metadata": {
    "collapsed": true
   }
  },
  {
   "cell_type": "markdown",
   "source": [
    "A common task is to compute a radial profile of a given quantity, such as mass density, average age, median metallicity, etc.\n",
    "\n",
    "The following functions in utilities.particle make this easier to do."
   ],
   "metadata": {}
  },
  {
   "cell_type": "code",
   "execution_count": 34,
   "source": [
    "# read star particles at z = 0\n",
    "\n",
    "part = gizmo.io.Read.read_snapshots(\n",
    "    ['star'], 'redshift', 0, simulation_directory, assign_hosts_rotation=True)"
   ],
   "outputs": [
    {
     "output_type": "stream",
     "name": "stdout",
     "text": [
      "\n",
      "# in utilities.simulation.Snapshot():\n",
      "* reading:  Users/awetzel/work/research/simulation/gizmo/simulations/m12/m12i/m12i_res57000/snapshot_times.txt\n",
      "\n",
      "* input redshift = 0:  using snapshot index = 600, redshift = 0.000\n",
      "\n",
      "\n",
      "# in gizmo_analysis.gizmo_io.Read():\n",
      "* reading header from:  Users/awetzel/work/research/simulation/gizmo/simulations/m12/m12i/m12i_res57000/output/snapshot_600.hdf5\n",
      "  snapshot contains the following number of particles:\n",
      "    dark      (id = 1): 8820344 particles\n",
      "    dark2     (id = 2): 3081337 particles\n",
      "    gas       (id = 0): 5969934 particles\n",
      "    star      (id = 4): 3059250 particles\n",
      "    blackhole (id = 5): 0 particles\n",
      "\n",
      "* reading species: ['star']\n",
      "* reading particles from:\n",
      "    Users/awetzel/work/research/simulation/gizmo/simulations/m12/m12i/m12i_res57000/output/snapshot_600.hdf5\n",
      "\n",
      "* reading cosmological parameters from:  Users/awetzel/work/research/simulation/gizmo/simulations/m12/m12i/m12i_res57000/initial_condition/ic_agora_m12i.conf\n",
      "\n",
      "* checking sanity of particle properties\n",
      "\n",
      "  read 1 host (position, velocity, rotation, axis ratios) from:  Users/awetzel/work/research/simulation/gizmo/simulations/m12/m12i/m12i_res57000/track/host_coordinates.hdf5\n",
      "  host1 position = (41821.973, 44122.004, 46288.449) [kpc comoving]\n",
      "  host1 velocity = (-48.7, 73.1, 96.7) [km / s]\n",
      "  host1 axis ratios = (0.15, 0.15, 0.97)\n",
      "\n"
     ]
    }
   ],
   "metadata": {}
  },
  {
   "cell_type": "code",
   "execution_count": 37,
   "source": [
    "# first, initiate an instance of SpeciesProfileClass\n",
    "# as you initialize, choose your distance/radius binning scheme:\n",
    "#   distance limits, bin width, whether to use log scaling, number of spatial dimensions of profile\n",
    "# refer to ut.binning.DistanceBinClass() for more\n",
    "\n",
    "# linear binning from 0 to 20 kpc with 1 kpc bin width, assuming a 3-D profile\n",
    "SpeciesProfile = ut.particle.SpeciesProfileClass(\n",
    "    limits=[0, 20], width=1, log_scale=False, dimension_number=3)"
   ],
   "outputs": [],
   "metadata": {}
  },
  {
   "cell_type": "code",
   "execution_count": 38,
   "source": [
    "# using this binning scheme, compute sum/histogram/density of mass of star particles in each bin\n",
    "# this returns a bunch of summed properties via a dictionary\n",
    "\n",
    "pro = SpeciesProfile.get_sum_profiles(part, 'star', 'mass')"
   ],
   "outputs": [
    {
     "output_type": "stream",
     "name": "stdout",
     "text": [
      "\n",
      "# in utilities.particle.SpeciesProfile():\n",
      "  input  3059250 distances -  2706223 (88.5%) are within limits = [0.000, 20.000]\n"
     ]
    }
   ],
   "metadata": {}
  },
  {
   "cell_type": "code",
   "execution_count": 40,
   "source": [
    "# you can supply a list of multiple species, and it will compute profiles for each\n",
    "# thus, get_sum_profiles() returns a dictionary for each species\n",
    "# 'baryon' is the sum total of stars + gas, 'total' is the sum total of all particle species\n",
    "\n",
    "pro.keys()"
   ],
   "outputs": [
    {
     "output_type": "execute_result",
     "data": {
      "text/plain": [
       "dict_keys(['star', 'baryon', 'total'])"
      ]
     },
     "metadata": {},
     "execution_count": 40
    }
   ],
   "metadata": {}
  },
  {
   "cell_type": "code",
   "execution_count": 41,
   "source": [
    "# the quantities that it stores in each bin\n",
    "\n",
    "pro['star'].keys()"
   ],
   "outputs": [
    {
     "output_type": "execute_result",
     "data": {
      "text/plain": [
       "dict_keys(['sum', 'sum.cum', 'log sum', 'log sum.cum', 'density', 'log density', 'density.cum', 'log density.cum', 'density*r', 'log density*r', 'density*r^2', 'log density*r^2', 'distance.mid', 'distance.cum', 'log distance.mid', 'log distance.cum', 'sum.fraction', 'sum.cum.fraction', 'vel.circ'])"
      ]
     },
     "metadata": {},
     "execution_count": 41
    }
   ],
   "metadata": {}
  },
  {
   "cell_type": "code",
   "execution_count": 42,
   "source": [
    "# alternately, you may want to compute profiles along a disk's cylindrical R or Z axes\n",
    "# if so, first define the dimensionality of the profile when you initiate the class\n",
    "\n",
    "# log binning from 0.1 to 10 kpc with 0.1 dex bin width, assuming a 2-D profile (along R)\n",
    "SpeciesProfile = ut.particle.SpeciesProfileClass(\n",
    "    limits=[0.1, 10], width=0.1, log_scale=True, dimension_number=2)"
   ],
   "outputs": [],
   "metadata": {}
  },
  {
   "cell_type": "code",
   "execution_count": 43,
   "source": [
    "# set rotation=True to force the code to compute profiles along the principal axes (assuming that you assign them during read in)\n",
    "# use other_axis_distance_limits to limit the extent along the other axis, \n",
    "#   in this case, limit the Z axis to within +/- 1 kpc (in the profile, all distances are absolute)\n",
    "\n",
    "pro = SpeciesProfile.get_sum_profiles(\n",
    "    part, 'star', 'mass', rotation=True, other_axis_distance_limits=[0, 1])"
   ],
   "outputs": [
    {
     "output_type": "stream",
     "name": "stdout",
     "text": [
      "\n",
      "# in utilities.particle.SpeciesProfile():\n",
      "  input  2097059 distances -  2064104 (98.4%) are within limits = [0.100, 10.000]\n"
     ]
    }
   ],
   "metadata": {}
  },
  {
   "cell_type": "code",
   "execution_count": 44,
   "source": [
    "# similarly, do this to compute profiles along disk's Z axis\n",
    "\n",
    "# log binning from 0.1 to 10 kpc with 0.1 dex bin width, assuming a 1-D profile (along Z)\n",
    "SpeciesProfile = ut.particle.SpeciesProfileClass(\n",
    "    limits=[0.1, 10], width=0.1, log_scale=True, dimension_number=1)\n",
    "\n",
    "# limit the R axex to [5, 8] kpc \n",
    "pro = SpeciesProfile.get_sum_profiles(\n",
    "    part, 'star', 'mass', rotation=True, other_axis_distance_limits=[5, 8])"
   ],
   "outputs": [
    {
     "output_type": "stream",
     "name": "stdout",
     "text": [
      "\n",
      "# in utilities.particle.SpeciesProfile():\n",
      "  input   293261 distances -   259655 (88.5%) are within limits = [0.100, 10.000]\n"
     ]
    }
   ],
   "metadata": {}
  },
  {
   "cell_type": "code",
   "execution_count": 45,
   "source": [
    "# get_statistics_profiles() computes various statistics of a property of star particles in each bin below, it weights the property by the mass of each star particle (generally what you should do)\n",
    "# this returns a bunch of useful statistics via a dictionary\n",
    "\n",
    "pro = SpeciesProfile.get_statistics_profiles(\n",
    "    part, 'star', 'age', weight_property='mass', rotation=True, other_axis_distance_limits=[5, 8])"
   ],
   "outputs": [
    {
     "output_type": "stream",
     "name": "stdout",
     "text": [
      "  input   293261 distances -   259655 (88.5%) are within limits = [0.100, 10.000]\n"
     ]
    }
   ],
   "metadata": {}
  },
  {
   "cell_type": "code",
   "execution_count": 46,
   "source": [
    "# the quantities that it stores in each bin\n",
    "\n",
    "pro['star'].keys()"
   ],
   "outputs": [
    {
     "output_type": "execute_result",
     "data": {
      "text/plain": [
       "dict_keys(['limits', 'number', 'median', 'percent.16', 'percent.84', 'percent.2', 'percent.98', 'percent.0.1', 'percent.99.9', 'percent.25', 'percent.75', 'percents.68', 'percents.95', 'median.dif.2', 'median.dif.16', 'median.dif.84', 'median.dif.98', 'median.difs.68', 'median.difs.95', 'average', 'std', 'sem', 'std.lo', 'std.hi', 'min', 'max', 'percent.50', 'average.50', 'sem.lo', 'sem.hi', 'distance.mid', 'distance.cum', 'log distance.mid', 'log distance.cum'])"
      ]
     },
     "metadata": {},
     "execution_count": 46
    }
   ],
   "metadata": {}
  },
  {
   "cell_type": "markdown",
   "source": [
    "# age-tracer model for assigning elemental abundances to particles in post-processing"
   ],
   "metadata": {}
  },
  {
   "cell_type": "markdown",
   "source": [
    "This section is a tutorial on using the age-tracer model to assign elemental abundaces to star and gas particles in FIRE-2 and FIRE-3 simulations. This requires that you are analyzing a simulation has has the age-tracer model enabled, via defining GALSF_FB_FIRE_AGE_TRACERS in Gizmo's Config.sh."
   ],
   "metadata": {}
  },
  {
   "cell_type": "code",
   "execution_count": 1,
   "source": [
    "import gizmo_analysis as gizmo\n",
    "import utilities as ut\n",
    "\n",
    "import numpy as np\n",
    "\n",
    "%matplotlib inline\n",
    "import matplotlib.pyplot as plt"
   ],
   "outputs": [],
   "metadata": {}
  },
  {
   "cell_type": "code",
   "execution_count": 2,
   "source": [
    "# use this is you are running from within a simulation directory\n",
    "#simulation_directory = '.'\n",
    "\n",
    "# use this to point to a specific simulation directory, if you run this notebook from somwhere else\n",
    "simulation_directory = '/Users/awetzel/work/research/simulation/gizmo/simulations/m12/m12i/m12i_res57000_uvb-late_agetracer-10'\n",
    "#simulation_directory = '/Users/awetzel/work/research/simulation/gizmo/simulations/m12/m12i/m12i_res57000_uvb-late_age-tracer-frequent'\n",
    "#simulation_directory = '/Users/awetzel/work/research/simulation/gizmo/simulations/m12/m12i/m12i_res7100_uvb-late_age-tracer'"
   ],
   "outputs": [],
   "metadata": {}
  },
  {
   "cell_type": "code",
   "execution_count": 119,
   "source": [
    "# read star particles at z = 0 from a simulation with age tracers enabled\n",
    "\n",
    "part = gizmo.io.Read.read_snapshots(['star', 'gas'], 'index', 600, assign_hosts_rotation=True, simulation_directory=simulation_directory)\n",
    "#part = gizmo.io.Read.read_snapshots(['star'], 'index', 267, simulation_directory=simulation_directory)"
   ],
   "outputs": [
    {
     "output_type": "stream",
     "name": "stdout",
     "text": [
      "\n",
      "# in utilities.simulation.Snapshot():\n",
      "* reading:  Users/awetzel/work/research/simulation/gizmo/simulations/m12/m12i/m12i_res57000_uvb-late_agetracer-10/snapshot_times.txt\n",
      "\n",
      "  using snapshot index = 600, redshift = 0.000\n",
      "\n",
      "\n",
      "# in gizmo_analysis.gizmo_io.Read():\n",
      "* reading header from:  Users/awetzel/work/research/simulation/gizmo/simulations/m12/m12i/m12i_res57000_uvb-late_agetracer-10/output/snapshot_600.hdf5\n",
      "  snapshot contains the following number of particles:\n",
      "    dark      (id = 1): 8820344 particles\n",
      "    dark2     (id = 2): 3081337 particles\n",
      "    gas       (id = 0): 5977292 particles\n",
      "    star      (id = 4): 3073099 particles\n",
      "    blackhole (id = 5): 0 particles\n",
      "\n",
      "* reading species: ['star', 'gas']\n",
      "* reading particles from:\n",
      "    Users/awetzel/work/research/simulation/gizmo/simulations/m12/m12i/m12i_res57000_uvb-late_agetracer-10/output/snapshot_600.hdf5\n",
      "\n",
      "* reading cosmological parameters from:  Users/awetzel/work/research/simulation/gizmo/simulations/m12/m12i/m12i_res57000_uvb-late_agetracer-10/initial_condition/ic_agora_m12i.conf\n",
      "\n",
      "* checking sanity of particle properties\n",
      "\n",
      "  cannot read file containing hosts coordinates\n",
      "  instead will assign hosts via iterative zoom on particle mass\n",
      "\n",
      "# in utilities.particle.get_center_positions():\n",
      "* assigning position for 1 center/host, via iterative zoom-in on star particle mass\n",
      "  host1 position = (41829.494, 44117.931, 46280.357) [kpc comoving]\n",
      "\n",
      "# in utilities.particle.get_center_velocities():\n",
      "* assigning velocity for 1 center/host, weighting star particles by mass\n",
      "  host1 velocity = (-54.5, 72.5, 95.9) [km / s]\n",
      "\n",
      "\n",
      "# in utilities.particle.get_principal_axes():\n",
      "* assigning rotation tensor for 1 host\n",
      "  using star particles at distance < 10.0 kpc\n",
      "  using distance < 6.1 kpc that encloses 90% of mass\n",
      "  using youngest 25% of star particles\n",
      "  host1: using star particles with age = [0.000, 5.124] Gyr\n",
      "  host1: axis ratios: min/maj = 0.139, min/med = 0.142, med/maj = 0.983\n",
      "\n"
     ]
    }
   ],
   "metadata": {}
  },
  {
   "cell_type": "code",
   "execution_count": 7,
   "source": [
    "# the simulation has age tracers if the following flag is True\n",
    "\n",
    "part.info['has.agetracer']"
   ],
   "outputs": [
    {
     "output_type": "execute_result",
     "data": {
      "text/plain": [
       "True"
      ]
     },
     "metadata": {},
     "execution_count": 7
    }
   ],
   "metadata": {}
  },
  {
   "cell_type": "code",
   "execution_count": 8,
   "source": [
    "# additional information about the age-tracer model used in the simulation\n",
    "\n",
    "# number of age bins in the age-tracer model\n",
    "print('number of age bins = {}'.format(part.info['agetracer.age.bin.number']))\n",
    "\n",
    "# if age-tracer model used bins equally spaced in log age (which is the default), the min and max age of these bins [Myr] (though GizmoAnalysis will over-ride the age min to be 0)\n",
    "if 'agetracer.age.min' in part.info:\n",
    "    print('age min,max = {}, {} Myr'.format(part.info['agetracer.age.min'], part.info['agetracer.age.max']))\n",
    "\n",
    "# alternately, if the simulation used custom age bins, this lists them\n",
    "if 'agetracer.age.bins' in part.info:\n",
    "    print('age bins = {}'.format(part.info['agetracer.age.bins']))\n",
    "\n",
    "# targeted number of age-tracer injection events per age bin\n",
    "# if <= 0, this means Gizmo deposited weights at each timestep\n",
    "print('targeted number of events per age bins = {}'.format(part.info['agetracer.event.number.per.age.bin']))"
   ],
   "outputs": [
    {
     "output_type": "stream",
     "name": "stdout",
     "text": [
      "number of age bins = 16\n",
      "age min,max = 1.0, 14000.0 Myr\n",
      "targeted number of events per age bins = 10.0\n"
     ]
    }
   ],
   "metadata": {}
  },
  {
   "cell_type": "code",
   "execution_count": 108,
   "source": [
    "# if a simulation has age tracers enabled, read_snapshots() automatically sets up the nucleosynthetic yields for computing elementa abundances in the FIRE-2 model and assigns the class to the each species' particle dictionary\n",
    "\n",
    "# here we explicitly work though these steps for star particles. this works identically for gas particles\n",
    "\n",
    "#species_name = 'star'\n",
    "species_name = 'gas'"
   ],
   "outputs": [],
   "metadata": {}
  },
  {
   "cell_type": "code",
   "execution_count": 110,
   "source": [
    "# create and append an age-tracer dictionary class to particle species catalog\n",
    "# this stores all age-tracer information and provides the methods to compute elemental abundances (mass fractions) for each particle from the age-tracer mass weights\n",
    "\n",
    "# pass in the snapshot header information, stored via part.info, which contains the age-tracer bin information, to set up the age bins\n",
    "part[species_name].ElementAgeTracer = gizmo.agetracer.ElementAgeTracerClass(part.info)\n",
    "\n",
    "# test of older simulations\n",
    "#element_index_start = 15\n",
    "#part[species_name].ElementAgeTracer = gizmo.agetracer.ElementAgeTracerClass#(element_index_start=element_index_start)\n",
    "#part[species_name].ElementAgeTracer.assign_age_bins(age_bin_number=16, age_min=1, age_max=14000)\n",
    "#part[species_name]['massfraction'][:, element_index_start:] *= part.Cosmology['hubble'] / 1e10"
   ],
   "outputs": [],
   "metadata": {}
  },
  {
   "cell_type": "code",
   "execution_count": 111,
   "source": [
    "# set the initial conditions for elemental abundances, that is, the initial mass fraction of each element.\n",
    "# this is not strictly necessary, the initial massfractions will default to 0 if you do not do this.\n",
    "# but this step can be useful if you want to be consistent with the metallicity floor (mass fraction = 1e-4 or 1e-5) used in many FIRE-2 simulations.\n",
    "\n",
    "# you can supply a single float to apply to all abundances (this is the default),\n",
    "# or you can supply a dictionary with element names as keys and values as initial mass fractions, if you want to use a different initial abundance for each element\n",
    "\n",
    "metallicity_initial = 1e-5\n",
    "massfraction_initial = {}\n",
    "for element_name in FIREYield.NucleosyntheticYield.sun_massfraction:\n",
    "    massfraction_initial[element_name] = (\n",
    "       metallicity_initial * FIREYield.NucleosyntheticYield.sun_massfraction[element_name])\n",
    "part[species_name].ElementAgeTracer.assign_element_massfraction_initial(massfraction_initial)"
   ],
   "outputs": [
    {
     "output_type": "error",
     "ename": "AssertionError",
     "evalue": "",
     "traceback": [
      "\u001b[0;31m---------------------------------------------------------------------------\u001b[0m",
      "\u001b[0;31mAssertionError\u001b[0m                            Traceback (most recent call last)",
      "\u001b[0;32m<ipython-input-111-8844b7ad0e70>\u001b[0m in \u001b[0;36m<module>\u001b[0;34m\u001b[0m\n\u001b[1;32m     11\u001b[0m     massfraction_initial[element_name] = (\n\u001b[1;32m     12\u001b[0m        metallicity_initial * FIREYield.NucleosyntheticYield.sun_massfraction[element_name])\n\u001b[0;32m---> 13\u001b[0;31m \u001b[0mpart\u001b[0m\u001b[0;34m[\u001b[0m\u001b[0mspecies_name\u001b[0m\u001b[0;34m]\u001b[0m\u001b[0;34m.\u001b[0m\u001b[0mElementAgeTracer\u001b[0m\u001b[0;34m.\u001b[0m\u001b[0massign_element_massfraction_initial\u001b[0m\u001b[0;34m(\u001b[0m\u001b[0mmassfraction_initial\u001b[0m\u001b[0;34m)\u001b[0m\u001b[0;34m\u001b[0m\u001b[0;34m\u001b[0m\u001b[0m\n\u001b[0m",
      "\u001b[0;32m~/work/research/analysis/gizmo_analysis/gizmo_agetracer.py\u001b[0m in \u001b[0;36massign_element_massfraction_initial\u001b[0;34m(self, massfraction_initial_dict)\u001b[0m\n\u001b[1;32m    253\u001b[0m         '''\n\u001b[1;32m    254\u001b[0m         \u001b[0;32mif\u001b[0m \u001b[0misinstance\u001b[0m\u001b[0;34m(\u001b[0m\u001b[0mmassfraction_initial_dict\u001b[0m\u001b[0;34m,\u001b[0m \u001b[0mdict\u001b[0m\u001b[0;34m)\u001b[0m \u001b[0;32mand\u001b[0m \u001b[0mlen\u001b[0m\u001b[0;34m(\u001b[0m\u001b[0mmassfraction_initial_dict\u001b[0m\u001b[0;34m)\u001b[0m \u001b[0;34m>\u001b[0m \u001b[0;36m0\u001b[0m\u001b[0;34m:\u001b[0m\u001b[0;34m\u001b[0m\u001b[0;34m\u001b[0m\u001b[0m\n\u001b[0;32m--> 255\u001b[0;31m             \u001b[0;32massert\u001b[0m \u001b[0mself\u001b[0m\u001b[0;34m[\u001b[0m\u001b[0;34m'yields'\u001b[0m\u001b[0;34m]\u001b[0m \u001b[0;32mis\u001b[0m \u001b[0;32mnot\u001b[0m \u001b[0;32mNone\u001b[0m \u001b[0;32mand\u001b[0m \u001b[0mlen\u001b[0m\u001b[0;34m(\u001b[0m\u001b[0mself\u001b[0m\u001b[0;34m[\u001b[0m\u001b[0;34m'yields'\u001b[0m\u001b[0;34m]\u001b[0m\u001b[0;34m)\u001b[0m \u001b[0;34m>\u001b[0m \u001b[0;36m0\u001b[0m\u001b[0;34m\u001b[0m\u001b[0;34m\u001b[0m\u001b[0m\n\u001b[0m\u001b[1;32m    256\u001b[0m             \u001b[0;31m# initialize to 0 for all elements in model, then over-write with elements in input dict\u001b[0m\u001b[0;34m\u001b[0m\u001b[0;34m\u001b[0m\u001b[0;34m\u001b[0m\u001b[0m\n\u001b[1;32m    257\u001b[0m             \u001b[0mself\u001b[0m\u001b[0;34m[\u001b[0m\u001b[0;34m'massfraction.initial'\u001b[0m\u001b[0;34m]\u001b[0m \u001b[0;34m=\u001b[0m \u001b[0;34m{\u001b[0m\u001b[0;34m}\u001b[0m\u001b[0;34m\u001b[0m\u001b[0;34m\u001b[0m\u001b[0m\n",
      "\u001b[0;31mAssertionError\u001b[0m: "
     ]
    }
   ],
   "metadata": {}
  },
  {
   "cell_type": "code",
   "execution_count": 123,
   "source": [
    "# up to now we have not set or assumed any stellar nucleosynthetic rate or yield model, so the information in ElementAgeTracer is completely general\n",
    "\n",
    "# next we need to assume actual nucleosynthetic rates + yields for a given stellar evolution model, to supply to ElementAgeTracer, to generate actual nucleosynthetic yields from the age-tracer weights.\n",
    "# see gizmo_agetracer.py for examples in setting up the required yield class, which should contain a rate + yield model for each element.\n",
    "\n",
    "# here we use the default stellar evolution model in FIRE-2, assuming a default progenitor metallicity of 1.0 x Solar\n",
    "FIREYield = gizmo.agetracer.FIREYieldClass('fire2', progenitor_metallicity=1.0)"
   ],
   "outputs": [],
   "metadata": {}
  },
  {
   "cell_type": "code",
   "execution_count": 124,
   "source": [
    "# next we generate a nucleosynthetic yield table, by integrating this nucleosynthetic yield model within each age-tracer age bin, to discretize/average these nucleosynthetic yields within the age-tracer  age bins.\n",
    "# so, we neet to supply the age bins used in the age-tracer model.\n",
    "# these yields should be in a dictionary, with element names as keys, and an array of yields within each age bin as values.\n",
    "\n",
    "yield_dict = FIREYield.get_element_yields(part[species_name].ElementAgeTracer['age.bins'])"
   ],
   "outputs": [],
   "metadata": {}
  },
  {
   "cell_type": "code",
   "execution_count": 125,
   "source": [
    "# finally, transfer this yield dictionary to store in ElementAgeTracer.\n",
    "# this stores the dictionary keys as both the element name and the element symbol, for convenience in calling later.\n",
    "\n",
    "part[species_name].ElementAgeTracer.assign_element_yields(yield_dict)"
   ],
   "outputs": [],
   "metadata": {}
  },
  {
   "cell_type": "code",
   "execution_count": 126,
   "source": [
    "# now you can use .prop() to call the age-tracer elemental mass fractions as derived quantities,\n",
    "# you just need to append '.agetracer' to the property name.\n",
    "# under the hood, this uses ElementAgeTracer.get_element_massfractions() to compute the element mass fractions from the age-tracer weights convolved with the nucleosynthetic yield model, adding in the initial abundances (if you set them).\n",
    "\n",
    "# mass fraction of iron for each particle, as tracked natively in the simulation\n",
    "print(part[species_name].prop('massfraction.fe'))\n",
    "\n",
    "# mass fraction of iron for each particle, as computed via post-processing the age-tracer weights\n",
    "print(part[species_name].prop('massfraction.agetracer.fe'))\n",
    "\n",
    "# 'metallicity' (wrt Solar, as in Asplund et al 2009) of iron for each particle, as tracked natively in the simulation\n",
    "print(part[species_name].prop('metallicity.fe'))\n",
    "\n",
    "# 'metallicity' of iron for each particle, as computed via post-processing the age-tracer weights\n",
    "print(part[species_name].prop('metallicity.agetracer.fe'))"
   ],
   "outputs": [
    {
     "output_type": "stream",
     "name": "stdout",
     "text": [
      "[1.0842199e-05 1.4858533e-05 1.3801392e-05 ... 1.8220800e-07 1.6891342e-07\n",
      " 4.8730818e-08]\n",
      "[1.25257735e-05 1.72652053e-05 1.68725160e-05 ... 1.30348049e-07\n",
      " 1.62408865e-07 3.88937736e-08]\n",
      "[-2.0765216 -1.939663  -1.971716  ... -3.8510716 -3.8839748 -4.4238353]\n",
      "[-2.01383441 -1.87446722 -1.88445912 ... -3.99653443 -3.90102924\n",
      " -4.52175889]\n"
     ]
    }
   ],
   "metadata": {}
  },
  {
   "cell_type": "code",
   "execution_count": 127,
   "source": [
    "#gal = ut.particle.get_galaxy_properties(part, axis_kind='both')\n",
    "\n",
    "dists = part[species_name].prop('host.distance.principal.cyl')\n",
    "pis = None\n",
    "pis = ut.array.get_indices(dists[:, 0], [0, 15], pis)\n",
    "pis = ut.array.get_indices(dists[:, 2], [-3, 3], pis)"
   ],
   "outputs": [],
   "metadata": {}
  },
  {
   "cell_type": "code",
   "execution_count": 128,
   "source": [
    "# plot the results\n",
    "element_name = 'fe'\n",
    "\n",
    "from utilities.basic.binning import BinClass\n",
    "\n",
    "metallicity_limits = [-1.0, 1.0]\n",
    "Bin = BinClass(metallicity_limits, width=0.01)\n",
    "\n",
    "metallicity_sim = part[species_name].prop('metallicity.' + element_name, pis)\n",
    "metallicity_agetracer = part[species_name].prop('metallicity.agetracer.' + element_name, pis).clip(-5, 10)\n",
    "\n",
    "masks = (metallicity_agetracer > -5) * (metallicity_sim > -5)\n",
    "\n",
    "distr_sim = Bin.get_distribution(metallicity_sim[masks])\n",
    "distr_agetracer = Bin.get_distribution(metallicity_agetracer[masks])\n",
    "\n",
    "fig, ax = plt.subplots()\n",
    "fig.set_size_inches(6, 4)\n",
    "\n",
    "# plot the native abundances, computed directly in the simulation\n",
    "ax.plot(distr_sim['bin'], distr_sim['sum'], lw=3, color='black', label='simulation')\n",
    "\n",
    "# plot the post-processed abundances, from the age-tracer weights\n",
    "ax.plot(distr_agetracer['bin'], distr_agetracer['sum'], lw=3, color='C0', label='age-tracer')\n",
    "\n",
    "ax.legend(loc='best')\n",
    "ax.set_ylim(0, None)\n",
    "ax.set_xlim(metallicity_limits[0], metallicity_limits[1])\n",
    "ax.set_xlabel('[Fe/H]')\n",
    "\n",
    "#ut.math.print_statistics(metallicity_sim)\n",
    "\n",
    "#ut.math.print_statistics(metallicity_agetracer)\n",
    "\n",
    "difs = metallicity_agetracer - metallicity_sim\n",
    "\n",
    "ut.math.print_statistics(difs)"
   ],
   "outputs": [
    {
     "output_type": "stream",
     "name": "stdout",
     "text": [
      "\n",
      "# in utilities.basic.statistic.Statistic():\n",
      "  number = 34215\n",
      "\n",
      "  min = -0.226\n",
      "  max = 0.209\n",
      "\n",
      "  median = -0.005\n",
      "  average = -0.006\n",
      "\n",
      "  std = 0.014\n",
      "\n",
      "  percent.0.1 = -0.085\n",
      "  percent.2 = -0.038\n",
      "  percent.16 = -0.010\n",
      "  percent.50 = -0.005\n",
      "  percent.84 = -0.001\n",
      "  percent.98 = 0.021\n",
      "  percent.99.9 = 0.095\n"
     ]
    },
    {
     "output_type": "display_data",
     "data": {
      "text/plain": [
       "<Figure size 432x288 with 1 Axes>"
      ],
      "image/svg+xml": "<?xml version=\"1.0\" encoding=\"utf-8\" standalone=\"no\"?>\n<!DOCTYPE svg PUBLIC \"-//W3C//DTD SVG 1.1//EN\"\n  \"http://www.w3.org/Graphics/SVG/1.1/DTD/svg11.dtd\">\n<!-- Created with matplotlib (https://matplotlib.org/) -->\n<svg height=\"296.611875pt\" version=\"1.1\" viewBox=\"0 0 392.462812 296.611875\" width=\"392.462812pt\" xmlns=\"http://www.w3.org/2000/svg\" xmlns:xlink=\"http://www.w3.org/1999/xlink\">\n <metadata>\n  <rdf:RDF xmlns:cc=\"http://creativecommons.org/ns#\" xmlns:dc=\"http://purl.org/dc/elements/1.1/\" xmlns:rdf=\"http://www.w3.org/1999/02/22-rdf-syntax-ns#\">\n   <cc:Work>\n    <dc:type rdf:resource=\"http://purl.org/dc/dcmitype/StillImage\"/>\n    <dc:date>2021-01-21T16:53:26.528658</dc:date>\n    <dc:format>image/svg+xml</dc:format>\n    <dc:creator>\n     <cc:Agent>\n      <dc:title>Matplotlib v3.3.2, https://matplotlib.org/</dc:title>\n     </cc:Agent>\n    </dc:creator>\n   </cc:Work>\n  </rdf:RDF>\n </metadata>\n <defs>\n  <style type=\"text/css\">*{stroke-linecap:butt;stroke-linejoin:round;}</style>\n </defs>\n <g id=\"figure_1\">\n  <g id=\"patch_1\">\n   <path d=\"M 0 296.611875 \nL 392.462812 296.611875 \nL 392.462812 0 \nL 0 0 \nz\n\" style=\"fill:none;\"/>\n  </g>\n  <g id=\"axes_1\">\n   <g id=\"patch_2\">\n    <path d=\"M 43.65 256.12 \nL 374.13 256.12 \nL 374.13 14.2 \nL 43.65 14.2 \nz\n\" style=\"fill:#ffffff;\"/>\n   </g>\n   <g id=\"matplotlib.axis_1\">\n    <g id=\"xtick_1\">\n     <g id=\"line2d_1\">\n      <defs>\n       <path d=\"M 0 0 \nL 0 7 \n\" id=\"m33161b7c30\" style=\"stroke:#000000;stroke-width:1.2;\"/>\n      </defs>\n      <g>\n       <use style=\"stroke:#000000;stroke-width:1.2;\" x=\"43.65\" xlink:href=\"#m33161b7c30\" y=\"256.12\"/>\n      </g>\n     </g>\n     <g id=\"line2d_2\">\n      <defs>\n       <path d=\"M 0 0 \nL 0 -7 \n\" id=\"m4949b3b9c9\" style=\"stroke:#000000;stroke-width:1.2;\"/>\n      </defs>\n      <g>\n       <use style=\"stroke:#000000;stroke-width:1.2;\" x=\"43.65\" xlink:href=\"#m4949b3b9c9\" y=\"14.2\"/>\n      </g>\n     </g>\n     <g id=\"text_1\">\n      <!-- −1.00 -->\n      <g transform=\"translate(28.327344 273.718438)scale(0.1 -0.1)\">\n       <defs>\n        <path d=\"M 10.59375 35.5 \nL 73.1875 35.5 \nL 73.1875 27.203125 \nL 10.59375 27.203125 \nz\n\" id=\"DejaVuSans-8722\"/>\n        <path d=\"M 12.40625 8.296875 \nL 28.515625 8.296875 \nL 28.515625 63.921875 \nL 10.984375 60.40625 \nL 10.984375 69.390625 \nL 28.421875 72.90625 \nL 38.28125 72.90625 \nL 38.28125 8.296875 \nL 54.390625 8.296875 \nL 54.390625 0 \nL 12.40625 0 \nz\n\" id=\"DejaVuSans-49\"/>\n        <path d=\"M 10.6875 12.40625 \nL 21 12.40625 \nL 21 0 \nL 10.6875 0 \nz\n\" id=\"DejaVuSans-46\"/>\n        <path d=\"M 31.78125 66.40625 \nQ 24.171875 66.40625 20.328125 58.90625 \nQ 16.5 51.421875 16.5 36.375 \nQ 16.5 21.390625 20.328125 13.890625 \nQ 24.171875 6.390625 31.78125 6.390625 \nQ 39.453125 6.390625 43.28125 13.890625 \nQ 47.125 21.390625 47.125 36.375 \nQ 47.125 51.421875 43.28125 58.90625 \nQ 39.453125 66.40625 31.78125 66.40625 \nz\nM 31.78125 74.21875 \nQ 44.046875 74.21875 50.515625 64.515625 \nQ 56.984375 54.828125 56.984375 36.375 \nQ 56.984375 17.96875 50.515625 8.265625 \nQ 44.046875 -1.421875 31.78125 -1.421875 \nQ 19.53125 -1.421875 13.0625 8.265625 \nQ 6.59375 17.96875 6.59375 36.375 \nQ 6.59375 54.828125 13.0625 64.515625 \nQ 19.53125 74.21875 31.78125 74.21875 \nz\n\" id=\"DejaVuSans-48\"/>\n       </defs>\n       <use xlink:href=\"#DejaVuSans-8722\"/>\n       <use x=\"83.789062\" xlink:href=\"#DejaVuSans-49\"/>\n       <use x=\"147.412109\" xlink:href=\"#DejaVuSans-46\"/>\n       <use x=\"179.199219\" xlink:href=\"#DejaVuSans-48\"/>\n       <use x=\"242.822266\" xlink:href=\"#DejaVuSans-48\"/>\n      </g>\n     </g>\n    </g>\n    <g id=\"xtick_2\">\n     <g id=\"line2d_3\">\n      <g>\n       <use style=\"stroke:#000000;stroke-width:1.2;\" x=\"84.96\" xlink:href=\"#m33161b7c30\" y=\"256.12\"/>\n      </g>\n     </g>\n     <g id=\"line2d_4\">\n      <g>\n       <use style=\"stroke:#000000;stroke-width:1.2;\" x=\"84.96\" xlink:href=\"#m4949b3b9c9\" y=\"14.2\"/>\n      </g>\n     </g>\n     <g id=\"text_2\">\n      <!-- −0.75 -->\n      <g transform=\"translate(69.637344 273.718438)scale(0.1 -0.1)\">\n       <defs>\n        <path d=\"M 8.203125 72.90625 \nL 55.078125 72.90625 \nL 55.078125 68.703125 \nL 28.609375 0 \nL 18.3125 0 \nL 43.21875 64.59375 \nL 8.203125 64.59375 \nz\n\" id=\"DejaVuSans-55\"/>\n        <path d=\"M 10.796875 72.90625 \nL 49.515625 72.90625 \nL 49.515625 64.59375 \nL 19.828125 64.59375 \nL 19.828125 46.734375 \nQ 21.96875 47.46875 24.109375 47.828125 \nQ 26.265625 48.1875 28.421875 48.1875 \nQ 40.625 48.1875 47.75 41.5 \nQ 54.890625 34.8125 54.890625 23.390625 \nQ 54.890625 11.625 47.5625 5.09375 \nQ 40.234375 -1.421875 26.90625 -1.421875 \nQ 22.3125 -1.421875 17.546875 -0.640625 \nQ 12.796875 0.140625 7.71875 1.703125 \nL 7.71875 11.625 \nQ 12.109375 9.234375 16.796875 8.0625 \nQ 21.484375 6.890625 26.703125 6.890625 \nQ 35.15625 6.890625 40.078125 11.328125 \nQ 45.015625 15.765625 45.015625 23.390625 \nQ 45.015625 31 40.078125 35.4375 \nQ 35.15625 39.890625 26.703125 39.890625 \nQ 22.75 39.890625 18.8125 39.015625 \nQ 14.890625 38.140625 10.796875 36.28125 \nz\n\" id=\"DejaVuSans-53\"/>\n       </defs>\n       <use xlink:href=\"#DejaVuSans-8722\"/>\n       <use x=\"83.789062\" xlink:href=\"#DejaVuSans-48\"/>\n       <use x=\"147.412109\" xlink:href=\"#DejaVuSans-46\"/>\n       <use x=\"179.199219\" xlink:href=\"#DejaVuSans-55\"/>\n       <use x=\"242.822266\" xlink:href=\"#DejaVuSans-53\"/>\n      </g>\n     </g>\n    </g>\n    <g id=\"xtick_3\">\n     <g id=\"line2d_5\">\n      <g>\n       <use style=\"stroke:#000000;stroke-width:1.2;\" x=\"126.27\" xlink:href=\"#m33161b7c30\" y=\"256.12\"/>\n      </g>\n     </g>\n     <g id=\"line2d_6\">\n      <g>\n       <use style=\"stroke:#000000;stroke-width:1.2;\" x=\"126.27\" xlink:href=\"#m4949b3b9c9\" y=\"14.2\"/>\n      </g>\n     </g>\n     <g id=\"text_3\">\n      <!-- −0.50 -->\n      <g transform=\"translate(110.947344 273.718438)scale(0.1 -0.1)\">\n       <use xlink:href=\"#DejaVuSans-8722\"/>\n       <use x=\"83.789062\" xlink:href=\"#DejaVuSans-48\"/>\n       <use x=\"147.412109\" xlink:href=\"#DejaVuSans-46\"/>\n       <use x=\"179.199219\" xlink:href=\"#DejaVuSans-53\"/>\n       <use x=\"242.822266\" xlink:href=\"#DejaVuSans-48\"/>\n      </g>\n     </g>\n    </g>\n    <g id=\"xtick_4\">\n     <g id=\"line2d_7\">\n      <g>\n       <use style=\"stroke:#000000;stroke-width:1.2;\" x=\"167.58\" xlink:href=\"#m33161b7c30\" y=\"256.12\"/>\n      </g>\n     </g>\n     <g id=\"line2d_8\">\n      <g>\n       <use style=\"stroke:#000000;stroke-width:1.2;\" x=\"167.58\" xlink:href=\"#m4949b3b9c9\" y=\"14.2\"/>\n      </g>\n     </g>\n     <g id=\"text_4\">\n      <!-- −0.25 -->\n      <g transform=\"translate(152.257344 273.718438)scale(0.1 -0.1)\">\n       <defs>\n        <path d=\"M 19.1875 8.296875 \nL 53.609375 8.296875 \nL 53.609375 0 \nL 7.328125 0 \nL 7.328125 8.296875 \nQ 12.9375 14.109375 22.625 23.890625 \nQ 32.328125 33.6875 34.8125 36.53125 \nQ 39.546875 41.84375 41.421875 45.53125 \nQ 43.3125 49.21875 43.3125 52.78125 \nQ 43.3125 58.59375 39.234375 62.25 \nQ 35.15625 65.921875 28.609375 65.921875 \nQ 23.96875 65.921875 18.8125 64.3125 \nQ 13.671875 62.703125 7.8125 59.421875 \nL 7.8125 69.390625 \nQ 13.765625 71.78125 18.9375 73 \nQ 24.125 74.21875 28.421875 74.21875 \nQ 39.75 74.21875 46.484375 68.546875 \nQ 53.21875 62.890625 53.21875 53.421875 \nQ 53.21875 48.921875 51.53125 44.890625 \nQ 49.859375 40.875 45.40625 35.40625 \nQ 44.1875 33.984375 37.640625 27.21875 \nQ 31.109375 20.453125 19.1875 8.296875 \nz\n\" id=\"DejaVuSans-50\"/>\n       </defs>\n       <use xlink:href=\"#DejaVuSans-8722\"/>\n       <use x=\"83.789062\" xlink:href=\"#DejaVuSans-48\"/>\n       <use x=\"147.412109\" xlink:href=\"#DejaVuSans-46\"/>\n       <use x=\"179.199219\" xlink:href=\"#DejaVuSans-50\"/>\n       <use x=\"242.822266\" xlink:href=\"#DejaVuSans-53\"/>\n      </g>\n     </g>\n    </g>\n    <g id=\"xtick_5\">\n     <g id=\"line2d_9\">\n      <g>\n       <use style=\"stroke:#000000;stroke-width:1.2;\" x=\"208.89\" xlink:href=\"#m33161b7c30\" y=\"256.12\"/>\n      </g>\n     </g>\n     <g id=\"line2d_10\">\n      <g>\n       <use style=\"stroke:#000000;stroke-width:1.2;\" x=\"208.89\" xlink:href=\"#m4949b3b9c9\" y=\"14.2\"/>\n      </g>\n     </g>\n     <g id=\"text_5\">\n      <!-- 0.00 -->\n      <g transform=\"translate(197.757187 273.718438)scale(0.1 -0.1)\">\n       <use xlink:href=\"#DejaVuSans-48\"/>\n       <use x=\"63.623047\" xlink:href=\"#DejaVuSans-46\"/>\n       <use x=\"95.410156\" xlink:href=\"#DejaVuSans-48\"/>\n       <use x=\"159.033203\" xlink:href=\"#DejaVuSans-48\"/>\n      </g>\n     </g>\n    </g>\n    <g id=\"xtick_6\">\n     <g id=\"line2d_11\">\n      <g>\n       <use style=\"stroke:#000000;stroke-width:1.2;\" x=\"250.2\" xlink:href=\"#m33161b7c30\" y=\"256.12\"/>\n      </g>\n     </g>\n     <g id=\"line2d_12\">\n      <g>\n       <use style=\"stroke:#000000;stroke-width:1.2;\" x=\"250.2\" xlink:href=\"#m4949b3b9c9\" y=\"14.2\"/>\n      </g>\n     </g>\n     <g id=\"text_6\">\n      <!-- 0.25 -->\n      <g transform=\"translate(239.067187 273.718438)scale(0.1 -0.1)\">\n       <use xlink:href=\"#DejaVuSans-48\"/>\n       <use x=\"63.623047\" xlink:href=\"#DejaVuSans-46\"/>\n       <use x=\"95.410156\" xlink:href=\"#DejaVuSans-50\"/>\n       <use x=\"159.033203\" xlink:href=\"#DejaVuSans-53\"/>\n      </g>\n     </g>\n    </g>\n    <g id=\"xtick_7\">\n     <g id=\"line2d_13\">\n      <g>\n       <use style=\"stroke:#000000;stroke-width:1.2;\" x=\"291.51\" xlink:href=\"#m33161b7c30\" y=\"256.12\"/>\n      </g>\n     </g>\n     <g id=\"line2d_14\">\n      <g>\n       <use style=\"stroke:#000000;stroke-width:1.2;\" x=\"291.51\" xlink:href=\"#m4949b3b9c9\" y=\"14.2\"/>\n      </g>\n     </g>\n     <g id=\"text_7\">\n      <!-- 0.50 -->\n      <g transform=\"translate(280.377187 273.718438)scale(0.1 -0.1)\">\n       <use xlink:href=\"#DejaVuSans-48\"/>\n       <use x=\"63.623047\" xlink:href=\"#DejaVuSans-46\"/>\n       <use x=\"95.410156\" xlink:href=\"#DejaVuSans-53\"/>\n       <use x=\"159.033203\" xlink:href=\"#DejaVuSans-48\"/>\n      </g>\n     </g>\n    </g>\n    <g id=\"xtick_8\">\n     <g id=\"line2d_15\">\n      <g>\n       <use style=\"stroke:#000000;stroke-width:1.2;\" x=\"332.82\" xlink:href=\"#m33161b7c30\" y=\"256.12\"/>\n      </g>\n     </g>\n     <g id=\"line2d_16\">\n      <g>\n       <use style=\"stroke:#000000;stroke-width:1.2;\" x=\"332.82\" xlink:href=\"#m4949b3b9c9\" y=\"14.2\"/>\n      </g>\n     </g>\n     <g id=\"text_8\">\n      <!-- 0.75 -->\n      <g transform=\"translate(321.687187 273.718438)scale(0.1 -0.1)\">\n       <use xlink:href=\"#DejaVuSans-48\"/>\n       <use x=\"63.623047\" xlink:href=\"#DejaVuSans-46\"/>\n       <use x=\"95.410156\" xlink:href=\"#DejaVuSans-55\"/>\n       <use x=\"159.033203\" xlink:href=\"#DejaVuSans-53\"/>\n      </g>\n     </g>\n    </g>\n    <g id=\"xtick_9\">\n     <g id=\"line2d_17\">\n      <g>\n       <use style=\"stroke:#000000;stroke-width:1.2;\" x=\"374.13\" xlink:href=\"#m33161b7c30\" y=\"256.12\"/>\n      </g>\n     </g>\n     <g id=\"line2d_18\">\n      <g>\n       <use style=\"stroke:#000000;stroke-width:1.2;\" x=\"374.13\" xlink:href=\"#m4949b3b9c9\" y=\"14.2\"/>\n      </g>\n     </g>\n     <g id=\"text_9\">\n      <!-- 1.00 -->\n      <g transform=\"translate(362.997187 273.718438)scale(0.1 -0.1)\">\n       <use xlink:href=\"#DejaVuSans-49\"/>\n       <use x=\"63.623047\" xlink:href=\"#DejaVuSans-46\"/>\n       <use x=\"95.410156\" xlink:href=\"#DejaVuSans-48\"/>\n       <use x=\"159.033203\" xlink:href=\"#DejaVuSans-48\"/>\n      </g>\n     </g>\n    </g>\n    <g id=\"text_10\">\n     <!-- [Fe/H] -->\n     <g transform=\"translate(190.861875 286.91625)scale(0.12 -0.12)\">\n      <defs>\n       <path d=\"M 8.59375 75.984375 \nL 29.296875 75.984375 \nL 29.296875 69 \nL 17.578125 69 \nL 17.578125 -6.203125 \nL 29.296875 -6.203125 \nL 29.296875 -13.1875 \nL 8.59375 -13.1875 \nz\n\" id=\"DejaVuSans-91\"/>\n       <path d=\"M 9.8125 72.90625 \nL 51.703125 72.90625 \nL 51.703125 64.59375 \nL 19.671875 64.59375 \nL 19.671875 43.109375 \nL 48.578125 43.109375 \nL 48.578125 34.8125 \nL 19.671875 34.8125 \nL 19.671875 0 \nL 9.8125 0 \nz\n\" id=\"DejaVuSans-70\"/>\n       <path d=\"M 56.203125 29.59375 \nL 56.203125 25.203125 \nL 14.890625 25.203125 \nQ 15.484375 15.921875 20.484375 11.0625 \nQ 25.484375 6.203125 34.421875 6.203125 \nQ 39.59375 6.203125 44.453125 7.46875 \nQ 49.3125 8.734375 54.109375 11.28125 \nL 54.109375 2.78125 \nQ 49.265625 0.734375 44.1875 -0.34375 \nQ 39.109375 -1.421875 33.890625 -1.421875 \nQ 20.796875 -1.421875 13.15625 6.1875 \nQ 5.515625 13.8125 5.515625 26.8125 \nQ 5.515625 40.234375 12.765625 48.109375 \nQ 20.015625 56 32.328125 56 \nQ 43.359375 56 49.78125 48.890625 \nQ 56.203125 41.796875 56.203125 29.59375 \nz\nM 47.21875 32.234375 \nQ 47.125 39.59375 43.09375 43.984375 \nQ 39.0625 48.390625 32.421875 48.390625 \nQ 24.90625 48.390625 20.390625 44.140625 \nQ 15.875 39.890625 15.1875 32.171875 \nz\n\" id=\"DejaVuSans-101\"/>\n       <path d=\"M 25.390625 72.90625 \nL 33.6875 72.90625 \nL 8.296875 -9.28125 \nL 0 -9.28125 \nz\n\" id=\"DejaVuSans-47\"/>\n       <path d=\"M 9.8125 72.90625 \nL 19.671875 72.90625 \nL 19.671875 43.015625 \nL 55.515625 43.015625 \nL 55.515625 72.90625 \nL 65.375 72.90625 \nL 65.375 0 \nL 55.515625 0 \nL 55.515625 34.71875 \nL 19.671875 34.71875 \nL 19.671875 0 \nL 9.8125 0 \nz\n\" id=\"DejaVuSans-72\"/>\n       <path d=\"M 30.421875 75.984375 \nL 30.421875 -13.1875 \nL 9.71875 -13.1875 \nL 9.71875 -6.203125 \nL 21.390625 -6.203125 \nL 21.390625 69 \nL 9.71875 69 \nL 9.71875 75.984375 \nz\n\" id=\"DejaVuSans-93\"/>\n      </defs>\n      <use xlink:href=\"#DejaVuSans-91\"/>\n      <use x=\"39.013672\" xlink:href=\"#DejaVuSans-70\"/>\n      <use x=\"91.033203\" xlink:href=\"#DejaVuSans-101\"/>\n      <use x=\"152.556641\" xlink:href=\"#DejaVuSans-47\"/>\n      <use x=\"186.248047\" xlink:href=\"#DejaVuSans-72\"/>\n      <use x=\"261.443359\" xlink:href=\"#DejaVuSans-93\"/>\n     </g>\n    </g>\n   </g>\n   <g id=\"matplotlib.axis_2\">\n    <g id=\"ytick_1\">\n     <g id=\"line2d_19\">\n      <defs>\n       <path d=\"M 0 0 \nL -7 0 \n\" id=\"me5a30d417c\" style=\"stroke:#000000;stroke-width:1.2;\"/>\n      </defs>\n      <g>\n       <use style=\"stroke:#000000;stroke-width:1.2;\" x=\"43.65\" xlink:href=\"#me5a30d417c\" y=\"256.12\"/>\n      </g>\n     </g>\n     <g id=\"line2d_20\">\n      <defs>\n       <path d=\"M 0 0 \nL 7 0 \n\" id=\"md3edaebe08\" style=\"stroke:#000000;stroke-width:1.2;\"/>\n      </defs>\n      <g>\n       <use style=\"stroke:#000000;stroke-width:1.2;\" x=\"374.13\" xlink:href=\"#md3edaebe08\" y=\"256.12\"/>\n      </g>\n     </g>\n     <g id=\"text_11\">\n      <!-- 0 -->\n      <g transform=\"translate(26.2875 259.919219)scale(0.1 -0.1)\">\n       <use xlink:href=\"#DejaVuSans-48\"/>\n      </g>\n     </g>\n    </g>\n    <g id=\"ytick_2\">\n     <g id=\"line2d_21\">\n      <g>\n       <use style=\"stroke:#000000;stroke-width:1.2;\" x=\"43.65\" xlink:href=\"#me5a30d417c\" y=\"208.693075\"/>\n      </g>\n     </g>\n     <g id=\"line2d_22\">\n      <g>\n       <use style=\"stroke:#000000;stroke-width:1.2;\" x=\"374.13\" xlink:href=\"#md3edaebe08\" y=\"208.693075\"/>\n      </g>\n     </g>\n     <g id=\"text_12\">\n      <!-- 500 -->\n      <g transform=\"translate(13.5625 212.492294)scale(0.1 -0.1)\">\n       <use xlink:href=\"#DejaVuSans-53\"/>\n       <use x=\"63.623047\" xlink:href=\"#DejaVuSans-48\"/>\n       <use x=\"127.246094\" xlink:href=\"#DejaVuSans-48\"/>\n      </g>\n     </g>\n    </g>\n    <g id=\"ytick_3\">\n     <g id=\"line2d_23\">\n      <g>\n       <use style=\"stroke:#000000;stroke-width:1.2;\" x=\"43.65\" xlink:href=\"#me5a30d417c\" y=\"161.266151\"/>\n      </g>\n     </g>\n     <g id=\"line2d_24\">\n      <g>\n       <use style=\"stroke:#000000;stroke-width:1.2;\" x=\"374.13\" xlink:href=\"#md3edaebe08\" y=\"161.266151\"/>\n      </g>\n     </g>\n     <g id=\"text_13\">\n      <!-- 1000 -->\n      <g transform=\"translate(7.2 165.065369)scale(0.1 -0.1)\">\n       <use xlink:href=\"#DejaVuSans-49\"/>\n       <use x=\"63.623047\" xlink:href=\"#DejaVuSans-48\"/>\n       <use x=\"127.246094\" xlink:href=\"#DejaVuSans-48\"/>\n       <use x=\"190.869141\" xlink:href=\"#DejaVuSans-48\"/>\n      </g>\n     </g>\n    </g>\n    <g id=\"ytick_4\">\n     <g id=\"line2d_25\">\n      <g>\n       <use style=\"stroke:#000000;stroke-width:1.2;\" x=\"43.65\" xlink:href=\"#me5a30d417c\" y=\"113.839226\"/>\n      </g>\n     </g>\n     <g id=\"line2d_26\">\n      <g>\n       <use style=\"stroke:#000000;stroke-width:1.2;\" x=\"374.13\" xlink:href=\"#md3edaebe08\" y=\"113.839226\"/>\n      </g>\n     </g>\n     <g id=\"text_14\">\n      <!-- 1500 -->\n      <g transform=\"translate(7.2 117.638445)scale(0.1 -0.1)\">\n       <use xlink:href=\"#DejaVuSans-49\"/>\n       <use x=\"63.623047\" xlink:href=\"#DejaVuSans-53\"/>\n       <use x=\"127.246094\" xlink:href=\"#DejaVuSans-48\"/>\n       <use x=\"190.869141\" xlink:href=\"#DejaVuSans-48\"/>\n      </g>\n     </g>\n    </g>\n    <g id=\"ytick_5\">\n     <g id=\"line2d_27\">\n      <g>\n       <use style=\"stroke:#000000;stroke-width:1.2;\" x=\"43.65\" xlink:href=\"#me5a30d417c\" y=\"66.412301\"/>\n      </g>\n     </g>\n     <g id=\"line2d_28\">\n      <g>\n       <use style=\"stroke:#000000;stroke-width:1.2;\" x=\"374.13\" xlink:href=\"#md3edaebe08\" y=\"66.412301\"/>\n      </g>\n     </g>\n     <g id=\"text_15\">\n      <!-- 2000 -->\n      <g transform=\"translate(7.2 70.21152)scale(0.1 -0.1)\">\n       <use xlink:href=\"#DejaVuSans-50\"/>\n       <use x=\"63.623047\" xlink:href=\"#DejaVuSans-48\"/>\n       <use x=\"127.246094\" xlink:href=\"#DejaVuSans-48\"/>\n       <use x=\"190.869141\" xlink:href=\"#DejaVuSans-48\"/>\n      </g>\n     </g>\n    </g>\n    <g id=\"ytick_6\">\n     <g id=\"line2d_29\">\n      <g>\n       <use style=\"stroke:#000000;stroke-width:1.2;\" x=\"43.65\" xlink:href=\"#me5a30d417c\" y=\"18.985377\"/>\n      </g>\n     </g>\n     <g id=\"line2d_30\">\n      <g>\n       <use style=\"stroke:#000000;stroke-width:1.2;\" x=\"374.13\" xlink:href=\"#md3edaebe08\" y=\"18.985377\"/>\n      </g>\n     </g>\n     <g id=\"text_16\">\n      <!-- 2500 -->\n      <g transform=\"translate(7.2 22.784595)scale(0.1 -0.1)\">\n       <use xlink:href=\"#DejaVuSans-50\"/>\n       <use x=\"63.623047\" xlink:href=\"#DejaVuSans-53\"/>\n       <use x=\"127.246094\" xlink:href=\"#DejaVuSans-48\"/>\n       <use x=\"190.869141\" xlink:href=\"#DejaVuSans-48\"/>\n      </g>\n     </g>\n    </g>\n   </g>\n   <g id=\"line2d_31\">\n    <path clip-path=\"url(#p4b3c37e9e2)\" d=\"M 44.4762 253.6538 \nL 46.1286 254.507485 \nL 49.4334 254.981754 \nL 51.0858 253.843508 \nL 52.7382 254.792046 \nL 54.3906 252.989823 \nL 56.043 254.033215 \nL 59.3478 254.412631 \nL 61.0002 254.792046 \nL 62.6526 254.792046 \nL 64.305 254.128069 \nL 65.9574 254.697192 \nL 67.6098 254.602338 \nL 69.2622 255.076608 \nL 70.9146 254.412631 \nL 72.567 254.8869 \nL 74.2194 254.507485 \nL 75.8718 254.317777 \nL 77.5242 254.792046 \nL 79.1766 255.076608 \nL 82.4814 254.128069 \nL 84.1338 254.8869 \nL 85.7862 254.507485 \nL 89.091 254.981754 \nL 90.7434 254.222923 \nL 92.3958 254.033215 \nL 94.0482 254.412631 \nL 97.353 254.792046 \nL 99.0054 254.602338 \nL 100.6578 253.938361 \nL 102.3102 254.602338 \nL 103.9626 253.558946 \nL 105.615 254.507485 \nL 107.2674 254.697192 \nL 108.9198 254.222923 \nL 110.5722 253.938361 \nL 112.2246 253.274385 \nL 113.877 254.602338 \nL 115.5294 254.317777 \nL 118.8342 254.317777 \nL 122.139 254.981754 \nL 127.0962 254.507485 \nL 128.7486 254.033215 \nL 132.0534 254.507485 \nL 133.7058 254.602338 \nL 135.3582 254.412631 \nL 137.0106 253.558946 \nL 138.663 254.697192 \nL 140.3154 254.507485 \nL 141.9678 254.507485 \nL 143.6202 253.748654 \nL 146.925 254.222923 \nL 148.5774 254.317777 \nL 150.2298 254.697192 \nL 151.8822 254.222923 \nL 153.5346 254.412631 \nL 155.187 254.033215 \nL 156.8394 255.171462 \nL 160.1442 253.938361 \nL 161.7966 254.602338 \nL 163.449 253.369238 \nL 165.1014 253.938361 \nL 166.7538 254.128069 \nL 171.711 253.6538 \nL 176.6682 254.507485 \nL 178.3206 254.033215 \nL 181.6254 254.033215 \nL 183.2778 253.369238 \nL 184.9302 253.179531 \nL 186.5826 253.369238 \nL 189.8874 252.989823 \nL 191.5398 253.274385 \nL 193.1922 254.317777 \nL 194.8446 253.084677 \nL 196.497 253.274385 \nL 198.1494 252.800115 \nL 199.8018 253.179531 \nL 201.4542 254.317777 \nL 203.1066 252.041284 \nL 204.759 252.800115 \nL 206.4114 253.274385 \nL 208.0638 252.800115 \nL 209.7162 252.705261 \nL 211.3686 251.756723 \nL 213.021 252.230992 \nL 216.3258 252.041284 \nL 217.9782 250.428769 \nL 219.6306 250.997892 \nL 221.283 250.428769 \nL 222.9354 252.325846 \nL 224.5878 251.282454 \nL 226.2402 249.195669 \nL 227.8926 250.523623 \nL 229.545 250.808184 \nL 231.1974 249.195669 \nL 232.8498 249.195669 \nL 234.5022 247.298592 \nL 236.1546 248.7214 \nL 237.807 247.962569 \nL 241.1118 245.591223 \nL 244.4166 239.141161 \nL 246.069 233.260222 \nL 247.7214 207.839391 \nL 251.0262 60.436509 \nL 252.6786 42.034862 \nL 254.331 56.737209 \nL 255.9834 65.653471 \nL 257.6358 72.672655 \nL 259.2882 44.501062 \nL 260.9406 43.362816 \nL 262.593 84.908802 \nL 264.2454 117.348818 \nL 265.8978 130.628357 \nL 267.5502 153.772697 \nL 269.2026 171.889782 \nL 272.5074 200.91506 \nL 274.1598 202.432721 \nL 275.8122 213.24606 \nL 277.4646 218.273314 \nL 279.117 221.782907 \nL 280.7694 225.766768 \nL 282.4218 229.276361 \nL 284.0742 235.726422 \nL 285.7266 240.658823 \nL 287.379 241.702215 \nL 290.6838 245.591223 \nL 292.3362 244.263269 \nL 293.9886 247.962569 \nL 297.2934 248.626546 \nL 298.9458 247.583154 \nL 300.5982 244.832392 \nL 302.2506 244.168415 \nL 303.903 241.227946 \nL 305.5554 238.856599 \nL 307.2078 229.560922 \nL 308.8602 228.422676 \nL 310.5126 225.007937 \nL 312.165 238.856599 \nL 313.8174 250.239061 \nL 315.4698 253.464092 \nL 317.1222 255.076608 \nL 318.7746 255.456023 \nL 320.427 256.12 \nL 323.7318 256.025146 \nL 373.3038 256.12 \nL 373.3038 256.12 \n\" style=\"fill:none;stroke:#000000;stroke-linecap:square;stroke-width:3;\"/>\n   </g>\n   <g id=\"line2d_32\">\n    <path clip-path=\"url(#p4b3c37e9e2)\" d=\"M 44.4762 253.843508 \nL 47.781 254.792046 \nL 51.0858 253.843508 \nL 52.7382 254.412631 \nL 54.3906 254.792046 \nL 57.6954 254.033215 \nL 59.3478 254.507485 \nL 61.0002 254.507485 \nL 62.6526 254.128069 \nL 64.305 254.317777 \nL 65.9574 254.981754 \nL 67.6098 254.317777 \nL 69.2622 254.507485 \nL 70.9146 254.507485 \nL 72.567 254.8869 \nL 74.2194 253.843508 \nL 75.8718 254.981754 \nL 77.5242 254.8869 \nL 79.1766 254.128069 \nL 84.1338 254.981754 \nL 85.7862 255.076608 \nL 87.4386 253.938361 \nL 89.091 254.792046 \nL 90.7434 255.076608 \nL 92.3958 254.412631 \nL 94.0482 254.602338 \nL 95.7006 254.602338 \nL 97.353 254.128069 \nL 99.0054 254.8869 \nL 100.6578 254.412631 \nL 102.3102 254.128069 \nL 103.9626 254.412631 \nL 107.2674 254.317777 \nL 108.9198 253.843508 \nL 110.5722 254.033215 \nL 112.2246 253.6538 \nL 113.877 254.507485 \nL 117.1818 254.222923 \nL 118.8342 254.128069 \nL 120.4866 254.507485 \nL 122.139 254.317777 \nL 123.7914 254.507485 \nL 125.4438 254.412631 \nL 127.0962 254.981754 \nL 128.7486 254.317777 \nL 132.0534 254.317777 \nL 133.7058 254.128069 \nL 135.3582 254.697192 \nL 137.0106 254.222923 \nL 138.663 254.507485 \nL 140.3154 253.938361 \nL 141.9678 254.412631 \nL 143.6202 253.464092 \nL 145.2726 254.412631 \nL 146.925 254.507485 \nL 148.5774 254.128069 \nL 150.2298 254.317777 \nL 151.8822 254.792046 \nL 153.5346 253.748654 \nL 155.187 254.507485 \nL 158.4918 254.222923 \nL 160.1442 254.412631 \nL 165.1014 253.843508 \nL 166.7538 254.602338 \nL 168.4062 253.558946 \nL 170.0586 253.748654 \nL 171.711 254.8869 \nL 175.0158 253.274385 \nL 176.6682 254.507485 \nL 178.3206 253.558946 \nL 179.973 254.222923 \nL 181.6254 253.274385 \nL 183.2778 253.6538 \nL 184.9302 253.748654 \nL 186.5826 252.800115 \nL 188.235 254.222923 \nL 189.8874 252.705261 \nL 191.5398 254.033215 \nL 193.1922 252.894969 \nL 194.8446 253.938361 \nL 196.497 252.515554 \nL 198.1494 252.325846 \nL 199.8018 253.464092 \nL 201.4542 252.894969 \nL 203.1066 254.033215 \nL 204.759 252.705261 \nL 206.4114 252.610408 \nL 208.0638 253.274385 \nL 211.3686 252.610408 \nL 213.021 252.136138 \nL 214.6734 251.377308 \nL 216.3258 251.092746 \nL 217.9782 251.282454 \nL 219.6306 250.523623 \nL 222.9354 251.092746 \nL 224.5878 250.713331 \nL 226.2402 250.523623 \nL 227.8926 250.997892 \nL 229.545 248.341984 \nL 231.1974 249.764792 \nL 232.8498 250.239061 \nL 234.5022 247.772861 \nL 236.1546 247.678007 \nL 237.807 248.911107 \nL 239.4594 245.496369 \nL 241.1118 244.54783 \nL 242.7642 242.461046 \nL 244.4166 238.287476 \nL 246.069 231.078584 \nL 247.7214 200.630498 \nL 251.0262 41.370885 \nL 252.6786 35.774508 \nL 254.331 50.097439 \nL 255.9834 57.970309 \nL 257.6358 56.642355 \nL 259.2882 25.72 \nL 260.9406 52.373932 \nL 262.593 94.299333 \nL 264.2454 116.684841 \nL 265.8978 143.907896 \nL 269.2026 181.280313 \nL 270.855 194.085583 \nL 272.5074 196.836344 \nL 274.1598 211.538691 \nL 275.8122 216.850506 \nL 277.4646 221.024076 \nL 279.117 224.154253 \nL 280.7694 228.232968 \nL 282.4218 235.536715 \nL 284.0742 239.425723 \nL 285.7266 240.279407 \nL 287.379 242.840461 \nL 289.0314 243.978707 \nL 290.6838 245.875784 \nL 292.3362 245.78093 \nL 293.9886 247.4883 \nL 295.641 243.883853 \nL 297.2934 241.607361 \nL 298.9458 238.572038 \nL 300.5982 230.888876 \nL 302.2506 219.790976 \nL 303.903 216.850506 \nL 305.5554 239.520576 \nL 307.2078 250.333915 \nL 308.8602 252.894969 \nL 310.5126 254.8869 \nL 312.165 254.697192 \nL 313.8174 255.740585 \nL 315.4698 255.930292 \nL 318.7746 256.025146 \nL 322.0794 256.12 \nL 323.7318 256.025146 \nL 327.0366 256.12 \nL 373.3038 256.12 \nL 373.3038 256.12 \n\" style=\"fill:none;stroke:#1f77b4;stroke-linecap:square;stroke-width:3;\"/>\n   </g>\n   <g id=\"patch_3\">\n    <path d=\"M 43.65 256.12 \nL 43.65 14.2 \n\" style=\"fill:none;stroke:#000000;stroke-linecap:square;stroke-linejoin:miter;stroke-width:2;\"/>\n   </g>\n   <g id=\"patch_4\">\n    <path d=\"M 374.13 256.12 \nL 374.13 14.2 \n\" style=\"fill:none;stroke:#000000;stroke-linecap:square;stroke-linejoin:miter;stroke-width:2;\"/>\n   </g>\n   <g id=\"patch_5\">\n    <path d=\"M 43.65 256.12 \nL 374.13 256.12 \n\" style=\"fill:none;stroke:#000000;stroke-linecap:square;stroke-linejoin:miter;stroke-width:2;\"/>\n   </g>\n   <g id=\"patch_6\">\n    <path d=\"M 43.65 14.2 \nL 374.13 14.2 \n\" style=\"fill:none;stroke:#000000;stroke-linecap:square;stroke-linejoin:miter;stroke-width:2;\"/>\n   </g>\n   <g id=\"legend_1\">\n    <g id=\"patch_7\">\n     <path d=\"M 294.970625 52.05625 \nL 361.13 52.05625 \nQ 363.13 52.05625 363.13 50.05625 \nL 363.13 27.2 \nQ 363.13 25.2 361.13 25.2 \nL 294.970625 25.2 \nQ 292.970625 25.2 292.970625 27.2 \nL 292.970625 50.05625 \nQ 292.970625 52.05625 294.970625 52.05625 \nz\n\" style=\"fill:#ffffff;opacity:0.8;stroke:#999999;stroke-linejoin:miter;stroke-width:1.5;\"/>\n    </g>\n    <g id=\"line2d_33\">\n     <path d=\"M 295.470625 31.798438 \nL 305.470625 31.798438 \n\" style=\"fill:none;stroke:#000000;stroke-linecap:square;stroke-width:3;\"/>\n    </g>\n    <g id=\"line2d_34\"/>\n    <g id=\"text_17\">\n     <!-- simulation -->\n     <g transform=\"translate(308.470625 35.298438)scale(0.1 -0.1)\">\n      <defs>\n       <path d=\"M 44.28125 53.078125 \nL 44.28125 44.578125 \nQ 40.484375 46.53125 36.375 47.5 \nQ 32.28125 48.484375 27.875 48.484375 \nQ 21.1875 48.484375 17.84375 46.4375 \nQ 14.5 44.390625 14.5 40.28125 \nQ 14.5 37.15625 16.890625 35.375 \nQ 19.28125 33.59375 26.515625 31.984375 \nL 29.59375 31.296875 \nQ 39.15625 29.25 43.1875 25.515625 \nQ 47.21875 21.78125 47.21875 15.09375 \nQ 47.21875 7.46875 41.1875 3.015625 \nQ 35.15625 -1.421875 24.609375 -1.421875 \nQ 20.21875 -1.421875 15.453125 -0.5625 \nQ 10.6875 0.296875 5.421875 2 \nL 5.421875 11.28125 \nQ 10.40625 8.6875 15.234375 7.390625 \nQ 20.0625 6.109375 24.8125 6.109375 \nQ 31.15625 6.109375 34.5625 8.28125 \nQ 37.984375 10.453125 37.984375 14.40625 \nQ 37.984375 18.0625 35.515625 20.015625 \nQ 33.0625 21.96875 24.703125 23.78125 \nL 21.578125 24.515625 \nQ 13.234375 26.265625 9.515625 29.90625 \nQ 5.8125 33.546875 5.8125 39.890625 \nQ 5.8125 47.609375 11.28125 51.796875 \nQ 16.75 56 26.8125 56 \nQ 31.78125 56 36.171875 55.265625 \nQ 40.578125 54.546875 44.28125 53.078125 \nz\n\" id=\"DejaVuSans-115\"/>\n       <path d=\"M 9.421875 54.6875 \nL 18.40625 54.6875 \nL 18.40625 0 \nL 9.421875 0 \nz\nM 9.421875 75.984375 \nL 18.40625 75.984375 \nL 18.40625 64.59375 \nL 9.421875 64.59375 \nz\n\" id=\"DejaVuSans-105\"/>\n       <path d=\"M 52 44.1875 \nQ 55.375 50.25 60.0625 53.125 \nQ 64.75 56 71.09375 56 \nQ 79.640625 56 84.28125 50.015625 \nQ 88.921875 44.046875 88.921875 33.015625 \nL 88.921875 0 \nL 79.890625 0 \nL 79.890625 32.71875 \nQ 79.890625 40.578125 77.09375 44.375 \nQ 74.3125 48.1875 68.609375 48.1875 \nQ 61.625 48.1875 57.5625 43.546875 \nQ 53.515625 38.921875 53.515625 30.90625 \nL 53.515625 0 \nL 44.484375 0 \nL 44.484375 32.71875 \nQ 44.484375 40.625 41.703125 44.40625 \nQ 38.921875 48.1875 33.109375 48.1875 \nQ 26.21875 48.1875 22.15625 43.53125 \nQ 18.109375 38.875 18.109375 30.90625 \nL 18.109375 0 \nL 9.078125 0 \nL 9.078125 54.6875 \nL 18.109375 54.6875 \nL 18.109375 46.1875 \nQ 21.1875 51.21875 25.484375 53.609375 \nQ 29.78125 56 35.6875 56 \nQ 41.65625 56 45.828125 52.96875 \nQ 50 49.953125 52 44.1875 \nz\n\" id=\"DejaVuSans-109\"/>\n       <path d=\"M 8.5 21.578125 \nL 8.5 54.6875 \nL 17.484375 54.6875 \nL 17.484375 21.921875 \nQ 17.484375 14.15625 20.5 10.265625 \nQ 23.53125 6.390625 29.59375 6.390625 \nQ 36.859375 6.390625 41.078125 11.03125 \nQ 45.3125 15.671875 45.3125 23.6875 \nL 45.3125 54.6875 \nL 54.296875 54.6875 \nL 54.296875 0 \nL 45.3125 0 \nL 45.3125 8.40625 \nQ 42.046875 3.421875 37.71875 1 \nQ 33.40625 -1.421875 27.6875 -1.421875 \nQ 18.265625 -1.421875 13.375 4.4375 \nQ 8.5 10.296875 8.5 21.578125 \nz\nM 31.109375 56 \nz\n\" id=\"DejaVuSans-117\"/>\n       <path d=\"M 9.421875 75.984375 \nL 18.40625 75.984375 \nL 18.40625 0 \nL 9.421875 0 \nz\n\" id=\"DejaVuSans-108\"/>\n       <path d=\"M 34.28125 27.484375 \nQ 23.390625 27.484375 19.1875 25 \nQ 14.984375 22.515625 14.984375 16.5 \nQ 14.984375 11.71875 18.140625 8.90625 \nQ 21.296875 6.109375 26.703125 6.109375 \nQ 34.1875 6.109375 38.703125 11.40625 \nQ 43.21875 16.703125 43.21875 25.484375 \nL 43.21875 27.484375 \nz\nM 52.203125 31.203125 \nL 52.203125 0 \nL 43.21875 0 \nL 43.21875 8.296875 \nQ 40.140625 3.328125 35.546875 0.953125 \nQ 30.953125 -1.421875 24.3125 -1.421875 \nQ 15.921875 -1.421875 10.953125 3.296875 \nQ 6 8.015625 6 15.921875 \nQ 6 25.140625 12.171875 29.828125 \nQ 18.359375 34.515625 30.609375 34.515625 \nL 43.21875 34.515625 \nL 43.21875 35.40625 \nQ 43.21875 41.609375 39.140625 45 \nQ 35.0625 48.390625 27.6875 48.390625 \nQ 23 48.390625 18.546875 47.265625 \nQ 14.109375 46.140625 10.015625 43.890625 \nL 10.015625 52.203125 \nQ 14.9375 54.109375 19.578125 55.046875 \nQ 24.21875 56 28.609375 56 \nQ 40.484375 56 46.34375 49.84375 \nQ 52.203125 43.703125 52.203125 31.203125 \nz\n\" id=\"DejaVuSans-97\"/>\n       <path d=\"M 18.3125 70.21875 \nL 18.3125 54.6875 \nL 36.8125 54.6875 \nL 36.8125 47.703125 \nL 18.3125 47.703125 \nL 18.3125 18.015625 \nQ 18.3125 11.328125 20.140625 9.421875 \nQ 21.96875 7.515625 27.59375 7.515625 \nL 36.8125 7.515625 \nL 36.8125 0 \nL 27.59375 0 \nQ 17.1875 0 13.234375 3.875 \nQ 9.28125 7.765625 9.28125 18.015625 \nL 9.28125 47.703125 \nL 2.6875 47.703125 \nL 2.6875 54.6875 \nL 9.28125 54.6875 \nL 9.28125 70.21875 \nz\n\" id=\"DejaVuSans-116\"/>\n       <path d=\"M 30.609375 48.390625 \nQ 23.390625 48.390625 19.1875 42.75 \nQ 14.984375 37.109375 14.984375 27.296875 \nQ 14.984375 17.484375 19.15625 11.84375 \nQ 23.34375 6.203125 30.609375 6.203125 \nQ 37.796875 6.203125 41.984375 11.859375 \nQ 46.1875 17.53125 46.1875 27.296875 \nQ 46.1875 37.015625 41.984375 42.703125 \nQ 37.796875 48.390625 30.609375 48.390625 \nz\nM 30.609375 56 \nQ 42.328125 56 49.015625 48.375 \nQ 55.71875 40.765625 55.71875 27.296875 \nQ 55.71875 13.875 49.015625 6.21875 \nQ 42.328125 -1.421875 30.609375 -1.421875 \nQ 18.84375 -1.421875 12.171875 6.21875 \nQ 5.515625 13.875 5.515625 27.296875 \nQ 5.515625 40.765625 12.171875 48.375 \nQ 18.84375 56 30.609375 56 \nz\n\" id=\"DejaVuSans-111\"/>\n       <path d=\"M 54.890625 33.015625 \nL 54.890625 0 \nL 45.90625 0 \nL 45.90625 32.71875 \nQ 45.90625 40.484375 42.875 44.328125 \nQ 39.84375 48.1875 33.796875 48.1875 \nQ 26.515625 48.1875 22.3125 43.546875 \nQ 18.109375 38.921875 18.109375 30.90625 \nL 18.109375 0 \nL 9.078125 0 \nL 9.078125 54.6875 \nL 18.109375 54.6875 \nL 18.109375 46.1875 \nQ 21.34375 51.125 25.703125 53.5625 \nQ 30.078125 56 35.796875 56 \nQ 45.21875 56 50.046875 50.171875 \nQ 54.890625 44.34375 54.890625 33.015625 \nz\n\" id=\"DejaVuSans-110\"/>\n      </defs>\n      <use xlink:href=\"#DejaVuSans-115\"/>\n      <use x=\"52.099609\" xlink:href=\"#DejaVuSans-105\"/>\n      <use x=\"79.882812\" xlink:href=\"#DejaVuSans-109\"/>\n      <use x=\"177.294922\" xlink:href=\"#DejaVuSans-117\"/>\n      <use x=\"240.673828\" xlink:href=\"#DejaVuSans-108\"/>\n      <use x=\"268.457031\" xlink:href=\"#DejaVuSans-97\"/>\n      <use x=\"329.736328\" xlink:href=\"#DejaVuSans-116\"/>\n      <use x=\"368.945312\" xlink:href=\"#DejaVuSans-105\"/>\n      <use x=\"396.728516\" xlink:href=\"#DejaVuSans-111\"/>\n      <use x=\"457.910156\" xlink:href=\"#DejaVuSans-110\"/>\n     </g>\n    </g>\n    <g id=\"line2d_35\">\n     <path d=\"M 295.470625 43.976563 \nL 305.470625 43.976563 \n\" style=\"fill:none;stroke:#1f77b4;stroke-linecap:square;stroke-width:3;\"/>\n    </g>\n    <g id=\"line2d_36\"/>\n    <g id=\"text_18\">\n     <!-- age-tracer -->\n     <g transform=\"translate(308.470625 47.476563)scale(0.1 -0.1)\">\n      <defs>\n       <path d=\"M 45.40625 27.984375 \nQ 45.40625 37.75 41.375 43.109375 \nQ 37.359375 48.484375 30.078125 48.484375 \nQ 22.859375 48.484375 18.828125 43.109375 \nQ 14.796875 37.75 14.796875 27.984375 \nQ 14.796875 18.265625 18.828125 12.890625 \nQ 22.859375 7.515625 30.078125 7.515625 \nQ 37.359375 7.515625 41.375 12.890625 \nQ 45.40625 18.265625 45.40625 27.984375 \nz\nM 54.390625 6.78125 \nQ 54.390625 -7.171875 48.1875 -13.984375 \nQ 42 -20.796875 29.203125 -20.796875 \nQ 24.46875 -20.796875 20.265625 -20.09375 \nQ 16.0625 -19.390625 12.109375 -17.921875 \nL 12.109375 -9.1875 \nQ 16.0625 -11.328125 19.921875 -12.34375 \nQ 23.78125 -13.375 27.78125 -13.375 \nQ 36.625 -13.375 41.015625 -8.765625 \nQ 45.40625 -4.15625 45.40625 5.171875 \nL 45.40625 9.625 \nQ 42.625 4.78125 38.28125 2.390625 \nQ 33.9375 0 27.875 0 \nQ 17.828125 0 11.671875 7.65625 \nQ 5.515625 15.328125 5.515625 27.984375 \nQ 5.515625 40.671875 11.671875 48.328125 \nQ 17.828125 56 27.875 56 \nQ 33.9375 56 38.28125 53.609375 \nQ 42.625 51.21875 45.40625 46.390625 \nL 45.40625 54.6875 \nL 54.390625 54.6875 \nz\n\" id=\"DejaVuSans-103\"/>\n       <path d=\"M 4.890625 31.390625 \nL 31.203125 31.390625 \nL 31.203125 23.390625 \nL 4.890625 23.390625 \nz\n\" id=\"DejaVuSans-45\"/>\n       <path d=\"M 41.109375 46.296875 \nQ 39.59375 47.171875 37.8125 47.578125 \nQ 36.03125 48 33.890625 48 \nQ 26.265625 48 22.1875 43.046875 \nQ 18.109375 38.09375 18.109375 28.8125 \nL 18.109375 0 \nL 9.078125 0 \nL 9.078125 54.6875 \nL 18.109375 54.6875 \nL 18.109375 46.1875 \nQ 20.953125 51.171875 25.484375 53.578125 \nQ 30.03125 56 36.53125 56 \nQ 37.453125 56 38.578125 55.875 \nQ 39.703125 55.765625 41.0625 55.515625 \nz\n\" id=\"DejaVuSans-114\"/>\n       <path d=\"M 48.78125 52.59375 \nL 48.78125 44.1875 \nQ 44.96875 46.296875 41.140625 47.34375 \nQ 37.3125 48.390625 33.40625 48.390625 \nQ 24.65625 48.390625 19.8125 42.84375 \nQ 14.984375 37.3125 14.984375 27.296875 \nQ 14.984375 17.28125 19.8125 11.734375 \nQ 24.65625 6.203125 33.40625 6.203125 \nQ 37.3125 6.203125 41.140625 7.25 \nQ 44.96875 8.296875 48.78125 10.40625 \nL 48.78125 2.09375 \nQ 45.015625 0.34375 40.984375 -0.53125 \nQ 36.96875 -1.421875 32.421875 -1.421875 \nQ 20.0625 -1.421875 12.78125 6.34375 \nQ 5.515625 14.109375 5.515625 27.296875 \nQ 5.515625 40.671875 12.859375 48.328125 \nQ 20.21875 56 33.015625 56 \nQ 37.15625 56 41.109375 55.140625 \nQ 45.0625 54.296875 48.78125 52.59375 \nz\n\" id=\"DejaVuSans-99\"/>\n      </defs>\n      <use xlink:href=\"#DejaVuSans-97\"/>\n      <use x=\"61.279297\" xlink:href=\"#DejaVuSans-103\"/>\n      <use x=\"124.755859\" xlink:href=\"#DejaVuSans-101\"/>\n      <use x=\"186.279297\" xlink:href=\"#DejaVuSans-45\"/>\n      <use x=\"222.363281\" xlink:href=\"#DejaVuSans-116\"/>\n      <use x=\"261.572266\" xlink:href=\"#DejaVuSans-114\"/>\n      <use x=\"302.685547\" xlink:href=\"#DejaVuSans-97\"/>\n      <use x=\"363.964844\" xlink:href=\"#DejaVuSans-99\"/>\n      <use x=\"418.945312\" xlink:href=\"#DejaVuSans-101\"/>\n      <use x=\"480.46875\" xlink:href=\"#DejaVuSans-114\"/>\n     </g>\n    </g>\n   </g>\n  </g>\n </g>\n <defs>\n  <clipPath id=\"p4b3c37e9e2\">\n   <rect height=\"241.92\" width=\"330.48\" x=\"43.65\" y=\"14.2\"/>\n  </clipPath>\n </defs>\n</svg>\n",
      "image/png": "[encoded data removed]"
     },
     "metadata": {
      "needs_background": "light"
     }
    }
   ],
   "metadata": {}
  },
  {
   "cell_type": "code",
   "execution_count": 90,
   "source": [
    "species_name"
   ],
   "outputs": [
    {
     "output_type": "execute_result",
     "data": {
      "text/plain": [
       "'star'"
      ]
     },
     "metadata": {},
     "execution_count": 90
    }
   ],
   "metadata": {}
  },
  {
   "cell_type": "code",
   "execution_count": 74,
   "source": [
    "# plot the results\n",
    "\n",
    "from utilities.basic.binning import BinClass\n",
    "\n",
    "fe_limits = [-1.5, 1.0]\n",
    "Bin = BinClass(fe_limits, width=0.05)\n",
    "\n",
    "# plot the native abundances, computed directly in the simulation\n",
    "fe_sim = part[species_name].prop('metallicity.fe')\n",
    "alpha_sim = part[species_name].prop('metallicity.o - metallicity.fe')\n",
    "fe_agetracer = part[species_name].prop('metallicity.agetracer.fe').clip(-5, 10)\n",
    "alpha_agetracer = part[species_name].prop('metallicity.agetracer.o').clip(-5, 10) - fe_agetracer\n",
    "\n",
    "masks = (fe_sim > -4.5) * (fe_agetracer > -4.5)\n",
    "\n",
    "stats_sim = Bin.get_statistics_of_array(fe_sim[masks], alpha_sim[masks])\n",
    "stats_agetracer = Bin.get_statistics_of_array(fe_agetracer[masks], alpha_agetracer[masks])\n",
    "\n",
    "fig, ax = plt.subplots()\n",
    "fig.set_size_inches(6, 4)\n",
    "\n",
    "ax.plot(stats_sim['bin.mid'], stats_sim['median'], lw=3, color='black', label='simulation')\n",
    "ax.fill_between(\n",
    "    stats_sim['bin.mid'], stats_sim['percent.16'], stats_sim['percent.84'], alpha=0.2, lw=3, color='black')\n",
    "\n",
    "# plot the post-processed abundances, from the age-tracer weights\n",
    "\n",
    "\n",
    "ax.plot(stats_agetracer['bin.mid'], stats_agetracer['median'], lw=3, color='C0', label='age-tracer')\n",
    "ax.fill_between(\n",
    "    stats_agetracer['bin.mid'], stats_agetracer['percent.16'], stats_agetracer['percent.84'], alpha=0.2, lw=3, color='C0')\n",
    "#print(stats['median'])\n",
    "\n",
    "ax.legend(loc='best')\n",
    "ax.set_ylim(-0.4, 1.0)\n",
    "ax.set_xlim(fe_limits[0], fe_limits[1])\n",
    "ax.set_ylabel('[O/Fe]')\n",
    "ax.set_xlabel('[Fe/H]')\n",
    "\n",
    "difs = alpha_agetracer[masks] - alpha_sim[masks]\n",
    "\n",
    "ut.math.print_statistics(difs)"
   ],
   "outputs": [
    {
     "output_type": "stream",
     "name": "stdout",
     "text": [
      "\n",
      "# in utilities.basic.binning.get_bin_indices():\n",
      "! input value limits = [-4.48, 0.8] exceed bin limits = [-1.5, 1.0]\n",
      "\n",
      "# in utilities.basic.binning.get_bin_indices():\n",
      "! input value limits = [-4.5, 0.77] exceed bin limits = [-1.5, 1.0]\n",
      "\n",
      "# in utilities.basic.statistic.Statistic():\n",
      "  number = 3069527\n",
      "\n",
      "  min = -1.277\n",
      "  max = 1.344\n",
      "\n",
      "  median = -0.008\n",
      "  average = 0.003\n",
      "\n",
      "  std = 0.029\n",
      "\n",
      "  percent.0.1 = -0.050\n",
      "  percent.2 = -0.019\n",
      "  percent.16 = -0.014\n",
      "  percent.50 = -0.008\n",
      "  percent.84 = 0.014\n",
      "  percent.98 = 0.096\n",
      "  percent.99.9 = 0.116\n"
     ]
    },
    {
     "output_type": "display_data",
     "data": {
      "text/plain": [
       "<Figure size 432x288 with 1 Axes>"
      ],
      "image/svg+xml": "<?xml version=\"1.0\" encoding=\"utf-8\" standalone=\"no\"?>\n<!DOCTYPE svg PUBLIC \"-//W3C//DTD SVG 1.1//EN\"\n  \"http://www.w3.org/Graphics/SVG/1.1/DTD/svg11.dtd\">\n<!-- Created with matplotlib (https://matplotlib.org/) -->\n<svg height=\"296.611875pt\" version=\"1.1\" viewBox=\"0 0 401.728125 296.611875\" width=\"401.728125pt\" xmlns=\"http://www.w3.org/2000/svg\" xmlns:xlink=\"http://www.w3.org/1999/xlink\">\n <metadata>\n  <rdf:RDF xmlns:cc=\"http://creativecommons.org/ns#\" xmlns:dc=\"http://purl.org/dc/elements/1.1/\" xmlns:rdf=\"http://www.w3.org/1999/02/22-rdf-syntax-ns#\">\n   <cc:Work>\n    <dc:type rdf:resource=\"http://purl.org/dc/dcmitype/StillImage\"/>\n    <dc:date>2021-01-21T16:42:13.565321</dc:date>\n    <dc:format>image/svg+xml</dc:format>\n    <dc:creator>\n     <cc:Agent>\n      <dc:title>Matplotlib v3.3.2, https://matplotlib.org/</dc:title>\n     </cc:Agent>\n    </dc:creator>\n   </cc:Work>\n  </rdf:RDF>\n </metadata>\n <defs>\n  <style type=\"text/css\">*{stroke-linecap:butt;stroke-linejoin:round;}</style>\n </defs>\n <g id=\"figure_1\">\n  <g id=\"patch_1\">\n   <path d=\"M 0 296.611875 \nL 401.728125 296.611875 \nL 401.728125 0 \nL 0 0 \nz\n\" style=\"fill:none;\"/>\n  </g>\n  <g id=\"axes_1\">\n   <g id=\"patch_2\">\n    <path d=\"M 56.096563 256.12 \nL 386.576562 256.12 \nL 386.576562 14.2 \nL 56.096563 14.2 \nz\n\" style=\"fill:#ffffff;\"/>\n   </g>\n   <g id=\"PolyCollection_1\">\n    <defs>\n     <path d=\"M 59.401363 -205.513002 \nL 59.401363 -188.921457 \nL 66.010963 -189.18095 \nL 72.620563 -189.044296 \nL 79.230163 -188.814321 \nL 85.839763 -188.592039 \nL 92.449363 -188.573547 \nL 99.058963 -188.365599 \nL 105.668563 -188.082593 \nL 112.278163 -187.710972 \nL 118.887763 -187.480425 \nL 125.497363 -186.821633 \nL 132.106963 -186.282971 \nL 138.716563 -185.386621 \nL 145.326163 -184.84433 \nL 151.935763 -184.438086 \nL 158.545363 -183.703415 \nL 165.154963 -183.21213 \nL 171.764563 -182.818523 \nL 178.374163 -182.366469 \nL 184.983763 -181.559923 \nL 191.593363 -180.612019 \nL 198.202963 -181.219981 \nL 204.812563 -181.842553 \nL 211.422163 -181.978579 \nL 218.031763 -181.787097 \nL 224.641363 -181.739397 \nL 231.250963 -181.507438 \nL 237.860563 -181.025505 \nL 244.470163 -180.065647 \nL 251.079763 -179.736004 \nL 257.689363 -179.042595 \nL 264.298963 -175.124463 \nL 270.908563 -169.668833 \nL 277.518163 -166.453741 \nL 284.127763 -162.904647 \nL 290.737363 -159.427294 \nL 297.346963 -156.408007 \nL 303.956563 -152.285637 \nL 310.566163 -147.488337 \nL 317.175763 -143.356083 \nL 323.785363 -137.528703 \nL 330.394963 -131.122742 \nL 337.004563 -129.598183 \nL 343.614163 -97.668062 \nL 350.223763 -59.771733 \nL 356.833363 -51.965875 \nL 363.442963 -109.611875 \nL 370.052563 -109.611875 \nL 376.662163 -109.611875 \nL 383.271763 -109.611875 \nL 383.271763 -109.611875 \nL 383.271763 -109.611875 \nL 376.662163 -109.611875 \nL 370.052563 -109.611875 \nL 363.442963 -109.611875 \nL 356.833363 -51.965875 \nL 350.223763 -106.71191 \nL 343.614163 -116.576211 \nL 337.004563 -134.301563 \nL 330.394963 -138.465538 \nL 323.785363 -146.43351 \nL 317.175763 -152.393841 \nL 310.566163 -163.072146 \nL 303.956563 -167.940101 \nL 297.346963 -177.310592 \nL 290.737363 -181.123413 \nL 284.127763 -183.904522 \nL 277.518163 -186.537218 \nL 270.908563 -189.124379 \nL 264.298963 -190.998673 \nL 257.689363 -192.102254 \nL 251.079763 -193.789421 \nL 244.470163 -195.112204 \nL 237.860563 -195.643814 \nL 231.250963 -195.982699 \nL 224.641363 -195.660476 \nL 218.031763 -195.741195 \nL 211.422163 -196.370313 \nL 204.812563 -196.649244 \nL 198.202963 -196.661676 \nL 191.593363 -196.84026 \nL 184.983763 -198.114475 \nL 178.374163 -198.934464 \nL 171.764563 -199.281171 \nL 165.154963 -199.137056 \nL 158.545363 -199.491216 \nL 151.935763 -199.267857 \nL 145.326163 -198.778043 \nL 138.716563 -198.670034 \nL 132.106963 -199.333895 \nL 125.497363 -200.342536 \nL 118.887763 -200.865872 \nL 112.278163 -200.854029 \nL 105.668563 -201.023084 \nL 99.058963 -201.506294 \nL 92.449363 -201.937261 \nL 85.839763 -202.604101 \nL 79.230163 -203.180427 \nL 72.620563 -203.875844 \nL 66.010963 -204.572456 \nL 59.401363 -205.513002 \nz\n\" id=\"maac9da242d\" style=\"stroke:#000000;stroke-opacity:0.2;stroke-width:3;\"/>\n    </defs>\n    <g clip-path=\"url(#p6073f50457)\">\n     <use style=\"fill-opacity:0.2;stroke:#000000;stroke-opacity:0.2;stroke-width:3;\" x=\"0\" xlink:href=\"#maac9da242d\" y=\"296.611875\"/>\n    </g>\n   </g>\n   <g id=\"PolyCollection_2\">\n    <defs>\n     <path d=\"M 59.401363 -203.850828 \nL 59.401363 -187.577892 \nL 66.010963 -187.908891 \nL 72.620563 -187.947269 \nL 79.230163 -187.647352 \nL 85.839763 -187.418392 \nL 92.449363 -187.422331 \nL 99.058963 -187.125753 \nL 105.668563 -186.667885 \nL 112.278163 -186.425258 \nL 118.887763 -186.130754 \nL 125.497363 -185.59421 \nL 132.106963 -185.21036 \nL 138.716563 -184.279277 \nL 145.326163 -183.838863 \nL 151.935763 -183.345883 \nL 158.545363 -182.616488 \nL 165.154963 -182.00094 \nL 171.764563 -181.513109 \nL 178.374163 -180.999715 \nL 184.983763 -179.878179 \nL 191.593363 -179.324643 \nL 198.202963 -179.85331 \nL 204.812563 -180.49758 \nL 211.422163 -180.538052 \nL 218.031763 -180.453502 \nL 224.641363 -179.819273 \nL 231.250963 -179.78801 \nL 237.860563 -179.17185 \nL 244.470163 -178.740327 \nL 251.079763 -178.433419 \nL 257.689363 -174.760354 \nL 264.298963 -168.193882 \nL 270.908563 -165.286936 \nL 277.518163 -162.546867 \nL 284.127763 -159.901807 \nL 290.737363 -158.371806 \nL 297.346963 -159.102639 \nL 303.956563 -157.13096 \nL 310.566163 -155.545441 \nL 317.175763 -149.511255 \nL 323.785363 -147.427392 \nL 330.394963 -132.085476 \nL 337.004563 -113.648367 \nL 343.614163 -99.371575 \nL 350.223763 -83.424127 \nL 356.833363 -65.26385 \nL 363.442963 -109.611875 \nL 370.052563 -109.611875 \nL 376.662163 -109.611875 \nL 383.271763 -109.611875 \nL 383.271763 -109.611875 \nL 383.271763 -109.611875 \nL 376.662163 -109.611875 \nL 370.052563 -109.611875 \nL 363.442963 -109.611875 \nL 356.833363 -65.26385 \nL 350.223763 -86.106941 \nL 343.614163 -119.400928 \nL 337.004563 -133.797001 \nL 330.394963 -146.145788 \nL 323.785363 -153.679432 \nL 317.175763 -159.507396 \nL 310.566163 -164.220972 \nL 303.956563 -177.519262 \nL 297.346963 -180.378524 \nL 290.737363 -185.780755 \nL 284.127763 -187.401821 \nL 277.518163 -187.345017 \nL 270.908563 -187.679445 \nL 264.298963 -188.695442 \nL 257.689363 -189.571781 \nL 251.079763 -190.315923 \nL 244.470163 -191.911109 \nL 237.860563 -192.946491 \nL 231.250963 -193.719779 \nL 224.641363 -193.867935 \nL 218.031763 -193.777898 \nL 211.422163 -194.468815 \nL 204.812563 -195.093441 \nL 198.202963 -195.236078 \nL 191.593363 -195.38503 \nL 184.983763 -196.478086 \nL 178.374163 -197.420993 \nL 171.764563 -198.016121 \nL 165.154963 -197.847695 \nL 158.545363 -198.194429 \nL 151.935763 -197.974151 \nL 145.326163 -197.499221 \nL 138.716563 -197.404582 \nL 132.106963 -198.109083 \nL 125.497363 -199.003211 \nL 118.887763 -199.52893 \nL 112.278163 -199.509384 \nL 105.668563 -199.661531 \nL 99.058963 -200.122974 \nL 92.449363 -200.579924 \nL 85.839763 -201.136923 \nL 79.230163 -201.746449 \nL 72.620563 -202.272006 \nL 66.010963 -203.02344 \nL 59.401363 -203.850828 \nz\n\" id=\"m21a4761eb4\" style=\"stroke:#1f77b4;stroke-opacity:0.2;stroke-width:3;\"/>\n    </defs>\n    <g clip-path=\"url(#p6073f50457)\">\n     <use style=\"fill:#1f77b4;fill-opacity:0.2;stroke:#1f77b4;stroke-opacity:0.2;stroke-width:3;\" x=\"0\" xlink:href=\"#m21a4761eb4\" y=\"296.611875\"/>\n    </g>\n   </g>\n   <g id=\"matplotlib.axis_1\">\n    <g id=\"xtick_1\">\n     <g id=\"line2d_1\">\n      <defs>\n       <path d=\"M 0 0 \nL 0 7 \n\" id=\"m4732537ec2\" style=\"stroke:#000000;stroke-width:1.2;\"/>\n      </defs>\n      <g>\n       <use style=\"stroke:#000000;stroke-width:1.2;\" x=\"56.096563\" xlink:href=\"#m4732537ec2\" y=\"256.12\"/>\n      </g>\n     </g>\n     <g id=\"line2d_2\">\n      <defs>\n       <path d=\"M 0 0 \nL 0 -7 \n\" id=\"mccd01e721c\" style=\"stroke:#000000;stroke-width:1.2;\"/>\n      </defs>\n      <g>\n       <use style=\"stroke:#000000;stroke-width:1.2;\" x=\"56.096563\" xlink:href=\"#mccd01e721c\" y=\"14.2\"/>\n      </g>\n     </g>\n     <g id=\"text_1\">\n      <!-- −1.5 -->\n      <g transform=\"translate(43.955156 273.718438)scale(0.1 -0.1)\">\n       <defs>\n        <path d=\"M 10.59375 35.5 \nL 73.1875 35.5 \nL 73.1875 27.203125 \nL 10.59375 27.203125 \nz\n\" id=\"DejaVuSans-8722\"/>\n        <path d=\"M 12.40625 8.296875 \nL 28.515625 8.296875 \nL 28.515625 63.921875 \nL 10.984375 60.40625 \nL 10.984375 69.390625 \nL 28.421875 72.90625 \nL 38.28125 72.90625 \nL 38.28125 8.296875 \nL 54.390625 8.296875 \nL 54.390625 0 \nL 12.40625 0 \nz\n\" id=\"DejaVuSans-49\"/>\n        <path d=\"M 10.6875 12.40625 \nL 21 12.40625 \nL 21 0 \nL 10.6875 0 \nz\n\" id=\"DejaVuSans-46\"/>\n        <path d=\"M 10.796875 72.90625 \nL 49.515625 72.90625 \nL 49.515625 64.59375 \nL 19.828125 64.59375 \nL 19.828125 46.734375 \nQ 21.96875 47.46875 24.109375 47.828125 \nQ 26.265625 48.1875 28.421875 48.1875 \nQ 40.625 48.1875 47.75 41.5 \nQ 54.890625 34.8125 54.890625 23.390625 \nQ 54.890625 11.625 47.5625 5.09375 \nQ 40.234375 -1.421875 26.90625 -1.421875 \nQ 22.3125 -1.421875 17.546875 -0.640625 \nQ 12.796875 0.140625 7.71875 1.703125 \nL 7.71875 11.625 \nQ 12.109375 9.234375 16.796875 8.0625 \nQ 21.484375 6.890625 26.703125 6.890625 \nQ 35.15625 6.890625 40.078125 11.328125 \nQ 45.015625 15.765625 45.015625 23.390625 \nQ 45.015625 31 40.078125 35.4375 \nQ 35.15625 39.890625 26.703125 39.890625 \nQ 22.75 39.890625 18.8125 39.015625 \nQ 14.890625 38.140625 10.796875 36.28125 \nz\n\" id=\"DejaVuSans-53\"/>\n       </defs>\n       <use xlink:href=\"#DejaVuSans-8722\"/>\n       <use x=\"83.789062\" xlink:href=\"#DejaVuSans-49\"/>\n       <use x=\"147.412109\" xlink:href=\"#DejaVuSans-46\"/>\n       <use x=\"179.199219\" xlink:href=\"#DejaVuSans-53\"/>\n      </g>\n     </g>\n    </g>\n    <g id=\"xtick_2\">\n     <g id=\"line2d_3\">\n      <g>\n       <use style=\"stroke:#000000;stroke-width:1.2;\" x=\"122.192563\" xlink:href=\"#m4732537ec2\" y=\"256.12\"/>\n      </g>\n     </g>\n     <g id=\"line2d_4\">\n      <g>\n       <use style=\"stroke:#000000;stroke-width:1.2;\" x=\"122.192563\" xlink:href=\"#mccd01e721c\" y=\"14.2\"/>\n      </g>\n     </g>\n     <g id=\"text_2\">\n      <!-- −1.0 -->\n      <g transform=\"translate(110.051156 273.718438)scale(0.1 -0.1)\">\n       <defs>\n        <path d=\"M 31.78125 66.40625 \nQ 24.171875 66.40625 20.328125 58.90625 \nQ 16.5 51.421875 16.5 36.375 \nQ 16.5 21.390625 20.328125 13.890625 \nQ 24.171875 6.390625 31.78125 6.390625 \nQ 39.453125 6.390625 43.28125 13.890625 \nQ 47.125 21.390625 47.125 36.375 \nQ 47.125 51.421875 43.28125 58.90625 \nQ 39.453125 66.40625 31.78125 66.40625 \nz\nM 31.78125 74.21875 \nQ 44.046875 74.21875 50.515625 64.515625 \nQ 56.984375 54.828125 56.984375 36.375 \nQ 56.984375 17.96875 50.515625 8.265625 \nQ 44.046875 -1.421875 31.78125 -1.421875 \nQ 19.53125 -1.421875 13.0625 8.265625 \nQ 6.59375 17.96875 6.59375 36.375 \nQ 6.59375 54.828125 13.0625 64.515625 \nQ 19.53125 74.21875 31.78125 74.21875 \nz\n\" id=\"DejaVuSans-48\"/>\n       </defs>\n       <use xlink:href=\"#DejaVuSans-8722\"/>\n       <use x=\"83.789062\" xlink:href=\"#DejaVuSans-49\"/>\n       <use x=\"147.412109\" xlink:href=\"#DejaVuSans-46\"/>\n       <use x=\"179.199219\" xlink:href=\"#DejaVuSans-48\"/>\n      </g>\n     </g>\n    </g>\n    <g id=\"xtick_3\">\n     <g id=\"line2d_5\">\n      <g>\n       <use style=\"stroke:#000000;stroke-width:1.2;\" x=\"188.288563\" xlink:href=\"#m4732537ec2\" y=\"256.12\"/>\n      </g>\n     </g>\n     <g id=\"line2d_6\">\n      <g>\n       <use style=\"stroke:#000000;stroke-width:1.2;\" x=\"188.288563\" xlink:href=\"#mccd01e721c\" y=\"14.2\"/>\n      </g>\n     </g>\n     <g id=\"text_3\">\n      <!-- −0.5 -->\n      <g transform=\"translate(176.147156 273.718438)scale(0.1 -0.1)\">\n       <use xlink:href=\"#DejaVuSans-8722\"/>\n       <use x=\"83.789062\" xlink:href=\"#DejaVuSans-48\"/>\n       <use x=\"147.412109\" xlink:href=\"#DejaVuSans-46\"/>\n       <use x=\"179.199219\" xlink:href=\"#DejaVuSans-53\"/>\n      </g>\n     </g>\n    </g>\n    <g id=\"xtick_4\">\n     <g id=\"line2d_7\">\n      <g>\n       <use style=\"stroke:#000000;stroke-width:1.2;\" x=\"254.384563\" xlink:href=\"#m4732537ec2\" y=\"256.12\"/>\n      </g>\n     </g>\n     <g id=\"line2d_8\">\n      <g>\n       <use style=\"stroke:#000000;stroke-width:1.2;\" x=\"254.384563\" xlink:href=\"#mccd01e721c\" y=\"14.2\"/>\n      </g>\n     </g>\n     <g id=\"text_4\">\n      <!-- 0.0 -->\n      <g transform=\"translate(246.433 273.718438)scale(0.1 -0.1)\">\n       <use xlink:href=\"#DejaVuSans-48\"/>\n       <use x=\"63.623047\" xlink:href=\"#DejaVuSans-46\"/>\n       <use x=\"95.410156\" xlink:href=\"#DejaVuSans-48\"/>\n      </g>\n     </g>\n    </g>\n    <g id=\"xtick_5\">\n     <g id=\"line2d_9\">\n      <g>\n       <use style=\"stroke:#000000;stroke-width:1.2;\" x=\"320.480563\" xlink:href=\"#m4732537ec2\" y=\"256.12\"/>\n      </g>\n     </g>\n     <g id=\"line2d_10\">\n      <g>\n       <use style=\"stroke:#000000;stroke-width:1.2;\" x=\"320.480563\" xlink:href=\"#mccd01e721c\" y=\"14.2\"/>\n      </g>\n     </g>\n     <g id=\"text_5\">\n      <!-- 0.5 -->\n      <g transform=\"translate(312.529 273.718438)scale(0.1 -0.1)\">\n       <use xlink:href=\"#DejaVuSans-48\"/>\n       <use x=\"63.623047\" xlink:href=\"#DejaVuSans-46\"/>\n       <use x=\"95.410156\" xlink:href=\"#DejaVuSans-53\"/>\n      </g>\n     </g>\n    </g>\n    <g id=\"xtick_6\">\n     <g id=\"line2d_11\">\n      <g>\n       <use style=\"stroke:#000000;stroke-width:1.2;\" x=\"386.576563\" xlink:href=\"#m4732537ec2\" y=\"256.12\"/>\n      </g>\n     </g>\n     <g id=\"line2d_12\">\n      <g>\n       <use style=\"stroke:#000000;stroke-width:1.2;\" x=\"386.576563\" xlink:href=\"#mccd01e721c\" y=\"14.2\"/>\n      </g>\n     </g>\n     <g id=\"text_6\">\n      <!-- 1.0 -->\n      <g transform=\"translate(378.625 273.718438)scale(0.1 -0.1)\">\n       <use xlink:href=\"#DejaVuSans-49\"/>\n       <use x=\"63.623047\" xlink:href=\"#DejaVuSans-46\"/>\n       <use x=\"95.410156\" xlink:href=\"#DejaVuSans-48\"/>\n      </g>\n     </g>\n    </g>\n    <g id=\"text_7\">\n     <!-- [Fe/H] -->\n     <g transform=\"translate(203.308438 286.91625)scale(0.12 -0.12)\">\n      <defs>\n       <path d=\"M 8.59375 75.984375 \nL 29.296875 75.984375 \nL 29.296875 69 \nL 17.578125 69 \nL 17.578125 -6.203125 \nL 29.296875 -6.203125 \nL 29.296875 -13.1875 \nL 8.59375 -13.1875 \nz\n\" id=\"DejaVuSans-91\"/>\n       <path d=\"M 9.8125 72.90625 \nL 51.703125 72.90625 \nL 51.703125 64.59375 \nL 19.671875 64.59375 \nL 19.671875 43.109375 \nL 48.578125 43.109375 \nL 48.578125 34.8125 \nL 19.671875 34.8125 \nL 19.671875 0 \nL 9.8125 0 \nz\n\" id=\"DejaVuSans-70\"/>\n       <path d=\"M 56.203125 29.59375 \nL 56.203125 25.203125 \nL 14.890625 25.203125 \nQ 15.484375 15.921875 20.484375 11.0625 \nQ 25.484375 6.203125 34.421875 6.203125 \nQ 39.59375 6.203125 44.453125 7.46875 \nQ 49.3125 8.734375 54.109375 11.28125 \nL 54.109375 2.78125 \nQ 49.265625 0.734375 44.1875 -0.34375 \nQ 39.109375 -1.421875 33.890625 -1.421875 \nQ 20.796875 -1.421875 13.15625 6.1875 \nQ 5.515625 13.8125 5.515625 26.8125 \nQ 5.515625 40.234375 12.765625 48.109375 \nQ 20.015625 56 32.328125 56 \nQ 43.359375 56 49.78125 48.890625 \nQ 56.203125 41.796875 56.203125 29.59375 \nz\nM 47.21875 32.234375 \nQ 47.125 39.59375 43.09375 43.984375 \nQ 39.0625 48.390625 32.421875 48.390625 \nQ 24.90625 48.390625 20.390625 44.140625 \nQ 15.875 39.890625 15.1875 32.171875 \nz\n\" id=\"DejaVuSans-101\"/>\n       <path d=\"M 25.390625 72.90625 \nL 33.6875 72.90625 \nL 8.296875 -9.28125 \nL 0 -9.28125 \nz\n\" id=\"DejaVuSans-47\"/>\n       <path d=\"M 9.8125 72.90625 \nL 19.671875 72.90625 \nL 19.671875 43.015625 \nL 55.515625 43.015625 \nL 55.515625 72.90625 \nL 65.375 72.90625 \nL 65.375 0 \nL 55.515625 0 \nL 55.515625 34.71875 \nL 19.671875 34.71875 \nL 19.671875 0 \nL 9.8125 0 \nz\n\" id=\"DejaVuSans-72\"/>\n       <path d=\"M 30.421875 75.984375 \nL 30.421875 -13.1875 \nL 9.71875 -13.1875 \nL 9.71875 -6.203125 \nL 21.390625 -6.203125 \nL 21.390625 69 \nL 9.71875 69 \nL 9.71875 75.984375 \nz\n\" id=\"DejaVuSans-93\"/>\n      </defs>\n      <use xlink:href=\"#DejaVuSans-91\"/>\n      <use x=\"39.013672\" xlink:href=\"#DejaVuSans-70\"/>\n      <use x=\"91.033203\" xlink:href=\"#DejaVuSans-101\"/>\n      <use x=\"152.556641\" xlink:href=\"#DejaVuSans-47\"/>\n      <use x=\"186.248047\" xlink:href=\"#DejaVuSans-72\"/>\n      <use x=\"261.443359\" xlink:href=\"#DejaVuSans-93\"/>\n     </g>\n    </g>\n   </g>\n   <g id=\"matplotlib.axis_2\">\n    <g id=\"ytick_1\">\n     <g id=\"line2d_13\">\n      <defs>\n       <path d=\"M 0 0 \nL -7 0 \n\" id=\"m61fa378ac8\" style=\"stroke:#000000;stroke-width:1.2;\"/>\n      </defs>\n      <g>\n       <use style=\"stroke:#000000;stroke-width:1.2;\" x=\"56.096563\" xlink:href=\"#m61fa378ac8\" y=\"256.12\"/>\n      </g>\n     </g>\n     <g id=\"line2d_14\">\n      <defs>\n       <path d=\"M 0 0 \nL 7 0 \n\" id=\"mc31fabf4e5\" style=\"stroke:#000000;stroke-width:1.2;\"/>\n      </defs>\n      <g>\n       <use style=\"stroke:#000000;stroke-width:1.2;\" x=\"386.576562\" xlink:href=\"#mc31fabf4e5\" y=\"256.12\"/>\n      </g>\n     </g>\n     <g id=\"text_8\">\n      <!-- −0.4 -->\n      <g transform=\"translate(20.81375 259.919219)scale(0.1 -0.1)\">\n       <defs>\n        <path d=\"M 37.796875 64.3125 \nL 12.890625 25.390625 \nL 37.796875 25.390625 \nz\nM 35.203125 72.90625 \nL 47.609375 72.90625 \nL 47.609375 25.390625 \nL 58.015625 25.390625 \nL 58.015625 17.1875 \nL 47.609375 17.1875 \nL 47.609375 0 \nL 37.796875 0 \nL 37.796875 17.1875 \nL 4.890625 17.1875 \nL 4.890625 26.703125 \nz\n\" id=\"DejaVuSans-52\"/>\n       </defs>\n       <use xlink:href=\"#DejaVuSans-8722\"/>\n       <use x=\"83.789062\" xlink:href=\"#DejaVuSans-48\"/>\n       <use x=\"147.412109\" xlink:href=\"#DejaVuSans-46\"/>\n       <use x=\"179.199219\" xlink:href=\"#DejaVuSans-52\"/>\n      </g>\n     </g>\n    </g>\n    <g id=\"ytick_2\">\n     <g id=\"line2d_15\">\n      <g>\n       <use style=\"stroke:#000000;stroke-width:1.2;\" x=\"56.096563\" xlink:href=\"#m61fa378ac8\" y=\"221.56\"/>\n      </g>\n     </g>\n     <g id=\"line2d_16\">\n      <g>\n       <use style=\"stroke:#000000;stroke-width:1.2;\" x=\"386.576562\" xlink:href=\"#mc31fabf4e5\" y=\"221.56\"/>\n      </g>\n     </g>\n     <g id=\"text_9\">\n      <!-- −0.2 -->\n      <g transform=\"translate(20.81375 225.359219)scale(0.1 -0.1)\">\n       <defs>\n        <path d=\"M 19.1875 8.296875 \nL 53.609375 8.296875 \nL 53.609375 0 \nL 7.328125 0 \nL 7.328125 8.296875 \nQ 12.9375 14.109375 22.625 23.890625 \nQ 32.328125 33.6875 34.8125 36.53125 \nQ 39.546875 41.84375 41.421875 45.53125 \nQ 43.3125 49.21875 43.3125 52.78125 \nQ 43.3125 58.59375 39.234375 62.25 \nQ 35.15625 65.921875 28.609375 65.921875 \nQ 23.96875 65.921875 18.8125 64.3125 \nQ 13.671875 62.703125 7.8125 59.421875 \nL 7.8125 69.390625 \nQ 13.765625 71.78125 18.9375 73 \nQ 24.125 74.21875 28.421875 74.21875 \nQ 39.75 74.21875 46.484375 68.546875 \nQ 53.21875 62.890625 53.21875 53.421875 \nQ 53.21875 48.921875 51.53125 44.890625 \nQ 49.859375 40.875 45.40625 35.40625 \nQ 44.1875 33.984375 37.640625 27.21875 \nQ 31.109375 20.453125 19.1875 8.296875 \nz\n\" id=\"DejaVuSans-50\"/>\n       </defs>\n       <use xlink:href=\"#DejaVuSans-8722\"/>\n       <use x=\"83.789062\" xlink:href=\"#DejaVuSans-48\"/>\n       <use x=\"147.412109\" xlink:href=\"#DejaVuSans-46\"/>\n       <use x=\"179.199219\" xlink:href=\"#DejaVuSans-50\"/>\n      </g>\n     </g>\n    </g>\n    <g id=\"ytick_3\">\n     <g id=\"line2d_17\">\n      <g>\n       <use style=\"stroke:#000000;stroke-width:1.2;\" x=\"56.096563\" xlink:href=\"#m61fa378ac8\" y=\"187\"/>\n      </g>\n     </g>\n     <g id=\"line2d_18\">\n      <g>\n       <use style=\"stroke:#000000;stroke-width:1.2;\" x=\"386.576562\" xlink:href=\"#mc31fabf4e5\" y=\"187\"/>\n      </g>\n     </g>\n     <g id=\"text_10\">\n      <!-- 0.0 -->\n      <g transform=\"translate(29.193438 190.799219)scale(0.1 -0.1)\">\n       <use xlink:href=\"#DejaVuSans-48\"/>\n       <use x=\"63.623047\" xlink:href=\"#DejaVuSans-46\"/>\n       <use x=\"95.410156\" xlink:href=\"#DejaVuSans-48\"/>\n      </g>\n     </g>\n    </g>\n    <g id=\"ytick_4\">\n     <g id=\"line2d_19\">\n      <g>\n       <use style=\"stroke:#000000;stroke-width:1.2;\" x=\"56.096563\" xlink:href=\"#m61fa378ac8\" y=\"152.44\"/>\n      </g>\n     </g>\n     <g id=\"line2d_20\">\n      <g>\n       <use style=\"stroke:#000000;stroke-width:1.2;\" x=\"386.576562\" xlink:href=\"#mc31fabf4e5\" y=\"152.44\"/>\n      </g>\n     </g>\n     <g id=\"text_11\">\n      <!-- 0.2 -->\n      <g transform=\"translate(29.193438 156.239219)scale(0.1 -0.1)\">\n       <use xlink:href=\"#DejaVuSans-48\"/>\n       <use x=\"63.623047\" xlink:href=\"#DejaVuSans-46\"/>\n       <use x=\"95.410156\" xlink:href=\"#DejaVuSans-50\"/>\n      </g>\n     </g>\n    </g>\n    <g id=\"ytick_5\">\n     <g id=\"line2d_21\">\n      <g>\n       <use style=\"stroke:#000000;stroke-width:1.2;\" x=\"56.096563\" xlink:href=\"#m61fa378ac8\" y=\"117.88\"/>\n      </g>\n     </g>\n     <g id=\"line2d_22\">\n      <g>\n       <use style=\"stroke:#000000;stroke-width:1.2;\" x=\"386.576562\" xlink:href=\"#mc31fabf4e5\" y=\"117.88\"/>\n      </g>\n     </g>\n     <g id=\"text_12\">\n      <!-- 0.4 -->\n      <g transform=\"translate(29.193438 121.679219)scale(0.1 -0.1)\">\n       <use xlink:href=\"#DejaVuSans-48\"/>\n       <use x=\"63.623047\" xlink:href=\"#DejaVuSans-46\"/>\n       <use x=\"95.410156\" xlink:href=\"#DejaVuSans-52\"/>\n      </g>\n     </g>\n    </g>\n    <g id=\"ytick_6\">\n     <g id=\"line2d_23\">\n      <g>\n       <use style=\"stroke:#000000;stroke-width:1.2;\" x=\"56.096563\" xlink:href=\"#m61fa378ac8\" y=\"83.32\"/>\n      </g>\n     </g>\n     <g id=\"line2d_24\">\n      <g>\n       <use style=\"stroke:#000000;stroke-width:1.2;\" x=\"386.576562\" xlink:href=\"#mc31fabf4e5\" y=\"83.32\"/>\n      </g>\n     </g>\n     <g id=\"text_13\">\n      <!-- 0.6 -->\n      <g transform=\"translate(29.193438 87.119219)scale(0.1 -0.1)\">\n       <defs>\n        <path d=\"M 33.015625 40.375 \nQ 26.375 40.375 22.484375 35.828125 \nQ 18.609375 31.296875 18.609375 23.390625 \nQ 18.609375 15.53125 22.484375 10.953125 \nQ 26.375 6.390625 33.015625 6.390625 \nQ 39.65625 6.390625 43.53125 10.953125 \nQ 47.40625 15.53125 47.40625 23.390625 \nQ 47.40625 31.296875 43.53125 35.828125 \nQ 39.65625 40.375 33.015625 40.375 \nz\nM 52.59375 71.296875 \nL 52.59375 62.3125 \nQ 48.875 64.0625 45.09375 64.984375 \nQ 41.3125 65.921875 37.59375 65.921875 \nQ 27.828125 65.921875 22.671875 59.328125 \nQ 17.53125 52.734375 16.796875 39.40625 \nQ 19.671875 43.65625 24.015625 45.921875 \nQ 28.375 48.1875 33.59375 48.1875 \nQ 44.578125 48.1875 50.953125 41.515625 \nQ 57.328125 34.859375 57.328125 23.390625 \nQ 57.328125 12.15625 50.6875 5.359375 \nQ 44.046875 -1.421875 33.015625 -1.421875 \nQ 20.359375 -1.421875 13.671875 8.265625 \nQ 6.984375 17.96875 6.984375 36.375 \nQ 6.984375 53.65625 15.1875 63.9375 \nQ 23.390625 74.21875 37.203125 74.21875 \nQ 40.921875 74.21875 44.703125 73.484375 \nQ 48.484375 72.75 52.59375 71.296875 \nz\n\" id=\"DejaVuSans-54\"/>\n       </defs>\n       <use xlink:href=\"#DejaVuSans-48\"/>\n       <use x=\"63.623047\" xlink:href=\"#DejaVuSans-46\"/>\n       <use x=\"95.410156\" xlink:href=\"#DejaVuSans-54\"/>\n      </g>\n     </g>\n    </g>\n    <g id=\"ytick_7\">\n     <g id=\"line2d_25\">\n      <g>\n       <use style=\"stroke:#000000;stroke-width:1.2;\" x=\"56.096563\" xlink:href=\"#m61fa378ac8\" y=\"48.76\"/>\n      </g>\n     </g>\n     <g id=\"line2d_26\">\n      <g>\n       <use style=\"stroke:#000000;stroke-width:1.2;\" x=\"386.576562\" xlink:href=\"#mc31fabf4e5\" y=\"48.76\"/>\n      </g>\n     </g>\n     <g id=\"text_14\">\n      <!-- 0.8 -->\n      <g transform=\"translate(29.193438 52.559219)scale(0.1 -0.1)\">\n       <defs>\n        <path d=\"M 31.78125 34.625 \nQ 24.75 34.625 20.71875 30.859375 \nQ 16.703125 27.09375 16.703125 20.515625 \nQ 16.703125 13.921875 20.71875 10.15625 \nQ 24.75 6.390625 31.78125 6.390625 \nQ 38.8125 6.390625 42.859375 10.171875 \nQ 46.921875 13.96875 46.921875 20.515625 \nQ 46.921875 27.09375 42.890625 30.859375 \nQ 38.875 34.625 31.78125 34.625 \nz\nM 21.921875 38.8125 \nQ 15.578125 40.375 12.03125 44.71875 \nQ 8.5 49.078125 8.5 55.328125 \nQ 8.5 64.0625 14.71875 69.140625 \nQ 20.953125 74.21875 31.78125 74.21875 \nQ 42.671875 74.21875 48.875 69.140625 \nQ 55.078125 64.0625 55.078125 55.328125 \nQ 55.078125 49.078125 51.53125 44.71875 \nQ 48 40.375 41.703125 38.8125 \nQ 48.828125 37.15625 52.796875 32.3125 \nQ 56.78125 27.484375 56.78125 20.515625 \nQ 56.78125 9.90625 50.3125 4.234375 \nQ 43.84375 -1.421875 31.78125 -1.421875 \nQ 19.734375 -1.421875 13.25 4.234375 \nQ 6.78125 9.90625 6.78125 20.515625 \nQ 6.78125 27.484375 10.78125 32.3125 \nQ 14.796875 37.15625 21.921875 38.8125 \nz\nM 18.3125 54.390625 \nQ 18.3125 48.734375 21.84375 45.5625 \nQ 25.390625 42.390625 31.78125 42.390625 \nQ 38.140625 42.390625 41.71875 45.5625 \nQ 45.3125 48.734375 45.3125 54.390625 \nQ 45.3125 60.0625 41.71875 63.234375 \nQ 38.140625 66.40625 31.78125 66.40625 \nQ 25.390625 66.40625 21.84375 63.234375 \nQ 18.3125 60.0625 18.3125 54.390625 \nz\n\" id=\"DejaVuSans-56\"/>\n       </defs>\n       <use xlink:href=\"#DejaVuSans-48\"/>\n       <use x=\"63.623047\" xlink:href=\"#DejaVuSans-46\"/>\n       <use x=\"95.410156\" xlink:href=\"#DejaVuSans-56\"/>\n      </g>\n     </g>\n    </g>\n    <g id=\"ytick_8\">\n     <g id=\"line2d_27\">\n      <g>\n       <use style=\"stroke:#000000;stroke-width:1.2;\" x=\"56.096563\" xlink:href=\"#m61fa378ac8\" y=\"14.2\"/>\n      </g>\n     </g>\n     <g id=\"line2d_28\">\n      <g>\n       <use style=\"stroke:#000000;stroke-width:1.2;\" x=\"386.576562\" xlink:href=\"#mc31fabf4e5\" y=\"14.2\"/>\n      </g>\n     </g>\n     <g id=\"text_15\">\n      <!-- 1.0 -->\n      <g transform=\"translate(29.193438 17.999219)scale(0.1 -0.1)\">\n       <use xlink:href=\"#DejaVuSans-49\"/>\n       <use x=\"63.623047\" xlink:href=\"#DejaVuSans-46\"/>\n       <use x=\"95.410156\" xlink:href=\"#DejaVuSans-48\"/>\n      </g>\n     </g>\n    </g>\n    <g id=\"text_16\">\n     <!-- [O/Fe] -->\n     <g transform=\"translate(16.318125 153.399063)rotate(-90)scale(0.12 -0.12)\">\n      <defs>\n       <path d=\"M 39.40625 66.21875 \nQ 28.65625 66.21875 22.328125 58.203125 \nQ 16.015625 50.203125 16.015625 36.375 \nQ 16.015625 22.609375 22.328125 14.59375 \nQ 28.65625 6.59375 39.40625 6.59375 \nQ 50.140625 6.59375 56.421875 14.59375 \nQ 62.703125 22.609375 62.703125 36.375 \nQ 62.703125 50.203125 56.421875 58.203125 \nQ 50.140625 66.21875 39.40625 66.21875 \nz\nM 39.40625 74.21875 \nQ 54.734375 74.21875 63.90625 63.9375 \nQ 73.09375 53.65625 73.09375 36.375 \nQ 73.09375 19.140625 63.90625 8.859375 \nQ 54.734375 -1.421875 39.40625 -1.421875 \nQ 24.03125 -1.421875 14.8125 8.828125 \nQ 5.609375 19.09375 5.609375 36.375 \nQ 5.609375 53.65625 14.8125 63.9375 \nQ 24.03125 74.21875 39.40625 74.21875 \nz\n\" id=\"DejaVuSans-79\"/>\n      </defs>\n      <use xlink:href=\"#DejaVuSans-91\"/>\n      <use x=\"39.013672\" xlink:href=\"#DejaVuSans-79\"/>\n      <use x=\"117.724609\" xlink:href=\"#DejaVuSans-47\"/>\n      <use x=\"151.416016\" xlink:href=\"#DejaVuSans-70\"/>\n      <use x=\"203.435547\" xlink:href=\"#DejaVuSans-101\"/>\n      <use x=\"264.958984\" xlink:href=\"#DejaVuSans-93\"/>\n     </g>\n    </g>\n   </g>\n   <g id=\"line2d_29\">\n    <path clip-path=\"url(#p6073f50457)\" d=\"M 59.401363 99.077738 \nL 66.010963 99.50984 \nL 72.620563 99.629461 \nL 79.230163 99.744251 \nL 85.839763 100.006985 \nL 92.449363 100.507251 \nL 99.058963 101.301934 \nL 105.668563 101.670019 \nL 112.278163 101.788336 \nL 118.887763 101.859471 \nL 125.497363 102.517224 \nL 132.106963 103.044861 \nL 138.716563 103.802733 \nL 145.326163 104.34978 \nL 151.935763 104.295011 \nL 158.545363 104.174901 \nL 165.154963 103.848046 \nL 171.764563 103.242085 \nL 178.374163 103.26751 \nL 184.983763 104.288517 \nL 191.593363 104.872586 \nL 198.202963 104.358179 \nL 204.812563 103.542192 \nL 211.422163 103.352415 \nL 218.031763 103.366433 \nL 224.641363 103.160625 \nL 231.250963 103.091339 \nL 237.860563 103.715994 \nL 244.470163 104.77838 \nL 251.079763 106.494168 \nL 257.689363 108.534165 \nL 264.298963 110.838951 \nL 270.908563 113.678104 \nL 277.518163 115.910082 \nL 284.127763 117.075115 \nL 290.737363 119.662817 \nL 297.346963 126.828569 \nL 303.956563 132.721064 \nL 310.566163 138.283912 \nL 317.175763 150.176168 \nL 323.785363 153.534668 \nL 330.394963 161.727427 \nL 337.004563 164.628451 \nL 343.614163 184.587763 \nL 350.223763 213.370053 \nL 356.833363 244.646 \nL 363.442963 187 \nL 370.052563 187 \nL 376.662163 187 \nL 383.271763 187 \n\" style=\"fill:none;stroke:#000000;stroke-linecap:square;stroke-width:3;\"/>\n   </g>\n   <g id=\"line2d_30\">\n    <path clip-path=\"url(#p6073f50457)\" d=\"M 59.401363 100.5715 \nL 66.010963 100.999019 \nL 72.620563 101.097882 \nL 79.230163 101.172924 \nL 85.839763 101.432122 \nL 92.449363 101.741349 \nL 99.058963 102.598033 \nL 105.668563 103.006741 \nL 112.278163 103.110815 \nL 118.887763 103.147088 \nL 125.497363 103.790689 \nL 132.106963 104.255364 \nL 138.716563 105.107761 \nL 145.326163 105.460417 \nL 151.935763 105.44398 \nL 158.545363 105.255826 \nL 165.154963 105.039001 \nL 171.764563 104.532351 \nL 178.374163 104.816312 \nL 184.983763 105.840585 \nL 191.593363 106.198927 \nL 198.202963 105.795569 \nL 204.812563 105.208281 \nL 211.422163 105.28545 \nL 218.031763 105.372759 \nL 224.641363 105.371019 \nL 231.250963 105.695958 \nL 237.860563 106.675529 \nL 244.470163 108.088158 \nL 251.079763 109.49925 \nL 257.689363 110.60899 \nL 264.298963 112.106052 \nL 270.908563 113.22745 \nL 277.518163 111.96234 \nL 284.127763 112.629749 \nL 290.737363 117.915031 \nL 297.346963 119.693043 \nL 303.956563 130.273625 \nL 310.566163 135.722079 \nL 317.175763 141.724286 \nL 323.785363 146.104019 \nL 330.394963 156.301986 \nL 337.004563 172.051206 \nL 343.614163 187.225624 \nL 350.223763 211.846341 \nL 356.833363 231.348025 \nL 363.442963 187 \nL 370.052563 187 \nL 376.662163 187 \nL 383.271763 187 \n\" style=\"fill:none;stroke:#1f77b4;stroke-linecap:square;stroke-width:3;\"/>\n   </g>\n   <g id=\"patch_3\">\n    <path d=\"M 56.096563 256.12 \nL 56.096563 14.2 \n\" style=\"fill:none;stroke:#000000;stroke-linecap:square;stroke-linejoin:miter;stroke-width:2;\"/>\n   </g>\n   <g id=\"patch_4\">\n    <path d=\"M 386.576562 256.12 \nL 386.576562 14.2 \n\" style=\"fill:none;stroke:#000000;stroke-linecap:square;stroke-linejoin:miter;stroke-width:2;\"/>\n   </g>\n   <g id=\"patch_5\">\n    <path d=\"M 56.096563 256.12 \nL 386.576563 256.12 \n\" style=\"fill:none;stroke:#000000;stroke-linecap:square;stroke-linejoin:miter;stroke-width:2;\"/>\n   </g>\n   <g id=\"patch_6\">\n    <path d=\"M 56.096563 14.2 \nL 386.576563 14.2 \n\" style=\"fill:none;stroke:#000000;stroke-linecap:square;stroke-linejoin:miter;stroke-width:2;\"/>\n   </g>\n   <g id=\"legend_1\">\n    <g id=\"patch_7\">\n     <path d=\"M 307.417187 52.05625 \nL 373.576562 52.05625 \nQ 375.576562 52.05625 375.576562 50.05625 \nL 375.576562 27.2 \nQ 375.576562 25.2 373.576562 25.2 \nL 307.417187 25.2 \nQ 305.417187 25.2 305.417187 27.2 \nL 305.417187 50.05625 \nQ 305.417187 52.05625 307.417187 52.05625 \nz\n\" style=\"fill:#ffffff;opacity:0.8;stroke:#999999;stroke-linejoin:miter;stroke-width:1.5;\"/>\n    </g>\n    <g id=\"line2d_31\">\n     <path d=\"M 307.917187 31.798438 \nL 317.917187 31.798438 \n\" style=\"fill:none;stroke:#000000;stroke-linecap:square;stroke-width:3;\"/>\n    </g>\n    <g id=\"line2d_32\"/>\n    <g id=\"text_17\">\n     <!-- simulation -->\n     <g transform=\"translate(320.917187 35.298438)scale(0.1 -0.1)\">\n      <defs>\n       <path d=\"M 44.28125 53.078125 \nL 44.28125 44.578125 \nQ 40.484375 46.53125 36.375 47.5 \nQ 32.28125 48.484375 27.875 48.484375 \nQ 21.1875 48.484375 17.84375 46.4375 \nQ 14.5 44.390625 14.5 40.28125 \nQ 14.5 37.15625 16.890625 35.375 \nQ 19.28125 33.59375 26.515625 31.984375 \nL 29.59375 31.296875 \nQ 39.15625 29.25 43.1875 25.515625 \nQ 47.21875 21.78125 47.21875 15.09375 \nQ 47.21875 7.46875 41.1875 3.015625 \nQ 35.15625 -1.421875 24.609375 -1.421875 \nQ 20.21875 -1.421875 15.453125 -0.5625 \nQ 10.6875 0.296875 5.421875 2 \nL 5.421875 11.28125 \nQ 10.40625 8.6875 15.234375 7.390625 \nQ 20.0625 6.109375 24.8125 6.109375 \nQ 31.15625 6.109375 34.5625 8.28125 \nQ 37.984375 10.453125 37.984375 14.40625 \nQ 37.984375 18.0625 35.515625 20.015625 \nQ 33.0625 21.96875 24.703125 23.78125 \nL 21.578125 24.515625 \nQ 13.234375 26.265625 9.515625 29.90625 \nQ 5.8125 33.546875 5.8125 39.890625 \nQ 5.8125 47.609375 11.28125 51.796875 \nQ 16.75 56 26.8125 56 \nQ 31.78125 56 36.171875 55.265625 \nQ 40.578125 54.546875 44.28125 53.078125 \nz\n\" id=\"DejaVuSans-115\"/>\n       <path d=\"M 9.421875 54.6875 \nL 18.40625 54.6875 \nL 18.40625 0 \nL 9.421875 0 \nz\nM 9.421875 75.984375 \nL 18.40625 75.984375 \nL 18.40625 64.59375 \nL 9.421875 64.59375 \nz\n\" id=\"DejaVuSans-105\"/>\n       <path d=\"M 52 44.1875 \nQ 55.375 50.25 60.0625 53.125 \nQ 64.75 56 71.09375 56 \nQ 79.640625 56 84.28125 50.015625 \nQ 88.921875 44.046875 88.921875 33.015625 \nL 88.921875 0 \nL 79.890625 0 \nL 79.890625 32.71875 \nQ 79.890625 40.578125 77.09375 44.375 \nQ 74.3125 48.1875 68.609375 48.1875 \nQ 61.625 48.1875 57.5625 43.546875 \nQ 53.515625 38.921875 53.515625 30.90625 \nL 53.515625 0 \nL 44.484375 0 \nL 44.484375 32.71875 \nQ 44.484375 40.625 41.703125 44.40625 \nQ 38.921875 48.1875 33.109375 48.1875 \nQ 26.21875 48.1875 22.15625 43.53125 \nQ 18.109375 38.875 18.109375 30.90625 \nL 18.109375 0 \nL 9.078125 0 \nL 9.078125 54.6875 \nL 18.109375 54.6875 \nL 18.109375 46.1875 \nQ 21.1875 51.21875 25.484375 53.609375 \nQ 29.78125 56 35.6875 56 \nQ 41.65625 56 45.828125 52.96875 \nQ 50 49.953125 52 44.1875 \nz\n\" id=\"DejaVuSans-109\"/>\n       <path d=\"M 8.5 21.578125 \nL 8.5 54.6875 \nL 17.484375 54.6875 \nL 17.484375 21.921875 \nQ 17.484375 14.15625 20.5 10.265625 \nQ 23.53125 6.390625 29.59375 6.390625 \nQ 36.859375 6.390625 41.078125 11.03125 \nQ 45.3125 15.671875 45.3125 23.6875 \nL 45.3125 54.6875 \nL 54.296875 54.6875 \nL 54.296875 0 \nL 45.3125 0 \nL 45.3125 8.40625 \nQ 42.046875 3.421875 37.71875 1 \nQ 33.40625 -1.421875 27.6875 -1.421875 \nQ 18.265625 -1.421875 13.375 4.4375 \nQ 8.5 10.296875 8.5 21.578125 \nz\nM 31.109375 56 \nz\n\" id=\"DejaVuSans-117\"/>\n       <path d=\"M 9.421875 75.984375 \nL 18.40625 75.984375 \nL 18.40625 0 \nL 9.421875 0 \nz\n\" id=\"DejaVuSans-108\"/>\n       <path d=\"M 34.28125 27.484375 \nQ 23.390625 27.484375 19.1875 25 \nQ 14.984375 22.515625 14.984375 16.5 \nQ 14.984375 11.71875 18.140625 8.90625 \nQ 21.296875 6.109375 26.703125 6.109375 \nQ 34.1875 6.109375 38.703125 11.40625 \nQ 43.21875 16.703125 43.21875 25.484375 \nL 43.21875 27.484375 \nz\nM 52.203125 31.203125 \nL 52.203125 0 \nL 43.21875 0 \nL 43.21875 8.296875 \nQ 40.140625 3.328125 35.546875 0.953125 \nQ 30.953125 -1.421875 24.3125 -1.421875 \nQ 15.921875 -1.421875 10.953125 3.296875 \nQ 6 8.015625 6 15.921875 \nQ 6 25.140625 12.171875 29.828125 \nQ 18.359375 34.515625 30.609375 34.515625 \nL 43.21875 34.515625 \nL 43.21875 35.40625 \nQ 43.21875 41.609375 39.140625 45 \nQ 35.0625 48.390625 27.6875 48.390625 \nQ 23 48.390625 18.546875 47.265625 \nQ 14.109375 46.140625 10.015625 43.890625 \nL 10.015625 52.203125 \nQ 14.9375 54.109375 19.578125 55.046875 \nQ 24.21875 56 28.609375 56 \nQ 40.484375 56 46.34375 49.84375 \nQ 52.203125 43.703125 52.203125 31.203125 \nz\n\" id=\"DejaVuSans-97\"/>\n       <path d=\"M 18.3125 70.21875 \nL 18.3125 54.6875 \nL 36.8125 54.6875 \nL 36.8125 47.703125 \nL 18.3125 47.703125 \nL 18.3125 18.015625 \nQ 18.3125 11.328125 20.140625 9.421875 \nQ 21.96875 7.515625 27.59375 7.515625 \nL 36.8125 7.515625 \nL 36.8125 0 \nL 27.59375 0 \nQ 17.1875 0 13.234375 3.875 \nQ 9.28125 7.765625 9.28125 18.015625 \nL 9.28125 47.703125 \nL 2.6875 47.703125 \nL 2.6875 54.6875 \nL 9.28125 54.6875 \nL 9.28125 70.21875 \nz\n\" id=\"DejaVuSans-116\"/>\n       <path d=\"M 30.609375 48.390625 \nQ 23.390625 48.390625 19.1875 42.75 \nQ 14.984375 37.109375 14.984375 27.296875 \nQ 14.984375 17.484375 19.15625 11.84375 \nQ 23.34375 6.203125 30.609375 6.203125 \nQ 37.796875 6.203125 41.984375 11.859375 \nQ 46.1875 17.53125 46.1875 27.296875 \nQ 46.1875 37.015625 41.984375 42.703125 \nQ 37.796875 48.390625 30.609375 48.390625 \nz\nM 30.609375 56 \nQ 42.328125 56 49.015625 48.375 \nQ 55.71875 40.765625 55.71875 27.296875 \nQ 55.71875 13.875 49.015625 6.21875 \nQ 42.328125 -1.421875 30.609375 -1.421875 \nQ 18.84375 -1.421875 12.171875 6.21875 \nQ 5.515625 13.875 5.515625 27.296875 \nQ 5.515625 40.765625 12.171875 48.375 \nQ 18.84375 56 30.609375 56 \nz\n\" id=\"DejaVuSans-111\"/>\n       <path d=\"M 54.890625 33.015625 \nL 54.890625 0 \nL 45.90625 0 \nL 45.90625 32.71875 \nQ 45.90625 40.484375 42.875 44.328125 \nQ 39.84375 48.1875 33.796875 48.1875 \nQ 26.515625 48.1875 22.3125 43.546875 \nQ 18.109375 38.921875 18.109375 30.90625 \nL 18.109375 0 \nL 9.078125 0 \nL 9.078125 54.6875 \nL 18.109375 54.6875 \nL 18.109375 46.1875 \nQ 21.34375 51.125 25.703125 53.5625 \nQ 30.078125 56 35.796875 56 \nQ 45.21875 56 50.046875 50.171875 \nQ 54.890625 44.34375 54.890625 33.015625 \nz\n\" id=\"DejaVuSans-110\"/>\n      </defs>\n      <use xlink:href=\"#DejaVuSans-115\"/>\n      <use x=\"52.099609\" xlink:href=\"#DejaVuSans-105\"/>\n      <use x=\"79.882812\" xlink:href=\"#DejaVuSans-109\"/>\n      <use x=\"177.294922\" xlink:href=\"#DejaVuSans-117\"/>\n      <use x=\"240.673828\" xlink:href=\"#DejaVuSans-108\"/>\n      <use x=\"268.457031\" xlink:href=\"#DejaVuSans-97\"/>\n      <use x=\"329.736328\" xlink:href=\"#DejaVuSans-116\"/>\n      <use x=\"368.945312\" xlink:href=\"#DejaVuSans-105\"/>\n      <use x=\"396.728516\" xlink:href=\"#DejaVuSans-111\"/>\n      <use x=\"457.910156\" xlink:href=\"#DejaVuSans-110\"/>\n     </g>\n    </g>\n    <g id=\"line2d_33\">\n     <path d=\"M 307.917187 43.976563 \nL 317.917187 43.976563 \n\" style=\"fill:none;stroke:#1f77b4;stroke-linecap:square;stroke-width:3;\"/>\n    </g>\n    <g id=\"line2d_34\"/>\n    <g id=\"text_18\">\n     <!-- age-tracer -->\n     <g transform=\"translate(320.917187 47.476563)scale(0.1 -0.1)\">\n      <defs>\n       <path d=\"M 45.40625 27.984375 \nQ 45.40625 37.75 41.375 43.109375 \nQ 37.359375 48.484375 30.078125 48.484375 \nQ 22.859375 48.484375 18.828125 43.109375 \nQ 14.796875 37.75 14.796875 27.984375 \nQ 14.796875 18.265625 18.828125 12.890625 \nQ 22.859375 7.515625 30.078125 7.515625 \nQ 37.359375 7.515625 41.375 12.890625 \nQ 45.40625 18.265625 45.40625 27.984375 \nz\nM 54.390625 6.78125 \nQ 54.390625 -7.171875 48.1875 -13.984375 \nQ 42 -20.796875 29.203125 -20.796875 \nQ 24.46875 -20.796875 20.265625 -20.09375 \nQ 16.0625 -19.390625 12.109375 -17.921875 \nL 12.109375 -9.1875 \nQ 16.0625 -11.328125 19.921875 -12.34375 \nQ 23.78125 -13.375 27.78125 -13.375 \nQ 36.625 -13.375 41.015625 -8.765625 \nQ 45.40625 -4.15625 45.40625 5.171875 \nL 45.40625 9.625 \nQ 42.625 4.78125 38.28125 2.390625 \nQ 33.9375 0 27.875 0 \nQ 17.828125 0 11.671875 7.65625 \nQ 5.515625 15.328125 5.515625 27.984375 \nQ 5.515625 40.671875 11.671875 48.328125 \nQ 17.828125 56 27.875 56 \nQ 33.9375 56 38.28125 53.609375 \nQ 42.625 51.21875 45.40625 46.390625 \nL 45.40625 54.6875 \nL 54.390625 54.6875 \nz\n\" id=\"DejaVuSans-103\"/>\n       <path d=\"M 4.890625 31.390625 \nL 31.203125 31.390625 \nL 31.203125 23.390625 \nL 4.890625 23.390625 \nz\n\" id=\"DejaVuSans-45\"/>\n       <path d=\"M 41.109375 46.296875 \nQ 39.59375 47.171875 37.8125 47.578125 \nQ 36.03125 48 33.890625 48 \nQ 26.265625 48 22.1875 43.046875 \nQ 18.109375 38.09375 18.109375 28.8125 \nL 18.109375 0 \nL 9.078125 0 \nL 9.078125 54.6875 \nL 18.109375 54.6875 \nL 18.109375 46.1875 \nQ 20.953125 51.171875 25.484375 53.578125 \nQ 30.03125 56 36.53125 56 \nQ 37.453125 56 38.578125 55.875 \nQ 39.703125 55.765625 41.0625 55.515625 \nz\n\" id=\"DejaVuSans-114\"/>\n       <path d=\"M 48.78125 52.59375 \nL 48.78125 44.1875 \nQ 44.96875 46.296875 41.140625 47.34375 \nQ 37.3125 48.390625 33.40625 48.390625 \nQ 24.65625 48.390625 19.8125 42.84375 \nQ 14.984375 37.3125 14.984375 27.296875 \nQ 14.984375 17.28125 19.8125 11.734375 \nQ 24.65625 6.203125 33.40625 6.203125 \nQ 37.3125 6.203125 41.140625 7.25 \nQ 44.96875 8.296875 48.78125 10.40625 \nL 48.78125 2.09375 \nQ 45.015625 0.34375 40.984375 -0.53125 \nQ 36.96875 -1.421875 32.421875 -1.421875 \nQ 20.0625 -1.421875 12.78125 6.34375 \nQ 5.515625 14.109375 5.515625 27.296875 \nQ 5.515625 40.671875 12.859375 48.328125 \nQ 20.21875 56 33.015625 56 \nQ 37.15625 56 41.109375 55.140625 \nQ 45.0625 54.296875 48.78125 52.59375 \nz\n\" id=\"DejaVuSans-99\"/>\n      </defs>\n      <use xlink:href=\"#DejaVuSans-97\"/>\n      <use x=\"61.279297\" xlink:href=\"#DejaVuSans-103\"/>\n      <use x=\"124.755859\" xlink:href=\"#DejaVuSans-101\"/>\n      <use x=\"186.279297\" xlink:href=\"#DejaVuSans-45\"/>\n      <use x=\"222.363281\" xlink:href=\"#DejaVuSans-116\"/>\n      <use x=\"261.572266\" xlink:href=\"#DejaVuSans-114\"/>\n      <use x=\"302.685547\" xlink:href=\"#DejaVuSans-97\"/>\n      <use x=\"363.964844\" xlink:href=\"#DejaVuSans-99\"/>\n      <use x=\"418.945312\" xlink:href=\"#DejaVuSans-101\"/>\n      <use x=\"480.46875\" xlink:href=\"#DejaVuSans-114\"/>\n     </g>\n    </g>\n   </g>\n  </g>\n </g>\n <defs>\n  <clipPath id=\"p6073f50457\">\n   <rect height=\"241.92\" width=\"330.48\" x=\"56.096563\" y=\"14.2\"/>\n  </clipPath>\n </defs>\n</svg>\n",
      "image/png": "[encoded data removed]"
     },
     "metadata": {
      "needs_background": "light"
     }
    }
   ],
   "metadata": {}
  },
  {
   "cell_type": "markdown",
   "source": [
    "## NuGrid"
   ],
   "metadata": {}
  },
  {
   "cell_type": "markdown",
   "source": [
    "As another example, lets generate the NuGrid tables and re-do the above with those. This\n",
    "requires having NuPYCee and Sygma installed (https://nugrid.github.io/NuPyCEE/index.html)"
   ],
   "metadata": {}
  },
  {
   "cell_type": "code",
   "execution_count": null,
   "source": [
    "# the NuGrid_yields class accepts kwargs to pass to the underlying\n",
    "# sygma model, so this allows for the use of the full Symga / NuGrid framework.\n",
    "#    this simple example just passes metallicity\n",
    "NuGrid_yield_model = gizmo.agetracers.NuGrid_yields(\n",
    "    iniZ = 0.01 # metal mass fraction (must equal a NuGrid table value)\n",
    "                                                    )\n",
    "\n",
    "\n",
    "NuGrid_yield_table = gizmo.agetracers.construct_yield_table(\n",
    "    NuGrid_yield_model, part.ageprop.age_bins/1000.0)\n",
    "\n",
    "# again, elements to generate for yield table are arbitary as long as \n",
    "# they are included in the yield model. Below uses all available elements:\n",
    "part.set_yield_table(NuGrid_yield_table, [str.lower(x) for x in NuGrid_yield_model.elements])"
   ],
   "outputs": [],
   "metadata": {}
  },
  {
   "cell_type": "code",
   "execution_count": null,
   "source": [
    "# Lets try this out with the NuGrid data now!\n",
    "\n",
    "from utilities.basic.binning import BinClass\n",
    "\n",
    "fig,ax=plt.subplots()\n",
    "fig.set_size_inches(6,4)\n",
    "\n",
    "bc    = BinClass([-4,2],number= int((2-(-4))/0.1))\n",
    "\n",
    "# plot the native simulation data:\n",
    "stats = bc.get_statistics_of_array(\n",
    "    part['star'].prop('metallicity.fe'),\n",
    "    part['star'].prop('metallicity.alpha - metallicity.fe')\n",
    ")\n",
    "    \n",
    "    \n",
    "ax.plot(stats['bin.mid'][:-1], stats['median'][:-1], lw=3, color = 'black', label = 'Simulation')\n",
    "ax.fill_between(stats['bin.mid'], stats['percent.16'], stats['percent.84'], alpha=0.2,\n",
    "                lw = 3, color='black')\n",
    "\n",
    "\n",
    "# plot the post-processed data.\n",
    "# this can be done with just the \".agetracer\" string, which works\n",
    "# for all things that the elements work on already (metallicity, mass, massfraction, etc.)\n",
    "bc    = BinClass([-4,2],number= int((2-(-4))/0.1))\n",
    "stats = bc.get_statistics_of_array(part['star'].prop('metallicity.agetracer.fe'),\n",
    "                                   part['star'].prop('metallicity.agetracer.alpha - metallicity.agetracer.fe'))\n",
    "    \n",
    "    \n",
    "ax.plot(stats['bin.mid'][:-1], stats['median'][:-1], lw=3, color = 'C0', label = 'NuGrid - solar')\n",
    "ax.fill_between(stats['bin.mid'], stats['percent.16'], stats['percent.84'], alpha=0.2,\n",
    "                lw = 3, color='C0')\n",
    "\n",
    "\n",
    "ax.legend(loc='best')\n",
    "ax.set_ylim(-1,1)\n",
    "ax.set_xlim(-4,2)\n",
    "ax.set_ylabel(r'[$\\alpha$/Fe]')\n",
    "ax.set_xlabel('[Fe/H]')"
   ],
   "outputs": [],
   "metadata": {}
  },
  {
   "cell_type": "markdown",
   "source": [
    "scratch space"
   ],
   "metadata": {}
  },
  {
   "cell_type": "code",
   "execution_count": 12,
   "source": [
    "distances = part['star'].prop('host.distance.principal.cylindrical')"
   ],
   "outputs": [],
   "metadata": {}
  },
  {
   "cell_type": "code",
   "execution_count": 19,
   "source": [
    "masks = (distances[:, 0] < 10) * (distances[:, 0] > 6)"
   ],
   "outputs": [],
   "metadata": {}
  },
  {
   "cell_type": "code",
   "execution_count": 21,
   "source": [
    "masks *= (distances[:, 2] < 3) * (distances[:, 2] > -3)"
   ],
   "outputs": [],
   "metadata": {}
  },
  {
   "cell_type": "code",
   "execution_count": 23,
   "source": [
    "velocities = part['star'].prop('host.velocity.principal.cylindrical')"
   ],
   "outputs": [],
   "metadata": {}
  },
  {
   "cell_type": "code",
   "execution_count": 26,
   "source": [
    "part['star'].prop('metallicity.iron')[masks]"
   ],
   "outputs": [
    {
     "output_type": "execute_result",
     "data": {
      "text/plain": [
       "array([ 0.11225732, -1.6793771 , -0.21120499, ..., -0.43260193,\n",
       "        0.19732301, -0.19561456], dtype=float32)"
      ]
     },
     "metadata": {},
     "execution_count": 26
    }
   ],
   "metadata": {}
  },
  {
   "cell_type": "code",
   "execution_count": 29,
   "source": [
    "part['star'].prop('metallicity.o')[masks]"
   ],
   "outputs": [
    {
     "output_type": "execute_result",
     "data": {
      "text/plain": [
       "array([ 0.59348047, -1.0845962 ,  0.25789762, ...,  0.06642766,\n",
       "        0.65832883,  0.267834  ], dtype=float32)"
      ]
     },
     "metadata": {},
     "execution_count": 29
    }
   ],
   "metadata": {}
  },
  {
   "cell_type": "code",
   "execution_count": 30,
   "source": [
    "part['star'].prop('age')[masks]"
   ],
   "outputs": [
    {
     "output_type": "execute_result",
     "data": {
      "text/plain": [
       "array([ 2.6579257 , 11.80348814,  4.89058245, ...,  8.22609781,\n",
       "        1.90892678,  5.17607961])"
      ]
     },
     "metadata": {},
     "execution_count": 30
    }
   ],
   "metadata": {}
  },
  {
   "cell_type": "code",
   "execution_count": 31,
   "source": [
    "part['star'].prop('form.redshift')[masks]"
   ],
   "outputs": [
    {
     "output_type": "execute_result",
     "data": {
      "text/plain": [
       "array([0.2213335 , 3.2861714 , 0.4752283 , ..., 1.1075187 , 0.15197301,\n",
       "       0.51442003], dtype=float32)"
      ]
     },
     "metadata": {},
     "execution_count": 31
    }
   ],
   "metadata": {}
  },
  {
   "cell_type": "code",
   "execution_count": null,
   "source": [],
   "outputs": [],
   "metadata": {}
  }
 ],
 "metadata": {
  "anaconda-cloud": {},
  "kernelspec": {
   "name": "python395jvsc74a57bd0563616ea0795551886fedfb6f43611ed89f67b819df42e5edfc6c6ce5ab0ec12",
   "display_name": "Python 3.9.5 64-bit ('base': conda)"
  },
  "language_info": {
   "codemirror_mode": {
    "name": "ipython",
    "version": 3
   },
   "file_extension": ".py",
   "mimetype": "text/x-python",
   "name": "python",
   "nbconvert_exporter": "python",
   "pygments_lexer": "ipython3",
   "version": "3.9.5"
  }
 },
 "nbformat": 4,
 "nbformat_minor": 1
}