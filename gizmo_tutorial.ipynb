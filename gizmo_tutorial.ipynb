{
 "cells": [
  {
   "cell_type": "markdown",
   "metadata": {},
   "source": [
    "First, move within a simulation directory. This directory should contains the sub-directory 'output/' that contains snapshot files, and a file 'snapshot_times.txt' that lists all snapshot scale-factors/redshifts/times in the simulation and their corresponding file index number."
   ]
  },
  {
   "cell_type": "markdown",
   "metadata": {},
   "source": [
    "Ensure that gizmo_analysis and utilities directories are in your python path, then..."
   ]
  },
  {
   "cell_type": "code",
   "execution_count": 1,
   "metadata": {},
   "outputs": [],
   "source": [
    "import gizmo_analysis as gizmo\n",
    "import utilities as ut"
   ]
  },
  {
   "cell_type": "code",
   "execution_count": 2,
   "metadata": {},
   "outputs": [
    {
     "data": {
      "text/plain": [
       "<module 'gizmo_analysis.gizmo_io' from '/Users/awetzel/work/research/analysis/gizmo_analysis/gizmo_io.py'>"
      ]
     },
     "execution_count": 2,
     "metadata": {},
     "output_type": "execute_result"
    }
   ],
   "source": [
    "# you can access the files as named or use the aliases in __init__.py to keep it shorter \n",
    "# for example, these are the same:\n",
    "\n",
    "gizmo.gizmo_io\n",
    "gizmo.io"
   ]
  },
  {
   "cell_type": "markdown",
   "metadata": {},
   "source": [
    "# read particle data"
   ]
  },
  {
   "cell_type": "code",
   "execution_count": 3,
   "metadata": {},
   "outputs": [
    {
     "name": "stdout",
     "output_type": "stream",
     "text": [
      "\n",
      "# in utilities.simulation.Snapshot():\n",
      "  reading:  snapshot_times.txt\n",
      "  input redshift = 0:  using snapshot index = 600, redshift = 0.000\n",
      "\n",
      "\n",
      "# in gizmo_analysis.gizmo_io.Read():\n",
      "* reading header from:  output/snapshot_600.hdf5\n",
      "  snapshot contains the following number of particles:\n",
      "    dark      (id = 1): 8820344 particles\n",
      "    dark2     (id = 2): 3081337 particles\n",
      "    gas       (id = 0): 5969934 particles\n",
      "    star      (id = 4): 3059250 particles\n",
      "    blackhole (id = 5): 0 particles\n",
      "\n",
      "* reading species: ['star', 'dark']\n",
      "* reading particles from:\n",
      "    output/snapshot_600.hdf5\n",
      "\n",
      "* reading cosmological parameters from:  initial_condition/ic_agora_m12i.conf\n",
      "\n",
      "* checking sanity of particle properties\n",
      "\n",
      "* assigning coordinates of host galaxy[s]/halo[s]:\n",
      "  position = (41821.974, 44122.005, 46288.448) [kpc comoving]\n",
      "  velocity = (-48.7, 73.2, 96.7) [km / s]\n",
      "\n"
     ]
    }
   ],
   "source": [
    "# read star and dark matter particles at z = 0\n",
    "\n",
    "part = gizmo.io.Read.read_snapshots(['star', 'dark'], 'redshift', 0)"
   ]
  },
  {
   "cell_type": "code",
   "execution_count": 4,
   "metadata": {},
   "outputs": [
    {
     "name": "stdout",
     "output_type": "stream",
     "text": [
      "\n",
      "# in utilities.simulation.Snapshot():\n",
      "  reading:  snapshot_times.txt\n",
      "  input redshift = 0:  using snapshot index = 600, redshift = 0.000\n",
      "\n",
      "\n",
      "# in gizmo_analysis.gizmo_io.Read():\n",
      "* reading header from:  output/snapshot_600.hdf5\n",
      "  snapshot contains the following number of particles:\n",
      "    dark      (id = 1): 8820344 particles\n",
      "    dark2     (id = 2): 3081337 particles\n",
      "    gas       (id = 0): 5969934 particles\n",
      "    star      (id = 4): 3059250 particles\n",
      "    blackhole (id = 5): 0 particles\n",
      "\n",
      "* reading species: ['dark', 'dark2', 'gas', 'star']\n",
      "* reading particles from:\n",
      "    output/snapshot_600.hdf5\n",
      "\n",
      "* reading cosmological parameters from:  initial_condition/ic_agora_m12i.conf\n",
      "\n",
      "* checking sanity of particle properties\n",
      "\n",
      "* assigning coordinates of host galaxy[s]/halo[s]:\n",
      "  position = (41821.974, 44122.005, 46288.448) [kpc comoving]\n",
      "  velocity = (-48.7, 73.2, 96.7) [km / s]\n",
      "\n"
     ]
    }
   ],
   "source": [
    "# alternately, read all particle species at z = 0\n",
    "\n",
    "part = gizmo.io.Read.read_snapshots('all', 'redshift', 0)"
   ]
  },
  {
   "cell_type": "code",
   "execution_count": null,
   "metadata": {},
   "outputs": [],
   "source": [
    "# this tutorial assumes that you are in the root directory of a simulation, \n",
    "# but you can read a simulation at any location using input argument 'simulation_directory'\n",
    "\n",
    "part = gizmo.io.Read.read_snapshots('all', 'redshift', 0, simulation_directory='/arb/it/rary/loc/a/tion')"
   ]
  },
  {
   "cell_type": "code",
   "execution_count": 5,
   "metadata": {},
   "outputs": [
    {
     "data": {
      "text/plain": [
       "dict_keys(['dark', 'dark2', 'gas', 'star'])"
      ]
     },
     "execution_count": 5,
     "metadata": {},
     "output_type": "execute_result"
    }
   ],
   "source": [
    "# each particle species is stored as its own dictionary\n",
    "# 'star' = stars, 'gas' = gas, 'dark' = dark matter, 'dark.2', 'dark.3', etc = low-resolution dark matter\n",
    "\n",
    "part.keys()"
   ]
  },
  {
   "cell_type": "code",
   "execution_count": 6,
   "metadata": {},
   "outputs": [
    {
     "data": {
      "text/plain": [
       "dict_keys(['position', 'mass', 'massfraction', 'id.child', 'id.generation', 'id', 'potential', 'form.scalefactor', 'velocity'])"
      ]
     },
     "execution_count": 6,
     "metadata": {},
     "output_type": "execute_result"
    }
   ],
   "source": [
    "# properties of star particles are stored as dictionary\n",
    "\n",
    "part['star'].keys()"
   ]
  },
  {
   "cell_type": "code",
   "execution_count": 7,
   "metadata": {},
   "outputs": [
    {
     "data": {
      "text/plain": [
       "dict_keys(['position', 'mass', 'id.child', 'id.generation', 'id', 'potential', 'velocity'])"
      ]
     },
     "execution_count": 7,
     "metadata": {},
     "output_type": "execute_result"
    }
   ],
   "source": [
    "# properties of dark matter particles\n",
    "\n",
    "part['dark'].keys()"
   ]
  },
  {
   "cell_type": "code",
   "execution_count": 8,
   "metadata": {},
   "outputs": [
    {
     "data": {
      "text/plain": [
       "dict_keys(['position', 'density', 'electron.fraction', 'temperature', 'mass', 'massfraction', 'hydrogen.neutral.fraction', 'id.child', 'id.generation', 'id', 'potential', 'smooth.length', 'sfr', 'velocity'])"
      ]
     },
     "execution_count": 8,
     "metadata": {},
     "output_type": "execute_result"
    }
   ],
   "source": [
    "# properties of gas particles\n",
    "\n",
    "part['gas'].keys()"
   ]
  },
  {
   "cell_type": "markdown",
   "metadata": {},
   "source": [
    "# particle properties"
   ]
  },
  {
   "cell_type": "code",
   "execution_count": 9,
   "metadata": {},
   "outputs": [
    {
     "data": {
      "text/plain": [
       "array([[43090.80575884, 49686.35374503, 41360.34283508],\n",
       "       [44928.29340924, 46498.85693528, 41973.80607722],\n",
       "       [44165.06982706, 45905.57328081, 47149.21746307],\n",
       "       ...,\n",
       "       [41959.19387506, 42547.66435227, 46108.83355536],\n",
       "       [41959.30623868, 42547.42814527, 46108.97969497],\n",
       "       [41959.30737559, 42547.08535602, 46108.55536859]])"
      ]
     },
     "execution_count": 9,
     "metadata": {},
     "output_type": "execute_result"
    }
   ],
   "source": [
    "# 3-D position of star particle (particle number x dimension number) [kpc comoving]\n",
    "\n",
    "part['star']['position']"
   ]
  },
  {
   "cell_type": "code",
   "execution_count": 10,
   "metadata": {},
   "outputs": [
    {
     "data": {
      "text/plain": [
       "array([[  15.888516,  364.97275 , -154.04498 ],\n",
       "       [ 172.60747 ,   55.058994, -366.62854 ],\n",
       "       [ 126.053955,   -8.004937,  121.11193 ],\n",
       "       ...,\n",
       "       [ -54.528496,   93.02893 ,  -25.309298],\n",
       "       [ -51.983   ,   31.671635,  -23.940857],\n",
       "       [ -80.71081 ,   96.28201 ,   -8.430067]], dtype=float32)"
      ]
     },
     "execution_count": 10,
     "metadata": {},
     "output_type": "execute_result"
    }
   ],
   "source": [
    "# 3-D velocity of star particle (particle number x dimension number) [km / s]\n",
    "\n",
    "part['star']['velocity']"
   ]
  },
  {
   "cell_type": "code",
   "execution_count": 11,
   "metadata": {},
   "outputs": [
    {
     "data": {
      "text/plain": [
       "array([62936.75 , 48761.668, 39828.047, ..., 41346.055, 38390.59 ,\n",
       "       37466.387], dtype=float32)"
      ]
     },
     "execution_count": 11,
     "metadata": {},
     "output_type": "execute_result"
    }
   ],
   "source": [
    "# mass of star particle [M_sun]\n",
    "\n",
    "part['star']['mass']"
   ]
  },
  {
   "cell_type": "code",
   "execution_count": 12,
   "metadata": {},
   "outputs": [
    {
     "data": {
      "text/plain": [
       "array([0.46287337, 0.5831701 , 0.46225446, ..., 0.77500224, 0.4109269 ,\n",
       "       0.321905  ], dtype=float32)"
      ]
     },
     "execution_count": 12,
     "metadata": {},
     "output_type": "execute_result"
    }
   ],
   "source": [
    "# formation scale-factor of star particle\n",
    "\n",
    "part['star']['form.scalefactor']"
   ]
  },
  {
   "cell_type": "code",
   "execution_count": 13,
   "metadata": {},
   "outputs": [
    {
     "data": {
      "text/plain": [
       "array([ 5.38456731,  7.35609019,  5.37457175, ..., 10.46071958,\n",
       "        4.55585177,  3.20527164])"
      ]
     },
     "execution_count": 13,
     "metadata": {},
     "output_type": "execute_result"
    }
   ],
   "source": [
    "# use .prop() to compute derived quantities,\n",
    "# such as the time [Gyr] when a star particle formed\n",
    "# see gizmo.io.ParticleDictionaryClass for all options for derived quantities\n",
    "\n",
    "part['star'].prop('form.time')"
   ]
  },
  {
   "cell_type": "code",
   "execution_count": 14,
   "metadata": {},
   "outputs": [
    {
     "data": {
      "text/plain": [
       "array([ 8.41417957,  6.44265669,  8.42417513, ...,  3.3380273 ,\n",
       "        9.24289511, 10.59347525])"
      ]
     },
     "execution_count": 14,
     "metadata": {},
     "output_type": "execute_result"
    }
   ],
   "source": [
    "# similarly, get the age of a star particle (the lookback time to when it formed) [Gyr]\n",
    "\n",
    "part['star'].prop('age')"
   ]
  },
  {
   "cell_type": "markdown",
   "metadata": {},
   "source": [
    "# elemental abundance / metallicity"
   ]
  },
  {
   "cell_type": "code",
   "execution_count": 15,
   "metadata": {},
   "outputs": [
    {
     "data": {
      "text/plain": [
       "array([[2.28875540e-02, 2.73702413e-01, 3.47784720e-03, ...,\n",
       "        5.18469051e-07, 2.59994462e-08, 5.13290921e-08],\n",
       "       [9.04264394e-03, 2.58452922e-01, 1.16026576e-03, ...,\n",
       "        2.35843927e-07, 1.29876696e-08, 2.13728626e-08],\n",
       "       [4.13827086e-03, 2.53816098e-01, 5.14813582e-04, ...,\n",
       "        1.17386868e-07, 1.05656595e-08, 1.46085215e-08],\n",
       "       ...,\n",
       "       [6.35253172e-03, 2.56642282e-01, 9.32708848e-04, ...,\n",
       "        1.83839319e-07, 1.09649676e-08, 1.77075563e-08],\n",
       "       [2.31894082e-03, 2.52064943e-01, 2.74994469e-04, ...,\n",
       "        5.56808217e-08, 4.70536632e-09, 6.90510316e-09],\n",
       "       [2.00070604e-03, 2.52106518e-01, 2.88566429e-04, ...,\n",
       "        4.50247768e-08, 1.88898119e-09, 3.96916411e-09]], dtype=float32)"
      ]
     },
     "execution_count": 15,
     "metadata": {},
     "output_type": "execute_result"
    }
   ],
   "source": [
    "# elemental abundance is stored in the catalog as *linear mass fraction*\n",
    "# one value for each element, in a array (particle_number x element number)\n",
    "# the first value is the mass fraction of all metals (everything not H, He)\n",
    "# then He, C, N, O, etc\n",
    "\n",
    "part['star']['massfraction']"
   ]
  },
  {
   "cell_type": "code",
   "execution_count": 16,
   "metadata": {},
   "outputs": [
    {
     "name": "stdout",
     "output_type": "stream",
     "text": [
      "[0.02288755 0.00904264 0.00413827 ... 0.00635253 0.00231894 0.00200071]\n",
      "[8.5570500e-04 4.0123638e-04 1.7354584e-04 ... 2.8746785e-04 9.2642935e-05\n",
      " 7.1826209e-05]\n"
     ]
    }
   ],
   "source": [
    "# get individual elements by their index\n",
    "\n",
    "# total metal mass fraction (everything not H, He) is index 0\n",
    "print(part['star']['massfraction'][:, 0])\n",
    "\n",
    "# iron is index 10\n",
    "print(part['star']['massfraction'][:, 10])"
   ]
  },
  {
   "cell_type": "code",
   "execution_count": 17,
   "metadata": {},
   "outputs": [
    {
     "name": "stdout",
     "output_type": "stream",
     "text": [
      "[0.02288755 0.00904264 0.00413827 ... 0.00635253 0.00231894 0.00200071]\n",
      "[0.00347785 0.00116027 0.00051481 ... 0.00093271 0.00027499 0.00028857]\n",
      "[8.5570500e-04 4.0123638e-04 1.7354584e-04 ... 2.8746785e-04 9.2642935e-05\n",
      " 7.1826209e-05]\n",
      "[8.5570500e-04 4.0123638e-04 1.7354584e-04 ... 2.8746785e-04 9.2642935e-05\n",
      " 7.1826209e-05]\n"
     ]
    }
   ],
   "source": [
    "# alternately use .prop() to compute derived quantities,\n",
    "# including calling element by its name or symbol\n",
    "# see gizmo.io.ParticleDictionaryClass for all options for derived quantities\n",
    "\n",
    "print(part['star'].prop('massfraction.metals'))\n",
    "print(part['star'].prop('massfraction.carbon'))\n",
    "print(part['star'].prop('massfraction.iron'))\n",
    "print(part['star'].prop('massfraction.fe'))  # can use name or symbol"
   ]
  },
  {
   "cell_type": "code",
   "execution_count": 18,
   "metadata": {},
   "outputs": [
    {
     "name": "stdout",
     "output_type": "stream",
     "text": [
      "[ 0.23249461 -0.17080936 -0.5102859  ... -0.32415795 -0.76181513\n",
      " -0.8259215 ]\n",
      "[-0.17933045 -0.50825423 -0.8722403  ... -0.65306526 -1.1448423\n",
      " -1.2553716 ]\n"
     ]
    }
   ],
   "source": [
    "# also use .prop() to compute metallicity [Z/H]\n",
    "# for example, iron abundance [Fe/H] :=\n",
    "#   log10((mass_iron / mass_hydrogen)_particle / (mass_iron / mass_hydrogen)_sun)\n",
    "# my pipeline assumes solar abundances from Asplund et al 2009\n",
    "\n",
    "print(part['star'].prop('metallicity.total'))\n",
    "print(part['star'].prop('metallicity.fe'))"
   ]
  },
  {
   "cell_type": "code",
   "execution_count": 19,
   "metadata": {},
   "outputs": [
    {
     "data": {
      "text/plain": [
       "array([0.31506985, 0.2700966 , 0.29745406, ..., 0.2505798 , 0.3211267 ,\n",
       "       0.35478264], dtype=float32)"
      ]
     },
     "execution_count": 19,
     "metadata": {},
     "output_type": "execute_result"
    }
   ],
   "source": [
    "# also use .prop() to compute simple arithmetic combinations, such as [Mg/Fe]\n",
    "\n",
    "part['star'].prop('metallicity.mg - metallicity.fe')"
   ]
  },
  {
   "cell_type": "code",
   "execution_count": 20,
   "metadata": {},
   "outputs": [
    {
     "data": {
      "text/plain": [
       "{'hydrogen': {'massfraction': 0.7381},\n",
       " 'helium': {'abundance': 0.08511380382023759, 'massfraction': 0.2485},\n",
       " 'metals': {'massfraction': 0.0134},\n",
       " 'total': {'massfraction': 0.0134},\n",
       " 'carbon': {'abundance': 0.0002691534803926914,\n",
       "  'massfraction': 0.002367134813394483},\n",
       " 'nitrogen': {'abundance': 6.760829753919819e-05,\n",
       "  'massfraction': 0.0006934106379733354},\n",
       " 'oxygen': {'abundance': 0.0004897788193684457,\n",
       "  'massfraction': 0.005737971271592906},\n",
       " 'neon': {'abundance': 8.51138038202376e-05,\n",
       "  'massfraction': 0.0012576777529689648},\n",
       " 'magnesium': {'abundance': 3.9810717055349695e-05,\n",
       "  'massfraction': 0.0007085170384267315},\n",
       " 'silicon': {'abundance': 3.235936569296281e-05,\n",
       "  'massfraction': 0.0006654827968172229},\n",
       " 'sulphur': {'abundance': 1.3182567385564074e-05,\n",
       "  'massfraction': 0.00030951800499730997},\n",
       " 'calcium': {'abundance': 2.1877616239495517e-06,\n",
       "  'massfraction': 6.420379718268677e-05},\n",
       " 'iron': {'abundance': 3.1622776601683795e-05,\n",
       "  'massfraction': 0.0012931667271008657},\n",
       " 'h': {'massfraction': 0.7381},\n",
       " 'he': {'abundance': 0.08511380382023759, 'massfraction': 0.2485},\n",
       " 'c': {'abundance': 0.0002691534803926914,\n",
       "  'massfraction': 0.002367134813394483},\n",
       " 'n': {'abundance': 6.760829753919819e-05,\n",
       "  'massfraction': 0.0006934106379733354},\n",
       " 'o': {'abundance': 0.0004897788193684457,\n",
       "  'massfraction': 0.005737971271592906},\n",
       " 'ne': {'abundance': 8.51138038202376e-05,\n",
       "  'massfraction': 0.0012576777529689648},\n",
       " 'mg': {'abundance': 3.9810717055349695e-05,\n",
       "  'massfraction': 0.0007085170384267315},\n",
       " 'si': {'abundance': 3.235936569296281e-05,\n",
       "  'massfraction': 0.0006654827968172229},\n",
       " 's': {'abundance': 1.3182567385564074e-05,\n",
       "  'massfraction': 0.00030951800499730997},\n",
       " 'ca': {'abundance': 2.1877616239495517e-06,\n",
       "  'massfraction': 6.420379718268677e-05},\n",
       " 'fe': {'abundance': 3.1622776601683795e-05,\n",
       "  'massfraction': 0.0012931667271008657}}"
      ]
     },
     "execution_count": 20,
     "metadata": {},
     "output_type": "execute_result"
    }
   ],
   "source": [
    "# refer to utilities.basic.constant for assumed solar values (Asplund et al 2009) and other constants\n",
    "\n",
    "ut.constant.sun_composition"
   ]
  },
  {
   "cell_type": "markdown",
   "metadata": {},
   "source": [
    "# additional information stored in sub-dictionaries"
   ]
  },
  {
   "cell_type": "code",
   "execution_count": 21,
   "metadata": {},
   "outputs": [
    {
     "data": {
      "text/plain": [
       "{'particle.numbers.in.file': array([5969934, 8820344, 3081337,       0, 3059250,       0], dtype=int32),\n",
       " 'particle.numbers.total': array([5969934, 8820344, 3081337,       0, 3059250,       0], dtype=uint32),\n",
       " 'particle.numbers.total.high.word': array([0, 0, 0, 0, 0, 0], dtype=uint32),\n",
       " 'particle.masses': array([0., 0., 0., 0., 0., 0.]),\n",
       " 'redshift': 0.0,\n",
       " 'box.length': 85470.08547008547,\n",
       " 'file.number.per.snapshot': 1,\n",
       " 'omega_matter': 0.272,\n",
       " 'omega_lambda': 0.728,\n",
       " 'hubble': 0.702,\n",
       " 'has.star.formation': 1,\n",
       " 'has.cooling': 1,\n",
       " 'has.star.age': 1,\n",
       " 'has.metals': 15,\n",
       " 'has.feedback': 1,\n",
       " 'has.double.precision': 0,\n",
       " 'has.ic.info': 3,\n",
       " 'compression.level': 0,\n",
       " 'compression.readme': 'This snapshot is part of the Feedback in Realistic Environments (FIRE) project -- Use, modification, or distribution only permitted with approval of the PI and the FIRE team -- No warranty, use at your own risk -- compactify_hdf5 (c) RF 2018',\n",
       " 'compression.version': 'v0.2',\n",
       " 'is.cosmological': True,\n",
       " 'scalefactor': 1.0,\n",
       " 'box.length/h': 60000.0,\n",
       " 'has.baryons': True,\n",
       " 'simulation.name': '',\n",
       " 'catalog.kind': 'particle'}"
      ]
     },
     "execution_count": 21,
     "metadata": {},
     "output_type": "execute_result"
    }
   ],
   "source": [
    "# dictionary of useful information about the simulation\n",
    "\n",
    "part.info"
   ]
  },
  {
   "cell_type": "code",
   "execution_count": 22,
   "metadata": {},
   "outputs": [
    {
     "data": {
      "text/plain": [
       "{'index': 600,\n",
       " 'redshift': 0.0,\n",
       " 'scalefactor': 1.0,\n",
       " 'time': 13.798746882657936,\n",
       " 'time.lookback': 0.0,\n",
       " 'time.hubble': 13.928664125669}"
      ]
     },
     "execution_count": 22,
     "metadata": {},
     "output_type": "execute_result"
    }
   ],
   "source": [
    "# dictionary of information about this snapshot's index, scale-factor, redshift, time, lookback-time\n",
    "\n",
    "part.snapshot"
   ]
  },
  {
   "cell_type": "code",
   "execution_count": 23,
   "metadata": {},
   "outputs": [
    {
     "name": "stdout",
     "output_type": "stream",
     "text": [
      "dict_keys(['index', 'scalefactor', 'redshift', 'time', 'time.width'])\n",
      "[99.        19.        15.        14.605911  14.230769  13.8732395\n",
      " 13.53211   13.206278  12.894737  12.596566 ]\n"
     ]
    }
   ],
   "source": [
    "# dictionary class of arrays about *all* snapshots that were saved for the simulation\n",
    "\n",
    "print(part.Snapshot.keys())\n",
    "print(part.Snapshot['redshift'][:10])"
   ]
  },
  {
   "cell_type": "code",
   "execution_count": 24,
   "metadata": {},
   "outputs": [
    {
     "data": {
      "text/plain": [
       "{'omega_lambda': 0.728,\n",
       " 'omega_matter': 0.272,\n",
       " 'omega_baryon': 0.0455,\n",
       " 'omega_curvature': 0.0,\n",
       " 'omega_dm': 0.22650000000000003,\n",
       " 'baryon.fraction': 0.16727941176470587,\n",
       " 'hubble': 0.7020000000000001,\n",
       " 'sigma_8': 0.807,\n",
       " 'n_s': 0.961,\n",
       " 'w': -1.0}"
      ]
     },
     "execution_count": 24,
     "metadata": {},
     "output_type": "execute_result"
    }
   ],
   "source": [
    "# dictionary class of cosmological parameters, with function for cosmological conversions\n",
    "\n",
    "part.Cosmology"
   ]
  },
  {
   "cell_type": "code",
   "execution_count": 26,
   "metadata": {},
   "outputs": [
    {
     "name": "stdout",
     "output_type": "stream",
     "text": [
      "[[41821.97367711 44122.00484177 46288.4484585 ]]\n",
      "[[-48.737286  73.20827   96.66946 ]]\n"
     ]
    }
   ],
   "source": [
    "# position [kpc comoving] and velocity [km / s] of the center of each host galaxy\n",
    "# this was computed and stored during read in\n",
    "# can store multiple hosts, though usually just one\n",
    "\n",
    "print(part.host_positions)\n",
    "print(part.host_velocities)"
   ]
  },
  {
   "cell_type": "markdown",
   "metadata": {},
   "source": [
    "See gizmo.analysis for examples of high-level analysis, including plotting these data.\n",
    "\n",
    "See ut.particle for mid-level analysis functions that may be useful.\n",
    "\n",
    "See other modules within utilities for low-level functions that may be useful."
   ]
  },
  {
   "cell_type": "markdown",
   "metadata": {},
   "source": [
    "# principal axes of stellar disk"
   ]
  },
  {
   "cell_type": "code",
   "execution_count": 36,
   "metadata": {},
   "outputs": [
    {
     "name": "stdout",
     "output_type": "stream",
     "text": [
      "\n",
      "# in utilities.simulation.Snapshot():\n",
      "  reading:  snapshot_times.txt\n",
      "  input redshift = 0:  using snapshot index = 600, redshift = 0.000\n",
      "\n",
      "\n",
      "# in gizmo_analysis.gizmo_io.Read():\n",
      "* reading header from:  output/snapshot_600.hdf5\n",
      "  snapshot contains the following number of particles:\n",
      "    dark      (id = 1): 8820344 particles\n",
      "    dark2     (id = 2): 3081337 particles\n",
      "    gas       (id = 0): 5969934 particles\n",
      "    star      (id = 4): 3059250 particles\n",
      "    blackhole (id = 5): 0 particles\n",
      "\n",
      "* reading species: ['star', 'dark']\n",
      "* reading particles from:\n",
      "    output/snapshot_600.hdf5\n",
      "\n",
      "* reading cosmological parameters from:  initial_condition/ic_agora_m12i.conf\n",
      "\n",
      "* checking sanity of particle properties\n",
      "\n",
      "* assigning coordinates of host galaxy[s]/halo[s]:\n",
      "  position = (41821.974, 44122.005, 46288.448) [kpc comoving]\n",
      "  velocity = (-48.7, 73.2, 96.7) [km / s]\n",
      "\n",
      "* assigning principal axes of host galaxy[s]/halo[s]:\n",
      "  using star particles at distance < 15 kpc\n",
      "  using distances that encloses 90% of mass\n",
      "  using youngest 30% of star particles\n",
      "\n",
      "# in utilities.particle.get_principal_axes():\n",
      "  using star particles with age = [0.000, 5.505] Gyr\n",
      "  axis ratios: min/maj = 0.162, min/med = 0.166, med/maj = 0.974\n",
      "\n"
     ]
    }
   ],
   "source": [
    "# compute and assign principal axes (defined via moment of inertia tensor) of stars during read in as below\n",
    "\n",
    "part = gizmo.io.Read.read_snapshots(['star', 'dark'], 'redshift', 0, assign_host_principal_axes=True)"
   ]
  },
  {
   "cell_type": "code",
   "execution_count": 39,
   "metadata": {},
   "outputs": [
    {
     "name": "stdout",
     "output_type": "stream",
     "text": [
      "[[ 0.20397335  0.45612521  0.86622437]\n",
      " [ 0.8729429   0.31577278 -0.37183093]\n",
      " [-0.44313154  0.83200802 -0.33376204]]\n"
     ]
    }
   ],
   "source": [
    "# rotation tensors of principal axes for each host are stored via\n",
    "\n",
    "print(part.host_rotation_tensors[0])"
   ]
  },
  {
   "cell_type": "code",
   "execution_count": 40,
   "metadata": {},
   "outputs": [
    {
     "data": {
      "text/plain": [
       "array([[ 1268.83208172,  5564.34890325, -4928.10562341],\n",
       "       [ 3106.31973213,  2376.85209351, -4314.64238128],\n",
       "       [ 2343.09614995,  1783.56843904,   860.76900457],\n",
       "       ...,\n",
       "       [  137.22019795, -1574.3404895 ,  -179.61490314],\n",
       "       [  137.33256157, -1574.5766965 ,  -179.46876353],\n",
       "       [  137.33369847, -1574.91948576,  -179.89308991]])"
      ]
     },
     "execution_count": 40,
     "metadata": {},
     "output_type": "execute_result"
    }
   ],
   "source": [
    "# now can compute different types of distance of star particle from center of host galaxy\n",
    "# compute 3-D distance from host galaxy center along simulation's default x,y,z cartesian axes [kpc physical]\n",
    "\n",
    "part['star'].prop('host.distance')"
   ]
  },
  {
   "cell_type": "code",
   "execution_count": 41,
   "metadata": {},
   "outputs": [
    {
     "data": {
      "text/plain": [
       "array([7540.43358198, 5823.640359  , 3067.92099375, ..., 1590.48384872,\n",
       "       1590.71086081, 1591.09819155])"
      ]
     },
     "execution_count": 41,
     "metadata": {},
     "output_type": "execute_result"
    }
   ],
   "source": [
    "# compute total (scalar) distance\n",
    "\n",
    "part['star'].prop('host.distance.total')"
   ]
  },
  {
   "cell_type": "code",
   "execution_count": 42,
   "metadata": {},
   "outputs": [
    {
     "data": {
      "text/plain": [
       "array([[-1471.99745052,  4697.1099597 ,  5712.13796546],\n",
       "       [-2019.69978771,  5066.5024369 ,  2041.11559089],\n",
       "       [ 2037.07879133,  2288.53098007,   158.35142894],\n",
       "       ...,\n",
       "       [ -845.6939332 ,  -310.56209532, -1310.72187337],\n",
       "       [ -845.65216429,  -310.59293526, -1311.01696721],\n",
       "       [ -846.17584907,  -310.54240865, -1311.16105038]])"
      ]
     },
     "execution_count": 42,
     "metadata": {},
     "output_type": "execute_result"
    }
   ],
   "source": [
    "# compute 3-D distance aligned with the principal (major, intermediate, minor) axes\n",
    "\n",
    "part['star'].prop('host.distance.principal')"
   ]
  },
  {
   "cell_type": "code",
   "execution_count": 43,
   "metadata": {},
   "outputs": [
    {
     "data": {
      "text/plain": [
       "array([[ 4.92235903e+03,  5.71213797e+03,  1.87448602e+00],\n",
       "       [ 5.45423085e+03,  2.04111559e+03,  1.95012791e+00],\n",
       "       [ 3.06383160e+03,  1.58351429e+02,  8.43463855e-01],\n",
       "       ...,\n",
       "       [ 9.00914560e+02, -1.31072187e+03,  3.49353175e+00],\n",
       "       [ 9.00885983e+02, -1.31101697e+03,  3.49357987e+00],\n",
       "       [ 9.01360169e+02, -1.31116105e+03,  3.49332695e+00]])"
      ]
     },
     "execution_count": 43,
     "metadata": {},
     "output_type": "execute_result"
    }
   ],
   "source": [
    "# compute 3-D distance aligned with the principal axes in cylindrical coordinates\n",
    "# first value is along the major axes (R, positive definite)\n",
    "# second value is vertical height wrt the disk (Z, signed)\n",
    "# third value is angle (phi, 0 to 2 * pi)\n",
    "\n",
    "part['star'].prop('host.distance.principal.cylindrical')"
   ]
  },
  {
   "cell_type": "code",
   "execution_count": 44,
   "metadata": {},
   "outputs": [
    {
     "data": {
      "text/plain": [
       "array([[ 153.69781  ,  682.3818   , -596.6675   ],\n",
       "       [ 439.40842  ,  148.70575  , -766.1859   ],\n",
       "       [ 339.27658  ,   43.9933   ,   84.86846  ],\n",
       "       ...,\n",
       "       [   3.8416476,  -90.69804  , -134.58772  ],\n",
       "       [   6.3950295, -152.07191  , -133.20901  ],\n",
       "       [ -22.332697 ,  -87.4856   , -117.72802  ]], dtype=float32)"
      ]
     },
     "execution_count": 44,
     "metadata": {},
     "output_type": "execute_result"
    }
   ],
   "source": [
    "# same for velocity\n",
    "# compute 3-D velocity from host galaxy center along simulation's default x,y,z cartesian axes [km / s]\n",
    "\n",
    "part['star'].prop('host.velocity')"
   ]
  },
  {
   "cell_type": "code",
   "execution_count": 45,
   "metadata": {},
   "outputs": [
    {
     "data": {
      "text/plain": [
       "array([919.3911 , 895.6752 , 352.48642, ..., 162.34145, 202.26569,\n",
       "       148.36565], dtype=float32)"
      ]
     },
     "execution_count": 45,
     "metadata": {},
     "output_type": "execute_result"
    }
   ],
   "source": [
    "# compute total (scalar) velocity [km / s]\n",
    "\n",
    "part['star'].prop('host.velocity.total')"
   ]
  },
  {
   "cell_type": "code",
   "execution_count": 46,
   "metadata": {},
   "outputs": [
    {
     "data": {
      "text/plain": [
       "array([[-174.24612  ,  571.5064   ,  698.7837   ],\n",
       "       [-506.23285  ,  715.4273   ,  184.73242  ],\n",
       "       [ 162.78496  ,  278.50424  , -142.06725  ],\n",
       "       ...,\n",
       "       [-157.16924  ,   24.757446 ,  -32.243576 ],\n",
       "       [-183.44832  ,    7.0935564,  -84.89878  ],\n",
       "       [-146.43854  ,   -3.3458223,  -23.599258 ]], dtype=float32)"
      ]
     },
     "execution_count": 46,
     "metadata": {},
     "output_type": "execute_result"
    }
   ],
   "source": [
    "# compute 3-D velocity along the principal (major, intermediate, minor) axes [km / s]\n",
    "\n",
    "part['star'].prop('host.velocity.principal')"
   ]
  },
  {
   "cell_type": "code",
   "execution_count": 47,
   "metadata": {},
   "outputs": [
    {
     "data": {
      "text/plain": [
       "array([[ 597.4611   ,  698.7837   ,   -4.6324883],\n",
       "       [ 852.0271   ,  184.73242  ,  205.32347  ],\n",
       "       [ 316.2613   , -142.06725  ,   63.57943  ],\n",
       "       ...,\n",
       "       [ 139.00136  ,  -32.243576 ,  -77.419136 ],\n",
       "       [ 169.7554   ,  -84.89878  ,  -69.905    ],\n",
       "       [ 138.6258   ,  -23.599258 ,  -47.310966 ]], dtype=float32)"
      ]
     },
     "execution_count": 47,
     "metadata": {},
     "output_type": "execute_result"
    }
   ],
   "source": [
    "# compute 3-D velocity in cylindrical coordinates\n",
    "# first value is along the major axes (positive definite)\n",
    "# second value is vertical velocity wrt the disk (signed)\n",
    "# third value is azimuthal velocity in the plane of the disk (positive definite)\n",
    "\n",
    "part['star'].prop('host.velocity.principal.cylindrical')"
   ]
  },
  {
   "cell_type": "markdown",
   "metadata": {},
   "source": [
    "# particle tracking"
   ]
  },
  {
   "cell_type": "markdown",
   "metadata": {},
   "source": [
    "Some simulations have pre-compiled HDF5 files to help with star particle tracking. These are stored in the directory 'track/' (if present). The code that generates and reads these files is in gizmo_track.py."
   ]
  },
  {
   "cell_type": "markdown",
   "metadata": {},
   "source": [
    "star\\_indices\\_*.hdf5 files store, for each star particles at z = 0, a pointer to where it was in the catalog at each previous snapshot (replace * with snapshot index). This makes it easy to quickly get the properties of a given star particle at any previous snapshot. These pointers are stored in an HDF5 file, one for each previous snapshot."
   ]
  },
  {
   "cell_type": "code",
   "execution_count": 48,
   "metadata": {},
   "outputs": [
    {
     "name": "stdout",
     "output_type": "stream",
     "text": [
      "\n",
      "# in utilities.simulation.Snapshot():\n",
      "  reading:  snapshot_times.txt\n",
      "  input redshift = 0:  using snapshot index = 600, redshift = 0.000\n",
      "\n",
      "\n",
      "# in gizmo_analysis.gizmo_io.Read():\n",
      "* reading header from:  output/snapshot_600.hdf5\n",
      "  snapshot contains the following number of particles:\n",
      "    dark      (id = 1): 8820344 particles\n",
      "    dark2     (id = 2): 3081337 particles\n",
      "    gas       (id = 0): 5969934 particles\n",
      "    star      (id = 4): 3059250 particles\n",
      "    blackhole (id = 5): 0 particles\n",
      "\n",
      "* reading species: ['star']\n",
      "* reading particles from:\n",
      "    output/snapshot_600.hdf5\n",
      "\n",
      "* reading cosmological parameters from:  initial_condition/ic_agora_m12i.conf\n",
      "\n",
      "* checking sanity of particle properties\n",
      "\n",
      "* assigning coordinates of host galaxy[s]/halo[s]:\n",
      "  position = (41821.974, 44122.005, 46288.448) [kpc comoving]\n",
      "  velocity = (-48.7, 73.2, 96.7) [km / s]\n",
      "\n"
     ]
    }
   ],
   "source": [
    "# first, read catalog of star particles at z = 0\n",
    "\n",
    "part_at_z0 = gizmo.io.Read.read_snapshots(['star'], 'redshift', 0)"
   ]
  },
  {
   "cell_type": "code",
   "execution_count": 49,
   "metadata": {},
   "outputs": [
    {
     "name": "stdout",
     "output_type": "stream",
     "text": [
      "\n",
      "# in utilities.simulation.Snapshot():\n",
      "  reading:  snapshot_times.txt\n",
      "  input redshift = 1:  using snapshot index = 277, redshift = 1.000\n",
      "\n",
      "\n",
      "# in gizmo_analysis.gizmo_io.Read():\n",
      "* reading header from:  output/snapshot_277.hdf5\n",
      "  snapshot contains the following number of particles:\n",
      "    dark      (id = 1): 8820344 particles\n",
      "    dark2     (id = 2): 3081337 particles\n",
      "    gas       (id = 0): 7498674 particles\n",
      "    star      (id = 4): 1333580 particles\n",
      "    blackhole (id = 5): 0 particles\n",
      "\n",
      "* reading species: ['star']\n",
      "* reading particles from:\n",
      "    output/snapshot_277.hdf5\n",
      "\n",
      "* reading cosmological parameters from:  initial_condition/ic_agora_m12i.conf\n",
      "\n",
      "* checking sanity of particle properties\n",
      "\n",
      "* assigning coordinates of host galaxy[s]/halo[s]:\n",
      "  position = (42434.347, 43258.424, 45265.678) [kpc comoving]\n",
      "  velocity = (-62.5, 90.3, 88.6) [km / s]\n",
      "\n"
     ]
    }
   ],
   "source": [
    "# say that you want to find out what they were doing at z = 1\n",
    "# read in catalog of star particles at z = 1 (snapshot 277)\n",
    "\n",
    "part_at_z1 = gizmo.io.Read.read_snapshots(['star'], 'redshift', 1)"
   ]
  },
  {
   "cell_type": "code",
   "execution_count": 50,
   "metadata": {},
   "outputs": [
    {
     "name": "stdout",
     "output_type": "stream",
     "text": [
      "\n",
      "# in utilities.basic.io.file_hdf5():\n",
      "  read file: star_indices_277.hdf5\n",
      "    indices | int32, shape = (3059250,)\n"
     ]
    }
   ],
   "source": [
    "# use the function within gizmo_track.py to read star index pointers associated with the catalog z = 1\n",
    "\n",
    "gizmo.track.ParticleIndexPointer.io_pointers(part_at_z1)"
   ]
  },
  {
   "cell_type": "code",
   "execution_count": 51,
   "metadata": {},
   "outputs": [
    {
     "data": {
      "text/plain": [
       "array([  323940, -3059251,    74555, ..., -3059251,   988214,  1016593],\n",
       "      dtype=int32)"
      ]
     },
     "execution_count": 51,
     "metadata": {},
     "output_type": "execute_result"
    }
   ],
   "source": [
    "# pointers are stored via numpy array appended to particle dictionary at the relevant snapshot\n",
    "# a negative value means that the star formed after this snapshot (so it does not exist at this snapshot)\n",
    "\n",
    "part_at_z1.index_pointers"
   ]
  },
  {
   "cell_type": "code",
   "execution_count": 52,
   "metadata": {},
   "outputs": [],
   "source": [
    "# so, say that you have a list of the indices of star particles of interest at z = 0\n",
    "\n",
    "indices_at_z0 = np.array([2, 5, 8, 13])"
   ]
  },
  {
   "cell_type": "code",
   "execution_count": 53,
   "metadata": {},
   "outputs": [
    {
     "data": {
      "text/plain": [
       "array([[44165.06982706, 45905.57328081, 47149.21746307],\n",
       "       [43395.66430266, 44225.91487342, 46848.42028784],\n",
       "       [43391.32501013, 44235.3333939 , 46851.26898524],\n",
       "       [43392.7246372 , 44234.88455716, 46860.08437896]])"
      ]
     },
     "execution_count": 53,
     "metadata": {},
     "output_type": "execute_result"
    }
   ],
   "source": [
    "# their positions at z = 0\n",
    "\n",
    "part_at_z0['star']['position'][indices_at_z0]"
   ]
  },
  {
   "cell_type": "code",
   "execution_count": 54,
   "metadata": {},
   "outputs": [
    {
     "name": "stdout",
     "output_type": "stream",
     "text": [
      "[ 74555 380059 380069 387683]\n"
     ]
    }
   ],
   "source": [
    "# get their indices in the catalog at z = 1\n",
    "\n",
    "indices_at_z1 = part_at_z1.index_pointers[indices_at_z0]\n",
    "print(indices_at_z1)"
   ]
  },
  {
   "cell_type": "code",
   "execution_count": 55,
   "metadata": {},
   "outputs": [
    {
     "data": {
      "text/plain": [
       "array([[43138.89641753, 45843.089133  , 45802.62793454],\n",
       "       [44182.77201273, 43321.63152774, 46024.87924174],\n",
       "       [44196.26418051, 43329.33473156, 46025.0469051 ],\n",
       "       [44180.96240584, 43316.70104104, 46032.82963564]])"
      ]
     },
     "execution_count": 55,
     "metadata": {},
     "output_type": "execute_result"
    }
   ],
   "source": [
    "# now you easily can get any property of interest at z = 1, for example, positions\n",
    "\n",
    "part_at_z1['star']['position'][indices_at_z1]"
   ]
  },
  {
   "cell_type": "markdown",
   "metadata": {},
   "source": [
    "Another useful file: star\\_form\\_coordinates\\_600.hdf5 stores, for each star particle at z = 0, its 3-D distance and 3-D velocity wrt to the main host galaxy at the first snapshot after it formed. These coordinates are aligned with the principal (major, intermediate, minor) axes of the stellar disk (as defined via its moment of inertia tensor) at that snapshot."
   ]
  },
  {
   "cell_type": "code",
   "execution_count": 56,
   "metadata": {},
   "outputs": [
    {
     "name": "stdout",
     "output_type": "stream",
     "text": [
      "\n",
      "# in utilities.basic.io.file_hdf5():\n",
      "  read file: star_form_coordinates_600.hdf5\n",
      "    center.position | float32, shape = (601, 3)\n",
      "    center.velocity | float32, shape = (601, 3)\n",
      "    form.host.distance | float32, shape = (3059250, 3)\n",
      "    form.host.velocity | float32, shape = (3059250, 3)\n",
      "    id | uint32, shape = (3059250,)\n",
      "    principal.axes.vectors | float32, shape = (601, 3, 3)\n"
     ]
    }
   ],
   "source": [
    "# use the function within gizmo_track.py to read this file and assign values directly to the catalog at z = 0\n",
    "\n",
    "gizmo.track.ParticleCoordinate.io_formation_coordinates(part_at_z0)"
   ]
  },
  {
   "cell_type": "code",
   "execution_count": 57,
   "metadata": {},
   "outputs": [
    {
     "name": "stdout",
     "output_type": "stream",
     "text": [
      "\n",
      "# in utilities.simulation.Snapshot():\n",
      "  reading:  snapshot_times.txt\n",
      "  input redshift = 0:  using snapshot index = 600, redshift = 0.000\n",
      "\n",
      "\n",
      "# in gizmo_analysis.gizmo_io.Read():\n",
      "* reading header from:  output/snapshot_600.hdf5\n",
      "  snapshot contains the following number of particles:\n",
      "    dark      (id = 1): 8820344 particles\n",
      "    dark2     (id = 2): 3081337 particles\n",
      "    gas       (id = 0): 5969934 particles\n",
      "    star      (id = 4): 3059250 particles\n",
      "    blackhole (id = 5): 0 particles\n",
      "\n",
      "* reading species: ['star']\n",
      "* reading particles from:\n",
      "    output/snapshot_600.hdf5\n",
      "\n",
      "* reading cosmological parameters from:  initial_condition/ic_agora_m12i.conf\n",
      "\n",
      "* checking sanity of particle properties\n",
      "\n",
      "* assigning coordinates of host galaxy[s]/halo[s]:\n",
      "  position = (41821.974, 44122.005, 46288.448) [kpc comoving]\n",
      "  velocity = (-48.7, 73.2, 96.7) [km / s]\n",
      "\n",
      "* assigning principal axes of host galaxy[s]/halo[s]:\n",
      "  using star particles at distance < 15 kpc\n",
      "  using distances that encloses 90% of mass\n",
      "  using youngest 30% of star particles\n",
      "\n",
      "# in utilities.particle.get_principal_axes():\n",
      "  using star particles with age = [0.000, 5.505] Gyr\n",
      "  axis ratios: min/maj = 0.162, min/med = 0.166, med/maj = 0.974\n",
      "\n",
      "\n",
      "# in utilities.basic.io.file_hdf5():\n",
      "  read file: star_form_coordinates_600.hdf5\n",
      "    center.position | float32, shape = (601, 3)\n",
      "    center.velocity | float32, shape = (601, 3)\n",
      "    form.host.distance | float32, shape = (3059250, 3)\n",
      "    form.host.velocity | float32, shape = (3059250, 3)\n",
      "    id | uint32, shape = (3059250,)\n",
      "    principal.axes.vectors | float32, shape = (601, 3, 3)\n"
     ]
    }
   ],
   "source": [
    "# alternately, you can read the formation coordinates at the same time read snapshot itself\n",
    "\n",
    "part_at_z0 = gizmo.io.Read.read_snapshots(\n",
    "    ['star'], 'redshift', 0, assign_host_principal_axes=True, assign_formation_coordinates=True)"
   ]
  },
  {
   "cell_type": "code",
   "execution_count": 58,
   "metadata": {},
   "outputs": [
    {
     "data": {
      "text/plain": [
       "array([[    3.8351834,     6.170289 ,    -1.4488623],\n",
       "       [  951.6061   , -1143.819    ,   541.5925   ],\n",
       "       [ 1258.5391   ,   183.60645  ,   -92.80096  ],\n",
       "       ...,\n",
       "       [  542.5843   ,  -580.9797   ,   927.32684  ],\n",
       "       [ -376.8372   ,   349.8039   ,  -245.89764  ],\n",
       "       [ -275.3792   ,   -35.97139  ,  -272.96063  ]], dtype=float32)"
      ]
     },
     "execution_count": 58,
     "metadata": {},
     "output_type": "execute_result"
    }
   ],
   "source": [
    "# 3-D distance at formation, aligned with the principal axes of the host galaxy at that time [kpc physical]\n",
    "# principal axes defined according to all star particles within the host galaxy, independently at each snapshot\n",
    "# distance along dimension 0 is aligned with the major axis\n",
    "# distance along dimension 1 is algined with the intermediate axis\n",
    "# distance along dimension 2 is aligned with the minor (Z) axis\n",
    "\n",
    "part_at_z0['star']['form.host.distance']"
   ]
  },
  {
   "cell_type": "code",
   "execution_count": 59,
   "metadata": {},
   "outputs": [
    {
     "data": {
      "text/plain": [
       "array([   7.408124, 1583.4136  , 1275.2427  , ..., 1221.4214  ,\n",
       "        569.9427  ,  389.4036  ], dtype=float32)"
      ]
     },
     "execution_count": 59,
     "metadata": {},
     "output_type": "execute_result"
    }
   ],
   "source": [
    "# total scalar (absolute) distance wrt the host galaxy at formation [kpc physical]\n",
    "# this is a derived quantity, so need to call via .prop()\n",
    "\n",
    "part_at_z0['star'].prop('form.host.distance.total')"
   ]
  },
  {
   "cell_type": "code",
   "execution_count": 60,
   "metadata": {},
   "outputs": [
    {
     "data": {
      "text/plain": [
       "array([[ 7.2650599e+00, -1.4488623e+00,  1.0146770e+00],\n",
       "       [ 1.4879099e+03,  5.4159253e+02,  5.4063134e+00],\n",
       "       [ 1.2718616e+03, -9.2800957e+01,  1.4486657e-01],\n",
       "       ...,\n",
       "       [ 7.9494348e+02,  9.2732684e+02,  5.4636278e+00],\n",
       "       [ 5.1416827e+02, -2.4589764e+02,  2.3933804e+00],\n",
       "       [ 2.7771866e+02, -2.7296063e+02,  3.2714822e+00]], dtype=float32)"
      ]
     },
     "execution_count": 60,
     "metadata": {},
     "output_type": "execute_result"
    }
   ],
   "source": [
    "# 3-D distance at formation wrt the host galaxy in cylindrical coordinates [kpc physical]\n",
    "\n",
    "part_at_z0['star'].prop('form.host.distance.cylindrical')"
   ]
  },
  {
   "cell_type": "code",
   "execution_count": 61,
   "metadata": {},
   "outputs": [
    {
     "data": {
      "text/plain": [
       "array([[ 7.26506   , -1.4488623 ,  1.014677  ],\n",
       "       [ 2.819624  , -0.01174179,  4.65897   ],\n",
       "       [ 2.4207215 , -0.02199288,  3.6387615 ],\n",
       "       ...,\n",
       "       [ 2.7438505 , -1.4894025 ,  5.987568  ],\n",
       "       [ 3.6302092 , -0.01234316,  3.3655412 ],\n",
       "       [ 1.5276729 , -0.12618025,  1.8085258 ]], dtype=float32)"
      ]
     },
     "execution_count": 61,
     "metadata": {},
     "output_type": "execute_result"
    }
   ],
   "source": [
    "# these value look more reasonable if restrict to star particles that formed within the host galaxy\n",
    "\n",
    "# select particles formed at d = 0 - 8 kpc physical\n",
    "part_indices = ut.array.get_indices(part_at_z0['star'].prop('form.host.distance.total'), [0, 8])\n",
    "\n",
    "part_at_z0['star'].prop('form.host.distance.cylindrical', part_indices)"
   ]
  },
  {
   "cell_type": "markdown",
   "metadata": {
    "collapsed": true
   },
   "source": [
    "# profile of property"
   ]
  },
  {
   "cell_type": "markdown",
   "metadata": {},
   "source": [
    "A common task is to compute a radial profile of a given quantity, such as mass density, average age, median metallicity, etc.\n",
    "\n",
    "The high-level functions below make this easier to do."
   ]
  },
  {
   "cell_type": "code",
   "execution_count": 74,
   "metadata": {},
   "outputs": [],
   "source": [
    "# first, initiate an instance of SpeciesProfileClass\n",
    "# as you initialize,choose your distance/radius binning scheme: \n",
    "#   'log' v 'linear', distance limits, bin width, number of spatial dimensions of profile\n",
    "# refer to ut.binning.DistanceBinClass() for more\n",
    "\n",
    "# linear binning from 0 to 20 kpc with 1 kpc bin width, assuming a 3-D profile\n",
    "SpeciesProfile = ut.particle.SpeciesProfileClass(scaling='linear', limits=[0, 20], width=1, dimension_number=3)"
   ]
  },
  {
   "cell_type": "code",
   "execution_count": 75,
   "metadata": {},
   "outputs": [
    {
     "name": "stdout",
     "output_type": "stream",
     "text": [
      "\n",
      "# in utilities.particle.SpeciesProfile():\n",
      "  input  3059250 distances -  2706222 (88.5%) are within limits = [0.000, 20.000]\n"
     ]
    }
   ],
   "source": [
    "# using this binning scheme,\n",
    "# compute sum/histogram/density of mass of star particles in each bin\n",
    "# this returns a bunch of summed properties via a dictionary\n",
    "\n",
    "pro = SpeciesProfile.get_sum_profiles(part, 'star', 'mass')"
   ]
  },
  {
   "cell_type": "code",
   "execution_count": 76,
   "metadata": {},
   "outputs": [
    {
     "data": {
      "text/plain": [
       "dict_keys(['star', 'baryon', 'total'])"
      ]
     },
     "execution_count": 76,
     "metadata": {},
     "output_type": "execute_result"
    }
   ],
   "source": [
    "# in principle, you can supply a list of multiple species, and it will compute profiles for each\n",
    "# thus, it returns a dictionary for each species\n",
    "\n",
    "pro.keys()"
   ]
  },
  {
   "cell_type": "code",
   "execution_count": 77,
   "metadata": {},
   "outputs": [
    {
     "data": {
      "text/plain": [
       "dict_keys(['sum', 'sum.cum', 'log sum', 'log sum.cum', 'density', 'log density', 'density.cum', 'log density.cum', 'density*r', 'log density*r', 'density*r^2', 'log density*r^2', 'distance.mid', 'distance.cum', 'log distance.mid', 'log distance.cum', 'sum.fraction', 'sum.cum.fraction', 'vel.circ'])"
      ]
     },
     "execution_count": 77,
     "metadata": {},
     "output_type": "execute_result"
    }
   ],
   "source": [
    "# the quantities that it stores in each bin\n",
    "\n",
    "pro['star'].keys()"
   ]
  },
  {
   "cell_type": "code",
   "execution_count": 78,
   "metadata": {},
   "outputs": [],
   "source": [
    "# alternately, you may want to compute profiles along a disks R or Z axes\n",
    "# if so, first define the dimensionality of the profile when you initiate the class\n",
    "\n",
    "# log binning from 0.1 to 10 kpc with 0.1 dex bin width, assuming a 2-D profile (along R)\n",
    "SpeciesProfile = ut.particle.SpeciesProfileClass(scaling='log', limits=[0.1, 10], width=0.1, dimension_number=2)"
   ]
  },
  {
   "cell_type": "code",
   "execution_count": 79,
   "metadata": {},
   "outputs": [
    {
     "name": "stdout",
     "output_type": "stream",
     "text": [
      "\n",
      "# in utilities.particle.SpeciesProfile():\n",
      "  input  2097104 distances -  2064147 (98.4%) are within limits = [0.100, 10.000]\n"
     ]
    }
   ],
   "source": [
    "# set rotation = True to force it to compute profiles along the principal axes (assuming that you read them in)\n",
    "# use other_axis_distance_limits to limit the extent along the other axis, \n",
    "#   in this case, limit the Z axis to within +/- 1 kpc (in the profile, all distances are absolute)\n",
    "\n",
    "pro = SpeciesProfile.get_sum_profiles(part, 'star', 'mass', rotation=True, other_axis_distance_limits=[0, 1])"
   ]
  },
  {
   "cell_type": "code",
   "execution_count": 80,
   "metadata": {},
   "outputs": [
    {
     "name": "stdout",
     "output_type": "stream",
     "text": [
      "\n",
      "# in utilities.particle.SpeciesProfile():\n",
      "  input   293249 distances -   259651 (88.5%) are within limits = [0.100, 10.000]\n"
     ]
    }
   ],
   "source": [
    "# similarly, do this to compute profiles along Z\n",
    "\n",
    "# log binning from 0.1 to 10 kpc with 0.1 dex bin width, assuming a 1-D profile (along Z)\n",
    "SpeciesProfile = ut.particle.SpeciesProfileClass(scaling='log', limits=[0.1, 10], width=0.1, dimension_number=1)\n",
    "\n",
    "# limit the R axex to [5, 8] kpc \n",
    "pro = SpeciesProfile.get_sum_profiles(part, 'star', 'mass', rotation=True, other_axis_distance_limits=[5, 8])"
   ]
  },
  {
   "cell_type": "code",
   "execution_count": 81,
   "metadata": {},
   "outputs": [
    {
     "name": "stdout",
     "output_type": "stream",
     "text": [
      "  input   293249 distances -   259651 (88.5%) are within limits = [0.100, 10.000]\n"
     ]
    }
   ],
   "source": [
    "# using the same binning scheme\n",
    "# this function computes various statistics of a property of star particles in each bin\n",
    "# by default, it weights the property by the mass of each particle\n",
    "# this returns a bunch of statistics via a dictionary\n",
    "\n",
    "pro = SpeciesProfile.get_statistics_profiles(\n",
    "    part, 'star', 'age', weight_by_mass=True, rotation=True, other_axis_distance_limits=[5, 8])"
   ]
  },
  {
   "cell_type": "code",
   "execution_count": 82,
   "metadata": {},
   "outputs": [
    {
     "data": {
      "text/plain": [
       "dict_keys(['limits', 'number', 'median', 'percent.16', 'percent.84', 'percent.2', 'percent.98', 'percent.0.1', 'percent.99.9', 'percent.25', 'percent.75', 'percents.68', 'percents.95', 'median.dif.2', 'median.dif.16', 'median.dif.84', 'median.dif.98', 'median.difs.68', 'median.difs.95', 'average', 'std', 'sem', 'std.lo', 'std.hi', 'min', 'max', 'percent.50', 'average.50', 'sem.lo', 'sem.hi', 'distance.mid', 'distance.cum', 'log distance.mid', 'log distance.cum'])"
      ]
     },
     "execution_count": 82,
     "metadata": {},
     "output_type": "execute_result"
    }
   ],
   "source": [
    "# the quantities that it stores in each bin\n",
    "\n",
    "pro['star'].keys()"
   ]
  },
  {
   "cell_type": "code",
   "execution_count": null,
   "metadata": {},
   "outputs": [],
   "source": []
  }
 ],
 "metadata": {
  "anaconda-cloud": {},
  "kernelspec": {
   "display_name": "Python 3",
   "language": "python",
   "name": "python3"
  },
  "language_info": {
   "codemirror_mode": {
    "name": "ipython",
    "version": 3
   },
   "file_extension": ".py",
   "mimetype": "text/x-python",
   "name": "python",
   "nbconvert_exporter": "python",
   "pygments_lexer": "ipython3",
   "version": "3.7.0"
  }
 },
 "nbformat": 4,
 "nbformat_minor": 1
}
