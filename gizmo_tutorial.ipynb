{
 "cells": [
  {
   "cell_type": "markdown",
   "metadata": {},
   "source": [
    "This is a tutorial on reading FIRE-2 Gizmo simulation snapshots and analyzing the data.\n",
    "\n",
    "First, move within a simulation directory, or set simulation_directory below to point to one. This directory should contain:\n",
    "(1) a sub-directory 'output/' that contains snapshot files\n",
    "(2) a text file 'snapshot_times.txt' that lists the scale-factors, redshifts, times, and indices of all snapshots stored from the simulation\n",
    "(3) optionally (but ideally) an 'initial_condition/' directory that contains a MUSIC configuration file named '*.conf' that stores all 6 cosmological parameters. if the simulation directory does not assume, this, gizmo_analysis will assume the same cosmological parameters as in the AGORA simulation\n",
    "\n",
    "Ensure that the gizmo_analysis and utilities package directories are in your python path, then..."
   ]
  },
  {
   "cell_type": "code",
   "execution_count": 7,
   "metadata": {},
   "outputs": [],
   "source": [
    "import gizmo_analysis as gizmo\n",
    "import utilities as ut\n",
    "\n",
    "import numpy as np"
   ]
  },
  {
   "cell_type": "code",
   "execution_count": 8,
   "metadata": {},
   "outputs": [
    {
     "data": {
      "text/plain": "<module 'gizmo_analysis.gizmo_io' from '/Users/awetzel/work/research/analysis/gizmo_analysis/gizmo_io.py'>"
     },
     "execution_count": 8,
     "metadata": {},
     "output_type": "execute_result"
    }
   ],
   "source": [
    "# you can access the files as named or use the aliases in __init__.py to keep it shorter \n",
    "# for example, these are the same:\n",
    "\n",
    "gizmo.gizmo_io\n",
    "gizmo.io"
   ]
  },
  {
   "cell_type": "markdown",
   "metadata": {},
   "source": [
    "# read particle data"
   ]
  },
  {
   "cell_type": "code",
   "execution_count": 54,
   "metadata": {},
   "outputs": [],
   "source": [
    "# we recommend that you copy this jupyter notebook tutorial into a simulation directory \n",
    "# (for example, m12i_res7100/) and run from there.\n",
    "# however, you can set simulation_directory below to point to any simulation directory and then run this notebook from anywhere\n",
    "\n",
    "# use this is you are running from within a simulation directory\n",
    "simulation_directory = '.'\n",
    "\n",
    "# use this to point to a specific simulation directory, if you run this notebook from somwhere else\n",
    "#simulation_directory = '/Users/awetzel/work/research/simulation/gizmo/simulations/m12/m12i/m12i_res57000'"
   ]
  },
  {
   "cell_type": "code",
   "execution_count": 55,
   "metadata": {},
   "outputs": [
    {
     "name": "stdout",
     "output_type": "stream",
     "text": "\n# in utilities.simulation.Snapshot():\n* reading:  Users/awetzel/work/research/simulation/gizmo/simulations/m12/m12i/m12i_res57000/snapshot_times.txt\n\n* input redshift = 0:  using snapshot index = 600, redshift = 0.000\n\n\n# in gizmo_analysis.gizmo_io.Read():\n* reading header from:  Users/awetzel/work/research/simulation/gizmo/simulations/m12/m12i/m12i_res57000/output/snapshot_600.hdf5\n  snapshot contains the following number of particles:\n    dark      (id = 1): 8820344 particles\n    dark2     (id = 2): 3081337 particles\n    gas       (id = 0): 5969934 particles\n    star      (id = 4): 3059250 particles\n    blackhole (id = 5): 0 particles\n\n* reading species: ['star', 'dark']\n* reading particles from:\n    Users/awetzel/work/research/simulation/gizmo/simulations/m12/m12i/m12i_res57000/output/snapshot_600.hdf5\n\n* reading cosmological parameters from:  Users/awetzel/work/research/simulation/gizmo/simulations/m12/m12i/m12i_res57000/initial_condition/ic_agora_m12i.conf\n\n* checking sanity of particle properties\n\n* assigning coordinates for 1 host galaxy/halo[s]:\n  position = (41821.974, 44122.005, 46288.448) [kpc comoving]\n  velocity = (-48.7, 73.2, 96.7) [km / s]\n\n"
    }
   ],
   "source": [
    "# read star and dark-matter particles at z = 0\n",
    "\n",
    "part = gizmo.io.Read.read_snapshots(['star', 'dark'], 'redshift', 0, simulation_directory)"
   ]
  },
  {
   "cell_type": "code",
   "execution_count": 9,
   "metadata": {},
   "outputs": [
    {
     "name": "stdout",
     "output_type": "stream",
     "text": "\n# in utilities.simulation.Snapshot():\n* reading:  Users/awetzel/work/research/simulation/gizmo/simulations/m12/m12i/m12i_res7100/snapshot_times.txt\n\n* input redshift = 0:  using snapshot index = 600, redshift = 0.000\n\n\n# in gizmo_analysis.gizmo_io.Read():\n* reading header from:  Users/awetzel/work/research/simulation/gizmo/simulations/m12/m12i/m12i_res7100/output/snapdir_600/snapshot_600.0.hdf5\n  snapshot contains the following number of particles:\n    dark      (id = 1): 70514272 particles\n    dark2     (id = 2): 5513331 particles\n    gas       (id = 0): 57060074 particles\n    star      (id = 4): 13976485 particles\n    blackhole (id = 5): 0 particles\n\n* reading species: ['dark', 'dark2', 'gas', 'star']\n* reading particles from:\n    snapshot_600.0.hdf5\n    snapshot_600.1.hdf5\n    snapshot_600.2.hdf5\n    snapshot_600.3.hdf5\n\n* reading cosmological parameters from:  Users/awetzel/work/research/simulation/gizmo/simulations/m12/m12i/m12i_res7100/initial_condition/ic_agora_m12i.conf\n\n* checking sanity of particle properties\n\n* assigning coordinates for 1 host galaxy/halo[s]:\n  position = (41792.147, 44131.235, 46267.679) [kpc comoving]\n  velocity = (-52.5, 71.9, 95.2) [km / s]\n\n"
    }
   ],
   "source": [
    "# alternately, read all particle species at z = 0\n",
    "\n",
    "part = gizmo.io.Read.read_snapshots('all', 'redshift', 0, simulation_directory)"
   ]
  },
  {
   "cell_type": "code",
   "execution_count": 11,
   "metadata": {},
   "outputs": [
    {
     "data": {
      "text/plain": "dict_keys(['dark', 'dark2', 'gas', 'star'])"
     },
     "execution_count": 11,
     "metadata": {},
     "output_type": "execute_result"
    }
   ],
   "source": [
    "# we store each particle species as its own dictionary\n",
    "# 'star' = stars, 'gas' = gas, 'dark' = dark matter,\n",
    "# 'dark2', 'dark3', 'dark4', etc = low-resolution dark matter (but you rarely will be interested in this)\n",
    "\n",
    "part.keys()"
   ]
  },
  {
   "cell_type": "code",
   "execution_count": 12,
   "metadata": {},
   "outputs": [
    {
     "data": {
      "text/plain": "dict_keys(['position', 'mass', 'massfraction', 'id.child', 'id.generation', 'id', 'potential', 'form.scalefactor', 'velocity'])"
     },
     "execution_count": 12,
     "metadata": {},
     "output_type": "execute_result"
    }
   ],
   "source": [
    "# the properties of star particles are stored via dictionary\n",
    "\n",
    "part['star'].keys()"
   ]
  },
  {
   "cell_type": "code",
   "execution_count": 13,
   "metadata": {},
   "outputs": [
    {
     "data": {
      "text/plain": "dict_keys(['position', 'mass', 'id.child', 'id.generation', 'id', 'potential', 'velocity'])"
     },
     "execution_count": 13,
     "metadata": {},
     "output_type": "execute_result"
    }
   ],
   "source": [
    "# list the properties of dark-matter particles\n",
    "\n",
    "part['dark'].keys()"
   ]
  },
  {
   "cell_type": "code",
   "execution_count": 14,
   "metadata": {},
   "outputs": [
    {
     "data": {
      "text/plain": "dict_keys(['position', 'density', 'electron.fraction', 'temperature', 'mass', 'massfraction', 'hydrogen.neutral.fraction', 'id.child', 'id.generation', 'id', 'potential', 'smooth.length', 'sfr', 'velocity'])"
     },
     "execution_count": 14,
     "metadata": {},
     "output_type": "execute_result"
    }
   ],
   "source": [
    "# list the properties of gas particles\n",
    "\n",
    "part['gas'].keys()"
   ]
  },
  {
   "cell_type": "markdown",
   "metadata": {},
   "source": [
    "# particle properties"
   ]
  },
  {
   "cell_type": "code",
   "execution_count": 16,
   "metadata": {},
   "outputs": [
    {
     "data": {
      "text/plain": "array([[66767.26081251, 33338.43269396, 33932.56150561],\n       [45775.6955822 , 44156.6346538 , 48521.62410745],\n       [46577.95875962, 45155.54312985, 48568.13059231],\n       ...,\n       [40880.57503257, 41838.63478439, 46003.25210661],\n       [40751.14753809, 41723.01529911, 45831.83965826],\n       [40763.37457623, 41689.45972354, 45872.69257229]])"
     },
     "execution_count": 16,
     "metadata": {},
     "output_type": "execute_result"
    }
   ],
   "source": [
    "# 3-D position of each star particle, stored in a particle_number x dimension_number array [kpc comoving]\n",
    "\n",
    "part['star']['position']"
   ]
  },
  {
   "cell_type": "code",
   "execution_count": 17,
   "metadata": {},
   "outputs": [
    {
     "data": {
      "text/plain": "array([[ 903.24445 , -337.15488 , -448.82474 ],\n       [2158.4524  ,   87.50453 , 1342.2155  ],\n       [ 329.9966  ,  -58.21963 ,  254.37834 ],\n       ...,\n       [ -49.03016 ,   44.50777 ,   71.2202  ],\n       [ -56.024612,   28.844072,   66.678444],\n       [ -55.499584,   27.759323,   67.18623 ]], dtype=float32)"
     },
     "execution_count": 17,
     "metadata": {},
     "output_type": "execute_result"
    }
   ],
   "source": [
    "# 3-D velocity of each star particle (particle_number x dimension_number array) [km / s]\n",
    "\n",
    "part['star']['velocity']"
   ]
  },
  {
   "cell_type": "code",
   "execution_count": 18,
   "metadata": {},
   "outputs": [
    {
     "data": {
      "text/plain": "array([ 6320.636 , 12393.744 ,  4689.9375, ...,  5306.1577,  5434.9014,\n        5381.738 ], dtype=float32)"
     },
     "execution_count": 18,
     "metadata": {},
     "output_type": "execute_result"
    }
   ],
   "source": [
    "# mass of each star particle [Msun]\n",
    "\n",
    "part['star']['mass']"
   ]
  },
  {
   "cell_type": "code",
   "execution_count": 19,
   "metadata": {},
   "outputs": [
    {
     "data": {
      "text/plain": "array([0.37762484, 0.89081126, 0.25509095, ..., 0.2102304 , 0.24331866,\n       0.24331439], dtype=float32)"
     },
     "execution_count": 19,
     "metadata": {},
     "output_type": "execute_result"
    }
   ],
   "source": [
    "# formation scale-factor of each star particle\n",
    "\n",
    "part['star']['form.scalefactor']"
   ]
  },
  {
   "cell_type": "code",
   "execution_count": 20,
   "metadata": {},
   "outputs": [
    {
     "data": {
      "text/plain": "array([ 4.03834671, 12.22887105,  2.27725537, ...,  1.70920112,\n        2.12346332,  2.12340804])"
     },
     "execution_count": 20,
     "metadata": {},
     "output_type": "execute_result"
    }
   ],
   "source": [
    "# IMPORTANT FEATURE\n",
    "# use .prop() to compute derived quantities, such as the time [in Gyr] when each star particle formed\n",
    "# see gizmo.io.ParticleDictionaryClass for all options for derived quantities\n",
    "\n",
    "part['star'].prop('form.time')"
   ]
  },
  {
   "cell_type": "code",
   "execution_count": 21,
   "metadata": {},
   "outputs": [
    {
     "data": {
      "text/plain": "array([ 9.76040017,  1.56987583, 11.52149151, ..., 12.08954577,\n       11.67528356, 11.67533884])"
     },
     "execution_count": 21,
     "metadata": {},
     "output_type": "execute_result"
    }
   ],
   "source": [
    "# similarly, get the age of each star particle (the lookback time to when it formed) [Gyr]\n",
    "\n",
    "part['star'].prop('age')"
   ]
  },
  {
   "cell_type": "code",
   "execution_count": 24,
   "metadata": {},
   "outputs": [
    {
     "data": {
      "text/plain": "array([ 9278.52894705, 23814.78994177,  6883.22964775, ...,\n        7817.70278585,  7996.13956357,  7915.62061537])"
     },
     "execution_count": 24,
     "metadata": {},
     "output_type": "execute_result"
    }
   ],
   "source": [
    "# get the mass of each star particle when it formed [Msun], using the stellar evolution tracks in Gizmo\n",
    "# this initially sets up an internally stored spline to compute this\n",
    "\n",
    "part['star'].prop('form.mass')"
   ]
  },
  {
   "cell_type": "markdown",
   "metadata": {},
   "source": [
    "# elemental abundances / metallicities"
   ]
  },
  {
   "cell_type": "code",
   "execution_count": 25,
   "metadata": {},
   "outputs": [
    {
     "data": {
      "text/plain": "array([[6.0437708e-03, 2.5534785e-01, 7.1185018e-04, ..., 1.0893279e-04,\n        1.1798347e-05, 2.1929388e-04],\n       [5.4124359e-02, 3.1047031e-01, 1.0200043e-02, ..., 7.9930318e-04,\n        8.8536028e-05, 2.1123942e-03],\n       [8.2049592e-05, 2.5007892e-01, 1.0591144e-05, ..., 1.5061760e-06,\n        1.6711007e-07, 3.2767741e-06],\n       ...,\n       [2.3722230e-03, 2.5235808e-01, 3.1619624e-04, ..., 4.0682979e-05,\n        4.3580399e-06, 7.0938091e-05],\n       [2.5177756e-03, 2.5172576e-01, 2.0903027e-04, ..., 4.6831501e-05,\n        5.0457384e-06, 8.8196532e-05],\n       [2.2657898e-03, 2.5153482e-01, 1.8845814e-04, ..., 4.3525546e-05,\n        4.7441872e-06, 9.4178256e-05]], dtype=float32)"
     },
     "execution_count": 25,
     "metadata": {},
     "output_type": "execute_result"
    }
   ],
   "source": [
    "# elemental abundances are stored in the particle catalog as linear *mass fraction*\n",
    "# one value for each element, in a particle_number x element_number array\n",
    "# the first value is the mass fraction of all metals (everything not H, He)\n",
    "# then He, C, N, O, etc\n",
    "\n",
    "part['star']['massfraction']"
   ]
  },
  {
   "cell_type": "code",
   "execution_count": 26,
   "metadata": {},
   "outputs": [
    {
     "name": "stdout",
     "output_type": "stream",
     "text": "[6.0437708e-03 5.4124359e-02 8.2049592e-05 ... 2.3722230e-03 2.5177756e-03\n 2.2657898e-03]\n[2.1929388e-04 2.1123942e-03 3.2767741e-06 ... 7.0938091e-05 8.8196532e-05\n 9.4178256e-05]\n"
    }
   ],
   "source": [
    "# get individual elements by their array index\n",
    "\n",
    "# total metal mass fraction (everything not H, He) is index 0\n",
    "print(part['star']['massfraction'][:, 0])\n",
    "\n",
    "# iron is index 10\n",
    "print(part['star']['massfraction'][:, 10])"
   ]
  },
  {
   "cell_type": "code",
   "execution_count": 27,
   "metadata": {},
   "outputs": [
    {
     "name": "stdout",
     "output_type": "stream",
     "text": "[6.0437708e-03 5.4124359e-02 8.2049592e-05 ... 2.3722230e-03 2.5177756e-03\n 2.2657898e-03]\n[7.1185018e-04 1.0200043e-02 1.0591144e-05 ... 3.1619624e-04 2.0903027e-04\n 1.8845814e-04]\n[2.1929388e-04 2.1123942e-03 3.2767741e-06 ... 7.0938091e-05 8.8196532e-05\n 9.4178256e-05]\n[2.1929388e-04 2.1123942e-03 3.2767741e-06 ... 7.0938091e-05 8.8196532e-05\n 9.4178256e-05]\n"
    }
   ],
   "source": [
    "# alternately use .prop() to compute derived quantities, including calling element by its name or symbol\n",
    "# see gizmo.io.ParticleDictionaryClass for all options for derived quantities\n",
    "\n",
    "print(part['star'].prop('massfraction.metals'))\n",
    "print(part['star'].prop('massfraction.carbon'))\n",
    "print(part['star'].prop('massfraction.iron'))\n",
    "print(part['star'].prop('massfraction.fe'))  # you can use name or symbol"
   ]
  },
  {
   "cell_type": "code",
   "execution_count": 29,
   "metadata": {},
   "outputs": [
    {
     "name": "stdout",
     "output_type": "stream",
     "text": "[-0.3457968   0.60628796 -2.2130284  ... -0.7519493  -0.72608775\n -0.77188516]\n[-0.77062804  0.21312043 -2.596208   ... -1.2607751  -1.166203\n -1.1377039 ]\n"
    }
   ],
   "source": [
    "# also use .prop() to compute metallicity [Z / H]\n",
    "# for example, iron abundance [Fe / H] :=\n",
    "#   log10((mass_iron / mass_hydrogen)_particle / (mass_iron / mass_hydrogen)_sun)\n",
    "# gizmo_analysis assumes solar abundances from Asplund et al 2009\n",
    "\n",
    "print(part['star'].prop('metallicity.total'))\n",
    "print(part['star'].prop('metallicity.fe'))"
   ]
  },
  {
   "cell_type": "code",
   "execution_count": 30,
   "metadata": {},
   "outputs": [
    {
     "data": {
      "text/plain": "array([0.36855963, 0.21050921, 0.31733322, ..., 0.4481188 , 0.4061309 ,\n       0.32690054], dtype=float32)"
     },
     "execution_count": 30,
     "metadata": {},
     "output_type": "execute_result"
    }
   ],
   "source": [
    "# also use .prop() to compute simple arithmetic combinations, such as [Mg / Fe]\n",
    "\n",
    "part['star'].prop('metallicity.mg - metallicity.fe')"
   ]
  },
  {
   "cell_type": "code",
   "execution_count": 31,
   "metadata": {},
   "outputs": [
    {
     "data": {
      "text/plain": "{'hydrogen': {'massfraction': 0.7381},\n 'helium': {'abundance': 0.08511380382023759, 'massfraction': 0.2485},\n 'metals': {'massfraction': 0.0134},\n 'total': {'massfraction': 0.0134},\n 'carbon': {'abundance': 0.0002691534803926914,\n  'massfraction': 0.002367134813394483},\n 'nitrogen': {'abundance': 6.760829753919819e-05,\n  'massfraction': 0.0006934106379733354},\n 'oxygen': {'abundance': 0.0004897788193684457,\n  'massfraction': 0.005737971271592906},\n 'neon': {'abundance': 8.51138038202376e-05,\n  'massfraction': 0.0012576777529689648},\n 'magnesium': {'abundance': 3.9810717055349695e-05,\n  'massfraction': 0.0007085170384267315},\n 'silicon': {'abundance': 3.235936569296281e-05,\n  'massfraction': 0.0006654827968172229},\n 'sulphur': {'abundance': 1.3182567385564074e-05,\n  'massfraction': 0.00030951800499730997},\n 'calcium': {'abundance': 2.1877616239495517e-06,\n  'massfraction': 6.420379718268677e-05},\n 'iron': {'abundance': 3.1622776601683795e-05,\n  'massfraction': 0.0012931667271008657},\n 'h': {'massfraction': 0.7381},\n 'he': {'abundance': 0.08511380382023759, 'massfraction': 0.2485},\n 'c': {'abundance': 0.0002691534803926914,\n  'massfraction': 0.002367134813394483},\n 'n': {'abundance': 6.760829753919819e-05,\n  'massfraction': 0.0006934106379733354},\n 'o': {'abundance': 0.0004897788193684457,\n  'massfraction': 0.005737971271592906},\n 'ne': {'abundance': 8.51138038202376e-05,\n  'massfraction': 0.0012576777529689648},\n 'mg': {'abundance': 3.9810717055349695e-05,\n  'massfraction': 0.0007085170384267315},\n 'si': {'abundance': 3.235936569296281e-05,\n  'massfraction': 0.0006654827968172229},\n 's': {'abundance': 1.3182567385564074e-05,\n  'massfraction': 0.00030951800499730997},\n 'ca': {'abundance': 2.1877616239495517e-06,\n  'massfraction': 6.420379718268677e-05},\n 'fe': {'abundance': 3.1622776601683795e-05,\n  'massfraction': 0.0012931667271008657}}"
     },
     "execution_count": 31,
     "metadata": {},
     "output_type": "execute_result"
    }
   ],
   "source": [
    "# refer to utilities.basic.constant for assumed solar values (Asplund et al 2009) and other constants\n",
    "\n",
    "ut.constant.sun_composition"
   ]
  },
  {
   "cell_type": "markdown",
   "metadata": {},
   "source": [
    "# meta-data about simulation"
   ]
  },
  {
   "cell_type": "markdown",
   "execution_count": null,
   "metadata": {},
   "outputs": [],
   "source": [
    "The dictionary that stores the particle catalog is actually a dictionary class. We store meta-data about the simulation and ancillary data/functions via appended dictionaries, classes, and arrays."
   ]
  },
  {
   "cell_type": "code",
   "execution_count": 32,
   "metadata": {},
   "outputs": [
    {
     "data": {
      "text/plain": "{'box.length': 85470.08547008547,\n 'compression.level': 0,\n 'compression.version': 'v0.2',\n 'has.cooling': 1,\n 'has.double.precision': 0,\n 'has.feedback': 1,\n 'has.ic.info': 3,\n 'has.metals': 11,\n 'has.star.formation': 1,\n 'has.star.age': 1,\n 'hubble': 0.702,\n 'particle.masses': array([0., 0., 0., 0., 0., 0.]),\n 'file.number.per.snapshot': 4,\n 'particle.numbers.in.file': array([13818978, 17322170,  1679251,        0,  3829217,        0],\n       dtype=int32),\n 'particle.numbers.total': array([57060074, 70514272,  5513331,        0, 13976485,        0],\n       dtype=uint32),\n 'particle.numbers.total.high.word': array([0, 0, 0, 0, 0, 0], dtype=uint32),\n 'omega_matter': 0.272,\n 'omega_lambda': 0.728,\n 'compression.readme': 'This snapshot is part of the Feedback in Realistic Environments (FIRE) project -- Use, modification, or distribution only permitted with approval of the PI and the FIRE team -- No warranty, use at your own risk -- compactify_hdf5 (c) RF 2018',\n 'redshift': 0.0,\n 'cosmological': True,\n 'scalefactor': 1.0,\n 'box.length/h': 60000.0,\n 'baryonic': True,\n 'simulation.name': 'm12i r7100',\n 'catalog.kind': 'particle'}"
     },
     "execution_count": 32,
     "metadata": {},
     "output_type": "execute_result"
    }
   ],
   "source": [
    "# dictionary of useful information about the simulation\n",
    "\n",
    "part.info"
   ]
  },
  {
   "cell_type": "code",
   "execution_count": 34,
   "metadata": {},
   "outputs": [
    {
     "data": {
      "text/plain": "{'index': 600,\n 'redshift': 0.0,\n 'scalefactor': 1.0,\n 'time': 13.798746883488086,\n 'time.lookback': 0.0,\n 'time.hubble': 13.92866412650697}"
     },
     "execution_count": 34,
     "metadata": {},
     "output_type": "execute_result"
    }
   ],
   "source": [
    "# dictionary of information about the single snapshot that you read\n",
    "# its index (number), scale-factor, redshift, time, lookback-time\n",
    "\n",
    "part.snapshot"
   ]
  },
  {
   "cell_type": "code",
   "execution_count": 36,
   "metadata": {},
   "outputs": [
    {
     "name": "stdout",
     "output_type": "stream",
     "text": "dict_keys(['index', 'scalefactor', 'redshift', 'time', 'time.width'])\n[99.         19.         15.         14.60591125 14.23076916 13.87323952\n 13.53211021 13.20627785 12.89473724 12.5965662 ]\n"
    }
   ],
   "source": [
    "# dictionary class with information about *all* snapshots (typically ~600) that we saved for this simulation\n",
    "\n",
    "print(part.Snapshot.keys())\n",
    "print(part.Snapshot['redshift'][:10])"
   ]
  },
  {
   "cell_type": "code",
   "execution_count": 37,
   "metadata": {},
   "outputs": [
    {
     "data": {
      "text/plain": "{'omega_lambda': 0.728,\n 'omega_matter': 0.272,\n 'omega_baryon': 0.0455,\n 'omega_curvature': 0.0,\n 'omega_dm': 0.22650000000000003,\n 'baryon.fraction': 0.16727941176470587,\n 'hubble': 0.7020000000000001,\n 'sigma_8': 0.807,\n 'n_s': 0.961,\n 'w': -1.0}"
     },
     "execution_count": 37,
     "metadata": {},
     "output_type": "execute_result"
    }
   ],
   "source": [
    "# dictionary class of cosmological parameters, with internal functions for cosmological conversions\n",
    "# see utilities.cosmology for more on this\n",
    "\n",
    "part.Cosmology"
   ]
  },
  {
   "cell_type": "markdown",
   "metadata": {},
   "source": [
    "See gizmo_plot.py (called via gizmo.plot) for examples of high-level analysis, including plotting these data.\n",
    "\n",
    "See utilities/particle.py (called via ut.particle) for mid-level analysis functions that may be useful.\n",
    "\n",
    "See other modules within utilities for low-level functions that may be useful."
   ]
  },
  {
   "cell_type": "markdown",
   "metadata": {},
   "source": [
    "# coordinates of host galaxy/halo and principal axes of stellar disk"
   ]
  },
  {
   "cell_type": "markdown",
   "metadata": {},
   "source": [
    "If you enable read_snapshots(assign_host_coordinates=True) (True by default), then during read-in gizmo_analysis assigns the position and velocity of the host galaxy/halo (using stars for a baryonic simulations and dark matter for a DM-only simulation). The code stores these coordinates in arrays appended to the particle catalog.\n",
    "\n",
    "Most simulations have a single host galaxy/halo, but some (like ELVIS) contain 2 (or more). You can control the number of hosts via: read_snapshots(host_number=2) (by deafult, host_number=1).\n",
    "\n",
    "Once the code assigns the coordinates of each host, it also can compute the principal axes (rotation tensor) of each host's stellar disk. Enable this via: read_snapshots(assign_host_principal_axes=True) (by default, assign_host_principal_axes=False)."
   ]
  },
  {
   "cell_type": "code",
   "execution_count": 38,
   "metadata": {},
   "outputs": [
    {
     "name": "stdout",
     "output_type": "stream",
     "text": "[[41792.14655358 44131.23458952 46267.67922214]]\n[[-52.451195  71.85305   95.19773 ]]\n"
    }
   ],
   "source": [
    "# position [kpc comoving] and velocity [km / s] of the center of each host galaxy\n",
    "# can store multiple hosts, though usually just one\n",
    "\n",
    "print(part.host_positions)\n",
    "print(part.host_velocities)"
   ]
  },
  {
   "cell_type": "code",
   "execution_count": 39,
   "metadata": {},
   "outputs": [
    {
     "name": "stdout",
     "output_type": "stream",
     "text": "\n# in utilities.simulation.Snapshot():\n* reading:  Users/awetzel/work/research/simulation/gizmo/simulations/m12/m12i/m12i_res7100/snapshot_times.txt\n\n* input redshift = 0:  using snapshot index = 600, redshift = 0.000\n\n\n# in gizmo_analysis.gizmo_io.Read():\n* reading header from:  Users/awetzel/work/research/simulation/gizmo/simulations/m12/m12i/m12i_res7100/output/snapdir_600/snapshot_600.0.hdf5\n  snapshot contains the following number of particles:\n    dark      (id = 1): 70514272 particles\n    dark2     (id = 2): 5513331 particles\n    gas       (id = 0): 57060074 particles\n    star      (id = 4): 13976485 particles\n    blackhole (id = 5): 0 particles\n\n* reading species: ['star', 'dark']\n* reading particles from:\n    snapshot_600.0.hdf5\n    snapshot_600.1.hdf5\n    snapshot_600.2.hdf5\n    snapshot_600.3.hdf5\n\n* reading cosmological parameters from:  Users/awetzel/work/research/simulation/gizmo/simulations/m12/m12i/m12i_res7100/initial_condition/ic_agora_m12i.conf\n\n* checking sanity of particle properties\n\n* assigning coordinates for 1 host galaxy/halo[s]:\n  position = (41792.147, 44131.235, 46267.679) [kpc comoving]\n  velocity = (-52.5, 71.9, 95.2) [km / s]\n\n* assigning principal axes of host galaxy/halo[s]:\n  using star particles at distance < 10 kpc\n  using youngest 25% of star particles\n\n# in utilities.particle.get_principal_axes():\n  using star particles with age = [0.000, 3.423] Gyr\n  axis ratios: min/maj = 0.149, min/med = 0.152, med/maj = 0.976\n\n"
    }
   ],
   "source": [
    "# compute and assign principal axes (defined via moment of inertia tensor) of stars during read in as below\n",
    "\n",
    "part = gizmo.io.Read.read_snapshots(['star', 'dark'], 'redshift', 0, simulation_directory, assign_host_principal_axes=True)"
   ]
  },
  {
   "cell_type": "code",
   "execution_count": 40,
   "metadata": {},
   "outputs": [
    {
     "name": "stdout",
     "output_type": "stream",
     "text": "[[[ 0.38804234 -0.92127503 -0.02598965]\n  [-0.78055724 -0.34350448  0.52224043]\n  [-0.49005463 -0.18236499 -0.85240218]]]\n"
    }
   ],
   "source": [
    "# we then store the rotation tensor[s], to rotate into the principal axes for each host, for each host via\n",
    "\n",
    "print(part.host_rotations)"
   ]
  },
  {
   "cell_type": "code",
   "execution_count": 41,
   "metadata": {},
   "outputs": [
    {
     "data": {
      "text/plain": "array([[ 24975.11425893, -10792.80189557, -12335.11771654],\n       [  3983.54902862,     25.40006428,   2253.9448853 ],\n       [  4785.81220605,   1024.30854032,   2300.45137017],\n       ...,\n       [  -911.57152101,  -2292.59980513,   -264.42711553],\n       [ -1040.99901548,  -2408.21929041,   -435.83956389],\n       [ -1028.77197735,  -2441.77486598,   -394.98664985]])"
     },
     "execution_count": 41,
     "metadata": {},
     "output_type": "execute_result"
    }
   ],
   "source": [
    "# now you can compute different types of distances of star particles from the center of each host galaxy\n",
    "# compute 3-D distance from the host center along simulation's default x,y,z cartesian axes [kpc physical]\n",
    "\n",
    "part['star'].prop('host.distance')"
   ]
  },
  {
   "cell_type": "code",
   "execution_count": 42,
   "metadata": {},
   "outputs": [
    {
     "data": {
      "text/plain": "array([29872.99841135,  4577.07063226,  5407.89080547, ...,\n        2481.30977587,  2659.54041639,  2678.92716047])"
     },
     "execution_count": 42,
     "metadata": {},
     "output_type": "execute_result"
    }
   ],
   "source": [
    "# add '.total' to compute total (scalar) distance [kpc physical]\n",
    "\n",
    "part['star'].prop('host.distance.total')"
   ]
  },
  {
   "cell_type": "code",
   "execution_count": 43,
   "metadata": {},
   "outputs": [
    {
     "data": {
      "text/plain": "array([[ 19955.12594025, -22229.02766731,    243.54005743],\n       [  1463.80598701,  -1941.01193546,  -3878.05624913],\n       [   853.63993849,  -2886.06623758,  -4493.01719244],\n       ...,\n       [  1765.25898462,   1360.95752389,   1090.20802567],\n       [  1826.00793168,   1412.18039258,   1320.83185858],\n       [  1860.6047012 ,   1435.49802325,   1286.13619116]])"
     },
     "execution_count": 43,
     "metadata": {},
     "output_type": "execute_result"
    }
   ],
   "source": [
    "# add '.principal' to compute 3-D distance aligned with the principal (major, intermediate, minor) axes of each host's stellar disk [kpc physical]\n",
    "\n",
    "part['star'].prop('host.distance.principal')"
   ]
  },
  {
   "cell_type": "code",
   "execution_count": 44,
   "metadata": {},
   "outputs": [
    {
     "data": {
      "text/plain": "array([[ 2.98720057e+04,  2.43540057e+02,  5.44393509e+00],\n       [ 2.43110166e+03, -3.87805625e+03,  5.35853812e+00],\n       [ 3.00966435e+03, -4.49301719e+03,  4.99996950e+00],\n       ...,\n       [ 2.22897839e+03,  1.09020803e+03,  6.56785894e-01],\n       [ 2.30836705e+03,  1.32083186e+03,  6.58291131e-01],\n       [ 2.35000094e+03,  1.28613619e+03,  6.57133695e-01]])"
     },
     "execution_count": 44,
     "metadata": {},
     "output_type": "execute_result"
    }
   ],
   "source": [
    "# add '.cylindrical' or '.cyl' to compute 3-D distance aligned with the principal axes in cylindrical coordinates\n",
    "# first value is along the major axes (R, positive definite)\n",
    "# second value is vertical height wrt the disk (Z, signed)\n",
    "# third value is angle (phi, 0 to 2 * pi)\n",
    "\n",
    "part['star'].prop('host.distance.principal.cylindrical')"
   ]
  },
  {
   "cell_type": "code",
   "execution_count": 45,
   "metadata": {},
   "outputs": [
    {
     "data": {
      "text/plain": "array([[ 2708.9487  , -1166.6626  , -1409.9478  ],\n       [ 2490.5488  ,    17.434566,  1405.2446  ],\n       [  718.4118  ,   -58.166218,   320.6723  ],\n       ...,\n       [  -60.571285,  -188.28578 ,   -42.540314],\n       [  -76.65155 ,  -212.06598 ,   -59.115223],\n       [  -75.26818 ,  -215.50632 ,   -55.73956 ]], dtype=float32)"
     },
     "execution_count": 45,
     "metadata": {},
     "output_type": "execute_result"
    }
   ],
   "source": [
    "# same for velocity\n",
    "# compute 3-D velocity from each host galaxy center along simulation's default x,y,z cartesian axes [km / s]\n",
    "\n",
    "part['star'].prop('host.velocity')"
   ]
  },
  {
   "cell_type": "code",
   "execution_count": 46,
   "metadata": {},
   "outputs": [
    {
     "data": {
      "text/plain": "array([3269.1677 , 2859.694  ,  788.87866, ...,  202.31187,  233.11382,\n        234.9791 ], dtype=float32)"
     },
     "execution_count": 46,
     "metadata": {},
     "output_type": "execute_result"
    }
   ],
   "source": [
    "# compute total (scalar) velocity [km / s]\n",
    "\n",
    "part['star'].prop('host.velocity.total')"
   ]
  },
  {
   "cell_type": "code",
   "execution_count": 47,
   "metadata": {},
   "outputs": [
    {
     "data": {
      "text/plain": "array([[ 2162.648   , -2450.0674  ,    87.068085],\n       [  913.85455 , -1216.1293  , -2421.518   ],\n       [  324.02713 ,  -373.31314 ,  -614.7953  ],\n       ...,\n       [  151.06438 ,    89.74009 ,   100.281425],\n       [  167.16342 ,   101.80418 ,   126.6268  ],\n       [  170.782   ,   103.66906 ,   123.69885 ]], dtype=float32)"
     },
     "execution_count": 47,
     "metadata": {},
     "output_type": "execute_result"
    }
   ],
   "source": [
    "# compute 3-D velocity along the principal (major, intermediate, minor) axes [km / s]\n",
    "\n",
    "part['star'].prop('host.velocity.principal')"
   ]
  },
  {
   "cell_type": "code",
   "execution_count": 48,
   "metadata": {},
   "outputs": [
    {
     "data": {
      "text/plain": "array([[ 3.26789331e+03,  8.70680847e+01, -2.73782120e+01],\n       [ 1.52121460e+03, -2.42151807e+03, -2.62215066e+00],\n       [ 4.49887024e+02, -6.14795288e+02,  2.04836380e+02],\n       ...,\n       [ 1.74429779e+02,  1.00281425e+02, -2.11656170e+01],\n       [ 1.94513092e+02,  1.26626801e+02, -2.17338371e+01],\n       [ 1.98542267e+02,  1.23698853e+02, -2.22425785e+01]], dtype=float32)"
     },
     "execution_count": 48,
     "metadata": {},
     "output_type": "execute_result"
    }
   ],
   "source": [
    "# compute 3-D velocity in cylindrical coordinates\n",
    "# first value is along the major axes (positive definite)\n",
    "# second value is vertical velocity wrt the disk (signed)\n",
    "# third value is azimuthal velocity in the plane of the disk (positive definite)\n",
    "\n",
    "part['star'].prop('host.velocity.principal.cylindrical')"
   ]
  },
  {
   "cell_type": "code",
   "execution_count": 49,
   "metadata": {},
   "outputs": [
    {
     "name": "stdout",
     "output_type": "stream",
     "text": "\n# in utilities.simulation.Snapshot():\n* reading:  Users/awetzel/work/research/simulation/gizmo/simulations/m12/m12i/m12i_res7100/snapshot_times.txt\n\n* input redshift = 0:  using snapshot index = 600, redshift = 0.000\n\n\n# in gizmo_analysis.gizmo_io.Read():\n* reading header from:  Users/awetzel/work/research/simulation/gizmo/simulations/m12/m12i/m12i_res7100/output/snapdir_600/snapshot_600.0.hdf5\n  snapshot contains the following number of particles:\n    dark      (id = 1): 70514272 particles\n    dark2     (id = 2): 5513331 particles\n    gas       (id = 0): 57060074 particles\n    star      (id = 4): 13976485 particles\n    blackhole (id = 5): 0 particles\n\n* reading species: ['star', 'dark']\n* reading particles from:\n    snapshot_600.0.hdf5\n    snapshot_600.1.hdf5\n    snapshot_600.2.hdf5\n    snapshot_600.3.hdf5\n\n* reading cosmological parameters from:  Users/awetzel/work/research/simulation/gizmo/simulations/m12/m12i/m12i_res7100/initial_condition/ic_agora_m12i.conf\n\n* checking sanity of particle properties\n\n* assigning coordinates for 2 host galaxy/halo[s]:\n  position = (41792.147, 44131.235, 46267.679) [kpc comoving]\n  position = (41609.536, 43988.925, 46287.580) [kpc comoving]\n  velocity = (-52.5, 71.9, 95.2) [km / s]\n  velocity = (-96.3, 134.7, 55.5) [km / s]\n\n* assigning principal axes of host galaxy/halo[s]:\n  using star particles at distance < 10 kpc\n  using youngest 25% of star particles\n\n# in utilities.particle.get_principal_axes():\n  using star particles with age = [0.000, 3.423] Gyr\n  using star particles with age = [0.000, 4.084] Gyr\n  axis ratios: min/maj = 0.149, min/med = 0.152, med/maj = 0.976\n  axis ratios: min/maj = 0.613, min/med = 0.931, med/maj = 0.659\n\n"
    }
   ],
   "source": [
    "# if you want to store multiple hosts (such as for the ELVIS LG-like paired simulations), \n",
    "# set host_number=2 during read-in\n",
    "# (in fact, you can do this for any simulation, it simply finds the second most massive host galaxy in the full zoom-in region)\n",
    "\n",
    "part = gizmo.io.Read.read_snapshots(['star', 'dark'], 'redshift', 0, simulation_directory, host_number=2, assign_host_principal_axes=True)"
   ]
  },
  {
   "cell_type": "code",
   "execution_count": 50,
   "metadata": {},
   "outputs": [
    {
     "name": "stdout",
     "output_type": "stream",
     "text": "[[ 24975.11425893 -10792.80189557 -12335.11771654]\n [  3983.54902862     25.40006428   2253.9448853 ]\n [  4785.81220605   1024.30854032   2300.45137017]\n ...\n [  -911.57152101  -2292.59980513   -264.42711553]\n [ -1040.99901548  -2408.21929041   -435.83956389]\n [ -1028.77197735  -2441.77486598   -394.98664985]]\n[[ 25157.72510828 -10650.49268842 -12355.01895419]\n [  4166.15987796    167.70927142   2234.04364765]\n [  4968.42305539   1166.61774746   2280.55013252]\n ...\n [  -728.96067167  -2150.29059799   -284.32835318]\n [  -858.38816614  -2265.91008327   -455.74080154]\n [  -846.161128    -2299.46565884   -414.8878875 ]]\n"
    }
   ],
   "source": [
    "# everything above still works, just use 'host', 'host2', 'host3', etc \n",
    "# to identify which host you want coordinates relative to\n",
    "\n",
    "print(part['star'].prop('host.distance'))\n",
    "print(part['star'].prop('host2.distance'))"
   ]
  },
  {
   "cell_type": "code",
   "execution_count": 52,
   "metadata": {},
   "outputs": [
    {
     "name": "stdout",
     "output_type": "stream",
     "text": "[[41792.14655358 44131.23458952 46267.67922214]\n [41609.53570424 43988.92538238 46287.58045979]]\n[[-52.451195  71.85305   95.19773 ]\n [-96.2534   134.69872   55.539604]]\n[[[ 0.38804234 -0.92127503 -0.02598965]\n  [-0.78055724 -0.34350448  0.52224043]\n  [-0.49005463 -0.18236499 -0.85240218]]\n\n [[ 0.8648546   0.09293337  0.49334562]\n  [-0.1450857   0.98705152  0.06840641]\n  [ 0.48060031  0.13073899 -0.86713935]]]\n"
    }
   ],
   "source": [
    "# gizmo_analysis stores coordinates and rotation tensors for each host\n",
    "\n",
    "print(part.host_positions)\n",
    "print(part.host_velocities)\n",
    "print(part.host_rotations)"
   ]
  },
  {
   "cell_type": "markdown",
   "metadata": {},
   "source": [
    "# star + gas particle tracking"
   ]
  },
  {
   "cell_type": "markdown",
   "metadata": {},
   "source": [
    "Some simulations have pre-compiled HDF5 files for tracking star + gas particles over time. We store these files in the directory 'track/' (if present). gizmo_track.py contains the code that generates and reads these files."
   ]
  },
  {
   "cell_type": "markdown",
   "metadata": {},
   "source": [
    "star\\_gas\\_pointers\\_\\*.hdf5 files store, for each star and gas particles at z = 0, a pointer to where it was in the catalog at each previous snapshot (replace * with snapshot index). This makes it easy quickly to get the properties of a given star particle at any previous snapshot. We store these pointers in an HDF5 file, one for each previous snapshot."
   ]
  },
  {
   "cell_type": "markdown",
   "metadata": {},
   "source": [
    "### tracking between z = 0 and a previous snapshot"
   ]
  },
  {
   "cell_type": "code",
   "execution_count": 120,
   "metadata": {},
   "outputs": [
    {
     "name": "stdout",
     "output_type": "stream",
     "text": "\n# in utilities.simulation.Snapshot():\n* reading:  Users/awetzel/work/research/simulation/gizmo/simulations/m12/m12i/m12i_res57000/snapshot_times.txt\n\n* input redshift = 0:  using snapshot index = 600, redshift = 0.000\n\n\n# in gizmo_analysis.gizmo_io.Read():\n* reading header from:  Users/awetzel/work/research/simulation/gizmo/simulations/m12/m12i/m12i_res57000/output/snapshot_600.hdf5\n  snapshot contains the following number of particles:\n    dark      (id = 1): 8820344 particles\n    dark2     (id = 2): 3081337 particles\n    gas       (id = 0): 5969934 particles\n    star      (id = 4): 3059250 particles\n    blackhole (id = 5): 0 particles\n\n* reading species: ['star', 'gas']\n* reading particles from:\n    Users/awetzel/work/research/simulation/gizmo/simulations/m12/m12i/m12i_res57000/output/snapshot_600.hdf5\n\n* reading cosmological parameters from:  Users/awetzel/work/research/simulation/gizmo/simulations/m12/m12i/m12i_res57000/initial_condition/ic_agora_m12i.conf\n\n* checking sanity of particle properties\n\n* assigning coordinates for 1 host galaxy/halo[s]:\n  position = (41821.974, 44122.005, 46288.448) [kpc comoving]\n  velocity = (-48.7, 73.2, 96.7) [km / s]\n\n"
    }
   ],
   "source": [
    "# read catalog of star and gas particles at z = 0\n",
    "\n",
    "part_at_z0 = gizmo.io.Read.read_snapshots(['star', 'gas'], 'redshift', 0, simulation_directory)"
   ]
  },
  {
   "cell_type": "code",
   "execution_count": 121,
   "metadata": {},
   "outputs": [
    {
     "name": "stdout",
     "output_type": "stream",
     "text": "\n# in utilities.simulation.Snapshot():\n* reading:  Users/awetzel/work/research/simulation/gizmo/simulations/m12/m12i/m12i_res57000/snapshot_times.txt\n\n* input redshift = 2:  using snapshot index = 172, redshift = 2.000\n\n\n# in gizmo_analysis.gizmo_io.Read():\n* reading header from:  Users/awetzel/work/research/simulation/gizmo/simulations/m12/m12i/m12i_res57000/output/snapshot_172.hdf5\n  snapshot contains the following number of particles:\n    dark      (id = 1): 8820344 particles\n    dark2     (id = 2): 3081337 particles\n    gas       (id = 0): 8575137 particles\n    star      (id = 4): 245223 particles\n    blackhole (id = 5): 0 particles\n\n* reading species: ['star', 'gas']\n* reading particles from:\n    Users/awetzel/work/research/simulation/gizmo/simulations/m12/m12i/m12i_res57000/output/snapshot_172.hdf5\n\n* reading cosmological parameters from:  Users/awetzel/work/research/simulation/gizmo/simulations/m12/m12i/m12i_res57000/initial_condition/ic_agora_m12i.conf\n\n* checking sanity of particle properties\n\n* assigning coordinates for 1 host galaxy/halo[s]:\n  position = (42860.578, 42499.360, 44850.603) [kpc comoving]\n  velocity = (-62.4, 121.0, 36.3) [km / s]\n\n\n# in utilities.basic.io.file_hdf5():\n  read file: star_gas_pointers_172.hdf5\n    species | |S4, shape = (2,)\n    z.gas.index.limits | int64, shape = (2,)\n    z.gas.number | int64, shape = ()\n    z.particle.number | int64, shape = ()\n    z.snapshot.index | int64, shape = ()\n    z.star.index.limits | int64, shape = (2,)\n    z.star.number | int64, shape = ()\n    z0.gas.index.limits | int64, shape = (2,)\n    z0.gas.number | int64, shape = ()\n    z0.particle.number | int64, shape = ()\n    z0.snapshot.index | int32, shape = ()\n    z0.star.index.limits | int64, shape = (2,)\n    z0.star.number | int64, shape = ()\n    z0.to.z.index | int32, shape = (9029184,)\n"
    }
   ],
   "source": [
    "# say that you want to find out what they were doing at z = 2\n",
    "# read in catalog of star particles at z = 2 (probably snapshot 172)\n",
    "# set assign_pointers=True to assign such pointers to the particle catalog at z = 2\n",
    "\n",
    "part_at_z2 = gizmo.io.Read.read_snapshots(\n",
    "    ['star', 'gas'], 'redshift', 2, simulation_directory, assign_pointers=True)"
   ]
  },
  {
   "cell_type": "code",
   "execution_count": 122,
   "metadata": {},
   "outputs": [
    {
     "data": {
      "text/plain": "{'species': array(['star', 'gas'], dtype='<U4'),\n 'z.gas.index.limits': array([ 245223, 8820360]),\n 'z.gas.number': 8575137,\n 'z.particle.number': 8820360,\n 'z.snapshot.index': 172,\n 'z.star.index.limits': array([     0, 245223]),\n 'z.star.number': 245223,\n 'z0.gas.index.limits': array([3059250, 9029184]),\n 'z0.gas.number': 5969934,\n 'z0.particle.number': 9029184,\n 'z0.snapshot.index': 600,\n 'z0.star.index.limits': array([      0, 3059250]),\n 'z0.star.number': 3059250,\n 'z0.to.z.index': array([8762407, 6627790, 2897974, ...,  428042, 1883434, 1569509],\n       dtype=int32)}"
     },
     "execution_count": 122,
     "metadata": {},
     "output_type": "execute_result"
    }
   ],
   "source": [
    "# we store particle pointers via a dictionary class appended to particle catalog dictionary at the relevant snapshot\n",
    "# a negative value means that the star formed after this snapshot (so it does not exist at this snapshot)\n",
    "\n",
    "part_at_z2.Pointer"
   ]
  },
  {
   "cell_type": "code",
   "execution_count": 123,
   "metadata": {},
   "outputs": [
    {
     "data": {
      "text/plain": "array(['star', 'gas'], dtype='<U4')"
     },
     "execution_count": 123,
     "metadata": {},
     "output_type": "execute_result"
    }
   ],
   "source": [
    "# the particle species that we have compiled tracking pointers for\n",
    "\n",
    "part_at_z2.Pointer['species']"
   ]
  },
  {
   "cell_type": "code",
   "execution_count": 125,
   "metadata": {},
   "outputs": [
    {
     "name": "stdout",
     "output_type": "stream",
     "text": "172\n600\n"
    }
   ],
   "source": [
    "# the snapshot indices at this redshift (z = 2) and at the reference redshift (z = 0)\n",
    "\n",
    "print(part_at_z2.Pointer['z.snapshot.index'])\n",
    "print(part_at_z2.Pointer['z0.snapshot.index'])"
   ]
  },
  {
   "cell_type": "code",
   "execution_count": 126,
   "metadata": {},
   "outputs": [
    {
     "name": "stdout",
     "output_type": "stream",
     "text": "245223\n8575137\n3059250\n5969934\n"
    }
   ],
   "source": [
    "# the number of particles at this redshift (z = 2) and at the reference redshift (z = 0)\n",
    "\n",
    "print(part_at_z2.Pointer['z.star.number'])\n",
    "print(part_at_z2.Pointer['z.gas.number'])\n",
    "\n",
    "print(part_at_z2.Pointer['z0.star.number'])\n",
    "print(part_at_z2.Pointer['z0.gas.number'])"
   ]
  },
  {
   "cell_type": "code",
   "execution_count": 127,
   "metadata": {},
   "outputs": [
    {
     "name": "stdout",
     "output_type": "stream",
     "text": "[8762407 6627790 2897974 ...  428042 1883434 1569509]\n[     0 245223]\n[ 245223 8820360]\n[      0 3059250]\n[3059250 9029184]\n"
    }
   ],
   "source": [
    "# the dictionaries below store the actual pointer indices\n",
    "# becase gas particles can become star particles, this pipeline concatenates the particle list and \n",
    "# stores pointers from this combined star + gas list at z = 0 to z\n",
    "\n",
    "print(part_at_z2.Pointer['z0.to.z.index'])\n",
    "\n",
    "# this also stores the limits of the indices of each species at each snapshot, \n",
    "# so you can convert back to the index within the individual star list or the individual gas list \n",
    "# (as stored in the particle catalog)\n",
    "print(part_at_z2.Pointer['z.star.index.limits'])\n",
    "print(part_at_z2.Pointer['z.gas.index.limits'])\n",
    "\n",
    "print(part_at_z2.Pointer['z0.star.index.limits'])\n",
    "print(part_at_z2.Pointer['z0.gas.index.limits'])"
   ]
  },
  {
   "cell_type": "code",
   "execution_count": 128,
   "metadata": {},
   "outputs": [],
   "source": [
    "# more simply, you can use this function to get pointers for a given species from z = 0 to any z\n",
    "# the default mode of tracking is going backward in time (from z = 0 to z)\n",
    "\n",
    "pointers = part_at_z2.Pointer.get_pointers(species_name_from='star', species_names_to='star')"
   ]
  },
  {
   "cell_type": "code",
   "execution_count": 129,
   "metadata": {},
   "outputs": [
    {
     "data": {
      "text/plain": "array([[43395.66430266, 44225.91487342, 46848.42028784],\n       [43391.32501013, 44235.3333939 , 46851.26898524],\n       [43392.7246372 , 44234.88455716, 46860.08437896]])"
     },
     "execution_count": 129,
     "metadata": {},
     "output_type": "execute_result"
    }
   ],
   "source": [
    "# say that you have a list of star particle indices of interest at z = 0\n",
    "\n",
    "indices_at_z0 = np.array([5, 8, 13])\n",
    "\n",
    "# list their positions at z = 0\n",
    "\n",
    "part_at_z0['star']['position'][indices_at_z0]"
   ]
  },
  {
   "cell_type": "code",
   "execution_count": 130,
   "metadata": {},
   "outputs": [
    {
     "name": "stdout",
     "output_type": "stream",
     "text": "[93570 93569 93574]\n"
    },
    {
     "data": {
      "text/plain": "array([[44594.70662236, 42857.76681624, 45680.41942321],\n       [44597.17009857, 42856.9103464 , 45683.54318435],\n       [44586.14301487, 42869.01990286, 45673.47361522]])"
     },
     "execution_count": 130,
     "metadata": {},
     "output_type": "execute_result"
    }
   ],
   "source": [
    "# now you can get their indices in the particle catalog at z = 2\n",
    "# negative indices means that the star particle did not exist at z = 2\n",
    "\n",
    "indices_at_z2 = pointers[indices_at_z0]\n",
    "print(indices_at_z2)\n",
    "\n",
    "# now you easily can get any property of interest at z = 2, for example, positions\n",
    "part_at_z2['star']['position'][indices_at_z2]"
   ]
  },
  {
   "cell_type": "code",
   "execution_count": 131,
   "metadata": {},
   "outputs": [
    {
     "name": "stdout",
     "output_type": "stream",
     "text": "[1081507 2621944 1378523]\n[[41827.95243832 44124.6273934  46289.64224645]\n [41810.05286106 44110.48518841 46285.84784929]\n [41827.05895642 44116.02070015 46284.00376819]]\n"
    }
   ],
   "source": [
    "# alternatively, you can track particles going forward in time by setting forward=True\n",
    "\n",
    "pointers = part_at_z2.Pointer.get_pointers(species_name_from='star', species_names_to='star', forward=True)\n",
    "\n",
    "indices_at_z2 = np.array([5, 8, 13])\n",
    "indices_at_z0 = pointers[indices_at_z2]\n",
    "print(indices_at_z0)\n",
    "print(part_at_z0['star']['position'][indices_at_z0])"
   ]
  },
  {
   "cell_type": "code",
   "execution_count": 132,
   "metadata": {},
   "outputs": [
    {
     "name": "stdout",
     "output_type": "stream",
     "text": "{'index': array([8517184, 6382567, 2652751, ..., 5870729,  297634,  179265],\n      dtype=int32), 'species': array(['gas', 'gas', 'gas', ..., 'gas', 'gas', 'star'], dtype='<U4')}\n['gas' 'star' 'star' 'star'] [8517184   93570   93569   93574]\n[8517184]\n[[42845.52824108 42506.12287672 44870.50121988]]\n"
    }
   ],
   "source": [
    "# also, you can track star particles back to both progenitor star and progenitor gas particles\n",
    "\n",
    "pointers = part_at_z2.Pointer.get_pointers(species_name_from='star', species_names_to=['star', 'gas'])\n",
    "\n",
    "# but now, pointers is a *dictionary* that stores both the index and species of each progenitor particle\n",
    "print(pointers)\n",
    "\n",
    "# get star particle indices at z = 0 and see what they were at z = 2\n",
    "star_indices_at_z0 = np.array([0, 5, 8, 13])\n",
    "print(pointers['species'][star_indices_at_z0], pointers['index'][star_indices_at_z0])\n",
    "\n",
    "# get those that were gas particles\n",
    "masks = np.where(pointers['species'][star_indices_at_z0] == 'gas')[0]\n",
    "\n",
    "gas_indices_at_z2 = pointers['index'][star_indices_at_z0[masks]]\n",
    "\n",
    "print(gas_indices_at_z2)\n",
    "print(part_at_z2['gas']['position'][gas_indices_at_z2])"
   ]
  },
  {
   "cell_type": "code",
   "execution_count": 133,
   "metadata": {},
   "outputs": [
    {
     "name": "stdout",
     "output_type": "stream",
     "text": "['star' 'star' 'gas' 'gas']\n[ 215205 1917430 1826927 4148144]\n[ 215205 1917430]\n[[41823.76116895 44122.68646199 46287.49155757]\n [41813.98704585 44118.76742237 46303.17274406]]\n"
    }
   ],
   "source": [
    "# similar for working forward in time, track gas particles at z that can be star or gas particles at z = 0\n",
    "\n",
    "pointers = part_at_z2.Pointer.get_pointers(\n",
    "    species_name_from='gas', species_names_to=['star', 'gas'], forward=True)\n",
    "\n",
    "# get gas indices at z = 2 and see what they end up as at z = 0\n",
    "gas_indices_at_z2 = np.array([0, 5, 8, 13])\n",
    "print(pointers['species'][gas_indices_at_z2])\n",
    "print(pointers['index'][gas_indices_at_z2])\n",
    "\n",
    "# get those that are star particles at z = 0\n",
    "masks = np.where(pointers['species'][gas_indices_at_z2] == 'star')[0]\n",
    "\n",
    "star_indices_at_z0 = pointers['index'][gas_indices_at_z2[masks]]\n",
    "\n",
    "print(star_indices_at_z0)\n",
    "print(part_at_z0['star']['position'][star_indices_at_z0])"
   ]
  },
  {
   "cell_type": "markdown",
   "metadata": {},
   "source": [
    "### tracking between 2 snapshots in which both are at z > 0"
   ]
  },
  {
   "cell_type": "code",
   "execution_count": 134,
   "metadata": {},
   "outputs": [
    {
     "name": "stdout",
     "output_type": "stream",
     "text": "\n# in utilities.simulation.Snapshot():\n* reading:  Users/awetzel/work/research/simulation/gizmo/simulations/m12/m12i/m12i_res57000/snapshot_times.txt\n\n* input redshift = 1:  using snapshot index = 277, redshift = 1.000\n\n\n# in gizmo_analysis.gizmo_io.Read():\n* reading header from:  Users/awetzel/work/research/simulation/gizmo/simulations/m12/m12i/m12i_res57000/output/snapshot_277.hdf5\n  snapshot contains the following number of particles:\n    dark      (id = 1): 8820344 particles\n    dark2     (id = 2): 3081337 particles\n    gas       (id = 0): 7498674 particles\n    star      (id = 4): 1333580 particles\n    blackhole (id = 5): 0 particles\n\n* reading species: ['star', 'gas']\n* reading particles from:\n    Users/awetzel/work/research/simulation/gizmo/simulations/m12/m12i/m12i_res57000/output/snapshot_277.hdf5\n\n* reading cosmological parameters from:  Users/awetzel/work/research/simulation/gizmo/simulations/m12/m12i/m12i_res57000/initial_condition/ic_agora_m12i.conf\n\n* checking sanity of particle properties\n\n* assigning coordinates for 1 host galaxy/halo[s]:\n  position = (42434.347, 43258.424, 45265.678) [kpc comoving]\n  velocity = (-62.5, 90.3, 88.6) [km / s]\n\n\n# in utilities.basic.io.file_hdf5():\n  read file: star_gas_pointers_277.hdf5\n    species | |S4, shape = (2,)\n    z.gas.index.limits | int64, shape = (2,)\n    z.gas.number | int64, shape = ()\n    z.particle.number | int64, shape = ()\n    z.snapshot.index | int64, shape = ()\n    z.star.index.limits | int64, shape = (2,)\n    z.star.number | int64, shape = ()\n    z0.gas.index.limits | int64, shape = (2,)\n    z0.gas.number | int64, shape = ()\n    z0.particle.number | int64, shape = ()\n    z0.snapshot.index | int64, shape = ()\n    z0.star.index.limits | int64, shape = (2,)\n    z0.star.number | int64, shape = ()\n    z0.to.z.index | int32, shape = (9029184,)\n\n# in utilities.simulation.Snapshot():\n* reading:  Users/awetzel/work/research/simulation/gizmo/simulations/m12/m12i/m12i_res57000/snapshot_times.txt\n\n* input redshift = 2:  using snapshot index = 172, redshift = 2.000\n\n\n# in gizmo_analysis.gizmo_io.Read():\n* reading header from:  Users/awetzel/work/research/simulation/gizmo/simulations/m12/m12i/m12i_res57000/output/snapshot_172.hdf5\n  snapshot contains the following number of particles:\n    dark      (id = 1): 8820344 particles\n    dark2     (id = 2): 3081337 particles\n    gas       (id = 0): 8575137 particles\n    star      (id = 4): 245223 particles\n    blackhole (id = 5): 0 particles\n\n* reading species: ['star', 'gas']\n* reading particles from:\n    Users/awetzel/work/research/simulation/gizmo/simulations/m12/m12i/m12i_res57000/output/snapshot_172.hdf5\n\n* reading cosmological parameters from:  Users/awetzel/work/research/simulation/gizmo/simulations/m12/m12i/m12i_res57000/initial_condition/ic_agora_m12i.conf\n\n* checking sanity of particle properties\n\n* assigning coordinates for 1 host galaxy/halo[s]:\n  position = (42860.578, 42499.360, 44850.603) [kpc comoving]\n  velocity = (-62.4, 121.0, 36.3) [km / s]\n\n\n# in utilities.basic.io.file_hdf5():\n  read file: star_gas_pointers_172.hdf5\n    species | |S4, shape = (2,)\n    z.gas.index.limits | int64, shape = (2,)\n    z.gas.number | int64, shape = ()\n    z.particle.number | int64, shape = ()\n    z.snapshot.index | int64, shape = ()\n    z.star.index.limits | int64, shape = (2,)\n    z.star.number | int64, shape = ()\n    z0.gas.index.limits | int64, shape = (2,)\n    z0.gas.number | int64, shape = ()\n    z0.particle.number | int64, shape = ()\n    z0.snapshot.index | int32, shape = ()\n    z0.star.index.limits | int64, shape = (2,)\n    z0.star.number | int64, shape = ()\n    z0.to.z.index | int32, shape = (9029184,)\n"
    }
   ],
   "source": [
    "# particle tracking also can handle tracking particles between any 2 snapshots\n",
    "\n",
    "# read catalogs of star and gas particles at z = 1 and 2, including their pointers relative to z = 0\n",
    "# set asign_pointers=True automatically to append pointer class to each particle catalog\n",
    "part_at_z1 = gizmo.io.Read.read_snapshots(\n",
    "    ['star', 'gas'], 'redshift', 1, simulation_directory, assign_pointers=True)\n",
    "part_at_z2 = gizmo.io.Read.read_snapshots(\n",
    "    ['star', 'gas'], 'redshift', 2, simulation_directory, assign_pointers=True)"
   ]
  },
  {
   "cell_type": "code",
   "execution_count": 135,
   "metadata": {},
   "outputs": [],
   "source": [
    "# now just append intermediate-redshift pointers (to z = 1) to pointers at z = 2\n",
    "\n",
    "part_at_z2.Pointer.add_intermediate_pointers(part_at_z1.Pointer)"
   ]
  },
  {
   "cell_type": "code",
   "execution_count": 136,
   "metadata": {},
   "outputs": [
    {
     "name": "stdout",
     "output_type": "stream",
     "text": "['star' 'gas' 'gas' 'gas']\n[ 107166 1169600 6377478  239484]\n[107166]\n[[43535.53900573 42053.83122207 46265.70989359]]\n"
    }
   ],
   "source": [
    "# now you can access pointers from z = 1 to z = 2, by setting intermediate_snapshot=True\n",
    "\n",
    "pointers = part_at_z2.Pointer.get_pointers(\n",
    "    species_name_from='star', species_names_to=['star', 'gas'], intermediate_snapshot=True)\n",
    "\n",
    "# get star indices at z = 0 and see what they were at z = 2\n",
    "star_indices_at_z1 = np.array([0, 5, 8, 13])\n",
    "print(pointers['species'][star_indices_at_z1])\n",
    "print(pointers['index'][star_indices_at_z1])\n",
    "\n",
    "# get those that are star particles at z = 2\n",
    "masks = np.where(pointers['species'][star_indices_at_z1] == 'star')[0]\n",
    "\n",
    "star_indices_at_z2 = pointers['index'][star_indices_at_z1[masks]]\n",
    "\n",
    "print(star_indices_at_z2)\n",
    "print(part_at_z2['star']['position'][star_indices_at_z2])"
   ]
  },
  {
   "cell_type": "code",
   "execution_count": 138,
   "metadata": {},
   "outputs": [
    {
     "name": "stdout",
     "output_type": "stream",
     "text": "\n# in utilities.basic.io.file_hdf5():\n  read file: star_gas_pointers_277.hdf5\n    species | |S4, shape = (2,)\n    z.gas.index.limits | int64, shape = (2,)\n    z.gas.number | int64, shape = ()\n    z.particle.number | int64, shape = ()\n    z.snapshot.index | int64, shape = ()\n    z.star.index.limits | int64, shape = (2,)\n    z.star.number | int64, shape = ()\n    z0.gas.index.limits | int64, shape = (2,)\n    z0.gas.number | int64, shape = ()\n    z0.particle.number | int64, shape = ()\n    z0.snapshot.index | int64, shape = ()\n    z0.star.index.limits | int64, shape = (2,)\n    z0.star.number | int64, shape = ()\n    z0.to.z.index | int32, shape = (9029184,)\n\n# in utilities.basic.io.file_hdf5():\n  read file: star_gas_pointers_172.hdf5\n    species | |S4, shape = (2,)\n    z.gas.index.limits | int64, shape = (2,)\n    z.gas.number | int64, shape = ()\n    z.particle.number | int64, shape = ()\n    z.snapshot.index | int64, shape = ()\n    z.star.index.limits | int64, shape = (2,)\n    z.star.number | int64, shape = ()\n    z0.gas.index.limits | int64, shape = (2,)\n    z0.gas.number | int64, shape = ()\n    z0.particle.number | int64, shape = ()\n    z0.snapshot.index | int32, shape = ()\n    z0.star.index.limits | int64, shape = (2,)\n    z0.star.number | int64, shape = ()\n    z0.to.z.index | int32, shape = (9029184,)\n[[ 292.68991569 -383.58753865 -537.01238787]\n [ 340.40628092 -396.67310129 -443.35512543]\n [ 325.33277499 -341.7086024  -510.64487315]\n ...\n [ -99.12561147   30.8602316  -350.24431613]\n [ -99.82395539   11.77529703 -343.91413721]\n [ -94.33690426   50.91985599 -359.29941783]]\n\n# in utilities.basic.io.file_hdf5():\n  read file: star_gas_pointers_172.hdf5\n    species | |S4, shape = (2,)\n    z.gas.index.limits | int64, shape = (2,)\n    z.gas.number | int64, shape = ()\n    z.particle.number | int64, shape = ()\n    z.snapshot.index | int64, shape = ()\n    z.star.index.limits | int64, shape = (2,)\n    z.star.number | int64, shape = ()\n    z0.gas.index.limits | int64, shape = (2,)\n    z0.gas.number | int64, shape = ()\n    z0.particle.number | int64, shape = ()\n    z0.snapshot.index | int32, shape = ()\n    z0.star.index.limits | int64, shape = (2,)\n    z0.star.number | int64, shape = ()\n    z0.to.z.index | int32, shape = (9029184,)\n\n# in utilities.basic.io.file_hdf5():\n  read file: star_gas_pointers_277.hdf5\n    species | |S4, shape = (2,)\n    z.gas.index.limits | int64, shape = (2,)\n    z.gas.number | int64, shape = ()\n    z.particle.number | int64, shape = ()\n    z.snapshot.index | int64, shape = ()\n    z.star.index.limits | int64, shape = (2,)\n    z.star.number | int64, shape = ()\n    z0.gas.index.limits | int64, shape = (2,)\n    z0.gas.number | int64, shape = ()\n    z0.particle.number | int64, shape = ()\n    z0.snapshot.index | int64, shape = ()\n    z0.star.index.limits | int64, shape = (2,)\n    z0.star.number | int64, shape = ()\n    z0.to.z.index | int32, shape = (9029184,)\n[[ 1.76618861e+03 -1.34864646e+03  3.38039285e+03]\n [-3.19344155e-01  1.92092919e+01 -1.40406222e+01]\n [ 5.49481984e-01 -9.67723621e-01 -1.44379399e+00]\n ...\n [-1.47852245e+03  1.73040220e+03  3.40694911e+02]\n [-1.47797816e+03  1.72987523e+03  3.40425767e+02]\n [-1.47634593e+03  1.73094540e+03  3.39585600e+02]]\n"
    }
   ],
   "source": [
    "# if you just want to track a single species (star -> star or gas -> gas) between 2 snapshots,\n",
    "# read_pointers_between_snapshots() makes it easy to get the pointer indices between any 2 snapshots\n",
    "\n",
    "ParticlePointer = gizmo.track.ParticlePointerClass(simulation_directory=simulation_directory)\n",
    "\n",
    "# tracking forward in time\n",
    "pointers_z2_to_z1 = ParticlePointer.read_pointers_between_snapshots(\n",
    "    snapshot_index_from=172, snapshot_index_to=277, species_name='star')\n",
    "\n",
    "# for example, see how far star particles have moved\n",
    "print(part_at_z2['star']['position'] - part_at_z1['star']['position'][pointers_z2_to_z1])\n",
    "\n",
    "\n",
    "# similar for tracking going backward in time\n",
    "pointers_z1_to_z2 = ParticlePointer.read_pointers_between_snapshots(\n",
    "    snapshot_index_from=277, snapshot_index_to=172, species_name='star')\n",
    "\n",
    "# in this case, need to select stars that existed as stars at z = 2\n",
    "masks = (pointers_z1_to_z2 >= 0)\n",
    "\n",
    "# see how far star particles have moved\n",
    "print(part_at_z1['star']['position'][masks] - part_at_z1['star']['position'][pointers_z1_to_z2[masks]])"
   ]
  },
  {
   "cell_type": "code",
   "execution_count": 139,
   "metadata": {},
   "outputs": [
    {
     "name": "stdout",
     "output_type": "stream",
     "text": "\n# in utilities.basic.io.file_hdf5():\n  read file: star_gas_pointers_277.hdf5\n    species | |S4, shape = (2,)\n    z.gas.index.limits | int64, shape = (2,)\n    z.gas.number | int64, shape = ()\n    z.particle.number | int64, shape = ()\n    z.snapshot.index | int64, shape = ()\n    z.star.index.limits | int64, shape = (2,)\n    z.star.number | int64, shape = ()\n    z0.gas.index.limits | int64, shape = (2,)\n    z0.gas.number | int64, shape = ()\n    z0.particle.number | int64, shape = ()\n    z0.snapshot.index | int64, shape = ()\n    z0.star.index.limits | int64, shape = (2,)\n    z0.star.number | int64, shape = ()\n    z0.to.z.index | int32, shape = (9029184,)\n\n# in utilities.basic.io.file_hdf5():\n  read file: star_gas_pointers_172.hdf5\n    species | |S4, shape = (2,)\n    z.gas.index.limits | int64, shape = (2,)\n    z.gas.number | int64, shape = ()\n    z.particle.number | int64, shape = ()\n    z.snapshot.index | int64, shape = ()\n    z.star.index.limits | int64, shape = (2,)\n    z.star.number | int64, shape = ()\n    z0.gas.index.limits | int64, shape = (2,)\n    z0.gas.number | int64, shape = ()\n    z0.particle.number | int64, shape = ()\n    z0.snapshot.index | int32, shape = ()\n    z0.star.index.limits | int64, shape = (2,)\n    z0.star.number | int64, shape = ()\n    z0.to.z.index | int32, shape = (9029184,)\n[[ 224.35345256 -102.50255757 -208.25313603]\n [ 313.50763315 -345.17309798 -495.19974925]\n [ 114.49285425  233.74061457 -177.28187293]\n ...\n [  53.25622074 -595.53442327  -88.54922416]\n [  57.46695114 -592.76897158  -83.2795691 ]\n [  58.68275013 -596.29758723  -82.94903887]]\n\n# in utilities.basic.io.file_hdf5():\n  read file: star_gas_pointers_172.hdf5\n    species | |S4, shape = (2,)\n    z.gas.index.limits | int64, shape = (2,)\n    z.gas.number | int64, shape = ()\n    z.particle.number | int64, shape = ()\n    z.snapshot.index | int64, shape = ()\n    z.star.index.limits | int64, shape = (2,)\n    z.star.number | int64, shape = ()\n    z0.gas.index.limits | int64, shape = (2,)\n    z0.gas.number | int64, shape = ()\n    z0.particle.number | int64, shape = ()\n    z0.snapshot.index | int32, shape = ()\n    z0.star.index.limits | int64, shape = (2,)\n    z0.star.number | int64, shape = ()\n    z0.to.z.index | int32, shape = (9029184,)\n\n# in utilities.basic.io.file_hdf5():\n  read file: star_gas_pointers_277.hdf5\n    species | |S4, shape = (2,)\n    z.gas.index.limits | int64, shape = (2,)\n    z.gas.number | int64, shape = ()\n    z.particle.number | int64, shape = ()\n    z.snapshot.index | int64, shape = ()\n    z.star.index.limits | int64, shape = (2,)\n    z.star.number | int64, shape = ()\n    z0.gas.index.limits | int64, shape = (2,)\n    z0.gas.number | int64, shape = ()\n    z0.particle.number | int64, shape = ()\n    z0.snapshot.index | int64, shape = ()\n    z0.star.index.limits | int64, shape = (2,)\n    z0.star.number | int64, shape = ()\n    z0.to.z.index | int32, shape = (9029184,)\n[[-560.31238357 -135.1138063   780.92769312]\n [-683.88542357 -173.21415443  796.86951148]\n [-705.87410058 -145.10567908  770.32026879]\n ...\n [-258.38776428  710.77164984  377.14910812]\n [ -94.5892211   497.91426255  289.2440255 ]\n [-150.44327719  618.12171284  316.23342548]]\n"
    }
   ],
   "source": [
    "# do the same, but for gas\n",
    "\n",
    "ParticlePointer = gizmo.track.ParticlePointerClass(simulation_directory=simulation_directory)\n",
    "\n",
    "# tracking going forward in time\n",
    "pointers_z2_to_z1 = ParticlePointer.read_pointers_between_snapshots(\n",
    "    snapshot_index_from=172, snapshot_index_to=277, species_name='gas')\n",
    "\n",
    "# ensure that gas particle still is a gas particle at z = 1\n",
    "masks = (pointers_z2_to_z1 >= 0)\n",
    "\n",
    "print(part_at_z2['gas']['position'][masks] - part_at_z1['gas']['position'][pointers_z2_to_z1[masks]])\n",
    "\n",
    "# tracking going backward in time\n",
    "pointers_z1_to_z2 = ParticlePointer.read_pointers_between_snapshots(\n",
    "    snapshot_index_from=277, snapshot_index_to=172, species_name='gas')\n",
    "\n",
    "# for gas, still have to ensure positive pointers, even if tracking going backward in time,\n",
    "# because a few gas particles that leave the zoom-in region get culled (for numerical stability) by z = 0\n",
    "# (remember that the pointers always route through z = 0)\n",
    "masks = (pointers_z1_to_z2 >= 0)\n",
    "\n",
    "print(part_at_z1['gas']['position'][masks] - part_at_z2['gas']['position'][pointers_z1_to_z2[masks]])"
   ]
  },
  {
   "cell_type": "markdown",
   "metadata": {},
   "source": [
    "# star particle formation coordinates"
   ]
  },
  {
   "cell_type": "markdown",
   "metadata": {},
   "source": [
    "As part of star particle tracking, we store the position and velocity of each star particle immediately after it formed.\n",
    "\n",
    "Within track/, star\\_form\\_coordinates\\_600.hdf5 stores, for each star particle at z = 0, its 3-D distance and 3-D velocity wrt to the main host galaxy at the first snapshot after it formed. These coordinates are aligned with the principal (major, intermediate, minor) axes of the stellar disk (as defined via its moment of inertia tensor) at that snapshot."
   ]
  },
  {
   "cell_type": "code",
   "execution_count": 140,
   "metadata": {},
   "outputs": [
    {
     "name": "stdout",
     "output_type": "stream",
     "text": "\n# in utilities.basic.io.file_hdf5():\n  read file: star_form_coordinates_600.hdf5\n    center.position | float32, shape = (601, 3)\n    center.velocity | float32, shape = (601, 3)\n    form.host.distance | float32, shape = (3059250, 3)\n    form.host.velocity | float32, shape = (3059250, 3)\n    id | uint32, shape = (3059250,)\n    principal.axes.vectors | float32, shape = (601, 3, 3)\n"
    }
   ],
   "source": [
    "# use the function within gizmo_track.py to read this file and assign values directly to the catalog at z = 0\n",
    "\n",
    "gizmo.track.ParticleCoordinate.io_formation_coordinates(part_at_z0, simulation_directory)"
   ]
  },
  {
   "cell_type": "code",
   "execution_count": 156,
   "metadata": {},
   "outputs": [
    {
     "name": "stdout",
     "output_type": "stream",
     "text": "\n# in utilities.simulation.Snapshot():\n* reading:  Users/awetzel/work/research/simulation/gizmo/simulations/m12/m12i/m12i_res57000/snapshot_times.txt\n\n* input redshift = 0:  using snapshot index = 600, redshift = 0.000\n\n\n# in gizmo_analysis.gizmo_io.Read():\n* reading header from:  Users/awetzel/work/research/simulation/gizmo/simulations/m12/m12i/m12i_res57000/output/snapshot_600.hdf5\n  snapshot contains the following number of particles:\n    dark      (id = 1): 8820344 particles\n    dark2     (id = 2): 3081337 particles\n    gas       (id = 0): 5969934 particles\n    star      (id = 4): 3059250 particles\n    blackhole (id = 5): 0 particles\n\n* reading species: ['star']\n* reading particles from:\n    Users/awetzel/work/research/simulation/gizmo/simulations/m12/m12i/m12i_res57000/output/snapshot_600.hdf5\n\n* reading cosmological parameters from:  Users/awetzel/work/research/simulation/gizmo/simulations/m12/m12i/m12i_res57000/initial_condition/ic_agora_m12i.conf\n\n* checking sanity of particle properties\n\n* assigning coordinates for 1 host galaxy/halo[s]:\n  position = (41821.974, 44122.005, 46288.448) [kpc comoving]\n  velocity = (-48.7, 73.2, 96.7) [km / s]\n\n* assigning principal axes of host galaxy/halo[s]:\n  using star particles at distance < 10 kpc\n  using youngest 25% of star particles\n\n# in utilities.particle.get_principal_axes():\n  using star particles with age = [0.000, 4.898] Gyr\n  axis ratios: min/maj = 0.161, min/med = 0.165, med/maj = 0.978\n\n\n# in utilities.basic.io.file_hdf5():\n  read file: star_form_coordinates_600.hdf5\n    center.position | float32, shape = (601, 3)\n    center.velocity | float32, shape = (601, 3)\n    form.host.distance | float32, shape = (3059250, 3)\n    form.host.velocity | float32, shape = (3059250, 3)\n    id | uint32, shape = (3059250,)\n    principal.axes.vectors | float32, shape = (601, 3, 3)\n"
    }
   ],
   "source": [
    "# more conveniently, you can read the formation coordinates of star particles during snapshot read-in\n",
    "# by setting assign_formation_coordinates=True\n",
    "\n",
    "part_at_z0 = gizmo.io.Read.read_snapshots(\n",
    "    ['star'], 'redshift', 0, simulation_directory, assign_host_principal_axes=True, \n",
    "    assign_formation_coordinates=True)"
   ]
  },
  {
   "cell_type": "code",
   "execution_count": 142,
   "metadata": {},
   "outputs": [
    {
     "data": {
      "text/plain": "array([[    3.8351834,     6.170289 ,    -1.4488623],\n       [  951.6061   , -1143.819    ,   541.5925   ],\n       [ 1258.5391   ,   183.60645  ,   -92.80096  ],\n       ...,\n       [  542.5843   ,  -580.9797   ,   927.32684  ],\n       [ -376.8372   ,   349.8039   ,  -245.89764  ],\n       [ -275.3792   ,   -35.97139  ,  -272.96063  ]], dtype=float32)"
     },
     "execution_count": 142,
     "metadata": {},
     "output_type": "execute_result"
    }
   ],
   "source": [
    "# 3-D distance at formation\n",
    "# this is aligned with the principal axes of each host galaxy at that time [kpc physical]\n",
    "# we compute the principal axes *independently* at each snapshot\n",
    "# distance along dimension 0 is aligned with the major axis\n",
    "# distance along dimension 1 is algined with the intermediate axis\n",
    "# distance along dimension 2 is aligned with the minor (Z) axis\n",
    "\n",
    "part_at_z0['star']['form.host.distance']\n",
    "\n",
    "# part_at_z0['star']['form.host2.distance']  # if the simulation has a second host galaxy (for example, ELVIS)"
   ]
  },
  {
   "cell_type": "code",
   "execution_count": 143,
   "metadata": {},
   "outputs": [
    {
     "data": {
      "text/plain": "array([   7.408124, 1583.4136  , 1275.2427  , ..., 1221.4214  ,\n        569.9427  ,  389.4036  ], dtype=float32)"
     },
     "execution_count": 143,
     "metadata": {},
     "output_type": "execute_result"
    }
   ],
   "source": [
    "# as before, add 'total' to get the total scalar (absolute) distance wrt each host galaxy at formation [kpc physical]\n",
    "# this is a derived quantity, so need to call via .prop()\n",
    "\n",
    "part_at_z0['star'].prop('form.host.distance.total')"
   ]
  },
  {
   "cell_type": "code",
   "execution_count": 144,
   "metadata": {},
   "outputs": [
    {
     "data": {
      "text/plain": "array([[ 7.2650599e+00, -1.4488623e+00,  1.0146770e+00],\n       [ 1.4879099e+03,  5.4159253e+02,  5.4063134e+00],\n       [ 1.2718616e+03, -9.2800957e+01,  1.4486657e-01],\n       ...,\n       [ 7.9494348e+02,  9.2732684e+02,  5.4636278e+00],\n       [ 5.1416827e+02, -2.4589764e+02,  2.3933804e+00],\n       [ 2.7771866e+02, -2.7296063e+02,  3.2714822e+00]], dtype=float32)"
     },
     "execution_count": 144,
     "metadata": {},
     "output_type": "execute_result"
    }
   ],
   "source": [
    "# add 'cylindrical' to get 3-D distance at formation wrt each host galaxy in cylindrical coordinates [kpc physical]\n",
    "\n",
    "part_at_z0['star'].prop('form.host.distance.cylindrical')"
   ]
  },
  {
   "cell_type": "code",
   "execution_count": 145,
   "metadata": {},
   "outputs": [
    {
     "data": {
      "text/plain": "array([[ 7.26506   , -1.4488623 ,  1.014677  ],\n       [ 2.819624  , -0.01174179,  4.65897   ],\n       [ 2.4207215 , -0.02199288,  3.6387615 ],\n       ...,\n       [ 2.7438505 , -1.4894025 ,  5.987568  ],\n       [ 3.6302092 , -0.01234316,  3.3655412 ],\n       [ 1.5276729 , -0.12618025,  1.8085258 ]], dtype=float32)"
     },
     "execution_count": 145,
     "metadata": {},
     "output_type": "execute_result"
    }
   ],
   "source": [
    "# these values look more reasonable if you restrict to star particles that formed within a host galaxy\n",
    "\n",
    "# select particles formed at d = 0 - 8 kpc physical\n",
    "part_indices = ut.array.get_indices(part_at_z0['star'].prop('form.host.distance.total'), [0, 8])\n",
    "\n",
    "part_at_z0['star'].prop('form.host.distance.cylindrical', part_indices)"
   ]
  },
  {
   "cell_type": "code",
   "execution_count": 153,
   "metadata": {},
   "outputs": [
    {
     "name": "stdout",
     "output_type": "stream",
     "text": "[[ 5.10321930e+02  8.53348755e+02  2.34322433e+02]\n [ 4.29511480e-02 -1.29415512e+02  3.22944736e+00]\n [ 1.82360718e+02 -1.09645996e+02  3.08418255e+01]\n ...\n [ 3.11529217e+01 -1.06510910e+02 -1.64038372e+00]\n [-9.91549301e+01 -8.34163761e+00  2.34269543e+01]\n [-1.11417809e+02  4.18189201e+01 -2.22872696e+01]]\n[1021.5379   129.45581  215.00905 ...  110.98545  102.22575  121.07631]\n[[ 994.1538     234.32243     17.056305 ]\n [  99.514626     3.2294474  -82.735825 ]\n [ 164.622       30.841825  -134.82314  ]\n ...\n [  99.10612     -1.6403837  -49.930504 ]\n [  66.996216    23.426954    73.57168  ]\n [ 105.06267    -22.28727    -55.897987 ]]\n"
    }
   ],
   "source": [
    "# same for velocity at formation\n",
    "\n",
    "print(part_at_z0['star']['form.host.velocity'])\n",
    "print(part_at_z0['star'].prop('form.host.velocity.total'))\n",
    "print(part_at_z0['star'].prop('form.host.velocity.cylindrical'))"
   ]
  },
  {
   "cell_type": "code",
   "execution_count": 159,
   "metadata": {},
   "outputs": [
    {
     "name": "stdout",
     "output_type": "stream",
     "text": "[[      nan       nan       nan]\n [      nan       nan       nan]\n [      nan       nan       nan]\n ...\n [41822.16  44121.64  46287.992]\n [41822.08  44121.836 46288.242]\n [41821.973 44122.004 46288.457]]\n[[       nan        nan        nan]\n [       nan        nan        nan]\n [       nan        nan        nan]\n ...\n [-48.60276   73.29304   96.20622 ]\n [-48.64333   73.259476  96.438835]\n [-48.736935  73.20865   96.66936 ]]\n[[[        nan         nan         nan]\n  [        nan         nan         nan]\n  [        nan         nan         nan]]\n\n [[        nan         nan         nan]\n  [        nan         nan         nan]\n  [        nan         nan         nan]]\n\n [[        nan         nan         nan]\n  [        nan         nan         nan]\n  [        nan         nan         nan]]\n\n ...\n\n [[-0.23860915  0.24924965  0.9385842 ]\n  [ 0.8640545   0.49563974  0.08804033]\n  [-0.4432556   0.83199507 -0.33362946]]\n\n [[-0.01853178  0.36362258  0.93136203]\n  [ 0.8962332   0.418959   -0.14573726]\n  [-0.44319585  0.8320168  -0.3336547 ]]\n\n [[ 0.20290324  0.4557217   0.86668795]\n  [ 0.8732139   0.31629786 -0.37074673]\n  [-0.4430889   0.8320297  -0.33376467]]]\n"
    }
   ],
   "source": [
    "# recall that we store formation postions + velocities relative to each host's principal axes\n",
    "# and that we compute the principal axes separately at each snapshot\n",
    "# thus, we also store each host's coordinates and rotation tensor (for its principal axes) at each snapshot\n",
    "# so you can use this to compute formation coordinates in the box's x,y,z coordinates if you want\n",
    "\n",
    "print(part_at_z0.host_positions_all)\n",
    "print(part_at_z0.host_velocities_all)\n",
    "print(part_at_z0.host_rotations_all)"
   ]
  },
  {
   "cell_type": "markdown",
   "metadata": {
    "collapsed": true
   },
   "source": [
    "# profile of properties"
   ]
  },
  {
   "cell_type": "markdown",
   "metadata": {},
   "source": [
    "A common task is to compute a radial profile of a given quantity, such as mass density, average age, median metallicity, etc.\n",
    "\n",
    "The high-level functions below make this easier to do."
   ]
  },
  {
   "cell_type": "code",
   "execution_count": 182,
   "metadata": {},
   "outputs": [
    {
     "name": "stdout",
     "output_type": "stream",
     "text": "\n# in utilities.simulation.Snapshot():\n* reading:  Users/awetzel/work/research/simulation/gizmo/simulations/m12/m12i/m12i_res57000/snapshot_times.txt\n\n* input redshift = 0:  using snapshot index = 600, redshift = 0.000\n\n\n# in gizmo_analysis.gizmo_io.Read():\n* reading header from:  Users/awetzel/work/research/simulation/gizmo/simulations/m12/m12i/m12i_res57000/output/snapshot_600.hdf5\n  snapshot contains the following number of particles:\n    dark      (id = 1): 8820344 particles\n    dark2     (id = 2): 3081337 particles\n    gas       (id = 0): 5969934 particles\n    star      (id = 4): 3059250 particles\n    blackhole (id = 5): 0 particles\n\n* reading species: ['star']\n* reading particles from:\n    Users/awetzel/work/research/simulation/gizmo/simulations/m12/m12i/m12i_res57000/output/snapshot_600.hdf5\n\n* reading cosmological parameters from:  Users/awetzel/work/research/simulation/gizmo/simulations/m12/m12i/m12i_res57000/initial_condition/ic_agora_m12i.conf\n\n* checking sanity of particle properties\n\n* assigning coordinates for 1 host galaxy/halo[s]:\n  position = (41821.974, 44122.005, 46288.448) [kpc comoving]\n  velocity = (-48.7, 73.2, 96.7) [km / s]\n\n* assigning principal axes of host galaxy/halo[s]:\n  using star particles at distance < 10 kpc\n  using youngest 25% of star particles\n\n# in utilities.particle.get_principal_axes():\n  using star particles with age = [0.000, 4.898] Gyr\n  axis ratios: min/maj = 0.161, min/med = 0.165, med/maj = 0.978\n\n"
    }
   ],
   "source": [
    "# read star particles at z = 0\n",
    "\n",
    "part = gizmo.io.Read.read_snapshots(\n",
    "    ['star'], 'redshift', 0, simulation_directory, assign_host_principal_axes=True)"
   ]
  },
  {
   "cell_type": "code",
   "execution_count": 183,
   "metadata": {},
   "outputs": [],
   "source": [
    "# first, initiate an instance of SpeciesProfileClass\n",
    "# as you initialize, choose your distance/radius binning scheme:\n",
    "#   'log' v 'linear', distance limits, bin width, number of spatial dimensions of profile\n",
    "# refer to ut.binning.DistanceBinClass() for more\n",
    "\n",
    "# linear binning from 0 to 20 kpc with 1 kpc bin width, assuming a 3-D profile\n",
    "SpeciesProfile = ut.particle.SpeciesProfileClass(\n",
    "    scaling='linear', limits=[0, 20], width=1, dimension_number=3)"
   ]
  },
  {
   "cell_type": "code",
   "execution_count": 184,
   "metadata": {},
   "outputs": [
    {
     "name": "stdout",
     "output_type": "stream",
     "text": "\n# in utilities.particle.SpeciesProfile():\n  input  3059250 distances -  2706222 (88.5%) are within limits = [0.000, 20.000]\n"
    }
   ],
   "source": [
    "# using this binning scheme,\n",
    "# compute sum/histogram/density of mass of star particles in each bin\n",
    "# this returns a bunch of summed properties via a dictionary\n",
    "\n",
    "pro = SpeciesProfile.get_sum_profiles(part, 'star', 'mass')"
   ]
  },
  {
   "cell_type": "code",
   "execution_count": 185,
   "metadata": {},
   "outputs": [
    {
     "data": {
      "text/plain": "dict_keys(['star', 'baryon', 'total'])"
     },
     "execution_count": 185,
     "metadata": {},
     "output_type": "execute_result"
    }
   ],
   "source": [
    "# you can supply a list of multiple species, and it will compute profiles for each\n",
    "# thus, it returns a dictionary for each species\n",
    "\n",
    "pro.keys()"
   ]
  },
  {
   "cell_type": "code",
   "execution_count": 186,
   "metadata": {},
   "outputs": [
    {
     "data": {
      "text/plain": "dict_keys(['sum', 'sum.cum', 'log sum', 'log sum.cum', 'density', 'log density', 'density.cum', 'log density.cum', 'density*r', 'log density*r', 'density*r^2', 'log density*r^2', 'distance.mid', 'distance.cum', 'log distance.mid', 'log distance.cum', 'sum.fraction', 'sum.cum.fraction', 'vel.circ'])"
     },
     "execution_count": 186,
     "metadata": {},
     "output_type": "execute_result"
    }
   ],
   "source": [
    "# the quantities that it stores in each bin\n",
    "\n",
    "pro['star'].keys()"
   ]
  },
  {
   "cell_type": "code",
   "execution_count": 187,
   "metadata": {},
   "outputs": [],
   "source": [
    "# alternately, you may want to compute profiles along a disk's cylindrical R or Z axes\n",
    "# if so, first define the dimensionality of the profile when you initiate the class\n",
    "\n",
    "# log binning from 0.1 to 10 kpc with 0.1 dex bin width, assuming a 2-D profile (along R)\n",
    "SpeciesProfile = ut.particle.SpeciesProfileClass(\n",
    "    scaling='log', limits=[0.1, 10], width=0.1, dimension_number=2)"
   ]
  },
  {
   "cell_type": "code",
   "execution_count": 188,
   "metadata": {},
   "outputs": [
    {
     "name": "stdout",
     "output_type": "stream",
     "text": "\n# in utilities.particle.SpeciesProfile():\n  input  2097166 distances -  2064222 (98.4%) are within limits = [0.100, 10.000]\n"
    }
   ],
   "source": [
    "# set rotation=True to force the code to compute profiles along the principal axes (assuming that you read them in)\n",
    "# use other_axis_distance_limits to limit the extent along the other axis, \n",
    "#   in this case, limit the Z axis to within +/- 1 kpc (in the profile, all distances are absolute)\n",
    "\n",
    "pro = SpeciesProfile.get_sum_profiles(\n",
    "    part, 'star', 'mass', rotation=True, other_axis_distance_limits=[0, 1])"
   ]
  },
  {
   "cell_type": "code",
   "execution_count": 189,
   "metadata": {},
   "outputs": [
    {
     "name": "stdout",
     "output_type": "stream",
     "text": "\n# in utilities.particle.SpeciesProfile():\n  input   293273 distances -   259637 (88.5%) are within limits = [0.100, 10.000]\n"
    }
   ],
   "source": [
    "# similarly, do this to compute profiles along disk's Z axis\n",
    "\n",
    "# log binning from 0.1 to 10 kpc with 0.1 dex bin width, assuming a 1-D profile (along Z)\n",
    "SpeciesProfile = ut.particle.SpeciesProfileClass(\n",
    "    scaling='log', limits=[0.1, 10], width=0.1, dimension_number=1)\n",
    "\n",
    "# limit the R axex to [5, 8] kpc \n",
    "pro = SpeciesProfile.get_sum_profiles(\n",
    "    part, 'star', 'mass', rotation=True, other_axis_distance_limits=[5, 8])"
   ]
  },
  {
   "cell_type": "code",
   "execution_count": 191,
   "metadata": {},
   "outputs": [
    {
     "name": "stdout",
     "output_type": "stream",
     "text": "input   293273 distances -   259637 (88.5%) are within limits = [0.100, 10.000]\n"
    }
   ],
   "source": [
    "# using the same binning scheme\n",
    "# this function computes various statistics of a property of star particles in each bin\n",
    "# below, it  weights the property by the mass of each star particle (generally what you should do)\n",
    "# this returns a bunch of useful statistics via a dictionary\n",
    "\n",
    "pro = SpeciesProfile.get_statistics_profiles(\n",
    "    part, 'star', 'age', weight_by_mass=True, rotation=True, other_axis_distance_limits=[5, 8])"
   ]
  },
  {
   "cell_type": "code",
   "execution_count": 192,
   "metadata": {},
   "outputs": [
    {
     "data": {
      "text/plain": "dict_keys(['limits', 'number', 'median', 'percent.16', 'percent.84', 'percent.2', 'percent.98', 'percent.0.1', 'percent.99.9', 'percent.25', 'percent.75', 'percents.68', 'percents.95', 'median.dif.2', 'median.dif.16', 'median.dif.84', 'median.dif.98', 'median.difs.68', 'median.difs.95', 'average', 'std', 'sem', 'std.lo', 'std.hi', 'min', 'max', 'percent.50', 'average.50', 'sem.lo', 'sem.hi', 'distance.mid', 'distance.cum', 'log distance.mid', 'log distance.cum'])"
     },
     "execution_count": 192,
     "metadata": {},
     "output_type": "execute_result"
    }
   ],
   "source": [
    "# the quantities that it stores in each bin\n",
    "\n",
    "pro['star'].keys()"
   ]
  },
  {
   "cell_type": "code",
   "execution_count": null,
   "metadata": {},
   "outputs": [],
   "source": []
  }
 ],
 "metadata": {
  "anaconda-cloud": {},
  "kernelspec": {
   "display_name": "Python 3",
   "language": "python",
   "name": "python3"
  },
  "language_info": {
   "codemirror_mode": {
    "name": "ipython",
    "version": 3
   },
   "file_extension": ".py",
   "mimetype": "text/x-python",
   "name": "python",
   "nbconvert_exporter": "python",
   "pygments_lexer": "ipython3",
   "version": "3.7.5"
  }
 },
 "nbformat": 4,
 "nbformat_minor": 1
}