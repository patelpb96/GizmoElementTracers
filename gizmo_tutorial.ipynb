{
 "cells": [
  {
   "cell_type": "markdown",
   "metadata": {},
   "source": [
    "First, move within a simulation directory, which contains the directory 'output/' that contains snapshot files, and a file 'snapshot_times.txt' that lists all snapshot scale-factors/redshifts/times in the simulation and their corresponding file index number."
   ]
  },
  {
   "cell_type": "markdown",
   "metadata": {},
   "source": [
    "Ensure that gizmo_analysis and utilities directories are in your python path, then..."
   ]
  },
  {
   "cell_type": "code",
   "execution_count": 3,
   "metadata": {
    "collapsed": false
   },
   "outputs": [],
   "source": [
    "#import gizmo_analysis as gizmo\n",
    "import gizmo  # I happen to save my 'gizmo_analysis' directory as 'gizmo', but do as you prefer.\n",
    "\n",
    "import utilities as ut"
   ]
  },
  {
   "cell_type": "code",
   "execution_count": null,
   "metadata": {
    "collapsed": false
   },
   "outputs": [],
   "source": [
    "# you can access the files as named or use the aliases in __init__.py to keep it shorter \n",
    "# for example, these are the same:\n",
    "\n",
    "gizmo.gizmo_io\n",
    "gizmo.io"
   ]
  },
  {
   "cell_type": "markdown",
   "metadata": {},
   "source": [
    "# read particle data"
   ]
  },
  {
   "cell_type": "code",
   "execution_count": null,
   "metadata": {
    "collapsed": false
   },
   "outputs": [],
   "source": [
    "# read star and dark matter particles at z = 0\n",
    "\n",
    "part = gizmo.io.Read.read_snapshots(['star', 'dark'], 'redshift', 0)"
   ]
  },
  {
   "cell_type": "code",
   "execution_count": null,
   "metadata": {
    "collapsed": false
   },
   "outputs": [],
   "source": [
    "# alternately, read all particle species at z = 0\n",
    "\n",
    "part = gizmo.io.Read.read_snapshots('all', 'redshift', 0)"
   ]
  },
  {
   "cell_type": "code",
   "execution_count": null,
   "metadata": {
    "collapsed": false
   },
   "outputs": [],
   "source": [
    "# each particle species is stored as its own dictionary\n",
    "# 'star' = stars, 'gas' = gas, 'dark' = dark matter, 'dark.2', 'dark.3', etc = low-resolution dark matter\n",
    "\n",
    "part.keys()"
   ]
  },
  {
   "cell_type": "code",
   "execution_count": null,
   "metadata": {
    "collapsed": false
   },
   "outputs": [],
   "source": [
    "# properties of star particles are stored as dictionary\n",
    "\n",
    "part['star'].keys()"
   ]
  },
  {
   "cell_type": "code",
   "execution_count": null,
   "metadata": {
    "collapsed": false
   },
   "outputs": [],
   "source": [
    "# properties of dark matter particles are stored as dictionary\n",
    "\n",
    "part['dark'].keys()"
   ]
  },
  {
   "cell_type": "markdown",
   "metadata": {},
   "source": [
    "# particle properties"
   ]
  },
  {
   "cell_type": "code",
   "execution_count": null,
   "metadata": {
    "collapsed": false
   },
   "outputs": [],
   "source": [
    "# 3-D position of star particles (particle.number x dimension.number array) [Mpc comoving]\n",
    "\n",
    "part['star']['position']"
   ]
  },
  {
   "cell_type": "code",
   "execution_count": null,
   "metadata": {
    "collapsed": false
   },
   "outputs": [],
   "source": [
    "# 3-D velocity of star particles (particle_number x dimension_number array) [km/s physical]\n",
    "\n",
    "part['star']['velocity']"
   ]
  },
  {
   "cell_type": "code",
   "execution_count": null,
   "metadata": {
    "collapsed": false
   },
   "outputs": [],
   "source": [
    "# mass of star particles [M_sun]\n",
    "\n",
    "part['star']['mass']"
   ]
  },
  {
   "cell_type": "code",
   "execution_count": null,
   "metadata": {
    "collapsed": false
   },
   "outputs": [],
   "source": [
    "# formation scale-factor of star particles\n",
    "\n",
    "part['star']['form.scalefactor']"
   ]
  },
  {
   "cell_type": "code",
   "execution_count": null,
   "metadata": {
    "collapsed": false
   },
   "outputs": [],
   "source": [
    "# use .prop() to compute derived quantities,\n",
    "# such as the age of the Universe [Gyr] when a star particle formed\n",
    "# see gizmo.io.ParticleDictionaryClass for all options for derived quantities\n",
    "\n",
    "part['star'].prop('form.time')"
   ]
  },
  {
   "cell_type": "code",
   "execution_count": null,
   "metadata": {
    "collapsed": false
   },
   "outputs": [],
   "source": [
    "# similarly, get the age of a star particle (the lookback time to when it formed) [Gyr]\n",
    "\n",
    "part['star'].prop('age')"
   ]
  },
  {
   "cell_type": "markdown",
   "metadata": {},
   "source": [
    "# metallicities"
   ]
  },
  {
   "cell_type": "code",
   "execution_count": null,
   "metadata": {
    "collapsed": false
   },
   "outputs": [],
   "source": [
    "# 'metallicities' are stored in the catalog as *mass fractions*\n",
    "# one value for each element, in a particle_number x element_number array\n",
    "# the first value is the mass fraction of all metals (everything not H, He)\n",
    "# then He, C, N, O, etc\n",
    "\n",
    "part['star']['massfraction']"
   ]
  },
  {
   "cell_type": "code",
   "execution_count": null,
   "metadata": {
    "collapsed": false
   },
   "outputs": [],
   "source": [
    "# get individual elements by their index\n",
    "\n",
    "# total metal mass fraction (everything not H, He) is index 0\n",
    "print(part['star']['massfraction'][:, 0])\n",
    "\n",
    "# iron is index 10\n",
    "print(part['star']['massfraction'][:, 10])"
   ]
  },
  {
   "cell_type": "code",
   "execution_count": null,
   "metadata": {
    "collapsed": false
   },
   "outputs": [],
   "source": [
    "# alternately use .prop() to compute derived quantities,\n",
    "# including calling elements by their name\n",
    "# see gizmo.io.ParticleDictionaryClass for all options for derived quantities\n",
    "\n",
    "print(part['star'].prop('massfraction.metals'))\n",
    "print(part['star'].prop('massfraction.carbon'))\n",
    "print(part['star'].prop('massfraction.iron'))"
   ]
  },
  {
   "cell_type": "code",
   "execution_count": null,
   "metadata": {
    "collapsed": false
   },
   "outputs": [],
   "source": [
    "# also use .prop() to compute metallicity [Z/H]\n",
    "# for example, iron metallicity [Fe/H] := \n",
    "#   log10((mass_iron / mass_hydrogen)_particle / (mass_iron / mass_hydrogen)_sun)\n",
    "\n",
    "print(part['star'].prop('metallicity.total'))\n",
    "print(part['star'].prop('metallicity.fe'))"
   ]
  },
  {
   "cell_type": "code",
   "execution_count": null,
   "metadata": {
    "collapsed": false
   },
   "outputs": [],
   "source": [
    "# also use .prop() to compute simple arithmetic combinations, such as [Mg/Fe]\n",
    "\n",
    "part['star'].prop('metallicity.mg - metallicity.fe')"
   ]
  },
  {
   "cell_type": "code",
   "execution_count": null,
   "metadata": {
    "collapsed": false
   },
   "outputs": [],
   "source": [
    "# refer to ut.basic.constants for assumed solar values (and other constants)\n",
    "\n",
    "ut.basic.constants.sun_composition"
   ]
  },
  {
   "cell_type": "markdown",
   "metadata": {},
   "source": [
    "# additional information stored in sub-dictionaries"
   ]
  },
  {
   "cell_type": "code",
   "execution_count": null,
   "metadata": {
    "collapsed": false
   },
   "outputs": [],
   "source": [
    "# dictionary of useful information about the simulation\n",
    "\n",
    "part.info"
   ]
  },
  {
   "cell_type": "code",
   "execution_count": null,
   "metadata": {
    "collapsed": false
   },
   "outputs": [],
   "source": [
    "# dictionary of information about this snapshot's index, scale-factor, redshift, time, lookback-time\n",
    "\n",
    "part.snapshot"
   ]
  },
  {
   "cell_type": "code",
   "execution_count": null,
   "metadata": {
    "collapsed": false
   },
   "outputs": [],
   "source": [
    "# dictionary of arrays about *all* snapshots that were saved for the simulation\n",
    "\n",
    "print(part.Snapshot.keys())\n",
    "print(part.Snapshot['redshift'][:10])"
   ]
  },
  {
   "cell_type": "code",
   "execution_count": null,
   "metadata": {
    "collapsed": false
   },
   "outputs": [],
   "source": [
    "# position [kpc comoving] and velocity [km/s physical] of the center of the host galaxy\n",
    "# this was computed during read in, using ut.particle.get_center_position() and ut.particle.get_center_velocity()\n",
    "# functions in gizmo.analysis use these values in computing profiles\n",
    "\n",
    "print(part.center_position)\n",
    "print(part.center_velocity)"
   ]
  },
  {
   "cell_type": "markdown",
   "metadata": {},
   "source": [
    "See gizmo.analysis for examples of high-level analysis, including plotting these data.\n",
    "\n",
    "See ut.particle for mid-level analysis functions that may be useful.\n",
    "\n",
    "See other modules within utilities for low-level functions that may be useful."
   ]
  },
  {
   "cell_type": "code",
   "execution_count": null,
   "metadata": {
    "collapsed": true
   },
   "outputs": [],
   "source": [
    "# for example, this computes the distance of star particles along the major and minor axis of the stellar disk\n",
    "# here, radius_major is the radius (positive definite) [kpc physical] along the major axis wrt to the center position in the catalog\n",
    "# radius_minor is the (signed) vertical height [kpc physical] wrt the disk\n",
    "# axis_distance_max defines the maximum 3-D radius to use in determining the principal axes of the galaxy\n",
    "# for a MW-mass galaxy, use ~10-20 [kpc]\n",
    "\n",
    "radius_major, radius_minor = ut.particle.get_distances_along_principal_axes(part, 'star', '2d', axis_distance_max=15)"
   ]
  },
  {
   "cell_type": "markdown",
   "metadata": {},
   "source": [
    "# particle tracking"
   ]
  },
  {
   "cell_type": "markdown",
   "metadata": {},
   "source": [
    "For simulations, I generated pre-compiled HDF5 files to help with particle tracking. These are stored in the directory 'track/' (if present). The code that generates and reads these files is in gizmo_track.py."
   ]
  },
  {
   "cell_type": "markdown",
   "metadata": {},
   "source": [
    "star\\_indices\\_\\*.hdf5 files store, for each star particles at z = 0, a pointer to where it was in the catalog at each previous snapshot (replace * with snapshot index). This makes it easy to quickly get the properties of a given star particle at any previous snapshot. These pointers are stored in an HDF5 file, one for each previous snapshot."
   ]
  },
  {
   "cell_type": "code",
   "execution_count": 4,
   "metadata": {
    "collapsed": false
   },
   "outputs": [
    {
     "name": "stdout",
     "output_type": "stream",
     "text": [
      "\n",
      "# in utilities.simulation.Snapshot():\n",
      "  read snapshot_times.txt\n",
      "  input redshift = 0.000 -> index = 600\n",
      "  reading snapshot index = 600, redshift = 0.000\n",
      "\n",
      "# in gizmo.gizmo_io.Read():\n",
      "* reading header from: output/snapshot_600.hdf5\n",
      "  species = star      (id = 4): 2770491 particles\n",
      "\n",
      "* reading particles from: output/snapshot_600.hdf5\n",
      "\n",
      "* checking sanity of particle properties\n",
      "\n",
      "* assigning center of galaxy/halo:\n",
      "  position = (41802.717, 44167.633, 46274.312) [kpc comoving]\n",
      "  velocity = (-54.6, 72.4, 98.2) [km / s]\n",
      "\n"
     ]
    }
   ],
   "source": [
    "# first, read catalog of star particles at z = 0\n",
    "\n",
    "part_at_z0 = gizmo.io.Read.read_snapshots(['star'], 'redshift', 0)"
   ]
  },
  {
   "cell_type": "code",
   "execution_count": 6,
   "metadata": {
    "collapsed": false
   },
   "outputs": [
    {
     "name": "stdout",
     "output_type": "stream",
     "text": [
      "\n",
      "# in utilities.simulation.Snapshot():\n",
      "  read snapshot_times.txt\n",
      "  input redshift = 1.000 -> index = 277\n",
      "  reading snapshot index = 277, redshift = 1.000\n",
      "\n",
      "# in gizmo.gizmo_io.Read():\n",
      "* reading header from: output/snapshot_277.hdf5\n",
      "  species = star      (id = 4): 1173962 particles\n",
      "\n",
      "* reading particles from: output/snapshot_277.hdf5\n",
      "\n",
      "* checking sanity of particle properties\n",
      "\n",
      "* assigning center of galaxy/halo:\n",
      "  position = (42418.086, 43285.416, 45265.248) [kpc comoving]\n",
      "  velocity = (-62.6, 91.1, 84.6) [km / s]\n",
      "\n"
     ]
    }
   ],
   "source": [
    "# say that you want to find out what they were doing at z = 1\n",
    "# then, read in catalog of star particles at z = 1 (snapshot 277)\n",
    "\n",
    "part_at_z1 = gizmo.io.Read.read_snapshots(['star'], 'redshift', 1)"
   ]
  },
  {
   "cell_type": "code",
   "execution_count": 15,
   "metadata": {
    "collapsed": false
   },
   "outputs": [
    {
     "name": "stdout",
     "output_type": "stream",
     "text": [
      "\n",
      "# in utilities.basic.io.file_hdf5():\n",
      "  reading file: star_indices_277.hdf5\n",
      "  read indices: dtype = int32, shape = (2770491,)\n"
     ]
    }
   ],
   "source": [
    "# use the function within gizmo_track.py to read star index pointers associated with the catalog z = 1\n",
    "\n",
    "gizmo.track.IndexPointer.io_index_pointer(part_at_z1)"
   ]
  },
  {
   "cell_type": "code",
   "execution_count": 16,
   "metadata": {
    "collapsed": false
   },
   "outputs": [
    {
     "data": {
      "text/plain": [
       "array([  780991, -2770492, -2770492, ..., -2770492, -2770492,   154830], dtype=int32)"
      ]
     },
     "execution_count": 16,
     "metadata": {},
     "output_type": "execute_result"
    }
   ],
   "source": [
    "# pointers are stored via numpy array appended to particle dictionary at the relevant snapshot\n",
    "# a negative value means that the star formed after this snapshot (so it does not exist at this snapshot)\n",
    "\n",
    "part_at_z1.index_pointers"
   ]
  },
  {
   "cell_type": "code",
   "execution_count": 17,
   "metadata": {
    "collapsed": true
   },
   "outputs": [],
   "source": [
    "# so, say that you have a list of the indices of star particles of interest at z = 0\n",
    "\n",
    "indices_at_z0 = np.array([3, 5, 8, 13])"
   ]
  },
  {
   "cell_type": "code",
   "execution_count": 19,
   "metadata": {
    "collapsed": false
   },
   "outputs": [
    {
     "data": {
      "text/plain": [
       "array([[ 42418.32588483,  43285.4441515 ,  45265.2785541 ],\n",
       "       [ 42418.32200238,  43285.46701642,  45265.27616202],\n",
       "       [ 42418.3182859 ,  43285.46377251,  45265.33799612],\n",
       "       [ 42418.33740915,  43285.46897576,  45265.37083788]])"
      ]
     },
     "execution_count": 19,
     "metadata": {},
     "output_type": "execute_result"
    }
   ],
   "source": [
    "# their positions at z = 0\n",
    "\n",
    "part_at_z1['star']['position'][indices_at_z0]    "
   ]
  },
  {
   "cell_type": "code",
   "execution_count": 20,
   "metadata": {
    "collapsed": false
   },
   "outputs": [
    {
     "name": "stdout",
     "output_type": "stream",
     "text": [
      "[324959 348477 713157 654770]\n"
     ]
    }
   ],
   "source": [
    "# now get their indices in the catalog at z = 1\n",
    "\n",
    "indices_at_z1 = part_at_z1.index_pointers[indices_at_z0]\n",
    "print(indices_at_z1)"
   ]
  },
  {
   "cell_type": "code",
   "execution_count": 21,
   "metadata": {
    "collapsed": false
   },
   "outputs": [
    {
     "data": {
      "text/plain": [
       "array([[ 42396.20211122,  43259.65199944,  45272.08530312],\n",
       "       [ 42424.86951728,  43274.55010076,  45278.35258422],\n",
       "       [ 42421.05527489,  43280.56907557,  45263.83724823],\n",
       "       [ 42415.95423581,  43279.64531825,  45266.18323513]])"
      ]
     },
     "execution_count": 21,
     "metadata": {},
     "output_type": "execute_result"
    }
   ],
   "source": [
    "# now easily get any property of interest at z = 1, for example, positions\n",
    "\n",
    "part_at_z1['star']['position'][indices_at_z1]    "
   ]
  },
  {
   "cell_type": "markdown",
   "metadata": {},
   "source": [
    "Another useful file: star\\_form\\_host\\_distance\\_600.hdf5 stores, for each star particle at z = 0, its distance at the first snapshot after it formed (formation distance) wrt to the main host galaxy, in kpc physical. This file includes both total (scalar) distance and full 3-D vector distance."
   ]
  },
  {
   "cell_type": "code",
   "execution_count": 22,
   "metadata": {
    "collapsed": false
   },
   "outputs": [
    {
     "name": "stdout",
     "output_type": "stream",
     "text": [
      "\n",
      "# in utilities.basic.io.file_hdf5():\n",
      "  reading file: star_form_host_distance_600.hdf5\n",
      "  read form.host.distance: dtype = float32, shape = (2770491,)\n",
      "  read form.host.distance.3d: dtype = float32, shape = (2770491, 3)\n",
      "  read id: dtype = uint32, shape = (2770491,)\n"
     ]
    }
   ],
   "source": [
    "# use the function within gizmo_track.py to read this file and assign values directly to the catalog at z = 0\n",
    "\n",
    "gizmo.track.HostDistance.io_form_host_distance(part_at_z0)"
   ]
  },
  {
   "cell_type": "code",
   "execution_count": 23,
   "metadata": {
    "collapsed": false
   },
   "outputs": [
    {
     "data": {
      "text/plain": [
       "array([   10.38123703,   850.24914551,  1582.97070312, ...,  1032.54345703,\n",
       "         882.52648926,   283.66540527], dtype=float32)"
      ]
     },
     "execution_count": 23,
     "metadata": {},
     "output_type": "execute_result"
    }
   ],
   "source": [
    "# total (scalar) distance at formation, wrt host galaxy [kpc physical]\n",
    "\n",
    "part_at_z0['star']['form.host.distance']"
   ]
  },
  {
   "cell_type": "code",
   "execution_count": 24,
   "metadata": {
    "collapsed": false
   },
   "outputs": [
    {
     "data": {
      "text/plain": [
       "array([[    2.54848027,    -8.07790375,    -6.0019002 ],\n",
       "       [  141.68244934,  -332.87545776,   769.44366455],\n",
       "       [ 1454.2208252 ,   174.99990845,  -600.34399414],\n",
       "       ..., \n",
       "       [  343.00650024,  -866.27142334,   445.0463562 ],\n",
       "       [  -28.1642437 ,  -534.58935547,  -701.62237549],\n",
       "       [  196.24163818,   198.28691101,    51.35728455]], dtype=float32)"
      ]
     },
     "execution_count": 24,
     "metadata": {},
     "output_type": "execute_result"
    }
   ],
   "source": [
    "# 3-D distance vector at formation, wrt host galaxy [kpc physical]\n",
    "# these distances are aligned with the principal axes of the host galaxy,\n",
    "# principal axes defined according to all star particles within the host galaxy, independently at each snapshot\n",
    "# distance along dimension 0 is aligned with the major axis\n",
    "# distance along dimension 1 is algined with the intermediate axis\n",
    "# distance along dimension 2 is aligned with the minor (Z) axis\n",
    "\n",
    "part_at_z0['star']['form.host.distance.3d']"
   ]
  },
  {
   "cell_type": "code",
   "execution_count": 25,
   "metadata": {
    "collapsed": false
   },
   "outputs": [
    {
     "name": "stdout",
     "output_type": "stream",
     "text": [
      "[    8.47037601   361.77337646  1464.71264648 ...,   931.70788574\n",
      "   535.33074951   278.97756958] [  -6.0019002   769.44366455 -600.34399414 ...,  445.0463562  -701.62237549\n",
      "   51.35728455]\n"
     ]
    }
   ],
   "source": [
    "# for a disk galaxy, you may want to combine the major and intermediate axes into an absolute 'radius'\n",
    "# this function is useful: returns scalar (absolute) radius and (signed) vertical height within the disk\n",
    "\n",
    "radius_in_disk, heigh_in_disk = ut.coordinate.get_distances_2d(part_at_z0['star']['form.host.distance.3d'])\n",
    "print(radius_in_disk, heigh_in_disk)"
   ]
  },
  {
   "cell_type": "code",
   "execution_count": 30,
   "metadata": {
    "collapsed": false
   },
   "outputs": [
    {
     "name": "stdout",
     "output_type": "stream",
     "text": [
      "[ 5.8346076   2.00492787  0.27028641 ...,  0.38791442  1.86543489\n",
      "  1.25457919] [ 0.85434961 -0.32502872  0.6857993  ..., -0.1979351   0.84220695\n",
      "  0.10890873]\n"
     ]
    }
   ],
   "source": [
    "# these value look more reasonable is restrict to star particles that formed within the host galaxy\n",
    "\n",
    "pis = ut.array.get_indices(part_at_z0['star']['form.host.distance'], [0, 8])  # 0 - 8 kpc physical\n",
    "radius_in_disk, heigh_in_disk = ut.coordinate.get_distances_2d(part_at_z0['star']['form.host.distance.3d'][pis])\n",
    "print(radius_in_disk, heigh_in_disk)"
   ]
  }
 ],
 "metadata": {
  "anaconda-cloud": {},
  "kernelspec": {
   "display_name": "Python [default]",
   "language": "python",
   "name": "python3"
  },
  "language_info": {
   "codemirror_mode": {
    "name": "ipython",
    "version": 3
   },
   "file_extension": ".py",
   "mimetype": "text/x-python",
   "name": "python",
   "nbconvert_exporter": "python",
   "pygments_lexer": "ipython3",
   "version": "3.5.2"
  }
 },
 "nbformat": 4,
 "nbformat_minor": 0
}
