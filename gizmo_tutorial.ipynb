{
 "cells": [
  {
   "cell_type": "markdown",
   "metadata": {},
   "source": [
    "This is a tutorial on reading Gizmo simulation snapshots and analyzing the data.\n",
    "\n",
    "First, move within a simulation directory, or set simulation_directory below to point to one. This directory should contain:\n",
    "(1) a sub-directory 'output/' that contains snapshot files\n",
    "(2) a text file 'snapshot_times.txt' that lists the scale-factors, redshifts, times, and indices of all snapshots stored from the simulation\n",
    "(3) optionally (but ideally) an 'initial_condition/' directory that contains a MUSIC configuration file named '*.conf' that stores all 6 cosmological parameters. if the simulation directory does not assume, this, gizmo_analysis will assume the same cosmological parameters as in the AGORA simulation\n",
    "\n",
    "Ensure that the gizmo_analysis and utilities package directories are in your python path, then..."
   ]
  },
  {
   "cell_type": "code",
   "execution_count": 2,
   "metadata": {},
   "outputs": [],
   "source": [
    "import gizmo_analysis as gizmo\n",
    "import utilities as ut\n",
    "\n",
    "import numpy as np"
   ]
  },
  {
   "cell_type": "code",
   "execution_count": 3,
   "metadata": {},
   "outputs": [
    {
     "output_type": "execute_result",
     "data": {
      "text/plain": "<module 'gizmo_analysis.gizmo_io' from '/Users/awetzel/work/research/analysis/gizmo_analysis/gizmo_io.py'>"
     },
     "metadata": {},
     "execution_count": 3
    }
   ],
   "source": [
    "# you can access the files as named or use the aliases in __init__.py to keep it shorter \n",
    "# for example, these are the same:\n",
    "\n",
    "gizmo.gizmo_io\n",
    "gizmo.io"
   ]
  },
  {
   "cell_type": "markdown",
   "metadata": {},
   "source": [
    "# read particle data"
   ]
  },
  {
   "cell_type": "code",
   "execution_count": 6,
   "metadata": {},
   "outputs": [],
   "source": [
    "# we recommend that you copy this jupyter notebook tutorial into a simulation directory \n",
    "# (for example, m12i_res7100/) and run from there.\n",
    "# however, you can set simulation_directory below to point to any simulation directory and then run this notebook from anywhere\n",
    "\n",
    "# use this is you are running from within a simulation directory\n",
    "simulation_directory = '.'\n",
    "\n",
    "# use this to point to a specific simulation directory, if you run this notebook from somwhere else\n",
    "#simulation_directory = '/Users/awetzel/work/research/simulation/gizmo/simulations/m12/m12i/m12i_res7100'"
   ]
  },
  {
   "cell_type": "code",
   "execution_count": 11,
   "metadata": {},
   "outputs": [
    {
     "output_type": "stream",
     "name": "stdout",
     "text": "\n# in utilities.simulation.Snapshot():\n* reading:  Users/awetzel/work/research/simulation/gizmo/simulations/m12/m12i/m12i_res57000/snapshot_times.txt\n\n* input redshift = 0:  using snapshot index = 600, redshift = 0.000\n\n\n# in gizmo_analysis.gizmo_io.Read():\n* reading header from:  Users/awetzel/work/research/simulation/gizmo/simulations/m12/m12i/m12i_res57000/output/snapshot_600.hdf5\n  snapshot contains the following number of particles:\n    dark      (id = 1): 8820344 particles\n    dark2     (id = 2): 3081337 particles\n    gas       (id = 0): 5969934 particles\n    star      (id = 4): 3059250 particles\n    blackhole (id = 5): 0 particles\n\n* reading species: ['star', 'dark']\n* reading particles from:\n    Users/awetzel/work/research/simulation/gizmo/simulations/m12/m12i/m12i_res57000/output/snapshot_600.hdf5\n\n* reading cosmological parameters from:  Users/awetzel/work/research/simulation/gizmo/simulations/m12/m12i/m12i_res57000/initial_condition/ic_agora_m12i.conf\n\n* checking sanity of particle properties\n\n\n# in gizmo_analysis.gizmo_track.ParticleCoordinate():\n* reading host[s] position, velocity, rotation from:  Users/awetzel/work/research/simulation/gizmo/simulations/m12/m12i/m12i_res57000/track/star_form_coordinates_600.hdf5\n  read position, velocity, rotation for 1 host galaxy[s]\n  host1 position = (41821.973, 44122.004, 46288.457) [kpc comoving]\n  host1 velocity = (-348.7, 149.4, -18.3) [km / s]\n\n"
    }
   ],
   "source": [
    "# read star and dark-matter particles at z = 0\n",
    "\n",
    "part = gizmo.io.Read.read_snapshots(['star', 'dark'], 'redshift', 0, simulation_directory)"
   ]
  },
  {
   "cell_type": "code",
   "execution_count": 12,
   "metadata": {},
   "outputs": [
    {
     "output_type": "stream",
     "name": "stdout",
     "text": "\n# in utilities.simulation.Snapshot():\n* reading:  Users/awetzel/work/research/simulation/gizmo/simulations/m12/m12i/m12i_res57000/snapshot_times.txt\n\n* input redshift = 0:  using snapshot index = 600, redshift = 0.000\n\n\n# in gizmo_analysis.gizmo_io.Read():\n* reading header from:  Users/awetzel/work/research/simulation/gizmo/simulations/m12/m12i/m12i_res57000/output/snapshot_600.hdf5\n  snapshot contains the following number of particles:\n    dark      (id = 1): 8820344 particles\n    dark2     (id = 2): 3081337 particles\n    gas       (id = 0): 5969934 particles\n    star      (id = 4): 3059250 particles\n    blackhole (id = 5): 0 particles\n\n* reading species: ['dark', 'dark2', 'gas', 'star']\n* reading particles from:\n    Users/awetzel/work/research/simulation/gizmo/simulations/m12/m12i/m12i_res57000/output/snapshot_600.hdf5\n\n* reading cosmological parameters from:  Users/awetzel/work/research/simulation/gizmo/simulations/m12/m12i/m12i_res57000/initial_condition/ic_agora_m12i.conf\n\n* checking sanity of particle properties\n\n* reading host[s] position, velocity, rotation from:  Users/awetzel/work/research/simulation/gizmo/simulations/m12/m12i/m12i_res57000/track/star_form_coordinates_600.hdf5\n  read position, velocity, rotation for 1 host galaxy[s]\n  host1 position = (41821.973, 44122.004, 46288.457) [kpc comoving]\n  host1 velocity = (-348.7, 149.4, -18.3) [km / s]\n\n"
    }
   ],
   "source": [
    "# alternately, read all particle species at z = 0\n",
    "\n",
    "part = gizmo.io.Read.read_snapshots('all', 'redshift', 0, simulation_directory)"
   ]
  },
  {
   "cell_type": "code",
   "execution_count": 13,
   "metadata": {},
   "outputs": [
    {
     "output_type": "execute_result",
     "data": {
      "text/plain": "dict_keys(['dark', 'dark2', 'gas', 'star'])"
     },
     "metadata": {},
     "execution_count": 13
    }
   ],
   "source": [
    "# we store each particle species as its own dictionary\n",
    "# 'star' = stars, 'gas' = gas, 'dark' = dark matter,\n",
    "# 'dark2', 'dark3', 'dark4', etc = low-resolution dark matter (you rarely will be interested in it)\n",
    "\n",
    "part.keys()"
   ]
  },
  {
   "cell_type": "code",
   "execution_count": 14,
   "metadata": {},
   "outputs": [
    {
     "output_type": "execute_result",
     "data": {
      "text/plain": "dict_keys(['position', 'mass', 'massfraction', 'id.child', 'id.generation', 'id', 'potential', 'form.scalefactor', 'velocity'])"
     },
     "metadata": {},
     "execution_count": 14
    }
   ],
   "source": [
    "# we store the properties of star particles via a dictionary\n",
    "\n",
    "part['star'].keys()"
   ]
  },
  {
   "cell_type": "code",
   "execution_count": 15,
   "metadata": {},
   "outputs": [
    {
     "output_type": "execute_result",
     "data": {
      "text/plain": "dict_keys(['position', 'mass', 'id.child', 'id.generation', 'id', 'potential', 'velocity'])"
     },
     "metadata": {},
     "execution_count": 15
    }
   ],
   "source": [
    "# list the properties of dark-matter particles\n",
    "\n",
    "part['dark'].keys()"
   ]
  },
  {
   "cell_type": "code",
   "execution_count": 16,
   "metadata": {},
   "outputs": [
    {
     "output_type": "execute_result",
     "data": {
      "text/plain": "dict_keys(['position', 'density', 'electron.fraction', 'temperature', 'mass', 'massfraction', 'hydrogen.neutral.fraction', 'id.child', 'id.generation', 'id', 'potential', 'size', 'sfr', 'velocity'])"
     },
     "metadata": {},
     "execution_count": 16
    }
   ],
   "source": [
    "# list the properties of gas particles\n",
    "\n",
    "part['gas'].keys()"
   ]
  },
  {
   "cell_type": "markdown",
   "metadata": {},
   "source": [
    "# particle properties"
   ]
  },
  {
   "cell_type": "code",
   "execution_count": 17,
   "metadata": {},
   "outputs": [
    {
     "output_type": "execute_result",
     "data": {
      "text/plain": "array([[43090.80575884, 49686.35374503, 41360.34283508],\n       [44928.29340924, 46498.85693528, 41973.80607722],\n       [44165.06982706, 45905.57328081, 47149.21746307],\n       ...,\n       [41959.19387506, 42547.66435227, 46108.83355536],\n       [41959.30623868, 42547.42814527, 46108.97969497],\n       [41959.30737559, 42547.08535602, 46108.55536859]])"
     },
     "metadata": {},
     "execution_count": 17
    }
   ],
   "source": [
    "# 3-D position of each star particle, stored in a particle_number x dimension_number array [kpc comoving]\n",
    "\n",
    "part['star']['position']"
   ]
  },
  {
   "cell_type": "code",
   "execution_count": 18,
   "metadata": {},
   "outputs": [
    {
     "output_type": "execute_result",
     "data": {
      "text/plain": "array([[  15.888516,  364.97275 , -154.04498 ],\n       [ 172.60747 ,   55.058994, -366.62854 ],\n       [ 126.053955,   -8.004937,  121.11193 ],\n       ...,\n       [ -54.528496,   93.02893 ,  -25.309298],\n       [ -51.983   ,   31.671635,  -23.940857],\n       [ -80.71081 ,   96.28201 ,   -8.430067]], dtype=float32)"
     },
     "metadata": {},
     "execution_count": 18
    }
   ],
   "source": [
    "# 3-D velocity of each star particle (particle_number x dimension_number array) [km / s]\n",
    "\n",
    "part['star']['velocity']"
   ]
  },
  {
   "cell_type": "code",
   "execution_count": 19,
   "metadata": {},
   "outputs": [
    {
     "output_type": "execute_result",
     "data": {
      "text/plain": "array([62936.75 , 48761.668, 39828.047, ..., 41346.055, 38390.59 ,\n       37466.387], dtype=float32)"
     },
     "metadata": {},
     "execution_count": 19
    }
   ],
   "source": [
    "# mass of each star particle [Msun]\n",
    "\n",
    "part['star']['mass']"
   ]
  },
  {
   "cell_type": "code",
   "execution_count": 20,
   "metadata": {},
   "outputs": [
    {
     "output_type": "execute_result",
     "data": {
      "text/plain": "array([0.46287337, 0.5831701 , 0.46225446, ..., 0.77500224, 0.4109269 ,\n       0.321905  ], dtype=float32)"
     },
     "metadata": {},
     "execution_count": 20
    }
   ],
   "source": [
    "# formation scale-factor of each star particle\n",
    "\n",
    "part['star']['form.scalefactor']"
   ]
  },
  {
   "cell_type": "code",
   "execution_count": 21,
   "metadata": {},
   "outputs": [
    {
     "output_type": "execute_result",
     "data": {
      "text/plain": "array([ 5.38456731,  7.35609019,  5.37457175, ..., 10.46071958,\n        4.55585177,  3.20527164])"
     },
     "metadata": {},
     "execution_count": 21
    }
   ],
   "source": [
    "# IMPORTANT FEATURE\n",
    "# use .prop() to compute derived quantities, such as the time [in Gyr] when each star particle formed\n",
    "# see gizmo.io.ParticleDictionaryClass for all options for derived quantities\n",
    "\n",
    "part['star'].prop('form.time')"
   ]
  },
  {
   "cell_type": "code",
   "execution_count": 22,
   "metadata": {},
   "outputs": [
    {
     "output_type": "execute_result",
     "data": {
      "text/plain": "array([ 8.41417958,  6.44265669,  8.42417513, ...,  3.3380273 ,\n        9.24289511, 10.59347525])"
     },
     "metadata": {},
     "execution_count": 22
    }
   ],
   "source": [
    "# similarly, get the age of each star particle (the lookback time to when it formed) [Gyr]\n",
    "\n",
    "part['star'].prop('age')"
   ]
  },
  {
   "cell_type": "code",
   "execution_count": 23,
   "metadata": {},
   "outputs": [
    {
     "output_type": "stream",
     "name": "stdout",
     "text": "\n# in gizmo_analysis.gizmo_star.MassLoss():\n* generating 2-D spline to compute stellar mass loss from age + metallicity\n  number of age bins = 22\n  number of metallicity bins = 26\n"
    },
    {
     "output_type": "execute_result",
     "data": {
      "text/plain": "array([98218.07407084, 70719.46698638, 57860.98445689, ...,\n       57814.24812826, 55872.96596221, 54849.83031659])"
     },
     "metadata": {},
     "execution_count": 23
    }
   ],
   "source": [
    "# get the mass of each star particle when it formed [Msun], using the stellar evolution tracks in Gizmo\n",
    "# this initially sets up an internally stored spline to compute this\n",
    "\n",
    "part['star'].prop('form.mass')"
   ]
  },
  {
   "cell_type": "markdown",
   "metadata": {},
   "source": [
    "# elemental abundances (metallicities)"
   ]
  },
  {
   "cell_type": "code",
   "execution_count": 24,
   "metadata": {},
   "outputs": [
    {
     "output_type": "execute_result",
     "data": {
      "text/plain": "array([[2.28875540e-02, 2.73702413e-01, 3.47784720e-03, ...,\n        5.18469051e-07, 2.59994462e-08, 5.13290921e-08],\n       [9.04264394e-03, 2.58452922e-01, 1.16026576e-03, ...,\n        2.35843927e-07, 1.29876696e-08, 2.13728626e-08],\n       [4.13827086e-03, 2.53816098e-01, 5.14813582e-04, ...,\n        1.17386868e-07, 1.05656595e-08, 1.46085215e-08],\n       ...,\n       [6.35253172e-03, 2.56642282e-01, 9.32708848e-04, ...,\n        1.83839319e-07, 1.09649676e-08, 1.77075563e-08],\n       [2.31894082e-03, 2.52064943e-01, 2.74994469e-04, ...,\n        5.56808217e-08, 4.70536632e-09, 6.90510316e-09],\n       [2.00070604e-03, 2.52106518e-01, 2.88566429e-04, ...,\n        4.50247768e-08, 1.88898119e-09, 3.96916411e-09]], dtype=float32)"
     },
     "metadata": {},
     "execution_count": 24
    }
   ],
   "source": [
    "# we store elemental abundances in the particle catalog as linear *mass fraction*\n",
    "# one value for each element, in a particle_number x element_number array\n",
    "# the first value is the mass fraction of all metals (everything not H, He)\n",
    "# then He, C, N, O, etc\n",
    "\n",
    "part['star']['massfraction']"
   ]
  },
  {
   "cell_type": "code",
   "execution_count": 25,
   "metadata": {},
   "outputs": [
    {
     "output_type": "stream",
     "name": "stdout",
     "text": "[0.02288755 0.00904264 0.00413827 ... 0.00635253 0.00231894 0.00200071]\n[8.5570500e-04 4.0123638e-04 1.7354584e-04 ... 2.8746785e-04 9.2642935e-05\n 7.1826209e-05]\n"
    }
   ],
   "source": [
    "# get individual elements by their array index\n",
    "\n",
    "# total metal mass fraction (everything not H, He) is index 0\n",
    "print(part['star']['massfraction'][:, 0])\n",
    "\n",
    "# iron is index 10\n",
    "print(part['star']['massfraction'][:, 10])"
   ]
  },
  {
   "cell_type": "code",
   "execution_count": 26,
   "metadata": {},
   "outputs": [
    {
     "output_type": "stream",
     "name": "stdout",
     "text": "[0.02288755 0.00904264 0.00413827 ... 0.00635253 0.00231894 0.00200071]\n[0.00347785 0.00116027 0.00051481 ... 0.00093271 0.00027499 0.00028857]\n[8.5570500e-04 4.0123638e-04 1.7354584e-04 ... 2.8746785e-04 9.2642935e-05\n 7.1826209e-05]\n[8.5570500e-04 4.0123638e-04 1.7354584e-04 ... 2.8746785e-04 9.2642935e-05\n 7.1826209e-05]\n"
    }
   ],
   "source": [
    "# alternately use .prop() to compute derived quantities, including calling element by its name or symbol\n",
    "# see gizmo.io.ParticleDictionaryClass for all options for derived quantities\n",
    "\n",
    "print(part['star'].prop('massfraction.metals'))\n",
    "print(part['star'].prop('massfraction.carbon'))\n",
    "print(part['star'].prop('massfraction.iron'))\n",
    "print(part['star'].prop('massfraction.fe'))  # you can use name or symbol"
   ]
  },
  {
   "cell_type": "code",
   "execution_count": 27,
   "metadata": {},
   "outputs": [
    {
     "output_type": "stream",
     "name": "stdout",
     "text": "[ 0.23249461 -0.17080936 -0.5102859  ... -0.32415795 -0.76181513\n -0.8259215 ]\n[-0.17933045 -0.50825423 -0.8722403  ... -0.65306526 -1.1448423\n -1.2553716 ]\n"
    }
   ],
   "source": [
    "# also use .prop() to compute metallicity [Z / H]\n",
    "# for example, iron abundance [Fe / H] :=\n",
    "#   log10((mass_iron / mass_hydrogen)_particle / (mass_iron / mass_hydrogen)_sun)\n",
    "# gizmo_analysis assumes solar abundances from Asplund et al 2009\n",
    "\n",
    "print(part['star'].prop('metallicity.total'))\n",
    "print(part['star'].prop('metallicity.fe'))"
   ]
  },
  {
   "cell_type": "code",
   "execution_count": 28,
   "metadata": {},
   "outputs": [
    {
     "output_type": "execute_result",
     "data": {
      "text/plain": "array([0.31506985, 0.2700966 , 0.29745406, ..., 0.2505798 , 0.3211267 ,\n       0.35478264], dtype=float32)"
     },
     "metadata": {},
     "execution_count": 28
    }
   ],
   "source": [
    "# also use .prop() to compute simple arithmetic combinations, such as [Mg / Fe]\n",
    "\n",
    "part['star'].prop('metallicity.mg - metallicity.fe')"
   ]
  },
  {
   "cell_type": "code",
   "execution_count": 29,
   "metadata": {},
   "outputs": [
    {
     "output_type": "execute_result",
     "data": {
      "text/plain": "{'hydrogen': {'massfraction': 0.7381},\n 'helium': {'abundance': 0.08511380382023759, 'massfraction': 0.2485},\n 'metals': {'massfraction': 0.0134},\n 'total': {'massfraction': 0.0134},\n 'carbon': {'abundance': 0.0002691534803926914,\n  'massfraction': 0.0023671348133944836},\n 'nitrogen': {'abundance': 6.760829753919819e-05,\n  'massfraction': 0.0006934106379733356},\n 'oxygen': {'abundance': 0.0004897788193684457,\n  'massfraction': 0.0057379712715929084},\n 'neon': {'abundance': 8.51138038202376e-05,\n  'massfraction': 0.001257677752968965},\n 'magnesium': {'abundance': 3.9810717055349695e-05,\n  'massfraction': 0.0007085170384267316},\n 'silicon': {'abundance': 3.235936569296281e-05,\n  'massfraction': 0.000665482796817223},\n 'sulphur': {'abundance': 1.3182567385564074e-05,\n  'massfraction': 0.00030951800499731},\n 'calcium': {'abundance': 2.1877616239495517e-06,\n  'massfraction': 6.420379718268677e-05},\n 'iron': {'abundance': 3.1622776601683795e-05,\n  'massfraction': 0.001293166727100866},\n 'h': {'massfraction': 0.7381},\n 'he': {'abundance': 0.08511380382023759, 'massfraction': 0.2485},\n 'c': {'abundance': 0.0002691534803926914,\n  'massfraction': 0.0023671348133944836},\n 'n': {'abundance': 6.760829753919819e-05,\n  'massfraction': 0.0006934106379733356},\n 'o': {'abundance': 0.0004897788193684457,\n  'massfraction': 0.0057379712715929084},\n 'ne': {'abundance': 8.51138038202376e-05,\n  'massfraction': 0.001257677752968965},\n 'mg': {'abundance': 3.9810717055349695e-05,\n  'massfraction': 0.0007085170384267316},\n 'si': {'abundance': 3.235936569296281e-05,\n  'massfraction': 0.000665482796817223},\n 's': {'abundance': 1.3182567385564074e-05,\n  'massfraction': 0.00030951800499731},\n 'ca': {'abundance': 2.1877616239495517e-06,\n  'massfraction': 6.420379718268677e-05},\n 'fe': {'abundance': 3.1622776601683795e-05,\n  'massfraction': 0.001293166727100866}}"
     },
     "metadata": {},
     "execution_count": 29
    }
   ],
   "source": [
    "# refer to utilities.basic.constant for assumed solar values (Asplund et al 2009) and other constants\n",
    "\n",
    "ut.constant.sun_composition"
   ]
  },
  {
   "cell_type": "markdown",
   "metadata": {},
   "source": [
    "# meta-data about simulation"
   ]
  },
  {
   "cell_type": "markdown",
   "metadata": {},
   "source": [
    "The dictionary that stores the particle catalog is actually a dictionary class. We store meta-data about the simulation and ancillary data/functions via appended dictionaries, classes, and arrays."
   ]
  },
  {
   "cell_type": "code",
   "execution_count": 30,
   "metadata": {},
   "outputs": [
    {
     "output_type": "execute_result",
     "data": {
      "text/plain": "{'box.length': 85470.08547008547,\n 'compression.level': 0,\n 'compression.version': 'v0.2',\n 'has.cooling': 1,\n 'has.double.precision': 0,\n 'has.feedback': 1,\n 'has.ic.info': 3,\n 'has.metals': 15,\n 'has.star.formation': 1,\n 'has.star.age': 1,\n 'hubble': 0.702,\n 'particle.masses': array([0., 0., 0., 0., 0., 0.]),\n 'file.number.per.snapshot': 1,\n 'particle.numbers.in.file': array([5969934, 8820344, 3081337,       0, 3059250,       0], dtype=int32),\n 'particle.numbers.total': array([5969934, 8820344, 3081337,       0, 3059250,       0], dtype=uint32),\n 'particle.numbers.total.high.word': array([0, 0, 0, 0, 0, 0], dtype=uint32),\n 'omega_matter': 0.272,\n 'omega_lambda': 0.728,\n 'compression.readme': 'This snapshot is part of the Feedback in Realistic Environments (FIRE) project -- Use, modification, or distribution only permitted with approval of the PI and the FIRE team -- No warranty, use at your own risk -- compactify_hdf5 (c) RF 2018',\n 'redshift': 0.0,\n 'cosmological': True,\n 'scalefactor': 1.0,\n 'box.length/h': 60000.0,\n 'baryonic': True,\n 'simulation.name': 'm12i r57000',\n 'catalog.kind': 'particle'}"
     },
     "metadata": {},
     "execution_count": 30
    }
   ],
   "source": [
    "# dictionary of useful information about the simulation\n",
    "\n",
    "part.info"
   ]
  },
  {
   "cell_type": "code",
   "execution_count": 31,
   "metadata": {},
   "outputs": [
    {
     "output_type": "execute_result",
     "data": {
      "text/plain": "{'index': 600,\n 'redshift': 0.0,\n 'scalefactor': 1.0,\n 'time': 13.798746883488086,\n 'time.lookback': 0.0,\n 'time.hubble': 13.92866412650697}"
     },
     "metadata": {},
     "execution_count": 31
    }
   ],
   "source": [
    "# dictionary of information about the single snapshot that you read\n",
    "# its index (number), scale-factor, redshift, time, lookback-time\n",
    "\n",
    "part.snapshot"
   ]
  },
  {
   "cell_type": "code",
   "execution_count": 32,
   "metadata": {},
   "outputs": [
    {
     "output_type": "stream",
     "name": "stdout",
     "text": "dict_keys(['index', 'scalefactor', 'redshift', 'time', 'time.width'])\n[99.         19.         15.         14.60591125 14.23076916 13.87323952\n 13.53211021 13.20627785 12.89473724 12.5965662 ]\n"
    }
   ],
   "source": [
    "# dictionary class with information about *all* snapshots (typically ~600) that we saved for this simulation\n",
    "\n",
    "print(part.Snapshot.keys())\n",
    "print(part.Snapshot['redshift'][:10])"
   ]
  },
  {
   "cell_type": "code",
   "execution_count": 33,
   "metadata": {},
   "outputs": [
    {
     "output_type": "execute_result",
     "data": {
      "text/plain": "{'omega_lambda': 0.728,\n 'omega_matter': 0.272,\n 'omega_baryon': 0.0455,\n 'omega_curvature': 0.0,\n 'omega_dm': 0.22650000000000003,\n 'baryon.fraction': 0.16727941176470587,\n 'hubble': 0.7020000000000001,\n 'sigma_8': 0.807,\n 'n_s': 0.961,\n 'w': -1.0}"
     },
     "metadata": {},
     "execution_count": 33
    }
   ],
   "source": [
    "# dictionary class of cosmological parameters, with internal functions for cosmological conversions\n",
    "# see utilities.cosmology for more on this\n",
    "\n",
    "part.Cosmology"
   ]
  },
  {
   "cell_type": "markdown",
   "metadata": {},
   "source": [
    "See gizmo_plot.py (you can it here via gizmo.plot) for examples of high-level analysis, including plotting these data.\n",
    "\n",
    "See utilities/particle.py (call here via ut.particle) for mid-level analysis functions that may be useful.\n",
    "\n",
    "See other modules within utilities for low-level functions that may be useful."
   ]
  },
  {
   "cell_type": "markdown",
   "metadata": {},
   "source": [
    "# coordinates of host galaxy/halo and principal axes of stellar disk"
   ]
  },
  {
   "cell_type": "markdown",
   "metadata": {},
   "source": [
    "If you enable gizmo.io.Read.read_snapshots(assign_hosts=True) (this is True by default), then during read-in, gizmo_analysis assigns the position and velocity of the host galaxy/halo (using stars for a baryonic simulations and dark matter for a dark-matter-only simulation). The code stores these coordinates in arrays appended to the particle catalog.\n",
    "\n",
    "Most simulations have a single host galaxy/halo, but some (like ELVIS) contain 2 (or more). You can control the number of hosts via: read_snapshots(host_number=2) (by deafult, host_number=1).\n",
    "\n",
    "Once the code assigns the coordinates of each host, it also can compute the rotation tensor and axis ratios of the principal axes of each host's stellar disk, defined via its moment of inertia tensor. Enable this via: read_snapshots(assign_hosts_rotation=True) (by default, assign_hosts_rotation=False)."
   ]
  },
  {
   "cell_type": "code",
   "execution_count": 34,
   "metadata": {},
   "outputs": [
    {
     "output_type": "stream",
     "name": "stdout",
     "text": "[[41821.973 44122.004 46288.457]]\n[[-348.677     149.41272   -18.266064]]\n"
    }
   ],
   "source": [
    "# position [kpc comoving] and velocity [km / s] of the center of each host galaxy\n",
    "# can store multiple hosts, though usually just one\n",
    "\n",
    "print(part.host['position'])\n",
    "print(part.host['velocity'])"
   ]
  },
  {
   "cell_type": "code",
   "execution_count": 35,
   "metadata": {},
   "outputs": [
    {
     "output_type": "stream",
     "name": "stdout",
     "text": "\n# in utilities.simulation.Snapshot():\n* reading:  Users/awetzel/work/research/simulation/gizmo/simulations/m12/m12i/m12i_res57000/snapshot_times.txt\n\n* input redshift = 0:  using snapshot index = 600, redshift = 0.000\n\n\n# in gizmo_analysis.gizmo_io.Read():\n* reading header from:  Users/awetzel/work/research/simulation/gizmo/simulations/m12/m12i/m12i_res57000/output/snapshot_600.hdf5\n  snapshot contains the following number of particles:\n    dark      (id = 1): 8820344 particles\n    dark2     (id = 2): 3081337 particles\n    gas       (id = 0): 5969934 particles\n    star      (id = 4): 3059250 particles\n    blackhole (id = 5): 0 particles\n\n* reading species: ['star', 'dark']\n* reading particles from:\n    Users/awetzel/work/research/simulation/gizmo/simulations/m12/m12i/m12i_res57000/output/snapshot_600.hdf5\n\n* reading cosmological parameters from:  Users/awetzel/work/research/simulation/gizmo/simulations/m12/m12i/m12i_res57000/initial_condition/ic_agora_m12i.conf\n\n* checking sanity of particle properties\n\n* reading host[s] position, velocity, rotation from:  Users/awetzel/work/research/simulation/gizmo/simulations/m12/m12i/m12i_res57000/track/star_form_coordinates_600.hdf5\n  read position, velocity, rotation for 1 host galaxy[s]\n  host1 position = (41821.973, 44122.004, 46288.457) [kpc comoving]\n  host1 velocity = (-348.7, 149.4, -18.3) [km / s]\n\n"
    }
   ],
   "source": [
    "# compute and assign the rotation tensor and axis ratios of the principal axes (defined via moment of inertia tensor) of stars in each host,  during read in as below\n",
    "\n",
    "part = gizmo.io.Read.read_snapshots(['star', 'dark'], 'redshift', 0, simulation_directory, assign_hosts_rotation=True)"
   ]
  },
  {
   "cell_type": "code",
   "execution_count": 36,
   "metadata": {},
   "outputs": [
    {
     "output_type": "stream",
     "name": "stdout",
     "text": "[[[ 0.20290324  0.4557217   0.86668795]\n  [ 0.8732139   0.31629786 -0.37074673]\n  [-0.4430889   0.8320297  -0.33376467]]]\n"
    }
   ],
   "source": [
    "# we then store the rotation tensor, to rotate into the principal axes, for each host via\n",
    "\n",
    "print(part.host['rotation'])"
   ]
  },
  {
   "cell_type": "code",
   "execution_count": 37,
   "metadata": {},
   "outputs": [
    {
     "output_type": "stream",
     "name": "stdout",
     "text": "[]\n"
    }
   ],
   "source": [
    "# and we store the axis ratios (min/maj, min/med, med/maj) via\n",
    "\n",
    "print(part.host['axis.ratios'])"
   ]
  },
  {
   "cell_type": "code",
   "execution_count": 38,
   "metadata": {},
   "outputs": [
    {
     "output_type": "execute_result",
     "data": {
      "text/plain": "array([[ 1268.83310259,  5564.34983878, -4928.11419617],\n       [ 3106.32075299,  2376.85302903, -4314.65095403],\n       [ 2343.09717081,  1783.56937456,   860.76043182],\n       ...,\n       [  137.22121881, -1574.33955398,  -179.62347589],\n       [  137.33358243, -1574.57576098,  -179.47733628],\n       [  137.33471934, -1574.91855023,  -179.90166266]])"
     },
     "metadata": {},
     "execution_count": 38
    }
   ],
   "source": [
    "# now you can compute different types of distances of star particles from the center of each host galaxy\n",
    "# compute 3-D distance from the host center along simulation's default x,y,z cartesian axes [kpc physical]\n",
    "\n",
    "part['star'].prop('host.distance')"
   ]
  },
  {
   "cell_type": "code",
   "execution_count": 39,
   "metadata": {},
   "outputs": [
    {
     "output_type": "execute_result",
     "data": {
      "text/plain": "array([7540.44004691, 5823.64763677, 3067.91991204, ..., 1590.48397892,\n       1590.71099014, 1591.09832293])"
     },
     "metadata": {},
     "execution_count": 39
    }
   ],
   "source": [
    "# add '.total' to compute total (scalar) distance [kpc physical]\n",
    "\n",
    "part['star'].prop('host.distance.total')"
   ]
  },
  {
   "cell_type": "code",
   "execution_count": 40,
   "metadata": {},
   "outputs": [
    {
     "output_type": "execute_result",
     "data": {
      "text/plain": "array([[-1477.8918563 ,  4695.03685817,  5712.32889834],\n       [-2025.98993951,  5063.91868367,  2041.31416332],\n       [ 2034.24398525,  2291.04004619,   158.49094619],\n       ...,\n       [ -845.29558029,  -311.54193967, -1310.74649408],\n       [ -845.25376857,  -311.57271475, -1311.04158863],\n       [ -845.77751296,  -311.52282787, -1311.18567806]])"
     },
     "metadata": {},
     "execution_count": 40
    }
   ],
   "source": [
    "# add '.principal' to compute 3-D distance aligned with the principal (major, intermediate, minor) axes of each host's stellar disk [kpc physical]\n",
    "\n",
    "part['star'].prop('host.distance.principal')"
   ]
  },
  {
   "cell_type": "code",
   "execution_count": 41,
   "metadata": {},
   "outputs": [
    {
     "output_type": "execute_result",
     "data": {
      "text/plain": "array([[ 4.92214744e+03,  5.71232890e+03,  1.87575470e+00],\n       [ 5.45416425e+03,  2.04131416e+03,  1.95137462e+00],\n       [ 3.06382328e+03,  1.58490946e+02,  8.44699464e-01],\n       ...,\n       [ 9.00879014e+02, -1.31074649e+03,  3.49470517e+00],\n       [ 9.00850426e+02, -1.31104159e+03,  3.49475327e+00],\n       [ 9.01324622e+02, -1.31118568e+03,  3.49450037e+00]])"
     },
     "metadata": {},
     "execution_count": 41
    }
   ],
   "source": [
    "# add '.cylindrical' or '.cyl' to compute 3-D distance aligned with the principal axes in cylindrical coordinates\n",
    "# first value is along the major axes (R, positive definite)\n",
    "# second value is angle (phi, 0 to 2 * pi)\n",
    "# third value is vertical height wrt the disk (Z, signed)\n",
    "\n",
    "part['star'].prop('host.distance.principal.cylindrical')"
   ]
  },
  {
   "cell_type": "code",
   "execution_count": 42,
   "metadata": {},
   "outputs": [
    {
     "output_type": "execute_result",
     "data": {
      "text/plain": "array([[ 453.6376  ,  606.17737 , -481.73254 ],\n       [ 739.3482  ,   72.50135 , -651.251   ],\n       [ 639.2164  ,  -32.211094,  199.80338 ],\n       ...,\n       [ 303.78143 , -166.90242 ,  -19.652802],\n       [ 306.3348  , -228.2763  ,  -18.274103],\n       [ 277.6071  , -163.68999 ,   -2.7931  ]], dtype=float32)"
     },
     "metadata": {},
     "execution_count": 42
    }
   ],
   "source": [
    "# same for velocity\n",
    "# compute 3-D velocity from each host galaxy center along simulation's default x,y,z cartesian axes [km / s]\n",
    "\n",
    "part['star'].prop('host.velocity')"
   ]
  },
  {
   "cell_type": "code",
   "execution_count": 43,
   "metadata": {},
   "outputs": [
    {
     "output_type": "execute_result",
     "data": {
      "text/plain": "array([897.3875 , 987.93726, 670.48975, ..., 347.16827, 382.47226,\n       322.28546], dtype=float32)"
     },
     "metadata": {},
     "execution_count": 43
    }
   ],
   "source": [
    "# compute total (scalar) velocity [km / s]\n",
    "\n",
    "part['star'].prop('host.velocity.total')"
   ]
  },
  {
   "cell_type": "code",
   "execution_count": 44,
   "metadata": {},
   "outputs": [
    {
     "output_type": "execute_result",
     "data": {
      "text/plain": "array([[ -49.219067,  766.456   ,  464.14108 ],\n       [-381.3748  ,  909.9903  ,  -49.90914 ],\n       [ 288.18695 ,  473.90787 , -376.7176  ],\n       ...,\n       [ -31.455667,  219.7615  , -266.91052 ],\n       [ -57.712082,  202.06758 , -319.56696 ],\n       [ -20.690453,  191.67111 , -258.2673  ]], dtype=float32)"
     },
     "metadata": {},
     "execution_count": 44
    }
   ],
   "source": [
    "# compute 3-D velocity along the principal (major, intermediate, minor) axes [km / s]\n",
    "\n",
    "part['star'].prop('host.velocity.principal')"
   ]
  },
  {
   "cell_type": "code",
   "execution_count": 45,
   "metadata": {},
   "outputs": [
    {
     "output_type": "execute_result",
     "data": {
      "text/plain": "array([[ 745.8695  ,  464.14108 , -183.183   ],\n       [ 986.545   ,  -49.90914 ,   16.06474 ],\n       [ 545.7183  , -376.7176  ,   99.155975],\n       ...,\n       [ -46.483032, -266.91052 , -217.08041 ],\n       [ -15.737784, -319.56696 , -209.55742 ],\n       [ -46.831528, -258.2673  , -187.00995 ]], dtype=float32)"
     },
     "metadata": {},
     "execution_count": 45
    }
   ],
   "source": [
    "# compute 3-D velocity in cylindrical coordinates\n",
    "# first value is along the major axes (positive definite)\n",
    "# secod value is azimuthal velocity in the plane of the disk (positive definite)\n",
    "# third value is vertical velocity wrt the disk (signed)\n",
    "\n",
    "part['star'].prop('host.velocity.principal.cylindrical')"
   ]
  },
  {
   "cell_type": "code",
   "execution_count": 47,
   "metadata": {},
   "outputs": [
    {
     "output_type": "stream",
     "name": "stdout",
     "text": "\n# in utilities.simulation.Snapshot():\n* reading:  Users/awetzel/work/research/simulation/gizmo/simulations/m12/m12i/m12i_res57000/snapshot_times.txt\n\n* input redshift = 0:  using snapshot index = 600, redshift = 0.000\n\n\n# in gizmo_analysis.gizmo_io.Read():\n* reading header from:  Users/awetzel/work/research/simulation/gizmo/simulations/m12/m12i/m12i_res57000/output/snapshot_600.hdf5\n  snapshot contains the following number of particles:\n    dark      (id = 1): 8820344 particles\n    dark2     (id = 2): 3081337 particles\n    gas       (id = 0): 5969934 particles\n    star      (id = 4): 3059250 particles\n    blackhole (id = 5): 0 particles\n\n* reading species: ['star', 'dark']\n* reading particles from:\n    Users/awetzel/work/research/simulation/gizmo/simulations/m12/m12i/m12i_res57000/output/snapshot_600.hdf5\n\n* reading cosmological parameters from:  Users/awetzel/work/research/simulation/gizmo/simulations/m12/m12i/m12i_res57000/initial_condition/ic_agora_m12i.conf\n\n* checking sanity of particle properties\n\n\n# in utilities.particle.get_center_positions():\n* assigning center position for 2 host[s], via iterative zoom-in on star particle mass\n  host1 position = (41821.974, 44122.005, 46288.448) [kpc comoving]\n  host2 position = (42326.565, 46242.710, 46897.891) [kpc comoving]\n\n# in utilities.particle.get_center_velocities():\n* assigning center velocity for 2 host[s], weighting by star particles by mass\n  host1 velocity = (-48.7, 73.1, 96.7) [km / s]\n  host2 velocity = (-38.2, 129.7, 143.6) [km / s]\n\n\n# in utilities.particle.get_principal_axes():\n* assigning principal axes rotation tensor for 2 host[s]\n  using star particles at distance < 10.0 kpc\n  using youngest 25% of star particles\n  host1: using star particles with age = [0.000, 4.898] Gyr\n  host2: using star particles with age = [0.000, 3.154] Gyr\n  host1: axis ratios: min/maj = 0.161, min/med = 0.165, med/maj = 0.978\n  host2: axis ratios: min/maj = 0.353, min/med = 0.414, med/maj = 0.853\n\n"
    }
   ],
   "source": [
    "# if you want to store multiple hosts (such as for the ELVIS LG-like paired simulations), \n",
    "# set host_number=2 during read-in\n",
    "# (in fact, you can do this for any simulation, it simply finds the second most massive host galaxy in the full zoom-in region)\n",
    "\n",
    "part = gizmo.io.Read.read_snapshots(['star', 'dark'], 'redshift', 0, simulation_directory, host_number=2, assign_hosts='mass', assign_hosts_rotation=True)"
   ]
  },
  {
   "cell_type": "code",
   "execution_count": 48,
   "metadata": {},
   "outputs": [
    {
     "output_type": "stream",
     "name": "stdout",
     "text": "[[ 1268.83208172  5564.34890325 -4928.10562341]\n [ 3106.31973213  2376.85209351 -4314.64238128]\n [ 2343.09614995  1783.56843904   860.76900457]\n ...\n [  137.22019795 -1574.3404895   -179.61490314]\n [  137.33256157 -1574.5766965   -179.46876353]\n [  137.33369847 -1574.91948576  -179.89308991]]\n[[  764.24101808  3443.64339733 -5537.5485934 ]\n [ 2601.72866849   256.14658759 -4924.08535126]\n [ 1838.5050863   -337.13706688   251.32603459]\n ...\n [ -367.37086569 -3695.04599542  -789.05787312]\n [ -367.25850207 -3695.28220242  -788.91173351]\n [ -367.25736517 -3695.62499168  -789.3360599 ]]\n"
    }
   ],
   "source": [
    "# everything above still works, just use 'host', 'host2', 'host3', etc \n",
    "# to identify which host you want coordinates relative to\n",
    "\n",
    "print(part['star'].prop('host.distance'))\n",
    "print(part['star'].prop('host2.distance'))"
   ]
  },
  {
   "cell_type": "code",
   "execution_count": 49,
   "metadata": {},
   "outputs": [
    {
     "output_type": "stream",
     "name": "stdout",
     "text": "[[41821.97367711 44122.00484177 46288.4484585 ]\n [42326.56474076 46242.7103477  46897.89142848]]\n[[-48.735596  73.141556  96.68621 ]\n [-38.20505  129.73734  143.58682 ]]\n[[[ 0.27822085  0.48353815  0.82993013]\n  [ 0.85165091  0.27536974 -0.44593973]\n  [-0.44416651  0.83088048 -0.3351921 ]]\n\n [[ 0.12720164  0.53095269  0.83780009]\n  [ 0.10870839  0.83211037 -0.54385184]\n  [-0.98590173  0.16025474  0.04812679]]]\n[[0.16094978 0.16460606 0.97778772]\n [0.35345022 0.41423555 0.85325901]]\n"
    }
   ],
   "source": [
    "# gizmo_analysis stores coordinates and rotation tensors for each host\n",
    "\n",
    "print(part.host['position'])\n",
    "print(part.host['velocity'])\n",
    "print(part.host['rotation'])\n",
    "print(part.host['axis.ratios'])"
   ]
  },
  {
   "cell_type": "markdown",
   "metadata": {},
   "source": [
    "# star + gas particle tracking"
   ]
  },
  {
   "cell_type": "markdown",
   "metadata": {},
   "source": [
    "Some simulations have pre-compiled HDF5 files for tracking star + gas particles over time. We store these files in the directory 'track/' (if present). gizmo_track.py contains the code that generates and reads these files."
   ]
  },
  {
   "cell_type": "markdown",
   "metadata": {},
   "source": [
    "star\\_gas\\_pointers\\_\\*.hdf5 files store, for each star and gas particles at z = 0, a pointer to where it was in the catalog at each previous snapshot (replace * with snapshot index). This makes it easy quickly to get the properties of a given star particle at any previous snapshot. We store these pointers in an HDF5 file, one for each previous snapshot."
   ]
  },
  {
   "cell_type": "markdown",
   "metadata": {},
   "source": [
    "### tracking between z = 0 and a previous snapshot"
   ]
  },
  {
   "cell_type": "code",
   "execution_count": 50,
   "metadata": {},
   "outputs": [
    {
     "output_type": "stream",
     "name": "stdout",
     "text": "\n# in utilities.simulation.Snapshot():\n* reading:  Users/awetzel/work/research/simulation/gizmo/simulations/m12/m12i/m12i_res57000/snapshot_times.txt\n\n* input redshift = 0:  using snapshot index = 600, redshift = 0.000\n\n\n# in gizmo_analysis.gizmo_io.Read():\n* reading header from:  Users/awetzel/work/research/simulation/gizmo/simulations/m12/m12i/m12i_res57000/output/snapshot_600.hdf5\n  snapshot contains the following number of particles:\n    dark      (id = 1): 8820344 particles\n    dark2     (id = 2): 3081337 particles\n    gas       (id = 0): 5969934 particles\n    star      (id = 4): 3059250 particles\n    blackhole (id = 5): 0 particles\n\n* reading species: ['star', 'gas']\n* reading particles from:\n    Users/awetzel/work/research/simulation/gizmo/simulations/m12/m12i/m12i_res57000/output/snapshot_600.hdf5\n\n* reading cosmological parameters from:  Users/awetzel/work/research/simulation/gizmo/simulations/m12/m12i/m12i_res57000/initial_condition/ic_agora_m12i.conf\n\n* checking sanity of particle properties\n\n* reading host[s] position, velocity, rotation from:  Users/awetzel/work/research/simulation/gizmo/simulations/m12/m12i/m12i_res57000/track/star_form_coordinates_600.hdf5\n  read position, velocity, rotation for 1 host galaxy[s]\n  host1 position = (41821.973, 44122.004, 46288.457) [kpc comoving]\n  host1 velocity = (-348.7, 149.4, -18.3) [km / s]\n\n"
    }
   ],
   "source": [
    "# read catalog of star and gas particles at z = 0\n",
    "\n",
    "part_at_z0 = gizmo.io.Read.read_snapshots(['star', 'gas'], 'redshift', 0, simulation_directory)"
   ]
  },
  {
   "cell_type": "code",
   "execution_count": 121,
   "metadata": {},
   "outputs": [
    {
     "name": "stdout",
     "output_type": "stream",
     "text": "\n# in utilities.simulation.Snapshot():\n* reading:  Users/awetzel/work/research/simulation/gizmo/simulations/m12/m12i/m12i_res57000/snapshot_times.txt\n\n* input redshift = 2:  using snapshot index = 172, redshift = 2.000\n\n\n# in gizmo_analysis.gizmo_io.Read():\n* reading header from:  Users/awetzel/work/research/simulation/gizmo/simulations/m12/m12i/m12i_res57000/output/snapshot_172.hdf5\n  snapshot contains the following number of particles:\n    dark      (id = 1): 8820344 particles\n    dark2     (id = 2): 3081337 particles\n    gas       (id = 0): 8575137 particles\n    star      (id = 4): 245223 particles\n    blackhole (id = 5): 0 particles\n\n* reading species: ['star', 'gas']\n* reading particles from:\n    Users/awetzel/work/research/simulation/gizmo/simulations/m12/m12i/m12i_res57000/output/snapshot_172.hdf5\n\n* reading cosmological parameters from:  Users/awetzel/work/research/simulation/gizmo/simulations/m12/m12i/m12i_res57000/initial_condition/ic_agora_m12i.conf\n\n* checking sanity of particle properties\n\n* assigning coordinates for 1 host galaxy/halo[s]:\n  position = (42860.578, 42499.360, 44850.603) [kpc comoving]\n  velocity = (-62.4, 121.0, 36.3) [km / s]\n\n\n# in utilities.basic.io.file_hdf5():\n  read file: star_gas_pointers_172.hdf5\n    species | |S4, shape = (2,)\n    z.gas.index.limits | int64, shape = (2,)\n    z.gas.number | int64, shape = ()\n    z.particle.number | int64, shape = ()\n    z.snapshot.index | int64, shape = ()\n    z.star.index.limits | int64, shape = (2,)\n    z.star.number | int64, shape = ()\n    z0.gas.index.limits | int64, shape = (2,)\n    z0.gas.number | int64, shape = ()\n    z0.particle.number | int64, shape = ()\n    z0.snapshot.index | int32, shape = ()\n    z0.star.index.limits | int64, shape = (2,)\n    z0.star.number | int64, shape = ()\n    z0.to.z.index | int32, shape = (9029184,)\n"
    }
   ],
   "source": [
    "# say that you want to find out what they were doing at z = 2\n",
    "# read in catalog of star particles at z = 2 (probably snapshot 172)\n",
    "# set assign_pointers=True to assign such pointers to the particle catalog at z = 2\n",
    "\n",
    "part_at_z2 = gizmo.io.Read.read_snapshots(\n",
    "    ['star', 'gas'], 'redshift', 2, simulation_directory, assign_pointers=True)"
   ]
  },
  {
   "cell_type": "code",
   "execution_count": 122,
   "metadata": {},
   "outputs": [
    {
     "data": {
      "text/plain": "{'species': array(['star', 'gas'], dtype='<U4'),\n 'z.gas.index.limits': array([ 245223, 8820360]),\n 'z.gas.number': 8575137,\n 'z.particle.number': 8820360,\n 'z.snapshot.index': 172,\n 'z.star.index.limits': array([     0, 245223]),\n 'z.star.number': 245223,\n 'z0.gas.index.limits': array([3059250, 9029184]),\n 'z0.gas.number': 5969934,\n 'z0.particle.number': 9029184,\n 'z0.snapshot.index': 600,\n 'z0.star.index.limits': array([      0, 3059250]),\n 'z0.star.number': 3059250,\n 'z0.to.z.index': array([8762407, 6627790, 2897974, ...,  428042, 1883434, 1569509],\n       dtype=int32)}"
     },
     "execution_count": 122,
     "metadata": {},
     "output_type": "execute_result"
    }
   ],
   "source": [
    "# we store particle pointers via a dictionary class appended to particle catalog dictionary at the relevant snapshot\n",
    "# a negative value means that the star formed after this snapshot (so it does not exist at this snapshot)\n",
    "\n",
    "part_at_z2.Pointer"
   ]
  },
  {
   "cell_type": "code",
   "execution_count": 123,
   "metadata": {},
   "outputs": [
    {
     "data": {
      "text/plain": "array(['star', 'gas'], dtype='<U4')"
     },
     "execution_count": 123,
     "metadata": {},
     "output_type": "execute_result"
    }
   ],
   "source": [
    "# the particle species that we have compiled tracking pointers for\n",
    "\n",
    "part_at_z2.Pointer['species']"
   ]
  },
  {
   "cell_type": "code",
   "execution_count": 125,
   "metadata": {},
   "outputs": [
    {
     "name": "stdout",
     "output_type": "stream",
     "text": "172\n600\n"
    }
   ],
   "source": [
    "# the snapshot indices at this redshift (z = 2) and at the reference redshift (z = 0)\n",
    "\n",
    "print(part_at_z2.Pointer['z.snapshot.index'])\n",
    "print(part_at_z2.Pointer['z0.snapshot.index'])"
   ]
  },
  {
   "cell_type": "code",
   "execution_count": 126,
   "metadata": {},
   "outputs": [
    {
     "name": "stdout",
     "output_type": "stream",
     "text": "245223\n8575137\n3059250\n5969934\n"
    }
   ],
   "source": [
    "# the number of particles at this redshift (z = 2) and at the reference redshift (z = 0)\n",
    "\n",
    "print(part_at_z2.Pointer['z.star.number'])\n",
    "print(part_at_z2.Pointer['z.gas.number'])\n",
    "\n",
    "print(part_at_z2.Pointer['z0.star.number'])\n",
    "print(part_at_z2.Pointer['z0.gas.number'])"
   ]
  },
  {
   "cell_type": "code",
   "execution_count": 127,
   "metadata": {},
   "outputs": [
    {
     "name": "stdout",
     "output_type": "stream",
     "text": "[8762407 6627790 2897974 ...  428042 1883434 1569509]\n[     0 245223]\n[ 245223 8820360]\n[      0 3059250]\n[3059250 9029184]\n"
    }
   ],
   "source": [
    "# the dictionaries below store the actual pointer indices\n",
    "# becase gas particles can become star particles, this pipeline concatenates the particle list and \n",
    "# stores pointers from this combined star + gas list at z = 0 to z\n",
    "\n",
    "print(part_at_z2.Pointer['z0.to.z.index'])\n",
    "\n",
    "# this also stores the limits of the indices of each species at each snapshot, \n",
    "# so you can convert back to the index within the individual star list or the individual gas list \n",
    "# (as stored in the particle catalog)\n",
    "print(part_at_z2.Pointer['z.star.index.limits'])\n",
    "print(part_at_z2.Pointer['z.gas.index.limits'])\n",
    "\n",
    "print(part_at_z2.Pointer['z0.star.index.limits'])\n",
    "print(part_at_z2.Pointer['z0.gas.index.limits'])"
   ]
  },
  {
   "cell_type": "code",
   "execution_count": 128,
   "metadata": {},
   "outputs": [],
   "source": [
    "# more simply, you can use this function to get pointers for a given species from z = 0 to any z\n",
    "# the default mode of tracking is going backward in time (from z = 0 to z)\n",
    "\n",
    "pointers = part_at_z2.Pointer.get_pointers(species_name_from='star', species_names_to='star')"
   ]
  },
  {
   "cell_type": "code",
   "execution_count": 129,
   "metadata": {},
   "outputs": [
    {
     "data": {
      "text/plain": "array([[43395.66430266, 44225.91487342, 46848.42028784],\n       [43391.32501013, 44235.3333939 , 46851.26898524],\n       [43392.7246372 , 44234.88455716, 46860.08437896]])"
     },
     "execution_count": 129,
     "metadata": {},
     "output_type": "execute_result"
    }
   ],
   "source": [
    "# say that you have a list of star particle indices of interest at z = 0\n",
    "\n",
    "indices_at_z0 = np.array([5, 8, 13])\n",
    "\n",
    "# list their positions at z = 0\n",
    "\n",
    "part_at_z0['star']['position'][indices_at_z0]"
   ]
  },
  {
   "cell_type": "code",
   "execution_count": 130,
   "metadata": {},
   "outputs": [
    {
     "name": "stdout",
     "output_type": "stream",
     "text": "[93570 93569 93574]\n"
    },
    {
     "data": {
      "text/plain": "array([[44594.70662236, 42857.76681624, 45680.41942321],\n       [44597.17009857, 42856.9103464 , 45683.54318435],\n       [44586.14301487, 42869.01990286, 45673.47361522]])"
     },
     "execution_count": 130,
     "metadata": {},
     "output_type": "execute_result"
    }
   ],
   "source": [
    "# now you can get their indices in the particle catalog at z = 2\n",
    "# negative indices means that the star particle did not exist at z = 2\n",
    "\n",
    "indices_at_z2 = pointers[indices_at_z0]\n",
    "print(indices_at_z2)\n",
    "\n",
    "# now you easily can get any property of interest at z = 2, for example, positions\n",
    "part_at_z2['star']['position'][indices_at_z2]"
   ]
  },
  {
   "cell_type": "code",
   "execution_count": 131,
   "metadata": {},
   "outputs": [
    {
     "name": "stdout",
     "output_type": "stream",
     "text": "[1081507 2621944 1378523]\n[[41827.95243832 44124.6273934  46289.64224645]\n [41810.05286106 44110.48518841 46285.84784929]\n [41827.05895642 44116.02070015 46284.00376819]]\n"
    }
   ],
   "source": [
    "# alternatively, you can track particles going forward in time by setting forward=True\n",
    "\n",
    "pointers = part_at_z2.Pointer.get_pointers(species_name_from='star', species_names_to='star', forward=True)\n",
    "\n",
    "indices_at_z2 = np.array([5, 8, 13])\n",
    "indices_at_z0 = pointers[indices_at_z2]\n",
    "print(indices_at_z0)\n",
    "print(part_at_z0['star']['position'][indices_at_z0])"
   ]
  },
  {
   "cell_type": "code",
   "execution_count": 132,
   "metadata": {},
   "outputs": [
    {
     "name": "stdout",
     "output_type": "stream",
     "text": "{'index': array([8517184, 6382567, 2652751, ..., 5870729,  297634,  179265],\n      dtype=int32), 'species': array(['gas', 'gas', 'gas', ..., 'gas', 'gas', 'star'], dtype='<U4')}\n['gas' 'star' 'star' 'star'] [8517184   93570   93569   93574]\n[8517184]\n[[42845.52824108 42506.12287672 44870.50121988]]\n"
    }
   ],
   "source": [
    "# also, you can track star particles back to both progenitor star and progenitor gas particles\n",
    "\n",
    "pointers = part_at_z2.Pointer.get_pointers(species_name_from='star', species_names_to=['star', 'gas'])\n",
    "\n",
    "# but now, pointers is a *dictionary* that stores both the index and species of each progenitor particle\n",
    "print(pointers)\n",
    "\n",
    "# get star particle indices at z = 0 and see what they were at z = 2\n",
    "star_indices_at_z0 = np.array([0, 5, 8, 13])\n",
    "print(pointers['species'][star_indices_at_z0], pointers['index'][star_indices_at_z0])\n",
    "\n",
    "# get those that were gas particles\n",
    "masks = np.where(pointers['species'][star_indices_at_z0] == 'gas')[0]\n",
    "\n",
    "gas_indices_at_z2 = pointers['index'][star_indices_at_z0[masks]]\n",
    "\n",
    "print(gas_indices_at_z2)\n",
    "print(part_at_z2['gas']['position'][gas_indices_at_z2])"
   ]
  },
  {
   "cell_type": "code",
   "execution_count": 133,
   "metadata": {},
   "outputs": [
    {
     "name": "stdout",
     "output_type": "stream",
     "text": "['star' 'star' 'gas' 'gas']\n[ 215205 1917430 1826927 4148144]\n[ 215205 1917430]\n[[41823.76116895 44122.68646199 46287.49155757]\n [41813.98704585 44118.76742237 46303.17274406]]\n"
    }
   ],
   "source": [
    "# similar for working forward in time, track gas particles at z that can be star or gas particles at z = 0\n",
    "\n",
    "pointers = part_at_z2.Pointer.get_pointers(\n",
    "    species_name_from='gas', species_names_to=['star', 'gas'], forward=True)\n",
    "\n",
    "# get gas indices at z = 2 and see what they end up as at z = 0\n",
    "gas_indices_at_z2 = np.array([0, 5, 8, 13])\n",
    "print(pointers['species'][gas_indices_at_z2])\n",
    "print(pointers['index'][gas_indices_at_z2])\n",
    "\n",
    "# get those that are star particles at z = 0\n",
    "masks = np.where(pointers['species'][gas_indices_at_z2] == 'star')[0]\n",
    "\n",
    "star_indices_at_z0 = pointers['index'][gas_indices_at_z2[masks]]\n",
    "\n",
    "print(star_indices_at_z0)\n",
    "print(part_at_z0['star']['position'][star_indices_at_z0])"
   ]
  },
  {
   "cell_type": "markdown",
   "metadata": {},
   "source": [
    "### tracking between 2 snapshots in which both are at z > 0"
   ]
  },
  {
   "cell_type": "code",
   "execution_count": 134,
   "metadata": {},
   "outputs": [
    {
     "name": "stdout",
     "output_type": "stream",
     "text": "\n# in utilities.simulation.Snapshot():\n* reading:  Users/awetzel/work/research/simulation/gizmo/simulations/m12/m12i/m12i_res57000/snapshot_times.txt\n\n* input redshift = 1:  using snapshot index = 277, redshift = 1.000\n\n\n# in gizmo_analysis.gizmo_io.Read():\n* reading header from:  Users/awetzel/work/research/simulation/gizmo/simulations/m12/m12i/m12i_res57000/output/snapshot_277.hdf5\n  snapshot contains the following number of particles:\n    dark      (id = 1): 8820344 particles\n    dark2     (id = 2): 3081337 particles\n    gas       (id = 0): 7498674 particles\n    star      (id = 4): 1333580 particles\n    blackhole (id = 5): 0 particles\n\n* reading species: ['star', 'gas']\n* reading particles from:\n    Users/awetzel/work/research/simulation/gizmo/simulations/m12/m12i/m12i_res57000/output/snapshot_277.hdf5\n\n* reading cosmological parameters from:  Users/awetzel/work/research/simulation/gizmo/simulations/m12/m12i/m12i_res57000/initial_condition/ic_agora_m12i.conf\n\n* checking sanity of particle properties\n\n* assigning coordinates for 1 host galaxy/halo[s]:\n  position = (42434.347, 43258.424, 45265.678) [kpc comoving]\n  velocity = (-62.5, 90.3, 88.6) [km / s]\n\n\n# in utilities.basic.io.file_hdf5():\n  read file: star_gas_pointers_277.hdf5\n    species | |S4, shape = (2,)\n    z.gas.index.limits | int64, shape = (2,)\n    z.gas.number | int64, shape = ()\n    z.particle.number | int64, shape = ()\n    z.snapshot.index | int64, shape = ()\n    z.star.index.limits | int64, shape = (2,)\n    z.star.number | int64, shape = ()\n    z0.gas.index.limits | int64, shape = (2,)\n    z0.gas.number | int64, shape = ()\n    z0.particle.number | int64, shape = ()\n    z0.snapshot.index | int64, shape = ()\n    z0.star.index.limits | int64, shape = (2,)\n    z0.star.number | int64, shape = ()\n    z0.to.z.index | int32, shape = (9029184,)\n\n# in utilities.simulation.Snapshot():\n* reading:  Users/awetzel/work/research/simulation/gizmo/simulations/m12/m12i/m12i_res57000/snapshot_times.txt\n\n* input redshift = 2:  using snapshot index = 172, redshift = 2.000\n\n\n# in gizmo_analysis.gizmo_io.Read():\n* reading header from:  Users/awetzel/work/research/simulation/gizmo/simulations/m12/m12i/m12i_res57000/output/snapshot_172.hdf5\n  snapshot contains the following number of particles:\n    dark      (id = 1): 8820344 particles\n    dark2     (id = 2): 3081337 particles\n    gas       (id = 0): 8575137 particles\n    star      (id = 4): 245223 particles\n    blackhole (id = 5): 0 particles\n\n* reading species: ['star', 'gas']\n* reading particles from:\n    Users/awetzel/work/research/simulation/gizmo/simulations/m12/m12i/m12i_res57000/output/snapshot_172.hdf5\n\n* reading cosmological parameters from:  Users/awetzel/work/research/simulation/gizmo/simulations/m12/m12i/m12i_res57000/initial_condition/ic_agora_m12i.conf\n\n* checking sanity of particle properties\n\n* assigning coordinates for 1 host galaxy/halo[s]:\n  position = (42860.578, 42499.360, 44850.603) [kpc comoving]\n  velocity = (-62.4, 121.0, 36.3) [km / s]\n\n\n# in utilities.basic.io.file_hdf5():\n  read file: star_gas_pointers_172.hdf5\n    species | |S4, shape = (2,)\n    z.gas.index.limits | int64, shape = (2,)\n    z.gas.number | int64, shape = ()\n    z.particle.number | int64, shape = ()\n    z.snapshot.index | int64, shape = ()\n    z.star.index.limits | int64, shape = (2,)\n    z.star.number | int64, shape = ()\n    z0.gas.index.limits | int64, shape = (2,)\n    z0.gas.number | int64, shape = ()\n    z0.particle.number | int64, shape = ()\n    z0.snapshot.index | int32, shape = ()\n    z0.star.index.limits | int64, shape = (2,)\n    z0.star.number | int64, shape = ()\n    z0.to.z.index | int32, shape = (9029184,)\n"
    }
   ],
   "source": [
    "# particle tracking also can handle tracking particles between any 2 snapshots\n",
    "\n",
    "# read catalogs of star and gas particles at z = 1 and 2, including their pointers relative to z = 0\n",
    "# set asign_pointers=True automatically to append pointer class to each particle catalog\n",
    "part_at_z1 = gizmo.io.Read.read_snapshots(\n",
    "    ['star', 'gas'], 'redshift', 1, simulation_directory, assign_pointers=True)\n",
    "part_at_z2 = gizmo.io.Read.read_snapshots(\n",
    "    ['star', 'gas'], 'redshift', 2, simulation_directory, assign_pointers=True)"
   ]
  },
  {
   "cell_type": "code",
   "execution_count": 135,
   "metadata": {},
   "outputs": [],
   "source": [
    "# now just append intermediate-redshift pointers (to z = 1) to pointers at z = 2\n",
    "\n",
    "part_at_z2.Pointer.add_intermediate_pointers(part_at_z1.Pointer)"
   ]
  },
  {
   "cell_type": "code",
   "execution_count": 136,
   "metadata": {},
   "outputs": [
    {
     "name": "stdout",
     "output_type": "stream",
     "text": "['star' 'gas' 'gas' 'gas']\n[ 107166 1169600 6377478  239484]\n[107166]\n[[43535.53900573 42053.83122207 46265.70989359]]\n"
    }
   ],
   "source": [
    "# now you can access pointers from z = 1 to z = 2, by setting intermediate_snapshot=True\n",
    "\n",
    "pointers = part_at_z2.Pointer.get_pointers(\n",
    "    species_name_from='star', species_names_to=['star', 'gas'], intermediate_snapshot=True)\n",
    "\n",
    "# get star indices at z = 0 and see what they were at z = 2\n",
    "star_indices_at_z1 = np.array([0, 5, 8, 13])\n",
    "print(pointers['species'][star_indices_at_z1])\n",
    "print(pointers['index'][star_indices_at_z1])\n",
    "\n",
    "# get those that are star particles at z = 2\n",
    "masks = np.where(pointers['species'][star_indices_at_z1] == 'star')[0]\n",
    "\n",
    "star_indices_at_z2 = pointers['index'][star_indices_at_z1[masks]]\n",
    "\n",
    "print(star_indices_at_z2)\n",
    "print(part_at_z2['star']['position'][star_indices_at_z2])"
   ]
  },
  {
   "cell_type": "code",
   "execution_count": 138,
   "metadata": {},
   "outputs": [
    {
     "name": "stdout",
     "output_type": "stream",
     "text": "\n# in utilities.basic.io.file_hdf5():\n  read file: star_gas_pointers_277.hdf5\n    species | |S4, shape = (2,)\n    z.gas.index.limits | int64, shape = (2,)\n    z.gas.number | int64, shape = ()\n    z.particle.number | int64, shape = ()\n    z.snapshot.index | int64, shape = ()\n    z.star.index.limits | int64, shape = (2,)\n    z.star.number | int64, shape = ()\n    z0.gas.index.limits | int64, shape = (2,)\n    z0.gas.number | int64, shape = ()\n    z0.particle.number | int64, shape = ()\n    z0.snapshot.index | int64, shape = ()\n    z0.star.index.limits | int64, shape = (2,)\n    z0.star.number | int64, shape = ()\n    z0.to.z.index | int32, shape = (9029184,)\n\n# in utilities.basic.io.file_hdf5():\n  read file: star_gas_pointers_172.hdf5\n    species | |S4, shape = (2,)\n    z.gas.index.limits | int64, shape = (2,)\n    z.gas.number | int64, shape = ()\n    z.particle.number | int64, shape = ()\n    z.snapshot.index | int64, shape = ()\n    z.star.index.limits | int64, shape = (2,)\n    z.star.number | int64, shape = ()\n    z0.gas.index.limits | int64, shape = (2,)\n    z0.gas.number | int64, shape = ()\n    z0.particle.number | int64, shape = ()\n    z0.snapshot.index | int32, shape = ()\n    z0.star.index.limits | int64, shape = (2,)\n    z0.star.number | int64, shape = ()\n    z0.to.z.index | int32, shape = (9029184,)\n[[ 292.68991569 -383.58753865 -537.01238787]\n [ 340.40628092 -396.67310129 -443.35512543]\n [ 325.33277499 -341.7086024  -510.64487315]\n ...\n [ -99.12561147   30.8602316  -350.24431613]\n [ -99.82395539   11.77529703 -343.91413721]\n [ -94.33690426   50.91985599 -359.29941783]]\n\n# in utilities.basic.io.file_hdf5():\n  read file: star_gas_pointers_172.hdf5\n    species | |S4, shape = (2,)\n    z.gas.index.limits | int64, shape = (2,)\n    z.gas.number | int64, shape = ()\n    z.particle.number | int64, shape = ()\n    z.snapshot.index | int64, shape = ()\n    z.star.index.limits | int64, shape = (2,)\n    z.star.number | int64, shape = ()\n    z0.gas.index.limits | int64, shape = (2,)\n    z0.gas.number | int64, shape = ()\n    z0.particle.number | int64, shape = ()\n    z0.snapshot.index | int32, shape = ()\n    z0.star.index.limits | int64, shape = (2,)\n    z0.star.number | int64, shape = ()\n    z0.to.z.index | int32, shape = (9029184,)\n\n# in utilities.basic.io.file_hdf5():\n  read file: star_gas_pointers_277.hdf5\n    species | |S4, shape = (2,)\n    z.gas.index.limits | int64, shape = (2,)\n    z.gas.number | int64, shape = ()\n    z.particle.number | int64, shape = ()\n    z.snapshot.index | int64, shape = ()\n    z.star.index.limits | int64, shape = (2,)\n    z.star.number | int64, shape = ()\n    z0.gas.index.limits | int64, shape = (2,)\n    z0.gas.number | int64, shape = ()\n    z0.particle.number | int64, shape = ()\n    z0.snapshot.index | int64, shape = ()\n    z0.star.index.limits | int64, shape = (2,)\n    z0.star.number | int64, shape = ()\n    z0.to.z.index | int32, shape = (9029184,)\n[[ 1.76618861e+03 -1.34864646e+03  3.38039285e+03]\n [-3.19344155e-01  1.92092919e+01 -1.40406222e+01]\n [ 5.49481984e-01 -9.67723621e-01 -1.44379399e+00]\n ...\n [-1.47852245e+03  1.73040220e+03  3.40694911e+02]\n [-1.47797816e+03  1.72987523e+03  3.40425767e+02]\n [-1.47634593e+03  1.73094540e+03  3.39585600e+02]]\n"
    }
   ],
   "source": [
    "# if you just want to track a single species (star -> star or gas -> gas) between 2 snapshots,\n",
    "# read_pointers_between_snapshots() makes it easy to get the pointer indices between any 2 snapshots\n",
    "\n",
    "ParticlePointer = gizmo.track.ParticlePointerClass(simulation_directory=simulation_directory)\n",
    "\n",
    "# tracking forward in time\n",
    "pointers_z2_to_z1 = ParticlePointer.read_pointers_between_snapshots(\n",
    "    snapshot_index_from=172, snapshot_index_to=277, species_name='star')\n",
    "\n",
    "# for example, see how far star particles have moved\n",
    "print(part_at_z2['star']['position'] - part_at_z1['star']['position'][pointers_z2_to_z1])\n",
    "\n",
    "\n",
    "# similar for tracking going backward in time\n",
    "pointers_z1_to_z2 = ParticlePointer.read_pointers_between_snapshots(\n",
    "    snapshot_index_from=277, snapshot_index_to=172, species_name='star')\n",
    "\n",
    "# in this case, need to select stars that existed as stars at z = 2\n",
    "masks = (pointers_z1_to_z2 >= 0)\n",
    "\n",
    "# see how far star particles have moved\n",
    "print(part_at_z1['star']['position'][masks] - part_at_z1['star']['position'][pointers_z1_to_z2[masks]])"
   ]
  },
  {
   "cell_type": "code",
   "execution_count": 139,
   "metadata": {},
   "outputs": [
    {
     "name": "stdout",
     "output_type": "stream",
     "text": "\n# in utilities.basic.io.file_hdf5():\n  read file: star_gas_pointers_277.hdf5\n    species | |S4, shape = (2,)\n    z.gas.index.limits | int64, shape = (2,)\n    z.gas.number | int64, shape = ()\n    z.particle.number | int64, shape = ()\n    z.snapshot.index | int64, shape = ()\n    z.star.index.limits | int64, shape = (2,)\n    z.star.number | int64, shape = ()\n    z0.gas.index.limits | int64, shape = (2,)\n    z0.gas.number | int64, shape = ()\n    z0.particle.number | int64, shape = ()\n    z0.snapshot.index | int64, shape = ()\n    z0.star.index.limits | int64, shape = (2,)\n    z0.star.number | int64, shape = ()\n    z0.to.z.index | int32, shape = (9029184,)\n\n# in utilities.basic.io.file_hdf5():\n  read file: star_gas_pointers_172.hdf5\n    species | |S4, shape = (2,)\n    z.gas.index.limits | int64, shape = (2,)\n    z.gas.number | int64, shape = ()\n    z.particle.number | int64, shape = ()\n    z.snapshot.index | int64, shape = ()\n    z.star.index.limits | int64, shape = (2,)\n    z.star.number | int64, shape = ()\n    z0.gas.index.limits | int64, shape = (2,)\n    z0.gas.number | int64, shape = ()\n    z0.particle.number | int64, shape = ()\n    z0.snapshot.index | int32, shape = ()\n    z0.star.index.limits | int64, shape = (2,)\n    z0.star.number | int64, shape = ()\n    z0.to.z.index | int32, shape = (9029184,)\n[[ 224.35345256 -102.50255757 -208.25313603]\n [ 313.50763315 -345.17309798 -495.19974925]\n [ 114.49285425  233.74061457 -177.28187293]\n ...\n [  53.25622074 -595.53442327  -88.54922416]\n [  57.46695114 -592.76897158  -83.2795691 ]\n [  58.68275013 -596.29758723  -82.94903887]]\n\n# in utilities.basic.io.file_hdf5():\n  read file: star_gas_pointers_172.hdf5\n    species | |S4, shape = (2,)\n    z.gas.index.limits | int64, shape = (2,)\n    z.gas.number | int64, shape = ()\n    z.particle.number | int64, shape = ()\n    z.snapshot.index | int64, shape = ()\n    z.star.index.limits | int64, shape = (2,)\n    z.star.number | int64, shape = ()\n    z0.gas.index.limits | int64, shape = (2,)\n    z0.gas.number | int64, shape = ()\n    z0.particle.number | int64, shape = ()\n    z0.snapshot.index | int32, shape = ()\n    z0.star.index.limits | int64, shape = (2,)\n    z0.star.number | int64, shape = ()\n    z0.to.z.index | int32, shape = (9029184,)\n\n# in utilities.basic.io.file_hdf5():\n  read file: star_gas_pointers_277.hdf5\n    species | |S4, shape = (2,)\n    z.gas.index.limits | int64, shape = (2,)\n    z.gas.number | int64, shape = ()\n    z.particle.number | int64, shape = ()\n    z.snapshot.index | int64, shape = ()\n    z.star.index.limits | int64, shape = (2,)\n    z.star.number | int64, shape = ()\n    z0.gas.index.limits | int64, shape = (2,)\n    z0.gas.number | int64, shape = ()\n    z0.particle.number | int64, shape = ()\n    z0.snapshot.index | int64, shape = ()\n    z0.star.index.limits | int64, shape = (2,)\n    z0.star.number | int64, shape = ()\n    z0.to.z.index | int32, shape = (9029184,)\n[[-560.31238357 -135.1138063   780.92769312]\n [-683.88542357 -173.21415443  796.86951148]\n [-705.87410058 -145.10567908  770.32026879]\n ...\n [-258.38776428  710.77164984  377.14910812]\n [ -94.5892211   497.91426255  289.2440255 ]\n [-150.44327719  618.12171284  316.23342548]]\n"
    }
   ],
   "source": [
    "# do the same, but for gas\n",
    "\n",
    "ParticlePointer = gizmo.track.ParticlePointerClass(simulation_directory=simulation_directory)\n",
    "\n",
    "# tracking going forward in time\n",
    "pointers_z2_to_z1 = ParticlePointer.read_pointers_between_snapshots(\n",
    "    snapshot_index_from=172, snapshot_index_to=277, species_name='gas')\n",
    "\n",
    "# ensure that gas particle still is a gas particle at z = 1\n",
    "masks = (pointers_z2_to_z1 >= 0)\n",
    "\n",
    "print(part_at_z2['gas']['position'][masks] - part_at_z1['gas']['position'][pointers_z2_to_z1[masks]])\n",
    "\n",
    "# tracking going backward in time\n",
    "pointers_z1_to_z2 = ParticlePointer.read_pointers_between_snapshots(\n",
    "    snapshot_index_from=277, snapshot_index_to=172, species_name='gas')\n",
    "\n",
    "# for gas, still have to ensure positive pointers, even if tracking going backward in time,\n",
    "# because a few gas particles that leave the zoom-in region get culled (for numerical stability) by z = 0\n",
    "# (remember that the pointers always route through z = 0)\n",
    "masks = (pointers_z1_to_z2 >= 0)\n",
    "\n",
    "print(part_at_z1['gas']['position'][masks] - part_at_z2['gas']['position'][pointers_z1_to_z2[masks]])"
   ]
  },
  {
   "cell_type": "markdown",
   "metadata": {},
   "source": [
    "# star particle formation coordinates"
   ]
  },
  {
   "cell_type": "markdown",
   "metadata": {},
   "source": [
    "As part of star particle tracking, we store the position and velocity of each star particle immediately after it formed.\n",
    "\n",
    "Within track/, star\\_form\\_coordinates\\_600.hdf5 stores, for each star particle at z = 0, its 3-D distance and 3-D velocity wrt to the main host galaxy at the first snapshot after it formed. These coordinates are aligned with the principal (major, intermediate, minor) axes of the stellar disk (as defined via its moment of inertia tensor) at that snapshot."
   ]
  },
  {
   "cell_type": "code",
   "execution_count": 4,
   "metadata": {},
   "outputs": [
    {
     "output_type": "error",
     "ename": "NameError",
     "evalue": "name 'part_at_z0' is not defined",
     "traceback": [
      "\u001b[0;31m---------------------------------------------------------------------------\u001b[0m",
      "\u001b[0;31mNameError\u001b[0m                                 Traceback (most recent call last)",
      "\u001b[0;32m<ipython-input-4-9f79650644de>\u001b[0m in \u001b[0;36m<module>\u001b[0;34m\u001b[0m\n\u001b[1;32m      1\u001b[0m \u001b[0;31m# use the function within gizmo_track.py to read this file and assign values directly to the catalog at z = 0\u001b[0m\u001b[0;34m\u001b[0m\u001b[0;34m\u001b[0m\u001b[0;34m\u001b[0m\u001b[0m\n\u001b[1;32m      2\u001b[0m \u001b[0;34m\u001b[0m\u001b[0m\n\u001b[0;32m----> 3\u001b[0;31m \u001b[0mgizmo\u001b[0m\u001b[0;34m.\u001b[0m\u001b[0mtrack\u001b[0m\u001b[0;34m.\u001b[0m\u001b[0mParticleCoordinate\u001b[0m\u001b[0;34m.\u001b[0m\u001b[0mio_formation_coordinates\u001b[0m\u001b[0;34m(\u001b[0m\u001b[0mpart_at_z0\u001b[0m\u001b[0;34m,\u001b[0m \u001b[0msimulation_directory\u001b[0m\u001b[0;34m)\u001b[0m\u001b[0;34m\u001b[0m\u001b[0;34m\u001b[0m\u001b[0m\n\u001b[0m",
      "\u001b[0;31mNameError\u001b[0m: name 'part_at_z0' is not defined"
     ]
    }
   ],
   "source": [
    "# use the function within gizmo_track.py to read this file and assign values directly to the catalog at z = 0\n",
    "\n",
    "gizmo.track.ParticleCoordinate.io_hosts_and_formation_coordinates(part_at_z0, simulation_directory)"
   ]
  },
  {
   "cell_type": "code",
   "execution_count": 16,
   "metadata": {},
   "outputs": [
    {
     "output_type": "stream",
     "name": "stdout",
     "text": "\n# in utilities.simulation.Snapshot():\n* reading:  Users/awetzel/work/research/simulation/gizmo/simulations/m12/m12i/m12i_res7100/snapshot_times.txt\n\n* input redshift = 0:  using snapshot index = 600, redshift = 0.000\n\n\n# in gizmo_analysis.gizmo_io.Read():\n* reading header from:  Users/awetzel/work/research/simulation/gizmo/simulations/m12/m12i/m12i_res7100/output/snapdir_600/snapshot_600.0.hdf5\n  snapshot contains the following number of particles:\n    dark      (id = 1): 70514272 particles\n    dark2     (id = 2): 5513331 particles\n    gas       (id = 0): 57060074 particles\n    star      (id = 4): 13976485 particles\n    blackhole (id = 5): 0 particles\n\n* reading species: ['star']\n* reading particles from:\n    snapshot_600.0.hdf5\n    snapshot_600.1.hdf5\n    snapshot_600.2.hdf5\n    snapshot_600.3.hdf5\n\n* reading cosmological parameters from:  Users/awetzel/work/research/simulation/gizmo/simulations/m12/m12i/m12i_res7100/initial_condition/ic_agora_m12i.conf\n\n* checking sanity of particle properties\n\n\n# in gizmo_analysis.gizmo_track.ParticleCoordinate():\n* reading hosts position, velocity, rotation, axis ratios from:  Users/awetzel/work/research/simulation/gizmo/simulations/m12/m12i/m12i_res7100/track/star_form_coordinates_600.hdf5\n  read position, velocity, rotation, axis ratios for 1 host[s]\n  host1 position = (41792.148, 44131.234, 46267.680) [kpc comoving]\n  host1 velocity = (-52.5, 71.9, 95.2) [km / s]\n\n\n# in utilities.basic.io.file_hdf5():\n  read file: star_form_coordinates_600.hdf5\n    form.host.distance | float32, shape = (13976485, 3)\n    form.host.velocity | float32, shape = (13976485, 3)\n    host.positions | float32, shape = (601, 1, 3)\n    host.rotation.tensors | float32, shape = (601, 1, 3, 3)\n    host.velocities | float32, shape = (601, 1, 3)\n    id | uint32, shape = (13976485,)\n"
    }
   ],
   "source": [
    "# more conveniently, you can read the formation coordinates of star particles during snapshot read-in\n",
    "# by setting assign_formation_coordinates=True\n",
    "\n",
    "part_at_z0 = gizmo.io.Read.read_snapshots(\n",
    "    ['star'], 'redshift', 0, simulation_directory, assign_hosts_rotation=True, \n",
    "    assign_formation_coordinates=True)"
   ]
  },
  {
   "cell_type": "code",
   "execution_count": 17,
   "metadata": {},
   "outputs": [
    {
     "output_type": "execute_result",
     "data": {
      "text/plain": "array([[  1.1554687 ,   0.53590494,  -1.4973264 ],\n       [-11.461404  ,  17.648975  ,  34.246365  ],\n       [489.82816   ,  80.972755  , 350.57516   ],\n       ...,\n       [ 98.26178   ,  10.623663  ,  -6.565898  ],\n       [-13.904677  ,   2.1045623 ,   4.3972406 ],\n       [-13.927067  ,   2.1134663 ,   4.3542676 ]], dtype=float32)"
     },
     "metadata": {},
     "execution_count": 17
    }
   ],
   "source": [
    "# 3-D distance at formation\n",
    "# this is aligned with the principal axes of each host galaxy at that time [kpc physical]\n",
    "# we compute the principal axes *independently* at each snapshot\n",
    "# distance along dimension 0 is aligned with the major axis\n",
    "# distance along dimension 1 is algined with the intermediate axis\n",
    "# distance along dimension 2 is aligned with the minor (Z) axis\n",
    "\n",
    "part_at_z0['star']['form.host.distance']\n",
    "\n",
    "# part_at_z0['star']['form.host2.distance']  # if the simulation has a second host galaxy (for example, ELVIS)"
   ]
  },
  {
   "cell_type": "code",
   "execution_count": 18,
   "metadata": {},
   "outputs": [
    {
     "output_type": "execute_result",
     "data": {
      "text/plain": "array([  1.9657793,  40.195316 , 607.7756   , ...,  99.05226  ,\n        14.734482 ,  14.744137 ], dtype=float32)"
     },
     "metadata": {},
     "execution_count": 18
    }
   ],
   "source": [
    "# as before, add 'total' to get the total scalar (absolute) distance wrt each host galaxy at formation [kpc physical]\n",
    "# this is a derived quantity, so need to call via .prop()\n",
    "\n",
    "part_at_z0['star'].prop('form.host.distance.total')"
   ]
  },
  {
   "cell_type": "code",
   "execution_count": 19,
   "metadata": {},
   "outputs": [
    {
     "output_type": "execute_result",
     "data": {
      "text/plain": "array([[ 1.27369618e+00, -1.49732637e+00,  4.34269547e-01],\n       [ 2.10440044e+01,  3.42463646e+01,  2.14675593e+00],\n       [ 4.96475800e+02,  3.50575165e+02,  1.63826928e-01],\n       ...,\n       [ 9.88344040e+01, -6.56589794e+00,  1.07697599e-01],\n       [ 1.40630455e+01,  4.39724064e+00,  2.99137640e+00],\n       [ 1.40865164e+01,  4.35426760e+00,  2.99098921e+00]], dtype=float32)"
     },
     "metadata": {},
     "execution_count": 19
    }
   ],
   "source": [
    "# add 'cylindrical' to get 3-D distance at formation wrt each host galaxy in cylindrical coordinates [kpc physical]\n",
    "\n",
    "part_at_z0['star'].prop('form.host.distance.cylindrical')"
   ]
  },
  {
   "cell_type": "code",
   "execution_count": 20,
   "metadata": {},
   "outputs": [
    {
     "output_type": "execute_result",
     "data": {
      "text/plain": "array([[ 1.2736962 , -1.4973264 ,  0.43426955],\n       [ 5.2062306 , -0.06345224,  3.5546854 ],\n       [ 5.1802387 ,  0.6653657 ,  3.4047446 ],\n       ...,\n       [ 3.680991  ,  5.7610803 ,  5.6558743 ],\n       [ 6.957385  , -1.6745077 ,  3.9132698 ],\n       [ 7.231108  , -1.5087517 ,  3.9547327 ]], dtype=float32)"
     },
     "metadata": {},
     "execution_count": 20
    }
   ],
   "source": [
    "# these values look more reasonable if you restrict to star particles that formed within a host galaxy\n",
    "\n",
    "# select particles formed at d = 0 - 8 kpc physical\n",
    "part_indices = ut.array.get_indices(part_at_z0['star'].prop('form.host.distance.total'), [0, 8])\n",
    "\n",
    "part_at_z0['star'].prop('form.host.distance.cylindrical', part_indices)"
   ]
  },
  {
   "cell_type": "code",
   "execution_count": 21,
   "metadata": {},
   "outputs": [
    {
     "output_type": "stream",
     "name": "stdout",
     "text": "[[-1064.0728    2497.7788   -1077.7809  ]\n [ -739.33704   1219.5225    2487.7917  ]\n [  221.07426     90.61161     64.74875 ]\n ...\n [  175.4255     172.37308     46.892643]\n [ -157.42848   -382.91193    -24.46141 ]\n [ -162.17015   -381.02695    -30.949238]]\n[2921.089   2867.5708   247.5413  ...  250.37074  414.73322  415.2572 ]\n[[   85.63208  -1077.7809    2713.6353  ]\n [ 1425.4493    2487.7917     -44.140747]\n [  232.89246     64.74875     53.34223 ]\n ...\n [  192.93744     46.892643   152.51799 ]\n [   98.35212    -24.46141    402.15933 ]\n [  103.16724    -30.949238   401.04514 ]]\n"
    }
   ],
   "source": [
    "# same for velocity at formation\n",
    "\n",
    "print(part_at_z0['star']['form.host.velocity'])\n",
    "print(part_at_z0['star'].prop('form.host.velocity.total'))\n",
    "print(part_at_z0['star'].prop('form.host.velocity.cylindrical'))"
   ]
  },
  {
   "cell_type": "code",
   "execution_count": 22,
   "metadata": {},
   "outputs": [
    {
     "output_type": "stream",
     "name": "stdout",
     "text": "[[[      nan       nan       nan]]\n\n [[      nan       nan       nan]]\n\n [[      nan       nan       nan]]\n\n ...\n\n [[41792.387 44130.9   46267.25 ]]\n\n [[41792.266 44131.066 46267.465]]\n\n [[41792.15  44131.234 46267.68 ]]]\n[[[       nan        nan        nan]]\n\n [[       nan        nan        nan]]\n\n [[       nan        nan        nan]]\n\n ...\n\n [[-52.61683   71.81659   95.279305]]\n\n [[-52.545326  71.8767    95.25872 ]]\n\n [[-52.451195  71.85305   95.19773 ]]]\n[[[[        nan         nan         nan]\n   [        nan         nan         nan]\n   [        nan         nan         nan]]]\n\n\n [[[        nan         nan         nan]\n   [        nan         nan         nan]\n   [        nan         nan         nan]]]\n\n\n [[[        nan         nan         nan]\n   [        nan         nan         nan]\n   [        nan         nan         nan]]]\n\n\n ...\n\n\n [[[-0.10535136 -0.9527179   0.28500822]\n   [-0.8619492   0.23041487  0.45161104]\n   [-0.49592805 -0.19808477 -0.845469  ]]]\n\n\n [[[-0.13163602 -0.9452873   0.29850274]\n   [-0.8584016   0.25930545  0.4426143 ]\n   [-0.49580106 -0.19797122 -0.84557   ]]]\n\n\n [[[-0.1478617  -0.9403314   0.30645353]\n   [-0.8559499   0.2769017   0.4366638 ]\n   [-0.49546617 -0.197743   -0.8458197 ]]]]\n[]\n"
    }
   ],
   "source": [
    "# recall that we store formation postions + velocities relative to each host's principal axes\n",
    "# and that we compute the principal axes separately at each snapshot\n",
    "# thus, we also store each host's coordinates and rotation tensor (for its principal axes) at each snapshot\n",
    "# so you can use this to compute formation coordinates in the box's x,y,z coordinates if you want\n",
    "\n",
    "print(part_at_z0.hostz['position'])\n",
    "print(part_at_z0.hostz['velocity'])\n",
    "print(part_at_z0.hostz['rotation'])\n",
    "print(part_at_z0.hostz['axis.ratios'])"
   ]
  },
  {
   "cell_type": "markdown",
   "metadata": {
    "collapsed": true
   },
   "source": [
    "# profile of properties"
   ]
  },
  {
   "cell_type": "markdown",
   "metadata": {},
   "source": [
    "A common task is to compute a radial profile of a given quantity, such as mass density, average age, median metallicity, etc.\n",
    "\n",
    "The high-level functions below make this easier to do."
   ]
  },
  {
   "cell_type": "code",
   "execution_count": 182,
   "metadata": {},
   "outputs": [
    {
     "name": "stdout",
     "output_type": "stream",
     "text": "\n# in utilities.simulation.Snapshot():\n* reading:  Users/awetzel/work/research/simulation/gizmo/simulations/m12/m12i/m12i_res57000/snapshot_times.txt\n\n* input redshift = 0:  using snapshot index = 600, redshift = 0.000\n\n\n# in gizmo_analysis.gizmo_io.Read():\n* reading header from:  Users/awetzel/work/research/simulation/gizmo/simulations/m12/m12i/m12i_res57000/output/snapshot_600.hdf5\n  snapshot contains the following number of particles:\n    dark      (id = 1): 8820344 particles\n    dark2     (id = 2): 3081337 particles\n    gas       (id = 0): 5969934 particles\n    star      (id = 4): 3059250 particles\n    blackhole (id = 5): 0 particles\n\n* reading species: ['star']\n* reading particles from:\n    Users/awetzel/work/research/simulation/gizmo/simulations/m12/m12i/m12i_res57000/output/snapshot_600.hdf5\n\n* reading cosmological parameters from:  Users/awetzel/work/research/simulation/gizmo/simulations/m12/m12i/m12i_res57000/initial_condition/ic_agora_m12i.conf\n\n* checking sanity of particle properties\n\n* assigning coordinates for 1 host galaxy/halo[s]:\n  position = (41821.974, 44122.005, 46288.448) [kpc comoving]\n  velocity = (-48.7, 73.2, 96.7) [km / s]\n\n* assigning principal axes of host galaxy/halo[s]:\n  using star particles at distance < 10 kpc\n  using youngest 25% of star particles\n\n# in utilities.particle.get_principal_axes():\n  using star particles with age = [0.000, 4.898] Gyr\n  axis ratios: min/maj = 0.161, min/med = 0.165, med/maj = 0.978\n\n"
    }
   ],
   "source": [
    "# read star particles at z = 0\n",
    "\n",
    "part = gizmo.io.Read.read_snapshots(\n",
    "    ['star'], 'redshift', 0, simulation_directory, assign_hosts_rotation=True)"
   ]
  },
  {
   "cell_type": "code",
   "execution_count": 183,
   "metadata": {},
   "outputs": [],
   "source": [
    "# first, initiate an instance of SpeciesProfileClass\n",
    "# as you initialize, choose your distance/radius binning scheme:\n",
    "#   distance limits, bin width, whether to use log scaling, number of spatial dimensions of profile\n",
    "# refer to ut.binning.DistanceBinClass() for more\n",
    "\n",
    "# linear binning from 0 to 20 kpc with 1 kpc bin width, assuming a 3-D profile\n",
    "SpeciesProfile = ut.particle.SpeciesProfileClass(\n",
    "    limits=[0, 20], width=1, log_scale=True, dimension_number=3)"
   ]
  },
  {
   "cell_type": "code",
   "execution_count": 184,
   "metadata": {},
   "outputs": [
    {
     "name": "stdout",
     "output_type": "stream",
     "text": "\n# in utilities.particle.SpeciesProfile():\n  input  3059250 distances -  2706222 (88.5%) are within limits = [0.000, 20.000]\n"
    }
   ],
   "source": [
    "# using this binning scheme,\n",
    "# compute sum/histogram/density of mass of star particles in each bin\n",
    "# this returns a bunch of summed properties via a dictionary\n",
    "\n",
    "pro = SpeciesProfile.get_sum_profiles(part, 'star', 'mass')"
   ]
  },
  {
   "cell_type": "code",
   "execution_count": 185,
   "metadata": {},
   "outputs": [
    {
     "data": {
      "text/plain": "dict_keys(['star', 'baryon', 'total'])"
     },
     "execution_count": 185,
     "metadata": {},
     "output_type": "execute_result"
    }
   ],
   "source": [
    "# you can supply a list of multiple species, and it will compute profiles for each\n",
    "# thus, it returns a dictionary for each species\n",
    "\n",
    "pro.keys()"
   ]
  },
  {
   "cell_type": "code",
   "execution_count": 186,
   "metadata": {},
   "outputs": [
    {
     "data": {
      "text/plain": "dict_keys(['sum', 'sum.cum', 'log sum', 'log sum.cum', 'density', 'log density', 'density.cum', 'log density.cum', 'density*r', 'log density*r', 'density*r^2', 'log density*r^2', 'distance.mid', 'distance.cum', 'log distance.mid', 'log distance.cum', 'sum.fraction', 'sum.cum.fraction', 'vel.circ'])"
     },
     "execution_count": 186,
     "metadata": {},
     "output_type": "execute_result"
    }
   ],
   "source": [
    "# the quantities that it stores in each bin\n",
    "\n",
    "pro['star'].keys()"
   ]
  },
  {
   "cell_type": "code",
   "execution_count": 187,
   "metadata": {},
   "outputs": [],
   "source": [
    "# alternately, you may want to compute profiles along a disk's cylindrical R or Z axes\n",
    "# if so, first define the dimensionality of the profile when you initiate the class\n",
    "\n",
    "# log binning from 0.1 to 10 kpc with 0.1 dex bin width, assuming a 2-D profile (along R)\n",
    "SpeciesProfile = ut.particle.SpeciesProfileClass(\n",
    "    limits=[0.1, 10], width=0.1, log_scale=True, dimension_number=2)"
   ]
  },
  {
   "cell_type": "code",
   "execution_count": 188,
   "metadata": {},
   "outputs": [
    {
     "name": "stdout",
     "output_type": "stream",
     "text": "\n# in utilities.particle.SpeciesProfile():\n  input  2097166 distances -  2064222 (98.4%) are within limits = [0.100, 10.000]\n"
    }
   ],
   "source": [
    "# set rotation=True to force the code to compute profiles along the principal axes (assuming that you read them in)\n",
    "# use other_axis_distance_limits to limit the extent along the other axis, \n",
    "#   in this case, limit the Z axis to within +/- 1 kpc (in the profile, all distances are absolute)\n",
    "\n",
    "pro = SpeciesProfile.get_sum_profiles(\n",
    "    part, 'star', 'mass', rotation=True, other_axis_distance_limits=[0, 1])"
   ]
  },
  {
   "cell_type": "code",
   "execution_count": 189,
   "metadata": {},
   "outputs": [
    {
     "name": "stdout",
     "output_type": "stream",
     "text": "\n# in utilities.particle.SpeciesProfile():\n  input   293273 distances -   259637 (88.5%) are within limits = [0.100, 10.000]\n"
    }
   ],
   "source": [
    "# similarly, do this to compute profiles along disk's Z axis\n",
    "\n",
    "# log binning from 0.1 to 10 kpc with 0.1 dex bin width, assuming a 1-D profile (along Z)\n",
    "SpeciesProfile = ut.particle.SpeciesProfileClass(\n",
    "    limits=[0.1, 10], width=0.1, log_scale=True, dimension_number=1)\n",
    "\n",
    "# limit the R axex to [5, 8] kpc \n",
    "pro = SpeciesProfile.get_sum_profiles(\n",
    "    part, 'star', 'mass', rotation=True, other_axis_distance_limits=[5, 8])"
   ]
  },
  {
   "cell_type": "code",
   "execution_count": 191,
   "metadata": {},
   "outputs": [
    {
     "name": "stdout",
     "output_type": "stream",
     "text": "input   293273 distances -   259637 (88.5%) are within limits = [0.100, 10.000]\n"
    }
   ],
   "source": [
    "# using the same binning scheme\n",
    "# this function computes various statistics of a property of star particles in each bin\n",
    "# below, it  weights the property by the mass of each star particle (generally what you should do)\n",
    "# this returns a bunch of useful statistics via a dictionary\n",
    "\n",
    "pro = SpeciesProfile.get_statistics_profiles(\n",
    "    part, 'star', 'age', weight_by_mass=True, rotation=True, other_axis_distance_limits=[5, 8])"
   ]
  },
  {
   "cell_type": "code",
   "execution_count": 192,
   "metadata": {},
   "outputs": [
    {
     "data": {
      "text/plain": "dict_keys(['limits', 'number', 'median', 'percent.16', 'percent.84', 'percent.2', 'percent.98', 'percent.0.1', 'percent.99.9', 'percent.25', 'percent.75', 'percents.68', 'percents.95', 'median.dif.2', 'median.dif.16', 'median.dif.84', 'median.dif.98', 'median.difs.68', 'median.difs.95', 'average', 'std', 'sem', 'std.lo', 'std.hi', 'min', 'max', 'percent.50', 'average.50', 'sem.lo', 'sem.hi', 'distance.mid', 'distance.cum', 'log distance.mid', 'log distance.cum'])"
     },
     "execution_count": 192,
     "metadata": {},
     "output_type": "execute_result"
    }
   ],
   "source": [
    "# the quantities that it stores in each bin\n",
    "\n",
    "pro['star'].keys()"
   ]
  },
  {
   "cell_type": "code",
   "execution_count": null,
   "metadata": {},
   "outputs": [],
   "source": []
  }
 ],
 "metadata": {
  "anaconda-cloud": {},
  "kernelspec": {
   "display_name": "Python 3",
   "language": "python",
   "name": "python3"
  },
  "language_info": {
   "codemirror_mode": {
    "name": "ipython",
    "version": 3
   },
   "file_extension": ".py",
   "mimetype": "text/x-python",
   "name": "python",
   "nbconvert_exporter": "python",
   "pygments_lexer": "ipython3",
   "version": "3.7.7-final"
  }
 },
 "nbformat": 4,
 "nbformat_minor": 1
}