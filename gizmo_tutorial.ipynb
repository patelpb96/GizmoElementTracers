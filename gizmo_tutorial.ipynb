{
 "cells": [
  {
   "cell_type": "markdown",
   "source": [
    "This tutorial walks you through using the GizmoAnalysis package to read Gizmo simulation snapshots and analyzing them.\n",
    "\n",
    "@author:\n",
    "    Andrew Wetzel <arwetzel@gmail.com>\n",
    "    Andrew Emerick <aemerick11@gmail.com>\n",
    "    Isaiah Santistevan <ibsantistevan@ucdavis.edu>\n",
    "\n",
    "\n",
    "### Downloading the _GizmoAnalysis_ and _utilities_ python packages\n",
    "\n",
    "First, download or clone the _GizmoAnalysis_ and _utilities_ python packages from here:\n",
    "-  _GizmoAnalysis_ : https://bitbucket.org/awetzel/gizmo_analysis\n",
    "-  _Utilities_ : https://bitbucket.org/awetzel/utilities\n",
    "\n",
    "You can either clone them via Git typing the command \"git clone __[repository link above]__\" in your command terminal, or, you can download the repository by clicking on the ellipsis (the \"...\" button) and clicking \"Download repository\".\n",
    "\n",
    "\n",
    "### Paths\n",
    "\n",
    "Ensure that the \"*gizmo_analysis*\" and \"*utilities*\" package directories are in your Python path. This will make sure that python knows where these packages are to be able to use them. You may need to look up which file you need to define the paths in. One common place is in a file called the \"**.bashrc**\" file, which is typically stored in your home directory. (Itmay not be visible with a simple \"ls\" command; try using \"ls -a\" instead.)\n",
    "\n",
    "An example of what is in my \"**.bashrc**\" file is:\n",
    "\n",
    "export HOME=\"/Users/awetzel\"\n",
    "\n",
    "export PYTHONPATH=$HOME/anaconda/bin:$HOME/analysis\n",
    "\n",
    "The first line points my home directory, and the second line points to the directory where I have python installed, as well as the directory where I have the simulation data, \"*gizmo_analysis*\", and \"*utilities*\" package directories saved. *__You will need to make sure that your paths point to your own home directory and the directory where you save the data and analysis packages.__*\n",
    "\n",
    "\n",
    "### Simulation directory\n",
    "\n",
    "Move within a simulation directory, or set simulation_directory below to point to one. This directory should contain:\n",
    "- a sub-directory __output/__ that contains Gizmo snapshot files: __snapshot_NNN.hdf5__ or __snapdir_NNN/snapshot_NNN.B.hdf5__, where NNN is the snapshot index, and B is the snapshot file block index\n",
    "- a text file __snapshot_times.txt__ that lists the scale-factors, redshifts, times, and indices of all snapshots stored from the simulation\n",
    "- (optionally but ideally) a sub-directory __initial_condition/__ that contains a MUSIC configuration file named __*.conf__ that stores all 6 cosmological parameters. If the simulation directory does not contain, this, GizmoAnalysis will assume the same cosmological parameters as in the AGORA simulation for whichever parameters it cannot read from the Gizmo snapshot header."
   ],
   "metadata": {}
  },
  {
   "cell_type": "code",
   "execution_count": null,
   "source": [
    "import gizmo_analysis as gizmo\n",
    "import utilities as ut\n",
    "\n",
    "import numpy as np\n",
    "\n",
    "%matplotlib inline\n",
    "import matplotlib.pyplot as plt"
   ],
   "outputs": [],
   "metadata": {}
  },
  {
   "cell_type": "code",
   "execution_count": null,
   "source": [
    "# you can access the files as named or use the aliases in __init__.py to keep it shorter \n",
    "# for example, these are the same:\n",
    "\n",
    "gizmo.gizmo_io\n",
    "gizmo.io"
   ],
   "outputs": [],
   "metadata": {}
  },
  {
   "cell_type": "markdown",
   "source": [
    "# read particle data"
   ],
   "metadata": {}
  },
  {
   "cell_type": "code",
   "execution_count": null,
   "source": [
    "# we recommend that you copy this jupyter notebook tutorial into a simulation directory \n",
    "# (for example, m12i_res7100/) and run from there.\n",
    "# however, you can set simulation_directory below to point to any simulation directory and then run this notebook from anywhere\n",
    "\n",
    "# use this is you are running from within a simulation directory\n",
    "#simulation_directory = '.'\n",
    "\n",
    "# use this to point to a specific simulation directory, if you run this notebook from somwhere else\n",
    "simulation_directory = '/Users/awetzel/work/research/simulation/gizmo/simulations/m12/m12i/m12i_res7100'"
   ],
   "outputs": [],
   "metadata": {}
  },
  {
   "cell_type": "code",
   "execution_count": null,
   "source": [
    "# read star and dark-matter particles at z = 0\n",
    "\n",
    "part = gizmo.io.Read.read_snapshots(['star', 'dark'], 'redshift', 0, simulation_directory)"
   ],
   "outputs": [],
   "metadata": {}
  },
  {
   "cell_type": "code",
   "execution_count": null,
   "source": [
    "# alternately, read all particle species at z = 0\n",
    "\n",
    "part = gizmo.io.Read.read_snapshots('all', 'redshift', 0, simulation_directory)"
   ],
   "outputs": [],
   "metadata": {}
  },
  {
   "cell_type": "code",
   "execution_count": null,
   "source": [
    "# part is a dictionary with each particle species name as key\n",
    "# 'star' = stars, 'gas' = gas, 'dark' = dark matter,\n",
    "# 'dark2', 'dark3', 'dark4', etc = low-resolution dark matter (you rarely will be interested in it)\n",
    "\n",
    "part.keys()"
   ],
   "outputs": [],
   "metadata": {}
  },
  {
   "cell_type": "code",
   "execution_count": null,
   "source": [
    "# each species is its own dictionary that contains arrays of properties\n",
    "\n",
    "part['star'].keys()"
   ],
   "outputs": [],
   "metadata": {}
  },
  {
   "cell_type": "code",
   "execution_count": null,
   "source": [
    "# list the properties of dark-matter particles\n",
    "\n",
    "part['dark'].keys()"
   ],
   "outputs": [],
   "metadata": {}
  },
  {
   "cell_type": "code",
   "execution_count": null,
   "source": [
    "# list the properties of gas particles\n",
    "\n",
    "part['gas'].keys()"
   ],
   "outputs": [],
   "metadata": {}
  },
  {
   "cell_type": "markdown",
   "source": [
    "# particle properties"
   ],
   "metadata": {}
  },
  {
   "cell_type": "code",
   "execution_count": null,
   "source": [
    "# 3-D position of each star particle, stored in a particle_number x dimension_number array [kpc comoving]\n",
    "\n",
    "part['star']['position']"
   ],
   "outputs": [],
   "metadata": {}
  },
  {
   "cell_type": "code",
   "execution_count": null,
   "source": [
    "# 3-D velocity of each star particle (particle_number x dimension_number array) [km / s]\n",
    "\n",
    "part['star']['velocity']"
   ],
   "outputs": [],
   "metadata": {}
  },
  {
   "cell_type": "code",
   "execution_count": null,
   "source": [
    "# mass of each star particle [M_sun]\n",
    "\n",
    "part['star']['mass']"
   ],
   "outputs": [],
   "metadata": {}
  },
  {
   "cell_type": "code",
   "execution_count": null,
   "source": [
    "# formation scale-factor of each star particle\n",
    "\n",
    "part['star']['form.scalefactor']"
   ],
   "outputs": [],
   "metadata": {}
  },
  {
   "cell_type": "code",
   "execution_count": null,
   "source": [
    "# IMPORTANT FEATURE\n",
    "# use .prop() to compute derived quantities, such as the time [in Gyr] when each star particle formed\n",
    "# see gizmo.io.ParticleDictionaryClass for all options for derived quantities\n",
    "\n",
    "part['star'].prop('form.time')"
   ],
   "outputs": [],
   "metadata": {}
  },
  {
   "cell_type": "code",
   "execution_count": null,
   "source": [
    "# similarly, get the age of each star particle (the lookback time to when it formed) [Gyr]\n",
    "\n",
    "part['star'].prop('age')"
   ],
   "outputs": [],
   "metadata": {}
  },
  {
   "cell_type": "code",
   "execution_count": null,
   "source": [
    "# get the mass of each star particle when it formed [Msun], using the stellar evolution tracks in Gizmo\n",
    "# this initially sets up an internally stored spline to compute this\n",
    "\n",
    "part['star'].prop('form.mass')"
   ],
   "outputs": [],
   "metadata": {}
  },
  {
   "cell_type": "markdown",
   "source": [
    "# elemental abundances (metallicities)"
   ],
   "metadata": {}
  },
  {
   "cell_type": "code",
   "execution_count": null,
   "source": [
    "# elemental abundances are stored in the particle catalog as linear mass fractions\n",
    "# one value for each element, in a particle_number x element_number array\n",
    "# the first value is the mass fraction of all metals (everything not H, He)\n",
    "# then He, C, N, O, etc\n",
    "\n",
    "part['star']['massfraction']"
   ],
   "outputs": [],
   "metadata": {}
  },
  {
   "cell_type": "code",
   "execution_count": null,
   "source": [
    "# get individual elements by their array index\n",
    "\n",
    "# total metal mass fraction (everything not H, He) is index 0\n",
    "print(part['star']['massfraction'][:, 0])\n",
    "\n",
    "# iron is index 10\n",
    "print(part['star']['massfraction'][:, 10])"
   ],
   "outputs": [],
   "metadata": {}
  },
  {
   "cell_type": "code",
   "execution_count": null,
   "source": [
    "# more conveniently, use .prop() to compute derived quantities, including calling element by its name or symbol\n",
    "# see gizmo.io.ParticleDictionaryClass for all options for derived quantities\n",
    "\n",
    "print(part['star'].prop('massfraction.metals'))\n",
    "print(part['star'].prop('massfraction.carbon'))\n",
    "print(part['star'].prop('massfraction.iron'))\n",
    "print(part['star'].prop('massfraction.fe'))  # you can use name or symbol"
   ],
   "outputs": [],
   "metadata": {}
  },
  {
   "cell_type": "code",
   "execution_count": null,
   "source": [
    "# also use .prop() to compute 'metallicity' [Z / H]\n",
    "# for example, iron abundance [Fe / H] :=\n",
    "#   log10((mass_iron / mass_hydrogen)_particle / (mass_iron / mass_hydrogen)_sun)\n",
    "# GizmoAnalysis assumes solar abundances from Asplund et al 2009\n",
    "\n",
    "print(part['star'].prop('metallicity.metals'))\n",
    "print(part['star'].prop('metallicity.fe'))"
   ],
   "outputs": [],
   "metadata": {}
  },
  {
   "cell_type": "code",
   "execution_count": null,
   "source": [
    "# you also can use .prop() to compute simple arithmetic combinations, such as [Mg / Fe]\n",
    "\n",
    "part['star'].prop('metallicity.mg - metallicity.fe')"
   ],
   "outputs": [],
   "metadata": {}
  },
  {
   "cell_type": "code",
   "execution_count": null,
   "source": [
    "# refer to utilities.constant for assumed solar values (Asplund et al 2009) and other constants\n",
    "\n",
    "ut.constant.sun_abundance\n",
    "ut.constant.sun_massfraction"
   ],
   "outputs": [],
   "metadata": {}
  },
  {
   "cell_type": "markdown",
   "source": [
    "# meta-data about simulation"
   ],
   "metadata": {}
  },
  {
   "cell_type": "markdown",
   "source": [
    "The dictionary that stores the particle catalog is actually a dictionary class. It also stores meta-data about the simulation and ancillary data/functions via appended dictionaries, classes, and arrays."
   ],
   "metadata": {}
  },
  {
   "cell_type": "code",
   "execution_count": null,
   "source": [
    "# dictionary of useful information about the simulation\n",
    "\n",
    "part.info"
   ],
   "outputs": [],
   "metadata": {}
  },
  {
   "cell_type": "code",
   "execution_count": null,
   "source": [
    "# dictionary of information about the snapshot that you read\n",
    "# its index (number), scale-factor, redshift, time, lookback-time\n",
    "\n",
    "part.snapshot"
   ],
   "outputs": [],
   "metadata": {}
  },
  {
   "cell_type": "code",
   "execution_count": null,
   "source": [
    "# dictionary class with information about *all* snapshots (typically ~600) saved for this simulation\n",
    "\n",
    "print(part.Snapshot.keys())\n",
    "print(part.Snapshot['redshift'][:10])"
   ],
   "outputs": [],
   "metadata": {}
  },
  {
   "cell_type": "code",
   "execution_count": null,
   "source": [
    "# dictionary class of cosmological parameters, with internal functions for cosmological conversions\n",
    "# see utilities.cosmology for more\n",
    "\n",
    "part.Cosmology"
   ],
   "outputs": [],
   "metadata": {}
  },
  {
   "cell_type": "markdown",
   "source": [
    "See gizmo_plot.py (which you can access here via gizmo.plot) for examples of analyzing and plotting particle data.\n",
    "\n",
    "See utilities/particle.py (which you can acces here via ut.particle) for mid-level analysis functions that may be useful.\n",
    "\n",
    "See other modules within utilities for low-level functions that may be useful."
   ],
   "metadata": {}
  },
  {
   "cell_type": "markdown",
   "source": [
    "# coordinates of host galaxy/halo and principal axes of stellar disk"
   ],
   "metadata": {}
  },
  {
   "cell_type": "markdown",
   "source": [
    "If you enable gizmo.io.Read.read_snapshots(assign_hosts=True) (which is True by default), then during read-in, GizmoAnalysis assigns the position and velocity of the host galaxy/halo (using stars for a baryonic simulations and dark matter for a dark-matter-only simulation). GizmoAnalysis stores these coordinates in arrays appended to the particle dictionary.\n",
    "\n",
    "Most simulations have a single host galaxy/halo, but some (like ELVIS) contain 2 (or more). You can control the number of hosts via: read_snapshots(host_number=2) (by deafult, host_number=1).\n",
    "\n",
    "Once the code assigns the coordinates of each host, it also can compute the 'orientation' of the disk, by computing the rotation tensor and axis ratios of the principal axes of each host's stellar disk, defined via the moment of inertia tensor of young star particles. Enable this via: read_snapshots(assign_hosts_rotation=True) (by default, assign_hosts_rotation=False).\n",
    "\n",
    "If someone has run particle tracking on the simulation, including generating a file track/host_coordinates.hdf5, this stores the posiion, velocity, rotation tensor, and axis ratio of each host galaxy at each snapshot, so you do not have to re-compute during every read. If you set assign_hosts=True or assign_hosts_rotation=True in read_snapshots(), then GizmoAnalysis first will look for this file, and assign the host information stored in it, but if it does not find the file, GizmoAnalysis will assign these host properties on the fly during read."
   ],
   "metadata": {}
  },
  {
   "cell_type": "code",
   "execution_count": null,
   "source": [
    "# position [kpc comoving] and velocity [km / s] of the center of each host galaxy\n",
    "# can store multiple hosts, though usually just one\n",
    "\n",
    "print(part.host['position'])\n",
    "print(part.host['velocity'])"
   ],
   "outputs": [],
   "metadata": {}
  },
  {
   "cell_type": "code",
   "execution_count": null,
   "source": [
    "# compute and assign the rotation tensor and axis ratios of the principal axes (defined via moment of inertia tensor) of stars in each host,  during read in as below\n",
    "\n",
    "part = gizmo.io.Read.read_snapshots(['star', 'dark'], 'redshift', 0, simulation_directory, assign_hosts_rotation=True)"
   ],
   "outputs": [],
   "metadata": {}
  },
  {
   "cell_type": "code",
   "execution_count": null,
   "source": [
    "# stores the rotation tensor, to rotate into the principal axes for each host\n",
    "\n",
    "print(part.host['rotation'])"
   ],
   "outputs": [],
   "metadata": {}
  },
  {
   "cell_type": "code",
   "execution_count": null,
   "source": [
    "# and stores the axis ratios (min/maj, min/med, med/maj) for each host\n",
    "\n",
    "print(part.host['axis.ratios'])"
   ],
   "outputs": [],
   "metadata": {}
  },
  {
   "cell_type": "code",
   "execution_count": null,
   "source": [
    "# now you can compute different types of distances of star particles from the center of each host galaxy\n",
    "# using .prop() to call derived quantities\n",
    "# compute 3-D distance from the host center along simulation's default x,y,z cartesian axes [kpc physical]\n",
    "\n",
    "part['star'].prop('host.distance')"
   ],
   "outputs": [],
   "metadata": {}
  },
  {
   "cell_type": "code",
   "execution_count": null,
   "source": [
    "# add '.total' to compute total (scalar) distance [kpc physical]\n",
    "\n",
    "part['star'].prop('host.distance.total')"
   ],
   "outputs": [],
   "metadata": {}
  },
  {
   "cell_type": "code",
   "execution_count": null,
   "source": [
    "# add '.principal' to compute 3-D distance aligned with the principal (major, intermediate, minor) axes of each host's stellar disk [kpc physical]\n",
    "\n",
    "part['star'].prop('host.distance.principal')"
   ],
   "outputs": [],
   "metadata": {}
  },
  {
   "cell_type": "code",
   "execution_count": null,
   "source": [
    "# add '.cylindrical' or '.cyl' to compute 3-D distance aligned with the principal axes in cylindrical coordinates\n",
    "# first value is along the major axes (R, positive definite) [kpc physical]\n",
    "# second value is angle (phi, 0 to 2 * pi) [radian]\n",
    "# third value is vertical height wrt the disk (Z, signed) [kpc physical]\n",
    "\n",
    "part['star'].prop('host.distance.principal.cylindrical')"
   ],
   "outputs": [],
   "metadata": {}
  },
  {
   "cell_type": "code",
   "execution_count": null,
   "source": [
    "# same for velocity\n",
    "# compute 3-D velocity from each host galaxy center along simulation's default x,y,z cartesian axes [km / s]\n",
    "\n",
    "part['star'].prop('host.velocity')"
   ],
   "outputs": [],
   "metadata": {}
  },
  {
   "cell_type": "code",
   "execution_count": null,
   "source": [
    "# compute total (scalar) velocity [km / s]\n",
    "\n",
    "part['star'].prop('host.velocity.total')"
   ],
   "outputs": [],
   "metadata": {}
  },
  {
   "cell_type": "code",
   "execution_count": null,
   "source": [
    "# compute 3-D velocity along the principal (major, intermediate, minor) axes [km / s]\n",
    "\n",
    "part['star'].prop('host.velocity.principal')"
   ],
   "outputs": [],
   "metadata": {}
  },
  {
   "cell_type": "code",
   "execution_count": null,
   "source": [
    "# compute 3-D velocity in cylindrical coordinates\n",
    "# first value is along the major axes (positive definite)\n",
    "# secod value is azimuthal velocity in the plane of the disk (positive definite)\n",
    "# third value is vertical velocity wrt the disk (signed)\n",
    "\n",
    "part['star'].prop('host.velocity.principal.cylindrical')"
   ],
   "outputs": [],
   "metadata": {}
  },
  {
   "cell_type": "code",
   "execution_count": null,
   "source": [
    "# if you want to store multiple hosts (such as for the ELVIS Local Group-like paired host simulations), \n",
    "# set host_number=2 during read-in\n",
    "# in fact, you can do this for any simulation, it simply finds the second most massive galaxy in the zoom-in region\n",
    "\n",
    "part = gizmo.io.Read.read_snapshots(['star', 'dark'], 'redshift', 0, simulation_directory, host_number=2, assign_hosts='mass', assign_hosts_rotation=True)"
   ],
   "outputs": [],
   "metadata": {}
  },
  {
   "cell_type": "code",
   "execution_count": null,
   "source": [
    "# everything above still works, just use 'host', 'host2', 'host3', etc to identify which host you want coordinates relative to\n",
    "\n",
    "print(part['star'].prop('host.distance'))\n",
    "print(part['star'].prop('host2.distance'))"
   ],
   "outputs": [],
   "metadata": {}
  },
  {
   "cell_type": "code",
   "execution_count": null,
   "source": [
    "# the particle dictionary stores coordinates and rotation tensors for each host\n",
    "\n",
    "print(part.host['position'])\n",
    "print(part.host['velocity'])\n",
    "print(part.host['rotation'])\n",
    "print(part.host['axis.ratios'])"
   ],
   "outputs": [],
   "metadata": {}
  },
  {
   "cell_type": "markdown",
   "source": [
    "# Tracking star + gas particles across snapshots"
   ],
   "metadata": {}
  },
  {
   "cell_type": "markdown",
   "source": [
    "Some simulations have .hdf5 files for tracking star + gas particles over time. By default, we store these files in the directory 'track/' (if present). gizmo_track.py contains the code that generates and reads these files."
   ],
   "metadata": {}
  },
  {
   "cell_type": "markdown",
   "source": [
    "Files named __star\\_gas\\_pointers\\_\\*.hdf5__ store, for each star and gas particles at z = 0, a pointer to its array index in the catalog at each previous snapshot (replace * with snapshot index). This makes it easy to get the properties of a given star particle at any previous snapshot. We store these pointers in a .hdf5 file, one for each previous snapshot."
   ],
   "metadata": {}
  },
  {
   "cell_type": "markdown",
   "source": [
    "### Tracking between z = 0 and a previous snapshot\n",
    "\n",
    "__EXAMPLE:__\n",
    "\n",
    "Say you want to find out what star and gas particles were doing at $z = 2$.\n",
    "\n",
    "First, read in the particle catalog at $z = 0$"
   ],
   "metadata": {}
  },
  {
   "cell_type": "code",
   "execution_count": null,
   "source": [
    "# Read catalog of star and gas particles at z = 0\n",
    "\n",
    "part_at_z0 = gizmo.io.Read.read_snapshots(['star', 'gas'], 'redshift', 0, simulation_directory)"
   ],
   "outputs": [],
   "metadata": {}
  },
  {
   "cell_type": "markdown",
   "source": [
    "Now, read particles at $z = 2$. Set __assign_pointers=True__ to assign pointers to the particle catalog at $z = 2$."
   ],
   "metadata": {}
  },
  {
   "cell_type": "code",
   "execution_count": null,
   "source": [
    "# Read in catalog of star and gas particles at z = 2 (corresponding to snapshot 172)\n",
    "\n",
    "part_at_z2 = gizmo.io.Read.read_snapshots(\n",
    "    ['star', 'gas'], 'redshift', 2, simulation_directory, assign_pointers=True)"
   ],
   "outputs": [],
   "metadata": {}
  },
  {
   "cell_type": "markdown",
   "source": [
    "We store particle pointers via a dictionary class that is appended to the particle catalog dictionary. A negative value for a pointer means that the star formed after this snapshot, so it does not exist at this snapshot."
   ],
   "metadata": {}
  },
  {
   "cell_type": "code",
   "execution_count": null,
   "source": [
    "part_at_z2.Pointer"
   ],
   "outputs": [],
   "metadata": {}
  },
  {
   "cell_type": "code",
   "execution_count": null,
   "source": [
    "# the particle species that we have compiled tracking pointers for\n",
    "\n",
    "part_at_z2.Pointer['species']"
   ],
   "outputs": [],
   "metadata": {}
  },
  {
   "cell_type": "markdown",
   "source": [
    "Print the snapshot indices at $z = 2$ and at the reference redshift, which is $z = 0$."
   ],
   "metadata": {}
  },
  {
   "cell_type": "code",
   "execution_count": null,
   "source": [
    "# the snapshot indices at this redshift (z = 2) and at the reference redshift (z = 0)\n",
    "\n",
    "print(part_at_z2.Pointer['z.snapshot.index'])\n",
    "print(part_at_z2.Pointer['z0.snapshot.index'])"
   ],
   "outputs": [],
   "metadata": {}
  },
  {
   "cell_type": "markdown",
   "source": [
    "See the number of particles at $z = 2$ and at $z = 0$"
   ],
   "metadata": {}
  },
  {
   "cell_type": "code",
   "execution_count": null,
   "source": [
    "# The number of particles at this redshift (z = 2) and at the reference redshift (z = 0)\n",
    "\n",
    "print(part_at_z2.Pointer['z.star.number'])\n",
    "print(part_at_z2.Pointer['z.gas.number'])\n",
    "\n",
    "print(part_at_z2.Pointer['z0.star.number'])\n",
    "print(part_at_z2.Pointer['z0.gas.number'])"
   ],
   "outputs": [],
   "metadata": {}
  },
  {
   "cell_type": "markdown",
   "source": [
    "The dictionaries below store the actual pointer indices. Because gas particles can become star particles, the code stores the pointers from this combined gas + star list at $z = 0$ to $z$."
   ],
   "metadata": {}
  },
  {
   "cell_type": "code",
   "execution_count": null,
   "source": [
    "print(part_at_z2.Pointer['z0.to.z.index'])\n",
    "\n",
    "# this also stores the limits of the indices of each species at each snapshot, \n",
    "# so you can convert back to the index within the individual star list or the individual gas list \n",
    "# (as stored in the particle catalog)\n",
    "print(part_at_z2.Pointer['z.star.index.limits'])\n",
    "print(part_at_z2.Pointer['z.gas.index.limits'])\n",
    "\n",
    "print(part_at_z2.Pointer['z0.star.index.limits'])\n",
    "print(part_at_z2.Pointer['z0.gas.index.limits'])"
   ],
   "outputs": [],
   "metadata": {}
  },
  {
   "cell_type": "markdown",
   "source": [
    "___Even easier___, you can use this function to get pointers for a given species from $z = 0$ to $z = 2$."
   ],
   "metadata": {}
  },
  {
   "cell_type": "code",
   "execution_count": null,
   "source": [
    "pointers = part_at_z2.Pointer.get_pointers(species_name_from='star', species_names_to='star')"
   ],
   "outputs": [],
   "metadata": {}
  },
  {
   "cell_type": "markdown",
   "source": [
    "__A more specific example__\n",
    "\n",
    "Say you have a list of star particle indices of interest at $z = 0$. Put more simply, in the star particle dictionary, there are specific stars at specific locations in the arrays that you want at $z = 0$.\n",
    "\n",
    "Save those indices to an array and print out their positions at $z = 0$."
   ],
   "metadata": {}
  },
  {
   "cell_type": "code",
   "execution_count": null,
   "source": [
    "indices_at_z0 = np.array([2, 4])\n",
    "\n",
    "# list their positions at z = 0\n",
    "part_at_z0['star']['position'][indices_at_z0]"
   ],
   "outputs": [],
   "metadata": {}
  },
  {
   "cell_type": "markdown",
   "source": [
    "Now, you can get their indices in the particle catalog at $z = 2$ using the following command. Remember that negative indices means that the star particle did not exist at $z = 2$!"
   ],
   "metadata": {}
  },
  {
   "cell_type": "code",
   "execution_count": null,
   "source": [
    "indices_at_z2 = pointers[indices_at_z0]\n",
    "print(indices_at_z2)"
   ],
   "outputs": [],
   "metadata": {}
  },
  {
   "cell_type": "markdown",
   "source": [
    "Now you can easily get any property of interest at $z = 2$. Print out their positions with:"
   ],
   "metadata": {}
  },
  {
   "cell_type": "code",
   "execution_count": null,
   "source": [
    "part_at_z2['star']['position'][indices_at_z2]"
   ],
   "outputs": [],
   "metadata": {}
  },
  {
   "cell_type": "code",
   "execution_count": null,
   "source": [
    "# alternatively, you can track particles going forward in time by setting forward=True\n",
    "\n",
    "pointers = part_at_z2.Pointer.get_pointers(species_name_from='star', species_names_to='star', forward=True)\n",
    "\n",
    "indices_at_z2 = np.array([5, 8, 13])\n",
    "indices_at_z0 = pointers[indices_at_z2]\n",
    "print(indices_at_z0)\n",
    "print(part_at_z0['star']['position'][indices_at_z0])"
   ],
   "outputs": [],
   "metadata": {}
  },
  {
   "cell_type": "code",
   "execution_count": null,
   "source": [
    "# also, you can track star particles back to both progenitor star and progenitor gas particles\n",
    "\n",
    "pointers = part_at_z2.Pointer.get_pointers(species_name_from='star', species_names_to=['star', 'gas'])\n",
    "\n",
    "# but now, pointers is a *dictionary* that stores both the index and species of each progenitor particle\n",
    "print(pointers)\n",
    "\n",
    "# get star particle indices at z = 0 and see what they were at z = 2\n",
    "star_indices_at_z0 = np.array([0, 5, 8, 13])\n",
    "print(pointers['species'][star_indices_at_z0], pointers['index'][star_indices_at_z0])\n",
    "\n",
    "# get those that were gas particles\n",
    "masks = np.where(pointers['species'][star_indices_at_z0] == 'gas')[0]\n",
    "\n",
    "gas_indices_at_z2 = pointers['index'][star_indices_at_z0[masks]]\n",
    "\n",
    "print(gas_indices_at_z2)\n",
    "print(part_at_z2['gas']['position'][gas_indices_at_z2])"
   ],
   "outputs": [],
   "metadata": {}
  },
  {
   "cell_type": "code",
   "execution_count": null,
   "source": [
    "# similar for working forward in time, track gas particles at z that can be star or gas particles at z = 0\n",
    "\n",
    "pointers = part_at_z2.Pointer.get_pointers(\n",
    "    species_name_from='gas', species_names_to=['star', 'gas'], forward=True)\n",
    "\n",
    "# get gas indices at z = 2 and see what they end up as at z = 0\n",
    "gas_indices_at_z2 = np.array([0, 5, 8, 13])\n",
    "print(pointers['species'][gas_indices_at_z2])\n",
    "print(pointers['index'][gas_indices_at_z2])\n",
    "\n",
    "# get those that are star particles at z = 0\n",
    "masks = np.where(pointers['species'][gas_indices_at_z2] == 'star')[0]\n",
    "\n",
    "star_indices_at_z0 = pointers['index'][gas_indices_at_z2[masks]]\n",
    "\n",
    "print(star_indices_at_z0)\n",
    "print(part_at_z0['star']['position'][star_indices_at_z0])"
   ],
   "outputs": [],
   "metadata": {}
  },
  {
   "cell_type": "markdown",
   "source": [
    "### tracking between 2 snapshots when both are at z > 0"
   ],
   "metadata": {}
  },
  {
   "cell_type": "code",
   "execution_count": null,
   "source": [
    "# particle tracking also can handle tracking particles between any 2 snapshots\n",
    "\n",
    "# read catalogs of star and gas particles at z = 1 and 2, including their pointers relative to z = 0\n",
    "# set asign_pointers=True automatically to append pointer class to each particle catalog\n",
    "part_at_z1 = gizmo.io.Read.read_snapshots(\n",
    "    ['star', 'gas'], 'redshift', 1, simulation_directory, assign_pointers=True)\n",
    "part_at_z2 = gizmo.io.Read.read_snapshots(\n",
    "    ['star', 'gas'], 'redshift', 2, simulation_directory, assign_pointers=True)"
   ],
   "outputs": [],
   "metadata": {}
  },
  {
   "cell_type": "code",
   "execution_count": null,
   "source": [
    "# now just append intermediate-redshift pointers (to z = 1) to pointers at z = 2\n",
    "\n",
    "part_at_z2.Pointer.add_intermediate_pointers(part_at_z1.Pointer)"
   ],
   "outputs": [],
   "metadata": {}
  },
  {
   "cell_type": "code",
   "execution_count": null,
   "source": [
    "# now you can access pointers from z = 1 to z = 2, by setting intermediate_snapshot=True\n",
    "\n",
    "pointers = part_at_z2.Pointer.get_pointers(\n",
    "    species_name_from='star', species_names_to=['star', 'gas'], intermediate_snapshot=True)\n",
    "\n",
    "# get star indices at z = 0 and see what they were at z = 2\n",
    "star_indices_at_z1 = np.array([0, 5, 8, 13])\n",
    "print(pointers['species'][star_indices_at_z1])\n",
    "print(pointers['index'][star_indices_at_z1])\n",
    "\n",
    "# get those that are star particles at z = 2\n",
    "masks = np.where(pointers['species'][star_indices_at_z1] == 'star')[0]\n",
    "\n",
    "star_indices_at_z2 = pointers['index'][star_indices_at_z1[masks]]\n",
    "\n",
    "print(star_indices_at_z2)\n",
    "print(part_at_z2['star']['position'][star_indices_at_z2])"
   ],
   "outputs": [],
   "metadata": {}
  },
  {
   "cell_type": "code",
   "execution_count": null,
   "source": [
    "# if you just want to track a single species (star -> star or gas -> gas) between 2 snapshots,\n",
    "# read_pointers_between_snapshots() makes it easy to get the pointer indices between any 2 snapshots\n",
    "\n",
    "ParticlePointer = gizmo.track.ParticlePointerClass(simulation_directory=simulation_directory)\n",
    "\n",
    "# tracking forward in time\n",
    "pointers_z2_to_z1 = ParticlePointer.read_pointers_between_snapshots(\n",
    "    snapshot_index_from=172, snapshot_index_to=277, species_name='star')\n",
    "\n",
    "# for example, see how far star particles have moved\n",
    "print(part_at_z2['star']['position'] - part_at_z1['star']['position'][pointers_z2_to_z1])\n",
    "\n",
    "\n",
    "# similar for tracking going backward in time\n",
    "pointers_z1_to_z2 = ParticlePointer.read_pointers_between_snapshots(\n",
    "    snapshot_index_from=277, snapshot_index_to=172, species_name='star')\n",
    "\n",
    "# in this case, need to select stars that existed as stars at z = 2\n",
    "masks = (pointers_z1_to_z2 >= 0)\n",
    "\n",
    "# see how far star particles have moved\n",
    "print(part_at_z1['star']['position'][masks] - part_at_z1['star']['position'][pointers_z1_to_z2[masks]])"
   ],
   "outputs": [],
   "metadata": {}
  },
  {
   "cell_type": "code",
   "execution_count": null,
   "source": [
    "# do the same, but for gas\n",
    "\n",
    "ParticlePointer = gizmo.track.ParticlePointerClass(simulation_directory=simulation_directory)\n",
    "\n",
    "# tracking going forward in time\n",
    "pointers_z2_to_z1 = ParticlePointer.read_pointers_between_snapshots(\n",
    "    snapshot_index_from=172, snapshot_index_to=277, species_name='gas')\n",
    "\n",
    "# ensure that gas particle still is a gas particle at z = 1\n",
    "masks = (pointers_z2_to_z1 >= 0)\n",
    "\n",
    "print(part_at_z2['gas']['position'][masks] - part_at_z1['gas']['position'][pointers_z2_to_z1[masks]])\n",
    "\n",
    "# tracking going backward in time\n",
    "pointers_z1_to_z2 = ParticlePointer.read_pointers_between_snapshots(\n",
    "    snapshot_index_from=277, snapshot_index_to=172, species_name='gas')\n",
    "\n",
    "# for gas, still have to ensure positive pointers, even if tracking going backward in time,\n",
    "# because a few gas particles that leave the zoom-in region get culled (for numerical stability) by z = 0\n",
    "# (remember that the pointers always route through z = 0)\n",
    "masks = (pointers_z1_to_z2 >= 0)\n",
    "\n",
    "print(part_at_z1['gas']['position'][masks] - part_at_z2['gas']['position'][pointers_z1_to_z2[masks]])"
   ],
   "outputs": [],
   "metadata": {}
  },
  {
   "cell_type": "markdown",
   "source": [
    "# star particle formation coordinates"
   ],
   "metadata": {}
  },
  {
   "cell_type": "markdown",
   "source": [
    "As part of star particle tracking, we store the position and velocity of each star particle immediately after it formed. Because we typically store snapshots every 20 - 25 Myr, this means that these 'formation' coordiantes are the coordinates of a star particle 0 to 25 Myr after it formed.\n",
    "\n",
    "Within track/, host_coordinates.hdf5 stores, for each star particle at z = 0, its 3-D distance and 3-D velocity wrt to the main host galaxy at the first snapshot after it formed. These coordinates are aligned with the principal (major, intermediate, minor) axes of the stellar disk (as defined via its moment of inertia tensor) at that snapshot."
   ],
   "metadata": {}
  },
  {
   "cell_type": "code",
   "execution_count": null,
   "source": [
    "# use the function within gizmo_track.py to read this file and assign values directly to the catalog at z = 0\n",
    "\n",
    "gizmo.track.ParticleCoordinate.io_hosts_coordinates(part_at_z0, simulation_directory, assign_formation_coordinates=True)"
   ],
   "outputs": [],
   "metadata": {}
  },
  {
   "cell_type": "code",
   "execution_count": null,
   "source": [
    "# more conveniently, you can read the formation coordinates of star particles during snapshot read-in\n",
    "# by setting assign_formation_coordinates=True\n",
    "\n",
    "part_at_z0 = gizmo.io.Read.read_snapshots(\n",
    "    ['star'], 'redshift', 0, simulation_directory, assign_hosts_rotation=True, \n",
    "    assign_formation_coordinates=True)"
   ],
   "outputs": [],
   "metadata": {}
  },
  {
   "cell_type": "code",
   "execution_count": null,
   "source": [
    "# 3-D distance at formation\n",
    "# this is aligned with the principal axes of each host galaxy at that time [kpc physical]\n",
    "# we compute the principal axes *independently* at each snapshot\n",
    "# distance along dimension 0 is aligned with the major axis\n",
    "# distance along dimension 1 is algined with the intermediate axis\n",
    "# distance along dimension 2 is aligned with the minor (Z) axis\n",
    "\n",
    "part_at_z0['star']['form.host.distance']\n",
    "\n",
    "# part_at_z0['star']['form.host2.distance']  # if the simulation has a second host galaxy (for example, ELVIS)"
   ],
   "outputs": [],
   "metadata": {}
  },
  {
   "cell_type": "code",
   "execution_count": null,
   "source": [
    "# as before, add 'total' to get the total scalar (absolute) distance wrt each host galaxy at formation [kpc physical]\n",
    "# this is a derived quantity, so need to call via .prop()\n",
    "\n",
    "part_at_z0['star'].prop('form.host.distance.total')"
   ],
   "outputs": [],
   "metadata": {}
  },
  {
   "cell_type": "code",
   "execution_count": null,
   "source": [
    "# add 'cylindrical' to get 3-D distance at formation wrt each host galaxy in cylindrical coordinates [kpc physical]\n",
    "\n",
    "part_at_z0['star'].prop('form.host.distance.cylindrical')"
   ],
   "outputs": [],
   "metadata": {}
  },
  {
   "cell_type": "code",
   "execution_count": null,
   "source": [
    "# these values look more reasonable if you restrict to star particles that formed within a host galaxy\n",
    "\n",
    "# select particles formed at d = 0 - 8 kpc physical\n",
    "part_indices = ut.array.get_indices(part_at_z0['star'].prop('form.host.distance.total'), [0, 8])\n",
    "\n",
    "part_at_z0['star'].prop('form.host.distance.cylindrical', part_indices)"
   ],
   "outputs": [],
   "metadata": {}
  },
  {
   "cell_type": "code",
   "execution_count": null,
   "source": [
    "# same for velocity at formation\n",
    "\n",
    "print(part_at_z0['star']['form.host.velocity'])\n",
    "print(part_at_z0['star'].prop('form.host.velocity.total'))\n",
    "print(part_at_z0['star'].prop('form.host.velocity.cylindrical'))"
   ],
   "outputs": [],
   "metadata": {}
  },
  {
   "cell_type": "code",
   "execution_count": null,
   "source": [
    "# recall that we store formation postions + velocities relative to each host's principal axes\n",
    "# and that we compute the principal axes separately at each snapshot\n",
    "# thus, we also store each host's coordinates and rotation tensor (for its principal axes) at each snapshot\n",
    "# so you can use this to compute formation coordinates in the box's x,y,z coordinates if you want\n",
    "\n",
    "print(part_at_z0.hostz['position'])\n",
    "print(part_at_z0.hostz['velocity'])"
   ],
   "outputs": [],
   "metadata": {}
  },
  {
   "cell_type": "code",
   "execution_count": null,
   "source": [
    "print(part_at_z0.hostz['rotation'])\n",
    "print(part_at_z0.hostz['axis.ratios'])"
   ],
   "outputs": [],
   "metadata": {}
  },
  {
   "cell_type": "markdown",
   "source": [
    "# profile of properties"
   ],
   "metadata": {
    "collapsed": true
   }
  },
  {
   "cell_type": "markdown",
   "source": [
    "A common task is to compute a radial profile of a given quantity, such as mass density, average age, median metallicity, etc.\n",
    "\n",
    "The following functions in utilities.particle make this easier to do."
   ],
   "metadata": {}
  },
  {
   "cell_type": "code",
   "execution_count": null,
   "source": [
    "# read star particles at z = 0\n",
    "\n",
    "part = gizmo.io.Read.read_snapshots(\n",
    "    ['star'], 'redshift', 0, simulation_directory, assign_hosts_rotation=True)"
   ],
   "outputs": [],
   "metadata": {}
  },
  {
   "cell_type": "code",
   "execution_count": null,
   "source": [
    "# first, initiate an instance of SpeciesProfileClass\n",
    "# as you initialize, choose your distance/radius binning scheme:\n",
    "#   distance limits, bin width, whether to use log scaling, number of spatial dimensions of profile\n",
    "# refer to ut.binning.DistanceBinClass() for more\n",
    "\n",
    "# linear binning from 0 to 20 kpc with 1 kpc bin width, assuming a 3-D profile\n",
    "\n",
    "SpeciesProfile = ut.particle.SpeciesProfileClass(\n",
    "    limits=[0, 20], width=1, log_scale=False, dimension_number=3)"
   ],
   "outputs": [],
   "metadata": {}
  },
  {
   "cell_type": "code",
   "execution_count": null,
   "source": [
    "# using this binning scheme, compute sum/histogram/density of mass of star particles in each bin\n",
    "# this returns a bunch of summed properties via a dictionary\n",
    "\n",
    "pro = SpeciesProfile.get_sum_profiles(part, 'star', 'mass')"
   ],
   "outputs": [],
   "metadata": {}
  },
  {
   "cell_type": "code",
   "execution_count": null,
   "source": [
    "# you can supply a list of multiple species, and it will compute profiles for each\n",
    "# thus, get_sum_profiles() returns a dictionary for each species\n",
    "# 'baryon' is the sum total of stars + gas, 'total' is the sum total of all particle species\n",
    "\n",
    "pro.keys()"
   ],
   "outputs": [],
   "metadata": {}
  },
  {
   "cell_type": "code",
   "execution_count": null,
   "source": [
    "# the quantities that it stores in each bin\n",
    "\n",
    "pro['star'].keys()"
   ],
   "outputs": [],
   "metadata": {}
  },
  {
   "cell_type": "code",
   "execution_count": null,
   "source": [
    "# alternately, you may want to compute profiles along a disk's cylindrical R or Z axes\n",
    "# if so, first define the dimensionality of the profile when you initiate the class\n",
    "\n",
    "# log binning from 0.1 to 10 kpc with 0.1 dex bin width, assuming a 2-D profile (along R)\n",
    "SpeciesProfile = ut.particle.SpeciesProfileClass(\n",
    "    limits=[0.1, 10], width=0.1, log_scale=True, dimension_number=2)"
   ],
   "outputs": [],
   "metadata": {}
  },
  {
   "cell_type": "code",
   "execution_count": null,
   "source": [
    "# set rotation=True to force the code to compute profiles along the principal axes (assuming that you assign them during read in)\n",
    "# use other_axis_distance_limits to limit the extent along the other axis, \n",
    "#   in this case, limit the Z axis to within +/- 1 kpc (in the profile, all distances are absolute)\n",
    "\n",
    "pro = SpeciesProfile.get_sum_profiles(\n",
    "    part, 'star', 'mass', rotation=True, other_axis_distance_limits=[0, 1])"
   ],
   "outputs": [],
   "metadata": {}
  },
  {
   "cell_type": "code",
   "execution_count": null,
   "source": [
    "# similarly, do this to compute profiles along disk's Z axis\n",
    "\n",
    "# log binning from 0.1 to 10 kpc with 0.1 dex bin width, assuming a 1-D profile (along Z)\n",
    "SpeciesProfile = ut.particle.SpeciesProfileClass(\n",
    "    limits=[0.1, 10], width=0.1, log_scale=True, dimension_number=1)\n",
    "\n",
    "# limit the R axex to [5, 8] kpc \n",
    "pro = SpeciesProfile.get_sum_profiles(\n",
    "    part, 'star', 'mass', rotation=True, other_axis_distance_limits=[5, 8])"
   ],
   "outputs": [],
   "metadata": {}
  },
  {
   "cell_type": "code",
   "execution_count": null,
   "source": [
    "# get_statistics_profiles() computes various statistics of a property of star particles in each bin below, it weights the property by the mass of each star particle (generally what you should do)\n",
    "# this returns a bunch of useful statistics via a dictionary\n",
    "\n",
    "pro = SpeciesProfile.get_statistics_profiles(\n",
    "    part, 'star', 'age', weight_property='mass', rotation=True, other_axis_distance_limits=[5, 8])"
   ],
   "outputs": [],
   "metadata": {}
  },
  {
   "cell_type": "code",
   "execution_count": null,
   "source": [
    "# the quantities that it stores in each bin\n",
    "\n",
    "pro['star'].keys()"
   ],
   "outputs": [],
   "metadata": {}
  },
  {
   "cell_type": "markdown",
   "source": [
    "# age-tracer model for assigning elemental abundances to particles in post-processing"
   ],
   "metadata": {}
  },
  {
   "cell_type": "markdown",
   "source": [
    "WARNING: THIS IS IN PROGRESS, NOT YET READY FOR GENERAL ANALYSIS"
   ],
   "metadata": {}
  },
  {
   "cell_type": "markdown",
   "source": [
    "This section is a tutorial on using the age-tracer model to assign elemental abundaces to star and gas particles in FIRE-2 and FIRE-3 simulations. This requires that you are analyzing a simulation has has the age-tracer model enabled, via defining GALSF_FB_FIRE_AGE_TRACERS in Gizmo's Config.sh."
   ],
   "metadata": {}
  },
  {
   "cell_type": "code",
   "execution_count": null,
   "source": [
    "import gizmo_analysis as gizmo\n",
    "import utilities as ut\n",
    "\n",
    "import numpy as np\n",
    "\n",
    "%matplotlib inline\n",
    "import matplotlib.pyplot as plt"
   ],
   "outputs": [],
   "metadata": {}
  },
  {
   "cell_type": "code",
   "execution_count": null,
   "source": [
    "# use this is you are running from within a simulation directory\n",
    "#simulation_directory = '.'\n",
    "\n",
    "# use this to point to a specific simulation directory, if you run this notebook from somwhere else\n",
    "simulation_directory = '/Users/awetzel/work/research/simulation/gizmo/simulations/m12/m12i/agetracer/m12i_res57000'"
   ],
   "outputs": [],
   "metadata": {}
  },
  {
   "cell_type": "code",
   "execution_count": null,
   "source": [
    "# read star particles at z = 0 from a simulation with age tracers enabled\n",
    "\n",
    "part = gizmo.io.Read.read_snapshots(['star', 'gas'], 'index', 600, assign_hosts_rotation=True, simulation_directory=simulation_directory)"
   ],
   "outputs": [],
   "metadata": {}
  },
  {
   "cell_type": "code",
   "execution_count": null,
   "source": [
    "# the simulation has age tracers if the following flag is True\n",
    "\n",
    "part.info['has.agetracer']"
   ],
   "outputs": [],
   "metadata": {}
  },
  {
   "cell_type": "code",
   "execution_count": null,
   "source": [
    "# additional information about the age-tracer model used in the simulation\n",
    "\n",
    "# number of age bins in the age-tracer model\n",
    "print('number of age bins = {}'.format(part.info['agetracer.age.bin.number']))\n",
    "\n",
    "# if age-tracer model used bins equally spaced in log age (which is the default), the min and max age of these bins [Myr] (though GizmoAnalysis will over-ride the age min to be 0)\n",
    "if 'agetracer.age.min' in part.info:\n",
    "    print('age min,max = {}, {} Myr'.format(part.info['agetracer.age.min'], part.info['agetracer.age.max']))\n",
    "\n",
    "# alternately, if the simulation used custom age bins, this lists them\n",
    "if 'agetracer.age.bins' in part.info:\n",
    "    print('age bins = {}'.format(part.info['agetracer.age.bins']))\n",
    "\n",
    "# targeted number of age-tracer injection events per age bin\n",
    "# if <= 0, this means Gizmo deposited weights at each timestep\n",
    "print('targeted number of events per age bins = {}'.format(part.info['agetracer.event.number.per.age.bin']))"
   ],
   "outputs": [],
   "metadata": {}
  },
  {
   "cell_type": "code",
   "execution_count": null,
   "source": [
    "# if a simulation has age tracers enabled, read_snapshots() automatically sets up the nucleosynthetic yields for computing elementa abundances in the FIRE-2 model and assigns the class to the each species' particle dictionary\n",
    "\n",
    "# here we explicitly work though these steps for star particles. this works identically for gas particles\n",
    "\n",
    "#species_name = 'star'\n",
    "species_name = 'gas'"
   ],
   "outputs": [],
   "metadata": {}
  },
  {
   "cell_type": "code",
   "execution_count": null,
   "source": [
    "# create and append an age-tracer dictionary class to particle species catalog\n",
    "# this stores all age-tracer information and provides the methods to compute elemental abundances (mass fractions) for each particle from the age-tracer mass weights\n",
    "\n",
    "# pass in the snapshot header information, stored via part.info, which contains the age-tracer bin information, to set up the age bins\n",
    "part[species_name].ElementAgeTracer = gizmo.agetracer.ElementAgeTracerClass(part.info)\n",
    "\n",
    "# test of older simulations\n",
    "#element_index_start = 15\n",
    "#part[species_name].ElementAgeTracer = gizmo.agetracer.ElementAgeTracerClass#(element_index_start=element_index_start)\n",
    "#part[species_name].ElementAgeTracer.assign_age_bins(age_bin_number=16, age_min=1, age_max=14000)\n",
    "#part[species_name]['massfraction'][:, element_index_start:] *= part.Cosmology['hubble'] / 1e10"
   ],
   "outputs": [],
   "metadata": {}
  },
  {
   "cell_type": "code",
   "execution_count": null,
   "source": [
    "# set the initial conditions for elemental abundances, that is, the initial mass fraction of each element.\n",
    "# this is not strictly necessary, the initial massfractions will default to 0 if you do not do this.\n",
    "# but this step can be useful if you want to be consistent with the metallicity floor (mass fraction = 1e-4 or 1e-5) used in many FIRE-2 simulations.\n",
    "\n",
    "# you can supply a single float to apply to all abundances (this is the default),\n",
    "# or you can supply a dictionary with element names as keys and values as initial mass fractions, if you want to use a different initial abundance for each element\n",
    "\n",
    "metallicity_initial = 1e-5\n",
    "massfraction_initial = {}\n",
    "for element_name in FIREYield.NucleosyntheticYield.sun_massfraction:\n",
    "    massfraction_initial[element_name] = (\n",
    "       metallicity_initial * FIREYield.NucleosyntheticYield.sun_massfraction[element_name])\n",
    "part[species_name].ElementAgeTracer.assign_element_massfraction_initial(massfraction_initial)"
   ],
   "outputs": [],
   "metadata": {}
  },
  {
   "cell_type": "code",
   "execution_count": null,
   "source": [
    "# up to now we have not set or assumed any stellar nucleosynthetic rate or yield model, so the information in ElementAgeTracer is completely general\n",
    "\n",
    "# next we need to assume actual nucleosynthetic rates + yields for a given stellar evolution model, to supply to ElementAgeTracer, to generate actual nucleosynthetic yields from the age-tracer weights.\n",
    "# see gizmo_agetracer.py for examples in setting up the required yield class, which should contain a rate + yield model for each element.\n",
    "\n",
    "# here we use the default stellar evolution model in FIRE-2, assuming a default progenitor metallicity of 1.0 x Solar\n",
    "FIREYield = gizmo.agetracer.FIREYieldClass('fire2', progenitor_metallicity=1.0)"
   ],
   "outputs": [],
   "metadata": {}
  },
  {
   "cell_type": "code",
   "execution_count": null,
   "source": [
    "# next we generate a nucleosynthetic yield table, by integrating this nucleosynthetic yield model within each age-tracer age bin, to discretize/average these nucleosynthetic yields within the age-tracer  age bins.\n",
    "# so, we neet to supply the age bins used in the age-tracer model.\n",
    "# these yields should be in a dictionary, with element names as keys, and an array of yields within each age bin as values.\n",
    "\n",
    "yield_dict = FIREYield.get_element_yields(part[species_name].ElementAgeTracer['age.bins'])"
   ],
   "outputs": [],
   "metadata": {}
  },
  {
   "cell_type": "code",
   "execution_count": null,
   "source": [
    "# finally, transfer this yield dictionary to store in ElementAgeTracer.\n",
    "# this stores the dictionary keys as both the element name and the element symbol, for convenience in calling later.\n",
    "\n",
    "part[species_name].ElementAgeTracer.assign_element_yields(yield_dict)"
   ],
   "outputs": [],
   "metadata": {}
  },
  {
   "cell_type": "code",
   "execution_count": null,
   "source": [
    "# now you can use .prop() to call the age-tracer elemental mass fractions as derived quantities,\n",
    "# you just need to append '.agetracer' to the property name.\n",
    "# under the hood, this uses ElementAgeTracer.get_element_massfractions() to compute the element mass fractions from the age-tracer weights convolved with the nucleosynthetic yield model, adding in the initial abundances (if you set them).\n",
    "\n",
    "# mass fraction of iron for each particle, as tracked natively in the simulation\n",
    "print(part[species_name].prop('massfraction.fe'))\n",
    "\n",
    "# mass fraction of iron for each particle, as computed via post-processing the age-tracer weights\n",
    "print(part[species_name].prop('massfraction.agetracer.fe'))\n",
    "\n",
    "# 'metallicity' (wrt Solar, as in Asplund et al 2009) of iron for each particle, as tracked natively in the simulation\n",
    "print(part[species_name].prop('metallicity.fe'))\n",
    "\n",
    "# 'metallicity' of iron for each particle, as computed via post-processing the age-tracer weights\n",
    "print(part[species_name].prop('metallicity.agetracer.fe'))"
   ],
   "outputs": [],
   "metadata": {}
  },
  {
   "cell_type": "code",
   "execution_count": null,
   "source": [
    "#gal = ut.particle.get_galaxy_properties(part, axis_kind='both')\n",
    "\n",
    "dists = part[species_name].prop('host.distance.principal.cyl')\n",
    "pis = None\n",
    "pis = ut.array.get_indices(dists[:, 0], [0, 15], pis)\n",
    "pis = ut.array.get_indices(dists[:, 2], [-3, 3], pis)"
   ],
   "outputs": [],
   "metadata": {}
  },
  {
   "cell_type": "code",
   "execution_count": null,
   "source": [
    "# plot the results\n",
    "element_name = 'fe'\n",
    "\n",
    "from utilities.binning import BinClass\n",
    "\n",
    "metallicity_limits = [-1.0, 1.0]\n",
    "Bin = BinClass(metallicity_limits, width=0.01)\n",
    "\n",
    "metallicity_sim = part[species_name].prop('metallicity.' + element_name, pis)\n",
    "metallicity_agetracer = part[species_name].prop('metallicity.agetracer.' + element_name, pis).clip(-5, 10)\n",
    "\n",
    "masks = (metallicity_agetracer > -5) * (metallicity_sim > -5)\n",
    "\n",
    "distr_sim = Bin.get_distribution(metallicity_sim[masks])\n",
    "distr_agetracer = Bin.get_distribution(metallicity_agetracer[masks])\n",
    "\n",
    "fig, ax = plt.subplots()\n",
    "fig.set_size_inches(6, 4)\n",
    "\n",
    "# plot the native abundances, computed directly in the simulation\n",
    "ax.plot(distr_sim['bin'], distr_sim['sum'], lw=3, color='black', label='simulation')\n",
    "\n",
    "# plot the post-processed abundances, from the age-tracer weights\n",
    "ax.plot(distr_agetracer['bin'], distr_agetracer['sum'], lw=3, color='C0', label='age-tracer')\n",
    "\n",
    "ax.legend(loc='best')\n",
    "ax.set_ylim(0, None)\n",
    "ax.set_xlim(metallicity_limits[0], metallicity_limits[1])\n",
    "ax.set_xlabel('[Fe/H]')\n",
    "\n",
    "#ut.math.print_statistics(metallicity_sim)\n",
    "\n",
    "#ut.math.print_statistics(metallicity_agetracer)\n",
    "\n",
    "difs = metallicity_agetracer - metallicity_sim\n",
    "\n",
    "ut.math.print_statistics(difs)"
   ],
   "outputs": [],
   "metadata": {}
  },
  {
   "cell_type": "code",
   "execution_count": null,
   "source": [
    "# plot the results\n",
    "\n",
    "from utilities.binning import BinClass\n",
    "\n",
    "fe_limits = [-1.5, 1.0]\n",
    "Bin = BinClass(fe_limits, width=0.05)\n",
    "\n",
    "# plot the native abundances, computed directly in the simulation\n",
    "fe_sim = part[species_name].prop('metallicity.fe')\n",
    "alpha_sim = part[species_name].prop('metallicity.o - metallicity.fe')\n",
    "fe_agetracer = part[species_name].prop('metallicity.agetracer.fe').clip(-5, 10)\n",
    "alpha_agetracer = part[species_name].prop('metallicity.agetracer.o').clip(-5, 10) - fe_agetracer\n",
    "\n",
    "masks = (fe_sim > -4.5) * (fe_agetracer > -4.5)\n",
    "\n",
    "stats_sim = Bin.get_statistics_of_array(fe_sim[masks], alpha_sim[masks])\n",
    "stats_agetracer = Bin.get_statistics_of_array(fe_agetracer[masks], alpha_agetracer[masks])\n",
    "\n",
    "fig, ax = plt.subplots()\n",
    "fig.set_size_inches(6, 4)\n",
    "\n",
    "ax.plot(stats_sim['bin.mid'], stats_sim['median'], lw=3, color='black', label='simulation')\n",
    "ax.fill_between(\n",
    "    stats_sim['bin.mid'], stats_sim['percent.16'], stats_sim['percent.84'], alpha=0.2, lw=3, color='black')\n",
    "\n",
    "# plot the post-processed abundances, from the age-tracer weights\n",
    "\n",
    "\n",
    "ax.plot(stats_agetracer['bin.mid'], stats_agetracer['median'], lw=3, color='C0', label='age-tracer')\n",
    "ax.fill_between(\n",
    "    stats_agetracer['bin.mid'], stats_agetracer['percent.16'], stats_agetracer['percent.84'], alpha=0.2, lw=3, color='C0')\n",
    "#print(stats['median'])\n",
    "\n",
    "ax.legend(loc='best')\n",
    "ax.set_ylim(-0.4, 1.0)\n",
    "ax.set_xlim(fe_limits[0], fe_limits[1])\n",
    "ax.set_ylabel('[O/Fe]')\n",
    "ax.set_xlabel('[Fe/H]')\n",
    "\n",
    "difs = alpha_agetracer[masks] - alpha_sim[masks]\n",
    "\n",
    "ut.math.print_statistics(difs)"
   ],
   "outputs": [],
   "metadata": {}
  },
  {
   "cell_type": "markdown",
   "source": [
    "## NuGrid"
   ],
   "metadata": {}
  },
  {
   "cell_type": "markdown",
   "source": [
    "As another example, lets generate the NuGrid tables and re-do the above with those. This\n",
    "requires having NuPYCee and Sygma installed (https://nugrid.github.io/NuPyCEE/index.html)"
   ],
   "metadata": {}
  },
  {
   "cell_type": "code",
   "execution_count": null,
   "source": [
    "# the NuGrid_yields class accepts kwargs to pass to the underlying\n",
    "# sygma model, so this allows for the use of the full Symga / NuGrid framework.\n",
    "#    this simple example just passes metallicity\n",
    "NuGrid_yield_model = gizmo.agetracers.NuGrid_yields(\n",
    "    iniZ = 0.01 # metal mass fraction (must equal a NuGrid table value)\n",
    "                                                    )\n",
    "\n",
    "\n",
    "NuGrid_yield_table = gizmo.agetracers.construct_yield_table(\n",
    "    NuGrid_yield_model, part.ageprop.age_bins/1000.0)\n",
    "\n",
    "# again, elements to generate for yield table are arbitary as long as \n",
    "# they are included in the yield model. Below uses all available elements:\n",
    "part.set_yield_table(NuGrid_yield_table, [str.lower(x) for x in NuGrid_yield_model.elements])"
   ],
   "outputs": [],
   "metadata": {}
  },
  {
   "cell_type": "code",
   "execution_count": null,
   "source": [
    "# Lets try this out with the NuGrid data now!\n",
    "\n",
    "from utilities.binning import BinClass\n",
    "\n",
    "fig,ax=plt.subplots()\n",
    "fig.set_size_inches(6,4)\n",
    "\n",
    "bc    = BinClass([-4,2],number= int((2-(-4))/0.1))\n",
    "\n",
    "# plot the native simulation data:\n",
    "stats = bc.get_statistics_of_array(\n",
    "    part['star'].prop('metallicity.fe'),\n",
    "    part['star'].prop('metallicity.alpha - metallicity.fe')\n",
    ")\n",
    "    \n",
    "    \n",
    "ax.plot(stats['bin.mid'][:-1], stats['median'][:-1], lw=3, color = 'black', label = 'Simulation')\n",
    "ax.fill_between(stats['bin.mid'], stats['percent.16'], stats['percent.84'], alpha=0.2,\n",
    "                lw = 3, color='black')\n",
    "\n",
    "\n",
    "# plot the post-processed data.\n",
    "# this can be done with just the \".agetracer\" string, which works\n",
    "# for all things that the elements work on already (metallicity, mass, massfraction, etc.)\n",
    "bc    = BinClass([-4,2],number= int((2-(-4))/0.1))\n",
    "stats = bc.get_statistics_of_array(part['star'].prop('metallicity.agetracer.fe'),\n",
    "                                   part['star'].prop('metallicity.agetracer.alpha - metallicity.agetracer.fe'))\n",
    "    \n",
    "    \n",
    "ax.plot(stats['bin.mid'][:-1], stats['median'][:-1], lw=3, color = 'C0', label = 'NuGrid - solar')\n",
    "ax.fill_between(stats['bin.mid'], stats['percent.16'], stats['percent.84'], alpha=0.2,\n",
    "                lw = 3, color='C0')\n",
    "\n",
    "\n",
    "ax.legend(loc='best')\n",
    "ax.set_ylim(-1,1)\n",
    "ax.set_xlim(-4,2)\n",
    "ax.set_ylabel(r'[$\\alpha$/Fe]')\n",
    "ax.set_xlabel('[Fe/H]')"
   ],
   "outputs": [],
   "metadata": {}
  },
  {
   "cell_type": "markdown",
   "source": [
    "scratch space"
   ],
   "metadata": {}
  },
  {
   "cell_type": "code",
   "execution_count": null,
   "source": [],
   "outputs": [],
   "metadata": {}
  }
 ],
 "metadata": {
  "anaconda-cloud": {},
  "kernelspec": {
   "name": "python3",
   "display_name": "Python 3.9.7 64-bit ('base': conda)"
  },
  "language_info": {
   "name": "python",
   "version": "3.9.7",
   "mimetype": "text/x-python",
   "codemirror_mode": {
    "name": "ipython",
    "version": 3
   },
   "pygments_lexer": "ipython3",
   "nbconvert_exporter": "python",
   "file_extension": ".py"
  },
  "interpreter": {
   "hash": "563616ea0795551886fedfb6f43611ed89f67b819df42e5edfc6c6ce5ab0ec12"
  }
 },
 "nbformat": 4,
 "nbformat_minor": 1
}