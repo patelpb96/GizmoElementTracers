{
 "cells": [
  {
   "cell_type": "markdown",
   "metadata": {},
   "source": [
    "First, move within a simulation directory. This directory should contains the sub-directory 'output/' that contains snapshot files, and a file 'snapshot_times.txt' that lists all snapshot scale-factors/redshifts/times in the simulation and their corresponding file index number."
   ]
  },
  {
   "cell_type": "markdown",
   "metadata": {},
   "source": [
    "Ensure that gizmo_analysis and utilities directories are in your python path, then..."
   ]
  },
  {
   "cell_type": "code",
   "execution_count": null,
   "metadata": {},
   "outputs": [],
   "source": [
    "import gizmo_analysis as gizmo\n",
    "import utilities as ut"
   ]
  },
  {
   "cell_type": "code",
   "execution_count": null,
   "metadata": {},
   "outputs": [],
   "source": [
    "# you can access the files as named or use the aliases in __init__.py to keep it shorter \n",
    "# for example, these are the same:\n",
    "\n",
    "gizmo.gizmo_io\n",
    "gizmo.io"
   ]
  },
  {
   "cell_type": "markdown",
   "metadata": {},
   "source": [
    "# read particle data"
   ]
  },
  {
   "cell_type": "code",
   "execution_count": null,
   "metadata": {},
   "outputs": [],
   "source": [
    "# read star and dark-matter particles at z = 0\n",
    "\n",
    "part = gizmo.io.Read.read_snapshots(['star', 'dark'], 'redshift', 0)"
   ]
  },
  {
   "cell_type": "code",
   "execution_count": null,
   "metadata": {},
   "outputs": [],
   "source": [
    "# alternately, read all particle species at z = 0\n",
    "\n",
    "part = gizmo.io.Read.read_snapshots('all', 'redshift', 0)"
   ]
  },
  {
   "cell_type": "code",
   "execution_count": null,
   "metadata": {},
   "outputs": [],
   "source": [
    "# this tutorial assumes that you are in the root directory of a simulation, \n",
    "# but you can read a simulation at any location using input argument 'simulation_directory':\n",
    "\n",
    "part = gizmo.io.Read.read_snapshots('all', 'redshift', 0, simulation_directory='/arb/it/rary/loc/a/tion')"
   ]
  },
  {
   "cell_type": "code",
   "execution_count": null,
   "metadata": {},
   "outputs": [],
   "source": [
    "# each particle species is stored as its own dictionary\n",
    "# 'star' = stars, 'gas' = gas, 'dark' = dark matter, 'dark.2', 'dark.3', etc = low-resolution dark matter\n",
    "\n",
    "part.keys()"
   ]
  },
  {
   "cell_type": "code",
   "execution_count": null,
   "metadata": {},
   "outputs": [],
   "source": [
    "# properties of star particles are stored as dictionary\n",
    "\n",
    "part['star'].keys()"
   ]
  },
  {
   "cell_type": "code",
   "execution_count": null,
   "metadata": {},
   "outputs": [],
   "source": [
    "# properties of dark matter particles are stored as dictionary\n",
    "\n",
    "part['dark'].keys()"
   ]
  },
  {
   "cell_type": "markdown",
   "metadata": {},
   "source": [
    "# particle properties"
   ]
  },
  {
   "cell_type": "code",
   "execution_count": null,
   "metadata": {},
   "outputs": [],
   "source": [
    "# 3-D position of star particles (particle.number x dimension.number array) [Mpc comoving]\n",
    "\n",
    "part['star']['position']"
   ]
  },
  {
   "cell_type": "code",
   "execution_count": null,
   "metadata": {},
   "outputs": [],
   "source": [
    "# 3-D velocity of star particles (particle_number x dimension_number array) [km/s physical]\n",
    "\n",
    "part['star']['velocity']"
   ]
  },
  {
   "cell_type": "code",
   "execution_count": null,
   "metadata": {},
   "outputs": [],
   "source": [
    "# mass of star particles [M_sun]\n",
    "\n",
    "part['star']['mass']"
   ]
  },
  {
   "cell_type": "code",
   "execution_count": null,
   "metadata": {},
   "outputs": [],
   "source": [
    "# formation scale-factor of star particles\n",
    "\n",
    "part['star']['form.scalefactor']"
   ]
  },
  {
   "cell_type": "code",
   "execution_count": null,
   "metadata": {},
   "outputs": [],
   "source": [
    "# use .prop() to compute derived quantities,\n",
    "# such as the age of the Universe [Gyr] when a star particle formed\n",
    "# see gizmo.io.ParticleDictionaryClass for all options for derived quantities\n",
    "\n",
    "part['star'].prop('form.time')"
   ]
  },
  {
   "cell_type": "code",
   "execution_count": null,
   "metadata": {},
   "outputs": [],
   "source": [
    "# similarly, get the age of a star particle (the lookback time to when it formed) [Gyr]\n",
    "\n",
    "part['star'].prop('age')"
   ]
  },
  {
   "cell_type": "markdown",
   "metadata": {},
   "source": [
    "# metallicities"
   ]
  },
  {
   "cell_type": "code",
   "execution_count": null,
   "metadata": {},
   "outputs": [],
   "source": [
    "# 'metallicities' are stored in the catalog as *mass fractions*\n",
    "# one value for each element, in a particle_number x element_number array\n",
    "# the first value is the mass fraction of all metals (everything not H, He)\n",
    "# then He, C, N, O, etc\n",
    "\n",
    "part['star']['massfraction']"
   ]
  },
  {
   "cell_type": "code",
   "execution_count": null,
   "metadata": {},
   "outputs": [],
   "source": [
    "# get individual elements by their index\n",
    "\n",
    "# total metal mass fraction (everything not H, He) is index 0\n",
    "print(part['star']['massfraction'][:, 0])\n",
    "\n",
    "# iron is index 10\n",
    "print(part['star']['massfraction'][:, 10])"
   ]
  },
  {
   "cell_type": "code",
   "execution_count": null,
   "metadata": {},
   "outputs": [],
   "source": [
    "# alternately use .prop() to compute derived quantities,\n",
    "# including calling elements by their name or symbol\n",
    "# see gizmo.io.ParticleDictionaryClass for all options for derived quantities\n",
    "\n",
    "print(part['star'].prop('massfraction.metals'))\n",
    "print(part['star'].prop('massfraction.carbon'))\n",
    "print(part['star'].prop('massfraction.iron'))\n",
    "print(part['star'].prop('massfraction.fe'))  # can use name or symbol"
   ]
  },
  {
   "cell_type": "code",
   "execution_count": null,
   "metadata": {},
   "outputs": [],
   "source": [
    "# also use .prop() to compute metallicity [Z/H]\n",
    "# for example, iron abundance [Fe/H] :=\n",
    "#   log10((mass_iron / mass_hydrogen)_particle / (mass_iron / mass_hydrogen)_sun)\n",
    "# my pipeline assumes solar abundances from Asplund et al 2009\n",
    "\n",
    "print(part['star'].prop('metallicity.total'))\n",
    "print(part['star'].prop('metallicity.fe'))"
   ]
  },
  {
   "cell_type": "code",
   "execution_count": null,
   "metadata": {},
   "outputs": [],
   "source": [
    "# also use .prop() to compute simple arithmetic combinations, such as [Mg/Fe]\n",
    "\n",
    "part['star'].prop('metallicity.mg - metallicity.fe')"
   ]
  },
  {
   "cell_type": "code",
   "execution_count": null,
   "metadata": {},
   "outputs": [],
   "source": [
    "# refer to ut.basic.constants for assumed solar values (Asplund et al 2009) and other constants\n",
    "\n",
    "ut.basic.constants.sun_composition"
   ]
  },
  {
   "cell_type": "markdown",
   "metadata": {},
   "source": [
    "# additional information stored in sub-dictionaries"
   ]
  },
  {
   "cell_type": "code",
   "execution_count": null,
   "metadata": {},
   "outputs": [],
   "source": [
    "# dictionary of useful information about the simulation\n",
    "\n",
    "part.info"
   ]
  },
  {
   "cell_type": "code",
   "execution_count": null,
   "metadata": {},
   "outputs": [],
   "source": [
    "# dictionary of information about this snapshot's index, scale-factor, redshift, time, lookback-time\n",
    "\n",
    "part.snapshot"
   ]
  },
  {
   "cell_type": "code",
   "execution_count": null,
   "metadata": {},
   "outputs": [],
   "source": [
    "# dictionary class of arrays about *all* snapshots that were saved for the simulation\n",
    "\n",
    "print(part.Snapshot.keys())\n",
    "print(part.Snapshot['redshift'][:10])"
   ]
  },
  {
   "cell_type": "code",
   "execution_count": null,
   "metadata": {},
   "outputs": [],
   "source": [
    "# dictionary class of cosmological parameters, with function for cosmological conversions\n",
    "\n",
    "part.Cosmology"
   ]
  },
  {
   "cell_type": "code",
   "execution_count": null,
   "metadata": {},
   "outputs": [],
   "source": [
    "# position [kpc comoving] and velocity [km/s physical] of the center of the host galaxy\n",
    "# this was computed during read in, using ut.particle.get_center_position() and ut.particle.get_center_velocity()\n",
    "# functions in gizmo.analysis use these values in computing profiles\n",
    "\n",
    "print(part.center_position)\n",
    "print(part.center_velocity)"
   ]
  },
  {
   "cell_type": "markdown",
   "metadata": {},
   "source": [
    "See gizmo.analysis for examples of high-level analysis, including plotting these data.\n",
    "\n",
    "See ut.particle for mid-level analysis functions that may be useful.\n",
    "\n",
    "See other modules within utilities for low-level functions that may be useful."
   ]
  },
  {
   "cell_type": "markdown",
   "metadata": {},
   "source": [
    "# principal (major and minor axes) of stellar disk"
   ]
  },
  {
   "cell_type": "code",
   "execution_count": null,
   "metadata": {},
   "outputs": [],
   "source": [
    "# can compute and assign principal axes (moment of inertia tensor) of stars during read in as below\n",
    "\n",
    "part = gizmo.io.Read.read_snapshots(['star', 'dark'], 'redshift', 0, assign_principal_axes=True)"
   ]
  },
  {
   "cell_type": "code",
   "execution_count": null,
   "metadata": {},
   "outputs": [],
   "source": [
    "# moment of inertia tensor is stored similar to center_position\n",
    "\n",
    "print(part.principal_axes_vectors)"
   ]
  },
  {
   "cell_type": "code",
   "execution_count": null,
   "metadata": {},
   "outputs": [],
   "source": [
    "# now can compute different types of distances of star particles from center of main galaxy\n",
    "# compute 3-D distance from primary galaxy center along simulation's default x,y,z axes [kpc physical]\n",
    "\n",
    "part['star'].prop('host.distance')"
   ]
  },
  {
   "cell_type": "code",
   "execution_count": null,
   "metadata": {},
   "outputs": [],
   "source": [
    "# compute total (scalar) distance\n",
    "\n",
    "part['star'].prop('host.distance.total')"
   ]
  },
  {
   "cell_type": "code",
   "execution_count": null,
   "metadata": {},
   "outputs": [],
   "source": [
    "# compute 3-D distance aligned with the principal (major, intermediate, minor) axes\n",
    "\n",
    "part['star'].prop('host.distance.principal')"
   ]
  },
  {
   "cell_type": "code",
   "execution_count": null,
   "metadata": {},
   "outputs": [],
   "source": [
    "# compute 3-D distances aligned with the principal axes in cylindrical coordinates\n",
    "# first value is along the major axes (R, positive definite)\n",
    "# second value is vertical height wrt the disk (Z, signed)\n",
    "# third value is angle (phi, 0 to 2 * pi)\n",
    "\n",
    "part['star'].prop('host.distance.principal.cylindrical')"
   ]
  },
  {
   "cell_type": "code",
   "execution_count": null,
   "metadata": {},
   "outputs": [],
   "source": [
    "# same for velocity\n",
    "# compute 3-D velocity from main galaxy center along simulation's default x,y,z axes [km / s]\n",
    "\n",
    "part['star'].prop('host.velocity')"
   ]
  },
  {
   "cell_type": "code",
   "execution_count": null,
   "metadata": {},
   "outputs": [],
   "source": [
    "# compute 1-D velocity [km / s]\n",
    "\n",
    "part['star'].prop('host.velocity.total')"
   ]
  },
  {
   "cell_type": "code",
   "execution_count": null,
   "metadata": {},
   "outputs": [],
   "source": [
    "# compute 3-D velocity along the principal (major, intermediate, minor) axes [km / s]\n",
    "\n",
    "part['star'].prop('host.velocity.principal')"
   ]
  },
  {
   "cell_type": "code",
   "execution_count": null,
   "metadata": {},
   "outputs": [],
   "source": [
    "# compute 2-D velocity along the major axes (major + intermediate) and minor axis\n",
    "# first value is along the major axes (positive definite)\n",
    "# second value is vertical velocity wrt the disk (signed)\n",
    "\n",
    "part['star'].prop('host.velocity.principal.cylindrical')"
   ]
  },
  {
   "cell_type": "markdown",
   "metadata": {},
   "source": [
    "# particle tracking"
   ]
  },
  {
   "cell_type": "markdown",
   "metadata": {},
   "source": [
    "Some simulations have pre-compiled HDF5 files to help with particle tracking. These are stored in the directory 'track/' (if present). The code that generates and reads these files is in gizmo_track.py."
   ]
  },
  {
   "cell_type": "markdown",
   "metadata": {},
   "source": [
    "star\\_indices\\_*.hdf5 files store, for each star particles at z = 0, a pointer to where it was in the catalog at each previous snapshot (replace * with snapshot index). This makes it easy to quickly get the properties of a given star particle at any previous snapshot. These pointers are stored in an HDF5 file, one for each previous snapshot."
   ]
  },
  {
   "cell_type": "code",
   "execution_count": 1,
   "metadata": {},
   "outputs": [
    {
     "name": "stdout",
     "output_type": "stream",
     "text": [
      "\n",
      "# in utilities.simulation.Snapshot():\n",
      "  read snapshot_times.txt\n",
      "  input redshift = 0.000 -> snapshot index = 600\n",
      "  reading snapshot index = 600, redshift = 0.000\n",
      "\n",
      "# in gizmo_analysis.gizmo_io.Read():\n",
      "* read header from: output/snapdir_600/snapshot_600.0.hdf5\n",
      "  snapshot contains the following number of particles:\n",
      "  dark      (id = 1): 70514272 particles\n",
      "  dark.2    (id = 2): 5513331 particles\n",
      "  gas       (id = 0): 57060074 particles\n",
      "  star      (id = 4): 13976485 particles\n",
      "  blackhole (id = 5): 0 particles\n",
      "\n",
      "* read particles\n",
      "  from: snapshot_600.0.hdf5\n",
      "  from: snapshot_600.1.hdf5\n",
      "  from: snapshot_600.2.hdf5\n",
      "  from: snapshot_600.3.hdf5\n",
      "\n",
      "* read cosmological parameters from: initial_condition/ic_agora_m12i.conf\n",
      "\n",
      "* checking sanity of particle properties\n",
      "\n",
      "* assigning center of galaxy/halo:\n",
      "  position = (41792.125, 44131.215, 46267.672) [kpc comoving]\n",
      "  velocity = (-52.5, 71.9, 95.2) [km / s]\n",
      "\n"
     ]
    }
   ],
   "source": [
    "# first, read catalog of star particles at z = 0\n",
    "\n",
    "part_at_z0 = gizmo.io.Read.read_snapshots(['star'], 'redshift', 0)"
   ]
  },
  {
   "cell_type": "code",
   "execution_count": null,
   "metadata": {},
   "outputs": [],
   "source": [
    "# say that you want to find out what they were doing at z = 1\n",
    "# then, read in catalog of star particles at z = 1 (snapshot 277)\n",
    "\n",
    "part_at_z1 = gizmo.io.Read.read_snapshots(['star'], 'redshift', 1)"
   ]
  },
  {
   "cell_type": "code",
   "execution_count": null,
   "metadata": {},
   "outputs": [],
   "source": [
    "# use the function within gizmo_track.py to read star index pointers associated with the catalog z = 1\n",
    "\n",
    "gizmo.track.IndexPointer.io_index_pointer(part_at_z1)"
   ]
  },
  {
   "cell_type": "code",
   "execution_count": null,
   "metadata": {},
   "outputs": [],
   "source": [
    "# pointers are stored via numpy array appended to particle dictionary at the relevant snapshot\n",
    "# a negative value means that the star formed after this snapshot (so it does not exist at this snapshot)\n",
    "\n",
    "part_at_z1.index_pointers"
   ]
  },
  {
   "cell_type": "code",
   "execution_count": 3,
   "metadata": {},
   "outputs": [],
   "source": [
    "# so, say that you have a list of the indices of star particles of interest at z = 0\n",
    "\n",
    "indices_at_z0 = np.array([3, 5, 8, 13])"
   ]
  },
  {
   "cell_type": "code",
   "execution_count": 4,
   "metadata": {},
   "outputs": [
    {
     "data": {
      "text/plain": [
       "array([[ 43404.91796875,  44238.88671875,  46855.734375  ],\n",
       "       [ 43406.32421875,  44237.12109375,  46849.92578125],\n",
       "       [ 41799.5546875 ,  44130.66796875,  46263.68359375],\n",
       "       [ 41799.5546875 ,  44130.66015625,  46263.56640625]], dtype=float32)"
      ]
     },
     "execution_count": 4,
     "metadata": {},
     "output_type": "execute_result"
    }
   ],
   "source": [
    "# their positions at z = 0\n",
    "\n",
    "part_at_z0['star']['position'][indices_at_z0]"
   ]
  },
  {
   "cell_type": "code",
   "execution_count": null,
   "metadata": {},
   "outputs": [],
   "source": [
    "# get their indices in the catalog at z = 1\n",
    "\n",
    "indices_at_z1 = part_at_z1.index_pointers[indices_at_z0]\n",
    "print(indices_at_z1)"
   ]
  },
  {
   "cell_type": "code",
   "execution_count": null,
   "metadata": {},
   "outputs": [],
   "source": [
    "# now you easily can get any property of interest at z = 1, for example, positions\n",
    "\n",
    "part_at_z1['star']['position'][indices_at_z1]"
   ]
  },
  {
   "cell_type": "markdown",
   "metadata": {},
   "source": [
    "Another useful file: star\\_form\\_host\\_distance\\_600.hdf5 stores, for each star particle at z = 0, its 3-D distance at the first snapshot after it formed (formation distance) wrt to the main host galaxy, in [kpc physical]. These distances are aligned with the major, intermediate, minor axes of the stellar disk (as defined via its moment of inertia tensor) at that snapshot."
   ]
  },
  {
   "cell_type": "code",
   "execution_count": null,
   "metadata": {},
   "outputs": [],
   "source": [
    "# use the function within gizmo_track.py to read this file and assign values directly to the catalog at z = 0\n",
    "\n",
    "gizmo.track.HostDistance.io_formation_coordinates(part_at_z0)"
   ]
  },
  {
   "cell_type": "code",
   "execution_count": 5,
   "metadata": {},
   "outputs": [
    {
     "name": "stdout",
     "output_type": "stream",
     "text": [
      "\n",
      "# in utilities.simulation.Snapshot():\n",
      "  read snapshot_times.txt\n",
      "  input redshift = 0.000 -> snapshot index = 600\n",
      "  reading snapshot index = 600, redshift = 0.000\n",
      "\n",
      "# in gizmo_analysis.gizmo_io.Read():\n",
      "* read header from: output/snapdir_600/snapshot_600.0.hdf5\n",
      "  snapshot contains the following number of particles:\n",
      "  dark      (id = 1): 70514272 particles\n",
      "  dark.2    (id = 2): 5513331 particles\n",
      "  gas       (id = 0): 57060074 particles\n",
      "  star      (id = 4): 13976485 particles\n",
      "  blackhole (id = 5): 0 particles\n",
      "\n",
      "* read particles\n",
      "  from: snapshot_600.0.hdf5\n",
      "  from: snapshot_600.1.hdf5\n",
      "  from: snapshot_600.2.hdf5\n",
      "  from: snapshot_600.3.hdf5\n",
      "\n",
      "* read cosmological parameters from: initial_condition/ic_agora_m12i.conf\n",
      "\n",
      "* checking sanity of particle properties\n",
      "\n",
      "* assigning center of galaxy/halo:\n",
      "  position = (41792.125, 44131.215, 46267.672) [kpc comoving]\n",
      "  velocity = (-52.5, 71.9, 95.2) [km / s]\n",
      "\n",
      "* assigning principal axes of galaxy/halo:\n",
      "  axis ratios: min/maj = 0.503, min/med = 0.509, med/maj = 0.988\n",
      "\n",
      "\n",
      "# in utilities.basic.io.file_hdf5():\n",
      "  read file: star_form_coordinates_600.hdf5\n",
      "    center.position | float32, shape = (601, 3)\n",
      "    center.velocity | float32, shape = (601, 3)\n",
      "    form.host.distance | float32, shape = (13976485, 3)\n",
      "    form.host.velocity | float32, shape = (13976485, 3)\n",
      "    id | uint32, shape = (13976485,)\n",
      "    principal.axes.vectors | float32, shape = (601, 3, 3)\n"
     ]
    }
   ],
   "source": [
    "# alternately, read formation distances at the same time read snapshot itself\n",
    "# (as with principal axes)\n",
    "\n",
    "part_at_z0 = gizmo.io.Read.read_snapshots(\n",
    "    ['star'], 'redshift', 0, assign_principal_axes=True, assign_formation_coordinates=True)"
   ]
  },
  {
   "cell_type": "code",
   "execution_count": 6,
   "metadata": {},
   "outputs": [
    {
     "data": {
      "text/plain": [
       "array([[ -1.22573435e+00,  -3.16812187e-01,   1.52569735e+00],\n",
       "       [  1.93979454e+01,   7.89692259e+00,  -3.43014755e+01],\n",
       "       [ -5.79297607e+02,  -8.96287460e+01,   1.60383392e+02],\n",
       "       ..., \n",
       "       [ -9.05316467e+01,  -3.17012157e+01,  -2.47149734e+01],\n",
       "       [ -1.34268036e+01,  -5.74990749e+00,  -1.78105259e+00],\n",
       "       [ -1.34432344e+01,  -5.75029564e+00,  -1.73416471e+00]], dtype=float32)"
      ]
     },
     "execution_count": 6,
     "metadata": {},
     "output_type": "execute_result"
    }
   ],
   "source": [
    "# 3-D distance at formation, aligned with the principal axes of the host galaxy at that time [kpc physical]\n",
    "# principal axes defined according to all star particles within the host galaxy, independently at each snapshot\n",
    "# distance along dimension 0 is aligned with the major axis\n",
    "# distance along dimension 1 is algined with the intermediate axis\n",
    "# distance along dimension 2 is aligned with the minor (Z) axis\n",
    "\n",
    "part_at_z0['star']['form.host.distance']"
   ]
  },
  {
   "cell_type": "code",
   "execution_count": 7,
   "metadata": {},
   "outputs": [
    {
     "data": {
      "text/plain": [
       "array([   1.98256075,   40.18996048,  607.73504639, ...,   99.05441284,\n",
       "         14.71436787,   14.72391891], dtype=float32)"
      ]
     },
     "execution_count": 7,
     "metadata": {},
     "output_type": "execute_result"
    }
   ],
   "source": [
    "# total scalar (absolute) distance wrt the host galaxy at formation [kpc physical]\n",
    "# this is a derived quantity, so need to call via .prop()\n",
    "\n",
    "part_at_z0['star'].prop('form.host.distance.total')"
   ]
  },
  {
   "cell_type": "code",
   "execution_count": 8,
   "metadata": {},
   "outputs": [
    {
     "data": {
      "text/plain": [
       "array([[  1.26601529e+00,   1.52569735e+00,   3.39452457e+00],\n",
       "       [  2.09437733e+01,  -3.43014755e+01,   3.86612892e-01],\n",
       "       [  5.86190247e+02,   1.60383392e+02,   3.29509544e+00],\n",
       "       ..., \n",
       "       [  9.59215622e+01,  -2.47149734e+01,   3.47841668e+00],\n",
       "       [  1.46061792e+01,  -1.78105259e+00,   3.54620552e+00],\n",
       "       [  1.46214380e+01,  -1.73416471e+00,   3.54578733e+00]], dtype=float32)"
      ]
     },
     "execution_count": 8,
     "metadata": {},
     "output_type": "execute_result"
    }
   ],
   "source": [
    "# 3-D array of formation distance wrt the host galaxy in cylindrical coordinates [kpc physical]\n",
    "\n",
    "part_at_z0['star'].prop('form.host.distance.cylindrical')"
   ]
  },
  {
   "cell_type": "code",
   "execution_count": 13,
   "metadata": {},
   "outputs": [
    {
     "data": {
      "text/plain": [
       "array([[ 1.26601529,  1.52569735,  3.39452457],\n",
       "       [ 5.2021389 , -0.05428728,  3.83885074],\n",
       "       [ 5.19000244,  0.58169037,  2.74372029],\n",
       "       ..., \n",
       "       [ 3.82861757, -5.66393709,  0.53575462],\n",
       "       [ 7.15072107, -0.22851086,  4.99534464],\n",
       "       [ 7.38440609,  0.08358712,  4.96902847]], dtype=float32)"
      ]
     },
     "execution_count": 13,
     "metadata": {},
     "output_type": "execute_result"
    }
   ],
   "source": [
    "# these value look more reasonable is restrict to star particles that formed within the host galaxy\n",
    "\n",
    "# select particles formed at d = 0 - 8 kpc physical\n",
    "part_indices = ut.array.get_indices(part_at_z0['star'].prop('form.host.distance.total'), [0, 8])\n",
    "\n",
    "part_at_z0['star'].prop('form.host.distance.cylindrical', part_indices)"
   ]
  },
  {
   "cell_type": "markdown",
   "metadata": {
    "collapsed": true
   },
   "source": [
    "# profile of property"
   ]
  },
  {
   "cell_type": "markdown",
   "metadata": {},
   "source": [
    "A common task is to compute a radial profile of a given quantity, such as mass density, average age, median metallicity, etc.\n",
    "\n",
    "The high-level functions below make this easier to do."
   ]
  },
  {
   "cell_type": "code",
   "execution_count": null,
   "metadata": {},
   "outputs": [],
   "source": [
    "# first, initiate an instance of SpeciesProfileClass\n",
    "# as you initialize,choose your distance/radius binning scheme: \n",
    "#   'log' v 'linear', distance limits, bin width, number of spatial dimensions of profile\n",
    "# refer to ut.binning.DistanceBinClass() for more\n",
    "\n",
    "# linear binning from 0 to 20 kpc with 1 kpc bin width, assuming a 3-D profile\n",
    "SpeciesProfile = ut.particle.SpeciesProfileClass(scaling='linear', limits=[0, 20], width=1, dimension_number=3)"
   ]
  },
  {
   "cell_type": "code",
   "execution_count": null,
   "metadata": {},
   "outputs": [],
   "source": [
    "# using this binning scheme,\n",
    "# compute sum/histogram/density of mass of star particles in each bin\n",
    "# this returns a bunch of summed properties via a dictionary\n",
    "\n",
    "pro = SpeciesProfile.get_sum_profiles(part, 'star', 'mass')"
   ]
  },
  {
   "cell_type": "code",
   "execution_count": null,
   "metadata": {},
   "outputs": [],
   "source": [
    "# in principle, you can supply a list of multiple species, and it will compute profiles for each\n",
    "# thus, it returns a dictionary for each species\n",
    "\n",
    "pro.keys()"
   ]
  },
  {
   "cell_type": "code",
   "execution_count": null,
   "metadata": {},
   "outputs": [],
   "source": [
    "# the quantities that it stores in each bin\n",
    "\n",
    "pro['star'].keys()"
   ]
  },
  {
   "cell_type": "code",
   "execution_count": null,
   "metadata": {},
   "outputs": [],
   "source": [
    "# alternately, you may want to compute profiles along a disks R or Z axes\n",
    "# if so, first define the dimensionality of the profile when you initiate the class\n",
    "\n",
    "# log binning from 0.1 to 10 kpc with 0.1 dex bin width, assuming a 2-D profile (along R)\n",
    "SpeciesProfile = ut.particle.SpeciesProfileClass(scaling='log', limits=[0.1, 10], width=0.1, dimension_number=2)"
   ]
  },
  {
   "cell_type": "code",
   "execution_count": null,
   "metadata": {},
   "outputs": [],
   "source": [
    "# set rotation = True to force it to compute profiles along the principal axes (assuming that you read them in)\n",
    "# use other_axis_distance_limits to limit the extent along the other axis, \n",
    "#   in this case, limit the Z axis to within +/- 1 kpc (in the profile, all distances are absolute)\n",
    "\n",
    "pro = SpeciesProfile.get_sum_profiles(part, 'star', 'mass', rotation=True, other_axis_distance_limits=[0, 1])"
   ]
  },
  {
   "cell_type": "code",
   "execution_count": null,
   "metadata": {},
   "outputs": [],
   "source": [
    "# similarly, do this to compute profiles along Z\n",
    "\n",
    "# log binning from 0.1 to 10 kpc with 0.1 dex bin width, assuming a 1-D profile (along Z)\n",
    "SpeciesProfile = ut.particle.SpeciesProfileClass(scaling='log', limits=[0.1, 10], width=0.1, dimension_number=1)\n",
    "\n",
    "# limit the R axex to [5, 8] kpc \n",
    "pro = SpeciesProfile.get_sum_profiles(part, 'star', 'mass', rotation=True, other_axis_distance_limits=[5, 8])"
   ]
  },
  {
   "cell_type": "code",
   "execution_count": null,
   "metadata": {},
   "outputs": [],
   "source": [
    "# using the same binning scheme\n",
    "# this function computes various statistics of a property of star particles in each bin\n",
    "# by default, it weights the property by the mass of each particle\n",
    "# this returns a bunch of statistics via a dictionary\n",
    "\n",
    "pro = SpeciesProfile.get_statistics_profiles(\n",
    "    part, 'star', 'age', weight_by_mass=True, rotation=True, other_axis_distance_limits=[5, 8])"
   ]
  },
  {
   "cell_type": "code",
   "execution_count": null,
   "metadata": {},
   "outputs": [],
   "source": [
    "# the quantities that it stores in each bin\n",
    "\n",
    "pro['star'].keys()"
   ]
  }
 ],
 "metadata": {
  "anaconda-cloud": {},
  "kernelspec": {
   "display_name": "Python 3",
   "language": "python",
   "name": "python3"
  },
  "language_info": {
   "codemirror_mode": {
    "name": "ipython",
    "version": 3
   },
   "file_extension": ".py",
   "mimetype": "text/x-python",
   "name": "python",
   "nbconvert_exporter": "python",
   "pygments_lexer": "ipython3",
   "version": "3.6.4"
  }
 },
 "nbformat": 4,
 "nbformat_minor": 1
}
