{
 "cells": [
  {
   "cell_type": "markdown",
   "metadata": {},
   "source": [
    "This tutorial walks you through using the GizmoAnalysis package to read Gizmo simulation snapshots and analyzing them.\n",
    "\n",
    "@author:\n",
    "    Andrew Wetzel <arwetzel@gmail.com>\n",
    "    Andrew Emerick <aemerick11@gmail.com>\n",
    "\n",
    "First, move within a simulation directory, or set simulation_directory below to point to one. This directory should contain:\n",
    "(1) a sub-directory 'output/' that contains Gizmo snapshot files: snapshot_*.hdf5 or snapdir_*/snapshot_*.*.hdf5\n",
    "(2) a text file 'snapshot_times.txt' that lists the scale-factors, redshifts, times, and indices of all snapshots stored from the simulation\n",
    "(3) optionally (but ideally) an 'initial_condition/' directory that contains a MUSIC configuration file named '*.conf' that stores all 6 cosmological parameters. if the simulation directory does not contain, this, GizmoAnalysis will assume the same cosmological parameters as in the AGORA simulation.\n",
    "\n",
    "Ensure that the gizmo_analysis and utilities package directories are in your python path, then..."
   ]
  },
  {
   "cell_type": "code",
   "execution_count": 5,
   "metadata": {},
   "outputs": [],
   "source": [
    "import gizmo_analysis as gizmo\n",
    "import utilities as ut\n",
    "\n",
    "import numpy as np\n",
    "\n",
    "%matplotlib inline\n",
    "import matplotlib.pyplot as plt"
   ]
  },
  {
   "cell_type": "code",
   "execution_count": null,
   "metadata": {},
   "outputs": [],
   "source": [
    "# you can access the files as named or use the aliases in __init__.py to keep it shorter \n",
    "# for example, these are the same:\n",
    "\n",
    "gizmo.gizmo_io\n",
    "gizmo.io"
   ]
  },
  {
   "cell_type": "markdown",
   "metadata": {},
   "source": [
    "# read particle data"
   ]
  },
  {
   "cell_type": "code",
   "execution_count": 1,
   "metadata": {},
   "outputs": [],
   "source": [
    "# we recommend that you copy this jupyter notebook tutorial into a simulation directory \n",
    "# (for example, m12i_res7100/) and run from there.\n",
    "# however, you can set simulation_directory below to point to any simulation directory and then run this notebook from anywhere\n",
    "\n",
    "# use this is you are running from within a simulation directory\n",
    "#simulation_directory = '.'\n",
    "\n",
    "# use this to point to a specific simulation directory, if you run this notebook from somwhere else\n",
    "simulation_directory = '/Users/awetzel/work/research/simulation/gizmo/simulations/m12/m12i/m12i_res57000'"
   ]
  },
  {
   "cell_type": "code",
   "execution_count": null,
   "metadata": {},
   "outputs": [],
   "source": [
    "# read star and dark-matter particles at z = 0\n",
    "\n",
    "part = gizmo.io.Read.read_snapshots(['star', 'dark'], 'redshift', 0, simulation_directory)"
   ]
  },
  {
   "cell_type": "code",
   "execution_count": null,
   "metadata": {},
   "outputs": [],
   "source": [
    "# alternately, read all particle species at z = 0\n",
    "\n",
    "part = gizmo.io.Read.read_snapshots('all', 'redshift', 0, simulation_directory)"
   ]
  },
  {
   "cell_type": "code",
   "execution_count": null,
   "metadata": {},
   "outputs": [],
   "source": [
    "# part is a dictionary with each particle species name as key\n",
    "# 'star' = stars, 'gas' = gas, 'dark' = dark matter,\n",
    "# 'dark2', 'dark3', 'dark4', etc = low-resolution dark matter (you rarely will be interested in it)\n",
    "\n",
    "part.keys()"
   ]
  },
  {
   "cell_type": "code",
   "execution_count": null,
   "metadata": {},
   "outputs": [],
   "source": [
    "# each species is its own dictionary that contains arrays of properties\n",
    "\n",
    "part['star'].keys()"
   ]
  },
  {
   "cell_type": "code",
   "execution_count": null,
   "metadata": {},
   "outputs": [],
   "source": [
    "# list the properties of dark-matter particles\n",
    "\n",
    "part['dark'].keys()"
   ]
  },
  {
   "cell_type": "code",
   "execution_count": null,
   "metadata": {},
   "outputs": [],
   "source": [
    "# list the properties of gas particles\n",
    "\n",
    "part['gas'].keys()"
   ]
  },
  {
   "cell_type": "markdown",
   "metadata": {},
   "source": [
    "# particle properties"
   ]
  },
  {
   "cell_type": "code",
   "execution_count": null,
   "metadata": {},
   "outputs": [],
   "source": [
    "# 3-D position of each star particle, stored in a particle_number x dimension_number array [kpc comoving]\n",
    "\n",
    "part['star']['position']"
   ]
  },
  {
   "cell_type": "code",
   "execution_count": null,
   "metadata": {},
   "outputs": [],
   "source": [
    "# 3-D velocity of each star particle (particle_number x dimension_number array) [km / s]\n",
    "\n",
    "part['star']['velocity']"
   ]
  },
  {
   "cell_type": "code",
   "execution_count": null,
   "metadata": {},
   "outputs": [],
   "source": [
    "# mass of each star particle [M_sun]\n",
    "\n",
    "part['star']['mass']"
   ]
  },
  {
   "cell_type": "code",
   "execution_count": null,
   "metadata": {},
   "outputs": [],
   "source": [
    "# formation scale-factor of each star particle\n",
    "\n",
    "part['star']['form.scalefactor']"
   ]
  },
  {
   "cell_type": "code",
   "execution_count": null,
   "metadata": {},
   "outputs": [],
   "source": [
    "# IMPORTANT FEATURE\n",
    "# use .prop() to compute derived quantities, such as the time [in Gyr] when each star particle formed\n",
    "# see gizmo.io.ParticleDictionaryClass for all options for derived quantities\n",
    "\n",
    "part['star'].prop('form.time')"
   ]
  },
  {
   "cell_type": "code",
   "execution_count": null,
   "metadata": {},
   "outputs": [],
   "source": [
    "# similarly, get the age of each star particle (the lookback time to when it formed) [Gyr]\n",
    "\n",
    "part['star'].prop('age')"
   ]
  },
  {
   "cell_type": "code",
   "execution_count": null,
   "metadata": {},
   "outputs": [],
   "source": [
    "# get the mass of each star particle when it formed [Msun], using the stellar evolution tracks in Gizmo\n",
    "# this initially sets up an internally stored spline to compute this\n",
    "\n",
    "part['star'].prop('form.mass')"
   ]
  },
  {
   "cell_type": "markdown",
   "metadata": {},
   "source": [
    "# elemental abundances (metallicities)"
   ]
  },
  {
   "cell_type": "code",
   "execution_count": null,
   "metadata": {},
   "outputs": [],
   "source": [
    "# elemental abundances are stored in the particle catalog as linear mass fractions\n",
    "# one value for each element, in a particle_number x element_number array\n",
    "# the first value is the mass fraction of all metals (everything not H, He)\n",
    "# then He, C, N, O, etc\n",
    "\n",
    "part['star']['massfraction']"
   ]
  },
  {
   "cell_type": "code",
   "execution_count": null,
   "metadata": {},
   "outputs": [],
   "source": [
    "# get individual elements by their array index\n",
    "\n",
    "# total metal mass fraction (everything not H, He) is index 0\n",
    "print(part['star']['massfraction'][:, 0])\n",
    "\n",
    "# iron is index 10\n",
    "print(part['star']['massfraction'][:, 10])"
   ]
  },
  {
   "cell_type": "code",
   "execution_count": null,
   "metadata": {},
   "outputs": [],
   "source": [
    "# more conveniently, use .prop() to compute derived quantities, including calling element by its name or symbol\n",
    "# see gizmo.io.ParticleDictionaryClass for all options for derived quantities\n",
    "\n",
    "print(part['star'].prop('massfraction.metals'))\n",
    "print(part['star'].prop('massfraction.carbon'))\n",
    "print(part['star'].prop('massfraction.iron'))\n",
    "print(part['star'].prop('massfraction.fe'))  # you can use name or symbol"
   ]
  },
  {
   "cell_type": "code",
   "execution_count": null,
   "metadata": {},
   "outputs": [],
   "source": [
    "# also use .prop() to compute 'metallicity' [Z / H]\n",
    "# for example, iron abundance [Fe / H] :=\n",
    "#   log10((mass_iron / mass_hydrogen)_particle / (mass_iron / mass_hydrogen)_sun)\n",
    "# GizmoAnalysis assumes solar abundances from Asplund et al 2009\n",
    "\n",
    "print(part['star'].prop('metallicity.total'))\n",
    "print(part['star'].prop('metallicity.fe'))"
   ]
  },
  {
   "cell_type": "code",
   "execution_count": null,
   "metadata": {},
   "outputs": [],
   "source": [
    "# you also can use .prop() to compute simple arithmetic combinations, such as [Mg / Fe]\n",
    "\n",
    "part['star'].prop('metallicity.mg - metallicity.fe')"
   ]
  },
  {
   "cell_type": "code",
   "execution_count": null,
   "metadata": {},
   "outputs": [],
   "source": [
    "# refer to utilities.basic.constant for assumed solar values (Asplund et al 2009) and other constants\n",
    "\n",
    "ut.constant.sun_composition"
   ]
  },
  {
   "cell_type": "markdown",
   "metadata": {},
   "source": [
    "# meta-data about simulation"
   ]
  },
  {
   "cell_type": "markdown",
   "metadata": {},
   "source": [
    "The dictionary that stores the particle catalog is actually a dictionary class. It also stores meta-data about the simulation and ancillary data/functions via appended dictionaries, classes, and arrays."
   ]
  },
  {
   "cell_type": "code",
   "execution_count": null,
   "metadata": {},
   "outputs": [],
   "source": [
    "# dictionary of useful information about the simulation\n",
    "\n",
    "part.info"
   ]
  },
  {
   "cell_type": "code",
   "execution_count": null,
   "metadata": {},
   "outputs": [],
   "source": [
    "# dictionary of information about the snapshot that you read\n",
    "# its index (number), scale-factor, redshift, time, lookback-time\n",
    "\n",
    "part.snapshot"
   ]
  },
  {
   "cell_type": "code",
   "execution_count": null,
   "metadata": {},
   "outputs": [],
   "source": [
    "# dictionary class with information about *all* snapshots (typically ~600) saved for this simulation\n",
    "\n",
    "print(part.Snapshot.keys())\n",
    "print(part.Snapshot['redshift'][:10])"
   ]
  },
  {
   "cell_type": "code",
   "execution_count": null,
   "metadata": {},
   "outputs": [],
   "source": [
    "# dictionary class of cosmological parameters, with internal functions for cosmological conversions\n",
    "# see utilities.cosmology for more\n",
    "\n",
    "part.Cosmology"
   ]
  },
  {
   "cell_type": "markdown",
   "metadata": {},
   "source": [
    "See gizmo_plot.py (which you can access here via gizmo.plot) for examples of analyzing and plotting particle data.\n",
    "\n",
    "See utilities/particle.py (which you can acces here via ut.particle) for mid-level analysis functions that may be useful.\n",
    "\n",
    "See other modules within utilities for low-level functions that may be useful."
   ]
  },
  {
   "cell_type": "markdown",
   "metadata": {},
   "source": [
    "# coordinates of host galaxy/halo and principal axes of stellar disk"
   ]
  },
  {
   "cell_type": "markdown",
   "metadata": {},
   "source": [
    "If you enable gizmo.io.Read.read_snapshots(assign_hosts=True) (which is True by default), then during read-in, GizmoAnalysis assigns the position and velocity of the host galaxy/halo (using stars for a baryonic simulations and dark matter for a dark-matter-only simulation). GizmoAnalysis stores these coordinates in arrays appended to the particle dictionary.\n",
    "\n",
    "Most simulations have a single host galaxy/halo, but some (like ELVIS) contain 2 (or more). You can control the number of hosts via: read_snapshots(host_number=2) (by deafult, host_number=1).\n",
    "\n",
    "Once the code assigns the coordinates of each host, it also can compute the 'orientation' of the disk, by computing the rotation tensor and axis ratios of the principal axes of each host's stellar disk, defined via the moment of inertia tensor of young star particles. Enable this via: read_snapshots(assign_hosts_rotation=True) (by default, assign_hosts_rotation=False).\n",
    "\n",
    "If someone has run particle tracking on the simulation, including generating a file track/host_coordinates.hdf5, this stores the posiion, velocity, rotation tensor, and axis ratio of each host galaxy at each snapshot, so you do not have to re-compute during every read. If you set assign_hosts=True or assign_hosts_rotation=True in read_snapshots(), then GizmoAnalysis first will look for this file, and assign the host information stored in it, but if it does not find the file, GizmoAnalysis will assign these host properties on the fly during read."
   ]
  },
  {
   "cell_type": "code",
   "execution_count": null,
   "metadata": {},
   "outputs": [],
   "source": [
    "# position [kpc comoving] and velocity [km / s] of the center of each host galaxy\n",
    "# can store multiple hosts, though usually just one\n",
    "\n",
    "print(part.host['position'])\n",
    "print(part.host['velocity'])"
   ]
  },
  {
   "cell_type": "code",
   "execution_count": null,
   "metadata": {},
   "outputs": [],
   "source": [
    "# compute and assign the rotation tensor and axis ratios of the principal axes (defined via moment of inertia tensor) of stars in each host,  during read in as below\n",
    "\n",
    "part = gizmo.io.Read.read_snapshots(['star', 'dark'], 'redshift', 0, simulation_directory, assign_hosts_rotation=True)"
   ]
  },
  {
   "cell_type": "code",
   "execution_count": null,
   "metadata": {},
   "outputs": [],
   "source": [
    "# stores the rotation tensor, to rotate into the principal axes for each host\n",
    "\n",
    "print(part.host['rotation'])"
   ]
  },
  {
   "cell_type": "code",
   "execution_count": null,
   "metadata": {},
   "outputs": [],
   "source": [
    "# and stores the axis ratios (min/maj, min/med, med/maj) for each host\n",
    "\n",
    "print(part.host['axis.ratios'])"
   ]
  },
  {
   "cell_type": "code",
   "execution_count": null,
   "metadata": {},
   "outputs": [],
   "source": [
    "# now you can compute different types of distances of star particles from the center of each host galaxy\n",
    "# using .prop() to call derived quantities\n",
    "# compute 3-D distance from the host center along simulation's default x,y,z cartesian axes [kpc physical]\n",
    "\n",
    "part['star'].prop('host.distance')"
   ]
  },
  {
   "cell_type": "code",
   "execution_count": null,
   "metadata": {},
   "outputs": [],
   "source": [
    "# add '.total' to compute total (scalar) distance [kpc physical]\n",
    "\n",
    "part['star'].prop('host.distance.total')"
   ]
  },
  {
   "cell_type": "code",
   "execution_count": null,
   "metadata": {},
   "outputs": [],
   "source": [
    "# add '.principal' to compute 3-D distance aligned with the principal (major, intermediate, minor) axes of each host's stellar disk [kpc physical]\n",
    "\n",
    "part['star'].prop('host.distance.principal')"
   ]
  },
  {
   "cell_type": "code",
   "execution_count": null,
   "metadata": {},
   "outputs": [],
   "source": [
    "# add '.cylindrical' or '.cyl' to compute 3-D distance aligned with the principal axes in cylindrical coordinates\n",
    "# first value is along the major axes (R, positive definite) [kpc physical]\n",
    "# second value is angle (phi, 0 to 2 * pi) [radian]\n",
    "# third value is vertical height wrt the disk (Z, signed) [kpc physical]\n",
    "\n",
    "part['star'].prop('host.distance.principal.cylindrical')"
   ]
  },
  {
   "cell_type": "code",
   "execution_count": null,
   "metadata": {},
   "outputs": [],
   "source": [
    "# same for velocity\n",
    "# compute 3-D velocity from each host galaxy center along simulation's default x,y,z cartesian axes [km / s]\n",
    "\n",
    "part['star'].prop('host.velocity')"
   ]
  },
  {
   "cell_type": "code",
   "execution_count": null,
   "metadata": {},
   "outputs": [],
   "source": [
    "# compute total (scalar) velocity [km / s]\n",
    "\n",
    "part['star'].prop('host.velocity.total')"
   ]
  },
  {
   "cell_type": "code",
   "execution_count": null,
   "metadata": {},
   "outputs": [],
   "source": [
    "# compute 3-D velocity along the principal (major, intermediate, minor) axes [km / s]\n",
    "\n",
    "part['star'].prop('host.velocity.principal')"
   ]
  },
  {
   "cell_type": "code",
   "execution_count": null,
   "metadata": {},
   "outputs": [],
   "source": [
    "# compute 3-D velocity in cylindrical coordinates\n",
    "# first value is along the major axes (positive definite)\n",
    "# secod value is azimuthal velocity in the plane of the disk (positive definite)\n",
    "# third value is vertical velocity wrt the disk (signed)\n",
    "\n",
    "part['star'].prop('host.velocity.principal.cylindrical')"
   ]
  },
  {
   "cell_type": "code",
   "execution_count": null,
   "metadata": {},
   "outputs": [],
   "source": [
    "# if you want to store multiple hosts (such as for the ELVIS Local Group-like paired host simulations), \n",
    "# set host_number=2 during read-in\n",
    "# (in fact, you can do this for any simulation, it simply finds the second most massive host galaxy in the zoom-in region)\n",
    "\n",
    "part = gizmo.io.Read.read_snapshots(['star', 'dark'], 'redshift', 0, simulation_directory, host_number=2, assign_hosts='mass', assign_hosts_rotation=True)"
   ]
  },
  {
   "cell_type": "code",
   "execution_count": null,
   "metadata": {},
   "outputs": [],
   "source": [
    "# everything above still works, just use 'host', 'host2', 'host3', etc to identify which host you want coordinates relative to\n",
    "\n",
    "print(part['star'].prop('host.distance'))\n",
    "print(part['star'].prop('host2.distance'))"
   ]
  },
  {
   "cell_type": "code",
   "execution_count": null,
   "metadata": {},
   "outputs": [],
   "source": [
    "# the particle dictionary stores coordinates and rotation tensors for each host\n",
    "\n",
    "print(part.host['position'])\n",
    "print(part.host['velocity'])\n",
    "print(part.host['rotation'])\n",
    "print(part.host['axis.ratios'])"
   ]
  },
  {
   "cell_type": "markdown",
   "metadata": {},
   "source": [
    "# star + gas particle tracking"
   ]
  },
  {
   "cell_type": "markdown",
   "metadata": {},
   "source": [
    "Some simulations have pre-compiled HDF5 files for tracking star + gas particles over time. By default, we store these files in the directory 'track/' (if present). gizmo_track.py contains the code that generates and reads these files."
   ]
  },
  {
   "cell_type": "markdown",
   "metadata": {},
   "source": [
    "star\\_gas\\_pointers\\_\\*.hdf5 files store, for each star and gas particles at z = 0, a pointer to its array index in the catalog at each previous snapshot (replace * with snapshot index). This makes it easy to get the properties of a given star particle at any previous snapshot. We store these pointers in an HDF5 file, one for each previous snapshot."
   ]
  },
  {
   "cell_type": "markdown",
   "metadata": {},
   "source": [
    "### tracking between z = 0 and a previous snapshot"
   ]
  },
  {
   "cell_type": "code",
   "execution_count": 2,
   "metadata": {},
   "outputs": [
    {
     "output_type": "stream",
     "name": "stdout",
     "text": [
      "\n",
      "# in utilities.simulation.Snapshot():\n",
      "* reading:  Users/awetzel/work/research/simulation/gizmo/simulations/m12/m12i/m12i_res57000/snapshot_times.txt\n",
      "\n",
      "* input redshift = 0:  using snapshot index = 600, redshift = 0.000\n",
      "\n",
      "\n",
      "# in gizmo_analysis.gizmo_io.Read():\n",
      "* reading header from:  Users/awetzel/work/research/simulation/gizmo/simulations/m12/m12i/m12i_res57000/output/snapshot_600.hdf5\n",
      "  snapshot contains the following number of particles:\n",
      "    dark      (id = 1): 8820344 particles\n",
      "    dark2     (id = 2): 3081337 particles\n",
      "    gas       (id = 0): 5969934 particles\n",
      "    star      (id = 4): 3059250 particles\n",
      "    blackhole (id = 5): 0 particles\n",
      "\n",
      "* reading species: ['star', 'gas']\n",
      "* reading particles from:\n",
      "    Users/awetzel/work/research/simulation/gizmo/simulations/m12/m12i/m12i_res57000/output/snapshot_600.hdf5\n",
      "\n",
      "* reading cosmological parameters from:  Users/awetzel/work/research/simulation/gizmo/simulations/m12/m12i/m12i_res57000/initial_condition/ic_agora_m12i.conf\n",
      "\n",
      "* checking sanity of particle properties\n",
      "\n",
      "\n",
      "# in gizmo_analysis.gizmo_track.ParticleCoordinate():\n",
      "  read 1 host (position, velocity, rotation, axis ratios) from:  Users/awetzel/work/research/simulation/gizmo/simulations/m12/m12i/m12i_res57000/track/host_coordinates.hdf5\n",
      "  host1 position = (41821.973, 44122.004, 46288.449) [kpc comoving]\n",
      "  host1 velocity = (-48.7, 73.1, 96.7) [km / s]\n",
      "  host1 axis ratios = (0.15, 0.15, 0.97)\n",
      "\n"
     ]
    }
   ],
   "source": [
    "# read catalog of star and gas particles at z = 0\n",
    "\n",
    "part_at_z0 = gizmo.io.Read.read_snapshots(['star', 'gas'], 'redshift', 0, simulation_directory)"
   ]
  },
  {
   "cell_type": "code",
   "execution_count": 3,
   "metadata": {},
   "outputs": [
    {
     "output_type": "stream",
     "name": "stdout",
     "text": [
      "\n",
      "# in utilities.simulation.Snapshot():\n",
      "* reading:  Users/awetzel/work/research/simulation/gizmo/simulations/m12/m12i/m12i_res57000/snapshot_times.txt\n",
      "\n",
      "* input redshift = 2:  using snapshot index = 172, redshift = 2.000\n",
      "\n",
      "\n",
      "# in gizmo_analysis.gizmo_io.Read():\n",
      "* reading header from:  Users/awetzel/work/research/simulation/gizmo/simulations/m12/m12i/m12i_res57000/output/snapshot_172.hdf5\n",
      "  snapshot contains the following number of particles:\n",
      "    dark      (id = 1): 8820344 particles\n",
      "    dark2     (id = 2): 3081337 particles\n",
      "    gas       (id = 0): 8575137 particles\n",
      "    star      (id = 4): 245223 particles\n",
      "    blackhole (id = 5): 0 particles\n",
      "\n",
      "* reading species: ['star', 'gas']\n",
      "* reading particles from:\n",
      "    Users/awetzel/work/research/simulation/gizmo/simulations/m12/m12i/m12i_res57000/output/snapshot_172.hdf5\n",
      "\n",
      "* reading cosmological parameters from:  Users/awetzel/work/research/simulation/gizmo/simulations/m12/m12i/m12i_res57000/initial_condition/ic_agora_m12i.conf\n",
      "\n",
      "* checking sanity of particle properties\n",
      "\n",
      "  read 1 host (position, velocity, rotation, axis ratios) from:  Users/awetzel/work/research/simulation/gizmo/simulations/m12/m12i/m12i_res57000/track/host_coordinates.hdf5\n",
      "  host1 position = (42860.578, 42499.359, 44850.602) [kpc comoving]\n",
      "  host1 velocity = (-60.9, 119.8, 31.4) [km / s]\n",
      "  host1 axis ratios = (0.47, 0.77, 0.61)\n",
      "\n",
      "\n",
      "# in gizmo_analysis.gizmo_track.ParticlePointer():\n",
      "* read particle pointers from:  Users/awetzel/work/research/simulation/gizmo/simulations/m12/m12i/m12i_res57000/track/star_gas_pointers_172.hdf5\n"
     ]
    }
   ],
   "source": [
    "# for example, you want to find out what they were doing at z = 2\n",
    "# read in catalog of star particles at z = 2 (probably snapshot 172)\n",
    "# set assign_pointers=True to assign such pointers to the particle catalog at z = 2\n",
    "\n",
    "part_at_z2 = gizmo.io.Read.read_snapshots(\n",
    "    ['star', 'gas'], 'redshift', 2, simulation_directory, assign_pointers=True)"
   ]
  },
  {
   "cell_type": "code",
   "execution_count": 4,
   "metadata": {},
   "outputs": [
    {
     "output_type": "execute_result",
     "data": {
      "text/plain": [
       "{'species': array(['star', 'gas'], dtype='<U4'),\n",
       " 'z.gas.index.limits': array([ 245223, 8820360]),\n",
       " 'z.gas.number': 8575137,\n",
       " 'z.particle.number': 8820360,\n",
       " 'z.snapshot.index': 172,\n",
       " 'z.star.index.limits': array([     0, 245223]),\n",
       " 'z.star.number': 245223,\n",
       " 'z0.gas.index.limits': array([3059250, 9029184]),\n",
       " 'z0.gas.number': 5969934,\n",
       " 'z0.particle.number': 9029184,\n",
       " 'z0.snapshot.index': 600,\n",
       " 'z0.star.index.limits': array([      0, 3059250]),\n",
       " 'z0.star.number': 3059250,\n",
       " 'z0.to.z.index': array([8762407, 6627790, 2897974, ...,  428042, 1883434, 1569509],\n",
       "       dtype=int32)}"
      ]
     },
     "metadata": {},
     "execution_count": 4
    }
   ],
   "source": [
    "# we store particle pointers via a dictionary class appended to particle catalog dictionary at the relevant snapshot\n",
    "# a negative value means that the star formed after this snapshot (so it does not exist at this snapshot)\n",
    "\n",
    "part_at_z2.Pointer"
   ]
  },
  {
   "cell_type": "code",
   "execution_count": 5,
   "metadata": {},
   "outputs": [
    {
     "output_type": "execute_result",
     "data": {
      "text/plain": [
       "array(['star', 'gas'], dtype='<U4')"
      ]
     },
     "metadata": {},
     "execution_count": 5
    }
   ],
   "source": [
    "# the particle species that we have compiled tracking pointers for\n",
    "\n",
    "part_at_z2.Pointer['species']"
   ]
  },
  {
   "cell_type": "code",
   "execution_count": 6,
   "metadata": {},
   "outputs": [
    {
     "output_type": "stream",
     "name": "stdout",
     "text": [
      "172\n600\n"
     ]
    }
   ],
   "source": [
    "# the snapshot indices at this redshift (z = 2) and at the reference redshift (z = 0)\n",
    "\n",
    "print(part_at_z2.Pointer['z.snapshot.index'])\n",
    "print(part_at_z2.Pointer['z0.snapshot.index'])"
   ]
  },
  {
   "cell_type": "code",
   "execution_count": 7,
   "metadata": {},
   "outputs": [
    {
     "output_type": "stream",
     "name": "stdout",
     "text": [
      "245223\n8575137\n3059250\n5969934\n"
     ]
    }
   ],
   "source": [
    "# the number of particles at this redshift (z = 2) and at the reference redshift (z = 0)\n",
    "\n",
    "print(part_at_z2.Pointer['z.star.number'])\n",
    "print(part_at_z2.Pointer['z.gas.number'])\n",
    "\n",
    "print(part_at_z2.Pointer['z0.star.number'])\n",
    "print(part_at_z2.Pointer['z0.gas.number'])"
   ]
  },
  {
   "cell_type": "code",
   "execution_count": 8,
   "metadata": {},
   "outputs": [
    {
     "output_type": "stream",
     "name": "stdout",
     "text": [
      "[8762407 6627790 2897974 ...  428042 1883434 1569509]\n[     0 245223]\n[ 245223 8820360]\n[      0 3059250]\n[3059250 9029184]\n"
     ]
    }
   ],
   "source": [
    "# the dictionaries below store the actual pointer indices\n",
    "# becase gas particles can become star particles, this pipeline concatenates the particle list and \n",
    "# stores pointers from this combined star + gas list at z = 0 to z\n",
    "\n",
    "print(part_at_z2.Pointer['z0.to.z.index'])\n",
    "\n",
    "# this also stores the limits of the indices of each species at each snapshot, \n",
    "# so you can convert back to the index within the individual star list or the individual gas list \n",
    "# (as stored in the particle catalog)\n",
    "print(part_at_z2.Pointer['z.star.index.limits'])\n",
    "print(part_at_z2.Pointer['z.gas.index.limits'])\n",
    "\n",
    "print(part_at_z2.Pointer['z0.star.index.limits'])\n",
    "print(part_at_z2.Pointer['z0.gas.index.limits'])"
   ]
  },
  {
   "cell_type": "code",
   "execution_count": 9,
   "metadata": {},
   "outputs": [],
   "source": [
    "# more simply, you can use this function to get pointers for a given species from z = 0 to any z\n",
    "# the default mode of tracking is going backward in time (from z = 0 to z)\n",
    "\n",
    "pointers = part_at_z2.Pointer.get_pointers(species_name_from='star', species_names_to='star')"
   ]
  },
  {
   "cell_type": "code",
   "execution_count": 10,
   "metadata": {},
   "outputs": [
    {
     "output_type": "execute_result",
     "data": {
      "text/plain": [
       "array([[43395.66430266, 44225.91487342, 46848.42028784],\n",
       "       [43391.32501013, 44235.3333939 , 46851.26898524],\n",
       "       [43392.7246372 , 44234.88455716, 46860.08437896]])"
      ]
     },
     "metadata": {},
     "execution_count": 10
    }
   ],
   "source": [
    "# say that you have a list of star particle indices of interest at z = 0\n",
    "\n",
    "indices_at_z0 = np.array([5, 8, 13])\n",
    "\n",
    "# list their positions at z = 0\n",
    "part_at_z0['star']['position'][indices_at_z0]"
   ]
  },
  {
   "cell_type": "code",
   "execution_count": 11,
   "metadata": {},
   "outputs": [
    {
     "output_type": "stream",
     "name": "stdout",
     "text": [
      "[93570 93569 93574]\n"
     ]
    },
    {
     "output_type": "execute_result",
     "data": {
      "text/plain": [
       "array([[44594.70662236, 42857.76681624, 45680.41942321],\n",
       "       [44597.17009857, 42856.9103464 , 45683.54318435],\n",
       "       [44586.14301487, 42869.01990286, 45673.47361522]])"
      ]
     },
     "metadata": {},
     "execution_count": 11
    }
   ],
   "source": [
    "# now you can get their indices in the particle catalog at z = 2\n",
    "# negative indices means that the star particle did not exist at z = 2\n",
    "\n",
    "indices_at_z2 = pointers[indices_at_z0]\n",
    "print(indices_at_z2)\n",
    "\n",
    "# now you easily can get any property of interest at z = 2, for example, positions\n",
    "part_at_z2['star']['position'][indices_at_z2]"
   ]
  },
  {
   "cell_type": "code",
   "execution_count": 12,
   "metadata": {},
   "outputs": [
    {
     "output_type": "stream",
     "name": "stdout",
     "text": [
      "[1081507 2621944 1378523]\n[[41827.95243832 44124.6273934  46289.64224645]\n [41810.05286106 44110.48518841 46285.84784929]\n [41827.05895642 44116.02070015 46284.00376819]]\n"
     ]
    }
   ],
   "source": [
    "# alternatively, you can track particles going forward in time by setting forward=True\n",
    "\n",
    "pointers = part_at_z2.Pointer.get_pointers(species_name_from='star', species_names_to='star', forward=True)\n",
    "\n",
    "indices_at_z2 = np.array([5, 8, 13])\n",
    "indices_at_z0 = pointers[indices_at_z2]\n",
    "print(indices_at_z0)\n",
    "print(part_at_z0['star']['position'][indices_at_z0])"
   ]
  },
  {
   "cell_type": "code",
   "execution_count": 13,
   "metadata": {},
   "outputs": [
    {
     "output_type": "stream",
     "name": "stdout",
     "text": [
      "{'index': array([8517184, 6382567, 2652751, ..., 5870729,  297634,  179265],\n      dtype=int32), 'species': array(['gas', 'gas', 'gas', ..., 'gas', 'gas', 'star'], dtype='<U4')}\n['gas' 'star' 'star' 'star'] [8517184   93570   93569   93574]\n[8517184]\n[[42845.52824108 42506.12287672 44870.50121988]]\n"
     ]
    }
   ],
   "source": [
    "# also, you can track star particles back to both progenitor star and progenitor gas particles\n",
    "\n",
    "pointers = part_at_z2.Pointer.get_pointers(species_name_from='star', species_names_to=['star', 'gas'])\n",
    "\n",
    "# but now, pointers is a *dictionary* that stores both the index and species of each progenitor particle\n",
    "print(pointers)\n",
    "\n",
    "# get star particle indices at z = 0 and see what they were at z = 2\n",
    "star_indices_at_z0 = np.array([0, 5, 8, 13])\n",
    "print(pointers['species'][star_indices_at_z0], pointers['index'][star_indices_at_z0])\n",
    "\n",
    "# get those that were gas particles\n",
    "masks = np.where(pointers['species'][star_indices_at_z0] == 'gas')[0]\n",
    "\n",
    "gas_indices_at_z2 = pointers['index'][star_indices_at_z0[masks]]\n",
    "\n",
    "print(gas_indices_at_z2)\n",
    "print(part_at_z2['gas']['position'][gas_indices_at_z2])"
   ]
  },
  {
   "cell_type": "code",
   "execution_count": 14,
   "metadata": {},
   "outputs": [
    {
     "output_type": "stream",
     "name": "stdout",
     "text": [
      "['star' 'star' 'gas' 'gas']\n[ 215205 1917430 1826927 4148144]\n[ 215205 1917430]\n[[41823.76116895 44122.68646199 46287.49155757]\n [41813.98704585 44118.76742237 46303.17274406]]\n"
     ]
    }
   ],
   "source": [
    "# similar for working forward in time, track gas particles at z that can be star or gas particles at z = 0\n",
    "\n",
    "pointers = part_at_z2.Pointer.get_pointers(\n",
    "    species_name_from='gas', species_names_to=['star', 'gas'], forward=True)\n",
    "\n",
    "# get gas indices at z = 2 and see what they end up as at z = 0\n",
    "gas_indices_at_z2 = np.array([0, 5, 8, 13])\n",
    "print(pointers['species'][gas_indices_at_z2])\n",
    "print(pointers['index'][gas_indices_at_z2])\n",
    "\n",
    "# get those that are star particles at z = 0\n",
    "masks = np.where(pointers['species'][gas_indices_at_z2] == 'star')[0]\n",
    "\n",
    "star_indices_at_z0 = pointers['index'][gas_indices_at_z2[masks]]\n",
    "\n",
    "print(star_indices_at_z0)\n",
    "print(part_at_z0['star']['position'][star_indices_at_z0])"
   ]
  },
  {
   "cell_type": "markdown",
   "metadata": {},
   "source": [
    "### tracking between 2 snapshots in which both are at z > 0"
   ]
  },
  {
   "cell_type": "code",
   "execution_count": 15,
   "metadata": {},
   "outputs": [
    {
     "output_type": "stream",
     "name": "stdout",
     "text": [
      "\n",
      "# in utilities.simulation.Snapshot():\n",
      "* reading:  Users/awetzel/work/research/simulation/gizmo/simulations/m12/m12i/m12i_res57000/snapshot_times.txt\n",
      "\n",
      "* input redshift = 1:  using snapshot index = 277, redshift = 1.000\n",
      "\n",
      "\n",
      "# in gizmo_analysis.gizmo_io.Read():\n",
      "* reading header from:  Users/awetzel/work/research/simulation/gizmo/simulations/m12/m12i/m12i_res57000/output/snapshot_277.hdf5\n",
      "  snapshot contains the following number of particles:\n",
      "    dark      (id = 1): 8820344 particles\n",
      "    dark2     (id = 2): 3081337 particles\n",
      "    gas       (id = 0): 7498674 particles\n",
      "    star      (id = 4): 1333580 particles\n",
      "    blackhole (id = 5): 0 particles\n",
      "\n",
      "* reading species: ['star', 'gas']\n",
      "* reading particles from:\n",
      "    Users/awetzel/work/research/simulation/gizmo/simulations/m12/m12i/m12i_res57000/output/snapshot_277.hdf5\n",
      "\n",
      "* reading cosmological parameters from:  Users/awetzel/work/research/simulation/gizmo/simulations/m12/m12i/m12i_res57000/initial_condition/ic_agora_m12i.conf\n",
      "\n",
      "* checking sanity of particle properties\n",
      "\n",
      "  read 1 host (position, velocity, rotation, axis ratios) from:  Users/awetzel/work/research/simulation/gizmo/simulations/m12/m12i/m12i_res57000/track/host_coordinates.hdf5\n",
      "  host1 position = (42434.348, 43258.426, 45265.680) [kpc comoving]\n",
      "  host1 velocity = (-63.0, 89.7, 88.0) [km / s]\n",
      "  host1 axis ratios = (0.29, 0.31, 0.94)\n",
      "\n",
      "\n",
      "# in gizmo_analysis.gizmo_track.ParticlePointer():\n",
      "* read particle pointers from:  Users/awetzel/work/research/simulation/gizmo/simulations/m12/m12i/m12i_res57000/track/star_gas_pointers_277.hdf5\n",
      "\n",
      "# in utilities.simulation.Snapshot():\n",
      "* reading:  Users/awetzel/work/research/simulation/gizmo/simulations/m12/m12i/m12i_res57000/snapshot_times.txt\n",
      "\n",
      "* input redshift = 2:  using snapshot index = 172, redshift = 2.000\n",
      "\n",
      "\n",
      "# in gizmo_analysis.gizmo_io.Read():\n",
      "* reading header from:  Users/awetzel/work/research/simulation/gizmo/simulations/m12/m12i/m12i_res57000/output/snapshot_172.hdf5\n",
      "  snapshot contains the following number of particles:\n",
      "    dark      (id = 1): 8820344 particles\n",
      "    dark2     (id = 2): 3081337 particles\n",
      "    gas       (id = 0): 8575137 particles\n",
      "    star      (id = 4): 245223 particles\n",
      "    blackhole (id = 5): 0 particles\n",
      "\n",
      "* reading species: ['star', 'gas']\n",
      "* reading particles from:\n",
      "    Users/awetzel/work/research/simulation/gizmo/simulations/m12/m12i/m12i_res57000/output/snapshot_172.hdf5\n",
      "\n",
      "* reading cosmological parameters from:  Users/awetzel/work/research/simulation/gizmo/simulations/m12/m12i/m12i_res57000/initial_condition/ic_agora_m12i.conf\n",
      "\n",
      "* checking sanity of particle properties\n",
      "\n",
      "  read 1 host (position, velocity, rotation, axis ratios) from:  Users/awetzel/work/research/simulation/gizmo/simulations/m12/m12i/m12i_res57000/track/host_coordinates.hdf5\n",
      "  host1 position = (42860.578, 42499.359, 44850.602) [kpc comoving]\n",
      "  host1 velocity = (-60.9, 119.8, 31.4) [km / s]\n",
      "  host1 axis ratios = (0.47, 0.77, 0.61)\n",
      "\n",
      "\n",
      "# in gizmo_analysis.gizmo_track.ParticlePointer():\n",
      "* read particle pointers from:  Users/awetzel/work/research/simulation/gizmo/simulations/m12/m12i/m12i_res57000/track/star_gas_pointers_172.hdf5\n"
     ]
    }
   ],
   "source": [
    "# particle tracking also can handle tracking particles between any 2 snapshots\n",
    "\n",
    "# read catalogs of star and gas particles at z = 1 and 2, including their pointers relative to z = 0\n",
    "# set asign_pointers=True automatically to append pointer class to each particle catalog\n",
    "part_at_z1 = gizmo.io.Read.read_snapshots(\n",
    "    ['star', 'gas'], 'redshift', 1, simulation_directory, assign_pointers=True)\n",
    "part_at_z2 = gizmo.io.Read.read_snapshots(\n",
    "    ['star', 'gas'], 'redshift', 2, simulation_directory, assign_pointers=True)"
   ]
  },
  {
   "cell_type": "code",
   "execution_count": 16,
   "metadata": {},
   "outputs": [],
   "source": [
    "# now just append intermediate-redshift pointers (to z = 1) to pointers at z = 2\n",
    "\n",
    "part_at_z2.Pointer.add_intermediate_pointers(part_at_z1.Pointer)"
   ]
  },
  {
   "cell_type": "code",
   "execution_count": 17,
   "metadata": {},
   "outputs": [
    {
     "output_type": "stream",
     "name": "stdout",
     "text": [
      "['star' 'gas' 'gas' 'gas']\n[ 107166 1169600 6377478  239484]\n[107166]\n[[43535.53900573 42053.83122207 46265.70989359]]\n"
     ]
    }
   ],
   "source": [
    "# now you can access pointers from z = 1 to z = 2, by setting intermediate_snapshot=True\n",
    "\n",
    "pointers = part_at_z2.Pointer.get_pointers(\n",
    "    species_name_from='star', species_names_to=['star', 'gas'], intermediate_snapshot=True)\n",
    "\n",
    "# get star indices at z = 0 and see what they were at z = 2\n",
    "star_indices_at_z1 = np.array([0, 5, 8, 13])\n",
    "print(pointers['species'][star_indices_at_z1])\n",
    "print(pointers['index'][star_indices_at_z1])\n",
    "\n",
    "# get those that are star particles at z = 2\n",
    "masks = np.where(pointers['species'][star_indices_at_z1] == 'star')[0]\n",
    "\n",
    "star_indices_at_z2 = pointers['index'][star_indices_at_z1[masks]]\n",
    "\n",
    "print(star_indices_at_z2)\n",
    "print(part_at_z2['star']['position'][star_indices_at_z2])"
   ]
  },
  {
   "cell_type": "code",
   "execution_count": 18,
   "metadata": {},
   "outputs": [
    {
     "output_type": "stream",
     "name": "stdout",
     "text": [
      "\n",
      "# in gizmo_analysis.gizmo_track.ParticlePointer():\n",
      "* read particle pointers from:  Users/awetzel/work/research/simulation/gizmo/simulations/m12/m12i/m12i_res57000/track/star_gas_pointers_277.hdf5\n",
      "* read particle pointers from:  Users/awetzel/work/research/simulation/gizmo/simulations/m12/m12i/m12i_res57000/track/star_gas_pointers_172.hdf5\n",
      "[[ 292.68991569 -383.58753865 -537.01238787]\n",
      " [ 340.40628092 -396.67310129 -443.35512543]\n",
      " [ 325.33277499 -341.7086024  -510.64487315]\n",
      " ...\n",
      " [ -99.12561147   30.8602316  -350.24431613]\n",
      " [ -99.82395539   11.77529703 -343.91413721]\n",
      " [ -94.33690426   50.91985599 -359.29941783]]\n",
      "* read particle pointers from:  Users/awetzel/work/research/simulation/gizmo/simulations/m12/m12i/m12i_res57000/track/star_gas_pointers_172.hdf5\n",
      "* read particle pointers from:  Users/awetzel/work/research/simulation/gizmo/simulations/m12/m12i/m12i_res57000/track/star_gas_pointers_277.hdf5\n",
      "[[ 1.76618861e+03 -1.34864646e+03  3.38039285e+03]\n",
      " [-3.19344155e-01  1.92092919e+01 -1.40406222e+01]\n",
      " [ 5.49481984e-01 -9.67723621e-01 -1.44379399e+00]\n",
      " ...\n",
      " [-1.47852245e+03  1.73040220e+03  3.40694911e+02]\n",
      " [-1.47797816e+03  1.72987523e+03  3.40425767e+02]\n",
      " [-1.47634593e+03  1.73094540e+03  3.39585600e+02]]\n"
     ]
    }
   ],
   "source": [
    "# if you just want to track a single species (star -> star or gas -> gas) between 2 snapshots,\n",
    "# read_pointers_between_snapshots() makes it easy to get the pointer indices between any 2 snapshots\n",
    "\n",
    "ParticlePointer = gizmo.track.ParticlePointerClass(simulation_directory=simulation_directory)\n",
    "\n",
    "# tracking forward in time\n",
    "pointers_z2_to_z1 = ParticlePointer.read_pointers_between_snapshots(\n",
    "    snapshot_index_from=172, snapshot_index_to=277, species_name='star')\n",
    "\n",
    "# for example, see how far star particles have moved\n",
    "print(part_at_z2['star']['position'] - part_at_z1['star']['position'][pointers_z2_to_z1])\n",
    "\n",
    "\n",
    "# similar for tracking going backward in time\n",
    "pointers_z1_to_z2 = ParticlePointer.read_pointers_between_snapshots(\n",
    "    snapshot_index_from=277, snapshot_index_to=172, species_name='star')\n",
    "\n",
    "# in this case, need to select stars that existed as stars at z = 2\n",
    "masks = (pointers_z1_to_z2 >= 0)\n",
    "\n",
    "# see how far star particles have moved\n",
    "print(part_at_z1['star']['position'][masks] - part_at_z1['star']['position'][pointers_z1_to_z2[masks]])"
   ]
  },
  {
   "cell_type": "code",
   "execution_count": 19,
   "metadata": {},
   "outputs": [
    {
     "output_type": "stream",
     "name": "stdout",
     "text": [
      "\n",
      "# in gizmo_analysis.gizmo_track.ParticlePointer():\n",
      "* read particle pointers from:  Users/awetzel/work/research/simulation/gizmo/simulations/m12/m12i/m12i_res57000/track/star_gas_pointers_277.hdf5\n",
      "* read particle pointers from:  Users/awetzel/work/research/simulation/gizmo/simulations/m12/m12i/m12i_res57000/track/star_gas_pointers_172.hdf5\n",
      "[[ 224.35345256 -102.50255757 -208.25313603]\n",
      " [ 313.50763315 -345.17309798 -495.19974925]\n",
      " [ 114.49285425  233.74061457 -177.28187293]\n",
      " ...\n",
      " [  53.25622074 -595.53442327  -88.54922416]\n",
      " [  57.46695114 -592.76897158  -83.2795691 ]\n",
      " [  58.68275013 -596.29758723  -82.94903887]]\n",
      "* read particle pointers from:  Users/awetzel/work/research/simulation/gizmo/simulations/m12/m12i/m12i_res57000/track/star_gas_pointers_172.hdf5\n",
      "* read particle pointers from:  Users/awetzel/work/research/simulation/gizmo/simulations/m12/m12i/m12i_res57000/track/star_gas_pointers_277.hdf5\n",
      "[[-560.31238357 -135.1138063   780.92769312]\n",
      " [-683.88542357 -173.21415443  796.86951148]\n",
      " [-705.87410058 -145.10567908  770.32026879]\n",
      " ...\n",
      " [-258.38776428  710.77164984  377.14910812]\n",
      " [ -94.5892211   497.91426255  289.2440255 ]\n",
      " [-150.44327719  618.12171284  316.23342548]]\n"
     ]
    }
   ],
   "source": [
    "# do the same, but for gas\n",
    "\n",
    "ParticlePointer = gizmo.track.ParticlePointerClass(simulation_directory=simulation_directory)\n",
    "\n",
    "# tracking going forward in time\n",
    "pointers_z2_to_z1 = ParticlePointer.read_pointers_between_snapshots(\n",
    "    snapshot_index_from=172, snapshot_index_to=277, species_name='gas')\n",
    "\n",
    "# ensure that gas particle still is a gas particle at z = 1\n",
    "masks = (pointers_z2_to_z1 >= 0)\n",
    "\n",
    "print(part_at_z2['gas']['position'][masks] - part_at_z1['gas']['position'][pointers_z2_to_z1[masks]])\n",
    "\n",
    "# tracking going backward in time\n",
    "pointers_z1_to_z2 = ParticlePointer.read_pointers_between_snapshots(\n",
    "    snapshot_index_from=277, snapshot_index_to=172, species_name='gas')\n",
    "\n",
    "# for gas, still have to ensure positive pointers, even if tracking going backward in time,\n",
    "# because a few gas particles that leave the zoom-in region get culled (for numerical stability) by z = 0\n",
    "# (remember that the pointers always route through z = 0)\n",
    "masks = (pointers_z1_to_z2 >= 0)\n",
    "\n",
    "print(part_at_z1['gas']['position'][masks] - part_at_z2['gas']['position'][pointers_z1_to_z2[masks]])"
   ]
  },
  {
   "cell_type": "markdown",
   "metadata": {},
   "source": [
    "# star particle formation coordinates"
   ]
  },
  {
   "cell_type": "markdown",
   "metadata": {},
   "source": [
    "As part of star particle tracking, we store the position and velocity of each star particle immediately after it formed. Because we typically store snapshots every 20 - 25 Myr, this means that these 'formation' coordiantes are the coordinates of a star particle0 - ~25 Myr after it formed.\n",
    "\n",
    "Within track/, host_coordinates.hdf5 stores, for each star particle at z = 0, its 3-D distance and 3-D velocity wrt to the main host galaxy at the first snapshot after it formed. These coordinates are aligned with the principal (major, intermediate, minor) axes of the stellar disk (as defined via its moment of inertia tensor) at that snapshot."
   ]
  },
  {
   "cell_type": "code",
   "execution_count": 20,
   "metadata": {},
   "outputs": [
    {
     "output_type": "stream",
     "name": "stdout",
     "text": [
      "\n",
      "# in utilities.basic.io.file_hdf5():\n",
      "  reading file:  Users/awetzel/work/research/simulation/gizmo/simulations/m12/m12i/m12i_res57000/track/host_coordinates.hdf5\n",
      "    host.axis.ratios | float32, shape = (601, 1, 3)\n",
      "    host.position | float32, shape = (601, 1, 3)\n",
      "    host.rotation | float32, shape = (601, 1, 3, 3)\n",
      "    host.velocity | float32, shape = (601, 1, 3)\n",
      "    snapshot.index | int64, shape = ()\n",
      "    star.form.host.distance | float32, shape = (3059250, 3)\n",
      "    star.form.host.velocity | float32, shape = (3059250, 3)\n",
      "    star.id | uint32, shape = (3059250,)\n",
      "  reading formation coordinates for star particles at snapshot 600\n"
     ]
    }
   ],
   "source": [
    "# use the function within gizmo_track.py to read this file and assign values directly to the catalog at z = 0\n",
    "\n",
    "gizmo.track.ParticleCoordinate.io_hosts_and_formation_coordinates(part_at_z0, simulation_directory)"
   ]
  },
  {
   "cell_type": "code",
   "execution_count": 21,
   "metadata": {},
   "outputs": [
    {
     "output_type": "stream",
     "name": "stdout",
     "text": [
      "\n",
      "# in utilities.simulation.Snapshot():\n",
      "* reading:  Users/awetzel/work/research/simulation/gizmo/simulations/m12/m12i/m12i_res57000/snapshot_times.txt\n",
      "\n",
      "* input redshift = 0:  using snapshot index = 600, redshift = 0.000\n",
      "\n",
      "\n",
      "# in gizmo_analysis.gizmo_io.Read():\n",
      "* reading header from:  Users/awetzel/work/research/simulation/gizmo/simulations/m12/m12i/m12i_res57000/output/snapshot_600.hdf5\n",
      "  snapshot contains the following number of particles:\n",
      "    dark      (id = 1): 8820344 particles\n",
      "    dark2     (id = 2): 3081337 particles\n",
      "    gas       (id = 0): 5969934 particles\n",
      "    star      (id = 4): 3059250 particles\n",
      "    blackhole (id = 5): 0 particles\n",
      "\n",
      "* reading species: ['star']\n",
      "* reading particles from:\n",
      "    Users/awetzel/work/research/simulation/gizmo/simulations/m12/m12i/m12i_res57000/output/snapshot_600.hdf5\n",
      "\n",
      "* reading cosmological parameters from:  Users/awetzel/work/research/simulation/gizmo/simulations/m12/m12i/m12i_res57000/initial_condition/ic_agora_m12i.conf\n",
      "\n",
      "* checking sanity of particle properties\n",
      "\n",
      "  read 1 host (position, velocity, rotation, axis ratios) from:  Users/awetzel/work/research/simulation/gizmo/simulations/m12/m12i/m12i_res57000/track/host_coordinates.hdf5\n",
      "  host1 position = (41821.973, 44122.004, 46288.449) [kpc comoving]\n",
      "  host1 velocity = (-48.7, 73.1, 96.7) [km / s]\n",
      "  host1 axis ratios = (0.15, 0.15, 0.97)\n",
      "\n",
      "\n",
      "# in utilities.basic.io.file_hdf5():\n",
      "  reading file:  Users/awetzel/work/research/simulation/gizmo/simulations/m12/m12i/m12i_res57000/track/host_coordinates.hdf5\n",
      "    host.axis.ratios | float32, shape = (601, 1, 3)\n",
      "    host.position | float32, shape = (601, 1, 3)\n",
      "    host.rotation | float32, shape = (601, 1, 3, 3)\n",
      "    host.velocity | float32, shape = (601, 1, 3)\n",
      "    snapshot.index | int64, shape = ()\n",
      "    star.form.host.distance | float32, shape = (3059250, 3)\n",
      "    star.form.host.velocity | float32, shape = (3059250, 3)\n",
      "    star.id | uint32, shape = (3059250,)\n",
      "\n",
      "# in gizmo_analysis.gizmo_track.ParticleCoordinate():\n",
      "  reading formation coordinates for star particles at snapshot 600\n"
     ]
    }
   ],
   "source": [
    "# more conveniently, you can read the formation coordinates of star particles during snapshot read-in\n",
    "# by setting assign_formation_coordinates=True\n",
    "\n",
    "part_at_z0 = gizmo.io.Read.read_snapshots(\n",
    "    ['star'], 'redshift', 0, simulation_directory, assign_hosts_rotation=True, \n",
    "    assign_formation_coordinates=True)"
   ]
  },
  {
   "cell_type": "code",
   "execution_count": 22,
   "metadata": {},
   "outputs": [
    {
     "output_type": "execute_result",
     "data": {
      "text/plain": [
       "array([[ 4.5457406e+00,  5.7589731e+00, -1.0328604e+00],\n",
       "       [ 8.9594122e+02, -1.1873512e+03,  5.4280817e+02],\n",
       "       [ 1.2730801e+03,  4.3863670e+01, -5.9997925e+01],\n",
       "       ...,\n",
       "       [-3.6862216e+02,  7.0379065e+02, -9.2772058e+02],\n",
       "       [-3.4720767e+02,  3.9183545e+02, -2.2527449e+02],\n",
       "       [-2.9483548e+02,  4.7350249e+00, -2.5433069e+02]], dtype=float32)"
      ]
     },
     "metadata": {},
     "execution_count": 22
    }
   ],
   "source": [
    "# 3-D distance at formation\n",
    "# this is aligned with the principal axes of each host galaxy at that time [kpc physical]\n",
    "# we compute the principal axes *independently* at each snapshot\n",
    "# distance along dimension 0 is aligned with the major axiss\n",
    "# distance along dimension 1 is algined with the intermediate axis\n",
    "# distance along dimension 2 is aligned with the minor (Z) axis\n",
    "\n",
    "part_at_z0['star']['form.host.distance']\n",
    "\n",
    "# part_at_z0['star']['form.host2.distance']  # if the simulation has a second host galaxy (for example, ELVIS)"
   ]
  },
  {
   "cell_type": "code",
   "execution_count": 23,
   "metadata": {},
   "outputs": [
    {
     "output_type": "execute_result",
     "data": {
      "text/plain": [
       "array([   7.4092054, 1583.3995   , 1275.2477   , ..., 1221.4209   ,\n",
       "        569.9445   ,  389.40274  ], dtype=float32)"
      ]
     },
     "metadata": {},
     "execution_count": 23
    }
   ],
   "source": [
    "# as before, add 'total' to get the total scalar (absolute) distance wrt each host galaxy at formation [kpc physical]\n",
    "# this is a derived quantity, so need to call via .prop()\n",
    "\n",
    "part_at_z0['star'].prop('form.host.distance.total')"
   ]
  },
  {
   "cell_type": "code",
   "execution_count": 24,
   "metadata": {},
   "outputs": [
    {
     "output_type": "execute_result",
     "data": {
      "text/plain": [
       "array([[ 7.3368611e+00,  9.0259433e-01, -1.0328604e+00],\n",
       "       [ 1.4874520e+03,  5.3588095e+00,  5.4280817e+02],\n",
       "       [ 1.2738354e+03,  3.4441136e-02, -5.9997925e+01],\n",
       "       ...,\n",
       "       [ 7.9448322e+02,  2.0532761e+00, -9.2772058e+02],\n",
       "       [ 5.2353430e+02,  2.2958817e+00, -2.2527449e+02],\n",
       "       [ 2.9487350e+02,  3.1255341e+00, -2.5433069e+02]], dtype=float32)"
      ]
     },
     "metadata": {},
     "execution_count": 24
    }
   ],
   "source": [
    "# add 'cylindrical' to get 3-D distance at formation wrt each host galaxy in cylindrical coordinates [kpc physical]\n",
    "\n",
    "part_at_z0['star'].prop('form.host.distance.cylindrical')"
   ]
  },
  {
   "cell_type": "code",
   "execution_count": 25,
   "metadata": {},
   "outputs": [
    {
     "output_type": "execute_result",
     "data": {
      "text/plain": [
       "array([[ 7.336861  ,  0.9025943 , -1.0328604 ],\n",
       "       [ 2.8240697 ,  4.5712667 , -0.01329234],\n",
       "       [ 2.4336934 ,  3.578632  ,  0.01743255],\n",
       "       ...,\n",
       "       [ 2.752147  ,  5.991608  , -1.4814194 ],\n",
       "       [ 3.6225774 ,  3.389197  , -0.01087113],\n",
       "       [ 1.5268447 ,  1.9155377 , -0.12839043]], dtype=float32)"
      ]
     },
     "metadata": {},
     "execution_count": 25
    }
   ],
   "source": [
    "# these values look more reasonable if you restrict to star particles that formed within a host galaxy\n",
    "\n",
    "# select particles formed at d = 0 - 8 kpc physical\n",
    "part_indices = ut.array.get_indices(part_at_z0['star'].prop('form.host.distance.total'), [0, 8])\n",
    "\n",
    "part_at_z0['star'].prop('form.host.distance.cylindrical', part_indices)"
   ]
  },
  {
   "cell_type": "code",
   "execution_count": 27,
   "metadata": {},
   "outputs": [
    {
     "output_type": "stream",
     "name": "stdout",
     "text": [
      "[[ 597.68427    778.17926    291.25388  ]\n",
      " [  21.861961  -166.42316     20.273352 ]\n",
      " [ 244.85405   -126.531166    24.533964 ]\n",
      " ...\n",
      " [  -5.7452097  118.19287     -7.804297 ]\n",
      " [-128.7966      32.298725     8.159344 ]\n",
      " [-153.91582     44.954567   -40.771374 ]]\n",
      "[1023.5322   169.07283  276.7048  ...  118.5895   133.03513  165.44878]\n",
      "[[ 981.1322      12.9964905  291.25388  ]\n",
      " [ 146.01463    -82.79093     20.273352 ]\n",
      " [ 240.35184   -134.88751     24.533964 ]\n",
      " ...\n",
      " [ 107.36646    -49.749428    -7.804297 ]\n",
      " [ 109.59158     74.97638      8.159344 ]\n",
      " [ 154.61786    -42.47722    -40.771374 ]]\n"
     ]
    }
   ],
   "source": [
    "# same for velocity at formation\n",
    "\n",
    "print(part_at_z0['star']['form.host.velocity'])\n",
    "print(part_at_z0['star'].prop('form.host.velocity.total'))\n",
    "print(part_at_z0['star'].prop('form.host.velocity.cylindrical'))"
   ]
  },
  {
   "cell_type": "code",
   "execution_count": 32,
   "metadata": {},
   "outputs": [
    {
     "output_type": "stream",
     "name": "stdout",
     "text": [
      "[[[      nan       nan       nan]]\n\n [[      nan       nan       nan]]\n\n [[43738.48  42438.81  44075.555]]\n\n ...\n\n [[41822.176 44121.656 46288.01 ]]\n\n [[41822.07  44121.832 46288.22 ]]\n\n [[41821.973 44122.004 46288.45 ]]]\n[[[       nan        nan        nan]]\n\n [[       nan        nan        nan]]\n\n [[-36.463985  22.784967  40.35905 ]]\n\n ...\n\n [[-48.60423   73.22472   96.21793 ]]\n\n [[-48.6544    73.18901   96.45606 ]]\n\n [[-48.735596  73.141556  96.68621 ]]]\n"
     ]
    }
   ],
   "source": [
    "# recall that we store formation postions + velocities relative to each host's principal axes\n",
    "# and that we compute the principal axes separately at each snapshot\n",
    "# thus, we also store each host's coordinates and rotation tensor (for its principal axes) at each snapshot\n",
    "# so you can use this to compute formation coordinates in the box's x,y,z coordinates if you want\n",
    "\n",
    "print(part_at_z0.hostz['position'])\n",
    "\n",
    "print(part_at_z0.hostz['velocity'])"
   ]
  },
  {
   "cell_type": "code",
   "execution_count": 33,
   "metadata": {},
   "outputs": [
    {
     "output_type": "stream",
     "name": "stdout",
     "text": [
      "[[[[        nan         nan         nan]\n   [        nan         nan         nan]\n   [        nan         nan         nan]]]\n\n\n [[[        nan         nan         nan]\n   [        nan         nan         nan]\n   [        nan         nan         nan]]]\n\n\n [[[-0.6748151   0.40482095  0.617045  ]\n   [-0.536163   -0.84346956 -0.03299071]\n   [ 0.5071033  -0.35309932  0.786236  ]]]\n\n\n ...\n\n\n [[[-0.30780238  0.20832402  0.9283635 ]\n   [ 0.84225535  0.51352084  0.16401924]\n   [-0.44256487  0.8324046  -0.33352497]]]\n\n\n [[[-0.07945018  0.3342501   0.93912965]\n   [ 0.8932489   0.4420637  -0.0817683 ]\n   [-0.4424862   0.83238006 -0.33369058]]]\n\n\n [[[ 0.16259898  0.44078463  0.88276297]\n   [ 0.8818997   0.3363157  -0.33037043]\n   [-0.44250926  0.83222634 -0.33404326]]]]\n[[[       nan        nan        nan]]\n\n [[       nan        nan        nan]]\n\n [[       nan        nan 0.6049246 ]]\n\n ...\n\n [[0.14877434 0.15252914 0.9753831 ]]\n\n [[0.14853545 0.1528604  0.97170645]]\n\n [[0.14807291 0.15283084 0.968868  ]]]\n"
     ]
    }
   ],
   "source": [
    "print(part_at_z0.hostz['rotation'])\n",
    "\n",
    "print(part_at_z0.hostz['axis.ratios'])"
   ]
  },
  {
   "cell_type": "markdown",
   "metadata": {
    "collapsed": true
   },
   "source": [
    "# profile of properties"
   ]
  },
  {
   "cell_type": "markdown",
   "metadata": {},
   "source": [
    "A common task is to compute a radial profile of a given quantity, such as mass density, average age, median metallicity, etc.\n",
    "\n",
    "The following functions in utilities.particle make this easier to do."
   ]
  },
  {
   "cell_type": "code",
   "execution_count": 34,
   "metadata": {},
   "outputs": [
    {
     "output_type": "stream",
     "name": "stdout",
     "text": [
      "\n",
      "# in utilities.simulation.Snapshot():\n",
      "* reading:  Users/awetzel/work/research/simulation/gizmo/simulations/m12/m12i/m12i_res57000/snapshot_times.txt\n",
      "\n",
      "* input redshift = 0:  using snapshot index = 600, redshift = 0.000\n",
      "\n",
      "\n",
      "# in gizmo_analysis.gizmo_io.Read():\n",
      "* reading header from:  Users/awetzel/work/research/simulation/gizmo/simulations/m12/m12i/m12i_res57000/output/snapshot_600.hdf5\n",
      "  snapshot contains the following number of particles:\n",
      "    dark      (id = 1): 8820344 particles\n",
      "    dark2     (id = 2): 3081337 particles\n",
      "    gas       (id = 0): 5969934 particles\n",
      "    star      (id = 4): 3059250 particles\n",
      "    blackhole (id = 5): 0 particles\n",
      "\n",
      "* reading species: ['star']\n",
      "* reading particles from:\n",
      "    Users/awetzel/work/research/simulation/gizmo/simulations/m12/m12i/m12i_res57000/output/snapshot_600.hdf5\n",
      "\n",
      "* reading cosmological parameters from:  Users/awetzel/work/research/simulation/gizmo/simulations/m12/m12i/m12i_res57000/initial_condition/ic_agora_m12i.conf\n",
      "\n",
      "* checking sanity of particle properties\n",
      "\n",
      "  read 1 host (position, velocity, rotation, axis ratios) from:  Users/awetzel/work/research/simulation/gizmo/simulations/m12/m12i/m12i_res57000/track/host_coordinates.hdf5\n",
      "  host1 position = (41821.973, 44122.004, 46288.449) [kpc comoving]\n",
      "  host1 velocity = (-48.7, 73.1, 96.7) [km / s]\n",
      "  host1 axis ratios = (0.15, 0.15, 0.97)\n",
      "\n"
     ]
    }
   ],
   "source": [
    "# read star particles at z = 0\n",
    "\n",
    "part = gizmo.io.Read.read_snapshots(\n",
    "    ['star'], 'redshift', 0, simulation_directory, assign_hosts_rotation=True)"
   ]
  },
  {
   "cell_type": "code",
   "execution_count": 37,
   "metadata": {},
   "outputs": [],
   "source": [
    "# first, initiate an instance of SpeciesProfileClass\n",
    "# as you initialize, choose your distance/radius binning scheme:\n",
    "#   distance limits, bin width, whether to use log scaling, number of spatial dimensions of profile\n",
    "# refer to ut.binning.DistanceBinClass() for more\n",
    "\n",
    "# linear binning from 0 to 20 kpc with 1 kpc bin width, assuming a 3-D profile\n",
    "SpeciesProfile = ut.particle.SpeciesProfileClass(\n",
    "    limits=[0, 20], width=1, log_scale=False, dimension_number=3)"
   ]
  },
  {
   "cell_type": "code",
   "execution_count": 38,
   "metadata": {},
   "outputs": [
    {
     "output_type": "stream",
     "name": "stdout",
     "text": [
      "\n# in utilities.particle.SpeciesProfile():\n  input  3059250 distances -  2706223 (88.5%) are within limits = [0.000, 20.000]\n"
     ]
    }
   ],
   "source": [
    "# using this binning scheme, compute sum/histogram/density of mass of star particles in each bin\n",
    "# this returns a bunch of summed properties via a dictionary\n",
    "\n",
    "pro = SpeciesProfile.get_sum_profiles(part, 'star', 'mass')"
   ]
  },
  {
   "cell_type": "code",
   "execution_count": 40,
   "metadata": {},
   "outputs": [
    {
     "output_type": "execute_result",
     "data": {
      "text/plain": [
       "dict_keys(['star', 'baryon', 'total'])"
      ]
     },
     "metadata": {},
     "execution_count": 40
    }
   ],
   "source": [
    "# you can supply a list of multiple species, and it will compute profiles for each\n",
    "# thus, get_sum_profiles() returns a dictionary for each species\n",
    "# 'baryon' is the sum total of stars + gas, 'total' is the sum total of all particle species\n",
    "\n",
    "pro.keys()"
   ]
  },
  {
   "cell_type": "code",
   "execution_count": 41,
   "metadata": {},
   "outputs": [
    {
     "output_type": "execute_result",
     "data": {
      "text/plain": [
       "dict_keys(['sum', 'sum.cum', 'log sum', 'log sum.cum', 'density', 'log density', 'density.cum', 'log density.cum', 'density*r', 'log density*r', 'density*r^2', 'log density*r^2', 'distance.mid', 'distance.cum', 'log distance.mid', 'log distance.cum', 'sum.fraction', 'sum.cum.fraction', 'vel.circ'])"
      ]
     },
     "metadata": {},
     "execution_count": 41
    }
   ],
   "source": [
    "# the quantities that it stores in each bin\n",
    "\n",
    "pro['star'].keys()"
   ]
  },
  {
   "cell_type": "code",
   "execution_count": 42,
   "metadata": {},
   "outputs": [],
   "source": [
    "# alternately, you may want to compute profiles along a disk's cylindrical R or Z axes\n",
    "# if so, first define the dimensionality of the profile when you initiate the class\n",
    "\n",
    "# log binning from 0.1 to 10 kpc with 0.1 dex bin width, assuming a 2-D profile (along R)\n",
    "SpeciesProfile = ut.particle.SpeciesProfileClass(\n",
    "    limits=[0.1, 10], width=0.1, log_scale=True, dimension_number=2)"
   ]
  },
  {
   "cell_type": "code",
   "execution_count": 43,
   "metadata": {},
   "outputs": [
    {
     "output_type": "stream",
     "name": "stdout",
     "text": [
      "\n# in utilities.particle.SpeciesProfile():\n  input  2097059 distances -  2064104 (98.4%) are within limits = [0.100, 10.000]\n"
     ]
    }
   ],
   "source": [
    "# set rotation=True to force the code to compute profiles along the principal axes (assuming that you assign them during read in)\n",
    "# use other_axis_distance_limits to limit the extent along the other axis, \n",
    "#   in this case, limit the Z axis to within +/- 1 kpc (in the profile, all distances are absolute)\n",
    "\n",
    "pro = SpeciesProfile.get_sum_profiles(\n",
    "    part, 'star', 'mass', rotation=True, other_axis_distance_limits=[0, 1])"
   ]
  },
  {
   "cell_type": "code",
   "execution_count": 44,
   "metadata": {},
   "outputs": [
    {
     "output_type": "stream",
     "name": "stdout",
     "text": [
      "\n# in utilities.particle.SpeciesProfile():\n  input   293261 distances -   259655 (88.5%) are within limits = [0.100, 10.000]\n"
     ]
    }
   ],
   "source": [
    "# similarly, do this to compute profiles along disk's Z axis\n",
    "\n",
    "# log binning from 0.1 to 10 kpc with 0.1 dex bin width, assuming a 1-D profile (along Z)\n",
    "SpeciesProfile = ut.particle.SpeciesProfileClass(\n",
    "    limits=[0.1, 10], width=0.1, log_scale=True, dimension_number=1)\n",
    "\n",
    "# limit the R axex to [5, 8] kpc \n",
    "pro = SpeciesProfile.get_sum_profiles(\n",
    "    part, 'star', 'mass', rotation=True, other_axis_distance_limits=[5, 8])"
   ]
  },
  {
   "cell_type": "code",
   "execution_count": 45,
   "metadata": {},
   "outputs": [
    {
     "output_type": "stream",
     "name": "stdout",
     "text": [
      "  input   293261 distances -   259655 (88.5%) are within limits = [0.100, 10.000]\n"
     ]
    }
   ],
   "source": [
    "# get_statistics_profiles() computes various statistics of a property of star particles in each bin below, it weights the property by the mass of each star particle (generally what you should do)\n",
    "# this returns a bunch of useful statistics via a dictionary\n",
    "\n",
    "pro = SpeciesProfile.get_statistics_profiles(\n",
    "    part, 'star', 'age', weight_by_mass=True, rotation=True, other_axis_distance_limits=[5, 8])"
   ]
  },
  {
   "cell_type": "code",
   "execution_count": 46,
   "metadata": {},
   "outputs": [
    {
     "output_type": "execute_result",
     "data": {
      "text/plain": [
       "dict_keys(['limits', 'number', 'median', 'percent.16', 'percent.84', 'percent.2', 'percent.98', 'percent.0.1', 'percent.99.9', 'percent.25', 'percent.75', 'percents.68', 'percents.95', 'median.dif.2', 'median.dif.16', 'median.dif.84', 'median.dif.98', 'median.difs.68', 'median.difs.95', 'average', 'std', 'sem', 'std.lo', 'std.hi', 'min', 'max', 'percent.50', 'average.50', 'sem.lo', 'sem.hi', 'distance.mid', 'distance.cum', 'log distance.mid', 'log distance.cum'])"
      ]
     },
     "metadata": {},
     "execution_count": 46
    }
   ],
   "source": [
    "# the quantities that it stores in each bin\n",
    "\n",
    "pro['star'].keys()"
   ]
  },
  {
   "source": [
    "# age-tracer model for assigning elemental abundances to particles in post-processing"
   ],
   "cell_type": "markdown",
   "metadata": {}
  },
  {
   "source": [
    "This section is a tutorial on using the age-tracer model to assign elemental abundaces to star and gas particles in FIRE-2 and FIRE-3 simulations. This requires that you are analyzing a simulation has has the age-tracer model enabled, via defining GALSF_FB_FIRE_AGE_TRACERS in Gizmo's Config.sh."
   ],
   "cell_type": "markdown",
   "metadata": {}
  },
  {
   "cell_type": "code",
   "execution_count": 202,
   "metadata": {},
   "outputs": [],
   "source": [
    "import gizmo_analysis as gizmo\n",
    "import utilities as ut\n",
    "\n",
    "import numpy as np\n",
    "\n",
    "%matplotlib inline\n",
    "import matplotlib.pyplot as plt"
   ]
  },
  {
   "cell_type": "code",
   "execution_count": 223,
   "metadata": {},
   "outputs": [],
   "source": [
    "# use this is you are running from within a simulation directory\n",
    "#simulation_directory = '.'\n",
    "\n",
    "# use this to point to a specific simulation directory, if you run this notebook from somwhere else\n",
    "simulation_directory = '/Users/awetzel/work/research/simulation/gizmo/simulations/m12/m12i/m12i_res57000_uvb-late_age-tracer'\n",
    "#simulation_directory = '/Users/awetzel/work/research/simulation/gizmo/simulations/m12/m12i/m12i_res57000_uvb-late_age-tracer-frequent'\n",
    "#simulation_directory = '/Users/awetzel/work/research/simulation/gizmo/simulations/m12/m12i/m12i_res7100_uvb-late_age-tracer'"
   ]
  },
  {
   "cell_type": "code",
   "execution_count": 224,
   "metadata": {},
   "outputs": [
    {
     "output_type": "stream",
     "name": "stdout",
     "text": [
      "\n",
      "# in utilities.simulation.Snapshot():\n",
      "* reading:  Users/awetzel/work/research/simulation/gizmo/simulations/m12/m12i/m12i_res57000_uvb-late_age-tracer/snapshot_times.txt\n",
      "\n",
      "  using snapshot index = 172, redshift = 2.000\n",
      "\n",
      "\n",
      "# in gizmo_analysis.gizmo_io.Read():\n",
      "* reading header from:  Users/awetzel/work/research/simulation/gizmo/simulations/m12/m12i/m12i_res57000_uvb-late_age-tracer/output/snapshot_172.hdf5\n",
      "  snapshot contains the following number of particles:\n",
      "    dark      (id = 1): 8820344 particles\n",
      "    dark2     (id = 2): 3081337 particles\n",
      "    gas       (id = 0): 8621492 particles\n",
      "    star      (id = 4): 198791 particles\n",
      "    blackhole (id = 5): 0 particles\n",
      "\n",
      "* reading species: ['star']\n",
      "* reading particles from:\n",
      "    Users/awetzel/work/research/simulation/gizmo/simulations/m12/m12i/m12i_res57000_uvb-late_age-tracer/output/snapshot_172.hdf5\n",
      "\n",
      "* reading cosmological parameters from:  Users/awetzel/work/research/simulation/gizmo/simulations/m12/m12i/m12i_res57000_uvb-late_age-tracer/initial_condition/ic_agora_m12i.conf\n",
      "\n",
      "* checking sanity of particle properties\n",
      "\n",
      "  cannot read file containing hosts coordinates\n",
      "  instead will assign hosts via iterative zoom on particle mass\n",
      "\n",
      "# in utilities.particle.get_center_positions():\n",
      "* assigning position for 1 center/host, via iterative zoom-in on star particle mass\n",
      "  host1 position = (42862.911, 42483.676, 44860.804) [kpc comoving]\n",
      "\n",
      "# in utilities.particle.get_center_velocities():\n",
      "* assigning velocity for 1 center/host, weighting star particles by mass\n",
      "  host1 velocity = (-66.2, 105.8, 59.1) [km / s]\n",
      "\n"
     ]
    }
   ],
   "source": [
    "# read star particles at z = 0 from a simulation with age tracers enabled\n",
    "\n",
    "part = gizmo.io.Read.read_snapshots(['star'], 'index', 172, simulation_directory=simulation_directory)\n",
    "#part = gizmo.io.Read.read_snapshots(['star'], 'index', 267, simulation_directory=simulation_directory)"
   ]
  },
  {
   "cell_type": "code",
   "execution_count": 225,
   "metadata": {},
   "outputs": [
    {
     "output_type": "execute_result",
     "data": {
      "text/plain": [
       "True"
      ]
     },
     "metadata": {},
     "execution_count": 225
    }
   ],
   "source": [
    "# the simulation has age tracers if the following flag is True\n",
    "\n",
    "part.info['has.agetracer']"
   ]
  },
  {
   "cell_type": "code",
   "execution_count": 226,
   "metadata": {},
   "outputs": [
    {
     "output_type": "stream",
     "name": "stdout",
     "text": [
      "number of age bins = 16\nage min,max = 1.0, 14000.0 Myr\ntargeted number of events per age bins = 10.0\n"
     ]
    }
   ],
   "source": [
    "# additional information about the age-tracer model used in the simulation\n",
    "\n",
    "# number of age bins in the age-tracer model\n",
    "print('number of age bins = {}'.format(part.info['agetracer.number']))\n",
    "\n",
    "# if age-tracer model used bins equally spaced in log age (which is the default), the min and max age of these bins [Myr] (though GizmoAnalysis will over-ride the age min to be 0)\n",
    "if 'agetracer.min' in part.info:\n",
    "    print('age min,max = {}, {} Myr'.format(part.info['agetracer.min'], part.info['agetracer.max']))\n",
    "\n",
    "# alternately, if the simulation used custom age bins, this lists them\n",
    "if 'agetracer.bins' in part.info:\n",
    "    print('age bins = {}'.format(part.info['agetracer.bins']))\n",
    "\n",
    "# targeted number of age-tracer injection events per age bin\n",
    "# if <= 0, this means Gizmo deposited weights at each timestep\n",
    "print('targeted number of events per age bins = {}'.format(part.info['agetracer.events.per.bin']))"
   ]
  },
  {
   "cell_type": "code",
   "execution_count": 227,
   "metadata": {},
   "outputs": [],
   "source": [
    "# if a simulation has age tracers enabled, read_snapshots() automatically sets up the nucleosynthetic yields for computing elementa abundances in the FIRE-2 model and assigns the class to the each species' particle dictionary\n",
    "\n",
    "# here we explicitly work though these steps for star particles. this works identically for gas particles\n",
    "\n",
    "species_name = 'star'\n",
    "#species_name = 'gas'"
   ]
  },
  {
   "cell_type": "code",
   "execution_count": 228,
   "metadata": {},
   "outputs": [],
   "source": [
    "# create and append an age-tracer dictionary class to particle species catalog\n",
    "# this stores all age-tracer information and provides the methods to compute elemental abundances (mass fractions) for each particle from the age-tracer mass weights\n",
    "\n",
    "# pass in the snapshot header information, stored via part.info, which contains the age-tracer bin information, to set up the age bins\n",
    "part[species_name].ElementAgeTracer = gizmo.agetracer.ElementAgeTracerClass(part.info)\n",
    "\n",
    "# test of older simulations\n",
    "#element_index_start = 15\n",
    "#part[species_name].ElementAgeTracer = gizmo.agetracer.ElementAgeTracerClass#(element_index_start=element_index_start)\n",
    "#part[species_name].ElementAgeTracer.assign_age_bins(age_bin_number=16, age_min=1, age_max=14000)\n",
    "#part[species_name]['massfraction'][:, element_index_start:] *= part.Cosmology['hubble'] / 1e10"
   ]
  },
  {
   "cell_type": "code",
   "execution_count": 161,
   "metadata": {},
   "outputs": [
    {
     "output_type": "error",
     "ename": "AssertionError",
     "evalue": "",
     "traceback": [
      "\u001b[0;31m---------------------------------------------------------------------------\u001b[0m",
      "\u001b[0;31mAssertionError\u001b[0m                            Traceback (most recent call last)",
      "\u001b[0;32m<ipython-input-161-8844b7ad0e70>\u001b[0m in \u001b[0;36m<module>\u001b[0;34m\u001b[0m\n\u001b[1;32m     11\u001b[0m     massfraction_initial[element_name] = (\n\u001b[1;32m     12\u001b[0m        metallicity_initial * FIREYield.NucleosyntheticYield.sun_massfraction[element_name])\n\u001b[0;32m---> 13\u001b[0;31m \u001b[0mpart\u001b[0m\u001b[0;34m[\u001b[0m\u001b[0mspecies_name\u001b[0m\u001b[0;34m]\u001b[0m\u001b[0;34m.\u001b[0m\u001b[0mElementAgeTracer\u001b[0m\u001b[0;34m.\u001b[0m\u001b[0massign_element_massfraction_initial\u001b[0m\u001b[0;34m(\u001b[0m\u001b[0mmassfraction_initial\u001b[0m\u001b[0;34m)\u001b[0m\u001b[0;34m\u001b[0m\u001b[0;34m\u001b[0m\u001b[0m\n\u001b[0m",
      "\u001b[0;32m~/work/research/analysis/gizmo_analysis/gizmo_agetracer.py\u001b[0m in \u001b[0;36massign_element_massfraction_initial\u001b[0;34m(self, massfraction_initial_dict)\u001b[0m\n\u001b[1;32m    253\u001b[0m         '''\n\u001b[1;32m    254\u001b[0m         \u001b[0;32mif\u001b[0m \u001b[0misinstance\u001b[0m\u001b[0;34m(\u001b[0m\u001b[0mmassfraction_initial_dict\u001b[0m\u001b[0;34m,\u001b[0m \u001b[0mdict\u001b[0m\u001b[0;34m)\u001b[0m \u001b[0;32mand\u001b[0m \u001b[0mlen\u001b[0m\u001b[0;34m(\u001b[0m\u001b[0mmassfraction_initial_dict\u001b[0m\u001b[0;34m)\u001b[0m \u001b[0;34m>\u001b[0m \u001b[0;36m0\u001b[0m\u001b[0;34m:\u001b[0m\u001b[0;34m\u001b[0m\u001b[0;34m\u001b[0m\u001b[0m\n\u001b[0;32m--> 255\u001b[0;31m             \u001b[0;32massert\u001b[0m \u001b[0mself\u001b[0m\u001b[0;34m[\u001b[0m\u001b[0;34m'yields'\u001b[0m\u001b[0;34m]\u001b[0m \u001b[0;32mis\u001b[0m \u001b[0;32mnot\u001b[0m \u001b[0;32mNone\u001b[0m \u001b[0;32mand\u001b[0m \u001b[0mlen\u001b[0m\u001b[0;34m(\u001b[0m\u001b[0mself\u001b[0m\u001b[0;34m[\u001b[0m\u001b[0;34m'yields'\u001b[0m\u001b[0;34m]\u001b[0m\u001b[0;34m)\u001b[0m \u001b[0;34m>\u001b[0m \u001b[0;36m0\u001b[0m\u001b[0;34m\u001b[0m\u001b[0;34m\u001b[0m\u001b[0m\n\u001b[0m\u001b[1;32m    256\u001b[0m             \u001b[0;31m# initialize to 0 for all elements in model, then over-write with elements in input dict\u001b[0m\u001b[0;34m\u001b[0m\u001b[0;34m\u001b[0m\u001b[0;34m\u001b[0m\u001b[0m\n\u001b[1;32m    257\u001b[0m             \u001b[0mself\u001b[0m\u001b[0;34m[\u001b[0m\u001b[0;34m'massfraction.initial'\u001b[0m\u001b[0;34m]\u001b[0m \u001b[0;34m=\u001b[0m \u001b[0;34m{\u001b[0m\u001b[0;34m}\u001b[0m\u001b[0;34m\u001b[0m\u001b[0;34m\u001b[0m\u001b[0m\n",
      "\u001b[0;31mAssertionError\u001b[0m: "
     ]
    }
   ],
   "source": [
    "# set the initial conditions for elemental abundances, that is, the initial mass fraction of each element.\n",
    "# this is not strictly necessary, the initial massfractions will default to 0 if you do not do this.\n",
    "# but this step can be useful if you want to be consistent with the metallicity floor (mass fraction = 1e-4 or 1e-5) used in many FIRE-2 simulations.\n",
    "\n",
    "# you can supply a single float to apply to all abundances (this is the default),\n",
    "# or you can supply a dictionary with element names as keys and values as initial mass fractions, if you want to use a different initial abundance for each element\n",
    "\n",
    "metallicity_initial = 1e-5\n",
    "massfraction_initial = {}\n",
    "for element_name in FIREYield.NucleosyntheticYield.sun_massfraction:\n",
    "    massfraction_initial[element_name] = (\n",
    "       metallicity_initial * FIREYield.NucleosyntheticYield.sun_massfraction[element_name])\n",
    "part[species_name].ElementAgeTracer.assign_element_massfraction_initial(massfraction_initial)"
   ]
  },
  {
   "cell_type": "code",
   "execution_count": 229,
   "metadata": {},
   "outputs": [],
   "source": [
    "# up to now we have not set or assumed any stellar nucleosynthetic rate or yield model, so the information in ElementAgeTracer is completely general\n",
    "\n",
    "# next we need to assume actual nucleosynthetic rates + yields for a given stellar evolution model, to supply to ElementAgeTracer, to generate actual nucleosynthetic yields from the age-tracer weights.\n",
    "# see gizmo_agetracer.py for examples in setting up the required yield class, which should contain a rate + yield model for each element.\n",
    "\n",
    "# here we use the default stellar evolution model in FIRE-2, assuming a default progenitor metallicity of 1.0 x Solar\n",
    "FIREYield = gizmo.agetracer.FIREYieldClass('fire2', progenitor_metallicity=0.3)"
   ]
  },
  {
   "cell_type": "code",
   "execution_count": 230,
   "metadata": {},
   "outputs": [],
   "source": [
    "# next we generate a nucleosynthetic yield table, by integrating this nucleosynthetic yield model within each age-tracer age bin, to discretize/average these nucleosynthetic yields within the age-tracer  age bins.\n",
    "# so, we neet to supply the age bins used in the age-tracer model.\n",
    "# these yields should be in a dictionary, with element names as keys, and an array of yields within each age bin as values.\n",
    "\n",
    "yield_dict = FIREYield.get_element_yields(part[species_name].ElementAgeTracer['age.bins'])"
   ]
  },
  {
   "cell_type": "code",
   "execution_count": 231,
   "metadata": {},
   "outputs": [],
   "source": [
    "# finally, transfer this yield dictionary to store in ElementAgeTracer.\n",
    "# this stores the dictionary keys as both the element name and the element symbol, for convenience in calling later.\n",
    "\n",
    "part[species_name].ElementAgeTracer.assign_element_yields(yield_dict)"
   ]
  },
  {
   "cell_type": "code",
   "execution_count": 212,
   "metadata": {},
   "outputs": [
    {
     "output_type": "stream",
     "name": "stdout",
     "text": [
      "[4.8578837e-05 5.8770467e-05 4.9029037e-05 ... 1.7300065e-08 1.1798958e-05\n 1.7300110e-08]\n[5.16957777e-05 5.87092771e-05 5.12551253e-05 ... 6.85229585e-14\n 1.26421342e-05 1.12749837e-13]\n[-1.4251919 -1.3424798 -1.4211856 ... -4.8735914 -2.0397954 -4.87359  ]\n[ -1.3981839   -1.34293224  -1.40190167 ... -10.27580286  -2.00981857\n -10.05952305]\n"
     ]
    }
   ],
   "source": [
    "# now you can use .prop() to call the age-tracer elemental mass fractions as derived quantities,\n",
    "# you just need to append '.agetracer' to the property name.\n",
    "# under the hood, this uses ElementAgeTracer.get_element_massfractions() to compute the element mass fractions from the age-tracer weights convolved with the nucleosynthetic yield model, adding in the initial abundances (if you set them).\n",
    "\n",
    "# mass fraction of iron for each particle, as tracked natively in the simulation\n",
    "print(part[species_name].prop('massfraction.fe'))\n",
    "\n",
    "# mass fraction of iron for each particle, as computed via post-processing the age-tracer weights\n",
    "print(part[species_name].prop('massfraction.agetracer.fe'))\n",
    "\n",
    "# 'metallicity' (wrt Solar, as in Asplund et al 2009) of iron for each particle, as tracked natively in the simulation\n",
    "print(part[species_name].prop('metallicity.fe'))\n",
    "\n",
    "# 'metallicity' of iron for each particle, as computed via post-processing the age-tracer weights\n",
    "print(part[species_name].prop('metallicity.agetracer.fe'))"
   ]
  },
  {
   "cell_type": "code",
   "execution_count": 232,
   "metadata": {},
   "outputs": [
    {
     "output_type": "stream",
     "name": "stdout",
     "text": [
      "\n",
      "# in utilities.basic.statistic.Statistic():\n",
      "  number = 198791\n",
      "\n",
      "  min = -1.503\n",
      "  max = 1.240\n",
      "\n",
      "  median = 0.017\n",
      "  average = 0.016\n",
      "\n",
      "  std = 0.038\n",
      "\n",
      "  percent.0.1 = -0.293\n",
      "  percent.2 = -0.079\n",
      "  percent.16 = 0.009\n",
      "  percent.50 = 0.017\n",
      "  percent.84 = 0.028\n",
      "  percent.98 = 0.059\n",
      "  percent.99.9 = 0.253\n"
     ]
    },
    {
     "output_type": "display_data",
     "data": {
      "text/plain": "<Figure size 432x288 with 1 Axes>",
      "image/svg+xml": "<?xml version=\"1.0\" encoding=\"utf-8\" standalone=\"no\"?>\n<!DOCTYPE svg PUBLIC \"-//W3C//DTD SVG 1.1//EN\"\n  \"http://www.w3.org/Graphics/SVG/1.1/DTD/svg11.dtd\">\n<!-- Created with matplotlib (https://matplotlib.org/) -->\n<svg height=\"296.611875pt\" version=\"1.1\" viewBox=\"0 0 388.33 296.611875\" width=\"388.33pt\" xmlns=\"http://www.w3.org/2000/svg\" xmlns:xlink=\"http://www.w3.org/1999/xlink\">\n <metadata>\n  <rdf:RDF xmlns:cc=\"http://creativecommons.org/ns#\" xmlns:dc=\"http://purl.org/dc/elements/1.1/\" xmlns:rdf=\"http://www.w3.org/1999/02/22-rdf-syntax-ns#\">\n   <cc:Work>\n    <dc:type rdf:resource=\"http://purl.org/dc/dcmitype/StillImage\"/>\n    <dc:date>2021-01-14T21:44:41.070510</dc:date>\n    <dc:format>image/svg+xml</dc:format>\n    <dc:creator>\n     <cc:Agent>\n      <dc:title>Matplotlib v3.3.2, https://matplotlib.org/</dc:title>\n     </cc:Agent>\n    </dc:creator>\n   </cc:Work>\n  </rdf:RDF>\n </metadata>\n <defs>\n  <style type=\"text/css\">*{stroke-linecap:butt;stroke-linejoin:round;}</style>\n </defs>\n <g id=\"figure_1\">\n  <g id=\"patch_1\">\n   <path d=\"M 0 296.611875 \nL 388.33 296.611875 \nL 388.33 0 \nL 0 0 \nz\n\" style=\"fill:none;\"/>\n  </g>\n  <g id=\"axes_1\">\n   <g id=\"patch_2\">\n    <path d=\"M 43.65 256.12 \nL 374.13 256.12 \nL 374.13 14.2 \nL 43.65 14.2 \nz\n\" style=\"fill:#ffffff;\"/>\n   </g>\n   <g id=\"matplotlib.axis_1\">\n    <g id=\"xtick_1\">\n     <g id=\"line2d_1\">\n      <defs>\n       <path d=\"M 0 0 \nL 0 7 \n\" id=\"m5094e14e0d\" style=\"stroke:#000000;stroke-width:1.2;\"/>\n      </defs>\n      <g>\n       <use style=\"stroke:#000000;stroke-width:1.2;\" x=\"73.693636\" xlink:href=\"#m5094e14e0d\" y=\"256.12\"/>\n      </g>\n     </g>\n     <g id=\"line2d_2\">\n      <defs>\n       <path d=\"M 0 0 \nL 0 -7 \n\" id=\"m1f5f88ff90\" style=\"stroke:#000000;stroke-width:1.2;\"/>\n      </defs>\n      <g>\n       <use style=\"stroke:#000000;stroke-width:1.2;\" x=\"73.693636\" xlink:href=\"#m1f5f88ff90\" y=\"14.2\"/>\n      </g>\n     </g>\n     <g id=\"text_1\">\n      <!-- −4 -->\n      <g transform=\"translate(66.322543 273.718438)scale(0.1 -0.1)\">\n       <defs>\n        <path d=\"M 10.59375 35.5 \nL 73.1875 35.5 \nL 73.1875 27.203125 \nL 10.59375 27.203125 \nz\n\" id=\"DejaVuSans-8722\"/>\n        <path d=\"M 37.796875 64.3125 \nL 12.890625 25.390625 \nL 37.796875 25.390625 \nz\nM 35.203125 72.90625 \nL 47.609375 72.90625 \nL 47.609375 25.390625 \nL 58.015625 25.390625 \nL 58.015625 17.1875 \nL 47.609375 17.1875 \nL 47.609375 0 \nL 37.796875 0 \nL 37.796875 17.1875 \nL 4.890625 17.1875 \nL 4.890625 26.703125 \nz\n\" id=\"DejaVuSans-52\"/>\n       </defs>\n       <use xlink:href=\"#DejaVuSans-8722\"/>\n       <use x=\"83.789062\" xlink:href=\"#DejaVuSans-52\"/>\n      </g>\n     </g>\n    </g>\n    <g id=\"xtick_2\">\n     <g id=\"line2d_3\">\n      <g>\n       <use style=\"stroke:#000000;stroke-width:1.2;\" x=\"133.780909\" xlink:href=\"#m5094e14e0d\" y=\"256.12\"/>\n      </g>\n     </g>\n     <g id=\"line2d_4\">\n      <g>\n       <use style=\"stroke:#000000;stroke-width:1.2;\" x=\"133.780909\" xlink:href=\"#m1f5f88ff90\" y=\"14.2\"/>\n      </g>\n     </g>\n     <g id=\"text_2\">\n      <!-- −3 -->\n      <g transform=\"translate(126.409815 273.718438)scale(0.1 -0.1)\">\n       <defs>\n        <path d=\"M 40.578125 39.3125 \nQ 47.65625 37.796875 51.625 33 \nQ 55.609375 28.21875 55.609375 21.1875 \nQ 55.609375 10.40625 48.1875 4.484375 \nQ 40.765625 -1.421875 27.09375 -1.421875 \nQ 22.515625 -1.421875 17.65625 -0.515625 \nQ 12.796875 0.390625 7.625 2.203125 \nL 7.625 11.71875 \nQ 11.71875 9.328125 16.59375 8.109375 \nQ 21.484375 6.890625 26.8125 6.890625 \nQ 36.078125 6.890625 40.9375 10.546875 \nQ 45.796875 14.203125 45.796875 21.1875 \nQ 45.796875 27.640625 41.28125 31.265625 \nQ 36.765625 34.90625 28.71875 34.90625 \nL 20.21875 34.90625 \nL 20.21875 43.015625 \nL 29.109375 43.015625 \nQ 36.375 43.015625 40.234375 45.921875 \nQ 44.09375 48.828125 44.09375 54.296875 \nQ 44.09375 59.90625 40.109375 62.90625 \nQ 36.140625 65.921875 28.71875 65.921875 \nQ 24.65625 65.921875 20.015625 65.03125 \nQ 15.375 64.15625 9.8125 62.3125 \nL 9.8125 71.09375 \nQ 15.4375 72.65625 20.34375 73.4375 \nQ 25.25 74.21875 29.59375 74.21875 \nQ 40.828125 74.21875 47.359375 69.109375 \nQ 53.90625 64.015625 53.90625 55.328125 \nQ 53.90625 49.265625 50.4375 45.09375 \nQ 46.96875 40.921875 40.578125 39.3125 \nz\n\" id=\"DejaVuSans-51\"/>\n       </defs>\n       <use xlink:href=\"#DejaVuSans-8722\"/>\n       <use x=\"83.789062\" xlink:href=\"#DejaVuSans-51\"/>\n      </g>\n     </g>\n    </g>\n    <g id=\"xtick_3\">\n     <g id=\"line2d_5\">\n      <g>\n       <use style=\"stroke:#000000;stroke-width:1.2;\" x=\"193.868182\" xlink:href=\"#m5094e14e0d\" y=\"256.12\"/>\n      </g>\n     </g>\n     <g id=\"line2d_6\">\n      <g>\n       <use style=\"stroke:#000000;stroke-width:1.2;\" x=\"193.868182\" xlink:href=\"#m1f5f88ff90\" y=\"14.2\"/>\n      </g>\n     </g>\n     <g id=\"text_3\">\n      <!-- −2 -->\n      <g transform=\"translate(186.497088 273.718438)scale(0.1 -0.1)\">\n       <defs>\n        <path d=\"M 19.1875 8.296875 \nL 53.609375 8.296875 \nL 53.609375 0 \nL 7.328125 0 \nL 7.328125 8.296875 \nQ 12.9375 14.109375 22.625 23.890625 \nQ 32.328125 33.6875 34.8125 36.53125 \nQ 39.546875 41.84375 41.421875 45.53125 \nQ 43.3125 49.21875 43.3125 52.78125 \nQ 43.3125 58.59375 39.234375 62.25 \nQ 35.15625 65.921875 28.609375 65.921875 \nQ 23.96875 65.921875 18.8125 64.3125 \nQ 13.671875 62.703125 7.8125 59.421875 \nL 7.8125 69.390625 \nQ 13.765625 71.78125 18.9375 73 \nQ 24.125 74.21875 28.421875 74.21875 \nQ 39.75 74.21875 46.484375 68.546875 \nQ 53.21875 62.890625 53.21875 53.421875 \nQ 53.21875 48.921875 51.53125 44.890625 \nQ 49.859375 40.875 45.40625 35.40625 \nQ 44.1875 33.984375 37.640625 27.21875 \nQ 31.109375 20.453125 19.1875 8.296875 \nz\n\" id=\"DejaVuSans-50\"/>\n       </defs>\n       <use xlink:href=\"#DejaVuSans-8722\"/>\n       <use x=\"83.789062\" xlink:href=\"#DejaVuSans-50\"/>\n      </g>\n     </g>\n    </g>\n    <g id=\"xtick_4\">\n     <g id=\"line2d_7\">\n      <g>\n       <use style=\"stroke:#000000;stroke-width:1.2;\" x=\"253.955455\" xlink:href=\"#m5094e14e0d\" y=\"256.12\"/>\n      </g>\n     </g>\n     <g id=\"line2d_8\">\n      <g>\n       <use style=\"stroke:#000000;stroke-width:1.2;\" x=\"253.955455\" xlink:href=\"#m1f5f88ff90\" y=\"14.2\"/>\n      </g>\n     </g>\n     <g id=\"text_4\">\n      <!-- −1 -->\n      <g transform=\"translate(246.584361 273.718438)scale(0.1 -0.1)\">\n       <defs>\n        <path d=\"M 12.40625 8.296875 \nL 28.515625 8.296875 \nL 28.515625 63.921875 \nL 10.984375 60.40625 \nL 10.984375 69.390625 \nL 28.421875 72.90625 \nL 38.28125 72.90625 \nL 38.28125 8.296875 \nL 54.390625 8.296875 \nL 54.390625 0 \nL 12.40625 0 \nz\n\" id=\"DejaVuSans-49\"/>\n       </defs>\n       <use xlink:href=\"#DejaVuSans-8722\"/>\n       <use x=\"83.789062\" xlink:href=\"#DejaVuSans-49\"/>\n      </g>\n     </g>\n    </g>\n    <g id=\"xtick_5\">\n     <g id=\"line2d_9\">\n      <g>\n       <use style=\"stroke:#000000;stroke-width:1.2;\" x=\"314.042727\" xlink:href=\"#m5094e14e0d\" y=\"256.12\"/>\n      </g>\n     </g>\n     <g id=\"line2d_10\">\n      <g>\n       <use style=\"stroke:#000000;stroke-width:1.2;\" x=\"314.042727\" xlink:href=\"#m1f5f88ff90\" y=\"14.2\"/>\n      </g>\n     </g>\n     <g id=\"text_5\">\n      <!-- 0 -->\n      <g transform=\"translate(310.861477 273.718438)scale(0.1 -0.1)\">\n       <defs>\n        <path d=\"M 31.78125 66.40625 \nQ 24.171875 66.40625 20.328125 58.90625 \nQ 16.5 51.421875 16.5 36.375 \nQ 16.5 21.390625 20.328125 13.890625 \nQ 24.171875 6.390625 31.78125 6.390625 \nQ 39.453125 6.390625 43.28125 13.890625 \nQ 47.125 21.390625 47.125 36.375 \nQ 47.125 51.421875 43.28125 58.90625 \nQ 39.453125 66.40625 31.78125 66.40625 \nz\nM 31.78125 74.21875 \nQ 44.046875 74.21875 50.515625 64.515625 \nQ 56.984375 54.828125 56.984375 36.375 \nQ 56.984375 17.96875 50.515625 8.265625 \nQ 44.046875 -1.421875 31.78125 -1.421875 \nQ 19.53125 -1.421875 13.0625 8.265625 \nQ 6.59375 17.96875 6.59375 36.375 \nQ 6.59375 54.828125 13.0625 64.515625 \nQ 19.53125 74.21875 31.78125 74.21875 \nz\n\" id=\"DejaVuSans-48\"/>\n       </defs>\n       <use xlink:href=\"#DejaVuSans-48\"/>\n      </g>\n     </g>\n    </g>\n    <g id=\"xtick_6\">\n     <g id=\"line2d_11\">\n      <g>\n       <use style=\"stroke:#000000;stroke-width:1.2;\" x=\"374.13\" xlink:href=\"#m5094e14e0d\" y=\"256.12\"/>\n      </g>\n     </g>\n     <g id=\"line2d_12\">\n      <g>\n       <use style=\"stroke:#000000;stroke-width:1.2;\" x=\"374.13\" xlink:href=\"#m1f5f88ff90\" y=\"14.2\"/>\n      </g>\n     </g>\n     <g id=\"text_6\">\n      <!-- 1 -->\n      <g transform=\"translate(370.94875 273.718438)scale(0.1 -0.1)\">\n       <use xlink:href=\"#DejaVuSans-49\"/>\n      </g>\n     </g>\n    </g>\n    <g id=\"text_7\">\n     <!-- [Fe/H] -->\n     <g transform=\"translate(190.861875 286.91625)scale(0.12 -0.12)\">\n      <defs>\n       <path d=\"M 8.59375 75.984375 \nL 29.296875 75.984375 \nL 29.296875 69 \nL 17.578125 69 \nL 17.578125 -6.203125 \nL 29.296875 -6.203125 \nL 29.296875 -13.1875 \nL 8.59375 -13.1875 \nz\n\" id=\"DejaVuSans-91\"/>\n       <path d=\"M 9.8125 72.90625 \nL 51.703125 72.90625 \nL 51.703125 64.59375 \nL 19.671875 64.59375 \nL 19.671875 43.109375 \nL 48.578125 43.109375 \nL 48.578125 34.8125 \nL 19.671875 34.8125 \nL 19.671875 0 \nL 9.8125 0 \nz\n\" id=\"DejaVuSans-70\"/>\n       <path d=\"M 56.203125 29.59375 \nL 56.203125 25.203125 \nL 14.890625 25.203125 \nQ 15.484375 15.921875 20.484375 11.0625 \nQ 25.484375 6.203125 34.421875 6.203125 \nQ 39.59375 6.203125 44.453125 7.46875 \nQ 49.3125 8.734375 54.109375 11.28125 \nL 54.109375 2.78125 \nQ 49.265625 0.734375 44.1875 -0.34375 \nQ 39.109375 -1.421875 33.890625 -1.421875 \nQ 20.796875 -1.421875 13.15625 6.1875 \nQ 5.515625 13.8125 5.515625 26.8125 \nQ 5.515625 40.234375 12.765625 48.109375 \nQ 20.015625 56 32.328125 56 \nQ 43.359375 56 49.78125 48.890625 \nQ 56.203125 41.796875 56.203125 29.59375 \nz\nM 47.21875 32.234375 \nQ 47.125 39.59375 43.09375 43.984375 \nQ 39.0625 48.390625 32.421875 48.390625 \nQ 24.90625 48.390625 20.390625 44.140625 \nQ 15.875 39.890625 15.1875 32.171875 \nz\n\" id=\"DejaVuSans-101\"/>\n       <path d=\"M 25.390625 72.90625 \nL 33.6875 72.90625 \nL 8.296875 -9.28125 \nL 0 -9.28125 \nz\n\" id=\"DejaVuSans-47\"/>\n       <path d=\"M 9.8125 72.90625 \nL 19.671875 72.90625 \nL 19.671875 43.015625 \nL 55.515625 43.015625 \nL 55.515625 72.90625 \nL 65.375 72.90625 \nL 65.375 0 \nL 55.515625 0 \nL 55.515625 34.71875 \nL 19.671875 34.71875 \nL 19.671875 0 \nL 9.8125 0 \nz\n\" id=\"DejaVuSans-72\"/>\n       <path d=\"M 30.421875 75.984375 \nL 30.421875 -13.1875 \nL 9.71875 -13.1875 \nL 9.71875 -6.203125 \nL 21.390625 -6.203125 \nL 21.390625 69 \nL 9.71875 69 \nL 9.71875 75.984375 \nz\n\" id=\"DejaVuSans-93\"/>\n      </defs>\n      <use xlink:href=\"#DejaVuSans-91\"/>\n      <use x=\"39.013672\" xlink:href=\"#DejaVuSans-70\"/>\n      <use x=\"91.033203\" xlink:href=\"#DejaVuSans-101\"/>\n      <use x=\"152.556641\" xlink:href=\"#DejaVuSans-47\"/>\n      <use x=\"186.248047\" xlink:href=\"#DejaVuSans-72\"/>\n      <use x=\"261.443359\" xlink:href=\"#DejaVuSans-93\"/>\n     </g>\n    </g>\n   </g>\n   <g id=\"matplotlib.axis_2\">\n    <g id=\"ytick_1\">\n     <g id=\"line2d_13\">\n      <defs>\n       <path d=\"M 0 0 \nL -7 0 \n\" id=\"m658620b3f5\" style=\"stroke:#000000;stroke-width:1.2;\"/>\n      </defs>\n      <g>\n       <use style=\"stroke:#000000;stroke-width:1.2;\" x=\"43.65\" xlink:href=\"#m658620b3f5\" y=\"256.12\"/>\n      </g>\n     </g>\n     <g id=\"line2d_14\">\n      <defs>\n       <path d=\"M 0 0 \nL 7 0 \n\" id=\"m051b123a04\" style=\"stroke:#000000;stroke-width:1.2;\"/>\n      </defs>\n      <g>\n       <use style=\"stroke:#000000;stroke-width:1.2;\" x=\"374.13\" xlink:href=\"#m051b123a04\" y=\"256.12\"/>\n      </g>\n     </g>\n     <g id=\"text_8\">\n      <!-- 0 -->\n      <g transform=\"translate(26.2875 259.919219)scale(0.1 -0.1)\">\n       <use xlink:href=\"#DejaVuSans-48\"/>\n      </g>\n     </g>\n    </g>\n    <g id=\"ytick_2\">\n     <g id=\"line2d_15\">\n      <g>\n       <use style=\"stroke:#000000;stroke-width:1.2;\" x=\"43.65\" xlink:href=\"#m658620b3f5\" y=\"207.736968\"/>\n      </g>\n     </g>\n     <g id=\"line2d_16\">\n      <g>\n       <use style=\"stroke:#000000;stroke-width:1.2;\" x=\"374.13\" xlink:href=\"#m051b123a04\" y=\"207.736968\"/>\n      </g>\n     </g>\n     <g id=\"text_9\">\n      <!-- 500 -->\n      <g transform=\"translate(13.5625 211.536186)scale(0.1 -0.1)\">\n       <defs>\n        <path d=\"M 10.796875 72.90625 \nL 49.515625 72.90625 \nL 49.515625 64.59375 \nL 19.828125 64.59375 \nL 19.828125 46.734375 \nQ 21.96875 47.46875 24.109375 47.828125 \nQ 26.265625 48.1875 28.421875 48.1875 \nQ 40.625 48.1875 47.75 41.5 \nQ 54.890625 34.8125 54.890625 23.390625 \nQ 54.890625 11.625 47.5625 5.09375 \nQ 40.234375 -1.421875 26.90625 -1.421875 \nQ 22.3125 -1.421875 17.546875 -0.640625 \nQ 12.796875 0.140625 7.71875 1.703125 \nL 7.71875 11.625 \nQ 12.109375 9.234375 16.796875 8.0625 \nQ 21.484375 6.890625 26.703125 6.890625 \nQ 35.15625 6.890625 40.078125 11.328125 \nQ 45.015625 15.765625 45.015625 23.390625 \nQ 45.015625 31 40.078125 35.4375 \nQ 35.15625 39.890625 26.703125 39.890625 \nQ 22.75 39.890625 18.8125 39.015625 \nQ 14.890625 38.140625 10.796875 36.28125 \nz\n\" id=\"DejaVuSans-53\"/>\n       </defs>\n       <use xlink:href=\"#DejaVuSans-53\"/>\n       <use x=\"63.623047\" xlink:href=\"#DejaVuSans-48\"/>\n       <use x=\"127.246094\" xlink:href=\"#DejaVuSans-48\"/>\n      </g>\n     </g>\n    </g>\n    <g id=\"ytick_3\">\n     <g id=\"line2d_17\">\n      <g>\n       <use style=\"stroke:#000000;stroke-width:1.2;\" x=\"43.65\" xlink:href=\"#m658620b3f5\" y=\"159.353935\"/>\n      </g>\n     </g>\n     <g id=\"line2d_18\">\n      <g>\n       <use style=\"stroke:#000000;stroke-width:1.2;\" x=\"374.13\" xlink:href=\"#m051b123a04\" y=\"159.353935\"/>\n      </g>\n     </g>\n     <g id=\"text_10\">\n      <!-- 1000 -->\n      <g transform=\"translate(7.2 163.153154)scale(0.1 -0.1)\">\n       <use xlink:href=\"#DejaVuSans-49\"/>\n       <use x=\"63.623047\" xlink:href=\"#DejaVuSans-48\"/>\n       <use x=\"127.246094\" xlink:href=\"#DejaVuSans-48\"/>\n       <use x=\"190.869141\" xlink:href=\"#DejaVuSans-48\"/>\n      </g>\n     </g>\n    </g>\n    <g id=\"ytick_4\">\n     <g id=\"line2d_19\">\n      <g>\n       <use style=\"stroke:#000000;stroke-width:1.2;\" x=\"43.65\" xlink:href=\"#m658620b3f5\" y=\"110.970903\"/>\n      </g>\n     </g>\n     <g id=\"line2d_20\">\n      <g>\n       <use style=\"stroke:#000000;stroke-width:1.2;\" x=\"374.13\" xlink:href=\"#m051b123a04\" y=\"110.970903\"/>\n      </g>\n     </g>\n     <g id=\"text_11\">\n      <!-- 1500 -->\n      <g transform=\"translate(7.2 114.770122)scale(0.1 -0.1)\">\n       <use xlink:href=\"#DejaVuSans-49\"/>\n       <use x=\"63.623047\" xlink:href=\"#DejaVuSans-53\"/>\n       <use x=\"127.246094\" xlink:href=\"#DejaVuSans-48\"/>\n       <use x=\"190.869141\" xlink:href=\"#DejaVuSans-48\"/>\n      </g>\n     </g>\n    </g>\n    <g id=\"ytick_5\">\n     <g id=\"line2d_21\">\n      <g>\n       <use style=\"stroke:#000000;stroke-width:1.2;\" x=\"43.65\" xlink:href=\"#m658620b3f5\" y=\"62.587871\"/>\n      </g>\n     </g>\n     <g id=\"line2d_22\">\n      <g>\n       <use style=\"stroke:#000000;stroke-width:1.2;\" x=\"374.13\" xlink:href=\"#m051b123a04\" y=\"62.587871\"/>\n      </g>\n     </g>\n     <g id=\"text_12\">\n      <!-- 2000 -->\n      <g transform=\"translate(7.2 66.387089)scale(0.1 -0.1)\">\n       <use xlink:href=\"#DejaVuSans-50\"/>\n       <use x=\"63.623047\" xlink:href=\"#DejaVuSans-48\"/>\n       <use x=\"127.246094\" xlink:href=\"#DejaVuSans-48\"/>\n       <use x=\"190.869141\" xlink:href=\"#DejaVuSans-48\"/>\n      </g>\n     </g>\n    </g>\n    <g id=\"ytick_6\">\n     <g id=\"line2d_23\">\n      <g>\n       <use style=\"stroke:#000000;stroke-width:1.2;\" x=\"43.65\" xlink:href=\"#m658620b3f5\" y=\"14.204838\"/>\n      </g>\n     </g>\n     <g id=\"line2d_24\">\n      <g>\n       <use style=\"stroke:#000000;stroke-width:1.2;\" x=\"374.13\" xlink:href=\"#m051b123a04\" y=\"14.204838\"/>\n      </g>\n     </g>\n     <g id=\"text_13\">\n      <!-- 2500 -->\n      <g transform=\"translate(7.2 18.004057)scale(0.1 -0.1)\">\n       <use xlink:href=\"#DejaVuSans-50\"/>\n       <use x=\"63.623047\" xlink:href=\"#DejaVuSans-53\"/>\n       <use x=\"127.246094\" xlink:href=\"#DejaVuSans-48\"/>\n       <use x=\"190.869141\" xlink:href=\"#DejaVuSans-48\"/>\n      </g>\n     </g>\n    </g>\n   </g>\n   <g id=\"line2d_25\">\n    <path clip-path=\"url(#pd3cda88bb2)\" d=\"M 43.950436 255.732936 \nL 44.551309 254.765275 \nL 45.152182 254.862041 \nL 45.753055 255.345871 \nL 46.353927 255.345871 \nL 46.9548 255.539404 \nL 47.555673 255.345871 \nL 48.156545 255.345871 \nL 48.757418 255.152339 \nL 49.358291 255.829702 \nL 49.959164 255.345871 \nL 52.362655 255.345871 \nL 52.963527 254.958807 \nL 53.5644 255.152339 \nL 54.165273 254.958807 \nL 54.766145 255.442638 \nL 55.367018 255.539404 \nL 55.967891 254.765275 \nL 56.568764 255.442638 \nL 57.169636 254.958807 \nL 57.770509 255.249105 \nL 58.371382 255.732936 \nL 58.972255 254.862041 \nL 59.573127 255.345871 \nL 60.774873 255.249105 \nL 61.375745 255.732936 \nL 61.976618 255.152339 \nL 62.577491 255.442638 \nL 63.178364 255.345871 \nL 64.380109 254.765275 \nL 65.581855 255.055573 \nL 66.182727 254.668509 \nL 66.7836 254.958807 \nL 67.384473 255.732936 \nL 67.985345 254.958807 \nL 68.586218 254.765275 \nL 69.187091 255.055573 \nL 69.787964 254.862041 \nL 70.388836 255.539404 \nL 70.989709 255.249105 \nL 71.590582 255.152339 \nL 72.191455 254.571743 \nL 72.792327 254.862041 \nL 73.3932 254.668509 \nL 73.994073 255.249105 \nL 74.594945 254.862041 \nL 75.796691 254.571743 \nL 76.397564 255.055573 \nL 76.998436 254.765275 \nL 77.599309 255.249105 \nL 78.200182 255.345871 \nL 78.801055 254.958807 \nL 80.603673 255.055573 \nL 81.204545 254.668509 \nL 81.805418 255.055573 \nL 82.406291 254.281445 \nL 83.007164 255.249105 \nL 84.208909 254.668509 \nL 84.809782 254.862041 \nL 85.410655 254.571743 \nL 86.011527 255.539404 \nL 86.6124 254.281445 \nL 87.213273 254.571743 \nL 87.814145 254.087913 \nL 88.415018 253.991147 \nL 89.015891 254.765275 \nL 89.616764 255.249105 \nL 90.217636 254.378211 \nL 90.818509 254.571743 \nL 91.419382 254.281445 \nL 92.020255 254.474977 \nL 92.621127 255.345871 \nL 93.222 254.087913 \nL 93.822873 254.765275 \nL 95.024618 254.474977 \nL 95.625491 254.958807 \nL 96.226364 254.184679 \nL 96.827236 253.991147 \nL 97.428109 254.474977 \nL 99.230727 254.087913 \nL 99.8316 253.700848 \nL 101.033345 254.571743 \nL 102.235091 254.474977 \nL 102.835964 253.120252 \nL 103.436836 254.474977 \nL 104.037709 253.604082 \nL 104.638582 253.894381 \nL 105.239455 253.604082 \nL 105.840327 253.023486 \nL 106.4412 253.991147 \nL 107.042073 253.991147 \nL 107.642945 253.797614 \nL 108.243818 254.571743 \nL 108.844691 254.184679 \nL 109.445564 253.023486 \nL 110.046436 254.087913 \nL 110.647309 254.087913 \nL 111.248182 253.313784 \nL 111.849055 253.604082 \nL 112.449927 253.313784 \nL 113.0508 253.217018 \nL 113.651673 253.507316 \nL 114.252545 253.604082 \nL 114.853418 253.507316 \nL 115.454291 253.894381 \nL 116.055164 253.023486 \nL 116.656036 252.829954 \nL 117.256909 253.797614 \nL 117.857782 252.829954 \nL 118.458655 253.313784 \nL 119.059527 253.120252 \nL 119.6604 253.604082 \nL 120.261273 252.733188 \nL 120.862145 253.217018 \nL 121.463018 252.539656 \nL 123.265636 253.217018 \nL 123.866509 253.700848 \nL 124.467382 252.733188 \nL 125.068255 252.829954 \nL 125.669127 252.44289 \nL 126.27 252.346123 \nL 126.870873 252.829954 \nL 127.471745 252.636422 \nL 128.072618 252.152591 \nL 128.673491 252.829954 \nL 129.274364 251.862293 \nL 130.476109 252.539656 \nL 131.076982 250.894633 \nL 131.677855 253.120252 \nL 132.278727 252.539656 \nL 132.8796 251.571995 \nL 133.480473 252.249357 \nL 134.081345 252.249357 \nL 135.883964 250.604334 \nL 136.484836 251.475229 \nL 137.686582 250.604334 \nL 138.287455 252.055825 \nL 138.888327 251.088165 \nL 140.090073 250.604334 \nL 140.690945 249.636674 \nL 141.291818 250.507568 \nL 141.892691 250.991399 \nL 142.493564 249.443142 \nL 143.094436 248.765779 \nL 143.695309 251.184931 \nL 144.296182 248.959311 \nL 144.897055 249.926972 \nL 145.497927 250.604334 \nL 146.0988 248.765779 \nL 146.699673 250.023738 \nL 147.300545 248.572247 \nL 147.901418 250.604334 \nL 149.103164 247.894885 \nL 149.704036 250.314036 \nL 150.304909 248.088417 \nL 150.905782 247.604586 \nL 151.506655 249.539908 \nL 152.107527 247.217522 \nL 152.7084 248.959311 \nL 153.309273 248.572247 \nL 153.910145 245.959563 \nL 155.111891 247.217522 \nL 155.712764 245.282201 \nL 156.313636 246.056329 \nL 156.914509 245.669265 \nL 157.515382 246.54016 \nL 158.116255 242.959815 \nL 158.717127 244.217774 \nL 159.318 244.701604 \nL 161.120618 243.83071 \nL 161.721491 243.250113 \nL 162.322364 242.959815 \nL 162.923236 244.895136 \nL 163.524109 243.927476 \nL 164.124982 241.024494 \nL 164.725855 240.830962 \nL 165.326727 241.798622 \nL 165.9276 239.476237 \nL 166.528473 239.282705 \nL 167.129345 242.088921 \nL 167.730218 238.41181 \nL 168.331091 239.766535 \nL 168.931964 237.92798 \nL 169.532836 238.798874 \nL 170.133709 235.895892 \nL 170.734582 238.605342 \nL 171.335455 237.44415 \nL 171.936327 235.992659 \nL 172.5372 233.767039 \nL 173.138073 237.250617 \nL 173.738945 232.412314 \nL 174.339818 235.605594 \nL 174.940691 233.476741 \nL 175.541564 235.024998 \nL 176.142436 233.476741 \nL 176.743309 234.444402 \nL 177.344182 233.670273 \nL 177.945055 231.734952 \nL 178.545927 233.863805 \nL 179.1468 229.896396 \nL 180.348545 229.412566 \nL 180.949418 229.412566 \nL 181.550291 231.347887 \nL 182.151164 228.251373 \nL 182.752036 228.057841 \nL 183.352909 226.799882 \nL 183.953782 228.83197 \nL 184.554655 225.058093 \nL 185.155527 224.864561 \nL 185.7564 225.928988 \nL 186.357273 226.025754 \nL 186.958145 223.122772 \nL 187.559018 226.316052 \nL 188.159891 226.316052 \nL 188.760764 224.187199 \nL 189.361636 218.381235 \nL 189.962509 225.058093 \nL 190.563382 221.671281 \nL 191.164255 219.155363 \nL 191.765127 220.800386 \nL 192.366 217.897404 \nL 192.966873 215.962083 \nL 193.567745 219.542428 \nL 194.168618 214.704124 \nL 194.769491 215.381487 \nL 195.370364 212.381739 \nL 195.971236 210.059353 \nL 196.572109 210.63995 \nL 197.172982 208.801394 \nL 197.773855 210.63995 \nL 198.374727 207.059605 \nL 198.9756 207.253137 \nL 199.576473 201.060109 \nL 200.177345 203.866325 \nL 200.778218 202.02777 \nL 201.379091 199.415086 \nL 201.979964 202.898664 \nL 202.580836 198.737724 \nL 203.181709 201.737472 \nL 204.383455 197.382999 \nL 204.984327 195.737976 \nL 205.5852 189.641714 \nL 206.186073 187.803158 \nL 206.786945 189.157883 \nL 207.387818 181.029534 \nL 207.988691 188.964351 \nL 208.589564 181.223066 \nL 209.190436 178.223318 \nL 209.791309 177.545955 \nL 210.392182 176.578295 \nL 210.993055 171.739992 \nL 211.593927 169.417606 \nL 212.1948 167.772583 \nL 212.795673 169.32084 \nL 213.396545 164.192239 \nL 213.997418 164.772835 \nL 215.199164 162.837514 \nL 215.800036 156.644486 \nL 216.400909 158.676573 \nL 217.001782 157.321848 \nL 217.602655 153.354439 \nL 218.203527 151.515884 \nL 218.8044 150.64499 \nL 219.405273 138.936296 \nL 220.006145 145.032558 \nL 220.607018 144.355195 \nL 221.207891 140.581319 \nL 221.808764 140.581319 \nL 222.409636 146.580815 \nL 223.010509 130.614414 \nL 223.611382 132.356203 \nL 224.212255 140.387787 \nL 224.813127 133.42063 \nL 225.414 136.323612 \nL 226.014873 132.9368 \nL 226.615745 141.161915 \nL 227.216618 139.613658 \nL 227.817491 131.19501 \nL 229.019236 139.613658 \nL 229.620109 138.355699 \nL 230.220982 136.420378 \nL 230.821855 135.065653 \nL 231.422727 137.775103 \nL 232.0236 138.162167 \nL 233.225345 135.839782 \nL 233.826218 138.83953 \nL 234.427091 138.645997 \nL 235.628836 135.646249 \nL 236.229709 136.226846 \nL 236.830582 137.581571 \nL 237.431455 135.065653 \nL 238.032327 140.194255 \nL 238.6332 135.065653 \nL 239.234073 138.162167 \nL 239.834945 139.903956 \nL 240.435818 140.000722 \nL 241.036691 139.80719 \nL 241.637564 141.645745 \nL 242.238436 141.161915 \nL 242.839309 134.968887 \nL 243.440182 141.839278 \nL 244.041055 133.807694 \nL 244.641927 136.807442 \nL 245.2428 130.130584 \nL 245.843673 127.904964 \nL 246.444545 137.09774 \nL 247.045418 123.550491 \nL 247.646291 122.776363 \nL 248.247164 120.163679 \nL 248.848036 109.422646 \nL 249.448909 110.487073 \nL 250.049782 99.842806 \nL 250.650655 101.294297 \nL 251.8524 83.295808 \nL 252.453273 81.070189 \nL 253.054145 87.553515 \nL 253.655018 76.13512 \nL 254.255891 83.876405 \nL 254.856764 78.167207 \nL 256.058509 77.489845 \nL 256.659382 74.877161 \nL 257.260255 70.909752 \nL 257.861127 70.23239 \nL 258.462 57.9431 \nL 259.663745 45.073213 \nL 260.264618 48.460025 \nL 260.865491 50.395346 \nL 261.466364 44.105552 \nL 262.067236 50.492113 \nL 262.668109 40.041378 \nL 263.268982 40.041378 \nL 263.869855 37.138396 \nL 264.470727 27.074725 \nL 265.0716 25.72 \nL 265.672473 34.428946 \nL 266.273345 33.558051 \nL 266.874218 42.557295 \nL 267.475091 60.459017 \nL 268.075964 60.942848 \nL 268.676836 75.748055 \nL 269.277709 95.488333 \nL 269.878582 97.713952 \nL 270.479455 113.00299 \nL 271.6812 133.323864 \nL 272.882945 153.935036 \nL 273.483818 159.450701 \nL 274.084691 175.320336 \nL 274.685564 179.481277 \nL 275.286436 190.996438 \nL 275.887309 196.899168 \nL 276.488182 201.640706 \nL 277.089055 209.769055 \nL 277.689927 215.671785 \nL 278.2908 224.187199 \nL 279.492545 235.508828 \nL 280.694291 241.701856 \nL 281.295164 242.959815 \nL 282.496909 248.669013 \nL 283.097782 247.798118 \nL 283.698655 249.73344 \nL 284.299527 250.7011 \nL 284.9004 252.152591 \nL 285.501273 250.991399 \nL 286.102145 253.41055 \nL 286.703018 252.346123 \nL 287.303891 253.217018 \nL 287.904764 254.378211 \nL 288.505636 252.92672 \nL 289.106509 254.184679 \nL 289.707382 253.797614 \nL 290.308255 254.378211 \nL 290.909127 255.63617 \nL 291.51 254.765275 \nL 292.110873 254.958807 \nL 292.711745 254.958807 \nL 293.312618 255.345871 \nL 293.913491 255.152339 \nL 295.115236 255.442638 \nL 295.716109 255.829702 \nL 296.316982 255.249105 \nL 296.917855 255.442638 \nL 297.518727 255.249105 \nL 298.1196 256.023234 \nL 298.720473 255.732936 \nL 299.321345 255.926468 \nL 299.922218 255.926468 \nL 301.123964 255.63617 \nL 301.724836 255.829702 \nL 302.325709 255.442638 \nL 302.926582 256.023234 \nL 303.527455 255.926468 \nL 304.128327 255.442638 \nL 304.7292 256.023234 \nL 305.330073 256.023234 \nL 305.930945 255.732936 \nL 307.132691 255.829702 \nL 307.733564 255.829702 \nL 308.334436 256.023234 \nL 309.536182 256.023234 \nL 310.137055 255.732936 \nL 310.737927 256.023234 \nL 311.939673 255.829702 \nL 312.540545 256.12 \nL 313.141418 256.12 \nL 314.343164 255.829702 \nL 316.145782 256.12 \nL 316.746655 255.926468 \nL 317.9484 256.023234 \nL 319.150145 256.12 \nL 319.751018 256.023234 \nL 320.952764 256.12 \nL 322.154509 256.023234 \nL 322.755382 256.12 \nL 323.356255 255.926468 \nL 324.558 256.12 \nL 325.759745 256.023234 \nL 326.961491 256.12 \nL 327.562364 256.023234 \nL 328.764109 256.12 \nL 329.364982 256.023234 \nL 330.566727 256.12 \nL 373.829564 256.12 \nL 373.829564 256.12 \n\" style=\"fill:none;stroke:#000000;stroke-linecap:square;stroke-width:3;\"/>\n   </g>\n   <g id=\"line2d_26\">\n    <path clip-path=\"url(#pd3cda88bb2)\" d=\"M 43.950436 255.152339 \nL 44.551309 255.152339 \nL 45.152182 255.63617 \nL 45.753055 255.539404 \nL 46.353927 255.63617 \nL 46.9548 255.442638 \nL 47.555673 255.442638 \nL 48.156545 255.249105 \nL 48.757418 255.345871 \nL 49.358291 255.732936 \nL 51.160909 255.442638 \nL 51.761782 255.63617 \nL 52.362655 255.345871 \nL 52.963527 255.63617 \nL 53.5644 255.732936 \nL 54.165273 255.539404 \nL 54.766145 255.829702 \nL 55.367018 255.442638 \nL 55.967891 255.829702 \nL 56.568764 255.539404 \nL 57.169636 255.442638 \nL 57.770509 255.152339 \nL 58.371382 255.732936 \nL 58.972255 254.958807 \nL 59.573127 255.442638 \nL 60.174 255.345871 \nL 60.774873 255.732936 \nL 61.375745 255.345871 \nL 61.976618 254.765275 \nL 62.577491 255.442638 \nL 63.178364 255.539404 \nL 64.380109 255.442638 \nL 64.980982 255.442638 \nL 66.182727 255.055573 \nL 66.7836 255.345871 \nL 69.187091 255.345871 \nL 69.787964 254.958807 \nL 72.792327 255.539404 \nL 73.3932 254.958807 \nL 73.994073 255.442638 \nL 74.594945 255.249105 \nL 75.195818 255.63617 \nL 75.796691 254.668509 \nL 76.998436 255.345871 \nL 77.599309 255.345871 \nL 78.200182 254.862041 \nL 78.801055 255.152339 \nL 80.0028 254.862041 \nL 80.603673 255.345871 \nL 81.204545 254.862041 \nL 81.805418 254.571743 \nL 82.406291 254.668509 \nL 83.007164 254.958807 \nL 83.608036 255.055573 \nL 84.208909 255.63617 \nL 84.809782 255.055573 \nL 85.410655 254.087913 \nL 86.011527 254.765275 \nL 87.213273 255.249105 \nL 87.814145 254.668509 \nL 88.415018 254.668509 \nL 89.015891 255.539404 \nL 90.217636 254.474977 \nL 90.818509 254.765275 \nL 91.419382 254.571743 \nL 92.020255 254.765275 \nL 92.621127 254.378211 \nL 93.222 254.281445 \nL 93.822873 253.894381 \nL 94.423745 254.184679 \nL 95.024618 254.765275 \nL 95.625491 254.571743 \nL 96.226364 254.087913 \nL 96.827236 254.862041 \nL 97.428109 254.087913 \nL 98.028982 254.862041 \nL 98.629855 253.991147 \nL 99.230727 254.281445 \nL 99.8316 254.281445 \nL 100.432473 254.571743 \nL 101.033345 254.378211 \nL 101.634218 253.604082 \nL 102.235091 253.604082 \nL 102.835964 254.474977 \nL 103.436836 253.700848 \nL 105.239455 254.668509 \nL 106.4412 253.991147 \nL 107.042073 254.378211 \nL 107.642945 253.604082 \nL 108.243818 253.604082 \nL 108.844691 254.087913 \nL 109.445564 253.700848 \nL 110.046436 253.797614 \nL 110.647309 253.700848 \nL 111.248182 253.41055 \nL 111.849055 254.087913 \nL 112.449927 252.636422 \nL 113.0508 253.700848 \nL 113.651673 253.217018 \nL 114.252545 253.894381 \nL 114.853418 253.700848 \nL 115.454291 252.92672 \nL 116.055164 254.281445 \nL 116.656036 252.733188 \nL 117.256909 252.539656 \nL 117.857782 254.281445 \nL 118.458655 253.023486 \nL 119.059527 253.313784 \nL 119.6604 253.313784 \nL 120.261273 253.507316 \nL 120.862145 252.346123 \nL 121.463018 252.44289 \nL 122.664764 253.023486 \nL 123.265636 253.507316 \nL 123.866509 252.733188 \nL 124.467382 253.991147 \nL 125.068255 253.604082 \nL 125.669127 252.636422 \nL 126.27 253.217018 \nL 126.870873 252.055825 \nL 127.471745 252.92672 \nL 128.072618 252.829954 \nL 128.673491 253.023486 \nL 129.274364 251.959059 \nL 129.875236 252.055825 \nL 130.476109 251.571995 \nL 132.278727 251.765527 \nL 132.8796 252.44289 \nL 133.480473 251.378463 \nL 134.081345 252.733188 \nL 134.682218 251.765527 \nL 135.283091 252.249357 \nL 135.883964 251.571995 \nL 136.484836 252.055825 \nL 137.085709 250.894633 \nL 137.686582 251.184931 \nL 138.287455 252.249357 \nL 138.888327 251.184931 \nL 139.4892 249.636674 \nL 140.090073 250.21727 \nL 140.690945 252.152591 \nL 141.291818 250.797866 \nL 141.892691 251.862293 \nL 142.493564 249.830206 \nL 143.094436 250.023738 \nL 144.296182 249.539908 \nL 144.897055 250.314036 \nL 145.497927 250.21727 \nL 146.0988 251.378463 \nL 146.699673 249.636674 \nL 147.300545 249.830206 \nL 148.502291 249.636674 \nL 149.704036 247.894885 \nL 150.304909 249.346375 \nL 150.905782 248.185183 \nL 151.506655 248.378715 \nL 152.107527 249.152843 \nL 152.7084 249.152843 \nL 153.309273 247.991651 \nL 153.910145 249.056077 \nL 154.511018 247.798118 \nL 155.111891 247.798118 \nL 155.712764 247.411054 \nL 156.313636 245.475733 \nL 157.515382 246.249861 \nL 158.116255 244.701604 \nL 158.717127 245.766031 \nL 159.318 245.959563 \nL 159.918873 243.540412 \nL 160.519745 245.282201 \nL 161.120618 244.604838 \nL 161.721491 242.475985 \nL 162.322364 245.862797 \nL 162.923236 242.766283 \nL 163.524109 243.346879 \nL 164.124982 244.604838 \nL 164.725855 242.475985 \nL 165.9276 241.024494 \nL 166.528473 241.024494 \nL 167.129345 242.379219 \nL 167.730218 238.992407 \nL 168.331091 238.89564 \nL 168.931964 238.605342 \nL 169.532836 237.540916 \nL 170.133709 239.669769 \nL 170.734582 238.605342 \nL 171.936327 238.702108 \nL 172.5372 238.218278 \nL 173.138073 235.508828 \nL 174.339818 237.057085 \nL 174.940691 234.154103 \nL 175.541564 234.541168 \nL 176.142436 233.573507 \nL 176.743309 233.089677 \nL 177.344182 233.283209 \nL 178.545927 234.154103 \nL 179.1468 234.7347 \nL 179.747673 232.02525 \nL 180.348545 233.863805 \nL 180.949418 231.831718 \nL 181.550291 228.348139 \nL 182.151164 230.380227 \nL 182.752036 229.79963 \nL 183.352909 227.961075 \nL 183.953782 229.606098 \nL 184.554655 224.961327 \nL 185.155527 226.219286 \nL 185.7564 229.606098 \nL 186.357273 223.122772 \nL 186.958145 225.445157 \nL 187.559018 225.541924 \nL 188.159891 222.832474 \nL 188.760764 226.025754 \nL 189.361636 226.896648 \nL 189.962509 222.832474 \nL 190.563382 220.993919 \nL 191.164255 221.671281 \nL 191.765127 222.058345 \nL 192.366 219.252129 \nL 192.966873 218.478001 \nL 193.567745 217.02651 \nL 194.168618 219.832726 \nL 195.370364 215.381487 \nL 196.572109 212.962335 \nL 197.172982 213.639698 \nL 197.773855 208.607862 \nL 198.374727 207.543436 \nL 198.9756 208.027266 \nL 199.576473 205.414582 \nL 200.177345 209.478757 \nL 200.778218 202.608366 \nL 201.379091 202.5116 \nL 201.979964 204.156623 \nL 202.580836 197.673297 \nL 203.181709 201.060109 \nL 203.782582 202.898664 \nL 204.383455 196.415338 \nL 204.984327 198.447425 \nL 205.5852 196.12504 \nL 206.186073 195.157379 \nL 206.786945 197.382999 \nL 207.387818 189.254649 \nL 207.988691 187.609626 \nL 208.589564 180.352171 \nL 209.190436 185.190475 \nL 209.791309 185.384007 \nL 210.392182 177.93302 \nL 210.993055 179.287745 \nL 211.593927 172.417354 \nL 212.1948 172.901184 \nL 212.795673 170.772331 \nL 213.396545 173.385015 \nL 213.997418 162.547215 \nL 214.598291 170.578799 \nL 215.199164 164.579303 \nL 215.800036 163.224578 \nL 216.400909 160.902192 \nL 217.001782 157.708912 \nL 217.602655 157.418614 \nL 218.203527 151.225586 \nL 218.8044 159.934532 \nL 219.405273 151.61265 \nL 220.607018 143.581067 \nL 221.207891 146.290517 \nL 221.808764 140.968383 \nL 222.409636 139.516892 \nL 223.010509 140.774851 \nL 223.611382 141.742512 \nL 224.212255 128.872625 \nL 224.813127 138.258933 \nL 225.414 138.355699 \nL 226.014873 141.355447 \nL 226.615745 138.355699 \nL 227.216618 134.775355 \nL 227.817491 136.517144 \nL 229.019236 133.323864 \nL 229.620109 136.904208 \nL 230.220982 137.968635 \nL 230.821855 139.710424 \nL 231.422727 134.872121 \nL 232.0236 135.452717 \nL 232.624473 135.839782 \nL 233.225345 136.710676 \nL 233.826218 134.678589 \nL 234.427091 140.097488 \nL 235.027964 133.130332 \nL 235.628836 136.807442 \nL 236.229709 133.323864 \nL 236.830582 133.90446 \nL 237.431455 136.13008 \nL 238.032327 137.775103 \nL 238.6332 134.775355 \nL 239.234073 137.194507 \nL 239.834945 133.227098 \nL 240.435818 140.968383 \nL 241.036691 142.710172 \nL 241.637564 133.42063 \nL 242.839309 140.678085 \nL 243.440182 136.61391 \nL 244.041055 137.484805 \nL 244.641927 131.969139 \nL 245.2428 141.645745 \nL 245.843673 128.969391 \nL 246.444545 130.807946 \nL 247.045418 127.130836 \nL 247.646291 128.969391 \nL 248.247164 123.260193 \nL 248.848036 120.937808 \nL 249.448909 112.809458 \nL 250.049782 110.970903 \nL 250.650655 106.61643 \nL 251.251527 100.326636 \nL 251.8524 99.842806 \nL 252.453273 83.973171 \nL 253.054145 87.263217 \nL 253.655018 79.134868 \nL 254.255891 76.13512 \nL 254.856764 81.941084 \nL 255.457636 78.747803 \nL 256.058509 74.683629 \nL 256.659382 75.941588 \nL 257.260255 71.006518 \nL 257.861127 76.038354 \nL 258.462 66.652045 \nL 259.062873 68.393835 \nL 259.663745 50.201814 \nL 260.264618 44.879681 \nL 260.865491 42.363763 \nL 262.067236 47.395598 \nL 262.668109 43.718488 \nL 263.268982 45.653809 \nL 263.869855 30.945367 \nL 264.470727 35.686905 \nL 265.0716 29.784175 \nL 265.672473 27.074725 \nL 266.273345 26.107064 \nL 266.874218 33.945115 \nL 267.475091 33.848349 \nL 268.075964 51.846837 \nL 268.676836 57.072205 \nL 269.277709 65.103788 \nL 269.878582 87.553515 \nL 271.6812 116.19627 \nL 272.282073 129.74352 \nL 272.882945 139.903956 \nL 273.483818 153.935036 \nL 274.084691 155.676825 \nL 274.685564 171.062629 \nL 275.286436 177.449189 \nL 275.887309 190.512608 \nL 276.488182 192.93176 \nL 277.089055 199.221554 \nL 277.689927 209.478757 \nL 278.2908 212.381739 \nL 278.891673 218.090937 \nL 279.492545 229.219034 \nL 280.093418 230.089929 \nL 280.694291 237.347383 \nL 281.295164 240.63743 \nL 281.896036 242.766283 \nL 282.496909 245.669265 \nL 283.097782 246.54016 \nL 283.698655 248.475481 \nL 284.299527 249.539908 \nL 284.9004 251.184931 \nL 285.501273 250.7011 \nL 286.102145 250.894633 \nL 286.703018 253.217018 \nL 287.904764 253.894381 \nL 289.106509 253.023486 \nL 289.707382 254.668509 \nL 290.308255 253.991147 \nL 290.909127 253.894381 \nL 291.51 254.474977 \nL 292.110873 255.442638 \nL 292.711745 255.442638 \nL 293.312618 254.862041 \nL 293.913491 255.152339 \nL 294.514364 254.862041 \nL 295.115236 255.345871 \nL 296.316982 255.63617 \nL 296.917855 255.152339 \nL 297.518727 255.539404 \nL 298.1196 255.732936 \nL 298.720473 255.63617 \nL 299.321345 255.829702 \nL 299.922218 255.63617 \nL 300.523091 255.732936 \nL 301.123964 255.442638 \nL 301.724836 256.023234 \nL 302.325709 255.63617 \nL 302.926582 255.539404 \nL 303.527455 255.63617 \nL 304.128327 255.442638 \nL 304.7292 256.023234 \nL 305.330073 255.732936 \nL 306.531818 256.023234 \nL 307.132691 255.926468 \nL 307.733564 256.023234 \nL 308.334436 255.732936 \nL 309.536182 256.12 \nL 310.737927 256.12 \nL 311.3388 255.829702 \nL 312.540545 255.732936 \nL 313.141418 256.023234 \nL 316.746655 256.12 \nL 317.347527 255.829702 \nL 317.9484 255.829702 \nL 318.549273 256.12 \nL 323.957127 256.12 \nL 324.558 255.926468 \nL 325.158873 256.12 \nL 325.759745 256.12 \nL 326.360618 255.926468 \nL 326.961491 256.12 \nL 373.829564 256.12 \nL 373.829564 256.12 \n\" style=\"fill:none;stroke:#1f77b4;stroke-linecap:square;stroke-width:3;\"/>\n   </g>\n   <g id=\"patch_3\">\n    <path d=\"M 43.65 256.12 \nL 43.65 14.2 \n\" style=\"fill:none;stroke:#000000;stroke-linecap:square;stroke-linejoin:miter;stroke-width:2;\"/>\n   </g>\n   <g id=\"patch_4\">\n    <path d=\"M 374.13 256.12 \nL 374.13 14.2 \n\" style=\"fill:none;stroke:#000000;stroke-linecap:square;stroke-linejoin:miter;stroke-width:2;\"/>\n   </g>\n   <g id=\"patch_5\">\n    <path d=\"M 43.65 256.12 \nL 374.13 256.12 \n\" style=\"fill:none;stroke:#000000;stroke-linecap:square;stroke-linejoin:miter;stroke-width:2;\"/>\n   </g>\n   <g id=\"patch_6\">\n    <path d=\"M 43.65 14.2 \nL 374.13 14.2 \n\" style=\"fill:none;stroke:#000000;stroke-linecap:square;stroke-linejoin:miter;stroke-width:2;\"/>\n   </g>\n   <g id=\"legend_1\">\n    <g id=\"patch_7\">\n     <path d=\"M 294.970625 52.05625 \nL 361.13 52.05625 \nQ 363.13 52.05625 363.13 50.05625 \nL 363.13 27.2 \nQ 363.13 25.2 361.13 25.2 \nL 294.970625 25.2 \nQ 292.970625 25.2 292.970625 27.2 \nL 292.970625 50.05625 \nQ 292.970625 52.05625 294.970625 52.05625 \nz\n\" style=\"fill:#ffffff;opacity:0.8;stroke:#999999;stroke-linejoin:miter;stroke-width:1.5;\"/>\n    </g>\n    <g id=\"line2d_27\">\n     <path d=\"M 295.470625 31.798438 \nL 305.470625 31.798438 \n\" style=\"fill:none;stroke:#000000;stroke-linecap:square;stroke-width:3;\"/>\n    </g>\n    <g id=\"line2d_28\"/>\n    <g id=\"text_14\">\n     <!-- simulation -->\n     <g transform=\"translate(308.470625 35.298438)scale(0.1 -0.1)\">\n      <defs>\n       <path d=\"M 44.28125 53.078125 \nL 44.28125 44.578125 \nQ 40.484375 46.53125 36.375 47.5 \nQ 32.28125 48.484375 27.875 48.484375 \nQ 21.1875 48.484375 17.84375 46.4375 \nQ 14.5 44.390625 14.5 40.28125 \nQ 14.5 37.15625 16.890625 35.375 \nQ 19.28125 33.59375 26.515625 31.984375 \nL 29.59375 31.296875 \nQ 39.15625 29.25 43.1875 25.515625 \nQ 47.21875 21.78125 47.21875 15.09375 \nQ 47.21875 7.46875 41.1875 3.015625 \nQ 35.15625 -1.421875 24.609375 -1.421875 \nQ 20.21875 -1.421875 15.453125 -0.5625 \nQ 10.6875 0.296875 5.421875 2 \nL 5.421875 11.28125 \nQ 10.40625 8.6875 15.234375 7.390625 \nQ 20.0625 6.109375 24.8125 6.109375 \nQ 31.15625 6.109375 34.5625 8.28125 \nQ 37.984375 10.453125 37.984375 14.40625 \nQ 37.984375 18.0625 35.515625 20.015625 \nQ 33.0625 21.96875 24.703125 23.78125 \nL 21.578125 24.515625 \nQ 13.234375 26.265625 9.515625 29.90625 \nQ 5.8125 33.546875 5.8125 39.890625 \nQ 5.8125 47.609375 11.28125 51.796875 \nQ 16.75 56 26.8125 56 \nQ 31.78125 56 36.171875 55.265625 \nQ 40.578125 54.546875 44.28125 53.078125 \nz\n\" id=\"DejaVuSans-115\"/>\n       <path d=\"M 9.421875 54.6875 \nL 18.40625 54.6875 \nL 18.40625 0 \nL 9.421875 0 \nz\nM 9.421875 75.984375 \nL 18.40625 75.984375 \nL 18.40625 64.59375 \nL 9.421875 64.59375 \nz\n\" id=\"DejaVuSans-105\"/>\n       <path d=\"M 52 44.1875 \nQ 55.375 50.25 60.0625 53.125 \nQ 64.75 56 71.09375 56 \nQ 79.640625 56 84.28125 50.015625 \nQ 88.921875 44.046875 88.921875 33.015625 \nL 88.921875 0 \nL 79.890625 0 \nL 79.890625 32.71875 \nQ 79.890625 40.578125 77.09375 44.375 \nQ 74.3125 48.1875 68.609375 48.1875 \nQ 61.625 48.1875 57.5625 43.546875 \nQ 53.515625 38.921875 53.515625 30.90625 \nL 53.515625 0 \nL 44.484375 0 \nL 44.484375 32.71875 \nQ 44.484375 40.625 41.703125 44.40625 \nQ 38.921875 48.1875 33.109375 48.1875 \nQ 26.21875 48.1875 22.15625 43.53125 \nQ 18.109375 38.875 18.109375 30.90625 \nL 18.109375 0 \nL 9.078125 0 \nL 9.078125 54.6875 \nL 18.109375 54.6875 \nL 18.109375 46.1875 \nQ 21.1875 51.21875 25.484375 53.609375 \nQ 29.78125 56 35.6875 56 \nQ 41.65625 56 45.828125 52.96875 \nQ 50 49.953125 52 44.1875 \nz\n\" id=\"DejaVuSans-109\"/>\n       <path d=\"M 8.5 21.578125 \nL 8.5 54.6875 \nL 17.484375 54.6875 \nL 17.484375 21.921875 \nQ 17.484375 14.15625 20.5 10.265625 \nQ 23.53125 6.390625 29.59375 6.390625 \nQ 36.859375 6.390625 41.078125 11.03125 \nQ 45.3125 15.671875 45.3125 23.6875 \nL 45.3125 54.6875 \nL 54.296875 54.6875 \nL 54.296875 0 \nL 45.3125 0 \nL 45.3125 8.40625 \nQ 42.046875 3.421875 37.71875 1 \nQ 33.40625 -1.421875 27.6875 -1.421875 \nQ 18.265625 -1.421875 13.375 4.4375 \nQ 8.5 10.296875 8.5 21.578125 \nz\nM 31.109375 56 \nz\n\" id=\"DejaVuSans-117\"/>\n       <path d=\"M 9.421875 75.984375 \nL 18.40625 75.984375 \nL 18.40625 0 \nL 9.421875 0 \nz\n\" id=\"DejaVuSans-108\"/>\n       <path d=\"M 34.28125 27.484375 \nQ 23.390625 27.484375 19.1875 25 \nQ 14.984375 22.515625 14.984375 16.5 \nQ 14.984375 11.71875 18.140625 8.90625 \nQ 21.296875 6.109375 26.703125 6.109375 \nQ 34.1875 6.109375 38.703125 11.40625 \nQ 43.21875 16.703125 43.21875 25.484375 \nL 43.21875 27.484375 \nz\nM 52.203125 31.203125 \nL 52.203125 0 \nL 43.21875 0 \nL 43.21875 8.296875 \nQ 40.140625 3.328125 35.546875 0.953125 \nQ 30.953125 -1.421875 24.3125 -1.421875 \nQ 15.921875 -1.421875 10.953125 3.296875 \nQ 6 8.015625 6 15.921875 \nQ 6 25.140625 12.171875 29.828125 \nQ 18.359375 34.515625 30.609375 34.515625 \nL 43.21875 34.515625 \nL 43.21875 35.40625 \nQ 43.21875 41.609375 39.140625 45 \nQ 35.0625 48.390625 27.6875 48.390625 \nQ 23 48.390625 18.546875 47.265625 \nQ 14.109375 46.140625 10.015625 43.890625 \nL 10.015625 52.203125 \nQ 14.9375 54.109375 19.578125 55.046875 \nQ 24.21875 56 28.609375 56 \nQ 40.484375 56 46.34375 49.84375 \nQ 52.203125 43.703125 52.203125 31.203125 \nz\n\" id=\"DejaVuSans-97\"/>\n       <path d=\"M 18.3125 70.21875 \nL 18.3125 54.6875 \nL 36.8125 54.6875 \nL 36.8125 47.703125 \nL 18.3125 47.703125 \nL 18.3125 18.015625 \nQ 18.3125 11.328125 20.140625 9.421875 \nQ 21.96875 7.515625 27.59375 7.515625 \nL 36.8125 7.515625 \nL 36.8125 0 \nL 27.59375 0 \nQ 17.1875 0 13.234375 3.875 \nQ 9.28125 7.765625 9.28125 18.015625 \nL 9.28125 47.703125 \nL 2.6875 47.703125 \nL 2.6875 54.6875 \nL 9.28125 54.6875 \nL 9.28125 70.21875 \nz\n\" id=\"DejaVuSans-116\"/>\n       <path d=\"M 30.609375 48.390625 \nQ 23.390625 48.390625 19.1875 42.75 \nQ 14.984375 37.109375 14.984375 27.296875 \nQ 14.984375 17.484375 19.15625 11.84375 \nQ 23.34375 6.203125 30.609375 6.203125 \nQ 37.796875 6.203125 41.984375 11.859375 \nQ 46.1875 17.53125 46.1875 27.296875 \nQ 46.1875 37.015625 41.984375 42.703125 \nQ 37.796875 48.390625 30.609375 48.390625 \nz\nM 30.609375 56 \nQ 42.328125 56 49.015625 48.375 \nQ 55.71875 40.765625 55.71875 27.296875 \nQ 55.71875 13.875 49.015625 6.21875 \nQ 42.328125 -1.421875 30.609375 -1.421875 \nQ 18.84375 -1.421875 12.171875 6.21875 \nQ 5.515625 13.875 5.515625 27.296875 \nQ 5.515625 40.765625 12.171875 48.375 \nQ 18.84375 56 30.609375 56 \nz\n\" id=\"DejaVuSans-111\"/>\n       <path d=\"M 54.890625 33.015625 \nL 54.890625 0 \nL 45.90625 0 \nL 45.90625 32.71875 \nQ 45.90625 40.484375 42.875 44.328125 \nQ 39.84375 48.1875 33.796875 48.1875 \nQ 26.515625 48.1875 22.3125 43.546875 \nQ 18.109375 38.921875 18.109375 30.90625 \nL 18.109375 0 \nL 9.078125 0 \nL 9.078125 54.6875 \nL 18.109375 54.6875 \nL 18.109375 46.1875 \nQ 21.34375 51.125 25.703125 53.5625 \nQ 30.078125 56 35.796875 56 \nQ 45.21875 56 50.046875 50.171875 \nQ 54.890625 44.34375 54.890625 33.015625 \nz\n\" id=\"DejaVuSans-110\"/>\n      </defs>\n      <use xlink:href=\"#DejaVuSans-115\"/>\n      <use x=\"52.099609\" xlink:href=\"#DejaVuSans-105\"/>\n      <use x=\"79.882812\" xlink:href=\"#DejaVuSans-109\"/>\n      <use x=\"177.294922\" xlink:href=\"#DejaVuSans-117\"/>\n      <use x=\"240.673828\" xlink:href=\"#DejaVuSans-108\"/>\n      <use x=\"268.457031\" xlink:href=\"#DejaVuSans-97\"/>\n      <use x=\"329.736328\" xlink:href=\"#DejaVuSans-116\"/>\n      <use x=\"368.945312\" xlink:href=\"#DejaVuSans-105\"/>\n      <use x=\"396.728516\" xlink:href=\"#DejaVuSans-111\"/>\n      <use x=\"457.910156\" xlink:href=\"#DejaVuSans-110\"/>\n     </g>\n    </g>\n    <g id=\"line2d_29\">\n     <path d=\"M 295.470625 43.976563 \nL 305.470625 43.976563 \n\" style=\"fill:none;stroke:#1f77b4;stroke-linecap:square;stroke-width:3;\"/>\n    </g>\n    <g id=\"line2d_30\"/>\n    <g id=\"text_15\">\n     <!-- age-tracer -->\n     <g transform=\"translate(308.470625 47.476563)scale(0.1 -0.1)\">\n      <defs>\n       <path d=\"M 45.40625 27.984375 \nQ 45.40625 37.75 41.375 43.109375 \nQ 37.359375 48.484375 30.078125 48.484375 \nQ 22.859375 48.484375 18.828125 43.109375 \nQ 14.796875 37.75 14.796875 27.984375 \nQ 14.796875 18.265625 18.828125 12.890625 \nQ 22.859375 7.515625 30.078125 7.515625 \nQ 37.359375 7.515625 41.375 12.890625 \nQ 45.40625 18.265625 45.40625 27.984375 \nz\nM 54.390625 6.78125 \nQ 54.390625 -7.171875 48.1875 -13.984375 \nQ 42 -20.796875 29.203125 -20.796875 \nQ 24.46875 -20.796875 20.265625 -20.09375 \nQ 16.0625 -19.390625 12.109375 -17.921875 \nL 12.109375 -9.1875 \nQ 16.0625 -11.328125 19.921875 -12.34375 \nQ 23.78125 -13.375 27.78125 -13.375 \nQ 36.625 -13.375 41.015625 -8.765625 \nQ 45.40625 -4.15625 45.40625 5.171875 \nL 45.40625 9.625 \nQ 42.625 4.78125 38.28125 2.390625 \nQ 33.9375 0 27.875 0 \nQ 17.828125 0 11.671875 7.65625 \nQ 5.515625 15.328125 5.515625 27.984375 \nQ 5.515625 40.671875 11.671875 48.328125 \nQ 17.828125 56 27.875 56 \nQ 33.9375 56 38.28125 53.609375 \nQ 42.625 51.21875 45.40625 46.390625 \nL 45.40625 54.6875 \nL 54.390625 54.6875 \nz\n\" id=\"DejaVuSans-103\"/>\n       <path d=\"M 4.890625 31.390625 \nL 31.203125 31.390625 \nL 31.203125 23.390625 \nL 4.890625 23.390625 \nz\n\" id=\"DejaVuSans-45\"/>\n       <path d=\"M 41.109375 46.296875 \nQ 39.59375 47.171875 37.8125 47.578125 \nQ 36.03125 48 33.890625 48 \nQ 26.265625 48 22.1875 43.046875 \nQ 18.109375 38.09375 18.109375 28.8125 \nL 18.109375 0 \nL 9.078125 0 \nL 9.078125 54.6875 \nL 18.109375 54.6875 \nL 18.109375 46.1875 \nQ 20.953125 51.171875 25.484375 53.578125 \nQ 30.03125 56 36.53125 56 \nQ 37.453125 56 38.578125 55.875 \nQ 39.703125 55.765625 41.0625 55.515625 \nz\n\" id=\"DejaVuSans-114\"/>\n       <path d=\"M 48.78125 52.59375 \nL 48.78125 44.1875 \nQ 44.96875 46.296875 41.140625 47.34375 \nQ 37.3125 48.390625 33.40625 48.390625 \nQ 24.65625 48.390625 19.8125 42.84375 \nQ 14.984375 37.3125 14.984375 27.296875 \nQ 14.984375 17.28125 19.8125 11.734375 \nQ 24.65625 6.203125 33.40625 6.203125 \nQ 37.3125 6.203125 41.140625 7.25 \nQ 44.96875 8.296875 48.78125 10.40625 \nL 48.78125 2.09375 \nQ 45.015625 0.34375 40.984375 -0.53125 \nQ 36.96875 -1.421875 32.421875 -1.421875 \nQ 20.0625 -1.421875 12.78125 6.34375 \nQ 5.515625 14.109375 5.515625 27.296875 \nQ 5.515625 40.671875 12.859375 48.328125 \nQ 20.21875 56 33.015625 56 \nQ 37.15625 56 41.109375 55.140625 \nQ 45.0625 54.296875 48.78125 52.59375 \nz\n\" id=\"DejaVuSans-99\"/>\n      </defs>\n      <use xlink:href=\"#DejaVuSans-97\"/>\n      <use x=\"61.279297\" xlink:href=\"#DejaVuSans-103\"/>\n      <use x=\"124.755859\" xlink:href=\"#DejaVuSans-101\"/>\n      <use x=\"186.279297\" xlink:href=\"#DejaVuSans-45\"/>\n      <use x=\"222.363281\" xlink:href=\"#DejaVuSans-116\"/>\n      <use x=\"261.572266\" xlink:href=\"#DejaVuSans-114\"/>\n      <use x=\"302.685547\" xlink:href=\"#DejaVuSans-97\"/>\n      <use x=\"363.964844\" xlink:href=\"#DejaVuSans-99\"/>\n      <use x=\"418.945312\" xlink:href=\"#DejaVuSans-101\"/>\n      <use x=\"480.46875\" xlink:href=\"#DejaVuSans-114\"/>\n     </g>\n    </g>\n   </g>\n  </g>\n </g>\n <defs>\n  <clipPath id=\"pd3cda88bb2\">\n   <rect height=\"241.92\" width=\"330.48\" x=\"43.65\" y=\"14.2\"/>\n  </clipPath>\n </defs>\n</svg>\n",
      "image/png": "[encoded data removed]"
     },
     "metadata": {
      "needs_background": "light"
     }
    }
   ],
   "source": [
    "# plot the results\n",
    "element_name = 'fe'\n",
    "\n",
    "from utilities.basic.binning import BinClass\n",
    "\n",
    "metallicity_limits = [-4.5, 1]\n",
    "Bin = BinClass(metallicity_limits, width=0.01)\n",
    "\n",
    "metallicity_sim = part[species_name].prop('metallicity.' + element_name)\n",
    "metallicity_agetracer = part[species_name].prop('metallicity.agetracer.' + element_name).clip(-5, 10)\n",
    "\n",
    "masks = (metallicity_agetracer > -5) * (metallicity_sim > -5)\n",
    "\n",
    "distr_sim = Bin.get_distribution(metallicity_sim[masks])\n",
    "distr_agetracer = Bin.get_distribution(metallicity_agetracer[masks])\n",
    "\n",
    "fig, ax = plt.subplots()\n",
    "fig.set_size_inches(6, 4)\n",
    "\n",
    "# plot the native abundances, computed directly in the simulation\n",
    "ax.plot(distr_sim['bin'], distr_sim['sum'], lw=3, color='black', label='simulation')\n",
    "\n",
    "# plot the post-processed abundances, from the age-tracer weights\n",
    "ax.plot(distr_agetracer['bin'], distr_agetracer['sum'], lw=3, color='C0', label='age-tracer')\n",
    "\n",
    "ax.legend(loc='best')\n",
    "ax.set_ylim(0, None)\n",
    "ax.set_xlim(metallicity_limits[0], metallicity_limits[1])\n",
    "ax.set_xlabel('[Fe/H]')\n",
    "\n",
    "#ut.statistic.print_statistics(metallicity_sim)\n",
    "\n",
    "#ut.statistic.print_statistics(metallicity_agetracer)\n",
    "\n",
    "difs = metallicity_agetracer - metallicity_sim\n",
    "\n",
    "ut.statistic.print_statistics(difs)"
   ]
  },
  {
   "cell_type": "code",
   "execution_count": 233,
   "metadata": {},
   "outputs": [
    {
     "output_type": "stream",
     "name": "stdout",
     "text": [
      "\n",
      "# in utilities.basic.statistic.Statistic():\n",
      "  number = 195238\n",
      "\n",
      "  min = -1.271\n",
      "  max = 1.329\n",
      "\n",
      "  median = -0.021\n",
      "  average = -0.019\n",
      "\n",
      "  std = 0.029\n",
      "\n",
      "  percent.0.1 = -0.233\n",
      "  percent.2 = -0.050\n",
      "  percent.16 = -0.027\n",
      "  percent.50 = -0.021\n",
      "  percent.84 = -0.014\n",
      "  percent.98 = 0.024\n",
      "  percent.99.9 = 0.215\n"
     ]
    },
    {
     "output_type": "display_data",
     "data": {
      "text/plain": "<Figure size 432x288 with 1 Axes>",
      "image/svg+xml": "<?xml version=\"1.0\" encoding=\"utf-8\" standalone=\"no\"?>\n<!DOCTYPE svg PUBLIC \"-//W3C//DTD SVG 1.1//EN\"\n  \"http://www.w3.org/Graphics/SVG/1.1/DTD/svg11.dtd\">\n<!-- Created with matplotlib (https://matplotlib.org/) -->\n<svg height=\"296.611875pt\" version=\"1.1\" viewBox=\"0 0 400.776562 296.611875\" width=\"400.776562pt\" xmlns=\"http://www.w3.org/2000/svg\" xmlns:xlink=\"http://www.w3.org/1999/xlink\">\n <metadata>\n  <rdf:RDF xmlns:cc=\"http://creativecommons.org/ns#\" xmlns:dc=\"http://purl.org/dc/elements/1.1/\" xmlns:rdf=\"http://www.w3.org/1999/02/22-rdf-syntax-ns#\">\n   <cc:Work>\n    <dc:type rdf:resource=\"http://purl.org/dc/dcmitype/StillImage\"/>\n    <dc:date>2021-01-14T21:45:01.857589</dc:date>\n    <dc:format>image/svg+xml</dc:format>\n    <dc:creator>\n     <cc:Agent>\n      <dc:title>Matplotlib v3.3.2, https://matplotlib.org/</dc:title>\n     </cc:Agent>\n    </dc:creator>\n   </cc:Work>\n  </rdf:RDF>\n </metadata>\n <defs>\n  <style type=\"text/css\">*{stroke-linecap:butt;stroke-linejoin:round;}</style>\n </defs>\n <g id=\"figure_1\">\n  <g id=\"patch_1\">\n   <path d=\"M 0 296.611875 \nL 400.776562 296.611875 \nL 400.776562 0 \nL 0 0 \nz\n\" style=\"fill:none;\"/>\n  </g>\n  <g id=\"axes_1\">\n   <g id=\"patch_2\">\n    <path d=\"M 56.096563 256.12 \nL 386.576562 256.12 \nL 386.576562 14.2 \nL 56.096563 14.2 \nz\n\" style=\"fill:#ffffff;\"/>\n   </g>\n   <g id=\"PolyCollection_1\">\n    <defs>\n     <path d=\"M 59.047277 -254.275283 \nL 59.047277 -237.171061 \nL 64.948705 -229.515991 \nL 70.850134 -240.211932 \nL 76.751562 -216.255334 \nL 82.652991 -211.4304 \nL 88.55442 -219.1897 \nL 94.455848 -219.168647 \nL 100.357277 -222.140723 \nL 106.258705 -230.266841 \nL 112.160134 -224.506031 \nL 118.061562 -225.388493 \nL 123.962991 -231.810985 \nL 129.86442 -227.674068 \nL 135.765848 -227.442674 \nL 141.667277 -233.350575 \nL 147.568705 -230.177292 \nL 153.470134 -235.71505 \nL 159.371562 -234.636634 \nL 165.272991 -239.319445 \nL 171.17442 -241.579862 \nL 177.075848 -246.03185 \nL 182.977277 -245.658996 \nL 188.878705 -246.044264 \nL 194.780134 -246.462429 \nL 200.681562 -246.181029 \nL 206.582991 -247.919279 \nL 212.48442 -248.923568 \nL 218.385848 -249.266604 \nL 224.287277 -249.064216 \nL 230.188705 -249.1256 \nL 236.090134 -249.050438 \nL 241.991562 -249.240459 \nL 247.892991 -250.07472 \nL 253.79442 -251.232934 \nL 259.695848 -251.610825 \nL 265.597277 -250.926424 \nL 271.498705 -250.144189 \nL 277.400134 -249.679232 \nL 283.301562 -246.422704 \nL 289.202991 -227.778465 \nL 295.10442 -209.692688 \nL 301.005848 -202.673463 \nL 306.907277 -189.510467 \nL 312.808705 -187.595093 \nL 318.710134 -177.510582 \nL 324.611562 -171.50415 \nL 330.512991 -180.974197 \nL 336.41442 -255.349519 \nL 342.315848 -182.797757 \nL 348.217277 -182.797757 \nL 354.118705 -182.797757 \nL 360.020134 -182.797757 \nL 365.921562 -182.797757 \nL 371.822991 -182.797757 \nL 377.72442 -182.797757 \nL 383.625848 -182.797757 \nL 383.625848 -182.797757 \nL 383.625848 -182.797757 \nL 377.72442 -182.797757 \nL 371.822991 -182.797757 \nL 365.921562 -182.797757 \nL 360.020134 -182.797757 \nL 354.118705 -182.797757 \nL 348.217277 -182.797757 \nL 342.315848 -182.797757 \nL 336.41442 -259.7846 \nL 330.512991 -271.567687 \nL 324.611562 -270.040203 \nL 318.710134 -268.71704 \nL 312.808705 -269.408736 \nL 306.907277 -265.009169 \nL 301.005848 -266.229104 \nL 295.10442 -263.381195 \nL 289.202991 -262.444654 \nL 283.301562 -260.379526 \nL 277.400134 -258.859196 \nL 271.498705 -257.598989 \nL 265.597277 -258.444521 \nL 259.695848 -259.588472 \nL 253.79442 -259.923055 \nL 247.892991 -260.403771 \nL 241.991562 -261.770225 \nL 236.090134 -262.673679 \nL 230.188705 -262.920032 \nL 224.287277 -263.27057 \nL 218.385848 -263.738707 \nL 212.48442 -264.567647 \nL 206.582991 -265.580128 \nL 200.681562 -266.346211 \nL 194.780134 -267.319022 \nL 188.878705 -268.123699 \nL 182.977277 -268.087546 \nL 177.075848 -267.951721 \nL 171.17442 -268.001937 \nL 165.272991 -268.087868 \nL 159.371562 -267.990408 \nL 153.470134 -267.725751 \nL 147.568705 -267.845716 \nL 141.667277 -268.438124 \nL 135.765848 -267.880327 \nL 129.86442 -269.045552 \nL 123.962991 -269.042166 \nL 118.061562 -269.836355 \nL 112.160134 -268.628433 \nL 106.258705 -269.4513 \nL 100.357277 -269.507009 \nL 94.455848 -268.65422 \nL 88.55442 -267.256675 \nL 82.652991 -265.674503 \nL 76.751562 -264.14747 \nL 70.850134 -261.607903 \nL 64.948705 -258.841513 \nL 59.047277 -254.275283 \nz\n\" id=\"mad029386fe\" style=\"stroke:#000000;stroke-opacity:0.2;stroke-width:3;\"/>\n    </defs>\n    <g clip-path=\"url(#pc65e83bb21)\">\n     <use style=\"fill-opacity:0.2;stroke:#000000;stroke-opacity:0.2;stroke-width:3;\" x=\"0\" xlink:href=\"#mad029386fe\" y=\"296.611875\"/>\n    </g>\n   </g>\n   <g id=\"PolyCollection_2\">\n    <defs>\n     <path d=\"M 59.047277 -269.481234 \nL 59.047277 -246.997926 \nL 64.948705 -243.043381 \nL 70.850134 -207.903483 \nL 76.751562 -223.124122 \nL 82.652991 -217.869167 \nL 88.55442 -216.351411 \nL 94.455848 -210.970342 \nL 100.357277 -210.823035 \nL 106.258705 -205.766952 \nL 112.160134 -207.730351 \nL 118.061562 -212.717762 \nL 123.962991 -213.302764 \nL 129.86442 -220.414299 \nL 135.765848 -222.91684 \nL 141.667277 -223.82733 \nL 147.568705 -227.014009 \nL 153.470134 -228.304526 \nL 159.371562 -230.28666 \nL 165.272991 -235.189433 \nL 171.17442 -236.012928 \nL 177.075848 -241.53585 \nL 182.977277 -242.838611 \nL 188.878705 -242.730343 \nL 194.780134 -242.882317 \nL 200.681562 -243.713397 \nL 206.582991 -244.613987 \nL 212.48442 -245.865156 \nL 218.385848 -246.543085 \nL 224.287277 -246.376231 \nL 230.188705 -246.527364 \nL 236.090134 -246.428892 \nL 241.991562 -246.622539 \nL 247.892991 -247.310212 \nL 253.79442 -248.51671 \nL 259.695848 -249.130098 \nL 265.597277 -248.472905 \nL 271.498705 -247.650773 \nL 277.400134 -247.385458 \nL 283.301562 -245.178128 \nL 289.202991 -232.440448 \nL 295.10442 -216.314392 \nL 301.005848 -208.89765 \nL 306.907277 -199.008402 \nL 312.808705 -197.007071 \nL 318.710134 -196.491134 \nL 324.611562 -182.900832 \nL 330.512991 -214.696223 \nL 336.41442 -192.020168 \nL 342.315848 -182.797757 \nL 348.217277 -182.797757 \nL 354.118705 -182.797757 \nL 360.020134 -182.797757 \nL 365.921562 -182.797757 \nL 371.822991 -182.797757 \nL 377.72442 -182.797757 \nL 383.625848 -182.797757 \nL 383.625848 -182.797757 \nL 383.625848 -182.797757 \nL 377.72442 -182.797757 \nL 371.822991 -182.797757 \nL 365.921562 -182.797757 \nL 360.020134 -182.797757 \nL 354.118705 -182.797757 \nL 348.217277 -182.797757 \nL 342.315848 -182.797757 \nL 336.41442 -255.971321 \nL 330.512991 -268.103187 \nL 324.611562 -266.797291 \nL 318.710134 -265.412016 \nL 312.808705 -265.324319 \nL 306.907277 -261.239538 \nL 301.005848 -261.759608 \nL 295.10442 -260.520627 \nL 289.202991 -258.628913 \nL 283.301562 -257.06521 \nL 277.400134 -255.610036 \nL 271.498705 -254.574579 \nL 265.597277 -255.829432 \nL 259.695848 -256.588801 \nL 253.79442 -256.81684 \nL 247.892991 -257.364596 \nL 241.991562 -258.595185 \nL 236.090134 -259.344466 \nL 230.188705 -259.476921 \nL 224.287277 -259.843061 \nL 218.385848 -260.518041 \nL 212.48442 -261.198912 \nL 206.582991 -262.038414 \nL 200.681562 -262.640045 \nL 194.780134 -263.421991 \nL 188.878705 -263.961426 \nL 182.977277 -263.839607 \nL 177.075848 -263.673263 \nL 171.17442 -264.149198 \nL 165.272991 -263.96639 \nL 159.371562 -264.084397 \nL 153.470134 -264.275198 \nL 147.568705 -263.614272 \nL 141.667277 -264.770606 \nL 135.765848 -264.909524 \nL 129.86442 -264.653779 \nL 123.962991 -266.091765 \nL 118.061562 -265.897273 \nL 112.160134 -268.254804 \nL 106.258705 -268.635636 \nL 100.357277 -268.425974 \nL 94.455848 -269.381129 \nL 88.55442 -269.475564 \nL 82.652991 -269.480589 \nL 76.751562 -269.481167 \nL 70.850134 -269.480546 \nL 64.948705 -269.481248 \nL 59.047277 -269.481234 \nz\n\" id=\"m56b084fd52\" style=\"stroke:#1f77b4;stroke-opacity:0.2;stroke-width:3;\"/>\n    </defs>\n    <g clip-path=\"url(#pc65e83bb21)\">\n     <use style=\"fill:#1f77b4;fill-opacity:0.2;stroke:#1f77b4;stroke-opacity:0.2;stroke-width:3;\" x=\"0\" xlink:href=\"#m56b084fd52\" y=\"296.611875\"/>\n    </g>\n   </g>\n   <g id=\"matplotlib.axis_1\">\n    <g id=\"xtick_1\">\n     <g id=\"line2d_1\">\n      <defs>\n       <path d=\"M 0 0 \nL 0 7 \n\" id=\"m11b4e67d41\" style=\"stroke:#000000;stroke-width:1.2;\"/>\n      </defs>\n      <g>\n       <use style=\"stroke:#000000;stroke-width:1.2;\" x=\"85.603705\" xlink:href=\"#m11b4e67d41\" y=\"256.12\"/>\n      </g>\n     </g>\n     <g id=\"line2d_2\">\n      <defs>\n       <path d=\"M 0 0 \nL 0 -7 \n\" id=\"m48fc4dd8df\" style=\"stroke:#000000;stroke-width:1.2;\"/>\n      </defs>\n      <g>\n       <use style=\"stroke:#000000;stroke-width:1.2;\" x=\"85.603705\" xlink:href=\"#m48fc4dd8df\" y=\"14.2\"/>\n      </g>\n     </g>\n     <g id=\"text_1\">\n      <!-- −4 -->\n      <g transform=\"translate(78.232612 273.718438)scale(0.1 -0.1)\">\n       <defs>\n        <path d=\"M 10.59375 35.5 \nL 73.1875 35.5 \nL 73.1875 27.203125 \nL 10.59375 27.203125 \nz\n\" id=\"DejaVuSans-8722\"/>\n        <path d=\"M 37.796875 64.3125 \nL 12.890625 25.390625 \nL 37.796875 25.390625 \nz\nM 35.203125 72.90625 \nL 47.609375 72.90625 \nL 47.609375 25.390625 \nL 58.015625 25.390625 \nL 58.015625 17.1875 \nL 47.609375 17.1875 \nL 47.609375 0 \nL 37.796875 0 \nL 37.796875 17.1875 \nL 4.890625 17.1875 \nL 4.890625 26.703125 \nz\n\" id=\"DejaVuSans-52\"/>\n       </defs>\n       <use xlink:href=\"#DejaVuSans-8722\"/>\n       <use x=\"83.789062\" xlink:href=\"#DejaVuSans-52\"/>\n      </g>\n     </g>\n    </g>\n    <g id=\"xtick_2\">\n     <g id=\"line2d_3\">\n      <g>\n       <use style=\"stroke:#000000;stroke-width:1.2;\" x=\"144.617991\" xlink:href=\"#m11b4e67d41\" y=\"256.12\"/>\n      </g>\n     </g>\n     <g id=\"line2d_4\">\n      <g>\n       <use style=\"stroke:#000000;stroke-width:1.2;\" x=\"144.617991\" xlink:href=\"#m48fc4dd8df\" y=\"14.2\"/>\n      </g>\n     </g>\n     <g id=\"text_2\">\n      <!-- −3 -->\n      <g transform=\"translate(137.246897 273.718438)scale(0.1 -0.1)\">\n       <defs>\n        <path d=\"M 40.578125 39.3125 \nQ 47.65625 37.796875 51.625 33 \nQ 55.609375 28.21875 55.609375 21.1875 \nQ 55.609375 10.40625 48.1875 4.484375 \nQ 40.765625 -1.421875 27.09375 -1.421875 \nQ 22.515625 -1.421875 17.65625 -0.515625 \nQ 12.796875 0.390625 7.625 2.203125 \nL 7.625 11.71875 \nQ 11.71875 9.328125 16.59375 8.109375 \nQ 21.484375 6.890625 26.8125 6.890625 \nQ 36.078125 6.890625 40.9375 10.546875 \nQ 45.796875 14.203125 45.796875 21.1875 \nQ 45.796875 27.640625 41.28125 31.265625 \nQ 36.765625 34.90625 28.71875 34.90625 \nL 20.21875 34.90625 \nL 20.21875 43.015625 \nL 29.109375 43.015625 \nQ 36.375 43.015625 40.234375 45.921875 \nQ 44.09375 48.828125 44.09375 54.296875 \nQ 44.09375 59.90625 40.109375 62.90625 \nQ 36.140625 65.921875 28.71875 65.921875 \nQ 24.65625 65.921875 20.015625 65.03125 \nQ 15.375 64.15625 9.8125 62.3125 \nL 9.8125 71.09375 \nQ 15.4375 72.65625 20.34375 73.4375 \nQ 25.25 74.21875 29.59375 74.21875 \nQ 40.828125 74.21875 47.359375 69.109375 \nQ 53.90625 64.015625 53.90625 55.328125 \nQ 53.90625 49.265625 50.4375 45.09375 \nQ 46.96875 40.921875 40.578125 39.3125 \nz\n\" id=\"DejaVuSans-51\"/>\n       </defs>\n       <use xlink:href=\"#DejaVuSans-8722\"/>\n       <use x=\"83.789062\" xlink:href=\"#DejaVuSans-51\"/>\n      </g>\n     </g>\n    </g>\n    <g id=\"xtick_3\">\n     <g id=\"line2d_5\">\n      <g>\n       <use style=\"stroke:#000000;stroke-width:1.2;\" x=\"203.632277\" xlink:href=\"#m11b4e67d41\" y=\"256.12\"/>\n      </g>\n     </g>\n     <g id=\"line2d_6\">\n      <g>\n       <use style=\"stroke:#000000;stroke-width:1.2;\" x=\"203.632277\" xlink:href=\"#m48fc4dd8df\" y=\"14.2\"/>\n      </g>\n     </g>\n     <g id=\"text_3\">\n      <!-- −2 -->\n      <g transform=\"translate(196.261183 273.718438)scale(0.1 -0.1)\">\n       <defs>\n        <path d=\"M 19.1875 8.296875 \nL 53.609375 8.296875 \nL 53.609375 0 \nL 7.328125 0 \nL 7.328125 8.296875 \nQ 12.9375 14.109375 22.625 23.890625 \nQ 32.328125 33.6875 34.8125 36.53125 \nQ 39.546875 41.84375 41.421875 45.53125 \nQ 43.3125 49.21875 43.3125 52.78125 \nQ 43.3125 58.59375 39.234375 62.25 \nQ 35.15625 65.921875 28.609375 65.921875 \nQ 23.96875 65.921875 18.8125 64.3125 \nQ 13.671875 62.703125 7.8125 59.421875 \nL 7.8125 69.390625 \nQ 13.765625 71.78125 18.9375 73 \nQ 24.125 74.21875 28.421875 74.21875 \nQ 39.75 74.21875 46.484375 68.546875 \nQ 53.21875 62.890625 53.21875 53.421875 \nQ 53.21875 48.921875 51.53125 44.890625 \nQ 49.859375 40.875 45.40625 35.40625 \nQ 44.1875 33.984375 37.640625 27.21875 \nQ 31.109375 20.453125 19.1875 8.296875 \nz\n\" id=\"DejaVuSans-50\"/>\n       </defs>\n       <use xlink:href=\"#DejaVuSans-8722\"/>\n       <use x=\"83.789062\" xlink:href=\"#DejaVuSans-50\"/>\n      </g>\n     </g>\n    </g>\n    <g id=\"xtick_4\">\n     <g id=\"line2d_7\">\n      <g>\n       <use style=\"stroke:#000000;stroke-width:1.2;\" x=\"262.646562\" xlink:href=\"#m11b4e67d41\" y=\"256.12\"/>\n      </g>\n     </g>\n     <g id=\"line2d_8\">\n      <g>\n       <use style=\"stroke:#000000;stroke-width:1.2;\" x=\"262.646562\" xlink:href=\"#m48fc4dd8df\" y=\"14.2\"/>\n      </g>\n     </g>\n     <g id=\"text_4\">\n      <!-- −1 -->\n      <g transform=\"translate(255.275469 273.718438)scale(0.1 -0.1)\">\n       <defs>\n        <path d=\"M 12.40625 8.296875 \nL 28.515625 8.296875 \nL 28.515625 63.921875 \nL 10.984375 60.40625 \nL 10.984375 69.390625 \nL 28.421875 72.90625 \nL 38.28125 72.90625 \nL 38.28125 8.296875 \nL 54.390625 8.296875 \nL 54.390625 0 \nL 12.40625 0 \nz\n\" id=\"DejaVuSans-49\"/>\n       </defs>\n       <use xlink:href=\"#DejaVuSans-8722\"/>\n       <use x=\"83.789062\" xlink:href=\"#DejaVuSans-49\"/>\n      </g>\n     </g>\n    </g>\n    <g id=\"xtick_5\">\n     <g id=\"line2d_9\">\n      <g>\n       <use style=\"stroke:#000000;stroke-width:1.2;\" x=\"321.660848\" xlink:href=\"#m11b4e67d41\" y=\"256.12\"/>\n      </g>\n     </g>\n     <g id=\"line2d_10\">\n      <g>\n       <use style=\"stroke:#000000;stroke-width:1.2;\" x=\"321.660848\" xlink:href=\"#m48fc4dd8df\" y=\"14.2\"/>\n      </g>\n     </g>\n     <g id=\"text_5\">\n      <!-- 0 -->\n      <g transform=\"translate(318.479598 273.718438)scale(0.1 -0.1)\">\n       <defs>\n        <path d=\"M 31.78125 66.40625 \nQ 24.171875 66.40625 20.328125 58.90625 \nQ 16.5 51.421875 16.5 36.375 \nQ 16.5 21.390625 20.328125 13.890625 \nQ 24.171875 6.390625 31.78125 6.390625 \nQ 39.453125 6.390625 43.28125 13.890625 \nQ 47.125 21.390625 47.125 36.375 \nQ 47.125 51.421875 43.28125 58.90625 \nQ 39.453125 66.40625 31.78125 66.40625 \nz\nM 31.78125 74.21875 \nQ 44.046875 74.21875 50.515625 64.515625 \nQ 56.984375 54.828125 56.984375 36.375 \nQ 56.984375 17.96875 50.515625 8.265625 \nQ 44.046875 -1.421875 31.78125 -1.421875 \nQ 19.53125 -1.421875 13.0625 8.265625 \nQ 6.59375 17.96875 6.59375 36.375 \nQ 6.59375 54.828125 13.0625 64.515625 \nQ 19.53125 74.21875 31.78125 74.21875 \nz\n\" id=\"DejaVuSans-48\"/>\n       </defs>\n       <use xlink:href=\"#DejaVuSans-48\"/>\n      </g>\n     </g>\n    </g>\n    <g id=\"xtick_6\">\n     <g id=\"line2d_11\">\n      <g>\n       <use style=\"stroke:#000000;stroke-width:1.2;\" x=\"380.675134\" xlink:href=\"#m11b4e67d41\" y=\"256.12\"/>\n      </g>\n     </g>\n     <g id=\"line2d_12\">\n      <g>\n       <use style=\"stroke:#000000;stroke-width:1.2;\" x=\"380.675134\" xlink:href=\"#m48fc4dd8df\" y=\"14.2\"/>\n      </g>\n     </g>\n     <g id=\"text_6\">\n      <!-- 1 -->\n      <g transform=\"translate(377.493884 273.718438)scale(0.1 -0.1)\">\n       <use xlink:href=\"#DejaVuSans-49\"/>\n      </g>\n     </g>\n    </g>\n    <g id=\"text_7\">\n     <!-- [Fe/H] -->\n     <g transform=\"translate(203.308438 286.91625)scale(0.12 -0.12)\">\n      <defs>\n       <path d=\"M 8.59375 75.984375 \nL 29.296875 75.984375 \nL 29.296875 69 \nL 17.578125 69 \nL 17.578125 -6.203125 \nL 29.296875 -6.203125 \nL 29.296875 -13.1875 \nL 8.59375 -13.1875 \nz\n\" id=\"DejaVuSans-91\"/>\n       <path d=\"M 9.8125 72.90625 \nL 51.703125 72.90625 \nL 51.703125 64.59375 \nL 19.671875 64.59375 \nL 19.671875 43.109375 \nL 48.578125 43.109375 \nL 48.578125 34.8125 \nL 19.671875 34.8125 \nL 19.671875 0 \nL 9.8125 0 \nz\n\" id=\"DejaVuSans-70\"/>\n       <path d=\"M 56.203125 29.59375 \nL 56.203125 25.203125 \nL 14.890625 25.203125 \nQ 15.484375 15.921875 20.484375 11.0625 \nQ 25.484375 6.203125 34.421875 6.203125 \nQ 39.59375 6.203125 44.453125 7.46875 \nQ 49.3125 8.734375 54.109375 11.28125 \nL 54.109375 2.78125 \nQ 49.265625 0.734375 44.1875 -0.34375 \nQ 39.109375 -1.421875 33.890625 -1.421875 \nQ 20.796875 -1.421875 13.15625 6.1875 \nQ 5.515625 13.8125 5.515625 26.8125 \nQ 5.515625 40.234375 12.765625 48.109375 \nQ 20.015625 56 32.328125 56 \nQ 43.359375 56 49.78125 48.890625 \nQ 56.203125 41.796875 56.203125 29.59375 \nz\nM 47.21875 32.234375 \nQ 47.125 39.59375 43.09375 43.984375 \nQ 39.0625 48.390625 32.421875 48.390625 \nQ 24.90625 48.390625 20.390625 44.140625 \nQ 15.875 39.890625 15.1875 32.171875 \nz\n\" id=\"DejaVuSans-101\"/>\n       <path d=\"M 25.390625 72.90625 \nL 33.6875 72.90625 \nL 8.296875 -9.28125 \nL 0 -9.28125 \nz\n\" id=\"DejaVuSans-47\"/>\n       <path d=\"M 9.8125 72.90625 \nL 19.671875 72.90625 \nL 19.671875 43.015625 \nL 55.515625 43.015625 \nL 55.515625 72.90625 \nL 65.375 72.90625 \nL 65.375 0 \nL 55.515625 0 \nL 55.515625 34.71875 \nL 19.671875 34.71875 \nL 19.671875 0 \nL 9.8125 0 \nz\n\" id=\"DejaVuSans-72\"/>\n       <path d=\"M 30.421875 75.984375 \nL 30.421875 -13.1875 \nL 9.71875 -13.1875 \nL 9.71875 -6.203125 \nL 21.390625 -6.203125 \nL 21.390625 69 \nL 9.71875 69 \nL 9.71875 75.984375 \nz\n\" id=\"DejaVuSans-93\"/>\n      </defs>\n      <use xlink:href=\"#DejaVuSans-91\"/>\n      <use x=\"39.013672\" xlink:href=\"#DejaVuSans-70\"/>\n      <use x=\"91.033203\" xlink:href=\"#DejaVuSans-101\"/>\n      <use x=\"152.556641\" xlink:href=\"#DejaVuSans-47\"/>\n      <use x=\"186.248047\" xlink:href=\"#DejaVuSans-72\"/>\n      <use x=\"261.443359\" xlink:href=\"#DejaVuSans-93\"/>\n     </g>\n    </g>\n   </g>\n   <g id=\"matplotlib.axis_2\">\n    <g id=\"ytick_1\">\n     <g id=\"line2d_13\">\n      <defs>\n       <path d=\"M 0 0 \nL -7 0 \n\" id=\"m463f3caf5c\" style=\"stroke:#000000;stroke-width:1.2;\"/>\n      </defs>\n      <g>\n       <use style=\"stroke:#000000;stroke-width:1.2;\" x=\"56.096563\" xlink:href=\"#m463f3caf5c\" y=\"256.12\"/>\n      </g>\n     </g>\n     <g id=\"line2d_14\">\n      <defs>\n       <path d=\"M 0 0 \nL 7 0 \n\" id=\"mee82e64644\" style=\"stroke:#000000;stroke-width:1.2;\"/>\n      </defs>\n      <g>\n       <use style=\"stroke:#000000;stroke-width:1.2;\" x=\"386.576562\" xlink:href=\"#mee82e64644\" y=\"256.12\"/>\n      </g>\n     </g>\n     <g id=\"text_8\">\n      <!-- −1.0 -->\n      <g transform=\"translate(20.81375 259.919219)scale(0.1 -0.1)\">\n       <defs>\n        <path d=\"M 10.6875 12.40625 \nL 21 12.40625 \nL 21 0 \nL 10.6875 0 \nz\n\" id=\"DejaVuSans-46\"/>\n       </defs>\n       <use xlink:href=\"#DejaVuSans-8722\"/>\n       <use x=\"83.789062\" xlink:href=\"#DejaVuSans-49\"/>\n       <use x=\"147.412109\" xlink:href=\"#DejaVuSans-46\"/>\n       <use x=\"179.199219\" xlink:href=\"#DejaVuSans-48\"/>\n      </g>\n     </g>\n    </g>\n    <g id=\"ytick_2\">\n     <g id=\"line2d_15\">\n      <g>\n       <use style=\"stroke:#000000;stroke-width:1.2;\" x=\"56.096563\" xlink:href=\"#m463f3caf5c\" y=\"227.658824\"/>\n      </g>\n     </g>\n     <g id=\"line2d_16\">\n      <g>\n       <use style=\"stroke:#000000;stroke-width:1.2;\" x=\"386.576562\" xlink:href=\"#mee82e64644\" y=\"227.658824\"/>\n      </g>\n     </g>\n     <g id=\"text_9\">\n      <!-- −0.8 -->\n      <g transform=\"translate(20.81375 231.458042)scale(0.1 -0.1)\">\n       <defs>\n        <path d=\"M 31.78125 34.625 \nQ 24.75 34.625 20.71875 30.859375 \nQ 16.703125 27.09375 16.703125 20.515625 \nQ 16.703125 13.921875 20.71875 10.15625 \nQ 24.75 6.390625 31.78125 6.390625 \nQ 38.8125 6.390625 42.859375 10.171875 \nQ 46.921875 13.96875 46.921875 20.515625 \nQ 46.921875 27.09375 42.890625 30.859375 \nQ 38.875 34.625 31.78125 34.625 \nz\nM 21.921875 38.8125 \nQ 15.578125 40.375 12.03125 44.71875 \nQ 8.5 49.078125 8.5 55.328125 \nQ 8.5 64.0625 14.71875 69.140625 \nQ 20.953125 74.21875 31.78125 74.21875 \nQ 42.671875 74.21875 48.875 69.140625 \nQ 55.078125 64.0625 55.078125 55.328125 \nQ 55.078125 49.078125 51.53125 44.71875 \nQ 48 40.375 41.703125 38.8125 \nQ 48.828125 37.15625 52.796875 32.3125 \nQ 56.78125 27.484375 56.78125 20.515625 \nQ 56.78125 9.90625 50.3125 4.234375 \nQ 43.84375 -1.421875 31.78125 -1.421875 \nQ 19.734375 -1.421875 13.25 4.234375 \nQ 6.78125 9.90625 6.78125 20.515625 \nQ 6.78125 27.484375 10.78125 32.3125 \nQ 14.796875 37.15625 21.921875 38.8125 \nz\nM 18.3125 54.390625 \nQ 18.3125 48.734375 21.84375 45.5625 \nQ 25.390625 42.390625 31.78125 42.390625 \nQ 38.140625 42.390625 41.71875 45.5625 \nQ 45.3125 48.734375 45.3125 54.390625 \nQ 45.3125 60.0625 41.71875 63.234375 \nQ 38.140625 66.40625 31.78125 66.40625 \nQ 25.390625 66.40625 21.84375 63.234375 \nQ 18.3125 60.0625 18.3125 54.390625 \nz\n\" id=\"DejaVuSans-56\"/>\n       </defs>\n       <use xlink:href=\"#DejaVuSans-8722\"/>\n       <use x=\"83.789062\" xlink:href=\"#DejaVuSans-48\"/>\n       <use x=\"147.412109\" xlink:href=\"#DejaVuSans-46\"/>\n       <use x=\"179.199219\" xlink:href=\"#DejaVuSans-56\"/>\n      </g>\n     </g>\n    </g>\n    <g id=\"ytick_3\">\n     <g id=\"line2d_17\">\n      <g>\n       <use style=\"stroke:#000000;stroke-width:1.2;\" x=\"56.096563\" xlink:href=\"#m463f3caf5c\" y=\"199.197647\"/>\n      </g>\n     </g>\n     <g id=\"line2d_18\">\n      <g>\n       <use style=\"stroke:#000000;stroke-width:1.2;\" x=\"386.576562\" xlink:href=\"#mee82e64644\" y=\"199.197647\"/>\n      </g>\n     </g>\n     <g id=\"text_10\">\n      <!-- −0.6 -->\n      <g transform=\"translate(20.81375 202.996866)scale(0.1 -0.1)\">\n       <defs>\n        <path d=\"M 33.015625 40.375 \nQ 26.375 40.375 22.484375 35.828125 \nQ 18.609375 31.296875 18.609375 23.390625 \nQ 18.609375 15.53125 22.484375 10.953125 \nQ 26.375 6.390625 33.015625 6.390625 \nQ 39.65625 6.390625 43.53125 10.953125 \nQ 47.40625 15.53125 47.40625 23.390625 \nQ 47.40625 31.296875 43.53125 35.828125 \nQ 39.65625 40.375 33.015625 40.375 \nz\nM 52.59375 71.296875 \nL 52.59375 62.3125 \nQ 48.875 64.0625 45.09375 64.984375 \nQ 41.3125 65.921875 37.59375 65.921875 \nQ 27.828125 65.921875 22.671875 59.328125 \nQ 17.53125 52.734375 16.796875 39.40625 \nQ 19.671875 43.65625 24.015625 45.921875 \nQ 28.375 48.1875 33.59375 48.1875 \nQ 44.578125 48.1875 50.953125 41.515625 \nQ 57.328125 34.859375 57.328125 23.390625 \nQ 57.328125 12.15625 50.6875 5.359375 \nQ 44.046875 -1.421875 33.015625 -1.421875 \nQ 20.359375 -1.421875 13.671875 8.265625 \nQ 6.984375 17.96875 6.984375 36.375 \nQ 6.984375 53.65625 15.1875 63.9375 \nQ 23.390625 74.21875 37.203125 74.21875 \nQ 40.921875 74.21875 44.703125 73.484375 \nQ 48.484375 72.75 52.59375 71.296875 \nz\n\" id=\"DejaVuSans-54\"/>\n       </defs>\n       <use xlink:href=\"#DejaVuSans-8722\"/>\n       <use x=\"83.789062\" xlink:href=\"#DejaVuSans-48\"/>\n       <use x=\"147.412109\" xlink:href=\"#DejaVuSans-46\"/>\n       <use x=\"179.199219\" xlink:href=\"#DejaVuSans-54\"/>\n      </g>\n     </g>\n    </g>\n    <g id=\"ytick_4\">\n     <g id=\"line2d_19\">\n      <g>\n       <use style=\"stroke:#000000;stroke-width:1.2;\" x=\"56.096563\" xlink:href=\"#m463f3caf5c\" y=\"170.736471\"/>\n      </g>\n     </g>\n     <g id=\"line2d_20\">\n      <g>\n       <use style=\"stroke:#000000;stroke-width:1.2;\" x=\"386.576562\" xlink:href=\"#mee82e64644\" y=\"170.736471\"/>\n      </g>\n     </g>\n     <g id=\"text_11\">\n      <!-- −0.4 -->\n      <g transform=\"translate(20.81375 174.535689)scale(0.1 -0.1)\">\n       <use xlink:href=\"#DejaVuSans-8722\"/>\n       <use x=\"83.789062\" xlink:href=\"#DejaVuSans-48\"/>\n       <use x=\"147.412109\" xlink:href=\"#DejaVuSans-46\"/>\n       <use x=\"179.199219\" xlink:href=\"#DejaVuSans-52\"/>\n      </g>\n     </g>\n    </g>\n    <g id=\"ytick_5\">\n     <g id=\"line2d_21\">\n      <g>\n       <use style=\"stroke:#000000;stroke-width:1.2;\" x=\"56.096563\" xlink:href=\"#m463f3caf5c\" y=\"142.275294\"/>\n      </g>\n     </g>\n     <g id=\"line2d_22\">\n      <g>\n       <use style=\"stroke:#000000;stroke-width:1.2;\" x=\"386.576562\" xlink:href=\"#mee82e64644\" y=\"142.275294\"/>\n      </g>\n     </g>\n     <g id=\"text_12\">\n      <!-- −0.2 -->\n      <g transform=\"translate(20.81375 146.074513)scale(0.1 -0.1)\">\n       <use xlink:href=\"#DejaVuSans-8722\"/>\n       <use x=\"83.789062\" xlink:href=\"#DejaVuSans-48\"/>\n       <use x=\"147.412109\" xlink:href=\"#DejaVuSans-46\"/>\n       <use x=\"179.199219\" xlink:href=\"#DejaVuSans-50\"/>\n      </g>\n     </g>\n    </g>\n    <g id=\"ytick_6\">\n     <g id=\"line2d_23\">\n      <g>\n       <use style=\"stroke:#000000;stroke-width:1.2;\" x=\"56.096563\" xlink:href=\"#m463f3caf5c\" y=\"113.814118\"/>\n      </g>\n     </g>\n     <g id=\"line2d_24\">\n      <g>\n       <use style=\"stroke:#000000;stroke-width:1.2;\" x=\"386.576562\" xlink:href=\"#mee82e64644\" y=\"113.814118\"/>\n      </g>\n     </g>\n     <g id=\"text_13\">\n      <!-- 0.0 -->\n      <g transform=\"translate(29.193438 117.613336)scale(0.1 -0.1)\">\n       <use xlink:href=\"#DejaVuSans-48\"/>\n       <use x=\"63.623047\" xlink:href=\"#DejaVuSans-46\"/>\n       <use x=\"95.410156\" xlink:href=\"#DejaVuSans-48\"/>\n      </g>\n     </g>\n    </g>\n    <g id=\"ytick_7\">\n     <g id=\"line2d_25\">\n      <g>\n       <use style=\"stroke:#000000;stroke-width:1.2;\" x=\"56.096563\" xlink:href=\"#m463f3caf5c\" y=\"85.352941\"/>\n      </g>\n     </g>\n     <g id=\"line2d_26\">\n      <g>\n       <use style=\"stroke:#000000;stroke-width:1.2;\" x=\"386.576562\" xlink:href=\"#mee82e64644\" y=\"85.352941\"/>\n      </g>\n     </g>\n     <g id=\"text_14\">\n      <!-- 0.2 -->\n      <g transform=\"translate(29.193438 89.15216)scale(0.1 -0.1)\">\n       <use xlink:href=\"#DejaVuSans-48\"/>\n       <use x=\"63.623047\" xlink:href=\"#DejaVuSans-46\"/>\n       <use x=\"95.410156\" xlink:href=\"#DejaVuSans-50\"/>\n      </g>\n     </g>\n    </g>\n    <g id=\"ytick_8\">\n     <g id=\"line2d_27\">\n      <g>\n       <use style=\"stroke:#000000;stroke-width:1.2;\" x=\"56.096563\" xlink:href=\"#m463f3caf5c\" y=\"56.891765\"/>\n      </g>\n     </g>\n     <g id=\"line2d_28\">\n      <g>\n       <use style=\"stroke:#000000;stroke-width:1.2;\" x=\"386.576562\" xlink:href=\"#mee82e64644\" y=\"56.891765\"/>\n      </g>\n     </g>\n     <g id=\"text_15\">\n      <!-- 0.4 -->\n      <g transform=\"translate(29.193438 60.690983)scale(0.1 -0.1)\">\n       <use xlink:href=\"#DejaVuSans-48\"/>\n       <use x=\"63.623047\" xlink:href=\"#DejaVuSans-46\"/>\n       <use x=\"95.410156\" xlink:href=\"#DejaVuSans-52\"/>\n      </g>\n     </g>\n    </g>\n    <g id=\"ytick_9\">\n     <g id=\"line2d_29\">\n      <g>\n       <use style=\"stroke:#000000;stroke-width:1.2;\" x=\"56.096563\" xlink:href=\"#m463f3caf5c\" y=\"28.430588\"/>\n      </g>\n     </g>\n     <g id=\"line2d_30\">\n      <g>\n       <use style=\"stroke:#000000;stroke-width:1.2;\" x=\"386.576562\" xlink:href=\"#mee82e64644\" y=\"28.430588\"/>\n      </g>\n     </g>\n     <g id=\"text_16\">\n      <!-- 0.6 -->\n      <g transform=\"translate(29.193438 32.229807)scale(0.1 -0.1)\">\n       <use xlink:href=\"#DejaVuSans-48\"/>\n       <use x=\"63.623047\" xlink:href=\"#DejaVuSans-46\"/>\n       <use x=\"95.410156\" xlink:href=\"#DejaVuSans-54\"/>\n      </g>\n     </g>\n    </g>\n    <g id=\"text_17\">\n     <!-- [O/Fe] -->\n     <g transform=\"translate(16.318125 153.399063)rotate(-90)scale(0.12 -0.12)\">\n      <defs>\n       <path d=\"M 39.40625 66.21875 \nQ 28.65625 66.21875 22.328125 58.203125 \nQ 16.015625 50.203125 16.015625 36.375 \nQ 16.015625 22.609375 22.328125 14.59375 \nQ 28.65625 6.59375 39.40625 6.59375 \nQ 50.140625 6.59375 56.421875 14.59375 \nQ 62.703125 22.609375 62.703125 36.375 \nQ 62.703125 50.203125 56.421875 58.203125 \nQ 50.140625 66.21875 39.40625 66.21875 \nz\nM 39.40625 74.21875 \nQ 54.734375 74.21875 63.90625 63.9375 \nQ 73.09375 53.65625 73.09375 36.375 \nQ 73.09375 19.140625 63.90625 8.859375 \nQ 54.734375 -1.421875 39.40625 -1.421875 \nQ 24.03125 -1.421875 14.8125 8.828125 \nQ 5.609375 19.09375 5.609375 36.375 \nQ 5.609375 53.65625 14.8125 63.9375 \nQ 24.03125 74.21875 39.40625 74.21875 \nz\n\" id=\"DejaVuSans-79\"/>\n      </defs>\n      <use xlink:href=\"#DejaVuSans-91\"/>\n      <use x=\"39.013672\" xlink:href=\"#DejaVuSans-79\"/>\n      <use x=\"117.724609\" xlink:href=\"#DejaVuSans-47\"/>\n      <use x=\"151.416016\" xlink:href=\"#DejaVuSans-70\"/>\n      <use x=\"203.435547\" xlink:href=\"#DejaVuSans-101\"/>\n      <use x=\"264.958984\" xlink:href=\"#DejaVuSans-93\"/>\n     </g>\n    </g>\n   </g>\n   <g id=\"line2d_31\">\n    <path clip-path=\"url(#pc65e83bb21)\" d=\"M 59.047277 43.296485 \nL 64.948705 39.456456 \nL 70.850134 36.672498 \nL 76.751562 38.28004 \nL 82.652991 35.113082 \nL 88.55442 34.764655 \nL 94.455848 35.69782 \nL 100.357277 34.359041 \nL 106.258705 37.264174 \nL 112.160134 38.415194 \nL 118.061562 37.361515 \nL 123.962991 37.99813 \nL 129.86442 38.70345 \nL 135.765848 40.229581 \nL 141.667277 38.740872 \nL 147.568705 40.208698 \nL 153.470134 38.536793 \nL 159.371562 38.810952 \nL 165.272991 36.951592 \nL 171.17442 36.267478 \nL 177.075848 35.863306 \nL 182.977277 35.731876 \nL 188.878705 36.278776 \nL 194.780134 37.432035 \nL 200.681562 38.348474 \nL 206.582991 38.824659 \nL 212.48442 39.035812 \nL 218.385848 39.1967 \nL 224.287277 39.568979 \nL 230.188705 39.960411 \nL 236.090134 40.344497 \nL 241.991562 40.776074 \nL 247.892991 40.748049 \nL 253.79442 40.89646 \nL 259.695848 41.321099 \nL 265.597277 42.232712 \nL 271.498705 42.479295 \nL 277.400134 41.062879 \nL 283.301562 40.926436 \nL 289.202991 43.795275 \nL 295.10442 65.595221 \nL 301.005848 64.667191 \nL 306.907277 67.172224 \nL 312.808705 49.425818 \nL 318.710134 56.706328 \nL 324.611562 54.655121 \nL 330.512991 98.732986 \nL 336.41442 39.04482 \nL 342.315848 113.814118 \nL 348.217277 113.814118 \nL 354.118705 113.814118 \nL 360.020134 113.814118 \nL 365.921562 113.814118 \nL 371.822991 113.814118 \nL 377.72442 113.814118 \nL 383.625848 113.814118 \n\" style=\"fill:none;stroke:#000000;stroke-linecap:square;stroke-width:3;\"/>\n   </g>\n   <g id=\"line2d_32\">\n    <path clip-path=\"url(#pc65e83bb21)\" d=\"M 59.047277 27.59003 \nL 64.948705 27.406819 \nL 70.850134 35.196867 \nL 76.751562 29.871324 \nL 82.652991 34.639918 \nL 88.55442 34.675448 \nL 94.455848 39.939861 \nL 100.357277 38.87612 \nL 106.258705 42.199612 \nL 112.160134 42.754036 \nL 118.061562 45.313461 \nL 123.962991 47.160891 \nL 129.86442 44.788978 \nL 135.765848 44.068083 \nL 141.667277 44.012118 \nL 147.568705 44.669057 \nL 153.470134 43.352434 \nL 159.371562 43.483336 \nL 165.272991 41.299039 \nL 171.17442 40.627755 \nL 177.075848 39.63232 \nL 182.977277 39.840581 \nL 188.878705 39.566001 \nL 194.780134 40.889344 \nL 200.681562 41.318902 \nL 206.582991 42.3065 \nL 212.48442 42.347917 \nL 218.385848 42.346071 \nL 224.287277 42.661737 \nL 230.188705 42.911065 \nL 236.090134 43.420324 \nL 241.991562 43.717353 \nL 247.892991 43.748298 \nL 253.79442 43.79111 \nL 259.695848 44.015896 \nL 265.597277 44.846445 \nL 271.498705 45.356478 \nL 277.400134 44.241023 \nL 283.301562 43.719288 \nL 289.202991 45.431031 \nL 295.10442 62.268529 \nL 301.005848 64.928243 \nL 306.907277 61.847431 \nL 312.808705 55.859676 \nL 318.710134 50.344002 \nL 324.611562 74.82503 \nL 330.512991 47.830315 \nL 336.41442 70.136395 \nL 342.315848 113.814118 \nL 348.217277 113.814118 \nL 354.118705 113.814118 \nL 360.020134 113.814118 \nL 365.921562 113.814118 \nL 371.822991 113.814118 \nL 377.72442 113.814118 \nL 383.625848 113.814118 \n\" style=\"fill:none;stroke:#1f77b4;stroke-linecap:square;stroke-width:3;\"/>\n   </g>\n   <g id=\"patch_3\">\n    <path d=\"M 56.096563 256.12 \nL 56.096563 14.2 \n\" style=\"fill:none;stroke:#000000;stroke-linecap:square;stroke-linejoin:miter;stroke-width:2;\"/>\n   </g>\n   <g id=\"patch_4\">\n    <path d=\"M 386.576562 256.12 \nL 386.576562 14.2 \n\" style=\"fill:none;stroke:#000000;stroke-linecap:square;stroke-linejoin:miter;stroke-width:2;\"/>\n   </g>\n   <g id=\"patch_5\">\n    <path d=\"M 56.096563 256.12 \nL 386.576562 256.12 \n\" style=\"fill:none;stroke:#000000;stroke-linecap:square;stroke-linejoin:miter;stroke-width:2;\"/>\n   </g>\n   <g id=\"patch_6\">\n    <path d=\"M 56.096563 14.2 \nL 386.576562 14.2 \n\" style=\"fill:none;stroke:#000000;stroke-linecap:square;stroke-linejoin:miter;stroke-width:2;\"/>\n   </g>\n   <g id=\"legend_1\">\n    <g id=\"patch_7\">\n     <path d=\"M 69.096563 245.12 \nL 135.255938 245.12 \nQ 137.255938 245.12 137.255938 243.12 \nL 137.255938 220.26375 \nQ 137.255938 218.26375 135.255938 218.26375 \nL 69.096563 218.26375 \nQ 67.096563 218.26375 67.096563 220.26375 \nL 67.096563 243.12 \nQ 67.096563 245.12 69.096563 245.12 \nz\n\" style=\"fill:#ffffff;opacity:0.8;stroke:#999999;stroke-linejoin:miter;stroke-width:1.5;\"/>\n    </g>\n    <g id=\"line2d_33\">\n     <path d=\"M 69.596563 224.862188 \nL 79.596563 224.862188 \n\" style=\"fill:none;stroke:#000000;stroke-linecap:square;stroke-width:3;\"/>\n    </g>\n    <g id=\"line2d_34\"/>\n    <g id=\"text_18\">\n     <!-- simulation -->\n     <g transform=\"translate(82.596563 228.362188)scale(0.1 -0.1)\">\n      <defs>\n       <path d=\"M 44.28125 53.078125 \nL 44.28125 44.578125 \nQ 40.484375 46.53125 36.375 47.5 \nQ 32.28125 48.484375 27.875 48.484375 \nQ 21.1875 48.484375 17.84375 46.4375 \nQ 14.5 44.390625 14.5 40.28125 \nQ 14.5 37.15625 16.890625 35.375 \nQ 19.28125 33.59375 26.515625 31.984375 \nL 29.59375 31.296875 \nQ 39.15625 29.25 43.1875 25.515625 \nQ 47.21875 21.78125 47.21875 15.09375 \nQ 47.21875 7.46875 41.1875 3.015625 \nQ 35.15625 -1.421875 24.609375 -1.421875 \nQ 20.21875 -1.421875 15.453125 -0.5625 \nQ 10.6875 0.296875 5.421875 2 \nL 5.421875 11.28125 \nQ 10.40625 8.6875 15.234375 7.390625 \nQ 20.0625 6.109375 24.8125 6.109375 \nQ 31.15625 6.109375 34.5625 8.28125 \nQ 37.984375 10.453125 37.984375 14.40625 \nQ 37.984375 18.0625 35.515625 20.015625 \nQ 33.0625 21.96875 24.703125 23.78125 \nL 21.578125 24.515625 \nQ 13.234375 26.265625 9.515625 29.90625 \nQ 5.8125 33.546875 5.8125 39.890625 \nQ 5.8125 47.609375 11.28125 51.796875 \nQ 16.75 56 26.8125 56 \nQ 31.78125 56 36.171875 55.265625 \nQ 40.578125 54.546875 44.28125 53.078125 \nz\n\" id=\"DejaVuSans-115\"/>\n       <path d=\"M 9.421875 54.6875 \nL 18.40625 54.6875 \nL 18.40625 0 \nL 9.421875 0 \nz\nM 9.421875 75.984375 \nL 18.40625 75.984375 \nL 18.40625 64.59375 \nL 9.421875 64.59375 \nz\n\" id=\"DejaVuSans-105\"/>\n       <path d=\"M 52 44.1875 \nQ 55.375 50.25 60.0625 53.125 \nQ 64.75 56 71.09375 56 \nQ 79.640625 56 84.28125 50.015625 \nQ 88.921875 44.046875 88.921875 33.015625 \nL 88.921875 0 \nL 79.890625 0 \nL 79.890625 32.71875 \nQ 79.890625 40.578125 77.09375 44.375 \nQ 74.3125 48.1875 68.609375 48.1875 \nQ 61.625 48.1875 57.5625 43.546875 \nQ 53.515625 38.921875 53.515625 30.90625 \nL 53.515625 0 \nL 44.484375 0 \nL 44.484375 32.71875 \nQ 44.484375 40.625 41.703125 44.40625 \nQ 38.921875 48.1875 33.109375 48.1875 \nQ 26.21875 48.1875 22.15625 43.53125 \nQ 18.109375 38.875 18.109375 30.90625 \nL 18.109375 0 \nL 9.078125 0 \nL 9.078125 54.6875 \nL 18.109375 54.6875 \nL 18.109375 46.1875 \nQ 21.1875 51.21875 25.484375 53.609375 \nQ 29.78125 56 35.6875 56 \nQ 41.65625 56 45.828125 52.96875 \nQ 50 49.953125 52 44.1875 \nz\n\" id=\"DejaVuSans-109\"/>\n       <path d=\"M 8.5 21.578125 \nL 8.5 54.6875 \nL 17.484375 54.6875 \nL 17.484375 21.921875 \nQ 17.484375 14.15625 20.5 10.265625 \nQ 23.53125 6.390625 29.59375 6.390625 \nQ 36.859375 6.390625 41.078125 11.03125 \nQ 45.3125 15.671875 45.3125 23.6875 \nL 45.3125 54.6875 \nL 54.296875 54.6875 \nL 54.296875 0 \nL 45.3125 0 \nL 45.3125 8.40625 \nQ 42.046875 3.421875 37.71875 1 \nQ 33.40625 -1.421875 27.6875 -1.421875 \nQ 18.265625 -1.421875 13.375 4.4375 \nQ 8.5 10.296875 8.5 21.578125 \nz\nM 31.109375 56 \nz\n\" id=\"DejaVuSans-117\"/>\n       <path d=\"M 9.421875 75.984375 \nL 18.40625 75.984375 \nL 18.40625 0 \nL 9.421875 0 \nz\n\" id=\"DejaVuSans-108\"/>\n       <path d=\"M 34.28125 27.484375 \nQ 23.390625 27.484375 19.1875 25 \nQ 14.984375 22.515625 14.984375 16.5 \nQ 14.984375 11.71875 18.140625 8.90625 \nQ 21.296875 6.109375 26.703125 6.109375 \nQ 34.1875 6.109375 38.703125 11.40625 \nQ 43.21875 16.703125 43.21875 25.484375 \nL 43.21875 27.484375 \nz\nM 52.203125 31.203125 \nL 52.203125 0 \nL 43.21875 0 \nL 43.21875 8.296875 \nQ 40.140625 3.328125 35.546875 0.953125 \nQ 30.953125 -1.421875 24.3125 -1.421875 \nQ 15.921875 -1.421875 10.953125 3.296875 \nQ 6 8.015625 6 15.921875 \nQ 6 25.140625 12.171875 29.828125 \nQ 18.359375 34.515625 30.609375 34.515625 \nL 43.21875 34.515625 \nL 43.21875 35.40625 \nQ 43.21875 41.609375 39.140625 45 \nQ 35.0625 48.390625 27.6875 48.390625 \nQ 23 48.390625 18.546875 47.265625 \nQ 14.109375 46.140625 10.015625 43.890625 \nL 10.015625 52.203125 \nQ 14.9375 54.109375 19.578125 55.046875 \nQ 24.21875 56 28.609375 56 \nQ 40.484375 56 46.34375 49.84375 \nQ 52.203125 43.703125 52.203125 31.203125 \nz\n\" id=\"DejaVuSans-97\"/>\n       <path d=\"M 18.3125 70.21875 \nL 18.3125 54.6875 \nL 36.8125 54.6875 \nL 36.8125 47.703125 \nL 18.3125 47.703125 \nL 18.3125 18.015625 \nQ 18.3125 11.328125 20.140625 9.421875 \nQ 21.96875 7.515625 27.59375 7.515625 \nL 36.8125 7.515625 \nL 36.8125 0 \nL 27.59375 0 \nQ 17.1875 0 13.234375 3.875 \nQ 9.28125 7.765625 9.28125 18.015625 \nL 9.28125 47.703125 \nL 2.6875 47.703125 \nL 2.6875 54.6875 \nL 9.28125 54.6875 \nL 9.28125 70.21875 \nz\n\" id=\"DejaVuSans-116\"/>\n       <path d=\"M 30.609375 48.390625 \nQ 23.390625 48.390625 19.1875 42.75 \nQ 14.984375 37.109375 14.984375 27.296875 \nQ 14.984375 17.484375 19.15625 11.84375 \nQ 23.34375 6.203125 30.609375 6.203125 \nQ 37.796875 6.203125 41.984375 11.859375 \nQ 46.1875 17.53125 46.1875 27.296875 \nQ 46.1875 37.015625 41.984375 42.703125 \nQ 37.796875 48.390625 30.609375 48.390625 \nz\nM 30.609375 56 \nQ 42.328125 56 49.015625 48.375 \nQ 55.71875 40.765625 55.71875 27.296875 \nQ 55.71875 13.875 49.015625 6.21875 \nQ 42.328125 -1.421875 30.609375 -1.421875 \nQ 18.84375 -1.421875 12.171875 6.21875 \nQ 5.515625 13.875 5.515625 27.296875 \nQ 5.515625 40.765625 12.171875 48.375 \nQ 18.84375 56 30.609375 56 \nz\n\" id=\"DejaVuSans-111\"/>\n       <path d=\"M 54.890625 33.015625 \nL 54.890625 0 \nL 45.90625 0 \nL 45.90625 32.71875 \nQ 45.90625 40.484375 42.875 44.328125 \nQ 39.84375 48.1875 33.796875 48.1875 \nQ 26.515625 48.1875 22.3125 43.546875 \nQ 18.109375 38.921875 18.109375 30.90625 \nL 18.109375 0 \nL 9.078125 0 \nL 9.078125 54.6875 \nL 18.109375 54.6875 \nL 18.109375 46.1875 \nQ 21.34375 51.125 25.703125 53.5625 \nQ 30.078125 56 35.796875 56 \nQ 45.21875 56 50.046875 50.171875 \nQ 54.890625 44.34375 54.890625 33.015625 \nz\n\" id=\"DejaVuSans-110\"/>\n      </defs>\n      <use xlink:href=\"#DejaVuSans-115\"/>\n      <use x=\"52.099609\" xlink:href=\"#DejaVuSans-105\"/>\n      <use x=\"79.882812\" xlink:href=\"#DejaVuSans-109\"/>\n      <use x=\"177.294922\" xlink:href=\"#DejaVuSans-117\"/>\n      <use x=\"240.673828\" xlink:href=\"#DejaVuSans-108\"/>\n      <use x=\"268.457031\" xlink:href=\"#DejaVuSans-97\"/>\n      <use x=\"329.736328\" xlink:href=\"#DejaVuSans-116\"/>\n      <use x=\"368.945312\" xlink:href=\"#DejaVuSans-105\"/>\n      <use x=\"396.728516\" xlink:href=\"#DejaVuSans-111\"/>\n      <use x=\"457.910156\" xlink:href=\"#DejaVuSans-110\"/>\n     </g>\n    </g>\n    <g id=\"line2d_35\">\n     <path d=\"M 69.596563 237.040313 \nL 79.596563 237.040313 \n\" style=\"fill:none;stroke:#1f77b4;stroke-linecap:square;stroke-width:3;\"/>\n    </g>\n    <g id=\"line2d_36\"/>\n    <g id=\"text_19\">\n     <!-- age-tracer -->\n     <g transform=\"translate(82.596563 240.540313)scale(0.1 -0.1)\">\n      <defs>\n       <path d=\"M 45.40625 27.984375 \nQ 45.40625 37.75 41.375 43.109375 \nQ 37.359375 48.484375 30.078125 48.484375 \nQ 22.859375 48.484375 18.828125 43.109375 \nQ 14.796875 37.75 14.796875 27.984375 \nQ 14.796875 18.265625 18.828125 12.890625 \nQ 22.859375 7.515625 30.078125 7.515625 \nQ 37.359375 7.515625 41.375 12.890625 \nQ 45.40625 18.265625 45.40625 27.984375 \nz\nM 54.390625 6.78125 \nQ 54.390625 -7.171875 48.1875 -13.984375 \nQ 42 -20.796875 29.203125 -20.796875 \nQ 24.46875 -20.796875 20.265625 -20.09375 \nQ 16.0625 -19.390625 12.109375 -17.921875 \nL 12.109375 -9.1875 \nQ 16.0625 -11.328125 19.921875 -12.34375 \nQ 23.78125 -13.375 27.78125 -13.375 \nQ 36.625 -13.375 41.015625 -8.765625 \nQ 45.40625 -4.15625 45.40625 5.171875 \nL 45.40625 9.625 \nQ 42.625 4.78125 38.28125 2.390625 \nQ 33.9375 0 27.875 0 \nQ 17.828125 0 11.671875 7.65625 \nQ 5.515625 15.328125 5.515625 27.984375 \nQ 5.515625 40.671875 11.671875 48.328125 \nQ 17.828125 56 27.875 56 \nQ 33.9375 56 38.28125 53.609375 \nQ 42.625 51.21875 45.40625 46.390625 \nL 45.40625 54.6875 \nL 54.390625 54.6875 \nz\n\" id=\"DejaVuSans-103\"/>\n       <path d=\"M 4.890625 31.390625 \nL 31.203125 31.390625 \nL 31.203125 23.390625 \nL 4.890625 23.390625 \nz\n\" id=\"DejaVuSans-45\"/>\n       <path d=\"M 41.109375 46.296875 \nQ 39.59375 47.171875 37.8125 47.578125 \nQ 36.03125 48 33.890625 48 \nQ 26.265625 48 22.1875 43.046875 \nQ 18.109375 38.09375 18.109375 28.8125 \nL 18.109375 0 \nL 9.078125 0 \nL 9.078125 54.6875 \nL 18.109375 54.6875 \nL 18.109375 46.1875 \nQ 20.953125 51.171875 25.484375 53.578125 \nQ 30.03125 56 36.53125 56 \nQ 37.453125 56 38.578125 55.875 \nQ 39.703125 55.765625 41.0625 55.515625 \nz\n\" id=\"DejaVuSans-114\"/>\n       <path d=\"M 48.78125 52.59375 \nL 48.78125 44.1875 \nQ 44.96875 46.296875 41.140625 47.34375 \nQ 37.3125 48.390625 33.40625 48.390625 \nQ 24.65625 48.390625 19.8125 42.84375 \nQ 14.984375 37.3125 14.984375 27.296875 \nQ 14.984375 17.28125 19.8125 11.734375 \nQ 24.65625 6.203125 33.40625 6.203125 \nQ 37.3125 6.203125 41.140625 7.25 \nQ 44.96875 8.296875 48.78125 10.40625 \nL 48.78125 2.09375 \nQ 45.015625 0.34375 40.984375 -0.53125 \nQ 36.96875 -1.421875 32.421875 -1.421875 \nQ 20.0625 -1.421875 12.78125 6.34375 \nQ 5.515625 14.109375 5.515625 27.296875 \nQ 5.515625 40.671875 12.859375 48.328125 \nQ 20.21875 56 33.015625 56 \nQ 37.15625 56 41.109375 55.140625 \nQ 45.0625 54.296875 48.78125 52.59375 \nz\n\" id=\"DejaVuSans-99\"/>\n      </defs>\n      <use xlink:href=\"#DejaVuSans-97\"/>\n      <use x=\"61.279297\" xlink:href=\"#DejaVuSans-103\"/>\n      <use x=\"124.755859\" xlink:href=\"#DejaVuSans-101\"/>\n      <use x=\"186.279297\" xlink:href=\"#DejaVuSans-45\"/>\n      <use x=\"222.363281\" xlink:href=\"#DejaVuSans-116\"/>\n      <use x=\"261.572266\" xlink:href=\"#DejaVuSans-114\"/>\n      <use x=\"302.685547\" xlink:href=\"#DejaVuSans-97\"/>\n      <use x=\"363.964844\" xlink:href=\"#DejaVuSans-99\"/>\n      <use x=\"418.945312\" xlink:href=\"#DejaVuSans-101\"/>\n      <use x=\"480.46875\" xlink:href=\"#DejaVuSans-114\"/>\n     </g>\n    </g>\n   </g>\n  </g>\n </g>\n <defs>\n  <clipPath id=\"pc65e83bb21\">\n   <rect height=\"241.92\" width=\"330.48\" x=\"56.096563\" y=\"14.2\"/>\n  </clipPath>\n </defs>\n</svg>\n",
      "image/png": "[encoded data removed]"
     },
     "metadata": {
      "needs_background": "light"
     }
    }
   ],
   "source": [
    "# plot the results\n",
    "\n",
    "from utilities.basic.binning import BinClass\n",
    "\n",
    "fe_limits = [-4.5, 1.1]\n",
    "Bin = BinClass(fe_limits, width=0.1)\n",
    "\n",
    "# plot the native abundances, computed directly in the simulation\n",
    "fe_sim = part[species_name].prop('metallicity.fe')\n",
    "alpha_sim = part[species_name].prop('metallicity.o - metallicity.fe')\n",
    "fe_agetracer = part[species_name].prop('metallicity.agetracer.fe').clip(-5, 10)\n",
    "alpha_agetracer = part[species_name].prop('metallicity.agetracer.o').clip(-5, 10) - fe_agetracer\n",
    "\n",
    "masks = (fe_sim > -4.5) * (fe_agetracer > -4.5)\n",
    "\n",
    "stats_sim = Bin.get_statistics_of_array(fe_sim[masks], alpha_sim[masks])\n",
    "stats_agetracer = Bin.get_statistics_of_array(fe_agetracer[masks], alpha_agetracer[masks])\n",
    "\n",
    "fig, ax = plt.subplots()\n",
    "fig.set_size_inches(6, 4)\n",
    "\n",
    "ax.plot(stats_sim['bin.mid'], stats_sim['median'], lw=3, color='black', label='simulation')\n",
    "ax.fill_between(\n",
    "    stats_sim['bin.mid'], stats_sim['percent.16'], stats_sim['percent.84'], alpha=0.2, lw=3, color='black')\n",
    "\n",
    "# plot the post-processed abundances, from the age-tracer weights\n",
    "\n",
    "\n",
    "ax.plot(stats_agetracer['bin.mid'], stats_agetracer['median'], lw=3, color='C0', label='age-tracer')\n",
    "ax.fill_between(\n",
    "    stats_agetracer['bin.mid'], stats_agetracer['percent.16'], stats_agetracer['percent.84'], alpha=0.2, lw=3, color='C0')\n",
    "#print(stats['median'])\n",
    "\n",
    "ax.legend(loc='best')\n",
    "ax.set_ylim(-1, 0.7)\n",
    "ax.set_xlim(fe_limits[0], fe_limits[1])\n",
    "ax.set_ylabel('[O/Fe]')\n",
    "ax.set_xlabel('[Fe/H]')\n",
    "\n",
    "difs = alpha_agetracer[masks] - alpha_sim[masks]\n",
    "\n",
    "ut.statistic.print_statistics(difs)"
   ]
  },
  {
   "source": [
    "## NuGrid"
   ],
   "cell_type": "markdown",
   "metadata": {}
  },
  {
   "source": [
    "As another example, lets generate the NuGrid tables and re-do the above with those. This\n",
    "requires having NuPYCee and Sygma installed (https://nugrid.github.io/NuPyCEE/index.html)"
   ],
   "cell_type": "markdown",
   "metadata": {}
  },
  {
   "cell_type": "code",
   "execution_count": null,
   "metadata": {},
   "outputs": [],
   "source": [
    "# the NuGrid_yields class accepts kwargs to pass to the underlying\n",
    "# sygma model, so this allows for the use of the full Symga / NuGrid framework.\n",
    "#    this simple example just passes metallicity\n",
    "NuGrid_yield_model = gizmo.agetracers.NuGrid_yields(iniZ = 0.01 # metal mass fraction (must equal a NuGrid table value)\n",
    "                                                    )\n",
    "\n",
    "\n",
    "NuGrid_yield_table = gizmo.agetracers.construct_yield_table(NuGrid_yield_model,\n",
    "                                                            part.ageprop.age_bins/1000.0)\n",
    "\n",
    "# again, elements to generate for yield table are arbitary as long as \n",
    "# they are included in the yield model. Below uses all available elements:\n",
    "part.set_yield_table(NuGrid_yield_table, [str.lower(x) for x in NuGrid_yield_model.elements])"
   ]
  },
  {
   "cell_type": "code",
   "execution_count": null,
   "metadata": {},
   "outputs": [],
   "source": [
    "# Lets try this out with the NuGrid data now!\n",
    "\n",
    "from utilities.basic.binning import BinClass\n",
    "\n",
    "fig,ax=plt.subplots()\n",
    "fig.set_size_inches(6,4)\n",
    "\n",
    "bc    = BinClass([-4,2],number= int((2-(-4))/0.1))\n",
    "\n",
    "# plot the native simulation data:\n",
    "stats = bc.get_statistics_of_array(  part['star'].prop('metallicity.fe'),\n",
    "                                     part['star'].prop('metallicity.alpha - metallicity.fe'))\n",
    "    \n",
    "    \n",
    "ax.plot(stats['bin.mid'][:-1], stats['median'][:-1], lw=3, color = 'black', label = 'Simulation')\n",
    "ax.fill_between(stats['bin.mid'], stats['percent.16'], stats['percent.84'], alpha=0.2,\n",
    "                lw = 3, color='black')\n",
    "\n",
    "\n",
    "# plot the post-processed data.\n",
    "# this can be done with just the \".agetracer\" string, which works\n",
    "# for all things that the elements work on already (metallicity, mass, massfraction, etc.)\n",
    "bc    = BinClass([-4,2],number= int((2-(-4))/0.1))\n",
    "stats = bc.get_statistics_of_array(part['star'].prop('metallicity.agetracer.fe'),\n",
    "                                   part['star'].prop('metallicity.agetracer.alpha - metallicity.agetracer.fe'))\n",
    "    \n",
    "    \n",
    "ax.plot(stats['bin.mid'][:-1], stats['median'][:-1], lw=3, color = 'C0', label = 'NuGrid - solar')\n",
    "ax.fill_between(stats['bin.mid'], stats['percent.16'], stats['percent.84'], alpha=0.2,\n",
    "                lw = 3, color='C0')\n",
    "\n",
    "\n",
    "ax.legend(loc='best')\n",
    "ax.set_ylim(-1,1)\n",
    "ax.set_xlim(-4,2)\n",
    "ax.set_ylabel(r'[$\\alpha$/Fe]')\n",
    "ax.set_xlabel('[Fe/H]')"
   ]
  }
 ],
 "metadata": {
  "anaconda-cloud": {},
  "kernelspec": {
   "display_name": "Python 3",
   "language": "python",
   "name": "python3"
  },
  "language_info": {
   "codemirror_mode": {
    "name": "ipython",
    "version": 3
   },
   "file_extension": ".py",
   "mimetype": "text/x-python",
   "name": "python",
   "nbconvert_exporter": "python",
   "pygments_lexer": "ipython3",
   "version": "3.8.5-final"
  }
 },
 "nbformat": 4,
 "nbformat_minor": 1
}