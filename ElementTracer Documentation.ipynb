{
 "cells": [
  {
   "cell_type": "code",
   "execution_count": 3,
   "id": "67cff13f",
   "metadata": {},
   "outputs": [
    {
     "data": {
      "text/html": [
       "<style>.container { width:70% !important; }</style>"
      ],
      "text/plain": [
       "<IPython.core.display.HTML object>"
      ]
     },
     "metadata": {},
     "output_type": "display_data"
    }
   ],
   "source": [
    "from IPython.display import display, HTML\n",
    "display(HTML(\"<style>.container { width:70% !important; }</style>\"))"
   ]
  },
  {
   "cell_type": "markdown",
   "id": "3444fdea",
   "metadata": {},
   "source": [
    "# Element Tracer Documentation\n",
    "Basic documentation of the functions in gizmo_model and gizmo_agetracer\n",
    "\n",
    "## Gizmo_model.py\n",
    "\n",
    "Gizmo_model can be called as a part of the gizmo_analysis library if installed correctly (see elementTracer_tutorial for more info). "
   ]
  },
  {
   "cell_type": "code",
   "execution_count": 34,
   "id": "b926039d",
   "metadata": {},
   "outputs": [
    {
     "name": "stdout",
     "output_type": "stream",
     "text": [
      "<module 'gizmo_analysis.gizmo_model' from 'C:\\\\Users\\\\patel\\\\OneDrive\\\\Desktop\\\\research2\\\\gizmo_analysis\\\\gizmo_model.py'>\n",
      "<module 'gizmo_analysis.gizmo_model' from 'C:\\\\Users\\\\patel\\\\OneDrive\\\\Desktop\\\\research2\\\\gizmo_analysis\\\\gizmo_model.py'>\n"
     ]
    }
   ],
   "source": [
    "from gizmo_analysis import gizmo_model\n",
    "print(gizmo_model)\n",
    "\n",
    "import gizmo_analysis as gizmo \n",
    "print(gizmo.gizmo_model)"
   ]
  },
  {
   "cell_type": "markdown",
   "id": "7ab51888",
   "metadata": {},
   "source": [
    "There are a number of useful functions in gizmo_model, most of which are leveraged by gizmo_agetracer.py to make use of the element-tracer module in FIRE.\n",
    "<hr>\n",
    "The first of these is a general utility function for calling and storing simulation directories within a dictionary:\n",
    "    \n",
    "<b>name:</b>\n",
    "\n",
    "    get_simulation_directory(dirkey = None)\n",
    "    \n",
    "<b>returns:</b>\n",
    "\n",
    "    dict : full of directories to simulations on various machines, can be edited in gizmo_model.py \n",
    "    \n",
    "<b>purpose:</b>\n",
    "\n",
    "    returns a dictionary of directories\n",
    "    \n",
    "<b>parameters:</b>\n",
    "\n",
    "    (str) 'dirkey' : key for dictionary entry of some simulation directory \n",
    "    \n",
    "<b>Example:</b>"
   ]
  },
  {
   "cell_type": "code",
   "execution_count": 35,
   "id": "9e71b058",
   "metadata": {},
   "outputs": [
    {
     "name": "stdout",
     "output_type": "stream",
     "text": [
      "Edit directories in gizmo_model.py for better access to your simulations!\n"
     ]
    },
    {
     "data": {
      "text/plain": [
       "{'m12i_880': '/home/awetzel/scratch/m12i/m12i_r880',\n",
       " 'm12i_7100': '/home/awetzel/scratch/m12i/m12i_r7100',\n",
       " 'test': 'test'}"
      ]
     },
     "execution_count": 35,
     "metadata": {},
     "output_type": "execute_result"
    }
   ],
   "source": [
    "gizmo_model.get_simulation_directory('Peloton')"
   ]
  },
  {
   "cell_type": "markdown",
   "id": "0d28ed5a",
   "metadata": {},
   "source": [
    "<hr>\n",
    "\n",
    "Another function grabs the values for solar abundances from Asplund 2009.\n",
    "\n",
    "<b>name:</b>\n",
    "\n",
    "    get_sun_massfraction()\n",
    "    \n",
    "<b>returns:</b>\n",
    "\n",
    "    dict with elements for keys and corresponding values for massfractions\n",
    "    \n",
    "<b>purpose:</b>\n",
    "\n",
    "    returns a dictionary solar abundance values\n",
    "    \n",
    "<b>parameters:</b>\n",
    "\n",
    "    (str) model : you may have different models for different solar abundances, so I wanted to keep this open\n",
    "    \n",
    "<b>Example:</b>"
   ]
  },
  {
   "cell_type": "code",
   "execution_count": 29,
   "id": "ace81d03",
   "metadata": {},
   "outputs": [
    {
     "data": {
      "text/plain": [
       "{'metals': 0.02,\n",
       " 'helium': 0.28,\n",
       " 'carbon': 0.00326,\n",
       " 'nitrogen': 0.00132,\n",
       " 'oxygen': 0.00865,\n",
       " 'neon': 0.00222,\n",
       " 'magnesium': 0.000931,\n",
       " 'silicon': 0.00108,\n",
       " 'sulfur': 0.000644,\n",
       " 'calcium': 0.000101,\n",
       " 'iron': 0.00173}"
      ]
     },
     "execution_count": 29,
     "metadata": {},
     "output_type": "execute_result"
    }
   ],
   "source": [
    "gizmo_model.get_sun_massfraction(model = 'fire2')"
   ]
  },
  {
   "cell_type": "markdown",
   "id": "80784b48",
   "metadata": {},
   "source": [
    "<hr>\n",
    "\n",
    "Another function grabs the values for solar abundances from Asplund 2009.\n",
    "\n",
    "<b>name:</b>\n",
    "\n",
    "    element_yields()\n",
    "    \n",
    "<b>purpose:</b>\n",
    "\n",
    "    returns a dictionary with yields for different feedback event types (CCSN, SNe Ia, Winds)\n",
    "    \n",
    "<b>parameters:</b>\n",
    "\n",
    "    source [string]: one of 'ccsn', 'mannucci', 'maoz', or 'winds'\n",
    "    \n",
    "    includeZ [float, bool]: progenitor metallicity dependence (set to False by default)\n",
    "    \n",
    "    plot [bool]: will include a plot of the yields for a given feedback event type. Set True to plot, False is default.\n",
    "        \n",
    "<b>Example:</b>"
   ]
  },
  {
   "cell_type": "code",
   "execution_count": 30,
   "id": "ddc5c315",
   "metadata": {},
   "outputs": [
    {
     "data": {
      "text/plain": [
       "{'metals': 0.195926,\n",
       " 'helium': 0.369,\n",
       " 'carbon': 0.0127,\n",
       " 'nitrogen': 0.00456,\n",
       " 'oxygen': 0.111,\n",
       " 'neon': 0.0381,\n",
       " 'magnesium': 0.0094,\n",
       " 'silicon': 0.00889,\n",
       " 'sulfur': 0.00378,\n",
       " 'calcium': 0.000436,\n",
       " 'iron': 0.00706}"
      ]
     },
     "execution_count": 30,
     "metadata": {},
     "output_type": "execute_result"
    }
   ],
   "source": [
    "gizmo_model.element_yields('cc')"
   ]
  },
  {
   "cell_type": "markdown",
   "id": "f0464427",
   "metadata": {},
   "source": [
    "<hr>\n",
    "\n",
    "### Class: EventYieldDictionary\n",
    "What fraction of a CCSN is in carbon? Iron? What about the same value for WDSN? This class allows you to initialize our expectations for these numbers and store them in a dictionary for ease of access. This boils down to 3 or 4 lines of code and a very simple pipeline.\n",
    "\n",
    "<hr>\n",
    "<b>name:</b>\n",
    "\n",
    "    event_yield_dictionaries(self, fire_vers:str = 'fire2.1'):\n",
    "    \n",
    "<b>purpose:</b>\n",
    "\n",
    "    stores all of the feedback massfractions and ejecta masses in a dictionary and returns them\n",
    "    \n",
    "<b>parameters:</b>\n",
    "\n",
    "    self [class]: Make sure you initialize the class before trying to use this function. \n",
    "    \n",
    "    fire_vers [string]: progenitor metallicity dependence (set to False by default)\n",
    "        \n",
    "<b>Example:</b>"
   ]
  },
  {
   "cell_type": "code",
   "execution_count": 31,
   "id": "3c164a56",
   "metadata": {},
   "outputs": [
    {
     "data": {
      "text/plain": [
       "{'metals': 0.0319,\n",
       " 'helium': 0.36,\n",
       " 'carbon': 0.016,\n",
       " 'nitrogen': 0.0041,\n",
       " 'oxygen': 0.0118,\n",
       " 'neon': 0,\n",
       " 'magnesium': 0,\n",
       " 'silicon': 0,\n",
       " 'sulfur': 0,\n",
       " 'calcium': 0,\n",
       " 'iron': 0}"
      ]
     },
     "execution_count": 31,
     "metadata": {},
     "output_type": "execute_result"
    }
   ],
   "source": [
    "eyd = gizmo_model.EventYieldDictionary.initialize_EYD()\n",
    "eyd[0]"
   ]
  },
  {
   "cell_type": "markdown",
   "id": "b6c3f1ba",
   "metadata": {},
   "source": [
    "<hr>\n",
    "\n",
    "### Class: feedback\n",
    "\n",
    "This is where the heavy lifting begins\n",
    "\n",
    "<b>name:</b>\n",
    "\n",
    "    __init__ \n",
    "    \n",
    "<b>purpose:</b>\n",
    "\n",
    "    initializes the class\n",
    "    \n",
    "<b>parameters:</b>\n",
    "\n",
    "    self , [class]\n",
    "    time_span = None, [list, float, int] \n",
    "    source = 'any', [string]\n",
    "    elem_name = False, # name of element we are interested in, [string]\n",
    "    t_w = [1.0, 3.5, 100], # Discontinuities in the wind rate function [list of floats]\n",
    "    t_cc = [3.4, 10.37, 37.53],  # Discontinuities in the CCSN rate function [list of floats]\n",
    "    t_ia = [37.53],  # Discontinuity(ies) in the WDSN rate function [list of floats]\n",
    "    t_dd = -1.1, # WDSN/SNeIa time delay exponent [float]\n",
    "    n_ia = 2.6e-7, # WDSN/SNeIa normalization coefficient [float]\n",
    "    n_cc = False, # CCSN normalization coefficient(s) ; plan is to have it read in a list of len(t_cc) [float]\n",
    "    n_w = False, # Wind normalization coefficient(s) ; same plan as above [float]\n",
    "    ia_model = 'maoz', [string]\n",
    "    \n",
    "<b>Example:</b>\n",
    "\n",
    "    Initialization examples below"
   ]
  },
  {
   "cell_type": "code",
   "execution_count": 46,
   "id": "5ec9b6f8",
   "metadata": {},
   "outputs": [],
   "source": [
    "import numpy as np\n",
    "from matplotlib import pyplot as plt\n",
    "\n",
    "elem = None\n",
    "\n",
    "winds = gizmo.gizmo_model.feedback(source = 'wind', elem_name = elem) # initializing a class for Stellar Winds\n",
    "ccsn = gizmo.gizmo_model.feedback(source = 'cc', elem_name = elem) #initializing a class for CCSN\n",
    "wdsn = gizmo.gizmo_model.feedback(source = 'wd', elem_name = elem) #initializing a class for Type Ia/WDSN "
   ]
  },
  {
   "cell_type": "markdown",
   "id": "0d1446e4",
   "metadata": {},
   "source": [
    "<hr>\n",
    "\n",
    "<b>names:</b>\n",
    "\n",
    "    get_rate_wind, get_rate_cc, get_rate_wd\n",
    "    \n",
    "<b>returns:</b>\n",
    "\n",
    "    3 things in tuple:\n",
    "    array of rate value, array of corresponding ages, array of discontinuities\n",
    "\n",
    "<b>purpose:</b>\n",
    "\n",
    "    obtains the fractional mass loss rate for stellar winds, ccsn, and wdsn\n",
    "\n",
    "<b>parameters:</b>\n",
    "\n",
    "        Z: progenitor metallicity. Set to 1 by default, do not change for FIRE-2\n",
    "        massloss: replaced, will be deprecated in future. \n",
    "        metal_mass_fraction: deprecated \n",
    "        plot: set to True to plot the results. \n",
    "    \n",
    "<b>Example:</b>\n",
    "\n",
    "    plot below"
   ]
  },
  {
   "cell_type": "code",
   "execution_count": 47,
   "id": "5450e62e",
   "metadata": {},
   "outputs": [
    {
     "data": {
      "image/png": "[encoded data removed]",
      "text/plain": [
       "<Figure size 1152x576 with 1 Axes>"
      ]
     },
     "metadata": {
      "needs_background": "light"
     },
     "output_type": "display_data"
    }
   ],
   "source": [
    "rate_wind, ages_wind, d_wind = winds.get_rate_wind()\n",
    "rate_ccsn, ages_ccsn, d_ccsn = ccsn.get_rate_cc()\n",
    "rate_wdsn, ages_wdsn, d_wdsn = wdsn.get_rate_wd()\n",
    "\n",
    "fig, (ax1) = plt.subplots(1,1, figsize = (16,8))\n",
    "ax1.loglog()\n",
    "ax1.plot(ages_wind, rate_wind, lw = 4, c = 'seagreen', label = \"Winds\")\n",
    "ax1.plot(ages_ccsn, rate_ccsn, lw = 4, c = 'orange', label = \"CCSN\")\n",
    "ax1.plot(ages_wdsn, rate_wdsn, lw = 4, c = 'r', label = \"WDSN (Ia)\")\n",
    "ax1.legend(fontsize = 20)\n",
    "ax1.set_title(\"Fractional mass loss rates\", size = 20)\n",
    "ax1.set_xlabel(\"Age [Myr]\", size = 25)\n",
    "ax1.set_ylabel(r\"Fractional Mass Loss [M$_\\odot$/M$_{\\langle IMF \\rangle}$] [Myr$^{-1}$]\", size = 20)\n",
    "plt.show()"
   ]
  },
  {
   "cell_type": "code",
   "execution_count": null,
   "id": "7640a0b4",
   "metadata": {},
   "outputs": [],
   "source": []
  }
 ],
 "metadata": {
  "kernelspec": {
   "display_name": "Python 3",
   "language": "python",
   "name": "python3"
  },
  "language_info": {
   "codemirror_mode": {
    "name": "ipython",
    "version": 3
   },
   "file_extension": ".py",
   "mimetype": "text/x-python",
   "name": "python",
   "nbconvert_exporter": "python",
   "pygments_lexer": "ipython3",
   "version": "3.8.8"
  }
 },
 "nbformat": 4,
 "nbformat_minor": 5
}
