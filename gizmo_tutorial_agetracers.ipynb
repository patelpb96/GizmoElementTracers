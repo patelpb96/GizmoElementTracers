{
 "cells": [
  {
   "cell_type": "markdown",
   "metadata": {},
   "source": [
    "This is a tutorial on how to utilize the age-tracer abundance model in the FIRE-3 simulations. \n",
    "\n",
    "For a more general tutorial on analyzing FIRE-3 simulations, please see the gizmo_tutorial.ipynb notebook.\n",
    "\n",
    "First, move within a simulation directory, or set simulation_directory below to point to one. This directory should contain:\n",
    "\n",
    "     (1) a sub-directory 'output/' that contains snapshot files\n",
    "\n",
    "     (2) a text file 'snapshot_times.txt' that lists the scale-factors, redshifts, times, and indices of all snapshots stored from the simulation\n",
    "\n",
    "     (3) optionally (but ideally) an 'initial_condition/' directory that contains a MUSIC configuration file named '*.conf' that stores all 6 cosmological parameters. if the simulation directory does not assume, this, gizmo_analysis will assume the same cosmological parameters as in the AGORA simulation.\n",
    "\n",
    "In order to process the age-tracers in particular (but not needed for general analysis):\n",
    "\n",
    "     (4) GIZMO_config.h and gizmo.out files (or just gizmo.out) must either be in the work directory or a 'gizmo/' sub-directory to check certain compile-time options and run-time parameters\n",
    "\n",
    "     (5) If custom-defined age tracer bin spacings were used, then 'age-bins.txt' must be in the work directory.\n",
    "\n",
    "\n",
    "\n",
    "Ensure that the gizmo_analysis and utilities package directories are in your python path, then..."
   ]
  },
  {
   "cell_type": "code",
   "execution_count": 13,
   "metadata": {},
   "outputs": [],
   "source": [
    "%matplotlib inline\n",
    "import gizmo_analysis as gizmo\n",
    "import utilities as ut\n",
    "\n",
    "import numpy as np\n",
    "\n",
    "import matplotlib.pyplot as plt"
   ]
  },
  {
   "cell_type": "code",
   "execution_count": 4,
   "metadata": {},
   "outputs": [],
   "source": [
    "# use this is you are running from within a simulation directory\n",
    "#simulation_directory = '.'\n",
    "\n",
    "simulation_directory = '/home/aemerick/work/gizmo_runs/m12q_res5700_test/'"
   ]
  },
  {
   "cell_type": "code",
   "execution_count": 6,
   "metadata": {},
   "outputs": [
    {
     "name": "stdout",
     "output_type": "stream",
     "text": [
      "\n",
      "# in utilities.simulation.Snapshot():\n",
      "* reading:  home/aemerick/work/gizmo_runs/m12q_res5700_test/snapshot_times.txt\n",
      "\n",
      "  using snapshot index = 0, redshift = 99.000\n",
      "\n",
      "\n",
      "# in gizmo_analysis.gizmo_io.Read():\n",
      "* reading header from:  home/aemerick/work/gizmo_runs/m12q_res5700_test/output/snapshot_000.hdf5\n",
      "  snapshot contains the following number of particles:\n",
      "    dark      (id = 1): 16220880 particles\n",
      "    dark2     (id = 2): 4132251 particles\n",
      "    gas       (id = 0): 16220880 particles\n",
      "    star      (id = 4): 0 particles\n",
      "    blackhole (id = 5): 0 particles\n",
      "\n",
      "* reading species: ['gas']\n",
      "* reading gas properties: ['acceleration', 'density', 'electron.fraction', 'hydrogen.neutral.fraction', 'id', 'id.child', 'id.generation', 'mass', 'massfraction', 'position', 'potential', 'sfr', 'smooth.length', 'temperature', 'velocity']\n",
      "* reading particles from:\n",
      "    home/aemerick/work/gizmo_runs/m12q_res5700_test/output/snapshot_000.hdf5\n",
      "\n",
      "! cannot find MUSIC config file:  home/aemerick/work/gizmo_runs/m12q_res5700_test/*/*.conf\n",
      "! missing cosmological parameters, assuming the following (from AGORA box):\n",
      "  assuming omega_baryon = 0.0455\n",
      "  assuming sigma_8 = 0.807\n",
      "  assuming n_s = 0.961\n",
      "\n",
      "* checking sanity of particle properties\n",
      "\n",
      "! catalog not contain star or dark particles, cannot assign host coordinates\n"
     ]
    }
   ],
   "source": [
    "#\n",
    "# While this step is not explicitly necessary, in order for the age tracers to have the \n",
    "# correct abundances, we need to know the initial abundances of all species tracked in \n",
    "# the simulations. Load the first snapshot and determine the initial abundances.\n",
    "#\n",
    "\n",
    "FIRE_elements      = ['h','he','c','n','o','ne','mg','si','s','ca','fe']\n",
    "\n",
    "initial_part       = gizmo.io.Read.read_snapshots(['gas'],'index', 0, simulation_directory=simulation_directory)\n",
    "initial_abundances = {}\n",
    "\n",
    "# -- note: np.average isn't necessary since they all should have the same value...\n",
    "for e in FIRE_elements:\n",
    "    initial_abundances[e]    = np.average(initial_part['gas'].prop('massfraction.' + e))\n",
    "initial_abundances['metals'] = np.average(initial_part['gas'].prop('massfraction.metals'))"
   ]
  },
  {
   "cell_type": "code",
   "execution_count": 10,
   "metadata": {},
   "outputs": [
    {
     "name": "stdout",
     "output_type": "stream",
     "text": [
      "\n",
      "# in utilities.simulation.Snapshot():\n",
      "* reading:  home/aemerick/work/gizmo_runs/m12q_res5700_test/snapshot_times.txt\n",
      "\n",
      "  using snapshot index = 425, redshift = 0.359\n",
      "\n",
      "\n",
      "# in gizmo_analysis.gizmo_io.Read():\n",
      "* reading header from:  home/aemerick/work/gizmo_runs/m12q_res5700_test/output/snapshot_425.hdf5\n",
      "  snapshot contains the following number of particles:\n",
      "    dark      (id = 1): 16220880 particles\n",
      "    dark2     (id = 2): 4132251 particles\n",
      "    gas       (id = 0): 13728183 particles\n",
      "    star      (id = 4): 2495309 particles\n",
      "    blackhole (id = 5): 0 particles\n",
      "\n",
      "* reading species: ['star']\n",
      "* reading particles from:\n",
      "    home/aemerick/work/gizmo_runs/m12q_res5700_test/output/snapshot_425.hdf5\n",
      "\n",
      "! cannot find MUSIC config file:  home/aemerick/work/gizmo_runs/m12q_res5700_test/*/*.conf\n",
      "! missing cosmological parameters, assuming the following (from AGORA box):\n",
      "  assuming omega_baryon = 0.0455\n",
      "  assuming sigma_8 = 0.807\n",
      "  assuming n_s = 0.961\n",
      "\n",
      "* checking sanity of particle properties\n",
      "! warning: star mass [min, med, max] = [29354.605, 45752.645, 1.070e6]\n",
      "! warning: star massfraction [min, max] = [0.000, 7.336e11]\n",
      "\n",
      "* reading host[s] position, velocity, rotation from:  home/aemerick/work/gizmo_runs/m12q_res5700_test/track/star_form_coordinates_425.hdf5\n",
      "  could not read file containing host coordinates\n",
      "  instead will assign host coordinates via iterative zoom on particle mass\n",
      "\n",
      "# in utilities.particle.get_center_positions():\n",
      "* assigning center position for 1 host[s], via iterative zoom-in on star particle mass\n",
      "  host1 position = (40351.727, 46972.056, 44141.846) [kpc comoving]\n",
      "\n",
      "# in utilities.particle.get_center_velocities():\n",
      "* assigning center velocity for 1 host[s], weighting by star particles by mass\n",
      "  host1 velocity = (-114.8, 161.8, 92.3) [km / s]\n",
      "\n"
     ]
    }
   ],
   "source": [
    "#\n",
    "# With this loaded and set, we can now set up to do the post-processing\n",
    "#    post-processing can be done for an arbitrary yield set. Each\n",
    "#    instance of the ParticleDictionaryClass is assigned a yield\n",
    "#    table to use to do the post-processing. \n",
    "\n",
    "# First, load a dataset\n",
    "part = gizmo.io.Read.read_snapshots(['star'], 'index', 425,\n",
    "                                    simulation_directory = simulation_directory)\n",
    "\n",
    "# one can see the age bins used (in Myr) with:\n",
    "#\n",
    "#part.ageprop.age_bins"
   ]
  },
  {
   "cell_type": "code",
   "execution_count": 22,
   "metadata": {},
   "outputs": [],
   "source": [
    "# Now, we have to generate and assign the yield table to do the post-processing\n",
    "# for a total number of age-tracers (N_tracers) and elements that we want to post-process\n",
    "# (N_elements) this is a 2D (N_tracers x N_elements) table tht contains the \"weights\"\n",
    "# for each element in each tracer bin. These weights are the mass (in Msun) of each element\n",
    "# produced in each age-tracer time bin per solar mass of star formation.\n",
    "#\n",
    "# This table can be entirely user generated, but the `construct_yield_table' routine\n",
    "# in gizmo_agetracers.py can help (a lot) with this. See the documentation in gizmo_agetracers.py\n",
    "#\n",
    "# gizmo_agetracers.py has two models defined by default to use. One is the FIRE2 yield\n",
    "# model and the other is the NuGrid yields (which requires installing the NuPYCee and the Sygma modules)\n",
    "\n",
    "# For now, lets use the FIRE2 yield model. Below constructs an object which has (among other things)\n",
    "# a function `yields` which returns the production rate of an element at a given time. \n",
    "FIRE_yield_model = gizmo.agetracers.FIRE2_yields(model_Z = 0.001 # yield table metallicity in solar units,\n",
    "                                            )\n",
    "FIRE_yield_table = gizmo.agetracers.construct_yield_table(FIRE_yield_model, # object with a `yields` function\n",
    "                                                          part.ageprop.age_bins/1000.0) # in Gyr\n",
    "\n",
    "part.set_yield_table(FIRE_yield_table,          # the 2D table\n",
    "                     FIRE_yield_model.elements  # list of elements we want to be able to post process\n",
    "                                                # these can be anything included in the yield model\n",
    "                    )\n",
    "\n",
    "# finally, set the initial abundances:\n",
    "#      As generated above, this is a dictionary corresponding to the initial\n",
    "#      mass fractions of each element (and all metals). If an element is missing,\n",
    "#      it is assumed to have an initial mass fraction of 0\n",
    "part.set_initial_abundances(initial_abundances)"
   ]
  },
  {
   "cell_type": "code",
   "execution_count": 25,
   "metadata": {},
   "outputs": [
    {
     "data": {
      "text/plain": [
       "Text(0.5, 0, '[Fe/H]')"
      ]
     },
     "execution_count": 25,
     "metadata": {},
     "output_type": "execute_result"
    },
    {
     "data": {
      "image/png": "[encoded data removed]",
      "text/plain": [
       "<Figure size 432x288 with 1 Axes>"
      ]
     },
     "metadata": {
      "needs_background": "light"
     },
     "output_type": "display_data"
    }
   ],
   "source": [
    "#\n",
    "# Lets try this out!\n",
    "#\n",
    "from utilities.basic.binning import BinClass\n",
    "\n",
    "fig,ax=plt.subplots()\n",
    "fig.set_size_inches(6,4)\n",
    "\n",
    "bc    = BinClass([-4,2],number= int((2-(-4))/0.1))\n",
    "\n",
    "# plot the native simulation data:\n",
    "stats = bc.get_statistics_of_array(  part['star'].prop('metallicity.fe'),\n",
    "                                     part['star'].prop('metallicity.alpha - metallicity.fe'))\n",
    "    \n",
    "    \n",
    "ax.plot(stats['bin.mid'][:-1], stats['median'][:-1], lw=3, color = 'black', label = 'Simulation')\n",
    "ax.fill_between(stats['bin.mid'], stats['percent.16'], stats['percent.84'], alpha=0.2,\n",
    "                lw = 3, color='black')\n",
    "\n",
    "\n",
    "# plot the post-processed data.\n",
    "# this can be done with just the \".agetracers\" string, which works\n",
    "# for all things that the elements work on already (metallicity, mass, massfraction, etc.)\n",
    "bc    = BinClass([-4,2],number= int((2-(-4))/0.1))\n",
    "stats2 = bc.get_statistics_of_array(  part['star'].prop('metallicity.agetracers.fe'),\n",
    "                                     part['star'].prop('metallicity.agetracers.alpha - metallicity.agetracers.fe'))\n",
    "    \n",
    "    \n",
    "ax.plot(stats2['bin.mid'][:-1], stats2['median'][:-1], lw=3, color = 'C0', label = 'FIRE2 - solar')\n",
    "ax.fill_between(stats2['bin.mid'], stats2['percent.16'], stats2['percent.84'], alpha=0.2,\n",
    "                lw = 3, color='C0')\n",
    "\n",
    "\n",
    "ax.legend(loc='best')\n",
    "ax.set_ylim(-1,1)\n",
    "ax.set_xlim(-4,2)\n",
    "ax.set_ylabel(r'[$\\alpha$/Fe]')\n",
    "ax.set_xlabel('[Fe/H]')"
   ]
  },
  {
   "cell_type": "code",
   "execution_count": 26,
   "metadata": {},
   "outputs": [
    {
     "ename": "KeyError",
     "evalue": "'mid'",
     "output_type": "error",
     "traceback": [
      "\u001b[0;31m---------------------------------------------------------------------------\u001b[0m",
      "\u001b[0;31mKeyError\u001b[0m                                  Traceback (most recent call last)",
      "\u001b[0;32m<ipython-input-26-c60f8fa075b0>\u001b[0m in \u001b[0;36m<module>\u001b[0;34m\u001b[0m\n\u001b[0;32m----> 1\u001b[0;31m \u001b[0mstats\u001b[0m\u001b[0;34m[\u001b[0m\u001b[0;34m'mid'\u001b[0m\u001b[0;34m]\u001b[0m\u001b[0;34m\u001b[0m\u001b[0;34m\u001b[0m\u001b[0m\n\u001b[0m",
      "\u001b[0;31mKeyError\u001b[0m: 'mid'"
     ]
    }
   ],
   "source": [
    "stats['mid']"
   ]
  },
  {
   "cell_type": "code",
   "execution_count": null,
   "metadata": {},
   "outputs": [],
   "source": [
    "stats2['mid']"
   ]
  }
 ],
 "metadata": {
  "kernelspec": {
   "display_name": "Python 3",
   "language": "python",
   "name": "python3"
  },
  "language_info": {
   "codemirror_mode": {
    "name": "ipython",
    "version": 3
   },
   "file_extension": ".py",
   "mimetype": "text/x-python",
   "name": "python",
   "nbconvert_exporter": "python",
   "pygments_lexer": "ipython3",
   "version": "3.7.3"
  }
 },
 "nbformat": 4,
 "nbformat_minor": 2
}
