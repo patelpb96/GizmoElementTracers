{
 "cells": [
  {
   "cell_type": "markdown",
   "metadata": {},
   "source": [
    "This is a tutorial on how to utilize the age-tracer abundance model in the FIRE-3 simulations. \n",
    "\n",
    "For a more general tutorial on analyzing FIRE-3 simulations, please see the gizmo_tutorial.ipynb notebook.\n",
    "\n",
    "First, move within a simulation directory, or set simulation_directory below to point to one. This directory should contain:\n",
    "\n",
    "     (1) a sub-directory 'output/' that contains snapshot files\n",
    "\n",
    "     (2) a text file 'snapshot_times.txt' that lists the scale-factors, redshifts, times, and indices of all snapshots stored from the simulation\n",
    "\n",
    "     (3) optionally (but ideally) an 'initial_condition/' directory that contains a MUSIC configuration file named '*.conf' that stores all 6 cosmological parameters. if the simulation directory does not assume, this, gizmo_analysis will assume the same cosmological parameters as in the AGORA simulation.\n",
    "\n",
    "In order to process the age-tracers in particular (but not needed for general analysis):\n",
    "\n",
    "     (4) GIZMO_config.h and gizmo.out files (or just gizmo.out) must either be in the work directory or a 'gizmo/' sub-directory to check certain compile-time options and run-time parameters\n",
    "\n",
    "     (5) If custom-defined age tracer bin spacings were used, then 'age-bins.txt' must be in the work directory.\n",
    "\n",
    "\n",
    "\n",
    "Ensure that the gizmo_analysis and utilities package directories are in your python path, then..."
   ]
  },
  {
   "cell_type": "code",
   "execution_count": 1,
   "metadata": {},
   "outputs": [],
   "source": [
    "%matplotlib inline\n",
    "import gizmo_analysis as gizmo\n",
    "import utilities as ut\n",
    "\n",
    "import numpy as np\n",
    "\n",
    "import matplotlib.pyplot as plt"
   ]
  },
  {
   "cell_type": "code",
   "execution_count": 6,
   "metadata": {},
   "outputs": [],
   "source": [
    "# use this is you are running from within a simulation directory\n",
    "#simulation_directory = '.'\n",
    "\n",
    "simulation_directory = '/home/aemerick/work/gizmo_runs/m10q_res16000_logbins/'"
   ]
  },
  {
   "cell_type": "code",
   "execution_count": 7,
   "metadata": {},
   "outputs": [
    {
     "name": "stdout",
     "output_type": "stream",
     "text": [
      "\n",
      "# in utilities.simulation.Snapshot():\n",
      "* reading:  home/aemerick/work/gizmo_runs/m10q_agetracer_test/snapshot_times.txt\n",
      "\n",
      "  using snapshot index = 0, redshift = 99.000\n",
      "\n",
      "\n",
      "# in gizmo_analysis.gizmo_io.Read():\n",
      "* reading header from:  home/aemerick/work/gizmo_runs/m10q_agetracer_test/output/snapshot_000.hdf5\n",
      "  snapshot contains the following number of particles:\n",
      "    dark      (id = 1): 260408 particles\n",
      "    dark2     (id = 2): 2281573 particles\n",
      "    gas       (id = 0): 260408 particles\n",
      "    star      (id = 4): 0 particles\n",
      "    blackhole (id = 5): 0 particles\n",
      "\n",
      "\n",
      "# in utilities.simulation.Agetracer():\n",
      "* reading age bin information from :  home/aemerick/work/gizmo_runs/m10q_agetracer_test/gizmo.out\n",
      "\n",
      "* reading species: ['gas']\n",
      "\n",
      "# in utilities.simulation.Agetracer():\n",
      "* reading age bin information from :  home/aemerick/work/gizmo_runs/m10q_agetracer_test/gizmo.out\n",
      "\n",
      "* reading particles from:\n",
      "    home/aemerick/work/gizmo_runs/m10q_agetracer_test/output/snapshot_000.hdf5\n",
      "\n",
      "! cannot find MUSIC config file:  home/aemerick/work/gizmo_runs/m10q_agetracer_test/*/*.conf\n",
      "! missing cosmological parameters, assuming the following (from AGORA box):\n",
      "  assuming omega_baryon = 0.0455\n",
      "  assuming sigma_8 = 0.807\n",
      "  assuming n_s = 0.961\n",
      "\n",
      "* checking sanity of particle properties\n",
      "\n",
      "  cannot read file containing hosts coordinates\n",
      "  instead will assign hosts via iterative zoom on particle mass\n",
      "! did not read star or dark particles, so cannot assign any hosts\n",
      "\n"
     ]
    }
   ],
   "source": [
    "#\n",
    "# While this step is not explicitly necessary, in order for the age tracers to have the \n",
    "# correct abundances, we need to know the initial abundances of all species tracked in \n",
    "# the simulations. Load the first snapshot and determine the initial abundances.\n",
    "#\n",
    "\n",
    "FIRE_elements      = ['h','he','c','n','o','ne','mg','si','s','ca','fe']\n",
    "\n",
    "initial_part       = gizmo.io.Read.read_snapshots(['gas'],'index', 0, simulation_directory=simulation_directory)\n",
    "initial_abundances = {}\n",
    "\n",
    "# -- note: np.average isn't necessary since they all should have the same value...\n",
    "for e in FIRE_elements:\n",
    "    initial_abundances[e]    = np.average(initial_part['gas'].prop('massfraction.' + e))\n",
    "initial_abundances['metals'] = np.average(initial_part['gas'].prop('massfraction.metals'))"
   ]
  },
  {
   "cell_type": "code",
   "execution_count": 8,
   "metadata": {},
   "outputs": [
    {
     "name": "stdout",
     "output_type": "stream",
     "text": [
      "\n",
      "# in utilities.simulation.Snapshot():\n",
      "* reading:  home/aemerick/work/gizmo_runs/m10q_agetracer_test/snapshot_times.txt\n",
      "\n",
      "  using snapshot index = 600, redshift = 0.000\n",
      "\n",
      "\n",
      "# in gizmo_analysis.gizmo_io.Read():\n",
      "* reading header from:  home/aemerick/work/gizmo_runs/m10q_agetracer_test/output/snapshot_600.hdf5\n",
      "  snapshot contains the following number of particles:\n",
      "    dark      (id = 1): 260408 particles\n",
      "    dark2     (id = 2): 2281573 particles\n",
      "    gas       (id = 0): 259212 particles\n",
      "    star      (id = 4): 1196 particles\n",
      "    blackhole (id = 5): 0 particles\n",
      "\n",
      "\n",
      "# in utilities.simulation.Agetracer():\n",
      "* reading age bin information from :  home/aemerick/work/gizmo_runs/m10q_agetracer_test/gizmo.out\n",
      "\n",
      "* reading species: ['star']\n",
      "\n",
      "# in utilities.simulation.Agetracer():\n",
      "* reading age bin information from :  home/aemerick/work/gizmo_runs/m10q_agetracer_test/gizmo.out\n",
      "\n",
      "* reading particles from:\n",
      "    home/aemerick/work/gizmo_runs/m10q_agetracer_test/output/snapshot_600.hdf5\n",
      "\n",
      "! cannot find MUSIC config file:  home/aemerick/work/gizmo_runs/m10q_agetracer_test/*/*.conf\n",
      "! missing cosmological parameters, assuming the following (from AGORA box):\n",
      "  assuming omega_baryon = 0.0455\n",
      "  assuming sigma_8 = 0.807\n",
      "  assuming n_s = 0.961\n",
      "\n",
      "* checking sanity of particle properties\n",
      "! warning: star massfraction [min, max] = [0.000, 1.333]\n",
      "\n",
      "  cannot read file containing hosts coordinates\n",
      "  instead will assign hosts via iterative zoom on particle mass\n",
      "\n",
      "# in utilities.particle.get_center_positions():\n",
      "* assigning position for 1 center/host, via iterative zoom-in on star particle mass\n",
      "  host1 position = (3317.172, 2982.622, 3355.282) [kpc comoving]\n",
      "\n",
      "# in utilities.particle.get_center_velocities():\n",
      "* assigning velocity for 1 center/host, weighting star particles by mass\n",
      "  host1 velocity = (-4.5, -16.4, -2.8) [km / s]\n",
      "\n",
      "{}\n"
     ]
    }
   ],
   "source": [
    "#\n",
    "# With this loaded and set, we can now set up to do the post-processing\n",
    "#    post-processing can be done for an arbitrary yield set. Each\n",
    "#    instance of the ParticleDictionaryClass is assigned a yield\n",
    "#    table to use to do the post-processing. \n",
    "\n",
    "# First, load a dataset\n",
    "part = gizmo.io.Read.read_snapshots(['star'], 'index', 600,\n",
    "                                    simulation_directory = simulation_directory)\n",
    "\n",
    "# one can see the age bins used (in Myr) and \n",
    "# other properties of the age tracers in the dictionary:\n",
    "#\n",
    "print(part.ageprop)\n",
    "#"
   ]
  },
  {
   "cell_type": "code",
   "execution_count": 9,
   "metadata": {},
   "outputs": [],
   "source": [
    "# Now, we have to generate and assign the yield table to do the post-processing\n",
    "# for a total number of age-tracers (N_tracers) and elements that we want to post-process\n",
    "# (N_elements) this is a 2D (N_tracers x N_elements) table tht contains the \"weights\"\n",
    "# for each element in each tracer bin. These weights are the mass (in Msun) of each element\n",
    "# produced in each age-tracer time bin per solar mass of star formation.\n",
    "#\n",
    "# This table can be entirely user generated, but the `construct_yield_table' routine\n",
    "# in gizmo_agetracers.py can help (a lot) with this. See the documentation in gizmo_agetracers.py\n",
    "#\n",
    "# gizmo_agetracers.py has two models defined by default to use. One is the FIRE2 yield\n",
    "# model and the other is the NuGrid yields (which requires installing the NuPYCee and the Sygma modules)\n",
    "\n",
    "# For now, lets use the FIRE2 yield model. Below constructs an object which has (among other things)\n",
    "# a function `yields` which returns the production rate of an element at a given time. \n",
    "\n",
    "\n",
    "\n",
    "FIRE_yield_model = gizmo.agetracers.FIRE2_yields(model_Z = 1.0 # yield table metallicity in solar units,\n",
    "                                            )\n",
    "FIRE_yield_table = gizmo.agetracers.construct_yield_table(FIRE_yield_model, # object with a `yields` function\n",
    "                                                          part.ageprop.age_bins/1000.0) # in Gyr\n",
    "\n",
    "part.set_yield_table(FIRE_yield_table,          # the 2D table\n",
    "                     FIRE_yield_model.elements  # list of elements we want to be able to post process\n",
    "                                                # these can be anything included in the yield model\n",
    "                    )\n",
    "\n",
    "# finally, set the initial abundances:\n",
    "#      As generated above, this is a dictionary corresponding to the initial\n",
    "#      mass fractions of each element (and all metals). If an element is missing,\n",
    "#      it is assumed to have an initial mass fraction of 0\n",
    "part.set_initial_abundances(initial_abundances)"
   ]
  },
  {
   "cell_type": "code",
   "execution_count": 10,
   "metadata": {},
   "outputs": [
    {
     "name": "stderr",
     "output_type": "stream",
     "text": [
      "/home/aemerick/anaconda3/lib/python3.7/site-packages/numpy/core/fromnumeric.py:3118: RuntimeWarning: Mean of empty slice.\n",
      "  out=out, **kwargs)\n",
      "/home/aemerick/anaconda3/lib/python3.7/site-packages/numpy/core/_methods.py:85: RuntimeWarning: invalid value encountered in true_divide\n",
      "  ret = ret.dtype.type(ret / rcount)\n",
      "/home/aemerick/anaconda3/lib/python3.7/site-packages/numpy/core/_methods.py:140: RuntimeWarning: Degrees of freedom <= 0 for slice\n",
      "  keepdims=keepdims)\n",
      "/home/aemerick/anaconda3/lib/python3.7/site-packages/numpy/core/_methods.py:132: RuntimeWarning: invalid value encountered in true_divide\n",
      "  ret = ret.dtype.type(ret / rcount)\n",
      "/home/aemerick/anaconda3/lib/python3.7/site-packages/numpy/core/_methods.py:85: RuntimeWarning: invalid value encountered in double_scalars\n",
      "  ret = ret.dtype.type(ret / rcount)\n",
      "/home/aemerick/anaconda3/lib/python3.7/site-packages/numpy/core/_methods.py:132: RuntimeWarning: invalid value encountered in double_scalars\n",
      "  ret = ret.dtype.type(ret / rcount)\n"
     ]
    },
    {
     "data": {
      "text/plain": [
       "Text(0.5, 0, '[Fe/H]')"
      ]
     },
     "execution_count": 10,
     "metadata": {},
     "output_type": "execute_result"
    },
    {
     "data": {
      "image/png": "[encoded data removed]",
      "text/plain": [
       "<Figure size 432x288 with 1 Axes>"
      ]
     },
     "metadata": {
      "needs_background": "light"
     },
     "output_type": "display_data"
    }
   ],
   "source": [
    "#\n",
    "# Lets try this out!\n",
    "#\n",
    "from utilities.basic.binning import BinClass\n",
    "\n",
    "fig,ax=plt.subplots()\n",
    "fig.set_size_inches(6,4)\n",
    "\n",
    "bc    = BinClass([-4,2],number= int((2-(-4))/0.1))\n",
    "\n",
    "# plot the native simulation data:\n",
    "stats = bc.get_statistics_of_array(  part['star'].prop('metallicity.fe'),\n",
    "                                     part['star'].prop('metallicity.alpha - metallicity.fe'))\n",
    "    \n",
    "    \n",
    "ax.plot(stats['bin.mid'][:-1], stats['median'][:-1], lw=3, color = 'black', label = 'Simulation')\n",
    "ax.fill_between(stats['bin.mid'], stats['percent.16'], stats['percent.84'], alpha=0.2,\n",
    "                lw = 3, color='black')\n",
    "\n",
    "\n",
    "# plot the post-processed data.\n",
    "# this can be done with just the \".agetracer\" string, which works\n",
    "# for all things that the elements work on already (metallicity, mass, massfraction, etc.)\n",
    "bc    = BinClass([-4,2],number= int((2-(-4))/0.1))\n",
    "stats = bc.get_statistics_of_array(part['star'].prop('metallicity.agetracer.fe'),\n",
    "                                   part['star'].prop('metallicity.agetracer.alpha - metallicity.agetracer.fe'))\n",
    "    \n",
    "    \n",
    "ax.plot(stats['bin.mid'][:-1], stats['median'][:-1], lw=3, color = 'C0', label = 'FIRE2 - solar')\n",
    "ax.fill_between(stats['bin.mid'], stats['percent.16'], stats['percent.84'], alpha=0.2,\n",
    "                lw = 3, color='C0')\n",
    "\n",
    "\n",
    "ax.legend(loc='best')\n",
    "ax.set_ylim(-1,1)\n",
    "ax.set_xlim(-4,2)\n",
    "ax.set_ylabel(r'[$\\alpha$/Fe]')\n",
    "ax.set_xlabel('[Fe/H]')"
   ]
  },
  {
   "cell_type": "markdown",
   "metadata": {},
   "source": [
    "## NuGrid"
   ]
  },
  {
   "cell_type": "markdown",
   "metadata": {},
   "source": [
    "As another example, lets generate the NuGrid tables and re-do the above with those. This\n",
    "requires having NuPYCee and Sygma installed (https://nugrid.github.io/NuPyCEE/index.html)"
   ]
  },
  {
   "cell_type": "code",
   "execution_count": null,
   "metadata": {},
   "outputs": [],
   "source": []
  },
  {
   "cell_type": "code",
   "execution_count": 11,
   "metadata": {},
   "outputs": [
    {
     "name": "stdout",
     "output_type": "stream",
     "text": [
      "SYGMA run in progress..\n",
      "   SYGMA run completed - Run time: 7.34s\n"
     ]
    },
    {
     "name": "stderr",
     "output_type": "stream",
     "text": [
      "/home/aemerick/code/gizmo_analysis/gizmo_agetracers.py:119: IntegrationWarning: The maximum number of subdivisions (50) has been achieved.\n",
      "  If increasing the limit yields no improvement it is advised to analyze \n",
      "  the integrand in order to determine the difficulties.  If the position of a \n",
      "  local difficulty can be determined (singularity, discontinuity) one will \n",
      "  probably gain from splitting up the interval and calling the integrator \n",
      "  on the subranges.  Perhaps a special-purpose integrator should be used.\n",
      "  args = (e,), points = points)[0]\n",
      "/home/aemerick/code/gizmo_analysis/gizmo_agetracers.py:119: IntegrationWarning: The occurrence of roundoff error is detected, which prevents \n",
      "  the requested tolerance from being achieved.  The error may be \n",
      "  underestimated.\n",
      "  args = (e,), points = points)[0]\n"
     ]
    }
   ],
   "source": [
    "\n",
    "# the NuGrid_yields class accepts kwargs to pass to the underlying\n",
    "# sygma model, so this allows for the use of the full Symga / NuGrid framework.\n",
    "#    this simple example just passes metallicity\n",
    "NuGrid_yield_model = gizmo.agetracers.NuGrid_yields(iniZ = 0.01 # metal mass fraction (must equal a NuGrid table value)\n",
    "                                                    )\n",
    "\n",
    "\n",
    "NuGrid_yield_table = gizmo.agetracers.construct_yield_table(NuGrid_yield_model,\n",
    "                                                            part.ageprop.age_bins/1000.0)\n",
    "\n",
    "# again, elements to generate for yield table are arbitary as long as \n",
    "# they are included in the yield model. Below uses all available elements:\n",
    "part.set_yield_table(NuGrid_yield_table, [str.lower(x) for x in NuGrid_yield_model.elements])\n"
   ]
  },
  {
   "cell_type": "code",
   "execution_count": 12,
   "metadata": {},
   "outputs": [
    {
     "data": {
      "text/plain": [
       "Text(0.5, 0, '[Fe/H]')"
      ]
     },
     "execution_count": 12,
     "metadata": {},
     "output_type": "execute_result"
    },
    {
     "data": {
      "image/png": "[encoded data removed]",
      "text/plain": [
       "<Figure size 432x288 with 1 Axes>"
      ]
     },
     "metadata": {
      "needs_background": "light"
     },
     "output_type": "display_data"
    }
   ],
   "source": [
    "#\n",
    "# Lets try this out with the NuGrid data now!\n",
    "#\n",
    "from utilities.basic.binning import BinClass\n",
    "\n",
    "fig,ax=plt.subplots()\n",
    "fig.set_size_inches(6,4)\n",
    "\n",
    "bc    = BinClass([-4,2],number= int((2-(-4))/0.1))\n",
    "\n",
    "# plot the native simulation data:\n",
    "stats = bc.get_statistics_of_array(  part['star'].prop('metallicity.fe'),\n",
    "                                     part['star'].prop('metallicity.alpha - metallicity.fe'))\n",
    "    \n",
    "    \n",
    "ax.plot(stats['bin.mid'][:-1], stats['median'][:-1], lw=3, color = 'black', label = 'Simulation')\n",
    "ax.fill_between(stats['bin.mid'], stats['percent.16'], stats['percent.84'], alpha=0.2,\n",
    "                lw = 3, color='black')\n",
    "\n",
    "\n",
    "# plot the post-processed data.\n",
    "# this can be done with just the \".agetracer\" string, which works\n",
    "# for all things that the elements work on already (metallicity, mass, massfraction, etc.)\n",
    "bc    = BinClass([-4,2],number= int((2-(-4))/0.1))\n",
    "stats = bc.get_statistics_of_array(part['star'].prop('metallicity.agetracer.fe'),\n",
    "                                   part['star'].prop('metallicity.agetracer.alpha - metallicity.agetracer.fe'))\n",
    "    \n",
    "    \n",
    "ax.plot(stats['bin.mid'][:-1], stats['median'][:-1], lw=3, color = 'C0', label = 'NuGrid - solar')\n",
    "ax.fill_between(stats['bin.mid'], stats['percent.16'], stats['percent.84'], alpha=0.2,\n",
    "                lw = 3, color='C0')\n",
    "\n",
    "\n",
    "ax.legend(loc='best')\n",
    "ax.set_ylim(-1,1)\n",
    "ax.set_xlim(-4,2)\n",
    "ax.set_ylabel(r'[$\\alpha$/Fe]')\n",
    "ax.set_xlabel('[Fe/H]')"
   ]
  },
  {
   "cell_type": "code",
   "execution_count": null,
   "metadata": {},
   "outputs": [],
   "source": []
  },
  {
   "cell_type": "code",
   "execution_count": null,
   "metadata": {},
   "outputs": [],
   "source": []
  },
  {
   "cell_type": "code",
   "execution_count": null,
   "metadata": {},
   "outputs": [],
   "source": []
  },
  {
   "cell_type": "code",
   "execution_count": null,
   "metadata": {},
   "outputs": [],
   "source": []
  }
 ],
 "metadata": {
  "kernelspec": {
   "display_name": "Python 3",
   "language": "python",
   "name": "python3"
  },
  "language_info": {
   "codemirror_mode": {
    "name": "ipython",
    "version": 3
   },
   "file_extension": ".py",
   "mimetype": "text/x-python",
   "name": "python",
   "nbconvert_exporter": "python",
   "pygments_lexer": "ipython3",
   "version": "3.7.3"
  }
 },
 "nbformat": 4,
 "nbformat_minor": 2
}
