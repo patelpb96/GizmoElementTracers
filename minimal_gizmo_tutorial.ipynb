{
 "cells": [
  {
   "cell_type": "markdown",
   "id": "05fd48fa-379f-4caf-b492-29c4cdf2d88a",
   "metadata": {},
   "source": [
    "# About\n",
    "This notebook is a minimal example for getting started with FIRE data.\n",
    "For a more in-depth example, please see the [gizmo_tutorial](https://bitbucket.org/awetzel/gizmo_analysis/src/master/gizmo_tutorial.ipynb) notebook."
   ]
  },
  {
   "cell_type": "markdown",
   "id": "c42c2edc-00a5-4a21-9a58-858570eeb52b",
   "metadata": {},
   "source": [
    "# Load data"
   ]
  },
  {
   "cell_type": "code",
   "execution_count": null,
   "id": "9cd23c2d-44b6-4658-b1cf-84fd29d3264e",
   "metadata": {},
   "outputs": [],
   "source": [
    "# Import the main analysis module\n",
    "import gizmo_analysis as gizmo"
   ]
  },
  {
   "cell_type": "code",
   "execution_count": null,
   "id": "2d4af0a1-1d07-47b8-babc-5be7eeadf68e",
   "metadata": {},
   "outputs": [],
   "source": [
    "# Choose the simulation directory\n",
    "simulation_directory = '../m12i_res7100'"
   ]
  },
  {
   "cell_type": "code",
   "execution_count": null,
   "id": "91d622d8-61a4-4cd6-8b6d-a8c6aa86aac8",
   "metadata": {},
   "outputs": [],
   "source": [
    "# read star and gas particles at z = 0\n",
    "part = gizmo.io.Read.read_snapshots(['star', 'gas' ], 'redshift', 0, simulation_directory)"
   ]
  },
  {
   "cell_type": "code",
   "execution_count": null,
   "id": "96e31dda-ab4f-45f8-bd92-6c580fda54ba",
   "metadata": {},
   "outputs": [],
   "source": [
    "# Demonstrate we've loaded data\n",
    "print( part.keys() )\n",
    "print( part['star'].keys() )\n",
    "print( part['gas']['temperature'] )"
   ]
  },
  {
   "cell_type": "markdown",
   "id": "7431fc8e-30ee-4213-99b6-f3e86124242e",
   "metadata": {},
   "source": [
    "# A simple phase diagram\n",
    "Temperature vs density of all gas particles."
   ]
  },
  {
   "cell_type": "code",
   "execution_count": null,
   "id": "45fd3d77-3cc5-4fbb-b8d9-09e6e2496bff",
   "metadata": {},
   "outputs": [],
   "source": [
    "import numpy as np"
   ]
  },
  {
   "cell_type": "code",
   "execution_count": null,
   "id": "75d5692a-c2aa-4124-bc9b-d9901dbc69dc",
   "metadata": {},
   "outputs": [],
   "source": [
    "%matplotlib inline\n",
    "import matplotlib\n",
    "import matplotlib.pyplot as plt"
   ]
  },
  {
   "cell_type": "code",
   "execution_count": null,
   "id": "fff3347c-e9a1-4c4f-973c-6b42db0d3f6c",
   "metadata": {},
   "outputs": [],
   "source": [
    "fig = plt.figure()\n",
    "ax = plt.gca()\n",
    "\n",
    "density_bins = np.logspace( -4, 12, 256 )\n",
    "temperature_bins = np.logspace( 1, 7, 256 )\n",
    "\n",
    "ax.hist2d(\n",
    "    part['gas']['density'],\n",
    "    part['gas']['temperature'],\n",
    "    bins = [ density_bins, temperature_bins ],\n",
    "    norm = matplotlib.colors.LogNorm(),\n",
    ")\n",
    "\n",
    "ax.set_xscale( 'log' )\n",
    "ax.set_yscale( 'log' )\n",
    "\n",
    "ax.set_xlabel( r'density [$M_\\odot$ / kpc$^3$]' )\n",
    "ax.set_ylabel( r'temperature [K]' )"
   ]
  },
  {
   "cell_type": "markdown",
   "id": "a144635b-a463-4e7b-b467-bd4cb17b563a",
   "metadata": {},
   "source": [
    "# A simple image of the galaxy"
   ]
  },
  {
   "cell_type": "markdown",
   "id": "660f6a5c-2ed2-4704-9fa0-6777339efb3d",
   "metadata": {},
   "source": [
    "## Identify particles associated with the main galaxy"
   ]
  },
  {
   "cell_type": "code",
   "execution_count": null,
   "id": "c3b80f48-08fe-42a7-8e46-0ca1a3b7c343",
   "metadata": {},
   "outputs": [],
   "source": [
    "# These are coordinates relative to the central galaxy\n",
    "coordinates = part['gas'].prop( 'host.distance' )"
   ]
  },
  {
   "cell_type": "code",
   "execution_count": null,
   "id": "1e4f756e-e843-460e-9467-ca225a026b62",
   "metadata": {},
   "outputs": [],
   "source": [
    "# This is distance to the center of the central galaxy\n",
    "distance_to_center = part['gas'].prop( 'host.distance.total' )"
   ]
  },
  {
   "cell_type": "code",
   "execution_count": null,
   "id": "f984cffb-7c1b-4a77-a35f-7ad228958bbe",
   "metadata": {},
   "outputs": [],
   "source": [
    "# An approximate definition for being in the galaxy: particles within 10 kpc of the center\n",
    "is_in_galaxy = distance_to_center < 10."
   ]
  },
  {
   "cell_type": "markdown",
   "id": "76966115-a263-4309-b084-73d53efb6792",
   "metadata": {},
   "source": [
    "In this minimal example the main galaxy is identified via an iterative zoom.\n",
    "The in-depth tutorial discusses more-robust alternatives.\n",
    "\n",
    "It is also possible to retrieve data from a halo finder. For details, please see the [halo_analysis tutorial](https://bitbucket.org/awetzel/halo_analysis/src/master/halo_tutorial.ipynb)."
   ]
  },
  {
   "cell_type": "markdown",
   "id": "573d05da-6257-45f4-9de5-98352e043992",
   "metadata": {},
   "source": [
    "## Histogram of coordinates\n",
    "This is a trick to get a rough image of a galaxy or its surroundings."
   ]
  },
  {
   "cell_type": "code",
   "execution_count": null,
   "id": "ef827ef7-5109-442f-936e-055f06fc5ee5",
   "metadata": {},
   "outputs": [],
   "source": [
    "fig = plt.figure()\n",
    "ax = plt.gca()\n",
    "\n",
    "density_bins = np.logspace( -4, 12, 64 )\n",
    "temperature_bins = np.logspace( 1, 8, 64 )\n",
    "\n",
    "ax.hist2d(\n",
    "    coordinates[:,0][is_in_galaxy],\n",
    "    coordinates[:,1][is_in_galaxy],\n",
    "    bins = 256,\n",
    "    norm = matplotlib.colors.LogNorm(),\n",
    ")\n",
    "\n",
    "ax.set_xlabel( r'x [kpc]' )\n",
    "ax.set_ylabel( r'y [kpc]' )\n",
    "\n",
    "ax.set_aspect( 'equal' )"
   ]
  },
  {
   "cell_type": "code",
   "execution_count": null,
   "id": "184e1d02-d412-4457-88a4-f53022ede12f",
   "metadata": {},
   "outputs": [],
   "source": []
  }
 ],
 "metadata": {
  "kernelspec": {
   "display_name": "Python 3 (ipykernel)",
   "language": "python",
   "name": "python3"
  },
  "language_info": {
   "codemirror_mode": {
    "name": "ipython",
    "version": 3
   },
   "file_extension": ".py",
   "mimetype": "text/x-python",
   "name": "python",
   "nbconvert_exporter": "python",
   "pygments_lexer": "ipython3",
   "version": "3.9.7"
  }
 },
 "nbformat": 4,
 "nbformat_minor": 5
}
