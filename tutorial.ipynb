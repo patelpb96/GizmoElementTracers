{
 "cells": [
  {
   "cell_type": "markdown",
   "metadata": {},
   "source": [
    "First, move within a simulation directory, where you should see the directory 'output/' that contains snapshot files, and a file 'snapshot_times.txt' that lists all snapshot scale-factors/redshifts/times in the simulation and their corresponding file index number."
   ]
  },
  {
   "cell_type": "markdown",
   "metadata": {},
   "source": [
    "Ensure that gizmo_analysis and utilities directories are in your python path, then..."
   ]
  },
  {
   "cell_type": "code",
   "execution_count": 3,
   "metadata": {
    "collapsed": true
   },
   "outputs": [],
   "source": [
    "#import gizmo_analysis as gizmo\n",
    "import gizmo  # I happen to save 'gizmo_analysis' directory as 'gizmo'. Do as you prefer.\n",
    "\n",
    "import utilities as ut"
   ]
  },
  {
   "cell_type": "code",
   "execution_count": 18,
   "metadata": {
    "collapsed": false
   },
   "outputs": [
    {
     "data": {
      "text/plain": [
       "<module 'gizmo.gizmo_io' from '/Users/awetzel/work/research/analysis/gizmo/gizmo_io.py'>"
      ]
     },
     "execution_count": 18,
     "metadata": {},
     "output_type": "execute_result"
    }
   ],
   "source": [
    "# you can access the files as named or use the aliases in __init__.py to keep it shorter \n",
    "# for example, these are the same:\n",
    "\n",
    "gizmo.gizmo_io\n",
    "gizmo.io"
   ]
  },
  {
   "cell_type": "markdown",
   "metadata": {},
   "source": [
    "# read particle data"
   ]
  },
  {
   "cell_type": "code",
   "execution_count": 4,
   "metadata": {
    "collapsed": false
   },
   "outputs": [
    {
     "name": "stdout",
     "output_type": "stream",
     "text": [
      "\n",
      "# in utilities.simulation.Snapshot():\n",
      "  read snapshot_times.txt\n",
      "  input redshift = 0.000 -> index = 600\n",
      "  reading snapshot index = 600, redshift = 0.000\n",
      "\n",
      "\n",
      "# in gizmo.gizmo_io.Read():\n",
      "  reading header from: ./output/snapshot_600.hdf5\n",
      "\n",
      "  species = star      (id = 4): 357764 particles\n",
      "  species = dark      (id = 1): 1104128 particles\n",
      "\n",
      "  reading properties from: snapshot_600.hdf5\n",
      "\n",
      "  checking sanity of particle properties\n",
      "\n",
      "  assigning center of galaxy/halo:\n",
      "    position = [41822.586, 44156.339, 46286.470] kpc comoving\n",
      "    velocity = [-52.4, 70.5, 94.7] km / sec\n",
      "\n"
     ]
    }
   ],
   "source": [
    "# read star and dark matter particles at z = 0\n",
    "\n",
    "part = gizmo.io.Read.read_snapshots(['star', 'dark'], 'redshift', 0, element_indices=None)"
   ]
  },
  {
   "cell_type": "code",
   "execution_count": 5,
   "metadata": {
    "collapsed": false
   },
   "outputs": [
    {
     "name": "stdout",
     "output_type": "stream",
     "text": [
      "\n",
      "# in utilities.simulation.Snapshot():\n",
      "  read snapshot_times.txt\n",
      "  input redshift = 0.000 -> index = 600\n",
      "  reading snapshot index = 600, redshift = 0.000\n",
      "\n",
      "\n",
      "# in gizmo.gizmo_io.Read():\n",
      "  reading header from: ./output/snapshot_600.hdf5\n",
      "\n",
      "  species = dark      (id = 1): 1104128 particles\n",
      "  species = dark.2    (id = 2): 2567905 particles\n",
      "  species = dark.3    (id = 3): 0 particles\n",
      "  species = gas       (id = 0): 792680 particles\n",
      "  species = star      (id = 4): 357764 particles\n",
      "  species = blackhole (id = 5): 0 particles\n",
      "\n",
      "  reading properties from: snapshot_600.hdf5\n",
      "\n",
      "  separating low-resolution dark-matter by mass into separate dictionaries\n",
      "    dark.2: 256192 particles\n",
      "    dark.3: 138068 particles\n",
      "    dark.4: 90766 particles\n",
      "    dark.5: 2082879 particles\n",
      "\n",
      "  checking sanity of particle properties\n",
      "\n",
      "  assigning center of galaxy/halo:\n",
      "    position = [41822.586, 44156.339, 46286.470] kpc comoving\n",
      "    velocity = [-52.4, 70.5, 94.7] km / sec\n",
      "\n"
     ]
    }
   ],
   "source": [
    "# alternately, read all particle species at z = 0\n",
    "\n",
    "part = gizmo.io.Read.read_snapshot('all', 'redshift', 0, element_indices=None)"
   ]
  },
  {
   "cell_type": "code",
   "execution_count": 11,
   "metadata": {
    "collapsed": false
   },
   "outputs": [
    {
     "data": {
      "text/plain": [
       "dict_keys(['dark.2', 'dark.4', 'dark', 'gas', 'dark.5', 'star', 'dark.3'])"
      ]
     },
     "execution_count": 11,
     "metadata": {},
     "output_type": "execute_result"
    }
   ],
   "source": [
    "# each particle species is stored as its own dictionary\n",
    "# 'star' = stars, 'gas' = gas, 'dark' = dark matter, 'dark.2' etc = low-resolution dark matter\n",
    "\n",
    "part.keys()"
   ]
  },
  {
   "cell_type": "code",
   "execution_count": 12,
   "metadata": {
    "collapsed": false
   },
   "outputs": [
    {
     "data": {
      "text/plain": [
       "dict_keys(['id.child', 'velocity', 'id.generation', 'id', 'potential', 'massfraction', 'mass', 'position', 'form.time'])"
      ]
     },
     "execution_count": 12,
     "metadata": {},
     "output_type": "execute_result"
    }
   ],
   "source": [
    "# properties of star particles are stored as dictionary\n",
    "\n",
    "part['star'].keys()"
   ]
  },
  {
   "cell_type": "code",
   "execution_count": 13,
   "metadata": {
    "collapsed": false
   },
   "outputs": [
    {
     "data": {
      "text/plain": [
       "dict_keys(['id.child', 'velocity', 'id.generation', 'potential', 'position', 'mass', 'id'])"
      ]
     },
     "execution_count": 13,
     "metadata": {},
     "output_type": "execute_result"
    }
   ],
   "source": [
    "# properties of dark matter particles are stored as dictionary\n",
    "\n",
    "part['dark'].keys()"
   ]
  },
  {
   "cell_type": "markdown",
   "metadata": {},
   "source": [
    "# particle properties"
   ]
  },
  {
   "cell_type": "code",
   "execution_count": 8,
   "metadata": {
    "collapsed": false
   },
   "outputs": [
    {
     "data": {
      "text/plain": [
       "array([[ 43551.68480355,  42035.18793462,  46342.47838262],\n",
       "       [ 43080.49804178,  44939.41824771,  48191.051954  ],\n",
       "       [ 43332.43405237,  46416.67569502,  48126.47277174],\n",
       "       ..., \n",
       "       [ 42395.98360585,  41480.38223644,  46302.39310192],\n",
       "       [ 42385.85608421,  41480.00104147,  46304.8922147 ],\n",
       "       [ 42411.57595695,  41412.46047535,  46347.05724832]])"
      ]
     },
     "execution_count": 8,
     "metadata": {},
     "output_type": "execute_result"
    }
   ],
   "source": [
    "# 3-D positions of star particles (particle.number x dimension.number array) [Mpc comoving]\n",
    "\n",
    "part['star']['position']"
   ]
  },
  {
   "cell_type": "code",
   "execution_count": 9,
   "metadata": {
    "collapsed": false
   },
   "outputs": [
    {
     "data": {
      "text/plain": [
       "array([[ 253.68388367,  -30.85284424,  117.39025116],\n",
       "       [ -19.8672905 ,   58.19081116,  153.30656433],\n",
       "       [   2.75716805,   71.97904968,  188.69706726],\n",
       "       ..., \n",
       "       [ -40.00733948,   87.66159821,   92.17927551],\n",
       "       [ -53.31565475,   26.38659668,   51.13496399],\n",
       "       [ -11.61666679,   95.57376099,   78.18656158]], dtype=float32)"
      ]
     },
     "execution_count": 9,
     "metadata": {},
     "output_type": "execute_result"
    }
   ],
   "source": [
    "# 3-D velocities of star particles (particle_number x dimension_number array) [km/s]\n",
    "\n",
    "part['star']['velocity']"
   ]
  },
  {
   "cell_type": "code",
   "execution_count": 14,
   "metadata": {
    "collapsed": false
   },
   "outputs": [
    {
     "data": {
      "text/plain": [
       "array([ 468910.125  ,  407350.46875,  351167.875  , ...,  338081.8125 ,\n",
       "        319871.21875,  397676.34375], dtype=float32)"
      ]
     },
     "execution_count": 14,
     "metadata": {},
     "output_type": "execute_result"
    }
   ],
   "source": [
    "# masses of star particles [M_sun]\n",
    "\n",
    "part['star']['mass']"
   ]
  },
  {
   "cell_type": "code",
   "execution_count": 15,
   "metadata": {
    "collapsed": false
   },
   "outputs": [
    {
     "data": {
      "text/plain": [
       "array([ 10.22255325,   4.70066404,   6.4948144 , ...,   7.14442062,\n",
       "         1.29551959,   1.31162202], dtype=float32)"
      ]
     },
     "execution_count": 15,
     "metadata": {},
     "output_type": "execute_result"
    }
   ],
   "source": [
    "# formation times of star particles (age of Universe when star formed) [Gyr]\n",
    "\n",
    "part['star']['form.time']"
   ]
  },
  {
   "cell_type": "code",
   "execution_count": 19,
   "metadata": {
    "collapsed": false
   },
   "outputs": [
    {
     "data": {
      "text/plain": [
       "array([  3.57619381,   9.0980835 ,   7.30393267, ...,   6.65432644,\n",
       "        12.50322723,  12.4871254 ], dtype=float32)"
      ]
     },
     "execution_count": 19,
     "metadata": {},
     "output_type": "execute_result"
    }
   ],
   "source": [
    "# use .prop() to compute derived quantities, such as age of star particle \n",
    "# (the lookback time to when it formed)\n",
    "# see gizmo.io.ParticleDictionaryClass for all options for derived quantities\n",
    "\n",
    "part['star'].prop('age')"
   ]
  },
  {
   "cell_type": "markdown",
   "metadata": {},
   "source": [
    "# metallicities"
   ]
  },
  {
   "cell_type": "code",
   "execution_count": 20,
   "metadata": {
    "collapsed": false
   },
   "outputs": [
    {
     "data": {
      "text/plain": [
       "array([[  1.21350819e-02,   2.61297196e-01,   1.56348816e-03, ...,\n",
       "          2.27315497e-04,   2.51053589e-05,   5.70601434e-04],\n",
       "       [  4.82344953e-03,   2.54446447e-01,   6.12705189e-04, ...,\n",
       "          8.93260367e-05,   9.82313850e-06,   2.14466461e-04],\n",
       "       [  2.73694051e-03,   2.52143264e-01,   2.79227243e-04, ...,\n",
       "          5.22874398e-05,   5.74799242e-06,   1.24391998e-04],\n",
       "       ..., \n",
       "       [  4.17082990e-03,   2.54871219e-01,   6.82849146e-04, ...,\n",
       "          7.07610234e-05,   7.68024256e-06,   1.46381513e-04],\n",
       "       [  1.83265089e-04,   2.50636071e-01,   9.98579635e-05, ...,\n",
       "          1.51210088e-06,   1.75036078e-07,   4.92193885e-06],\n",
       "       [  6.23144035e-04,   2.50472426e-01,   5.83570290e-05, ...,\n",
       "          1.12441294e-05,   1.20467064e-06,   1.91582603e-05]], dtype=float32)"
      ]
     },
     "execution_count": 20,
     "metadata": {},
     "output_type": "execute_result"
    }
   ],
   "source": [
    "# 'metallicities' are stored as the mass fraction of each element\n",
    "# they all are contained in a particle_number x element_number array\n",
    "\n",
    "part['star']['massfraction']"
   ]
  },
  {
   "cell_type": "code",
   "execution_count": 21,
   "metadata": {
    "collapsed": false
   },
   "outputs": [
    {
     "name": "stdout",
     "output_type": "stream",
     "text": [
      "[ 0.01213508  0.00482345  0.00273694 ...,  0.00417083  0.00018327\n",
      "  0.00062314]\n",
      "[  5.70601434e-04   2.14466461e-04   1.24391998e-04 ...,   1.46381513e-04\n",
      "   4.92193885e-06   1.91582603e-05]\n"
     ]
    }
   ],
   "source": [
    "# get individual elements by their index\n",
    "\n",
    "# total metals = 0\n",
    "print(part['star']['massfraction'][:, 0])\n",
    "# iron = 10\n",
    "print(part['star']['massfraction'][:, 10])"
   ]
  },
  {
   "cell_type": "code",
   "execution_count": 23,
   "metadata": {
    "collapsed": false
   },
   "outputs": [
    {
     "name": "stdout",
     "output_type": "stream",
     "text": [
      "[ 0.01213508  0.00482345  0.00273694 ...,  0.00417083  0.00018327\n",
      "  0.00062314]\n",
      "[  5.70601434e-04   2.14466461e-04   1.24391998e-04 ...,   1.46381513e-04\n",
      "   4.92193885e-06   1.91582603e-05]\n"
     ]
    }
   ],
   "source": [
    "# alternately use .prop() to compute derived quantities, \n",
    "# including calling elements by their name\n",
    "# see gizmo.io.ParticleDictionaryClass for all options for derived quantities\n",
    "\n",
    "print(part['star'].prop('massfraction.metals'))\n",
    "print(part['star'].prop('massfraction.iron'))"
   ]
  },
  {
   "cell_type": "code",
   "execution_count": 24,
   "metadata": {
    "collapsed": false
   },
   "outputs": [
    {
     "name": "stdout",
     "output_type": "stream",
     "text": [
      "[-0.04306206 -0.44374707 -0.68983942 ..., -0.50688231 -1.864025   -1.33251631]\n",
      "[-0.35532168 -0.78029513 -1.01686203 ..., -0.9461683  -2.41951823\n",
      " -1.8292985 ]\n"
     ]
    }
   ],
   "source": [
    "# also use .prop() to compute metallicity [Z/H]\n",
    "# for example, iron metallicity [Fe/H] := \n",
    "#   log10((mass_iron / mass_hydrogen)_particle / (mass_iron / mass_hydrogen)_sun)\n",
    "\n",
    "print(part['star'].prop('metallicity.total'))\n",
    "print(part['star'].prop('metallicity.iron'))"
   ]
  },
  {
   "cell_type": "code",
   "execution_count": 27,
   "metadata": {
    "collapsed": false
   },
   "outputs": [
    {
     "data": {
      "text/plain": [
       "array([ 0.24053916,  0.26725423,  0.27251691, ...,  0.35366023,\n",
       "        0.06525326,  0.46004391], dtype=float32)"
      ]
     },
     "execution_count": 27,
     "metadata": {},
     "output_type": "execute_result"
    }
   ],
   "source": [
    "# also can use .prop() to compute simple arithmetic combinations\n",
    "# such as [Mg/Fe]\n",
    "part['star'].prop('metallicity.magnesium - metallicity.iron')"
   ]
  },
  {
   "cell_type": "code",
   "execution_count": 25,
   "metadata": {
    "collapsed": false
   },
   "outputs": [
    {
     "data": {
      "text/plain": [
       "{'c': {'abundance': 0.0002691534803926914,\n",
       "  'massfraction': 0.002367134813394483},\n",
       " 'ca': {'abundance': 2.1877616239495517e-06,\n",
       "  'massfraction': 6.420379718268677e-05},\n",
       " 'calcium': {'abundance': 2.1877616239495517e-06,\n",
       "  'massfraction': 6.420379718268677e-05},\n",
       " 'carbon': {'abundance': 0.0002691534803926914,\n",
       "  'massfraction': 0.002367134813394483},\n",
       " 'fe': {'abundance': 3.1622776601683795e-05,\n",
       "  'massfraction': 0.0012931667271008657},\n",
       " 'h': {'massfraction': 0.7381},\n",
       " 'he': {'abundance': 0.08511380382023759, 'massfraction': 0.2485},\n",
       " 'helium': {'abundance': 0.08511380382023759, 'massfraction': 0.2485},\n",
       " 'hydrogen': {'massfraction': 0.7381},\n",
       " 'iron': {'abundance': 3.1622776601683795e-05,\n",
       "  'massfraction': 0.0012931667271008657},\n",
       " 'magnesium': {'abundance': 3.9810717055349695e-05,\n",
       "  'massfraction': 0.0007085170384267315},\n",
       " 'metals': {'massfraction': 0.0134},\n",
       " 'mg': {'abundance': 3.9810717055349695e-05,\n",
       "  'massfraction': 0.0007085170384267315},\n",
       " 'n': {'abundance': 6.760829753919819e-05,\n",
       "  'massfraction': 0.0006934106379733354},\n",
       " 'ne': {'abundance': 8.51138038202376e-05,\n",
       "  'massfraction': 0.0012576777529689648},\n",
       " 'neon': {'abundance': 8.51138038202376e-05,\n",
       "  'massfraction': 0.0012576777529689648},\n",
       " 'nitrogen': {'abundance': 6.760829753919819e-05,\n",
       "  'massfraction': 0.0006934106379733354},\n",
       " 'o': {'abundance': 0.0004897788193684457,\n",
       "  'massfraction': 0.005737971271592906},\n",
       " 'oxygen': {'abundance': 0.0004897788193684457,\n",
       "  'massfraction': 0.005737971271592906},\n",
       " 's': {'abundance': 1.3182567385564074e-05,\n",
       "  'massfraction': 0.00030951800499730997},\n",
       " 'si': {'abundance': 3.235936569296281e-05,\n",
       "  'massfraction': 0.0006654827968172229},\n",
       " 'silicon': {'abundance': 3.235936569296281e-05,\n",
       "  'massfraction': 0.0006654827968172229},\n",
       " 'sulphur': {'abundance': 1.3182567385564074e-05,\n",
       "  'massfraction': 0.00030951800499730997},\n",
       " 'total': {'massfraction': 0.0134}}"
      ]
     },
     "execution_count": 25,
     "metadata": {},
     "output_type": "execute_result"
    }
   ],
   "source": [
    "# refer to ut.basic.constants for assumed solar values (and other constants)\n",
    "\n",
    "ut.basic.constants.sun_composition"
   ]
  },
  {
   "cell_type": "markdown",
   "metadata": {},
   "source": [
    "# additional information stored in sub-dictionaries"
   ]
  },
  {
   "cell_type": "code",
   "execution_count": 28,
   "metadata": {
    "collapsed": false
   },
   "outputs": [
    {
     "data": {
      "text/plain": [
       "{'box.length': 85470.085470085469,\n",
       " 'box.length/h': 60000.0,\n",
       " 'catalog.kind': 'particle',\n",
       " 'file.number.per.snapshot': 1,\n",
       " 'has.baryons': True,\n",
       " 'has.cooling': 1,\n",
       " 'has.double.precision': 0,\n",
       " 'has.feedback': 1,\n",
       " 'has.ic.info': 3,\n",
       " 'has.metals': 11,\n",
       " 'has.star.age': 1,\n",
       " 'has.star.formation': 1,\n",
       " 'hubble': 0.70199999999999996,\n",
       " 'is.cosmological': True,\n",
       " 'omega_lambda': 0.72799999999999998,\n",
       " 'omega_matter': 0.27200000000000002,\n",
       " 'particle.masses': array([ 0.,  0.,  0.,  0.,  0.,  0.]),\n",
       " 'particle.numbers.in.file': array([ 792680, 1104128, 2567905,       0,  357764,       0], dtype=int32),\n",
       " 'particle.numbers.total': array([ 792680, 1104128, 2567905,       0,  357764,       0], dtype=uint32),\n",
       " 'particle.numbers.total.high.word': array([0, 0, 0, 0, 0, 0], dtype=uint32),\n",
       " 'redshift': 0.0,\n",
       " 'scalefactor': 1.0,\n",
       " 'simulation.name': ''}"
      ]
     },
     "execution_count": 28,
     "metadata": {},
     "output_type": "execute_result"
    }
   ],
   "source": [
    "# dictionary of useful information about the simulation\n",
    "\n",
    "part.info"
   ]
  },
  {
   "cell_type": "code",
   "execution_count": 30,
   "metadata": {
    "collapsed": false
   },
   "outputs": [
    {
     "data": {
      "text/plain": [
       "{'index': 600,\n",
       " 'redshift': 0.0,\n",
       " 'scalefactor': 1.0,\n",
       " 'time': 13.798746882658463,\n",
       " 'time.hubble': 13.928664125669004,\n",
       " 'time.lookback': 0.0}"
      ]
     },
     "execution_count": 30,
     "metadata": {},
     "output_type": "execute_result"
    }
   ],
   "source": [
    "# dictionary of information about this snapshot's index, scale-factor, redshift, time, lookback-time\n",
    "\n",
    "part.snapshot"
   ]
  },
  {
   "cell_type": "code",
   "execution_count": 32,
   "metadata": {
    "collapsed": false
   },
   "outputs": [
    {
     "name": "stdout",
     "output_type": "stream",
     "text": [
      "dict_keys(['time.width', 'index', 'scalefactor', 'time', 'redshift'])\n",
      "[ 99.          19.          15.          14.60591125  14.23076916\n",
      "  13.87323952  13.53211021  13.20627785  12.89473724  12.5965662 ]\n"
     ]
    }
   ],
   "source": [
    "# dictionary of arrays about *all* snapshots that were saved for the simulation\n",
    "\n",
    "print(part.Snapshot.keys())\n",
    "print(part.Snapshot['redshift'][:10])"
   ]
  },
  {
   "cell_type": "code",
   "execution_count": 33,
   "metadata": {
    "collapsed": false
   },
   "outputs": [
    {
     "name": "stdout",
     "output_type": "stream",
     "text": [
      "[ 41822.5861926   44156.33871543  46286.46953472]\n",
      "[-52.37923813  70.54845428  94.73348236]\n"
     ]
    }
   ],
   "source": [
    "# position [kpc comoving] and velocity [km/s] of the center of the host galaxy\n",
    "# this was computed during read in, using ut.particle.get_center_position() and ut.particle.get_center_velocity()\n",
    "# functions in gizmo.analysis use these values in computing profiles\n",
    "\n",
    "print(part.center_position)\n",
    "print(part.center_velocity)"
   ]
  },
  {
   "cell_type": "markdown",
   "metadata": {},
   "source": [
    "See gizmo.analysis for examples of high-level analysis, including plotting these data.\n",
    "\n",
    "See ut.particle for mid-level analysis functions that may be useful.\n",
    "\n",
    "See other modules within utilities for low-level functions that may be useful."
   ]
  },
  {
   "cell_type": "code",
   "execution_count": null,
   "metadata": {
    "collapsed": true
   },
   "outputs": [],
   "source": []
  }
 ],
 "metadata": {
  "anaconda-cloud": {},
  "kernelspec": {
   "display_name": "Python [default]",
   "language": "python",
   "name": "python3"
  },
  "language_info": {
   "codemirror_mode": {
    "name": "ipython",
    "version": 3
   },
   "file_extension": ".py",
   "mimetype": "text/x-python",
   "name": "python",
   "nbconvert_exporter": "python",
   "pygments_lexer": "ipython3",
   "version": "3.5.2"
  }
 },
 "nbformat": 4,
 "nbformat_minor": 0
}
