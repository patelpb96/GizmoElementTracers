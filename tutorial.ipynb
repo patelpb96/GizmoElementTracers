{
 "cells": [
  {
   "cell_type": "code",
   "execution_count": 1,
   "metadata": {
    "collapsed": true
   },
   "outputs": [],
   "source": [
    "import gizmo  # if saved gizmo_analysis directory as gizmo\n",
    "#import gizmo_analysis as gizmo  # alternate\n",
    "\n",
    "import utilities as ut"
   ]
  },
  {
   "cell_type": "markdown",
   "metadata": {},
   "source": [
    "# read particle data"
   ]
  },
  {
   "cell_type": "markdown",
   "metadata": {},
   "source": [
    "This tutorial assumes that you first move within a simulation directory, where you should see the directory \"output/\" and a file \"snapshot_times.txt\"."
   ]
  },
  {
   "cell_type": "code",
   "execution_count": 2,
   "metadata": {
    "collapsed": false
   },
   "outputs": [
    {
     "name": "stdout",
     "output_type": "stream",
     "text": [
      "# in utilities.simulation.Snapshot():\n",
      "  read snapshot_times.txt\n",
      "# in gizmo.gizmo_io.Read():\n",
      "  input redshift = 0.000 -> read snapshot index = 600, redshift = 0.000\n",
      "\n",
      "  reading header from: ./output/snapshot_600.hdf5\n",
      "\n",
      "  species name = star    (id = 4): 2676711 particles\n",
      "  species name = dark    (id = 1): 8820344 particles\n",
      "\n",
      "  reading properties from: snapshot_600.hdf5\n",
      "\n",
      "  assigning center:\n",
      "    position: 41828.299, 44131.816, 46298.299 kpc comoving\n",
      "    velocity: -54.9, 75.7, 97.0 km / sec\n",
      "\n"
     ]
    }
   ],
   "source": [
    "# read star and dark matter particles at z = 0\n",
    "part = gizmo.io.Read.read_snapshot(['star', 'dark'], 'redshift', 0, element_indices=None)"
   ]
  },
  {
   "cell_type": "code",
   "execution_count": 3,
   "metadata": {
    "collapsed": false
   },
   "outputs": [
    {
     "name": "stdout",
     "output_type": "stream",
     "text": [
      "# in utilities.simulation.Snapshot():\n",
      "  read snapshot_times.txt\n",
      "  input redshift = 0.000 -> read snapshot index = 600, redshift = 0.000\n",
      "\n",
      "  reading header from: ./output/snapshot_600.hdf5\n",
      "\n",
      "  species name = dark    (id = 1): 8820344 particles\n",
      "  species name = dark.2  (id = 2): 3081337 particles\n",
      "  species name = dark.3  (id = 3): 0 particles\n",
      "  species name = dark.4  (id = 5): 0 particles\n",
      "  species name = gas     (id = 0): 6238304 particles\n",
      "  species name = star    (id = 4): 2676711 particles\n",
      "\n",
      "  reading properties from: snapshot_600.hdf5\n",
      "\n",
      "  separating lower-resolution dark-matter species:\n",
      "    dark.2: 619505 particles\n",
      "    dark.3: 222576 particles\n",
      "    dark.4: 97647 particles\n",
      "    dark.5: 53529 particles\n",
      "    dark.6: 2088080 particles\n",
      "\n",
      "  assigning center:\n",
      "    position: 41828.299, 44131.816, 46298.299 kpc comoving\n",
      "    velocity: -54.9, 75.7, 97.0 km / sec\n",
      "\n"
     ]
    }
   ],
   "source": [
    "# alternately, read all particle species at z = 0\n",
    "part = gizmo.io.Read.read_snapshot('all', 'redshift', 0, element_indices=None)"
   ]
  },
  {
   "cell_type": "code",
   "execution_count": 4,
   "metadata": {
    "collapsed": false
   },
   "outputs": [
    {
     "data": {
      "text/plain": [
       "dict_keys(['id', 'position', 'velocity', 'potential', 'form.time', 'mass', 'massfraction'])"
      ]
     },
     "execution_count": 4,
     "metadata": {},
     "output_type": "execute_result"
    }
   ],
   "source": [
    "# list properties for star particles\n",
    "part['star'].keys()"
   ]
  },
  {
   "cell_type": "code",
   "execution_count": 5,
   "metadata": {
    "collapsed": false
   },
   "outputs": [
    {
     "data": {
      "text/plain": [
       "dict_keys(['id', 'mass', 'position', 'velocity', 'potential'])"
      ]
     },
     "execution_count": 5,
     "metadata": {},
     "output_type": "execute_result"
    }
   ],
   "source": [
    "# list properties for dark matter particles\n",
    "part['dark'].keys()"
   ]
  },
  {
   "cell_type": "markdown",
   "metadata": {},
   "source": [
    "# particle properties"
   ]
  },
  {
   "cell_type": "code",
   "execution_count": 6,
   "metadata": {
    "collapsed": false
   },
   "outputs": [
    {
     "data": {
      "text/plain": [
       "array([[ 43404.32716737,  44241.0645819 ,  46861.6149919 ],\n",
       "       [ 41829.62607512,  44134.22282504,  46297.81066636],\n",
       "       [ 41829.62190049,  44134.26519893,  46297.83252393],\n",
       "       ..., \n",
       "       [ 42733.2893951 ,  46602.56411316,  47237.96963884],\n",
       "       [ 42725.43343062,  46619.07890577,  47232.64938684],\n",
       "       [ 40900.98810306,  46026.01006731,  46365.09143609]])"
      ]
     },
     "execution_count": 6,
     "metadata": {},
     "output_type": "execute_result"
    }
   ],
   "source": [
    "# 3-D positions of star particles [Mpc comoving]\n",
    "part['star']['position']"
   ]
  },
  {
   "cell_type": "code",
   "execution_count": 7,
   "metadata": {
    "collapsed": false
   },
   "outputs": [
    {
     "data": {
      "text/plain": [
       "array([[ -77.88859558,   80.36497498,   87.00860596],\n",
       "       [-196.35705566,   -1.0675317 ,  162.81796265],\n",
       "       [-115.76621246,   23.97188759, -298.89889526],\n",
       "       ..., \n",
       "       [ -57.2286911 ,  141.61312866,  195.47262573],\n",
       "       [ -44.97345352,   70.45106506,  140.08004761],\n",
       "       [  18.3167038 ,  201.93281555,  134.84640503]], dtype=float32)"
      ]
     },
     "execution_count": 7,
     "metadata": {},
     "output_type": "execute_result"
    }
   ],
   "source": [
    "# 3-D velocities of star particles [km/s]\n",
    "part['star']['velocity']"
   ]
  },
  {
   "cell_type": "code",
   "execution_count": 8,
   "metadata": {
    "collapsed": false
   },
   "outputs": [
    {
     "data": {
      "text/plain": [
       "array([ 36832.87890625,  42527.5       ,  49647.203125  , ...,\n",
       "        38232.65625   ,  55845.79296875,  40206.25      ], dtype=float32)"
      ]
     },
     "execution_count": 8,
     "metadata": {},
     "output_type": "execute_result"
    }
   ],
   "source": [
    "# masses of star particles [M_sun]\n",
    "part['star']['mass']"
   ]
  },
  {
   "cell_type": "code",
   "execution_count": 9,
   "metadata": {
    "collapsed": false
   },
   "outputs": [
    {
     "data": {
      "text/plain": [
       "array([  1.5344727 ,   4.18268871,   8.50270748, ...,   8.45004845,\n",
       "        12.43132496,   6.75163698], dtype=float32)"
      ]
     },
     "execution_count": 9,
     "metadata": {},
     "output_type": "execute_result"
    }
   ],
   "source": [
    "# formation times of star particles (age of Universe when star formed) [Gyr]\n",
    "part['star']['form.time']"
   ]
  },
  {
   "cell_type": "code",
   "execution_count": 10,
   "metadata": {
    "collapsed": false
   },
   "outputs": [
    {
     "data": {
      "text/plain": [
       "array([ 12.2642746 ,   9.61605835,   5.29603958, ...,   5.34869862,\n",
       "         1.3674221 ,   7.04711008], dtype=float32)"
      ]
     },
     "execution_count": 10,
     "metadata": {},
     "output_type": "execute_result"
    }
   ],
   "source": [
    "# use .prop() to compute derived quantities, such as lookback time to when stars formed\n",
    "# see gizmo.io.ParticleDictionaryClass for all options for derived quantities\n",
    "part['star'].prop('form.time.lookback')"
   ]
  },
  {
   "cell_type": "markdown",
   "metadata": {},
   "source": [
    "# metallicities"
   ]
  },
  {
   "cell_type": "code",
   "execution_count": 11,
   "metadata": {
    "collapsed": false
   },
   "outputs": [
    {
     "data": {
      "text/plain": [
       "array([[  4.45723435e-06,   2.50015676e-01,   2.34313006e-06, ...,\n",
       "          2.73774458e-11,   2.73774458e-11,   4.37407222e-10],\n",
       "       [  1.02571175e-02,   2.65897214e-01,   2.40048347e-03, ...,\n",
       "          3.96579338e-07,   1.59161416e-07,   1.70034150e-06],\n",
       "       [  2.57504582e-02,   2.75598407e-01,   3.77581222e-03, ...,\n",
       "          1.97848166e-07,   6.34900772e-08,   7.56074712e-07],\n",
       "       ..., \n",
       "       [  4.51933639e-03,   2.53701806e-01,   4.91046521e-04, ...,\n",
       "          1.14925342e-07,   1.12263221e-08,   2.82759657e-07],\n",
       "       [  2.24826373e-02,   2.73866057e-01,   3.53248743e-03, ...,\n",
       "          2.54000327e-07,   5.17778815e-08,   8.25259349e-07],\n",
       "       [  5.01621468e-03,   2.54146904e-01,   5.45918709e-04, ...,\n",
       "          4.23384670e-08,   1.60616356e-08,   1.51798048e-07]], dtype=float32)"
      ]
     },
     "execution_count": 11,
     "metadata": {},
     "output_type": "execute_result"
    }
   ],
   "source": [
    "# mass fraction of various elements - stored as particle_number x element_number array\n",
    "part['star']['massfraction']"
   ]
  },
  {
   "cell_type": "code",
   "execution_count": 12,
   "metadata": {
    "collapsed": false
   },
   "outputs": [
    {
     "name": "stdout",
     "output_type": "stream",
     "text": [
      "[  4.45723435e-06   1.02571175e-02   2.57504582e-02 ...,   4.51933639e-03\n",
      "   2.24826373e-02   5.01621468e-03]\n",
      "[  1.73009084e-07   4.23278660e-04   8.87653325e-04 ...,   1.72112574e-04\n",
      "   9.04701883e-04   1.88561942e-04]\n"
     ]
    }
   ],
   "source": [
    "# get individual elements by their index\n",
    "# total metals = 0\n",
    "print(part['star']['massfraction'][:, 0])\n",
    "# iron = 10\n",
    "print(part['star']['massfraction'][:, 10])"
   ]
  },
  {
   "cell_type": "code",
   "execution_count": 13,
   "metadata": {
    "collapsed": false
   },
   "outputs": [
    {
     "name": "stdout",
     "output_type": "stream",
     "text": [
      "[  4.45723435e-06   1.02571175e-02   2.57504582e-02 ...,   4.51933639e-03\n",
      "   2.24826373e-02   5.01621468e-03]\n",
      "[  1.73009084e-07   4.23278660e-04   8.87653325e-04 ...,   1.72112574e-04\n",
      "   9.04701883e-04   1.88561942e-04]\n"
     ]
    }
   ],
   "source": [
    "# alternately, use .prop() to compute derived quantities, such as calling elements by their name\n",
    "# see gizmo.io.ParticleDictionaryClass for all options for derived quantities\n",
    "print(part['star'].prop('massfraction.metals'))\n",
    "print(part['star'].prop('massfraction.iron'))"
   ]
  },
  {
   "cell_type": "code",
   "execution_count": 14,
   "metadata": {
    "collapsed": false
   },
   "outputs": [
    {
     "data": {
      "text/plain": [
       "array([  1.33787136e-04,   3.27319473e-01,   6.86418295e-01, ...,\n",
       "         1.33093879e-01,   6.99601889e-01,   1.45814091e-01], dtype=float32)"
      ]
     },
     "execution_count": 14,
     "metadata": {},
     "output_type": "execute_result"
    }
   ],
   "source": [
    "# get metallicity := (mass_iron / mass_hydrogen)_particle / (mass_iron / mass_hydrogen)_sun\n",
    "part['star'].prop('metallicity.iron')"
   ]
  },
  {
   "cell_type": "code",
   "execution_count": 15,
   "metadata": {
    "collapsed": false
   },
   "outputs": [
    {
     "data": {
      "text/plain": [
       "{'calcium.abundance': 2.1877616239495517e-06,\n",
       " 'calcium.massfraction': 6.420379718268677e-05,\n",
       " 'carbon.abundance': 0.0002691534803926914,\n",
       " 'carbon.massfraction': 0.002367134813394483,\n",
       " 'helium.abundance': 0.08511380382023759,\n",
       " 'helium.massfraction': 0.2485,\n",
       " 'hydrogen.massfraction': 0.7381,\n",
       " 'iron.abundance': 3.1622776601683795e-05,\n",
       " 'iron.massfraction': 0.0012931667271008657,\n",
       " 'magnesium.abundance': 3.9810717055349695e-05,\n",
       " 'magnesium.massfraction': 0.0007085170384267315,\n",
       " 'metal.massfraction': 0.0134,\n",
       " 'neon.abundance': 8.51138038202376e-05,\n",
       " 'neon.massfraction': 0.0012576777529689648,\n",
       " 'nitrogen.abundance': 6.760829753919819e-05,\n",
       " 'nitrogen.massfraction': 0.0006934106379733354,\n",
       " 'oxygen.abundance': 0.0004897788193684457,\n",
       " 'oxygen.massfraction': 0.005737971271592906,\n",
       " 'silicon.abundance': 3.235936569296281e-05,\n",
       " 'silicon.massfraction': 0.0006654827968172229,\n",
       " 'sulphur.abundance': 1.3182567385564074e-05,\n",
       " 'sulphur.massfraction': 0.00030951800499730997}"
      ]
     },
     "execution_count": 15,
     "metadata": {},
     "output_type": "execute_result"
    }
   ],
   "source": [
    "# refer to ut.basic.constants for assumed solar values (and other constants)\n",
    "ut.basic.constants.sun_composition"
   ]
  },
  {
   "cell_type": "markdown",
   "metadata": {},
   "source": [
    "# additional information stored in sub-dictionaries"
   ]
  },
  {
   "cell_type": "code",
   "execution_count": 16,
   "metadata": {
    "collapsed": false
   },
   "outputs": [
    {
     "data": {
      "text/plain": [
       "{'box.length': 85470.085470085469,\n",
       " 'box.length/h': 60000.0,\n",
       " 'catalog.kind': 'particle',\n",
       " 'file.number.per.snapshot': 1,\n",
       " 'has.baryons': True,\n",
       " 'has.cooling': 1,\n",
       " 'has.double.precision': 0,\n",
       " 'has.feedback': 1,\n",
       " 'has.ic.info': 3,\n",
       " 'has.metals': 17,\n",
       " 'has.star.age': 1,\n",
       " 'has.star.formation': 1,\n",
       " 'hubble': 0.70199999999999996,\n",
       " 'is.cosmological': True,\n",
       " 'mass.array': array([ 0.,  0.,  0.,  0.,  0.,  0.]),\n",
       " 'omega_lambda': 0.72799999999999998,\n",
       " 'omega_matter': 0.27200000000000002,\n",
       " 'particle.numbers.in.file': array([6238304, 8820344, 3081337,       0, 2676711,       0], dtype=int32),\n",
       " 'particle.numbers.total': array([6238304, 8820344, 3081337,       0, 2676711,       0], dtype=uint32),\n",
       " 'particle.numbers.total.high.word': array([0, 0, 0, 0, 0, 0], dtype=uint32),\n",
       " 'redshift': 0.0,\n",
       " 'scalefactor': 1.0,\n",
       " 'simulation.name': ''}"
      ]
     },
     "execution_count": 16,
     "metadata": {},
     "output_type": "execute_result"
    }
   ],
   "source": [
    "# dictionary of useful information about the simulation\n",
    "part.info"
   ]
  },
  {
   "cell_type": "code",
   "execution_count": 17,
   "metadata": {
    "collapsed": false
   },
   "outputs": [
    {
     "data": {
      "text/plain": [
       "{'index': 600,\n",
       " 'redshift': 0.0,\n",
       " 'scalefactor': 1.0,\n",
       " 'time': 13.798746882658463,\n",
       " 'time.hubble': 13.928664125669004,\n",
       " 'time.lookback': 0.0}"
      ]
     },
     "execution_count": 17,
     "metadata": {},
     "output_type": "execute_result"
    }
   ],
   "source": [
    "# dictionary of information about this snapshot's time, redshift, and so on\n",
    "part.snapshot"
   ]
  },
  {
   "cell_type": "code",
   "execution_count": 18,
   "metadata": {
    "collapsed": false
   },
   "outputs": [
    {
     "name": "stdout",
     "output_type": "stream",
     "text": [
      "dict_keys(['time', 'time.width', 'index', 'scalefactor', 'redshift'])\n",
      "[ 99.          19.          15.          14.60591125  14.23076916\n",
      "  13.87323952  13.53211021  13.20627785  12.89473724  12.5965662 ]\n"
     ]
    }
   ],
   "source": [
    "# dictionary of arrays about *all* available snapshots\n",
    "print(part.Snapshot.keys())\n",
    "print(part.Snapshot['redshift'][:10])"
   ]
  },
  {
   "cell_type": "code",
   "execution_count": 19,
   "metadata": {
    "collapsed": false
   },
   "outputs": [
    {
     "name": "stdout",
     "output_type": "stream",
     "text": [
      "[ 41828.29855592  44131.81641369  46298.29883617]\n",
      "[-54.86215973  75.65358734  97.02519226]\n"
     ]
    }
   ],
   "source": [
    "# position [kpc comoving] and velocity [km/s] of the center of the host galaxy\n",
    "# this was computed during read in, using ut.particle.get_center_position() and ut.particle.get_center_velocity()\n",
    "# several routines in gizmo.analysis use this when computing profiles\n",
    "print(part.center_position)\n",
    "print(part.center_velocity)"
   ]
  },
  {
   "cell_type": "markdown",
   "metadata": {},
   "source": [
    "See gizmo.analysis for examples of high-level analysis, including plotting these data.\n",
    "\n",
    "See ut.particle for mid-level analysis routines that may be useful.\n",
    "\n",
    "See other modules within utilities (ut.[name]) for low-level routines that may be useful."
   ]
  }
 ],
 "metadata": {
  "kernelspec": {
   "display_name": "Python 3",
   "language": "python",
   "name": "python3"
  },
  "language_info": {
   "codemirror_mode": {
    "name": "ipython",
    "version": 3
   },
   "file_extension": ".py",
   "mimetype": "text/x-python",
   "name": "python",
   "nbconvert_exporter": "python",
   "pygments_lexer": "ipython3",
   "version": "3.5.1"
  }
 },
 "nbformat": 4,
 "nbformat_minor": 0
}
